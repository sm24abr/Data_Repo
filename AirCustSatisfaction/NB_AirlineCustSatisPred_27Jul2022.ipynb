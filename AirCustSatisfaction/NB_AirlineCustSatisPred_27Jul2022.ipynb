{
  "cells": [
    {
      "cell_type": "markdown",
      "metadata": {
        "id": "4GHI4ZRYSKQi"
      },
      "source": [
        "# *Introduction*\n",
        "\n",
        "------------\n",
        "> *Our client for this project is an Airline Company- **Fly High**.*\n",
        "\n",
        "[![FH](https://www.insaid.co/wp-content/uploads/2021/05/flyhigh-logo.png \"FH\")](https://www.insaid.co/wp-content/uploads/2021/05/flyhigh-logo.png \"FH\")\n",
        "\n",
        "•\tDue to fierce competition in the airline industry, the company needs to focus on the passenger's experience and satisfaction.\n",
        "\n",
        "•\tCustomer feedback, in particular, is critical since it is an outcome measurement for business performance.\n",
        "\n",
        "•\tSo, they need to analyze the data of the passenger's travel history.\n",
        "\n",
        "•\tOne of the key measurements in this process is whether the passenger feels satisfied or not.\n",
        "\n",
        "---------------"
      ]
    },
    {
      "cell_type": "markdown",
      "metadata": {
        "id": "xEaB4spYSJ5m"
      },
      "source": [
        "# *Problem Statement*\n",
        "\n",
        "------------\n",
        "------------\n",
        "\n",
        "Currently, they have a manual process to analyze the customer satisfaction based on the number of feedback and complaint mail that they receive.\n",
        "The current process suffers from the following problems:\n",
        "\n",
        "\n",
        ">  •\tAnalyzing the data of passengers manually and to understand whether a passenger is satisfied or not is a tedious task.\n",
        "\n",
        "\n",
        "\n",
        "\n",
        "> •\tThis process needs to be repeated every time they receive some feedback.\n",
        "The company has hired you as data science consultants.\n",
        "\n",
        "They want to automate the process of predicting the passenger satisfaction based on the travel history data collected by the airline company\n",
        "\n",
        "Our key responsibility is to build the most efficient model with the highest accuracy for resolving this issue.\n",
        "\n",
        "\n",
        "---------------\n"
      ]
    },
    {
      "cell_type": "markdown",
      "metadata": {
        "id": "TeGwOFS8SMBx"
      },
      "source": [
        "# *Dataset Feature Description*\n",
        "\n",
        "The Dataset contains the following columns:\n",
        "\n",
        "\n",
        "|**Column Name**|**Description**|\n",
        "| ------------- |:-------------                                               :| \n",
        "| Id | Unique Id  |\n",
        "|Gender|Gender of the Passenger|\n",
        "|Customer Type|If the customer is loyal or disloyal|\n",
        "|Age|Age of the customer|\n",
        "|Type of Travel|If the travel is for a business or a personal purpose|\n",
        "|Class|Class of the aircraft in which the customer is travelling|\n",
        "|Flight Distance|Distance covered by the flight|\n",
        "|Inflight wifi service|If there is inflight wifi service or not|\n",
        "|Departure/Arrival time convenient|Rating by the customer for Departure/Arrival Time|\n",
        "|Ease of Online booking|Rating by the customer for this facility|\n",
        "|Gate location|Rating by the customer for this facility|\n",
        "|Food and drink|Rating by the customer for this facility|\n",
        "|Online boarding|Rating by the customer for this facility|\n",
        "|Seat comfort|Rating by the customer for this facility|\n",
        "|Inflight entertainment|Rating by the customer for this facility|\n",
        "|On-board service|Rating by the customer for this facility|\n",
        "|Leg room service|Rating by the customer for this facility|\n",
        "|Baggage handling|Rating by the customer for this facility|\n",
        "|Checkin service|Rating by the customer for this facility|\n",
        "|Inflight service|Rating by the customer for this facility|\n",
        "|Cleanliness|Rating by the customer for this facility|\n",
        "|Departure Delay in Minutes|Rating by the customer for this facility|\n",
        "|Arrival Delay in Minutes|Rating by the customer for this facility|\n",
        "|satisfaction|If the passenger is satisfied or not|\n",
        "|-----------------------------------------------------------------------|-----------------------------------------------------------------------------------------| \n",
        "\n"
      ]
    },
    {
      "cell_type": "markdown",
      "metadata": {
        "id": "vdjBi8gHR_Ma"
      },
      "source": [
        "# *Importing all Libraries*"
      ]
    },
    {
      "cell_type": "code",
      "execution_count": 115,
      "metadata": {
        "id": "ko9ajZtNgfZR"
      },
      "outputs": [],
      "source": [
        "import pandas as pd\n",
        "import numpy as np\n",
        "import seaborn as sns\n",
        "import matplotlib.pyplot as plt\n",
        "from pandas_profiling import ProfileReport \n",
        "%matplotlib inline\n",
        "\n",
        "from sklearn.model_selection import train_test_split\n",
        "from sklearn.naive_bayes import GaussianNB\n",
        "from sklearn.ensemble import RandomForestClassifier\n",
        "from sklearn.linear_model import LogisticRegression\n",
        "from sklearn.tree import DecisionTreeClassifier\n",
        "from scipy.stats import chi2_contingency\n",
        "\n",
        "from sklearn.metrics import confusion_matrix, classification_report, accuracy_score\n"
      ]
    },
    {
      "cell_type": "markdown",
      "metadata": {
        "id": "ynfHzL8zVIrQ"
      },
      "source": [
        "# *Load the Input files*"
      ]
    },
    {
      "cell_type": "code",
      "execution_count": 116,
      "metadata": {
        "id": "v73W7f8dgiya"
      },
      "outputs": [],
      "source": [
        "test = pd.read_csv('https://raw.githubusercontent.com/sm24abr/Data_Repo/main/AirCustSatisfaction/cust_test.csv')\n",
        "train = pd.read_csv('https://raw.githubusercontent.com/sm24abr/Data_Repo/main/AirCustSatisfaction/cust_train.csv')"
      ]
    },
    {
      "cell_type": "code",
      "execution_count": 117,
      "metadata": {
        "colab": {
          "base_uri": "https://localhost:8080/",
          "height": 438
        },
        "id": "AD5aa6jIjddC",
        "outputId": "3d70658e-6590-4629-9727-f497d3637787"
      },
      "outputs": [
        {
          "output_type": "execute_result",
          "data": {
            "text/plain": [
              "      id  Gender      Customer Type  Age   Type of Travel     Class  \\\n",
              "0  23509    Male     Loyal Customer   41  Business travel       Eco   \n",
              "1  31011  Female     Loyal Customer   18  Business travel  Business   \n",
              "2  29345  Female     Loyal Customer   13  Personal Travel  Eco Plus   \n",
              "3  50242    Male  disloyal Customer   23  Business travel       Eco   \n",
              "4  22244    Male     Loyal Customer   23  Personal Travel  Business   \n",
              "\n",
              "   Flight Distance  Inflight wifi service  Departure/Arrival time convenient  \\\n",
              "0              303                      5                                  3   \n",
              "1              391                      1                                  5   \n",
              "2              569                      2                                  4   \n",
              "3              109                      1                                  0   \n",
              "4               83                      4                                  5   \n",
              "\n",
              "   Ease of Online booking  ...  Seat comfort  Inflight entertainment  \\\n",
              "0                       3  ...             5                       5   \n",
              "1                       5  ...             1                       1   \n",
              "2                       2  ...             1                       1   \n",
              "3                       1  ...             1                       3   \n",
              "4                       0  ...             5                       5   \n",
              "\n",
              "   On-board service  Leg room service  Baggage handling  Checkin service  \\\n",
              "0                 4                 3                 3                5   \n",
              "1                 4                 3                 3                1   \n",
              "2                 5                 4                 4                5   \n",
              "3                 2                 5                 5                3   \n",
              "4                 3                 5                 4                3   \n",
              "\n",
              "   Inflight service  Cleanliness  Departure Delay in Minutes  \\\n",
              "0                 5            5                           0   \n",
              "1                 4            1                          17   \n",
              "2                 5            1                           0   \n",
              "3                 1            3                           0   \n",
              "4                 5            5                           0   \n",
              "\n",
              "   Arrival Delay in Minutes  \n",
              "0                       0.0  \n",
              "1                      17.0  \n",
              "2                       0.0  \n",
              "3                       0.0  \n",
              "4                       0.0  \n",
              "\n",
              "[5 rows x 23 columns]"
            ],
            "text/html": [
              "\n",
              "  <div id=\"df-2ac51cb0-63c3-4a80-92c0-af5e068e6e94\">\n",
              "    <div class=\"colab-df-container\">\n",
              "      <div>\n",
              "<style scoped>\n",
              "    .dataframe tbody tr th:only-of-type {\n",
              "        vertical-align: middle;\n",
              "    }\n",
              "\n",
              "    .dataframe tbody tr th {\n",
              "        vertical-align: top;\n",
              "    }\n",
              "\n",
              "    .dataframe thead th {\n",
              "        text-align: right;\n",
              "    }\n",
              "</style>\n",
              "<table border=\"1\" class=\"dataframe\">\n",
              "  <thead>\n",
              "    <tr style=\"text-align: right;\">\n",
              "      <th></th>\n",
              "      <th>id</th>\n",
              "      <th>Gender</th>\n",
              "      <th>Customer Type</th>\n",
              "      <th>Age</th>\n",
              "      <th>Type of Travel</th>\n",
              "      <th>Class</th>\n",
              "      <th>Flight Distance</th>\n",
              "      <th>Inflight wifi service</th>\n",
              "      <th>Departure/Arrival time convenient</th>\n",
              "      <th>Ease of Online booking</th>\n",
              "      <th>...</th>\n",
              "      <th>Seat comfort</th>\n",
              "      <th>Inflight entertainment</th>\n",
              "      <th>On-board service</th>\n",
              "      <th>Leg room service</th>\n",
              "      <th>Baggage handling</th>\n",
              "      <th>Checkin service</th>\n",
              "      <th>Inflight service</th>\n",
              "      <th>Cleanliness</th>\n",
              "      <th>Departure Delay in Minutes</th>\n",
              "      <th>Arrival Delay in Minutes</th>\n",
              "    </tr>\n",
              "  </thead>\n",
              "  <tbody>\n",
              "    <tr>\n",
              "      <th>0</th>\n",
              "      <td>23509</td>\n",
              "      <td>Male</td>\n",
              "      <td>Loyal Customer</td>\n",
              "      <td>41</td>\n",
              "      <td>Business travel</td>\n",
              "      <td>Eco</td>\n",
              "      <td>303</td>\n",
              "      <td>5</td>\n",
              "      <td>3</td>\n",
              "      <td>3</td>\n",
              "      <td>...</td>\n",
              "      <td>5</td>\n",
              "      <td>5</td>\n",
              "      <td>4</td>\n",
              "      <td>3</td>\n",
              "      <td>3</td>\n",
              "      <td>5</td>\n",
              "      <td>5</td>\n",
              "      <td>5</td>\n",
              "      <td>0</td>\n",
              "      <td>0.0</td>\n",
              "    </tr>\n",
              "    <tr>\n",
              "      <th>1</th>\n",
              "      <td>31011</td>\n",
              "      <td>Female</td>\n",
              "      <td>Loyal Customer</td>\n",
              "      <td>18</td>\n",
              "      <td>Business travel</td>\n",
              "      <td>Business</td>\n",
              "      <td>391</td>\n",
              "      <td>1</td>\n",
              "      <td>5</td>\n",
              "      <td>5</td>\n",
              "      <td>...</td>\n",
              "      <td>1</td>\n",
              "      <td>1</td>\n",
              "      <td>4</td>\n",
              "      <td>3</td>\n",
              "      <td>3</td>\n",
              "      <td>1</td>\n",
              "      <td>4</td>\n",
              "      <td>1</td>\n",
              "      <td>17</td>\n",
              "      <td>17.0</td>\n",
              "    </tr>\n",
              "    <tr>\n",
              "      <th>2</th>\n",
              "      <td>29345</td>\n",
              "      <td>Female</td>\n",
              "      <td>Loyal Customer</td>\n",
              "      <td>13</td>\n",
              "      <td>Personal Travel</td>\n",
              "      <td>Eco Plus</td>\n",
              "      <td>569</td>\n",
              "      <td>2</td>\n",
              "      <td>4</td>\n",
              "      <td>2</td>\n",
              "      <td>...</td>\n",
              "      <td>1</td>\n",
              "      <td>1</td>\n",
              "      <td>5</td>\n",
              "      <td>4</td>\n",
              "      <td>4</td>\n",
              "      <td>5</td>\n",
              "      <td>5</td>\n",
              "      <td>1</td>\n",
              "      <td>0</td>\n",
              "      <td>0.0</td>\n",
              "    </tr>\n",
              "    <tr>\n",
              "      <th>3</th>\n",
              "      <td>50242</td>\n",
              "      <td>Male</td>\n",
              "      <td>disloyal Customer</td>\n",
              "      <td>23</td>\n",
              "      <td>Business travel</td>\n",
              "      <td>Eco</td>\n",
              "      <td>109</td>\n",
              "      <td>1</td>\n",
              "      <td>0</td>\n",
              "      <td>1</td>\n",
              "      <td>...</td>\n",
              "      <td>1</td>\n",
              "      <td>3</td>\n",
              "      <td>2</td>\n",
              "      <td>5</td>\n",
              "      <td>5</td>\n",
              "      <td>3</td>\n",
              "      <td>1</td>\n",
              "      <td>3</td>\n",
              "      <td>0</td>\n",
              "      <td>0.0</td>\n",
              "    </tr>\n",
              "    <tr>\n",
              "      <th>4</th>\n",
              "      <td>22244</td>\n",
              "      <td>Male</td>\n",
              "      <td>Loyal Customer</td>\n",
              "      <td>23</td>\n",
              "      <td>Personal Travel</td>\n",
              "      <td>Business</td>\n",
              "      <td>83</td>\n",
              "      <td>4</td>\n",
              "      <td>5</td>\n",
              "      <td>0</td>\n",
              "      <td>...</td>\n",
              "      <td>5</td>\n",
              "      <td>5</td>\n",
              "      <td>3</td>\n",
              "      <td>5</td>\n",
              "      <td>4</td>\n",
              "      <td>3</td>\n",
              "      <td>5</td>\n",
              "      <td>5</td>\n",
              "      <td>0</td>\n",
              "      <td>0.0</td>\n",
              "    </tr>\n",
              "  </tbody>\n",
              "</table>\n",
              "<p>5 rows × 23 columns</p>\n",
              "</div>\n",
              "      <button class=\"colab-df-convert\" onclick=\"convertToInteractive('df-2ac51cb0-63c3-4a80-92c0-af5e068e6e94')\"\n",
              "              title=\"Convert this dataframe to an interactive table.\"\n",
              "              style=\"display:none;\">\n",
              "        \n",
              "  <svg xmlns=\"http://www.w3.org/2000/svg\" height=\"24px\"viewBox=\"0 0 24 24\"\n",
              "       width=\"24px\">\n",
              "    <path d=\"M0 0h24v24H0V0z\" fill=\"none\"/>\n",
              "    <path d=\"M18.56 5.44l.94 2.06.94-2.06 2.06-.94-2.06-.94-.94-2.06-.94 2.06-2.06.94zm-11 1L8.5 8.5l.94-2.06 2.06-.94-2.06-.94L8.5 2.5l-.94 2.06-2.06.94zm10 10l.94 2.06.94-2.06 2.06-.94-2.06-.94-.94-2.06-.94 2.06-2.06.94z\"/><path d=\"M17.41 7.96l-1.37-1.37c-.4-.4-.92-.59-1.43-.59-.52 0-1.04.2-1.43.59L10.3 9.45l-7.72 7.72c-.78.78-.78 2.05 0 2.83L4 21.41c.39.39.9.59 1.41.59.51 0 1.02-.2 1.41-.59l7.78-7.78 2.81-2.81c.8-.78.8-2.07 0-2.86zM5.41 20L4 18.59l7.72-7.72 1.47 1.35L5.41 20z\"/>\n",
              "  </svg>\n",
              "      </button>\n",
              "      \n",
              "  <style>\n",
              "    .colab-df-container {\n",
              "      display:flex;\n",
              "      flex-wrap:wrap;\n",
              "      gap: 12px;\n",
              "    }\n",
              "\n",
              "    .colab-df-convert {\n",
              "      background-color: #E8F0FE;\n",
              "      border: none;\n",
              "      border-radius: 50%;\n",
              "      cursor: pointer;\n",
              "      display: none;\n",
              "      fill: #1967D2;\n",
              "      height: 32px;\n",
              "      padding: 0 0 0 0;\n",
              "      width: 32px;\n",
              "    }\n",
              "\n",
              "    .colab-df-convert:hover {\n",
              "      background-color: #E2EBFA;\n",
              "      box-shadow: 0px 1px 2px rgba(60, 64, 67, 0.3), 0px 1px 3px 1px rgba(60, 64, 67, 0.15);\n",
              "      fill: #174EA6;\n",
              "    }\n",
              "\n",
              "    [theme=dark] .colab-df-convert {\n",
              "      background-color: #3B4455;\n",
              "      fill: #D2E3FC;\n",
              "    }\n",
              "\n",
              "    [theme=dark] .colab-df-convert:hover {\n",
              "      background-color: #434B5C;\n",
              "      box-shadow: 0px 1px 3px 1px rgba(0, 0, 0, 0.15);\n",
              "      filter: drop-shadow(0px 1px 2px rgba(0, 0, 0, 0.3));\n",
              "      fill: #FFFFFF;\n",
              "    }\n",
              "  </style>\n",
              "\n",
              "      <script>\n",
              "        const buttonEl =\n",
              "          document.querySelector('#df-2ac51cb0-63c3-4a80-92c0-af5e068e6e94 button.colab-df-convert');\n",
              "        buttonEl.style.display =\n",
              "          google.colab.kernel.accessAllowed ? 'block' : 'none';\n",
              "\n",
              "        async function convertToInteractive(key) {\n",
              "          const element = document.querySelector('#df-2ac51cb0-63c3-4a80-92c0-af5e068e6e94');\n",
              "          const dataTable =\n",
              "            await google.colab.kernel.invokeFunction('convertToInteractive',\n",
              "                                                     [key], {});\n",
              "          if (!dataTable) return;\n",
              "\n",
              "          const docLinkHtml = 'Like what you see? Visit the ' +\n",
              "            '<a target=\"_blank\" href=https://colab.research.google.com/notebooks/data_table.ipynb>data table notebook</a>'\n",
              "            + ' to learn more about interactive tables.';\n",
              "          element.innerHTML = '';\n",
              "          dataTable['output_type'] = 'display_data';\n",
              "          await google.colab.output.renderOutput(dataTable, element);\n",
              "          const docLink = document.createElement('div');\n",
              "          docLink.innerHTML = docLinkHtml;\n",
              "          element.appendChild(docLink);\n",
              "        }\n",
              "      </script>\n",
              "    </div>\n",
              "  </div>\n",
              "  "
            ]
          },
          "metadata": {},
          "execution_count": 117
        }
      ],
      "source": [
        "test.head()"
      ]
    },
    {
      "cell_type": "code",
      "execution_count": 118,
      "metadata": {
        "colab": {
          "base_uri": "https://localhost:8080/",
          "height": 438
        },
        "id": "2HmlBsmfjdXu",
        "outputId": "c92f45f2-b72d-435e-c0bd-707ef5d2ddac"
      },
      "outputs": [
        {
          "output_type": "execute_result",
          "data": {
            "text/plain": [
              "      id  Gender      Customer Type  Age   Type of Travel     Class  \\\n",
              "0  51032  Female     Loyal Customer   30  Personal Travel       Eco   \n",
              "1  54504  Female     Loyal Customer   51  Business travel       Eco   \n",
              "2  13387    Male  disloyal Customer   27  Business travel       Eco   \n",
              "3  17388  Female     Loyal Customer   52  Business travel  Business   \n",
              "4  91598  Female  disloyal Customer   15  Business travel       Eco   \n",
              "\n",
              "   Flight Distance  Inflight wifi service  Departure/Arrival time convenient  \\\n",
              "0              193                      3                                  4   \n",
              "1              925                      2                                  1   \n",
              "2              505                      0                                  0   \n",
              "3             2953                      2                                  2   \n",
              "4             1352                      4                                  4   \n",
              "\n",
              "   Ease of Online booking  ...  Inflight entertainment  On-board service  \\\n",
              "0                       0  ...                       5                 4   \n",
              "1                       1  ...                       2                 2   \n",
              "2                       0  ...                       1                 5   \n",
              "3                       2  ...                       5                 5   \n",
              "4                       4  ...                       2                 4   \n",
              "\n",
              "   Leg room service  Baggage handling  Checkin service  Inflight service  \\\n",
              "0                 5                 3                4                 4   \n",
              "1                 2                 2                3                 2   \n",
              "2                 5                 2                3                 2   \n",
              "3                 5                 5                4                 5   \n",
              "4                 3                 5                3                 5   \n",
              "\n",
              "   Cleanliness  Departure Delay in Minutes  Arrival Delay in Minutes  \\\n",
              "0            5                           0                       0.0   \n",
              "1            3                          47                      29.0   \n",
              "2            1                           0                       0.0   \n",
              "3            5                          10                       2.0   \n",
              "4            2                           0                       0.0   \n",
              "\n",
              "              satisfaction  \n",
              "0  neutral or dissatisfied  \n",
              "1  neutral or dissatisfied  \n",
              "2                satisfied  \n",
              "3                satisfied  \n",
              "4                satisfied  \n",
              "\n",
              "[5 rows x 24 columns]"
            ],
            "text/html": [
              "\n",
              "  <div id=\"df-4ca52e7f-0d80-4021-b76b-ef7cfbef18a4\">\n",
              "    <div class=\"colab-df-container\">\n",
              "      <div>\n",
              "<style scoped>\n",
              "    .dataframe tbody tr th:only-of-type {\n",
              "        vertical-align: middle;\n",
              "    }\n",
              "\n",
              "    .dataframe tbody tr th {\n",
              "        vertical-align: top;\n",
              "    }\n",
              "\n",
              "    .dataframe thead th {\n",
              "        text-align: right;\n",
              "    }\n",
              "</style>\n",
              "<table border=\"1\" class=\"dataframe\">\n",
              "  <thead>\n",
              "    <tr style=\"text-align: right;\">\n",
              "      <th></th>\n",
              "      <th>id</th>\n",
              "      <th>Gender</th>\n",
              "      <th>Customer Type</th>\n",
              "      <th>Age</th>\n",
              "      <th>Type of Travel</th>\n",
              "      <th>Class</th>\n",
              "      <th>Flight Distance</th>\n",
              "      <th>Inflight wifi service</th>\n",
              "      <th>Departure/Arrival time convenient</th>\n",
              "      <th>Ease of Online booking</th>\n",
              "      <th>...</th>\n",
              "      <th>Inflight entertainment</th>\n",
              "      <th>On-board service</th>\n",
              "      <th>Leg room service</th>\n",
              "      <th>Baggage handling</th>\n",
              "      <th>Checkin service</th>\n",
              "      <th>Inflight service</th>\n",
              "      <th>Cleanliness</th>\n",
              "      <th>Departure Delay in Minutes</th>\n",
              "      <th>Arrival Delay in Minutes</th>\n",
              "      <th>satisfaction</th>\n",
              "    </tr>\n",
              "  </thead>\n",
              "  <tbody>\n",
              "    <tr>\n",
              "      <th>0</th>\n",
              "      <td>51032</td>\n",
              "      <td>Female</td>\n",
              "      <td>Loyal Customer</td>\n",
              "      <td>30</td>\n",
              "      <td>Personal Travel</td>\n",
              "      <td>Eco</td>\n",
              "      <td>193</td>\n",
              "      <td>3</td>\n",
              "      <td>4</td>\n",
              "      <td>0</td>\n",
              "      <td>...</td>\n",
              "      <td>5</td>\n",
              "      <td>4</td>\n",
              "      <td>5</td>\n",
              "      <td>3</td>\n",
              "      <td>4</td>\n",
              "      <td>4</td>\n",
              "      <td>5</td>\n",
              "      <td>0</td>\n",
              "      <td>0.0</td>\n",
              "      <td>neutral or dissatisfied</td>\n",
              "    </tr>\n",
              "    <tr>\n",
              "      <th>1</th>\n",
              "      <td>54504</td>\n",
              "      <td>Female</td>\n",
              "      <td>Loyal Customer</td>\n",
              "      <td>51</td>\n",
              "      <td>Business travel</td>\n",
              "      <td>Eco</td>\n",
              "      <td>925</td>\n",
              "      <td>2</td>\n",
              "      <td>1</td>\n",
              "      <td>1</td>\n",
              "      <td>...</td>\n",
              "      <td>2</td>\n",
              "      <td>2</td>\n",
              "      <td>2</td>\n",
              "      <td>2</td>\n",
              "      <td>3</td>\n",
              "      <td>2</td>\n",
              "      <td>3</td>\n",
              "      <td>47</td>\n",
              "      <td>29.0</td>\n",
              "      <td>neutral or dissatisfied</td>\n",
              "    </tr>\n",
              "    <tr>\n",
              "      <th>2</th>\n",
              "      <td>13387</td>\n",
              "      <td>Male</td>\n",
              "      <td>disloyal Customer</td>\n",
              "      <td>27</td>\n",
              "      <td>Business travel</td>\n",
              "      <td>Eco</td>\n",
              "      <td>505</td>\n",
              "      <td>0</td>\n",
              "      <td>0</td>\n",
              "      <td>0</td>\n",
              "      <td>...</td>\n",
              "      <td>1</td>\n",
              "      <td>5</td>\n",
              "      <td>5</td>\n",
              "      <td>2</td>\n",
              "      <td>3</td>\n",
              "      <td>2</td>\n",
              "      <td>1</td>\n",
              "      <td>0</td>\n",
              "      <td>0.0</td>\n",
              "      <td>satisfied</td>\n",
              "    </tr>\n",
              "    <tr>\n",
              "      <th>3</th>\n",
              "      <td>17388</td>\n",
              "      <td>Female</td>\n",
              "      <td>Loyal Customer</td>\n",
              "      <td>52</td>\n",
              "      <td>Business travel</td>\n",
              "      <td>Business</td>\n",
              "      <td>2953</td>\n",
              "      <td>2</td>\n",
              "      <td>2</td>\n",
              "      <td>2</td>\n",
              "      <td>...</td>\n",
              "      <td>5</td>\n",
              "      <td>5</td>\n",
              "      <td>5</td>\n",
              "      <td>5</td>\n",
              "      <td>4</td>\n",
              "      <td>5</td>\n",
              "      <td>5</td>\n",
              "      <td>10</td>\n",
              "      <td>2.0</td>\n",
              "      <td>satisfied</td>\n",
              "    </tr>\n",
              "    <tr>\n",
              "      <th>4</th>\n",
              "      <td>91598</td>\n",
              "      <td>Female</td>\n",
              "      <td>disloyal Customer</td>\n",
              "      <td>15</td>\n",
              "      <td>Business travel</td>\n",
              "      <td>Eco</td>\n",
              "      <td>1352</td>\n",
              "      <td>4</td>\n",
              "      <td>4</td>\n",
              "      <td>4</td>\n",
              "      <td>...</td>\n",
              "      <td>2</td>\n",
              "      <td>4</td>\n",
              "      <td>3</td>\n",
              "      <td>5</td>\n",
              "      <td>3</td>\n",
              "      <td>5</td>\n",
              "      <td>2</td>\n",
              "      <td>0</td>\n",
              "      <td>0.0</td>\n",
              "      <td>satisfied</td>\n",
              "    </tr>\n",
              "  </tbody>\n",
              "</table>\n",
              "<p>5 rows × 24 columns</p>\n",
              "</div>\n",
              "      <button class=\"colab-df-convert\" onclick=\"convertToInteractive('df-4ca52e7f-0d80-4021-b76b-ef7cfbef18a4')\"\n",
              "              title=\"Convert this dataframe to an interactive table.\"\n",
              "              style=\"display:none;\">\n",
              "        \n",
              "  <svg xmlns=\"http://www.w3.org/2000/svg\" height=\"24px\"viewBox=\"0 0 24 24\"\n",
              "       width=\"24px\">\n",
              "    <path d=\"M0 0h24v24H0V0z\" fill=\"none\"/>\n",
              "    <path d=\"M18.56 5.44l.94 2.06.94-2.06 2.06-.94-2.06-.94-.94-2.06-.94 2.06-2.06.94zm-11 1L8.5 8.5l.94-2.06 2.06-.94-2.06-.94L8.5 2.5l-.94 2.06-2.06.94zm10 10l.94 2.06.94-2.06 2.06-.94-2.06-.94-.94-2.06-.94 2.06-2.06.94z\"/><path d=\"M17.41 7.96l-1.37-1.37c-.4-.4-.92-.59-1.43-.59-.52 0-1.04.2-1.43.59L10.3 9.45l-7.72 7.72c-.78.78-.78 2.05 0 2.83L4 21.41c.39.39.9.59 1.41.59.51 0 1.02-.2 1.41-.59l7.78-7.78 2.81-2.81c.8-.78.8-2.07 0-2.86zM5.41 20L4 18.59l7.72-7.72 1.47 1.35L5.41 20z\"/>\n",
              "  </svg>\n",
              "      </button>\n",
              "      \n",
              "  <style>\n",
              "    .colab-df-container {\n",
              "      display:flex;\n",
              "      flex-wrap:wrap;\n",
              "      gap: 12px;\n",
              "    }\n",
              "\n",
              "    .colab-df-convert {\n",
              "      background-color: #E8F0FE;\n",
              "      border: none;\n",
              "      border-radius: 50%;\n",
              "      cursor: pointer;\n",
              "      display: none;\n",
              "      fill: #1967D2;\n",
              "      height: 32px;\n",
              "      padding: 0 0 0 0;\n",
              "      width: 32px;\n",
              "    }\n",
              "\n",
              "    .colab-df-convert:hover {\n",
              "      background-color: #E2EBFA;\n",
              "      box-shadow: 0px 1px 2px rgba(60, 64, 67, 0.3), 0px 1px 3px 1px rgba(60, 64, 67, 0.15);\n",
              "      fill: #174EA6;\n",
              "    }\n",
              "\n",
              "    [theme=dark] .colab-df-convert {\n",
              "      background-color: #3B4455;\n",
              "      fill: #D2E3FC;\n",
              "    }\n",
              "\n",
              "    [theme=dark] .colab-df-convert:hover {\n",
              "      background-color: #434B5C;\n",
              "      box-shadow: 0px 1px 3px 1px rgba(0, 0, 0, 0.15);\n",
              "      filter: drop-shadow(0px 1px 2px rgba(0, 0, 0, 0.3));\n",
              "      fill: #FFFFFF;\n",
              "    }\n",
              "  </style>\n",
              "\n",
              "      <script>\n",
              "        const buttonEl =\n",
              "          document.querySelector('#df-4ca52e7f-0d80-4021-b76b-ef7cfbef18a4 button.colab-df-convert');\n",
              "        buttonEl.style.display =\n",
              "          google.colab.kernel.accessAllowed ? 'block' : 'none';\n",
              "\n",
              "        async function convertToInteractive(key) {\n",
              "          const element = document.querySelector('#df-4ca52e7f-0d80-4021-b76b-ef7cfbef18a4');\n",
              "          const dataTable =\n",
              "            await google.colab.kernel.invokeFunction('convertToInteractive',\n",
              "                                                     [key], {});\n",
              "          if (!dataTable) return;\n",
              "\n",
              "          const docLinkHtml = 'Like what you see? Visit the ' +\n",
              "            '<a target=\"_blank\" href=https://colab.research.google.com/notebooks/data_table.ipynb>data table notebook</a>'\n",
              "            + ' to learn more about interactive tables.';\n",
              "          element.innerHTML = '';\n",
              "          dataTable['output_type'] = 'display_data';\n",
              "          await google.colab.output.renderOutput(dataTable, element);\n",
              "          const docLink = document.createElement('div');\n",
              "          docLink.innerHTML = docLinkHtml;\n",
              "          element.appendChild(docLink);\n",
              "        }\n",
              "      </script>\n",
              "    </div>\n",
              "  </div>\n",
              "  "
            ]
          },
          "metadata": {},
          "execution_count": 118
        }
      ],
      "source": [
        "train.head()"
      ]
    },
    {
      "cell_type": "code",
      "execution_count": 119,
      "metadata": {
        "colab": {
          "base_uri": "https://localhost:8080/"
        },
        "id": "W2Y8Uw_yWGLT",
        "outputId": "635d33be-5d7d-4771-9ed9-9866d3134818"
      },
      "outputs": [
        {
          "output_type": "execute_result",
          "data": {
            "text/plain": [
              "neutral or dissatisfied    47004\n",
              "satisfied                  36119\n",
              "Name: satisfaction, dtype: int64"
            ]
          },
          "metadata": {},
          "execution_count": 119
        }
      ],
      "source": [
        "train['satisfaction'].value_counts()"
      ]
    },
    {
      "cell_type": "code",
      "execution_count": 120,
      "metadata": {
        "colab": {
          "base_uri": "https://localhost:8080/"
        },
        "id": "E1Oeo0sbjpjg",
        "outputId": "c096f79c-e400-4caf-f592-ae19e4972041"
      },
      "outputs": [
        {
          "output_type": "execute_result",
          "data": {
            "text/plain": [
              "0      11691\n",
              "1        608\n",
              "2        444\n",
              "3        408\n",
              "5        339\n",
              "       ...  \n",
              "338        1\n",
              "391        1\n",
              "304        1\n",
              "263        1\n",
              "344        1\n",
              "Name: Departure Delay in Minutes, Length: 311, dtype: int64"
            ]
          },
          "metadata": {},
          "execution_count": 120
        }
      ],
      "source": [
        "test['Departure Delay in Minutes'].value_counts()"
      ]
    },
    {
      "cell_type": "code",
      "execution_count": 121,
      "metadata": {
        "colab": {
          "base_uri": "https://localhost:8080/"
        },
        "id": "7uQLJX-Tjpej",
        "outputId": "a2a47f41-9d50-4bb1-d69e-1dfd3665e244"
      },
      "outputs": [
        {
          "output_type": "execute_result",
          "data": {
            "text/plain": [
              "0.0      11606\n",
              "1.0        446\n",
              "2.0        424\n",
              "3.0        400\n",
              "4.0        357\n",
              "         ...  \n",
              "306.0        1\n",
              "386.0        1\n",
              "359.0        1\n",
              "404.0        1\n",
              "281.0        1\n",
              "Name: Arrival Delay in Minutes, Length: 316, dtype: int64"
            ]
          },
          "metadata": {},
          "execution_count": 121
        }
      ],
      "source": [
        "test['Arrival Delay in Minutes'].value_counts()"
      ]
    },
    {
      "cell_type": "markdown",
      "metadata": {
        "id": "iZ3bq3bgQdtJ"
      },
      "source": [
        "# *Data Information*"
      ]
    },
    {
      "cell_type": "code",
      "execution_count": 122,
      "metadata": {
        "colab": {
          "base_uri": "https://localhost:8080/"
        },
        "id": "Ew8o4w2_gish",
        "outputId": "59671a5e-5404-49fd-dc4d-10ab5ca137cf"
      },
      "outputs": [
        {
          "output_type": "stream",
          "name": "stdout",
          "text": [
            "<class 'pandas.core.frame.DataFrame'>\n",
            "RangeIndex: 20781 entries, 0 to 20780\n",
            "Data columns (total 23 columns):\n",
            " #   Column                             Non-Null Count  Dtype  \n",
            "---  ------                             --------------  -----  \n",
            " 0   id                                 20781 non-null  int64  \n",
            " 1   Gender                             20781 non-null  object \n",
            " 2   Customer Type                      20781 non-null  object \n",
            " 3   Age                                20781 non-null  int64  \n",
            " 4   Type of Travel                     20781 non-null  object \n",
            " 5   Class                              20781 non-null  object \n",
            " 6   Flight Distance                    20781 non-null  int64  \n",
            " 7   Inflight wifi service              20781 non-null  int64  \n",
            " 8   Departure/Arrival time convenient  20781 non-null  int64  \n",
            " 9   Ease of Online booking             20781 non-null  int64  \n",
            " 10  Gate location                      20781 non-null  int64  \n",
            " 11  Food and drink                     20781 non-null  int64  \n",
            " 12  Online boarding                    20781 non-null  int64  \n",
            " 13  Seat comfort                       20781 non-null  int64  \n",
            " 14  Inflight entertainment             20781 non-null  int64  \n",
            " 15  On-board service                   20781 non-null  int64  \n",
            " 16  Leg room service                   20781 non-null  int64  \n",
            " 17  Baggage handling                   20781 non-null  int64  \n",
            " 18  Checkin service                    20781 non-null  int64  \n",
            " 19  Inflight service                   20781 non-null  int64  \n",
            " 20  Cleanliness                        20781 non-null  int64  \n",
            " 21  Departure Delay in Minutes         20781 non-null  int64  \n",
            " 22  Arrival Delay in Minutes           20722 non-null  float64\n",
            "dtypes: float64(1), int64(18), object(4)\n",
            "memory usage: 3.6+ MB\n"
          ]
        }
      ],
      "source": [
        "test.info()"
      ]
    },
    {
      "cell_type": "code",
      "execution_count": 123,
      "metadata": {
        "colab": {
          "base_uri": "https://localhost:8080/"
        },
        "id": "-F2CvVpcgioc",
        "outputId": "cff24f09-4778-4fbc-96d2-6e902a98e48e"
      },
      "outputs": [
        {
          "output_type": "stream",
          "name": "stdout",
          "text": [
            "<class 'pandas.core.frame.DataFrame'>\n",
            "RangeIndex: 83123 entries, 0 to 83122\n",
            "Data columns (total 24 columns):\n",
            " #   Column                             Non-Null Count  Dtype  \n",
            "---  ------                             --------------  -----  \n",
            " 0   id                                 83123 non-null  int64  \n",
            " 1   Gender                             83123 non-null  object \n",
            " 2   Customer Type                      83123 non-null  object \n",
            " 3   Age                                83123 non-null  int64  \n",
            " 4   Type of Travel                     83123 non-null  object \n",
            " 5   Class                              83123 non-null  object \n",
            " 6   Flight Distance                    83123 non-null  int64  \n",
            " 7   Inflight wifi service              83123 non-null  int64  \n",
            " 8   Departure/Arrival time convenient  83123 non-null  int64  \n",
            " 9   Ease of Online booking             83123 non-null  int64  \n",
            " 10  Gate location                      83123 non-null  int64  \n",
            " 11  Food and drink                     83123 non-null  int64  \n",
            " 12  Online boarding                    83123 non-null  int64  \n",
            " 13  Seat comfort                       83123 non-null  int64  \n",
            " 14  Inflight entertainment             83123 non-null  int64  \n",
            " 15  On-board service                   83123 non-null  int64  \n",
            " 16  Leg room service                   83123 non-null  int64  \n",
            " 17  Baggage handling                   83123 non-null  int64  \n",
            " 18  Checkin service                    83123 non-null  int64  \n",
            " 19  Inflight service                   83123 non-null  int64  \n",
            " 20  Cleanliness                        83123 non-null  int64  \n",
            " 21  Departure Delay in Minutes         83123 non-null  int64  \n",
            " 22  Arrival Delay in Minutes           82872 non-null  float64\n",
            " 23  satisfaction                       83123 non-null  object \n",
            "dtypes: float64(1), int64(18), object(5)\n",
            "memory usage: 15.2+ MB\n"
          ]
        }
      ],
      "source": [
        "train.info()"
      ]
    },
    {
      "cell_type": "markdown",
      "metadata": {
        "id": "uDIlKbOTdgVD"
      },
      "source": [
        "**Observations**:\n",
        "----------------\n",
        "\n",
        "> **Train Dataset**\n",
        "     - The train dataset has total **24 features** : **1 float64** datatype feature(*Arrival Delay in Minutes*), **5 object** datatype features (*Gender, gender, Customer Type, Type of Travel,Class and satisfaction*)  and remaining **18 int64** datatype features.\n",
        "\n",
        "> **Test Dataset**\n",
        "     - The test dataset has total **23 features** : **1 float64** datatype feature(*Arrival Delay in Minutes*), **4 object** datatype features (*Gender, gender, Customer Type, Type of Travel and Class*)  and remaining **18 int64** datatype features. \n",
        "\n",
        "- There are **Null** values present in the column: \"Arrival Delay in Minute\" for both datasets.\n",
        "\n",
        "- Each feature seems to have correct data type, except for the column - **Arrival Delay in Minutes** in both datasets. It would be better if we created a new column with unit Hours and drop the original column later.  "
      ]
    },
    {
      "cell_type": "markdown",
      "metadata": {
        "id": "85ekhRnNdgVE"
      },
      "source": [
        "# *Data Description*"
      ]
    },
    {
      "cell_type": "code",
      "execution_count": 124,
      "metadata": {
        "colab": {
          "base_uri": "https://localhost:8080/",
          "height": 399
        },
        "id": "nEiAs_xXgieH",
        "outputId": "7c312edb-a713-477b-ed56-8d9bed42a865"
      },
      "outputs": [
        {
          "output_type": "execute_result",
          "data": {
            "text/plain": [
              "                  id           Age  Flight Distance  Inflight wifi service  \\\n",
              "count   20781.000000  20781.000000     20781.000000           20781.000000   \n",
              "mean    64734.896492     39.494105      1184.494923               2.718204   \n",
              "std     37455.816609     15.176537       991.162378               1.319284   \n",
              "min         3.000000      7.000000        31.000000               0.000000   \n",
              "25%     32489.000000     27.000000       421.000000               2.000000   \n",
              "50%     64792.000000     40.000000       835.000000               3.000000   \n",
              "75%     97095.000000     51.000000      1739.000000               4.000000   \n",
              "max    129870.000000     85.000000      4983.000000               5.000000   \n",
              "\n",
              "       Departure/Arrival time convenient  Ease of Online booking  \\\n",
              "count                       20781.000000            20781.000000   \n",
              "mean                            3.052404                2.758963   \n",
              "std                             1.517431                1.390460   \n",
              "min                             0.000000                0.000000   \n",
              "25%                             2.000000                2.000000   \n",
              "50%                             3.000000                3.000000   \n",
              "75%                             4.000000                4.000000   \n",
              "max                             5.000000                5.000000   \n",
              "\n",
              "       Gate location  Food and drink  Online boarding  Seat comfort  \\\n",
              "count   20781.000000    20781.000000     20781.000000  20781.000000   \n",
              "mean        2.972186        3.189500         3.240508      3.425822   \n",
              "std         1.271853        1.325687         1.343898      1.322110   \n",
              "min         1.000000        0.000000         0.000000      1.000000   \n",
              "25%         2.000000        2.000000         2.000000      2.000000   \n",
              "50%         3.000000        3.000000         3.000000      4.000000   \n",
              "75%         4.000000        4.000000         4.000000      5.000000   \n",
              "max         5.000000        5.000000         5.000000      5.000000   \n",
              "\n",
              "       Inflight entertainment  On-board service  Leg room service  \\\n",
              "count            20781.000000      20781.000000      20781.000000   \n",
              "mean                 3.338819          3.377268          3.349646   \n",
              "std                  1.337282          1.290675          1.324557   \n",
              "min                  0.000000          0.000000          0.000000   \n",
              "25%                  2.000000          2.000000          2.000000   \n",
              "50%                  4.000000          4.000000          4.000000   \n",
              "75%                  4.000000          4.000000          4.000000   \n",
              "max                  5.000000          5.000000          5.000000   \n",
              "\n",
              "       Baggage handling  Checkin service  Inflight service   Cleanliness  \\\n",
              "count      20781.000000     20781.000000      20781.000000  20781.000000   \n",
              "mean           3.621914         3.288677          3.626678      3.266349   \n",
              "std            1.188742         1.267898          1.184796      1.306951   \n",
              "min            1.000000         1.000000          0.000000      0.000000   \n",
              "25%            3.000000         2.000000          3.000000      2.000000   \n",
              "50%            4.000000         3.000000          4.000000      3.000000   \n",
              "75%            5.000000         4.000000          5.000000      4.000000   \n",
              "max            5.000000         5.000000          5.000000      5.000000   \n",
              "\n",
              "       Departure Delay in Minutes  Arrival Delay in Minutes  \n",
              "count                20781.000000              20722.000000  \n",
              "mean                    15.219864                 15.640817  \n",
              "std                     38.713444                 39.576280  \n",
              "min                      0.000000                  0.000000  \n",
              "25%                      0.000000                  0.000000  \n",
              "50%                      0.000000                  0.000000  \n",
              "75%                     13.000000                 13.000000  \n",
              "max                    978.000000                970.000000  "
            ],
            "text/html": [
              "\n",
              "  <div id=\"df-de329959-09fb-427e-b6bb-ccce1dd0ad78\">\n",
              "    <div class=\"colab-df-container\">\n",
              "      <div>\n",
              "<style scoped>\n",
              "    .dataframe tbody tr th:only-of-type {\n",
              "        vertical-align: middle;\n",
              "    }\n",
              "\n",
              "    .dataframe tbody tr th {\n",
              "        vertical-align: top;\n",
              "    }\n",
              "\n",
              "    .dataframe thead th {\n",
              "        text-align: right;\n",
              "    }\n",
              "</style>\n",
              "<table border=\"1\" class=\"dataframe\">\n",
              "  <thead>\n",
              "    <tr style=\"text-align: right;\">\n",
              "      <th></th>\n",
              "      <th>id</th>\n",
              "      <th>Age</th>\n",
              "      <th>Flight Distance</th>\n",
              "      <th>Inflight wifi service</th>\n",
              "      <th>Departure/Arrival time convenient</th>\n",
              "      <th>Ease of Online booking</th>\n",
              "      <th>Gate location</th>\n",
              "      <th>Food and drink</th>\n",
              "      <th>Online boarding</th>\n",
              "      <th>Seat comfort</th>\n",
              "      <th>Inflight entertainment</th>\n",
              "      <th>On-board service</th>\n",
              "      <th>Leg room service</th>\n",
              "      <th>Baggage handling</th>\n",
              "      <th>Checkin service</th>\n",
              "      <th>Inflight service</th>\n",
              "      <th>Cleanliness</th>\n",
              "      <th>Departure Delay in Minutes</th>\n",
              "      <th>Arrival Delay in Minutes</th>\n",
              "    </tr>\n",
              "  </thead>\n",
              "  <tbody>\n",
              "    <tr>\n",
              "      <th>count</th>\n",
              "      <td>20781.000000</td>\n",
              "      <td>20781.000000</td>\n",
              "      <td>20781.000000</td>\n",
              "      <td>20781.000000</td>\n",
              "      <td>20781.000000</td>\n",
              "      <td>20781.000000</td>\n",
              "      <td>20781.000000</td>\n",
              "      <td>20781.000000</td>\n",
              "      <td>20781.000000</td>\n",
              "      <td>20781.000000</td>\n",
              "      <td>20781.000000</td>\n",
              "      <td>20781.000000</td>\n",
              "      <td>20781.000000</td>\n",
              "      <td>20781.000000</td>\n",
              "      <td>20781.000000</td>\n",
              "      <td>20781.000000</td>\n",
              "      <td>20781.000000</td>\n",
              "      <td>20781.000000</td>\n",
              "      <td>20722.000000</td>\n",
              "    </tr>\n",
              "    <tr>\n",
              "      <th>mean</th>\n",
              "      <td>64734.896492</td>\n",
              "      <td>39.494105</td>\n",
              "      <td>1184.494923</td>\n",
              "      <td>2.718204</td>\n",
              "      <td>3.052404</td>\n",
              "      <td>2.758963</td>\n",
              "      <td>2.972186</td>\n",
              "      <td>3.189500</td>\n",
              "      <td>3.240508</td>\n",
              "      <td>3.425822</td>\n",
              "      <td>3.338819</td>\n",
              "      <td>3.377268</td>\n",
              "      <td>3.349646</td>\n",
              "      <td>3.621914</td>\n",
              "      <td>3.288677</td>\n",
              "      <td>3.626678</td>\n",
              "      <td>3.266349</td>\n",
              "      <td>15.219864</td>\n",
              "      <td>15.640817</td>\n",
              "    </tr>\n",
              "    <tr>\n",
              "      <th>std</th>\n",
              "      <td>37455.816609</td>\n",
              "      <td>15.176537</td>\n",
              "      <td>991.162378</td>\n",
              "      <td>1.319284</td>\n",
              "      <td>1.517431</td>\n",
              "      <td>1.390460</td>\n",
              "      <td>1.271853</td>\n",
              "      <td>1.325687</td>\n",
              "      <td>1.343898</td>\n",
              "      <td>1.322110</td>\n",
              "      <td>1.337282</td>\n",
              "      <td>1.290675</td>\n",
              "      <td>1.324557</td>\n",
              "      <td>1.188742</td>\n",
              "      <td>1.267898</td>\n",
              "      <td>1.184796</td>\n",
              "      <td>1.306951</td>\n",
              "      <td>38.713444</td>\n",
              "      <td>39.576280</td>\n",
              "    </tr>\n",
              "    <tr>\n",
              "      <th>min</th>\n",
              "      <td>3.000000</td>\n",
              "      <td>7.000000</td>\n",
              "      <td>31.000000</td>\n",
              "      <td>0.000000</td>\n",
              "      <td>0.000000</td>\n",
              "      <td>0.000000</td>\n",
              "      <td>1.000000</td>\n",
              "      <td>0.000000</td>\n",
              "      <td>0.000000</td>\n",
              "      <td>1.000000</td>\n",
              "      <td>0.000000</td>\n",
              "      <td>0.000000</td>\n",
              "      <td>0.000000</td>\n",
              "      <td>1.000000</td>\n",
              "      <td>1.000000</td>\n",
              "      <td>0.000000</td>\n",
              "      <td>0.000000</td>\n",
              "      <td>0.000000</td>\n",
              "      <td>0.000000</td>\n",
              "    </tr>\n",
              "    <tr>\n",
              "      <th>25%</th>\n",
              "      <td>32489.000000</td>\n",
              "      <td>27.000000</td>\n",
              "      <td>421.000000</td>\n",
              "      <td>2.000000</td>\n",
              "      <td>2.000000</td>\n",
              "      <td>2.000000</td>\n",
              "      <td>2.000000</td>\n",
              "      <td>2.000000</td>\n",
              "      <td>2.000000</td>\n",
              "      <td>2.000000</td>\n",
              "      <td>2.000000</td>\n",
              "      <td>2.000000</td>\n",
              "      <td>2.000000</td>\n",
              "      <td>3.000000</td>\n",
              "      <td>2.000000</td>\n",
              "      <td>3.000000</td>\n",
              "      <td>2.000000</td>\n",
              "      <td>0.000000</td>\n",
              "      <td>0.000000</td>\n",
              "    </tr>\n",
              "    <tr>\n",
              "      <th>50%</th>\n",
              "      <td>64792.000000</td>\n",
              "      <td>40.000000</td>\n",
              "      <td>835.000000</td>\n",
              "      <td>3.000000</td>\n",
              "      <td>3.000000</td>\n",
              "      <td>3.000000</td>\n",
              "      <td>3.000000</td>\n",
              "      <td>3.000000</td>\n",
              "      <td>3.000000</td>\n",
              "      <td>4.000000</td>\n",
              "      <td>4.000000</td>\n",
              "      <td>4.000000</td>\n",
              "      <td>4.000000</td>\n",
              "      <td>4.000000</td>\n",
              "      <td>3.000000</td>\n",
              "      <td>4.000000</td>\n",
              "      <td>3.000000</td>\n",
              "      <td>0.000000</td>\n",
              "      <td>0.000000</td>\n",
              "    </tr>\n",
              "    <tr>\n",
              "      <th>75%</th>\n",
              "      <td>97095.000000</td>\n",
              "      <td>51.000000</td>\n",
              "      <td>1739.000000</td>\n",
              "      <td>4.000000</td>\n",
              "      <td>4.000000</td>\n",
              "      <td>4.000000</td>\n",
              "      <td>4.000000</td>\n",
              "      <td>4.000000</td>\n",
              "      <td>4.000000</td>\n",
              "      <td>5.000000</td>\n",
              "      <td>4.000000</td>\n",
              "      <td>4.000000</td>\n",
              "      <td>4.000000</td>\n",
              "      <td>5.000000</td>\n",
              "      <td>4.000000</td>\n",
              "      <td>5.000000</td>\n",
              "      <td>4.000000</td>\n",
              "      <td>13.000000</td>\n",
              "      <td>13.000000</td>\n",
              "    </tr>\n",
              "    <tr>\n",
              "      <th>max</th>\n",
              "      <td>129870.000000</td>\n",
              "      <td>85.000000</td>\n",
              "      <td>4983.000000</td>\n",
              "      <td>5.000000</td>\n",
              "      <td>5.000000</td>\n",
              "      <td>5.000000</td>\n",
              "      <td>5.000000</td>\n",
              "      <td>5.000000</td>\n",
              "      <td>5.000000</td>\n",
              "      <td>5.000000</td>\n",
              "      <td>5.000000</td>\n",
              "      <td>5.000000</td>\n",
              "      <td>5.000000</td>\n",
              "      <td>5.000000</td>\n",
              "      <td>5.000000</td>\n",
              "      <td>5.000000</td>\n",
              "      <td>5.000000</td>\n",
              "      <td>978.000000</td>\n",
              "      <td>970.000000</td>\n",
              "    </tr>\n",
              "  </tbody>\n",
              "</table>\n",
              "</div>\n",
              "      <button class=\"colab-df-convert\" onclick=\"convertToInteractive('df-de329959-09fb-427e-b6bb-ccce1dd0ad78')\"\n",
              "              title=\"Convert this dataframe to an interactive table.\"\n",
              "              style=\"display:none;\">\n",
              "        \n",
              "  <svg xmlns=\"http://www.w3.org/2000/svg\" height=\"24px\"viewBox=\"0 0 24 24\"\n",
              "       width=\"24px\">\n",
              "    <path d=\"M0 0h24v24H0V0z\" fill=\"none\"/>\n",
              "    <path d=\"M18.56 5.44l.94 2.06.94-2.06 2.06-.94-2.06-.94-.94-2.06-.94 2.06-2.06.94zm-11 1L8.5 8.5l.94-2.06 2.06-.94-2.06-.94L8.5 2.5l-.94 2.06-2.06.94zm10 10l.94 2.06.94-2.06 2.06-.94-2.06-.94-.94-2.06-.94 2.06-2.06.94z\"/><path d=\"M17.41 7.96l-1.37-1.37c-.4-.4-.92-.59-1.43-.59-.52 0-1.04.2-1.43.59L10.3 9.45l-7.72 7.72c-.78.78-.78 2.05 0 2.83L4 21.41c.39.39.9.59 1.41.59.51 0 1.02-.2 1.41-.59l7.78-7.78 2.81-2.81c.8-.78.8-2.07 0-2.86zM5.41 20L4 18.59l7.72-7.72 1.47 1.35L5.41 20z\"/>\n",
              "  </svg>\n",
              "      </button>\n",
              "      \n",
              "  <style>\n",
              "    .colab-df-container {\n",
              "      display:flex;\n",
              "      flex-wrap:wrap;\n",
              "      gap: 12px;\n",
              "    }\n",
              "\n",
              "    .colab-df-convert {\n",
              "      background-color: #E8F0FE;\n",
              "      border: none;\n",
              "      border-radius: 50%;\n",
              "      cursor: pointer;\n",
              "      display: none;\n",
              "      fill: #1967D2;\n",
              "      height: 32px;\n",
              "      padding: 0 0 0 0;\n",
              "      width: 32px;\n",
              "    }\n",
              "\n",
              "    .colab-df-convert:hover {\n",
              "      background-color: #E2EBFA;\n",
              "      box-shadow: 0px 1px 2px rgba(60, 64, 67, 0.3), 0px 1px 3px 1px rgba(60, 64, 67, 0.15);\n",
              "      fill: #174EA6;\n",
              "    }\n",
              "\n",
              "    [theme=dark] .colab-df-convert {\n",
              "      background-color: #3B4455;\n",
              "      fill: #D2E3FC;\n",
              "    }\n",
              "\n",
              "    [theme=dark] .colab-df-convert:hover {\n",
              "      background-color: #434B5C;\n",
              "      box-shadow: 0px 1px 3px 1px rgba(0, 0, 0, 0.15);\n",
              "      filter: drop-shadow(0px 1px 2px rgba(0, 0, 0, 0.3));\n",
              "      fill: #FFFFFF;\n",
              "    }\n",
              "  </style>\n",
              "\n",
              "      <script>\n",
              "        const buttonEl =\n",
              "          document.querySelector('#df-de329959-09fb-427e-b6bb-ccce1dd0ad78 button.colab-df-convert');\n",
              "        buttonEl.style.display =\n",
              "          google.colab.kernel.accessAllowed ? 'block' : 'none';\n",
              "\n",
              "        async function convertToInteractive(key) {\n",
              "          const element = document.querySelector('#df-de329959-09fb-427e-b6bb-ccce1dd0ad78');\n",
              "          const dataTable =\n",
              "            await google.colab.kernel.invokeFunction('convertToInteractive',\n",
              "                                                     [key], {});\n",
              "          if (!dataTable) return;\n",
              "\n",
              "          const docLinkHtml = 'Like what you see? Visit the ' +\n",
              "            '<a target=\"_blank\" href=https://colab.research.google.com/notebooks/data_table.ipynb>data table notebook</a>'\n",
              "            + ' to learn more about interactive tables.';\n",
              "          element.innerHTML = '';\n",
              "          dataTable['output_type'] = 'display_data';\n",
              "          await google.colab.output.renderOutput(dataTable, element);\n",
              "          const docLink = document.createElement('div');\n",
              "          docLink.innerHTML = docLinkHtml;\n",
              "          element.appendChild(docLink);\n",
              "        }\n",
              "      </script>\n",
              "    </div>\n",
              "  </div>\n",
              "  "
            ]
          },
          "metadata": {},
          "execution_count": 124
        }
      ],
      "source": [
        "test.describe()"
      ]
    },
    {
      "cell_type": "code",
      "execution_count": 125,
      "metadata": {
        "colab": {
          "base_uri": "https://localhost:8080/",
          "height": 399
        },
        "id": "gcxRYBogiWpf",
        "outputId": "ede50fcc-e2ef-40ec-9123-861363814f1c"
      },
      "outputs": [
        {
          "output_type": "execute_result",
          "data": {
            "text/plain": [
              "                  id           Age  Flight Distance  Inflight wifi service  \\\n",
              "count   83123.000000  83123.000000     83123.000000           83123.000000   \n",
              "mean    64971.539574     39.351106      1190.686753               2.732553   \n",
              "std     37465.886717     15.099487       998.640016               1.329950   \n",
              "min         1.000000      7.000000        31.000000               0.000000   \n",
              "25%     32552.500000     27.000000       413.000000               2.000000   \n",
              "50%     64864.000000     40.000000       844.000000               3.000000   \n",
              "75%     97430.500000     51.000000      1744.000000               4.000000   \n",
              "max    129880.000000     85.000000      4983.000000               5.000000   \n",
              "\n",
              "       Departure/Arrival time convenient  Ease of Online booking  \\\n",
              "count                       83123.000000            83123.000000   \n",
              "mean                            3.062269                2.756385   \n",
              "std                             1.526983                1.401047   \n",
              "min                             0.000000                0.000000   \n",
              "25%                             2.000000                2.000000   \n",
              "50%                             3.000000                3.000000   \n",
              "75%                             4.000000                4.000000   \n",
              "max                             5.000000                5.000000   \n",
              "\n",
              "       Gate location  Food and drink  Online boarding  Seat comfort  \\\n",
              "count   83123.000000    83123.000000     83123.000000  83123.000000   \n",
              "mean        2.978057        3.205286         3.252842      3.442790   \n",
              "std         1.279064        1.330482         1.350905      1.318317   \n",
              "min         0.000000        0.000000         0.000000      0.000000   \n",
              "25%         2.000000        2.000000         2.000000      2.000000   \n",
              "50%         3.000000        3.000000         3.000000      4.000000   \n",
              "75%         4.000000        4.000000         4.000000      5.000000   \n",
              "max         5.000000        5.000000         5.000000      5.000000   \n",
              "\n",
              "       Inflight entertainment  On-board service  Leg room service  \\\n",
              "count            83123.000000      83123.000000      83123.000000   \n",
              "mean                 3.362992          3.383636          3.351407   \n",
              "std                  1.331880          1.287778          1.313365   \n",
              "min                  0.000000          0.000000          0.000000   \n",
              "25%                  2.000000          2.000000          2.000000   \n",
              "50%                  4.000000          4.000000          4.000000   \n",
              "75%                  4.000000          4.000000          4.000000   \n",
              "max                  5.000000          5.000000          5.000000   \n",
              "\n",
              "       Baggage handling  Checkin service  Inflight service   Cleanliness  \\\n",
              "count      83123.000000     83123.000000      83123.000000  83123.000000   \n",
              "mean           3.634313         3.308194          3.643865      3.291351   \n",
              "std            1.178930         1.264747          1.173351      1.313560   \n",
              "min            1.000000         0.000000          0.000000      0.000000   \n",
              "25%            3.000000         3.000000          3.000000      2.000000   \n",
              "50%            4.000000         3.000000          4.000000      3.000000   \n",
              "75%            5.000000         4.000000          5.000000      4.000000   \n",
              "max            5.000000         5.000000          5.000000      5.000000   \n",
              "\n",
              "       Departure Delay in Minutes  Arrival Delay in Minutes  \n",
              "count                83123.000000              82872.000000  \n",
              "mean                    14.714556                 15.063121  \n",
              "std                     38.108874                 38.475487  \n",
              "min                      0.000000                  0.000000  \n",
              "25%                      0.000000                  0.000000  \n",
              "50%                      0.000000                  0.000000  \n",
              "75%                     12.000000                 13.000000  \n",
              "max                   1592.000000               1584.000000  "
            ],
            "text/html": [
              "\n",
              "  <div id=\"df-c1e3522a-c1e9-401c-991e-d4d3284e3be0\">\n",
              "    <div class=\"colab-df-container\">\n",
              "      <div>\n",
              "<style scoped>\n",
              "    .dataframe tbody tr th:only-of-type {\n",
              "        vertical-align: middle;\n",
              "    }\n",
              "\n",
              "    .dataframe tbody tr th {\n",
              "        vertical-align: top;\n",
              "    }\n",
              "\n",
              "    .dataframe thead th {\n",
              "        text-align: right;\n",
              "    }\n",
              "</style>\n",
              "<table border=\"1\" class=\"dataframe\">\n",
              "  <thead>\n",
              "    <tr style=\"text-align: right;\">\n",
              "      <th></th>\n",
              "      <th>id</th>\n",
              "      <th>Age</th>\n",
              "      <th>Flight Distance</th>\n",
              "      <th>Inflight wifi service</th>\n",
              "      <th>Departure/Arrival time convenient</th>\n",
              "      <th>Ease of Online booking</th>\n",
              "      <th>Gate location</th>\n",
              "      <th>Food and drink</th>\n",
              "      <th>Online boarding</th>\n",
              "      <th>Seat comfort</th>\n",
              "      <th>Inflight entertainment</th>\n",
              "      <th>On-board service</th>\n",
              "      <th>Leg room service</th>\n",
              "      <th>Baggage handling</th>\n",
              "      <th>Checkin service</th>\n",
              "      <th>Inflight service</th>\n",
              "      <th>Cleanliness</th>\n",
              "      <th>Departure Delay in Minutes</th>\n",
              "      <th>Arrival Delay in Minutes</th>\n",
              "    </tr>\n",
              "  </thead>\n",
              "  <tbody>\n",
              "    <tr>\n",
              "      <th>count</th>\n",
              "      <td>83123.000000</td>\n",
              "      <td>83123.000000</td>\n",
              "      <td>83123.000000</td>\n",
              "      <td>83123.000000</td>\n",
              "      <td>83123.000000</td>\n",
              "      <td>83123.000000</td>\n",
              "      <td>83123.000000</td>\n",
              "      <td>83123.000000</td>\n",
              "      <td>83123.000000</td>\n",
              "      <td>83123.000000</td>\n",
              "      <td>83123.000000</td>\n",
              "      <td>83123.000000</td>\n",
              "      <td>83123.000000</td>\n",
              "      <td>83123.000000</td>\n",
              "      <td>83123.000000</td>\n",
              "      <td>83123.000000</td>\n",
              "      <td>83123.000000</td>\n",
              "      <td>83123.000000</td>\n",
              "      <td>82872.000000</td>\n",
              "    </tr>\n",
              "    <tr>\n",
              "      <th>mean</th>\n",
              "      <td>64971.539574</td>\n",
              "      <td>39.351106</td>\n",
              "      <td>1190.686753</td>\n",
              "      <td>2.732553</td>\n",
              "      <td>3.062269</td>\n",
              "      <td>2.756385</td>\n",
              "      <td>2.978057</td>\n",
              "      <td>3.205286</td>\n",
              "      <td>3.252842</td>\n",
              "      <td>3.442790</td>\n",
              "      <td>3.362992</td>\n",
              "      <td>3.383636</td>\n",
              "      <td>3.351407</td>\n",
              "      <td>3.634313</td>\n",
              "      <td>3.308194</td>\n",
              "      <td>3.643865</td>\n",
              "      <td>3.291351</td>\n",
              "      <td>14.714556</td>\n",
              "      <td>15.063121</td>\n",
              "    </tr>\n",
              "    <tr>\n",
              "      <th>std</th>\n",
              "      <td>37465.886717</td>\n",
              "      <td>15.099487</td>\n",
              "      <td>998.640016</td>\n",
              "      <td>1.329950</td>\n",
              "      <td>1.526983</td>\n",
              "      <td>1.401047</td>\n",
              "      <td>1.279064</td>\n",
              "      <td>1.330482</td>\n",
              "      <td>1.350905</td>\n",
              "      <td>1.318317</td>\n",
              "      <td>1.331880</td>\n",
              "      <td>1.287778</td>\n",
              "      <td>1.313365</td>\n",
              "      <td>1.178930</td>\n",
              "      <td>1.264747</td>\n",
              "      <td>1.173351</td>\n",
              "      <td>1.313560</td>\n",
              "      <td>38.108874</td>\n",
              "      <td>38.475487</td>\n",
              "    </tr>\n",
              "    <tr>\n",
              "      <th>min</th>\n",
              "      <td>1.000000</td>\n",
              "      <td>7.000000</td>\n",
              "      <td>31.000000</td>\n",
              "      <td>0.000000</td>\n",
              "      <td>0.000000</td>\n",
              "      <td>0.000000</td>\n",
              "      <td>0.000000</td>\n",
              "      <td>0.000000</td>\n",
              "      <td>0.000000</td>\n",
              "      <td>0.000000</td>\n",
              "      <td>0.000000</td>\n",
              "      <td>0.000000</td>\n",
              "      <td>0.000000</td>\n",
              "      <td>1.000000</td>\n",
              "      <td>0.000000</td>\n",
              "      <td>0.000000</td>\n",
              "      <td>0.000000</td>\n",
              "      <td>0.000000</td>\n",
              "      <td>0.000000</td>\n",
              "    </tr>\n",
              "    <tr>\n",
              "      <th>25%</th>\n",
              "      <td>32552.500000</td>\n",
              "      <td>27.000000</td>\n",
              "      <td>413.000000</td>\n",
              "      <td>2.000000</td>\n",
              "      <td>2.000000</td>\n",
              "      <td>2.000000</td>\n",
              "      <td>2.000000</td>\n",
              "      <td>2.000000</td>\n",
              "      <td>2.000000</td>\n",
              "      <td>2.000000</td>\n",
              "      <td>2.000000</td>\n",
              "      <td>2.000000</td>\n",
              "      <td>2.000000</td>\n",
              "      <td>3.000000</td>\n",
              "      <td>3.000000</td>\n",
              "      <td>3.000000</td>\n",
              "      <td>2.000000</td>\n",
              "      <td>0.000000</td>\n",
              "      <td>0.000000</td>\n",
              "    </tr>\n",
              "    <tr>\n",
              "      <th>50%</th>\n",
              "      <td>64864.000000</td>\n",
              "      <td>40.000000</td>\n",
              "      <td>844.000000</td>\n",
              "      <td>3.000000</td>\n",
              "      <td>3.000000</td>\n",
              "      <td>3.000000</td>\n",
              "      <td>3.000000</td>\n",
              "      <td>3.000000</td>\n",
              "      <td>3.000000</td>\n",
              "      <td>4.000000</td>\n",
              "      <td>4.000000</td>\n",
              "      <td>4.000000</td>\n",
              "      <td>4.000000</td>\n",
              "      <td>4.000000</td>\n",
              "      <td>3.000000</td>\n",
              "      <td>4.000000</td>\n",
              "      <td>3.000000</td>\n",
              "      <td>0.000000</td>\n",
              "      <td>0.000000</td>\n",
              "    </tr>\n",
              "    <tr>\n",
              "      <th>75%</th>\n",
              "      <td>97430.500000</td>\n",
              "      <td>51.000000</td>\n",
              "      <td>1744.000000</td>\n",
              "      <td>4.000000</td>\n",
              "      <td>4.000000</td>\n",
              "      <td>4.000000</td>\n",
              "      <td>4.000000</td>\n",
              "      <td>4.000000</td>\n",
              "      <td>4.000000</td>\n",
              "      <td>5.000000</td>\n",
              "      <td>4.000000</td>\n",
              "      <td>4.000000</td>\n",
              "      <td>4.000000</td>\n",
              "      <td>5.000000</td>\n",
              "      <td>4.000000</td>\n",
              "      <td>5.000000</td>\n",
              "      <td>4.000000</td>\n",
              "      <td>12.000000</td>\n",
              "      <td>13.000000</td>\n",
              "    </tr>\n",
              "    <tr>\n",
              "      <th>max</th>\n",
              "      <td>129880.000000</td>\n",
              "      <td>85.000000</td>\n",
              "      <td>4983.000000</td>\n",
              "      <td>5.000000</td>\n",
              "      <td>5.000000</td>\n",
              "      <td>5.000000</td>\n",
              "      <td>5.000000</td>\n",
              "      <td>5.000000</td>\n",
              "      <td>5.000000</td>\n",
              "      <td>5.000000</td>\n",
              "      <td>5.000000</td>\n",
              "      <td>5.000000</td>\n",
              "      <td>5.000000</td>\n",
              "      <td>5.000000</td>\n",
              "      <td>5.000000</td>\n",
              "      <td>5.000000</td>\n",
              "      <td>5.000000</td>\n",
              "      <td>1592.000000</td>\n",
              "      <td>1584.000000</td>\n",
              "    </tr>\n",
              "  </tbody>\n",
              "</table>\n",
              "</div>\n",
              "      <button class=\"colab-df-convert\" onclick=\"convertToInteractive('df-c1e3522a-c1e9-401c-991e-d4d3284e3be0')\"\n",
              "              title=\"Convert this dataframe to an interactive table.\"\n",
              "              style=\"display:none;\">\n",
              "        \n",
              "  <svg xmlns=\"http://www.w3.org/2000/svg\" height=\"24px\"viewBox=\"0 0 24 24\"\n",
              "       width=\"24px\">\n",
              "    <path d=\"M0 0h24v24H0V0z\" fill=\"none\"/>\n",
              "    <path d=\"M18.56 5.44l.94 2.06.94-2.06 2.06-.94-2.06-.94-.94-2.06-.94 2.06-2.06.94zm-11 1L8.5 8.5l.94-2.06 2.06-.94-2.06-.94L8.5 2.5l-.94 2.06-2.06.94zm10 10l.94 2.06.94-2.06 2.06-.94-2.06-.94-.94-2.06-.94 2.06-2.06.94z\"/><path d=\"M17.41 7.96l-1.37-1.37c-.4-.4-.92-.59-1.43-.59-.52 0-1.04.2-1.43.59L10.3 9.45l-7.72 7.72c-.78.78-.78 2.05 0 2.83L4 21.41c.39.39.9.59 1.41.59.51 0 1.02-.2 1.41-.59l7.78-7.78 2.81-2.81c.8-.78.8-2.07 0-2.86zM5.41 20L4 18.59l7.72-7.72 1.47 1.35L5.41 20z\"/>\n",
              "  </svg>\n",
              "      </button>\n",
              "      \n",
              "  <style>\n",
              "    .colab-df-container {\n",
              "      display:flex;\n",
              "      flex-wrap:wrap;\n",
              "      gap: 12px;\n",
              "    }\n",
              "\n",
              "    .colab-df-convert {\n",
              "      background-color: #E8F0FE;\n",
              "      border: none;\n",
              "      border-radius: 50%;\n",
              "      cursor: pointer;\n",
              "      display: none;\n",
              "      fill: #1967D2;\n",
              "      height: 32px;\n",
              "      padding: 0 0 0 0;\n",
              "      width: 32px;\n",
              "    }\n",
              "\n",
              "    .colab-df-convert:hover {\n",
              "      background-color: #E2EBFA;\n",
              "      box-shadow: 0px 1px 2px rgba(60, 64, 67, 0.3), 0px 1px 3px 1px rgba(60, 64, 67, 0.15);\n",
              "      fill: #174EA6;\n",
              "    }\n",
              "\n",
              "    [theme=dark] .colab-df-convert {\n",
              "      background-color: #3B4455;\n",
              "      fill: #D2E3FC;\n",
              "    }\n",
              "\n",
              "    [theme=dark] .colab-df-convert:hover {\n",
              "      background-color: #434B5C;\n",
              "      box-shadow: 0px 1px 3px 1px rgba(0, 0, 0, 0.15);\n",
              "      filter: drop-shadow(0px 1px 2px rgba(0, 0, 0, 0.3));\n",
              "      fill: #FFFFFF;\n",
              "    }\n",
              "  </style>\n",
              "\n",
              "      <script>\n",
              "        const buttonEl =\n",
              "          document.querySelector('#df-c1e3522a-c1e9-401c-991e-d4d3284e3be0 button.colab-df-convert');\n",
              "        buttonEl.style.display =\n",
              "          google.colab.kernel.accessAllowed ? 'block' : 'none';\n",
              "\n",
              "        async function convertToInteractive(key) {\n",
              "          const element = document.querySelector('#df-c1e3522a-c1e9-401c-991e-d4d3284e3be0');\n",
              "          const dataTable =\n",
              "            await google.colab.kernel.invokeFunction('convertToInteractive',\n",
              "                                                     [key], {});\n",
              "          if (!dataTable) return;\n",
              "\n",
              "          const docLinkHtml = 'Like what you see? Visit the ' +\n",
              "            '<a target=\"_blank\" href=https://colab.research.google.com/notebooks/data_table.ipynb>data table notebook</a>'\n",
              "            + ' to learn more about interactive tables.';\n",
              "          element.innerHTML = '';\n",
              "          dataTable['output_type'] = 'display_data';\n",
              "          await google.colab.output.renderOutput(dataTable, element);\n",
              "          const docLink = document.createElement('div');\n",
              "          docLink.innerHTML = docLinkHtml;\n",
              "          element.appendChild(docLink);\n",
              "        }\n",
              "      </script>\n",
              "    </div>\n",
              "  </div>\n",
              "  "
            ]
          },
          "metadata": {},
          "execution_count": 125
        }
      ],
      "source": [
        "train.describe()"
      ]
    },
    {
      "cell_type": "code",
      "execution_count": 126,
      "metadata": {
        "colab": {
          "base_uri": "https://localhost:8080/",
          "height": 175
        },
        "id": "0KUQW4tsiXnK",
        "outputId": "8d3228cc-2118-4bca-ba1d-0c68aaf881e9"
      },
      "outputs": [
        {
          "output_type": "execute_result",
          "data": {
            "text/plain": [
              "        Gender   Customer Type   Type of Travel     Class\n",
              "count    20781           20781            20781     20781\n",
              "unique       2               2                2         3\n",
              "top     Female  Loyal Customer  Business travel  Business\n",
              "freq     10610           17008            14345      9974"
            ],
            "text/html": [
              "\n",
              "  <div id=\"df-db489345-787f-4fb7-95a2-4a24f9e3b8d2\">\n",
              "    <div class=\"colab-df-container\">\n",
              "      <div>\n",
              "<style scoped>\n",
              "    .dataframe tbody tr th:only-of-type {\n",
              "        vertical-align: middle;\n",
              "    }\n",
              "\n",
              "    .dataframe tbody tr th {\n",
              "        vertical-align: top;\n",
              "    }\n",
              "\n",
              "    .dataframe thead th {\n",
              "        text-align: right;\n",
              "    }\n",
              "</style>\n",
              "<table border=\"1\" class=\"dataframe\">\n",
              "  <thead>\n",
              "    <tr style=\"text-align: right;\">\n",
              "      <th></th>\n",
              "      <th>Gender</th>\n",
              "      <th>Customer Type</th>\n",
              "      <th>Type of Travel</th>\n",
              "      <th>Class</th>\n",
              "    </tr>\n",
              "  </thead>\n",
              "  <tbody>\n",
              "    <tr>\n",
              "      <th>count</th>\n",
              "      <td>20781</td>\n",
              "      <td>20781</td>\n",
              "      <td>20781</td>\n",
              "      <td>20781</td>\n",
              "    </tr>\n",
              "    <tr>\n",
              "      <th>unique</th>\n",
              "      <td>2</td>\n",
              "      <td>2</td>\n",
              "      <td>2</td>\n",
              "      <td>3</td>\n",
              "    </tr>\n",
              "    <tr>\n",
              "      <th>top</th>\n",
              "      <td>Female</td>\n",
              "      <td>Loyal Customer</td>\n",
              "      <td>Business travel</td>\n",
              "      <td>Business</td>\n",
              "    </tr>\n",
              "    <tr>\n",
              "      <th>freq</th>\n",
              "      <td>10610</td>\n",
              "      <td>17008</td>\n",
              "      <td>14345</td>\n",
              "      <td>9974</td>\n",
              "    </tr>\n",
              "  </tbody>\n",
              "</table>\n",
              "</div>\n",
              "      <button class=\"colab-df-convert\" onclick=\"convertToInteractive('df-db489345-787f-4fb7-95a2-4a24f9e3b8d2')\"\n",
              "              title=\"Convert this dataframe to an interactive table.\"\n",
              "              style=\"display:none;\">\n",
              "        \n",
              "  <svg xmlns=\"http://www.w3.org/2000/svg\" height=\"24px\"viewBox=\"0 0 24 24\"\n",
              "       width=\"24px\">\n",
              "    <path d=\"M0 0h24v24H0V0z\" fill=\"none\"/>\n",
              "    <path d=\"M18.56 5.44l.94 2.06.94-2.06 2.06-.94-2.06-.94-.94-2.06-.94 2.06-2.06.94zm-11 1L8.5 8.5l.94-2.06 2.06-.94-2.06-.94L8.5 2.5l-.94 2.06-2.06.94zm10 10l.94 2.06.94-2.06 2.06-.94-2.06-.94-.94-2.06-.94 2.06-2.06.94z\"/><path d=\"M17.41 7.96l-1.37-1.37c-.4-.4-.92-.59-1.43-.59-.52 0-1.04.2-1.43.59L10.3 9.45l-7.72 7.72c-.78.78-.78 2.05 0 2.83L4 21.41c.39.39.9.59 1.41.59.51 0 1.02-.2 1.41-.59l7.78-7.78 2.81-2.81c.8-.78.8-2.07 0-2.86zM5.41 20L4 18.59l7.72-7.72 1.47 1.35L5.41 20z\"/>\n",
              "  </svg>\n",
              "      </button>\n",
              "      \n",
              "  <style>\n",
              "    .colab-df-container {\n",
              "      display:flex;\n",
              "      flex-wrap:wrap;\n",
              "      gap: 12px;\n",
              "    }\n",
              "\n",
              "    .colab-df-convert {\n",
              "      background-color: #E8F0FE;\n",
              "      border: none;\n",
              "      border-radius: 50%;\n",
              "      cursor: pointer;\n",
              "      display: none;\n",
              "      fill: #1967D2;\n",
              "      height: 32px;\n",
              "      padding: 0 0 0 0;\n",
              "      width: 32px;\n",
              "    }\n",
              "\n",
              "    .colab-df-convert:hover {\n",
              "      background-color: #E2EBFA;\n",
              "      box-shadow: 0px 1px 2px rgba(60, 64, 67, 0.3), 0px 1px 3px 1px rgba(60, 64, 67, 0.15);\n",
              "      fill: #174EA6;\n",
              "    }\n",
              "\n",
              "    [theme=dark] .colab-df-convert {\n",
              "      background-color: #3B4455;\n",
              "      fill: #D2E3FC;\n",
              "    }\n",
              "\n",
              "    [theme=dark] .colab-df-convert:hover {\n",
              "      background-color: #434B5C;\n",
              "      box-shadow: 0px 1px 3px 1px rgba(0, 0, 0, 0.15);\n",
              "      filter: drop-shadow(0px 1px 2px rgba(0, 0, 0, 0.3));\n",
              "      fill: #FFFFFF;\n",
              "    }\n",
              "  </style>\n",
              "\n",
              "      <script>\n",
              "        const buttonEl =\n",
              "          document.querySelector('#df-db489345-787f-4fb7-95a2-4a24f9e3b8d2 button.colab-df-convert');\n",
              "        buttonEl.style.display =\n",
              "          google.colab.kernel.accessAllowed ? 'block' : 'none';\n",
              "\n",
              "        async function convertToInteractive(key) {\n",
              "          const element = document.querySelector('#df-db489345-787f-4fb7-95a2-4a24f9e3b8d2');\n",
              "          const dataTable =\n",
              "            await google.colab.kernel.invokeFunction('convertToInteractive',\n",
              "                                                     [key], {});\n",
              "          if (!dataTable) return;\n",
              "\n",
              "          const docLinkHtml = 'Like what you see? Visit the ' +\n",
              "            '<a target=\"_blank\" href=https://colab.research.google.com/notebooks/data_table.ipynb>data table notebook</a>'\n",
              "            + ' to learn more about interactive tables.';\n",
              "          element.innerHTML = '';\n",
              "          dataTable['output_type'] = 'display_data';\n",
              "          await google.colab.output.renderOutput(dataTable, element);\n",
              "          const docLink = document.createElement('div');\n",
              "          docLink.innerHTML = docLinkHtml;\n",
              "          element.appendChild(docLink);\n",
              "        }\n",
              "      </script>\n",
              "    </div>\n",
              "  </div>\n",
              "  "
            ]
          },
          "metadata": {},
          "execution_count": 126
        }
      ],
      "source": [
        "test.describe(include = 'O')"
      ]
    },
    {
      "cell_type": "code",
      "execution_count": 127,
      "metadata": {
        "colab": {
          "base_uri": "https://localhost:8080/",
          "height": 175
        },
        "id": "yY1WVoAYiXi-",
        "outputId": "454fbf14-43df-494c-dec9-d0b3edd8722d"
      },
      "outputs": [
        {
          "output_type": "execute_result",
          "data": {
            "text/plain": [
              "        Gender   Customer Type   Type of Travel     Class  \\\n",
              "count    83123           83123            83123     83123   \n",
              "unique       2               2                2         3   \n",
              "top     Female  Loyal Customer  Business travel  Business   \n",
              "freq     42117           67915            57310     39691   \n",
              "\n",
              "                   satisfaction  \n",
              "count                     83123  \n",
              "unique                        2  \n",
              "top     neutral or dissatisfied  \n",
              "freq                      47004  "
            ],
            "text/html": [
              "\n",
              "  <div id=\"df-c12068f7-f50a-4012-abae-1dbb6a58c47b\">\n",
              "    <div class=\"colab-df-container\">\n",
              "      <div>\n",
              "<style scoped>\n",
              "    .dataframe tbody tr th:only-of-type {\n",
              "        vertical-align: middle;\n",
              "    }\n",
              "\n",
              "    .dataframe tbody tr th {\n",
              "        vertical-align: top;\n",
              "    }\n",
              "\n",
              "    .dataframe thead th {\n",
              "        text-align: right;\n",
              "    }\n",
              "</style>\n",
              "<table border=\"1\" class=\"dataframe\">\n",
              "  <thead>\n",
              "    <tr style=\"text-align: right;\">\n",
              "      <th></th>\n",
              "      <th>Gender</th>\n",
              "      <th>Customer Type</th>\n",
              "      <th>Type of Travel</th>\n",
              "      <th>Class</th>\n",
              "      <th>satisfaction</th>\n",
              "    </tr>\n",
              "  </thead>\n",
              "  <tbody>\n",
              "    <tr>\n",
              "      <th>count</th>\n",
              "      <td>83123</td>\n",
              "      <td>83123</td>\n",
              "      <td>83123</td>\n",
              "      <td>83123</td>\n",
              "      <td>83123</td>\n",
              "    </tr>\n",
              "    <tr>\n",
              "      <th>unique</th>\n",
              "      <td>2</td>\n",
              "      <td>2</td>\n",
              "      <td>2</td>\n",
              "      <td>3</td>\n",
              "      <td>2</td>\n",
              "    </tr>\n",
              "    <tr>\n",
              "      <th>top</th>\n",
              "      <td>Female</td>\n",
              "      <td>Loyal Customer</td>\n",
              "      <td>Business travel</td>\n",
              "      <td>Business</td>\n",
              "      <td>neutral or dissatisfied</td>\n",
              "    </tr>\n",
              "    <tr>\n",
              "      <th>freq</th>\n",
              "      <td>42117</td>\n",
              "      <td>67915</td>\n",
              "      <td>57310</td>\n",
              "      <td>39691</td>\n",
              "      <td>47004</td>\n",
              "    </tr>\n",
              "  </tbody>\n",
              "</table>\n",
              "</div>\n",
              "      <button class=\"colab-df-convert\" onclick=\"convertToInteractive('df-c12068f7-f50a-4012-abae-1dbb6a58c47b')\"\n",
              "              title=\"Convert this dataframe to an interactive table.\"\n",
              "              style=\"display:none;\">\n",
              "        \n",
              "  <svg xmlns=\"http://www.w3.org/2000/svg\" height=\"24px\"viewBox=\"0 0 24 24\"\n",
              "       width=\"24px\">\n",
              "    <path d=\"M0 0h24v24H0V0z\" fill=\"none\"/>\n",
              "    <path d=\"M18.56 5.44l.94 2.06.94-2.06 2.06-.94-2.06-.94-.94-2.06-.94 2.06-2.06.94zm-11 1L8.5 8.5l.94-2.06 2.06-.94-2.06-.94L8.5 2.5l-.94 2.06-2.06.94zm10 10l.94 2.06.94-2.06 2.06-.94-2.06-.94-.94-2.06-.94 2.06-2.06.94z\"/><path d=\"M17.41 7.96l-1.37-1.37c-.4-.4-.92-.59-1.43-.59-.52 0-1.04.2-1.43.59L10.3 9.45l-7.72 7.72c-.78.78-.78 2.05 0 2.83L4 21.41c.39.39.9.59 1.41.59.51 0 1.02-.2 1.41-.59l7.78-7.78 2.81-2.81c.8-.78.8-2.07 0-2.86zM5.41 20L4 18.59l7.72-7.72 1.47 1.35L5.41 20z\"/>\n",
              "  </svg>\n",
              "      </button>\n",
              "      \n",
              "  <style>\n",
              "    .colab-df-container {\n",
              "      display:flex;\n",
              "      flex-wrap:wrap;\n",
              "      gap: 12px;\n",
              "    }\n",
              "\n",
              "    .colab-df-convert {\n",
              "      background-color: #E8F0FE;\n",
              "      border: none;\n",
              "      border-radius: 50%;\n",
              "      cursor: pointer;\n",
              "      display: none;\n",
              "      fill: #1967D2;\n",
              "      height: 32px;\n",
              "      padding: 0 0 0 0;\n",
              "      width: 32px;\n",
              "    }\n",
              "\n",
              "    .colab-df-convert:hover {\n",
              "      background-color: #E2EBFA;\n",
              "      box-shadow: 0px 1px 2px rgba(60, 64, 67, 0.3), 0px 1px 3px 1px rgba(60, 64, 67, 0.15);\n",
              "      fill: #174EA6;\n",
              "    }\n",
              "\n",
              "    [theme=dark] .colab-df-convert {\n",
              "      background-color: #3B4455;\n",
              "      fill: #D2E3FC;\n",
              "    }\n",
              "\n",
              "    [theme=dark] .colab-df-convert:hover {\n",
              "      background-color: #434B5C;\n",
              "      box-shadow: 0px 1px 3px 1px rgba(0, 0, 0, 0.15);\n",
              "      filter: drop-shadow(0px 1px 2px rgba(0, 0, 0, 0.3));\n",
              "      fill: #FFFFFF;\n",
              "    }\n",
              "  </style>\n",
              "\n",
              "      <script>\n",
              "        const buttonEl =\n",
              "          document.querySelector('#df-c12068f7-f50a-4012-abae-1dbb6a58c47b button.colab-df-convert');\n",
              "        buttonEl.style.display =\n",
              "          google.colab.kernel.accessAllowed ? 'block' : 'none';\n",
              "\n",
              "        async function convertToInteractive(key) {\n",
              "          const element = document.querySelector('#df-c12068f7-f50a-4012-abae-1dbb6a58c47b');\n",
              "          const dataTable =\n",
              "            await google.colab.kernel.invokeFunction('convertToInteractive',\n",
              "                                                     [key], {});\n",
              "          if (!dataTable) return;\n",
              "\n",
              "          const docLinkHtml = 'Like what you see? Visit the ' +\n",
              "            '<a target=\"_blank\" href=https://colab.research.google.com/notebooks/data_table.ipynb>data table notebook</a>'\n",
              "            + ' to learn more about interactive tables.';\n",
              "          element.innerHTML = '';\n",
              "          dataTable['output_type'] = 'display_data';\n",
              "          await google.colab.output.renderOutput(dataTable, element);\n",
              "          const docLink = document.createElement('div');\n",
              "          docLink.innerHTML = docLinkHtml;\n",
              "          element.appendChild(docLink);\n",
              "        }\n",
              "      </script>\n",
              "    </div>\n",
              "  </div>\n",
              "  "
            ]
          },
          "metadata": {},
          "execution_count": 127
        }
      ],
      "source": [
        "train.describe(include = 'O')"
      ]
    },
    {
      "cell_type": "code",
      "execution_count": 128,
      "metadata": {
        "colab": {
          "base_uri": "https://localhost:8080/"
        },
        "id": "oe3m2o2uiXez",
        "outputId": "3c9ac269-1d84-46b1-ffbb-fd9569eba8d5"
      },
      "outputs": [
        {
          "output_type": "stream",
          "name": "stderr",
          "text": [
            "/usr/local/lib/python3.7/dist-packages/ipykernel_launcher.py:1: FutureWarning: Dropping of nuisance columns in DataFrame reductions (with 'numeric_only=None') is deprecated; in a future version this will raise TypeError.  Select only valid columns before calling the reduction.\n",
            "  \"\"\"Entry point for launching an IPython kernel.\n"
          ]
        },
        {
          "output_type": "execute_result",
          "data": {
            "text/plain": [
              "id                                   0.005261\n",
              "Age                                  0.003280\n",
              "Flight Distance                      1.112604\n",
              "Inflight wifi service                0.047093\n",
              "Departure/Arrival time convenient   -0.330145\n",
              "Ease of Online booking              -0.018627\n",
              "Gate location                       -0.056956\n",
              "Food and drink                      -0.145817\n",
              "Online boarding                     -0.438572\n",
              "Seat comfort                        -0.468588\n",
              "Inflight entertainment              -0.355928\n",
              "On-board service                    -0.421198\n",
              "Leg room service                    -0.353481\n",
              "Baggage handling                    -0.674065\n",
              "Checkin service                     -0.353501\n",
              "Inflight service                    -0.684252\n",
              "Cleanliness                         -0.289092\n",
              "Departure Delay in Minutes           5.793870\n",
              "Arrival Delay in Minutes             5.733458\n",
              "dtype: float64"
            ]
          },
          "metadata": {},
          "execution_count": 128
        }
      ],
      "source": [
        "test.skew()"
      ]
    },
    {
      "cell_type": "code",
      "execution_count": 129,
      "metadata": {
        "colab": {
          "base_uri": "https://localhost:8080/"
        },
        "id": "q6bGRnDRiXah",
        "outputId": "6b846256-f2d7-4db5-d07d-4072c8d34349"
      },
      "outputs": [
        {
          "output_type": "stream",
          "name": "stderr",
          "text": [
            "/usr/local/lib/python3.7/dist-packages/ipykernel_launcher.py:1: FutureWarning: Dropping of nuisance columns in DataFrame reductions (with 'numeric_only=None') is deprecated; in a future version this will raise TypeError.  Select only valid columns before calling the reduction.\n",
            "  \"\"\"Entry point for launching an IPython kernel.\n"
          ]
        },
        {
          "output_type": "execute_result",
          "data": {
            "text/plain": [
              "id                                   0.002264\n",
              "Age                                 -0.006553\n",
              "Flight Distance                      1.108657\n",
              "Inflight wifi service                0.038675\n",
              "Departure/Arrival time convenient   -0.335497\n",
              "Ease of Online booking              -0.018196\n",
              "Gate location                       -0.059396\n",
              "Food and drink                      -0.152690\n",
              "Online boarding                     -0.457685\n",
              "Seat comfort                        -0.486340\n",
              "Inflight entertainment              -0.367411\n",
              "On-board service                    -0.419734\n",
              "Leg room service                    -0.349383\n",
              "Baggage handling                    -0.677718\n",
              "Checkin service                     -0.367859\n",
              "Inflight service                    -0.691739\n",
              "Cleanliness                         -0.302929\n",
              "Departure Delay in Minutes           6.980063\n",
              "Arrival Delay in Minutes             6.829916\n",
              "dtype: float64"
            ]
          },
          "metadata": {},
          "execution_count": 129
        }
      ],
      "source": [
        "train.skew()"
      ]
    },
    {
      "cell_type": "markdown",
      "metadata": {
        "id": "fdk5CXDjdgVM"
      },
      "source": [
        "**Observations**:\n",
        "----------------\n",
        "> **Train Dataset**\n",
        "   - The data in columns: **Departure Delay in Minutes** and **Arrival Delay in Minutes** is highly right skewed data.\n",
        "\n",
        "     \n",
        "> **Test Dataset**\n",
        "   - The data in columns: **Departure Delay in Minutes** and **Arrival Delay in Minutes** is highly right skewed data.\n",
        "    \n",
        ">  It shows that most people prefer this airline while travelling for **Business purposes.** Maximum no. of passengers are **females** and mostly adults.\n",
        "\n",
        ">  Most of the passengers seem to be dissatisfied or have a neutral experience using this airline.  \n",
        "\n",
        ">  We have to perform label encoding for the categorical variables to implement ML models."
      ]
    },
    {
      "cell_type": "markdown",
      "metadata": {
        "id": "YswxJeYPRlVJ"
      },
      "source": [
        "# *Data Pre-Profiling*"
      ]
    },
    {
      "cell_type": "markdown",
      "metadata": {
        "id": "ndztkH9kjXbd"
      },
      "source": [
        "## **Pre Profiling Report**\n",
        "\n",
        "- For **quick analysis** pandas profiling is very handy.\n",
        "\n",
        "- Generates profile reports from a pandas DataFrame.\n",
        "\n",
        "- For each column **statistics** are presented in an interactive HTML report."
      ]
    },
    {
      "cell_type": "code",
      "execution_count": 130,
      "metadata": {
        "id": "FWD_7m03RrTk"
      },
      "outputs": [],
      "source": [
        "# profile = ProfileReport(df = train)\n",
        "# profile.to_file(output_file = 'Pre Profiling Report.html')\n",
        "# print('Accomplished!')"
      ]
    },
    {
      "cell_type": "markdown",
      "metadata": {
        "id": "wc5z7sNRRtbg"
      },
      "source": [
        "**Observations:**\n",
        "\n",
        "- There are **24 features** with **83123 unique observations** in the dataset.Total memory used is **15.2 MB**.\n",
        "\n",
        "- Dataset has **no duplicate rows**.\n",
        "\n",
        "- **251 cells** in column: **Arrival Delay in Minutes** have **missing** values. The data in the column is highly skewed data. \n",
        "\n",
        "- The **female** passengers are higher than **males.** \n"
      ]
    },
    {
      "cell_type": "markdown",
      "metadata": {
        "id": "8XI0JEr8QJNM"
      },
      "source": [
        "# *Data Preparation*"
      ]
    },
    {
      "cell_type": "markdown",
      "metadata": {
        "id": "xjS4Ny3qm7CT"
      },
      "source": [
        "## **Missing Values Imputation**"
      ]
    },
    {
      "cell_type": "markdown",
      "metadata": {
        "id": "lpBmIIK82Bsl"
      },
      "source": [
        "**Test Dataset**\n",
        "\n"
      ]
    },
    {
      "cell_type": "code",
      "execution_count": 131,
      "metadata": {
        "colab": {
          "base_uri": "https://localhost:8080/"
        },
        "id": "NojYmJFS2xmN",
        "outputId": "d3e84bed-3bfe-4e7f-b1d1-697bbce345fb"
      },
      "outputs": [
        {
          "output_type": "execute_result",
          "data": {
            "text/plain": [
              "id                                    0\n",
              "Gender                                0\n",
              "Customer Type                         0\n",
              "Age                                   0\n",
              "Type of Travel                        0\n",
              "Class                                 0\n",
              "Flight Distance                       0\n",
              "Inflight wifi service                 0\n",
              "Departure/Arrival time convenient     0\n",
              "Ease of Online booking                0\n",
              "Gate location                         0\n",
              "Food and drink                        0\n",
              "Online boarding                       0\n",
              "Seat comfort                          0\n",
              "Inflight entertainment                0\n",
              "On-board service                      0\n",
              "Leg room service                      0\n",
              "Baggage handling                      0\n",
              "Checkin service                       0\n",
              "Inflight service                      0\n",
              "Cleanliness                           0\n",
              "Departure Delay in Minutes            0\n",
              "Arrival Delay in Minutes             59\n",
              "dtype: int64"
            ]
          },
          "metadata": {},
          "execution_count": 131
        }
      ],
      "source": [
        "test.isna().sum()"
      ]
    },
    {
      "cell_type": "markdown",
      "metadata": {
        "id": "Hr768EIJ2NW7"
      },
      "source": [
        "**Train Dataset**"
      ]
    },
    {
      "cell_type": "code",
      "execution_count": 132,
      "metadata": {
        "colab": {
          "base_uri": "https://localhost:8080/"
        },
        "id": "Cl8YaBAa2xfK",
        "outputId": "866646c5-ad90-4db3-904f-200ddd36f91b"
      },
      "outputs": [
        {
          "output_type": "execute_result",
          "data": {
            "text/plain": [
              "id                                     0\n",
              "Gender                                 0\n",
              "Customer Type                          0\n",
              "Age                                    0\n",
              "Type of Travel                         0\n",
              "Class                                  0\n",
              "Flight Distance                        0\n",
              "Inflight wifi service                  0\n",
              "Departure/Arrival time convenient      0\n",
              "Ease of Online booking                 0\n",
              "Gate location                          0\n",
              "Food and drink                         0\n",
              "Online boarding                        0\n",
              "Seat comfort                           0\n",
              "Inflight entertainment                 0\n",
              "On-board service                       0\n",
              "Leg room service                       0\n",
              "Baggage handling                       0\n",
              "Checkin service                        0\n",
              "Inflight service                       0\n",
              "Cleanliness                            0\n",
              "Departure Delay in Minutes             0\n",
              "Arrival Delay in Minutes             251\n",
              "satisfaction                           0\n",
              "dtype: int64"
            ]
          },
          "metadata": {},
          "execution_count": 132
        }
      ],
      "source": [
        "train.isna().sum()"
      ]
    },
    {
      "cell_type": "code",
      "execution_count": 133,
      "metadata": {
        "id": "Ay1kwP6Nm4nZ"
      },
      "outputs": [],
      "source": [
        "# The missing values in **Arrival Delay in Minutes** column for both train and test datasets have been replaced with the median value since it has highly skewed data.\n",
        "\n",
        "test['Arrival Delay in Minutes'].fillna(test['Arrival Delay in Minutes'].median(), inplace = True)\n",
        "\n",
        "train['Arrival Delay in Minutes'].fillna(train['Arrival Delay in Minutes'].median(), inplace = True)"
      ]
    },
    {
      "cell_type": "markdown",
      "metadata": {
        "id": "OD4Q_8pi4k67"
      },
      "source": [
        "## **Inconsistencies**"
      ]
    },
    {
      "cell_type": "code",
      "execution_count": 134,
      "metadata": {
        "colab": {
          "base_uri": "https://localhost:8080/"
        },
        "id": "qUxcYmm540P0",
        "outputId": "ed56496e-fc05-40b9-c501-1f668ec98f26"
      },
      "outputs": [
        {
          "output_type": "execute_result",
          "data": {
            "text/plain": [
              "False    83123\n",
              "dtype: int64"
            ]
          },
          "metadata": {},
          "execution_count": 134
        }
      ],
      "source": [
        "train.duplicated().value_counts()"
      ]
    },
    {
      "cell_type": "code",
      "execution_count": 135,
      "metadata": {
        "colab": {
          "base_uri": "https://localhost:8080/"
        },
        "id": "EH28q6sA40Lb",
        "outputId": "2106e155-17e8-4a50-d6fe-66f723a12ee7"
      },
      "outputs": [
        {
          "output_type": "execute_result",
          "data": {
            "text/plain": [
              "False    20781\n",
              "dtype: int64"
            ]
          },
          "metadata": {},
          "execution_count": 135
        }
      ],
      "source": [
        "test.duplicated().value_counts()"
      ]
    },
    {
      "cell_type": "markdown",
      "metadata": {
        "id": "jsiJyPY44Weq"
      },
      "source": [
        "## **Feature Engineering**"
      ]
    },
    {
      "cell_type": "markdown",
      "source": [
        "Created new columns:  **Arrival Delay in Hrs** and **Departure Delay in Hrs** measured in Hours using the columns: **Arrival Delay in Minutes** and **Departure Delay in Minutes** measured in minutes respectively."
      ],
      "metadata": {
        "id": "w1yu-TYpcPkR"
      }
    },
    {
      "cell_type": "code",
      "execution_count": 136,
      "metadata": {
        "id": "zkgIdOi2iXW3"
      },
      "outputs": [],
      "source": [
        "test['Arrival Delay in Hrs'] = np.round(test['Arrival Delay in Minutes']/ 60, 2)\n",
        "train['Arrival Delay in Hrs'] = np.round(train['Arrival Delay in Minutes']/ 60, 2)"
      ]
    },
    {
      "cell_type": "code",
      "execution_count": 137,
      "metadata": {
        "id": "gZbnYIZElx_z"
      },
      "outputs": [],
      "source": [
        "test['Departure Delay in Hrs'] = np.round(test['Departure Delay in Minutes'] / 60, 2)\n",
        "train['Departure Delay in Hrs'] = np.round(train['Departure Delay in Minutes']/ 60, 2)\n"
      ]
    },
    {
      "cell_type": "code",
      "execution_count": 138,
      "metadata": {
        "id": "hi4-iSbT3LfL"
      },
      "outputs": [],
      "source": [
        "test.drop(['Arrival Delay in Minutes'], axis = 1, inplace = True)\n",
        "test.drop(['Departure Delay in Minutes'], axis = 1, inplace = True)\n",
        "test.drop(['id'], axis = 1, inplace = True)"
      ]
    },
    {
      "cell_type": "code",
      "execution_count": 139,
      "metadata": {
        "id": "sF1wm2JM3LVl"
      },
      "outputs": [],
      "source": [
        "train.drop(['Arrival Delay in Minutes'], axis = 1, inplace = True)\n",
        "train.drop(['Departure Delay in Minutes'], axis = 1, inplace = True)\n",
        "train.drop(['id'], axis = 1, inplace = True)"
      ]
    },
    {
      "cell_type": "code",
      "execution_count": 140,
      "metadata": {
        "colab": {
          "base_uri": "https://localhost:8080/",
          "height": 421
        },
        "id": "_GZig7_Zlx7E",
        "outputId": "aa06c633-932a-4d67-ede6-4d90ec7e0106"
      },
      "outputs": [
        {
          "output_type": "execute_result",
          "data": {
            "text/plain": [
              "   Gender      Customer Type  Age   Type of Travel     Class  Flight Distance  \\\n",
              "0  Female     Loyal Customer   30  Personal Travel       Eco              193   \n",
              "1  Female     Loyal Customer   51  Business travel       Eco              925   \n",
              "2    Male  disloyal Customer   27  Business travel       Eco              505   \n",
              "3  Female     Loyal Customer   52  Business travel  Business             2953   \n",
              "4  Female  disloyal Customer   15  Business travel       Eco             1352   \n",
              "\n",
              "   Inflight wifi service  Departure/Arrival time convenient  \\\n",
              "0                      3                                  4   \n",
              "1                      2                                  1   \n",
              "2                      0                                  0   \n",
              "3                      2                                  2   \n",
              "4                      4                                  4   \n",
              "\n",
              "   Ease of Online booking  Gate location  ...  Inflight entertainment  \\\n",
              "0                       0              3  ...                       5   \n",
              "1                       1              1  ...                       2   \n",
              "2                       0              4  ...                       1   \n",
              "3                       2              2  ...                       5   \n",
              "4                       4              2  ...                       2   \n",
              "\n",
              "   On-board service  Leg room service  Baggage handling  Checkin service  \\\n",
              "0                 4                 5                 3                4   \n",
              "1                 2                 2                 2                3   \n",
              "2                 5                 5                 2                3   \n",
              "3                 5                 5                 5                4   \n",
              "4                 4                 3                 5                3   \n",
              "\n",
              "   Inflight service  Cleanliness             satisfaction  \\\n",
              "0                 4            5  neutral or dissatisfied   \n",
              "1                 2            3  neutral or dissatisfied   \n",
              "2                 2            1                satisfied   \n",
              "3                 5            5                satisfied   \n",
              "4                 5            2                satisfied   \n",
              "\n",
              "   Arrival Delay in Hrs  Departure Delay in Hrs  \n",
              "0                  0.00                    0.00  \n",
              "1                  0.48                    0.78  \n",
              "2                  0.00                    0.00  \n",
              "3                  0.03                    0.17  \n",
              "4                  0.00                    0.00  \n",
              "\n",
              "[5 rows x 23 columns]"
            ],
            "text/html": [
              "\n",
              "  <div id=\"df-6fb974f9-ff88-4b44-a020-7720ec89deae\">\n",
              "    <div class=\"colab-df-container\">\n",
              "      <div>\n",
              "<style scoped>\n",
              "    .dataframe tbody tr th:only-of-type {\n",
              "        vertical-align: middle;\n",
              "    }\n",
              "\n",
              "    .dataframe tbody tr th {\n",
              "        vertical-align: top;\n",
              "    }\n",
              "\n",
              "    .dataframe thead th {\n",
              "        text-align: right;\n",
              "    }\n",
              "</style>\n",
              "<table border=\"1\" class=\"dataframe\">\n",
              "  <thead>\n",
              "    <tr style=\"text-align: right;\">\n",
              "      <th></th>\n",
              "      <th>Gender</th>\n",
              "      <th>Customer Type</th>\n",
              "      <th>Age</th>\n",
              "      <th>Type of Travel</th>\n",
              "      <th>Class</th>\n",
              "      <th>Flight Distance</th>\n",
              "      <th>Inflight wifi service</th>\n",
              "      <th>Departure/Arrival time convenient</th>\n",
              "      <th>Ease of Online booking</th>\n",
              "      <th>Gate location</th>\n",
              "      <th>...</th>\n",
              "      <th>Inflight entertainment</th>\n",
              "      <th>On-board service</th>\n",
              "      <th>Leg room service</th>\n",
              "      <th>Baggage handling</th>\n",
              "      <th>Checkin service</th>\n",
              "      <th>Inflight service</th>\n",
              "      <th>Cleanliness</th>\n",
              "      <th>satisfaction</th>\n",
              "      <th>Arrival Delay in Hrs</th>\n",
              "      <th>Departure Delay in Hrs</th>\n",
              "    </tr>\n",
              "  </thead>\n",
              "  <tbody>\n",
              "    <tr>\n",
              "      <th>0</th>\n",
              "      <td>Female</td>\n",
              "      <td>Loyal Customer</td>\n",
              "      <td>30</td>\n",
              "      <td>Personal Travel</td>\n",
              "      <td>Eco</td>\n",
              "      <td>193</td>\n",
              "      <td>3</td>\n",
              "      <td>4</td>\n",
              "      <td>0</td>\n",
              "      <td>3</td>\n",
              "      <td>...</td>\n",
              "      <td>5</td>\n",
              "      <td>4</td>\n",
              "      <td>5</td>\n",
              "      <td>3</td>\n",
              "      <td>4</td>\n",
              "      <td>4</td>\n",
              "      <td>5</td>\n",
              "      <td>neutral or dissatisfied</td>\n",
              "      <td>0.00</td>\n",
              "      <td>0.00</td>\n",
              "    </tr>\n",
              "    <tr>\n",
              "      <th>1</th>\n",
              "      <td>Female</td>\n",
              "      <td>Loyal Customer</td>\n",
              "      <td>51</td>\n",
              "      <td>Business travel</td>\n",
              "      <td>Eco</td>\n",
              "      <td>925</td>\n",
              "      <td>2</td>\n",
              "      <td>1</td>\n",
              "      <td>1</td>\n",
              "      <td>1</td>\n",
              "      <td>...</td>\n",
              "      <td>2</td>\n",
              "      <td>2</td>\n",
              "      <td>2</td>\n",
              "      <td>2</td>\n",
              "      <td>3</td>\n",
              "      <td>2</td>\n",
              "      <td>3</td>\n",
              "      <td>neutral or dissatisfied</td>\n",
              "      <td>0.48</td>\n",
              "      <td>0.78</td>\n",
              "    </tr>\n",
              "    <tr>\n",
              "      <th>2</th>\n",
              "      <td>Male</td>\n",
              "      <td>disloyal Customer</td>\n",
              "      <td>27</td>\n",
              "      <td>Business travel</td>\n",
              "      <td>Eco</td>\n",
              "      <td>505</td>\n",
              "      <td>0</td>\n",
              "      <td>0</td>\n",
              "      <td>0</td>\n",
              "      <td>4</td>\n",
              "      <td>...</td>\n",
              "      <td>1</td>\n",
              "      <td>5</td>\n",
              "      <td>5</td>\n",
              "      <td>2</td>\n",
              "      <td>3</td>\n",
              "      <td>2</td>\n",
              "      <td>1</td>\n",
              "      <td>satisfied</td>\n",
              "      <td>0.00</td>\n",
              "      <td>0.00</td>\n",
              "    </tr>\n",
              "    <tr>\n",
              "      <th>3</th>\n",
              "      <td>Female</td>\n",
              "      <td>Loyal Customer</td>\n",
              "      <td>52</td>\n",
              "      <td>Business travel</td>\n",
              "      <td>Business</td>\n",
              "      <td>2953</td>\n",
              "      <td>2</td>\n",
              "      <td>2</td>\n",
              "      <td>2</td>\n",
              "      <td>2</td>\n",
              "      <td>...</td>\n",
              "      <td>5</td>\n",
              "      <td>5</td>\n",
              "      <td>5</td>\n",
              "      <td>5</td>\n",
              "      <td>4</td>\n",
              "      <td>5</td>\n",
              "      <td>5</td>\n",
              "      <td>satisfied</td>\n",
              "      <td>0.03</td>\n",
              "      <td>0.17</td>\n",
              "    </tr>\n",
              "    <tr>\n",
              "      <th>4</th>\n",
              "      <td>Female</td>\n",
              "      <td>disloyal Customer</td>\n",
              "      <td>15</td>\n",
              "      <td>Business travel</td>\n",
              "      <td>Eco</td>\n",
              "      <td>1352</td>\n",
              "      <td>4</td>\n",
              "      <td>4</td>\n",
              "      <td>4</td>\n",
              "      <td>2</td>\n",
              "      <td>...</td>\n",
              "      <td>2</td>\n",
              "      <td>4</td>\n",
              "      <td>3</td>\n",
              "      <td>5</td>\n",
              "      <td>3</td>\n",
              "      <td>5</td>\n",
              "      <td>2</td>\n",
              "      <td>satisfied</td>\n",
              "      <td>0.00</td>\n",
              "      <td>0.00</td>\n",
              "    </tr>\n",
              "  </tbody>\n",
              "</table>\n",
              "<p>5 rows × 23 columns</p>\n",
              "</div>\n",
              "      <button class=\"colab-df-convert\" onclick=\"convertToInteractive('df-6fb974f9-ff88-4b44-a020-7720ec89deae')\"\n",
              "              title=\"Convert this dataframe to an interactive table.\"\n",
              "              style=\"display:none;\">\n",
              "        \n",
              "  <svg xmlns=\"http://www.w3.org/2000/svg\" height=\"24px\"viewBox=\"0 0 24 24\"\n",
              "       width=\"24px\">\n",
              "    <path d=\"M0 0h24v24H0V0z\" fill=\"none\"/>\n",
              "    <path d=\"M18.56 5.44l.94 2.06.94-2.06 2.06-.94-2.06-.94-.94-2.06-.94 2.06-2.06.94zm-11 1L8.5 8.5l.94-2.06 2.06-.94-2.06-.94L8.5 2.5l-.94 2.06-2.06.94zm10 10l.94 2.06.94-2.06 2.06-.94-2.06-.94-.94-2.06-.94 2.06-2.06.94z\"/><path d=\"M17.41 7.96l-1.37-1.37c-.4-.4-.92-.59-1.43-.59-.52 0-1.04.2-1.43.59L10.3 9.45l-7.72 7.72c-.78.78-.78 2.05 0 2.83L4 21.41c.39.39.9.59 1.41.59.51 0 1.02-.2 1.41-.59l7.78-7.78 2.81-2.81c.8-.78.8-2.07 0-2.86zM5.41 20L4 18.59l7.72-7.72 1.47 1.35L5.41 20z\"/>\n",
              "  </svg>\n",
              "      </button>\n",
              "      \n",
              "  <style>\n",
              "    .colab-df-container {\n",
              "      display:flex;\n",
              "      flex-wrap:wrap;\n",
              "      gap: 12px;\n",
              "    }\n",
              "\n",
              "    .colab-df-convert {\n",
              "      background-color: #E8F0FE;\n",
              "      border: none;\n",
              "      border-radius: 50%;\n",
              "      cursor: pointer;\n",
              "      display: none;\n",
              "      fill: #1967D2;\n",
              "      height: 32px;\n",
              "      padding: 0 0 0 0;\n",
              "      width: 32px;\n",
              "    }\n",
              "\n",
              "    .colab-df-convert:hover {\n",
              "      background-color: #E2EBFA;\n",
              "      box-shadow: 0px 1px 2px rgba(60, 64, 67, 0.3), 0px 1px 3px 1px rgba(60, 64, 67, 0.15);\n",
              "      fill: #174EA6;\n",
              "    }\n",
              "\n",
              "    [theme=dark] .colab-df-convert {\n",
              "      background-color: #3B4455;\n",
              "      fill: #D2E3FC;\n",
              "    }\n",
              "\n",
              "    [theme=dark] .colab-df-convert:hover {\n",
              "      background-color: #434B5C;\n",
              "      box-shadow: 0px 1px 3px 1px rgba(0, 0, 0, 0.15);\n",
              "      filter: drop-shadow(0px 1px 2px rgba(0, 0, 0, 0.3));\n",
              "      fill: #FFFFFF;\n",
              "    }\n",
              "  </style>\n",
              "\n",
              "      <script>\n",
              "        const buttonEl =\n",
              "          document.querySelector('#df-6fb974f9-ff88-4b44-a020-7720ec89deae button.colab-df-convert');\n",
              "        buttonEl.style.display =\n",
              "          google.colab.kernel.accessAllowed ? 'block' : 'none';\n",
              "\n",
              "        async function convertToInteractive(key) {\n",
              "          const element = document.querySelector('#df-6fb974f9-ff88-4b44-a020-7720ec89deae');\n",
              "          const dataTable =\n",
              "            await google.colab.kernel.invokeFunction('convertToInteractive',\n",
              "                                                     [key], {});\n",
              "          if (!dataTable) return;\n",
              "\n",
              "          const docLinkHtml = 'Like what you see? Visit the ' +\n",
              "            '<a target=\"_blank\" href=https://colab.research.google.com/notebooks/data_table.ipynb>data table notebook</a>'\n",
              "            + ' to learn more about interactive tables.';\n",
              "          element.innerHTML = '';\n",
              "          dataTable['output_type'] = 'display_data';\n",
              "          await google.colab.output.renderOutput(dataTable, element);\n",
              "          const docLink = document.createElement('div');\n",
              "          docLink.innerHTML = docLinkHtml;\n",
              "          element.appendChild(docLink);\n",
              "        }\n",
              "      </script>\n",
              "    </div>\n",
              "  </div>\n",
              "  "
            ]
          },
          "metadata": {},
          "execution_count": 140
        }
      ],
      "source": [
        "train.head()"
      ]
    },
    {
      "cell_type": "code",
      "execution_count": 141,
      "metadata": {
        "colab": {
          "base_uri": "https://localhost:8080/",
          "height": 421
        },
        "id": "xqd8TtAeiWlF",
        "outputId": "42023e97-b1c9-43e3-b3fc-19b3814a1910"
      },
      "outputs": [
        {
          "output_type": "execute_result",
          "data": {
            "text/plain": [
              "   Gender      Customer Type  Age   Type of Travel     Class  Flight Distance  \\\n",
              "0    Male     Loyal Customer   41  Business travel       Eco              303   \n",
              "1  Female     Loyal Customer   18  Business travel  Business              391   \n",
              "2  Female     Loyal Customer   13  Personal Travel  Eco Plus              569   \n",
              "3    Male  disloyal Customer   23  Business travel       Eco              109   \n",
              "4    Male     Loyal Customer   23  Personal Travel  Business               83   \n",
              "\n",
              "   Inflight wifi service  Departure/Arrival time convenient  \\\n",
              "0                      5                                  3   \n",
              "1                      1                                  5   \n",
              "2                      2                                  4   \n",
              "3                      1                                  0   \n",
              "4                      4                                  5   \n",
              "\n",
              "   Ease of Online booking  Gate location  ...  Seat comfort  \\\n",
              "0                       3              3  ...             5   \n",
              "1                       5              5  ...             1   \n",
              "2                       2              3  ...             1   \n",
              "3                       1              1  ...             1   \n",
              "4                       0              3  ...             5   \n",
              "\n",
              "   Inflight entertainment  On-board service  Leg room service  \\\n",
              "0                       5                 4                 3   \n",
              "1                       1                 4                 3   \n",
              "2                       1                 5                 4   \n",
              "3                       3                 2                 5   \n",
              "4                       5                 3                 5   \n",
              "\n",
              "   Baggage handling  Checkin service  Inflight service  Cleanliness  \\\n",
              "0                 3                5                 5            5   \n",
              "1                 3                1                 4            1   \n",
              "2                 4                5                 5            1   \n",
              "3                 5                3                 1            3   \n",
              "4                 4                3                 5            5   \n",
              "\n",
              "   Arrival Delay in Hrs  Departure Delay in Hrs  \n",
              "0                  0.00                    0.00  \n",
              "1                  0.28                    0.28  \n",
              "2                  0.00                    0.00  \n",
              "3                  0.00                    0.00  \n",
              "4                  0.00                    0.00  \n",
              "\n",
              "[5 rows x 22 columns]"
            ],
            "text/html": [
              "\n",
              "  <div id=\"df-68de1e0c-b051-4b04-99d4-532fa75a3902\">\n",
              "    <div class=\"colab-df-container\">\n",
              "      <div>\n",
              "<style scoped>\n",
              "    .dataframe tbody tr th:only-of-type {\n",
              "        vertical-align: middle;\n",
              "    }\n",
              "\n",
              "    .dataframe tbody tr th {\n",
              "        vertical-align: top;\n",
              "    }\n",
              "\n",
              "    .dataframe thead th {\n",
              "        text-align: right;\n",
              "    }\n",
              "</style>\n",
              "<table border=\"1\" class=\"dataframe\">\n",
              "  <thead>\n",
              "    <tr style=\"text-align: right;\">\n",
              "      <th></th>\n",
              "      <th>Gender</th>\n",
              "      <th>Customer Type</th>\n",
              "      <th>Age</th>\n",
              "      <th>Type of Travel</th>\n",
              "      <th>Class</th>\n",
              "      <th>Flight Distance</th>\n",
              "      <th>Inflight wifi service</th>\n",
              "      <th>Departure/Arrival time convenient</th>\n",
              "      <th>Ease of Online booking</th>\n",
              "      <th>Gate location</th>\n",
              "      <th>...</th>\n",
              "      <th>Seat comfort</th>\n",
              "      <th>Inflight entertainment</th>\n",
              "      <th>On-board service</th>\n",
              "      <th>Leg room service</th>\n",
              "      <th>Baggage handling</th>\n",
              "      <th>Checkin service</th>\n",
              "      <th>Inflight service</th>\n",
              "      <th>Cleanliness</th>\n",
              "      <th>Arrival Delay in Hrs</th>\n",
              "      <th>Departure Delay in Hrs</th>\n",
              "    </tr>\n",
              "  </thead>\n",
              "  <tbody>\n",
              "    <tr>\n",
              "      <th>0</th>\n",
              "      <td>Male</td>\n",
              "      <td>Loyal Customer</td>\n",
              "      <td>41</td>\n",
              "      <td>Business travel</td>\n",
              "      <td>Eco</td>\n",
              "      <td>303</td>\n",
              "      <td>5</td>\n",
              "      <td>3</td>\n",
              "      <td>3</td>\n",
              "      <td>3</td>\n",
              "      <td>...</td>\n",
              "      <td>5</td>\n",
              "      <td>5</td>\n",
              "      <td>4</td>\n",
              "      <td>3</td>\n",
              "      <td>3</td>\n",
              "      <td>5</td>\n",
              "      <td>5</td>\n",
              "      <td>5</td>\n",
              "      <td>0.00</td>\n",
              "      <td>0.00</td>\n",
              "    </tr>\n",
              "    <tr>\n",
              "      <th>1</th>\n",
              "      <td>Female</td>\n",
              "      <td>Loyal Customer</td>\n",
              "      <td>18</td>\n",
              "      <td>Business travel</td>\n",
              "      <td>Business</td>\n",
              "      <td>391</td>\n",
              "      <td>1</td>\n",
              "      <td>5</td>\n",
              "      <td>5</td>\n",
              "      <td>5</td>\n",
              "      <td>...</td>\n",
              "      <td>1</td>\n",
              "      <td>1</td>\n",
              "      <td>4</td>\n",
              "      <td>3</td>\n",
              "      <td>3</td>\n",
              "      <td>1</td>\n",
              "      <td>4</td>\n",
              "      <td>1</td>\n",
              "      <td>0.28</td>\n",
              "      <td>0.28</td>\n",
              "    </tr>\n",
              "    <tr>\n",
              "      <th>2</th>\n",
              "      <td>Female</td>\n",
              "      <td>Loyal Customer</td>\n",
              "      <td>13</td>\n",
              "      <td>Personal Travel</td>\n",
              "      <td>Eco Plus</td>\n",
              "      <td>569</td>\n",
              "      <td>2</td>\n",
              "      <td>4</td>\n",
              "      <td>2</td>\n",
              "      <td>3</td>\n",
              "      <td>...</td>\n",
              "      <td>1</td>\n",
              "      <td>1</td>\n",
              "      <td>5</td>\n",
              "      <td>4</td>\n",
              "      <td>4</td>\n",
              "      <td>5</td>\n",
              "      <td>5</td>\n",
              "      <td>1</td>\n",
              "      <td>0.00</td>\n",
              "      <td>0.00</td>\n",
              "    </tr>\n",
              "    <tr>\n",
              "      <th>3</th>\n",
              "      <td>Male</td>\n",
              "      <td>disloyal Customer</td>\n",
              "      <td>23</td>\n",
              "      <td>Business travel</td>\n",
              "      <td>Eco</td>\n",
              "      <td>109</td>\n",
              "      <td>1</td>\n",
              "      <td>0</td>\n",
              "      <td>1</td>\n",
              "      <td>1</td>\n",
              "      <td>...</td>\n",
              "      <td>1</td>\n",
              "      <td>3</td>\n",
              "      <td>2</td>\n",
              "      <td>5</td>\n",
              "      <td>5</td>\n",
              "      <td>3</td>\n",
              "      <td>1</td>\n",
              "      <td>3</td>\n",
              "      <td>0.00</td>\n",
              "      <td>0.00</td>\n",
              "    </tr>\n",
              "    <tr>\n",
              "      <th>4</th>\n",
              "      <td>Male</td>\n",
              "      <td>Loyal Customer</td>\n",
              "      <td>23</td>\n",
              "      <td>Personal Travel</td>\n",
              "      <td>Business</td>\n",
              "      <td>83</td>\n",
              "      <td>4</td>\n",
              "      <td>5</td>\n",
              "      <td>0</td>\n",
              "      <td>3</td>\n",
              "      <td>...</td>\n",
              "      <td>5</td>\n",
              "      <td>5</td>\n",
              "      <td>3</td>\n",
              "      <td>5</td>\n",
              "      <td>4</td>\n",
              "      <td>3</td>\n",
              "      <td>5</td>\n",
              "      <td>5</td>\n",
              "      <td>0.00</td>\n",
              "      <td>0.00</td>\n",
              "    </tr>\n",
              "  </tbody>\n",
              "</table>\n",
              "<p>5 rows × 22 columns</p>\n",
              "</div>\n",
              "      <button class=\"colab-df-convert\" onclick=\"convertToInteractive('df-68de1e0c-b051-4b04-99d4-532fa75a3902')\"\n",
              "              title=\"Convert this dataframe to an interactive table.\"\n",
              "              style=\"display:none;\">\n",
              "        \n",
              "  <svg xmlns=\"http://www.w3.org/2000/svg\" height=\"24px\"viewBox=\"0 0 24 24\"\n",
              "       width=\"24px\">\n",
              "    <path d=\"M0 0h24v24H0V0z\" fill=\"none\"/>\n",
              "    <path d=\"M18.56 5.44l.94 2.06.94-2.06 2.06-.94-2.06-.94-.94-2.06-.94 2.06-2.06.94zm-11 1L8.5 8.5l.94-2.06 2.06-.94-2.06-.94L8.5 2.5l-.94 2.06-2.06.94zm10 10l.94 2.06.94-2.06 2.06-.94-2.06-.94-.94-2.06-.94 2.06-2.06.94z\"/><path d=\"M17.41 7.96l-1.37-1.37c-.4-.4-.92-.59-1.43-.59-.52 0-1.04.2-1.43.59L10.3 9.45l-7.72 7.72c-.78.78-.78 2.05 0 2.83L4 21.41c.39.39.9.59 1.41.59.51 0 1.02-.2 1.41-.59l7.78-7.78 2.81-2.81c.8-.78.8-2.07 0-2.86zM5.41 20L4 18.59l7.72-7.72 1.47 1.35L5.41 20z\"/>\n",
              "  </svg>\n",
              "      </button>\n",
              "      \n",
              "  <style>\n",
              "    .colab-df-container {\n",
              "      display:flex;\n",
              "      flex-wrap:wrap;\n",
              "      gap: 12px;\n",
              "    }\n",
              "\n",
              "    .colab-df-convert {\n",
              "      background-color: #E8F0FE;\n",
              "      border: none;\n",
              "      border-radius: 50%;\n",
              "      cursor: pointer;\n",
              "      display: none;\n",
              "      fill: #1967D2;\n",
              "      height: 32px;\n",
              "      padding: 0 0 0 0;\n",
              "      width: 32px;\n",
              "    }\n",
              "\n",
              "    .colab-df-convert:hover {\n",
              "      background-color: #E2EBFA;\n",
              "      box-shadow: 0px 1px 2px rgba(60, 64, 67, 0.3), 0px 1px 3px 1px rgba(60, 64, 67, 0.15);\n",
              "      fill: #174EA6;\n",
              "    }\n",
              "\n",
              "    [theme=dark] .colab-df-convert {\n",
              "      background-color: #3B4455;\n",
              "      fill: #D2E3FC;\n",
              "    }\n",
              "\n",
              "    [theme=dark] .colab-df-convert:hover {\n",
              "      background-color: #434B5C;\n",
              "      box-shadow: 0px 1px 3px 1px rgba(0, 0, 0, 0.15);\n",
              "      filter: drop-shadow(0px 1px 2px rgba(0, 0, 0, 0.3));\n",
              "      fill: #FFFFFF;\n",
              "    }\n",
              "  </style>\n",
              "\n",
              "      <script>\n",
              "        const buttonEl =\n",
              "          document.querySelector('#df-68de1e0c-b051-4b04-99d4-532fa75a3902 button.colab-df-convert');\n",
              "        buttonEl.style.display =\n",
              "          google.colab.kernel.accessAllowed ? 'block' : 'none';\n",
              "\n",
              "        async function convertToInteractive(key) {\n",
              "          const element = document.querySelector('#df-68de1e0c-b051-4b04-99d4-532fa75a3902');\n",
              "          const dataTable =\n",
              "            await google.colab.kernel.invokeFunction('convertToInteractive',\n",
              "                                                     [key], {});\n",
              "          if (!dataTable) return;\n",
              "\n",
              "          const docLinkHtml = 'Like what you see? Visit the ' +\n",
              "            '<a target=\"_blank\" href=https://colab.research.google.com/notebooks/data_table.ipynb>data table notebook</a>'\n",
              "            + ' to learn more about interactive tables.';\n",
              "          element.innerHTML = '';\n",
              "          dataTable['output_type'] = 'display_data';\n",
              "          await google.colab.output.renderOutput(dataTable, element);\n",
              "          const docLink = document.createElement('div');\n",
              "          docLink.innerHTML = docLinkHtml;\n",
              "          element.appendChild(docLink);\n",
              "        }\n",
              "      </script>\n",
              "    </div>\n",
              "  </div>\n",
              "  "
            ]
          },
          "metadata": {},
          "execution_count": 141
        }
      ],
      "source": [
        "test.head()"
      ]
    },
    {
      "cell_type": "code",
      "execution_count": 142,
      "metadata": {
        "colab": {
          "base_uri": "https://localhost:8080/",
          "height": 399
        },
        "id": "on8eX0owiWgx",
        "outputId": "3dbea1f1-7392-4eef-ff19-a85be4b1c051"
      },
      "outputs": [
        {
          "output_type": "execute_result",
          "data": {
            "text/plain": [
              "                Age  Flight Distance  Inflight wifi service  \\\n",
              "count  20781.000000     20781.000000           20781.000000   \n",
              "mean      39.494105      1184.494923               2.718204   \n",
              "std       15.176537       991.162378               1.319284   \n",
              "min        7.000000        31.000000               0.000000   \n",
              "25%       27.000000       421.000000               2.000000   \n",
              "50%       40.000000       835.000000               3.000000   \n",
              "75%       51.000000      1739.000000               4.000000   \n",
              "max       85.000000      4983.000000               5.000000   \n",
              "\n",
              "       Departure/Arrival time convenient  Ease of Online booking  \\\n",
              "count                       20781.000000            20781.000000   \n",
              "mean                            3.052404                2.758963   \n",
              "std                             1.517431                1.390460   \n",
              "min                             0.000000                0.000000   \n",
              "25%                             2.000000                2.000000   \n",
              "50%                             3.000000                3.000000   \n",
              "75%                             4.000000                4.000000   \n",
              "max                             5.000000                5.000000   \n",
              "\n",
              "       Gate location  Food and drink  Online boarding  Seat comfort  \\\n",
              "count   20781.000000    20781.000000     20781.000000  20781.000000   \n",
              "mean        2.972186        3.189500         3.240508      3.425822   \n",
              "std         1.271853        1.325687         1.343898      1.322110   \n",
              "min         1.000000        0.000000         0.000000      1.000000   \n",
              "25%         2.000000        2.000000         2.000000      2.000000   \n",
              "50%         3.000000        3.000000         3.000000      4.000000   \n",
              "75%         4.000000        4.000000         4.000000      5.000000   \n",
              "max         5.000000        5.000000         5.000000      5.000000   \n",
              "\n",
              "       Inflight entertainment  On-board service  Leg room service  \\\n",
              "count            20781.000000      20781.000000      20781.000000   \n",
              "mean                 3.338819          3.377268          3.349646   \n",
              "std                  1.337282          1.290675          1.324557   \n",
              "min                  0.000000          0.000000          0.000000   \n",
              "25%                  2.000000          2.000000          2.000000   \n",
              "50%                  4.000000          4.000000          4.000000   \n",
              "75%                  4.000000          4.000000          4.000000   \n",
              "max                  5.000000          5.000000          5.000000   \n",
              "\n",
              "       Baggage handling  Checkin service  Inflight service   Cleanliness  \\\n",
              "count      20781.000000     20781.000000      20781.000000  20781.000000   \n",
              "mean           3.621914         3.288677          3.626678      3.266349   \n",
              "std            1.188742         1.267898          1.184796      1.306951   \n",
              "min            1.000000         1.000000          0.000000      0.000000   \n",
              "25%            3.000000         2.000000          3.000000      2.000000   \n",
              "50%            4.000000         3.000000          4.000000      3.000000   \n",
              "75%            5.000000         4.000000          5.000000      4.000000   \n",
              "max            5.000000         5.000000          5.000000      5.000000   \n",
              "\n",
              "       Arrival Delay in Hrs  Departure Delay in Hrs  \n",
              "count          20781.000000            20781.000000  \n",
              "mean               0.259965                0.253711  \n",
              "std                0.658785                0.645224  \n",
              "min                0.000000                0.000000  \n",
              "25%                0.000000                0.000000  \n",
              "50%                0.000000                0.000000  \n",
              "75%                0.220000                0.220000  \n",
              "max               16.170000               16.300000  "
            ],
            "text/html": [
              "\n",
              "  <div id=\"df-b67a7636-fb9a-4bb3-9b05-54630b24a576\">\n",
              "    <div class=\"colab-df-container\">\n",
              "      <div>\n",
              "<style scoped>\n",
              "    .dataframe tbody tr th:only-of-type {\n",
              "        vertical-align: middle;\n",
              "    }\n",
              "\n",
              "    .dataframe tbody tr th {\n",
              "        vertical-align: top;\n",
              "    }\n",
              "\n",
              "    .dataframe thead th {\n",
              "        text-align: right;\n",
              "    }\n",
              "</style>\n",
              "<table border=\"1\" class=\"dataframe\">\n",
              "  <thead>\n",
              "    <tr style=\"text-align: right;\">\n",
              "      <th></th>\n",
              "      <th>Age</th>\n",
              "      <th>Flight Distance</th>\n",
              "      <th>Inflight wifi service</th>\n",
              "      <th>Departure/Arrival time convenient</th>\n",
              "      <th>Ease of Online booking</th>\n",
              "      <th>Gate location</th>\n",
              "      <th>Food and drink</th>\n",
              "      <th>Online boarding</th>\n",
              "      <th>Seat comfort</th>\n",
              "      <th>Inflight entertainment</th>\n",
              "      <th>On-board service</th>\n",
              "      <th>Leg room service</th>\n",
              "      <th>Baggage handling</th>\n",
              "      <th>Checkin service</th>\n",
              "      <th>Inflight service</th>\n",
              "      <th>Cleanliness</th>\n",
              "      <th>Arrival Delay in Hrs</th>\n",
              "      <th>Departure Delay in Hrs</th>\n",
              "    </tr>\n",
              "  </thead>\n",
              "  <tbody>\n",
              "    <tr>\n",
              "      <th>count</th>\n",
              "      <td>20781.000000</td>\n",
              "      <td>20781.000000</td>\n",
              "      <td>20781.000000</td>\n",
              "      <td>20781.000000</td>\n",
              "      <td>20781.000000</td>\n",
              "      <td>20781.000000</td>\n",
              "      <td>20781.000000</td>\n",
              "      <td>20781.000000</td>\n",
              "      <td>20781.000000</td>\n",
              "      <td>20781.000000</td>\n",
              "      <td>20781.000000</td>\n",
              "      <td>20781.000000</td>\n",
              "      <td>20781.000000</td>\n",
              "      <td>20781.000000</td>\n",
              "      <td>20781.000000</td>\n",
              "      <td>20781.000000</td>\n",
              "      <td>20781.000000</td>\n",
              "      <td>20781.000000</td>\n",
              "    </tr>\n",
              "    <tr>\n",
              "      <th>mean</th>\n",
              "      <td>39.494105</td>\n",
              "      <td>1184.494923</td>\n",
              "      <td>2.718204</td>\n",
              "      <td>3.052404</td>\n",
              "      <td>2.758963</td>\n",
              "      <td>2.972186</td>\n",
              "      <td>3.189500</td>\n",
              "      <td>3.240508</td>\n",
              "      <td>3.425822</td>\n",
              "      <td>3.338819</td>\n",
              "      <td>3.377268</td>\n",
              "      <td>3.349646</td>\n",
              "      <td>3.621914</td>\n",
              "      <td>3.288677</td>\n",
              "      <td>3.626678</td>\n",
              "      <td>3.266349</td>\n",
              "      <td>0.259965</td>\n",
              "      <td>0.253711</td>\n",
              "    </tr>\n",
              "    <tr>\n",
              "      <th>std</th>\n",
              "      <td>15.176537</td>\n",
              "      <td>991.162378</td>\n",
              "      <td>1.319284</td>\n",
              "      <td>1.517431</td>\n",
              "      <td>1.390460</td>\n",
              "      <td>1.271853</td>\n",
              "      <td>1.325687</td>\n",
              "      <td>1.343898</td>\n",
              "      <td>1.322110</td>\n",
              "      <td>1.337282</td>\n",
              "      <td>1.290675</td>\n",
              "      <td>1.324557</td>\n",
              "      <td>1.188742</td>\n",
              "      <td>1.267898</td>\n",
              "      <td>1.184796</td>\n",
              "      <td>1.306951</td>\n",
              "      <td>0.658785</td>\n",
              "      <td>0.645224</td>\n",
              "    </tr>\n",
              "    <tr>\n",
              "      <th>min</th>\n",
              "      <td>7.000000</td>\n",
              "      <td>31.000000</td>\n",
              "      <td>0.000000</td>\n",
              "      <td>0.000000</td>\n",
              "      <td>0.000000</td>\n",
              "      <td>1.000000</td>\n",
              "      <td>0.000000</td>\n",
              "      <td>0.000000</td>\n",
              "      <td>1.000000</td>\n",
              "      <td>0.000000</td>\n",
              "      <td>0.000000</td>\n",
              "      <td>0.000000</td>\n",
              "      <td>1.000000</td>\n",
              "      <td>1.000000</td>\n",
              "      <td>0.000000</td>\n",
              "      <td>0.000000</td>\n",
              "      <td>0.000000</td>\n",
              "      <td>0.000000</td>\n",
              "    </tr>\n",
              "    <tr>\n",
              "      <th>25%</th>\n",
              "      <td>27.000000</td>\n",
              "      <td>421.000000</td>\n",
              "      <td>2.000000</td>\n",
              "      <td>2.000000</td>\n",
              "      <td>2.000000</td>\n",
              "      <td>2.000000</td>\n",
              "      <td>2.000000</td>\n",
              "      <td>2.000000</td>\n",
              "      <td>2.000000</td>\n",
              "      <td>2.000000</td>\n",
              "      <td>2.000000</td>\n",
              "      <td>2.000000</td>\n",
              "      <td>3.000000</td>\n",
              "      <td>2.000000</td>\n",
              "      <td>3.000000</td>\n",
              "      <td>2.000000</td>\n",
              "      <td>0.000000</td>\n",
              "      <td>0.000000</td>\n",
              "    </tr>\n",
              "    <tr>\n",
              "      <th>50%</th>\n",
              "      <td>40.000000</td>\n",
              "      <td>835.000000</td>\n",
              "      <td>3.000000</td>\n",
              "      <td>3.000000</td>\n",
              "      <td>3.000000</td>\n",
              "      <td>3.000000</td>\n",
              "      <td>3.000000</td>\n",
              "      <td>3.000000</td>\n",
              "      <td>4.000000</td>\n",
              "      <td>4.000000</td>\n",
              "      <td>4.000000</td>\n",
              "      <td>4.000000</td>\n",
              "      <td>4.000000</td>\n",
              "      <td>3.000000</td>\n",
              "      <td>4.000000</td>\n",
              "      <td>3.000000</td>\n",
              "      <td>0.000000</td>\n",
              "      <td>0.000000</td>\n",
              "    </tr>\n",
              "    <tr>\n",
              "      <th>75%</th>\n",
              "      <td>51.000000</td>\n",
              "      <td>1739.000000</td>\n",
              "      <td>4.000000</td>\n",
              "      <td>4.000000</td>\n",
              "      <td>4.000000</td>\n",
              "      <td>4.000000</td>\n",
              "      <td>4.000000</td>\n",
              "      <td>4.000000</td>\n",
              "      <td>5.000000</td>\n",
              "      <td>4.000000</td>\n",
              "      <td>4.000000</td>\n",
              "      <td>4.000000</td>\n",
              "      <td>5.000000</td>\n",
              "      <td>4.000000</td>\n",
              "      <td>5.000000</td>\n",
              "      <td>4.000000</td>\n",
              "      <td>0.220000</td>\n",
              "      <td>0.220000</td>\n",
              "    </tr>\n",
              "    <tr>\n",
              "      <th>max</th>\n",
              "      <td>85.000000</td>\n",
              "      <td>4983.000000</td>\n",
              "      <td>5.000000</td>\n",
              "      <td>5.000000</td>\n",
              "      <td>5.000000</td>\n",
              "      <td>5.000000</td>\n",
              "      <td>5.000000</td>\n",
              "      <td>5.000000</td>\n",
              "      <td>5.000000</td>\n",
              "      <td>5.000000</td>\n",
              "      <td>5.000000</td>\n",
              "      <td>5.000000</td>\n",
              "      <td>5.000000</td>\n",
              "      <td>5.000000</td>\n",
              "      <td>5.000000</td>\n",
              "      <td>5.000000</td>\n",
              "      <td>16.170000</td>\n",
              "      <td>16.300000</td>\n",
              "    </tr>\n",
              "  </tbody>\n",
              "</table>\n",
              "</div>\n",
              "      <button class=\"colab-df-convert\" onclick=\"convertToInteractive('df-b67a7636-fb9a-4bb3-9b05-54630b24a576')\"\n",
              "              title=\"Convert this dataframe to an interactive table.\"\n",
              "              style=\"display:none;\">\n",
              "        \n",
              "  <svg xmlns=\"http://www.w3.org/2000/svg\" height=\"24px\"viewBox=\"0 0 24 24\"\n",
              "       width=\"24px\">\n",
              "    <path d=\"M0 0h24v24H0V0z\" fill=\"none\"/>\n",
              "    <path d=\"M18.56 5.44l.94 2.06.94-2.06 2.06-.94-2.06-.94-.94-2.06-.94 2.06-2.06.94zm-11 1L8.5 8.5l.94-2.06 2.06-.94-2.06-.94L8.5 2.5l-.94 2.06-2.06.94zm10 10l.94 2.06.94-2.06 2.06-.94-2.06-.94-.94-2.06-.94 2.06-2.06.94z\"/><path d=\"M17.41 7.96l-1.37-1.37c-.4-.4-.92-.59-1.43-.59-.52 0-1.04.2-1.43.59L10.3 9.45l-7.72 7.72c-.78.78-.78 2.05 0 2.83L4 21.41c.39.39.9.59 1.41.59.51 0 1.02-.2 1.41-.59l7.78-7.78 2.81-2.81c.8-.78.8-2.07 0-2.86zM5.41 20L4 18.59l7.72-7.72 1.47 1.35L5.41 20z\"/>\n",
              "  </svg>\n",
              "      </button>\n",
              "      \n",
              "  <style>\n",
              "    .colab-df-container {\n",
              "      display:flex;\n",
              "      flex-wrap:wrap;\n",
              "      gap: 12px;\n",
              "    }\n",
              "\n",
              "    .colab-df-convert {\n",
              "      background-color: #E8F0FE;\n",
              "      border: none;\n",
              "      border-radius: 50%;\n",
              "      cursor: pointer;\n",
              "      display: none;\n",
              "      fill: #1967D2;\n",
              "      height: 32px;\n",
              "      padding: 0 0 0 0;\n",
              "      width: 32px;\n",
              "    }\n",
              "\n",
              "    .colab-df-convert:hover {\n",
              "      background-color: #E2EBFA;\n",
              "      box-shadow: 0px 1px 2px rgba(60, 64, 67, 0.3), 0px 1px 3px 1px rgba(60, 64, 67, 0.15);\n",
              "      fill: #174EA6;\n",
              "    }\n",
              "\n",
              "    [theme=dark] .colab-df-convert {\n",
              "      background-color: #3B4455;\n",
              "      fill: #D2E3FC;\n",
              "    }\n",
              "\n",
              "    [theme=dark] .colab-df-convert:hover {\n",
              "      background-color: #434B5C;\n",
              "      box-shadow: 0px 1px 3px 1px rgba(0, 0, 0, 0.15);\n",
              "      filter: drop-shadow(0px 1px 2px rgba(0, 0, 0, 0.3));\n",
              "      fill: #FFFFFF;\n",
              "    }\n",
              "  </style>\n",
              "\n",
              "      <script>\n",
              "        const buttonEl =\n",
              "          document.querySelector('#df-b67a7636-fb9a-4bb3-9b05-54630b24a576 button.colab-df-convert');\n",
              "        buttonEl.style.display =\n",
              "          google.colab.kernel.accessAllowed ? 'block' : 'none';\n",
              "\n",
              "        async function convertToInteractive(key) {\n",
              "          const element = document.querySelector('#df-b67a7636-fb9a-4bb3-9b05-54630b24a576');\n",
              "          const dataTable =\n",
              "            await google.colab.kernel.invokeFunction('convertToInteractive',\n",
              "                                                     [key], {});\n",
              "          if (!dataTable) return;\n",
              "\n",
              "          const docLinkHtml = 'Like what you see? Visit the ' +\n",
              "            '<a target=\"_blank\" href=https://colab.research.google.com/notebooks/data_table.ipynb>data table notebook</a>'\n",
              "            + ' to learn more about interactive tables.';\n",
              "          element.innerHTML = '';\n",
              "          dataTable['output_type'] = 'display_data';\n",
              "          await google.colab.output.renderOutput(dataTable, element);\n",
              "          const docLink = document.createElement('div');\n",
              "          docLink.innerHTML = docLinkHtml;\n",
              "          element.appendChild(docLink);\n",
              "        }\n",
              "      </script>\n",
              "    </div>\n",
              "  </div>\n",
              "  "
            ]
          },
          "metadata": {},
          "execution_count": 142
        }
      ],
      "source": [
        "test.describe()"
      ]
    },
    {
      "cell_type": "code",
      "execution_count": 143,
      "metadata": {
        "colab": {
          "base_uri": "https://localhost:8080/",
          "height": 399
        },
        "id": "BIAx1GLakyMz",
        "outputId": "ebf0395a-211b-4f89-bde5-3cfefe911b73"
      },
      "outputs": [
        {
          "output_type": "execute_result",
          "data": {
            "text/plain": [
              "                Age  Flight Distance  Inflight wifi service  \\\n",
              "count  83123.000000     83123.000000           83123.000000   \n",
              "mean      39.351106      1190.686753               2.732553   \n",
              "std       15.099487       998.640016               1.329950   \n",
              "min        7.000000        31.000000               0.000000   \n",
              "25%       27.000000       413.000000               2.000000   \n",
              "50%       40.000000       844.000000               3.000000   \n",
              "75%       51.000000      1744.000000               4.000000   \n",
              "max       85.000000      4983.000000               5.000000   \n",
              "\n",
              "       Departure/Arrival time convenient  Ease of Online booking  \\\n",
              "count                       83123.000000            83123.000000   \n",
              "mean                            3.062269                2.756385   \n",
              "std                             1.526983                1.401047   \n",
              "min                             0.000000                0.000000   \n",
              "25%                             2.000000                2.000000   \n",
              "50%                             3.000000                3.000000   \n",
              "75%                             4.000000                4.000000   \n",
              "max                             5.000000                5.000000   \n",
              "\n",
              "       Gate location  Food and drink  Online boarding  Seat comfort  \\\n",
              "count   83123.000000    83123.000000     83123.000000  83123.000000   \n",
              "mean        2.978057        3.205286         3.252842      3.442790   \n",
              "std         1.279064        1.330482         1.350905      1.318317   \n",
              "min         0.000000        0.000000         0.000000      0.000000   \n",
              "25%         2.000000        2.000000         2.000000      2.000000   \n",
              "50%         3.000000        3.000000         3.000000      4.000000   \n",
              "75%         4.000000        4.000000         4.000000      5.000000   \n",
              "max         5.000000        5.000000         5.000000      5.000000   \n",
              "\n",
              "       Inflight entertainment  On-board service  Leg room service  \\\n",
              "count            83123.000000      83123.000000      83123.000000   \n",
              "mean                 3.362992          3.383636          3.351407   \n",
              "std                  1.331880          1.287778          1.313365   \n",
              "min                  0.000000          0.000000          0.000000   \n",
              "25%                  2.000000          2.000000          2.000000   \n",
              "50%                  4.000000          4.000000          4.000000   \n",
              "75%                  4.000000          4.000000          4.000000   \n",
              "max                  5.000000          5.000000          5.000000   \n",
              "\n",
              "       Baggage handling  Checkin service  Inflight service   Cleanliness  \\\n",
              "count      83123.000000     83123.000000      83123.000000  83123.000000   \n",
              "mean           3.634313         3.308194          3.643865      3.291351   \n",
              "std            1.178930         1.264747          1.173351      1.313560   \n",
              "min            1.000000         0.000000          0.000000      0.000000   \n",
              "25%            3.000000         3.000000          3.000000      2.000000   \n",
              "50%            4.000000         3.000000          4.000000      3.000000   \n",
              "75%            5.000000         4.000000          5.000000      4.000000   \n",
              "max            5.000000         5.000000          5.000000      5.000000   \n",
              "\n",
              "       Arrival Delay in Hrs  Departure Delay in Hrs  \n",
              "count          83123.000000            83123.000000  \n",
              "mean               0.250320                0.245289  \n",
              "std                0.640421                0.635139  \n",
              "min                0.000000                0.000000  \n",
              "25%                0.000000                0.000000  \n",
              "50%                0.000000                0.000000  \n",
              "75%                0.220000                0.200000  \n",
              "max               26.400000               26.530000  "
            ],
            "text/html": [
              "\n",
              "  <div id=\"df-65993ed5-ca65-4595-a6aa-796dc5715123\">\n",
              "    <div class=\"colab-df-container\">\n",
              "      <div>\n",
              "<style scoped>\n",
              "    .dataframe tbody tr th:only-of-type {\n",
              "        vertical-align: middle;\n",
              "    }\n",
              "\n",
              "    .dataframe tbody tr th {\n",
              "        vertical-align: top;\n",
              "    }\n",
              "\n",
              "    .dataframe thead th {\n",
              "        text-align: right;\n",
              "    }\n",
              "</style>\n",
              "<table border=\"1\" class=\"dataframe\">\n",
              "  <thead>\n",
              "    <tr style=\"text-align: right;\">\n",
              "      <th></th>\n",
              "      <th>Age</th>\n",
              "      <th>Flight Distance</th>\n",
              "      <th>Inflight wifi service</th>\n",
              "      <th>Departure/Arrival time convenient</th>\n",
              "      <th>Ease of Online booking</th>\n",
              "      <th>Gate location</th>\n",
              "      <th>Food and drink</th>\n",
              "      <th>Online boarding</th>\n",
              "      <th>Seat comfort</th>\n",
              "      <th>Inflight entertainment</th>\n",
              "      <th>On-board service</th>\n",
              "      <th>Leg room service</th>\n",
              "      <th>Baggage handling</th>\n",
              "      <th>Checkin service</th>\n",
              "      <th>Inflight service</th>\n",
              "      <th>Cleanliness</th>\n",
              "      <th>Arrival Delay in Hrs</th>\n",
              "      <th>Departure Delay in Hrs</th>\n",
              "    </tr>\n",
              "  </thead>\n",
              "  <tbody>\n",
              "    <tr>\n",
              "      <th>count</th>\n",
              "      <td>83123.000000</td>\n",
              "      <td>83123.000000</td>\n",
              "      <td>83123.000000</td>\n",
              "      <td>83123.000000</td>\n",
              "      <td>83123.000000</td>\n",
              "      <td>83123.000000</td>\n",
              "      <td>83123.000000</td>\n",
              "      <td>83123.000000</td>\n",
              "      <td>83123.000000</td>\n",
              "      <td>83123.000000</td>\n",
              "      <td>83123.000000</td>\n",
              "      <td>83123.000000</td>\n",
              "      <td>83123.000000</td>\n",
              "      <td>83123.000000</td>\n",
              "      <td>83123.000000</td>\n",
              "      <td>83123.000000</td>\n",
              "      <td>83123.000000</td>\n",
              "      <td>83123.000000</td>\n",
              "    </tr>\n",
              "    <tr>\n",
              "      <th>mean</th>\n",
              "      <td>39.351106</td>\n",
              "      <td>1190.686753</td>\n",
              "      <td>2.732553</td>\n",
              "      <td>3.062269</td>\n",
              "      <td>2.756385</td>\n",
              "      <td>2.978057</td>\n",
              "      <td>3.205286</td>\n",
              "      <td>3.252842</td>\n",
              "      <td>3.442790</td>\n",
              "      <td>3.362992</td>\n",
              "      <td>3.383636</td>\n",
              "      <td>3.351407</td>\n",
              "      <td>3.634313</td>\n",
              "      <td>3.308194</td>\n",
              "      <td>3.643865</td>\n",
              "      <td>3.291351</td>\n",
              "      <td>0.250320</td>\n",
              "      <td>0.245289</td>\n",
              "    </tr>\n",
              "    <tr>\n",
              "      <th>std</th>\n",
              "      <td>15.099487</td>\n",
              "      <td>998.640016</td>\n",
              "      <td>1.329950</td>\n",
              "      <td>1.526983</td>\n",
              "      <td>1.401047</td>\n",
              "      <td>1.279064</td>\n",
              "      <td>1.330482</td>\n",
              "      <td>1.350905</td>\n",
              "      <td>1.318317</td>\n",
              "      <td>1.331880</td>\n",
              "      <td>1.287778</td>\n",
              "      <td>1.313365</td>\n",
              "      <td>1.178930</td>\n",
              "      <td>1.264747</td>\n",
              "      <td>1.173351</td>\n",
              "      <td>1.313560</td>\n",
              "      <td>0.640421</td>\n",
              "      <td>0.635139</td>\n",
              "    </tr>\n",
              "    <tr>\n",
              "      <th>min</th>\n",
              "      <td>7.000000</td>\n",
              "      <td>31.000000</td>\n",
              "      <td>0.000000</td>\n",
              "      <td>0.000000</td>\n",
              "      <td>0.000000</td>\n",
              "      <td>0.000000</td>\n",
              "      <td>0.000000</td>\n",
              "      <td>0.000000</td>\n",
              "      <td>0.000000</td>\n",
              "      <td>0.000000</td>\n",
              "      <td>0.000000</td>\n",
              "      <td>0.000000</td>\n",
              "      <td>1.000000</td>\n",
              "      <td>0.000000</td>\n",
              "      <td>0.000000</td>\n",
              "      <td>0.000000</td>\n",
              "      <td>0.000000</td>\n",
              "      <td>0.000000</td>\n",
              "    </tr>\n",
              "    <tr>\n",
              "      <th>25%</th>\n",
              "      <td>27.000000</td>\n",
              "      <td>413.000000</td>\n",
              "      <td>2.000000</td>\n",
              "      <td>2.000000</td>\n",
              "      <td>2.000000</td>\n",
              "      <td>2.000000</td>\n",
              "      <td>2.000000</td>\n",
              "      <td>2.000000</td>\n",
              "      <td>2.000000</td>\n",
              "      <td>2.000000</td>\n",
              "      <td>2.000000</td>\n",
              "      <td>2.000000</td>\n",
              "      <td>3.000000</td>\n",
              "      <td>3.000000</td>\n",
              "      <td>3.000000</td>\n",
              "      <td>2.000000</td>\n",
              "      <td>0.000000</td>\n",
              "      <td>0.000000</td>\n",
              "    </tr>\n",
              "    <tr>\n",
              "      <th>50%</th>\n",
              "      <td>40.000000</td>\n",
              "      <td>844.000000</td>\n",
              "      <td>3.000000</td>\n",
              "      <td>3.000000</td>\n",
              "      <td>3.000000</td>\n",
              "      <td>3.000000</td>\n",
              "      <td>3.000000</td>\n",
              "      <td>3.000000</td>\n",
              "      <td>4.000000</td>\n",
              "      <td>4.000000</td>\n",
              "      <td>4.000000</td>\n",
              "      <td>4.000000</td>\n",
              "      <td>4.000000</td>\n",
              "      <td>3.000000</td>\n",
              "      <td>4.000000</td>\n",
              "      <td>3.000000</td>\n",
              "      <td>0.000000</td>\n",
              "      <td>0.000000</td>\n",
              "    </tr>\n",
              "    <tr>\n",
              "      <th>75%</th>\n",
              "      <td>51.000000</td>\n",
              "      <td>1744.000000</td>\n",
              "      <td>4.000000</td>\n",
              "      <td>4.000000</td>\n",
              "      <td>4.000000</td>\n",
              "      <td>4.000000</td>\n",
              "      <td>4.000000</td>\n",
              "      <td>4.000000</td>\n",
              "      <td>5.000000</td>\n",
              "      <td>4.000000</td>\n",
              "      <td>4.000000</td>\n",
              "      <td>4.000000</td>\n",
              "      <td>5.000000</td>\n",
              "      <td>4.000000</td>\n",
              "      <td>5.000000</td>\n",
              "      <td>4.000000</td>\n",
              "      <td>0.220000</td>\n",
              "      <td>0.200000</td>\n",
              "    </tr>\n",
              "    <tr>\n",
              "      <th>max</th>\n",
              "      <td>85.000000</td>\n",
              "      <td>4983.000000</td>\n",
              "      <td>5.000000</td>\n",
              "      <td>5.000000</td>\n",
              "      <td>5.000000</td>\n",
              "      <td>5.000000</td>\n",
              "      <td>5.000000</td>\n",
              "      <td>5.000000</td>\n",
              "      <td>5.000000</td>\n",
              "      <td>5.000000</td>\n",
              "      <td>5.000000</td>\n",
              "      <td>5.000000</td>\n",
              "      <td>5.000000</td>\n",
              "      <td>5.000000</td>\n",
              "      <td>5.000000</td>\n",
              "      <td>5.000000</td>\n",
              "      <td>26.400000</td>\n",
              "      <td>26.530000</td>\n",
              "    </tr>\n",
              "  </tbody>\n",
              "</table>\n",
              "</div>\n",
              "      <button class=\"colab-df-convert\" onclick=\"convertToInteractive('df-65993ed5-ca65-4595-a6aa-796dc5715123')\"\n",
              "              title=\"Convert this dataframe to an interactive table.\"\n",
              "              style=\"display:none;\">\n",
              "        \n",
              "  <svg xmlns=\"http://www.w3.org/2000/svg\" height=\"24px\"viewBox=\"0 0 24 24\"\n",
              "       width=\"24px\">\n",
              "    <path d=\"M0 0h24v24H0V0z\" fill=\"none\"/>\n",
              "    <path d=\"M18.56 5.44l.94 2.06.94-2.06 2.06-.94-2.06-.94-.94-2.06-.94 2.06-2.06.94zm-11 1L8.5 8.5l.94-2.06 2.06-.94-2.06-.94L8.5 2.5l-.94 2.06-2.06.94zm10 10l.94 2.06.94-2.06 2.06-.94-2.06-.94-.94-2.06-.94 2.06-2.06.94z\"/><path d=\"M17.41 7.96l-1.37-1.37c-.4-.4-.92-.59-1.43-.59-.52 0-1.04.2-1.43.59L10.3 9.45l-7.72 7.72c-.78.78-.78 2.05 0 2.83L4 21.41c.39.39.9.59 1.41.59.51 0 1.02-.2 1.41-.59l7.78-7.78 2.81-2.81c.8-.78.8-2.07 0-2.86zM5.41 20L4 18.59l7.72-7.72 1.47 1.35L5.41 20z\"/>\n",
              "  </svg>\n",
              "      </button>\n",
              "      \n",
              "  <style>\n",
              "    .colab-df-container {\n",
              "      display:flex;\n",
              "      flex-wrap:wrap;\n",
              "      gap: 12px;\n",
              "    }\n",
              "\n",
              "    .colab-df-convert {\n",
              "      background-color: #E8F0FE;\n",
              "      border: none;\n",
              "      border-radius: 50%;\n",
              "      cursor: pointer;\n",
              "      display: none;\n",
              "      fill: #1967D2;\n",
              "      height: 32px;\n",
              "      padding: 0 0 0 0;\n",
              "      width: 32px;\n",
              "    }\n",
              "\n",
              "    .colab-df-convert:hover {\n",
              "      background-color: #E2EBFA;\n",
              "      box-shadow: 0px 1px 2px rgba(60, 64, 67, 0.3), 0px 1px 3px 1px rgba(60, 64, 67, 0.15);\n",
              "      fill: #174EA6;\n",
              "    }\n",
              "\n",
              "    [theme=dark] .colab-df-convert {\n",
              "      background-color: #3B4455;\n",
              "      fill: #D2E3FC;\n",
              "    }\n",
              "\n",
              "    [theme=dark] .colab-df-convert:hover {\n",
              "      background-color: #434B5C;\n",
              "      box-shadow: 0px 1px 3px 1px rgba(0, 0, 0, 0.15);\n",
              "      filter: drop-shadow(0px 1px 2px rgba(0, 0, 0, 0.3));\n",
              "      fill: #FFFFFF;\n",
              "    }\n",
              "  </style>\n",
              "\n",
              "      <script>\n",
              "        const buttonEl =\n",
              "          document.querySelector('#df-65993ed5-ca65-4595-a6aa-796dc5715123 button.colab-df-convert');\n",
              "        buttonEl.style.display =\n",
              "          google.colab.kernel.accessAllowed ? 'block' : 'none';\n",
              "\n",
              "        async function convertToInteractive(key) {\n",
              "          const element = document.querySelector('#df-65993ed5-ca65-4595-a6aa-796dc5715123');\n",
              "          const dataTable =\n",
              "            await google.colab.kernel.invokeFunction('convertToInteractive',\n",
              "                                                     [key], {});\n",
              "          if (!dataTable) return;\n",
              "\n",
              "          const docLinkHtml = 'Like what you see? Visit the ' +\n",
              "            '<a target=\"_blank\" href=https://colab.research.google.com/notebooks/data_table.ipynb>data table notebook</a>'\n",
              "            + ' to learn more about interactive tables.';\n",
              "          element.innerHTML = '';\n",
              "          dataTable['output_type'] = 'display_data';\n",
              "          await google.colab.output.renderOutput(dataTable, element);\n",
              "          const docLink = document.createElement('div');\n",
              "          docLink.innerHTML = docLinkHtml;\n",
              "          element.appendChild(docLink);\n",
              "        }\n",
              "      </script>\n",
              "    </div>\n",
              "  </div>\n",
              "  "
            ]
          },
          "metadata": {},
          "execution_count": 143
        }
      ],
      "source": [
        "train.describe()"
      ]
    },
    {
      "cell_type": "code",
      "execution_count": 144,
      "metadata": {
        "colab": {
          "base_uri": "https://localhost:8080/"
        },
        "id": "UozFonEfkyId",
        "outputId": "194b9255-85e4-4d57-e0a2-973bfa4325a7"
      },
      "outputs": [
        {
          "output_type": "stream",
          "name": "stderr",
          "text": [
            "/usr/local/lib/python3.7/dist-packages/ipykernel_launcher.py:1: FutureWarning: Dropping of nuisance columns in DataFrame reductions (with 'numeric_only=None') is deprecated; in a future version this will raise TypeError.  Select only valid columns before calling the reduction.\n",
            "  \"\"\"Entry point for launching an IPython kernel.\n"
          ]
        },
        {
          "output_type": "execute_result",
          "data": {
            "text/plain": [
              "Age                                  0.003280\n",
              "Flight Distance                      1.112604\n",
              "Inflight wifi service                0.047093\n",
              "Departure/Arrival time convenient   -0.330145\n",
              "Ease of Online booking              -0.018627\n",
              "Gate location                       -0.056956\n",
              "Food and drink                      -0.145817\n",
              "Online boarding                     -0.438572\n",
              "Seat comfort                        -0.468588\n",
              "Inflight entertainment              -0.355928\n",
              "On-board service                    -0.421198\n",
              "Leg room service                    -0.353481\n",
              "Baggage handling                    -0.674065\n",
              "Checkin service                     -0.353501\n",
              "Inflight service                    -0.684252\n",
              "Cleanliness                         -0.289092\n",
              "Arrival Delay in Hrs                 5.741158\n",
              "Departure Delay in Hrs               5.794520\n",
              "dtype: float64"
            ]
          },
          "metadata": {},
          "execution_count": 144
        }
      ],
      "source": [
        "test.skew()"
      ]
    },
    {
      "cell_type": "code",
      "execution_count": 145,
      "metadata": {
        "colab": {
          "base_uri": "https://localhost:8080/"
        },
        "id": "BqtAmJtLkyEW",
        "outputId": "6d0abdaa-f7c3-4982-b803-6e93b1a2ada4"
      },
      "outputs": [
        {
          "output_type": "stream",
          "name": "stderr",
          "text": [
            "/usr/local/lib/python3.7/dist-packages/ipykernel_launcher.py:1: FutureWarning: Dropping of nuisance columns in DataFrame reductions (with 'numeric_only=None') is deprecated; in a future version this will raise TypeError.  Select only valid columns before calling the reduction.\n",
            "  \"\"\"Entry point for launching an IPython kernel.\n"
          ]
        },
        {
          "output_type": "execute_result",
          "data": {
            "text/plain": [
              "Age                                 -0.006553\n",
              "Flight Distance                      1.108657\n",
              "Inflight wifi service                0.038675\n",
              "Departure/Arrival time convenient   -0.335497\n",
              "Ease of Online booking              -0.018196\n",
              "Gate location                       -0.059396\n",
              "Food and drink                      -0.152690\n",
              "Online boarding                     -0.457685\n",
              "Seat comfort                        -0.486340\n",
              "Inflight entertainment              -0.367411\n",
              "On-board service                    -0.419734\n",
              "Leg room service                    -0.349383\n",
              "Baggage handling                    -0.677718\n",
              "Checkin service                     -0.367859\n",
              "Inflight service                    -0.691739\n",
              "Cleanliness                         -0.302929\n",
              "Arrival Delay in Hrs                 6.838856\n",
              "Departure Delay in Hrs               6.980168\n",
              "dtype: float64"
            ]
          },
          "metadata": {},
          "execution_count": 145
        }
      ],
      "source": [
        "train.skew()"
      ]
    },
    {
      "cell_type": "code",
      "source": [
        "train.corr()"
      ],
      "metadata": {
        "colab": {
          "base_uri": "https://localhost:8080/",
          "height": 868
        },
        "id": "oxIkyhcAa_e5",
        "outputId": "72a62346-07c7-4a48-a681-d52400324b7d"
      },
      "execution_count": 146,
      "outputs": [
        {
          "output_type": "execute_result",
          "data": {
            "text/plain": [
              "                                        Age  Flight Distance  \\\n",
              "Age                                1.000000         0.100124   \n",
              "Flight Distance                    0.100124         1.000000   \n",
              "Inflight wifi service              0.015985         0.008168   \n",
              "Departure/Arrival time convenient  0.037954        -0.021642   \n",
              "Ease of Online booking             0.024568         0.065762   \n",
              "Gate location                     -0.001396         0.004204   \n",
              "Food and drink                     0.020834         0.057414   \n",
              "Online boarding                    0.208919         0.216329   \n",
              "Seat comfort                       0.159514         0.158617   \n",
              "Inflight entertainment             0.075221         0.129424   \n",
              "On-board service                   0.058371         0.110198   \n",
              "Leg room service                   0.042507         0.132303   \n",
              "Baggage handling                  -0.047916         0.062639   \n",
              "Checkin service                    0.032107         0.071191   \n",
              "Inflight service                  -0.048074         0.055933   \n",
              "Cleanliness                        0.052049         0.094402   \n",
              "Arrival Delay in Hrs              -0.011905        -0.001576   \n",
              "Departure Delay in Hrs            -0.010723         0.003119   \n",
              "\n",
              "                                   Inflight wifi service  \\\n",
              "Age                                             0.015985   \n",
              "Flight Distance                                 0.008168   \n",
              "Inflight wifi service                           1.000000   \n",
              "Departure/Arrival time convenient               0.345815   \n",
              "Ease of Online booking                          0.716820   \n",
              "Gate location                                   0.337559   \n",
              "Food and drink                                  0.133053   \n",
              "Online boarding                                 0.456428   \n",
              "Seat comfort                                    0.120125   \n",
              "Inflight entertainment                          0.205673   \n",
              "On-board service                                0.120613   \n",
              "Leg room service                                0.158338   \n",
              "Baggage handling                                0.119624   \n",
              "Checkin service                                 0.040306   \n",
              "Inflight service                                0.108901   \n",
              "Cleanliness                                     0.130169   \n",
              "Arrival Delay in Hrs                           -0.020017   \n",
              "Departure Delay in Hrs                         -0.017829   \n",
              "\n",
              "                                   Departure/Arrival time convenient  \\\n",
              "Age                                                         0.037954   \n",
              "Flight Distance                                            -0.021642   \n",
              "Inflight wifi service                                       0.345815   \n",
              "Departure/Arrival time convenient                           1.000000   \n",
              "Ease of Online booking                                      0.438179   \n",
              "Gate location                                               0.445502   \n",
              "Food and drink                                              0.005048   \n",
              "Online boarding                                             0.069544   \n",
              "Seat comfort                                                0.011039   \n",
              "Inflight entertainment                                     -0.005021   \n",
              "On-board service                                            0.067079   \n",
              "Leg room service                                            0.011074   \n",
              "Baggage handling                                            0.073657   \n",
              "Checkin service                                             0.093595   \n",
              "Inflight service                                            0.074568   \n",
              "Cleanliness                                                 0.015097   \n",
              "Arrival Delay in Hrs                                       -0.004287   \n",
              "Departure Delay in Hrs                                     -0.001987   \n",
              "\n",
              "                                   Ease of Online booking  Gate location  \\\n",
              "Age                                              0.024568      -0.001396   \n",
              "Flight Distance                                  0.065762       0.004204   \n",
              "Inflight wifi service                            0.716820       0.337559   \n",
              "Departure/Arrival time convenient                0.438179       0.445502   \n",
              "Ease of Online booking                           1.000000       0.457747   \n",
              "Gate location                                    0.457747       1.000000   \n",
              "Food and drink                                   0.033064      -0.000859   \n",
              "Online boarding                                  0.405808       0.000663   \n",
              "Seat comfort                                     0.030200       0.002331   \n",
              "Inflight entertainment                           0.045708       0.001801   \n",
              "On-board service                                 0.037738      -0.030787   \n",
              "Leg room service                                 0.105184      -0.008186   \n",
              "Baggage handling                                 0.039010       0.000933   \n",
              "Checkin service                                  0.009301      -0.036975   \n",
              "Inflight service                                 0.035261       0.000741   \n",
              "Cleanliness                                      0.016322      -0.002761   \n",
              "Arrival Delay in Hrs                            -0.009744       0.004690   \n",
              "Departure Delay in Hrs                          -0.007955       0.005622   \n",
              "\n",
              "                                   Food and drink  Online boarding  \\\n",
              "Age                                      0.020834         0.208919   \n",
              "Flight Distance                          0.057414         0.216329   \n",
              "Inflight wifi service                    0.133053         0.456428   \n",
              "Departure/Arrival time convenient        0.005048         0.069544   \n",
              "Ease of Online booking                   0.033064         0.405808   \n",
              "Gate location                           -0.000859         0.000663   \n",
              "Food and drink                           1.000000         0.233558   \n",
              "Online boarding                          0.233558         1.000000   \n",
              "Seat comfort                             0.574923         0.418222   \n",
              "Inflight entertainment                   0.624139         0.284233   \n",
              "On-board service                         0.059554         0.156759   \n",
              "Leg room service                         0.032789         0.122564   \n",
              "Baggage handling                         0.035144         0.083574   \n",
              "Checkin service                          0.084642         0.201613   \n",
              "Inflight service                         0.033400         0.074228   \n",
              "Cleanliness                              0.657690         0.328060   \n",
              "Arrival Delay in Hrs                    -0.032580        -0.023831   \n",
              "Departure Delay in Hrs                  -0.029532        -0.020490   \n",
              "\n",
              "                                   Seat comfort  Inflight entertainment  \\\n",
              "Age                                    0.159514                0.075221   \n",
              "Flight Distance                        0.158617                0.129424   \n",
              "Inflight wifi service                  0.120125                0.205673   \n",
              "Departure/Arrival time convenient      0.011039               -0.005021   \n",
              "Ease of Online booking                 0.030200                0.045708   \n",
              "Gate location                          0.002331                0.001801   \n",
              "Food and drink                         0.574923                0.624139   \n",
              "Online boarding                        0.418222                0.284233   \n",
              "Seat comfort                           1.000000                0.610177   \n",
              "Inflight entertainment                 0.610177                1.000000   \n",
              "On-board service                       0.130962                0.418800   \n",
              "Leg room service                       0.104274                0.298355   \n",
              "Baggage handling                       0.074639                0.377144   \n",
              "Checkin service                        0.190202                0.117905   \n",
              "Inflight service                       0.068417                0.403277   \n",
              "Cleanliness                            0.676994                0.694027   \n",
              "Arrival Delay in Hrs                  -0.029703               -0.030872   \n",
              "Departure Delay in Hrs                -0.027152               -0.027633   \n",
              "\n",
              "                                   On-board service  Leg room service  \\\n",
              "Age                                        0.058371          0.042507   \n",
              "Flight Distance                            0.110198          0.132303   \n",
              "Inflight wifi service                      0.120613          0.158338   \n",
              "Departure/Arrival time convenient          0.067079          0.011074   \n",
              "Ease of Online booking                     0.037738          0.105184   \n",
              "Gate location                             -0.030787         -0.008186   \n",
              "Food and drink                             0.059554          0.032789   \n",
              "Online boarding                            0.156759          0.122564   \n",
              "Seat comfort                               0.130962          0.104274   \n",
              "Inflight entertainment                     0.418800          0.298355   \n",
              "On-board service                           1.000000          0.353420   \n",
              "Leg room service                           0.353420          1.000000   \n",
              "Baggage handling                           0.518832          0.368279   \n",
              "Checkin service                            0.242669          0.151564   \n",
              "Inflight service                           0.550267          0.365783   \n",
              "Cleanliness                                0.124248          0.097221   \n",
              "Arrival Delay in Hrs                      -0.035316          0.012532   \n",
              "Departure Delay in Hrs                    -0.031276          0.014717   \n",
              "\n",
              "                                   Baggage handling  Checkin service  \\\n",
              "Age                                       -0.047916         0.032107   \n",
              "Flight Distance                            0.062639         0.071191   \n",
              "Inflight wifi service                      0.119624         0.040306   \n",
              "Departure/Arrival time convenient          0.073657         0.093595   \n",
              "Ease of Online booking                     0.039010         0.009301   \n",
              "Gate location                              0.000933        -0.036975   \n",
              "Food and drink                             0.035144         0.084642   \n",
              "Online boarding                            0.083574         0.201613   \n",
              "Seat comfort                               0.074639         0.190202   \n",
              "Inflight entertainment                     0.377144         0.117905   \n",
              "On-board service                           0.518832         0.242669   \n",
              "Leg room service                           0.368279         0.151564   \n",
              "Baggage handling                           1.000000         0.231761   \n",
              "Checkin service                            0.231761         1.000000   \n",
              "Inflight service                           0.628735         0.235962   \n",
              "Cleanliness                                0.097731         0.178548   \n",
              "Arrival Delay in Hrs                      -0.006011        -0.019798   \n",
              "Departure Delay in Hrs                    -0.002911        -0.017359   \n",
              "\n",
              "                                   Inflight service  Cleanliness  \\\n",
              "Age                                       -0.048074     0.052049   \n",
              "Flight Distance                            0.055933     0.094402   \n",
              "Inflight wifi service                      0.108901     0.130169   \n",
              "Departure/Arrival time convenient          0.074568     0.015097   \n",
              "Ease of Online booking                     0.035261     0.016322   \n",
              "Gate location                              0.000741    -0.002761   \n",
              "Food and drink                             0.033400     0.657690   \n",
              "Online boarding                            0.074228     0.328060   \n",
              "Seat comfort                               0.068417     0.676994   \n",
              "Inflight entertainment                     0.403277     0.694027   \n",
              "On-board service                           0.550267     0.124248   \n",
              "Leg room service                           0.365783     0.097221   \n",
              "Baggage handling                           0.628735     0.097731   \n",
              "Checkin service                            0.235962     0.178548   \n",
              "Inflight service                           1.000000     0.089631   \n",
              "Cleanliness                                0.089631     1.000000   \n",
              "Arrival Delay in Hrs                      -0.057846    -0.016006   \n",
              "Departure Delay in Hrs                    -0.053626    -0.013706   \n",
              "\n",
              "                                   Arrival Delay in Hrs  \\\n",
              "Age                                           -0.011905   \n",
              "Flight Distance                               -0.001576   \n",
              "Inflight wifi service                         -0.020017   \n",
              "Departure/Arrival time convenient             -0.004287   \n",
              "Ease of Online booking                        -0.009744   \n",
              "Gate location                                  0.004690   \n",
              "Food and drink                                -0.032580   \n",
              "Online boarding                               -0.023831   \n",
              "Seat comfort                                  -0.029703   \n",
              "Inflight entertainment                        -0.030872   \n",
              "On-board service                              -0.035316   \n",
              "Leg room service                               0.012532   \n",
              "Baggage handling                              -0.006011   \n",
              "Checkin service                               -0.019798   \n",
              "Inflight service                              -0.057846   \n",
              "Cleanliness                                   -0.016006   \n",
              "Arrival Delay in Hrs                           1.000000   \n",
              "Departure Delay in Hrs                         0.960109   \n",
              "\n",
              "                                   Departure Delay in Hrs  \n",
              "Age                                             -0.010723  \n",
              "Flight Distance                                  0.003119  \n",
              "Inflight wifi service                           -0.017829  \n",
              "Departure/Arrival time convenient               -0.001987  \n",
              "Ease of Online booking                          -0.007955  \n",
              "Gate location                                    0.005622  \n",
              "Food and drink                                  -0.029532  \n",
              "Online boarding                                 -0.020490  \n",
              "Seat comfort                                    -0.027152  \n",
              "Inflight entertainment                          -0.027633  \n",
              "On-board service                                -0.031276  \n",
              "Leg room service                                 0.014717  \n",
              "Baggage handling                                -0.002911  \n",
              "Checkin service                                 -0.017359  \n",
              "Inflight service                                -0.053626  \n",
              "Cleanliness                                     -0.013706  \n",
              "Arrival Delay in Hrs                             0.960109  \n",
              "Departure Delay in Hrs                           1.000000  "
            ],
            "text/html": [
              "\n",
              "  <div id=\"df-c5410251-90df-4eb5-a07c-3732cd856546\">\n",
              "    <div class=\"colab-df-container\">\n",
              "      <div>\n",
              "<style scoped>\n",
              "    .dataframe tbody tr th:only-of-type {\n",
              "        vertical-align: middle;\n",
              "    }\n",
              "\n",
              "    .dataframe tbody tr th {\n",
              "        vertical-align: top;\n",
              "    }\n",
              "\n",
              "    .dataframe thead th {\n",
              "        text-align: right;\n",
              "    }\n",
              "</style>\n",
              "<table border=\"1\" class=\"dataframe\">\n",
              "  <thead>\n",
              "    <tr style=\"text-align: right;\">\n",
              "      <th></th>\n",
              "      <th>Age</th>\n",
              "      <th>Flight Distance</th>\n",
              "      <th>Inflight wifi service</th>\n",
              "      <th>Departure/Arrival time convenient</th>\n",
              "      <th>Ease of Online booking</th>\n",
              "      <th>Gate location</th>\n",
              "      <th>Food and drink</th>\n",
              "      <th>Online boarding</th>\n",
              "      <th>Seat comfort</th>\n",
              "      <th>Inflight entertainment</th>\n",
              "      <th>On-board service</th>\n",
              "      <th>Leg room service</th>\n",
              "      <th>Baggage handling</th>\n",
              "      <th>Checkin service</th>\n",
              "      <th>Inflight service</th>\n",
              "      <th>Cleanliness</th>\n",
              "      <th>Arrival Delay in Hrs</th>\n",
              "      <th>Departure Delay in Hrs</th>\n",
              "    </tr>\n",
              "  </thead>\n",
              "  <tbody>\n",
              "    <tr>\n",
              "      <th>Age</th>\n",
              "      <td>1.000000</td>\n",
              "      <td>0.100124</td>\n",
              "      <td>0.015985</td>\n",
              "      <td>0.037954</td>\n",
              "      <td>0.024568</td>\n",
              "      <td>-0.001396</td>\n",
              "      <td>0.020834</td>\n",
              "      <td>0.208919</td>\n",
              "      <td>0.159514</td>\n",
              "      <td>0.075221</td>\n",
              "      <td>0.058371</td>\n",
              "      <td>0.042507</td>\n",
              "      <td>-0.047916</td>\n",
              "      <td>0.032107</td>\n",
              "      <td>-0.048074</td>\n",
              "      <td>0.052049</td>\n",
              "      <td>-0.011905</td>\n",
              "      <td>-0.010723</td>\n",
              "    </tr>\n",
              "    <tr>\n",
              "      <th>Flight Distance</th>\n",
              "      <td>0.100124</td>\n",
              "      <td>1.000000</td>\n",
              "      <td>0.008168</td>\n",
              "      <td>-0.021642</td>\n",
              "      <td>0.065762</td>\n",
              "      <td>0.004204</td>\n",
              "      <td>0.057414</td>\n",
              "      <td>0.216329</td>\n",
              "      <td>0.158617</td>\n",
              "      <td>0.129424</td>\n",
              "      <td>0.110198</td>\n",
              "      <td>0.132303</td>\n",
              "      <td>0.062639</td>\n",
              "      <td>0.071191</td>\n",
              "      <td>0.055933</td>\n",
              "      <td>0.094402</td>\n",
              "      <td>-0.001576</td>\n",
              "      <td>0.003119</td>\n",
              "    </tr>\n",
              "    <tr>\n",
              "      <th>Inflight wifi service</th>\n",
              "      <td>0.015985</td>\n",
              "      <td>0.008168</td>\n",
              "      <td>1.000000</td>\n",
              "      <td>0.345815</td>\n",
              "      <td>0.716820</td>\n",
              "      <td>0.337559</td>\n",
              "      <td>0.133053</td>\n",
              "      <td>0.456428</td>\n",
              "      <td>0.120125</td>\n",
              "      <td>0.205673</td>\n",
              "      <td>0.120613</td>\n",
              "      <td>0.158338</td>\n",
              "      <td>0.119624</td>\n",
              "      <td>0.040306</td>\n",
              "      <td>0.108901</td>\n",
              "      <td>0.130169</td>\n",
              "      <td>-0.020017</td>\n",
              "      <td>-0.017829</td>\n",
              "    </tr>\n",
              "    <tr>\n",
              "      <th>Departure/Arrival time convenient</th>\n",
              "      <td>0.037954</td>\n",
              "      <td>-0.021642</td>\n",
              "      <td>0.345815</td>\n",
              "      <td>1.000000</td>\n",
              "      <td>0.438179</td>\n",
              "      <td>0.445502</td>\n",
              "      <td>0.005048</td>\n",
              "      <td>0.069544</td>\n",
              "      <td>0.011039</td>\n",
              "      <td>-0.005021</td>\n",
              "      <td>0.067079</td>\n",
              "      <td>0.011074</td>\n",
              "      <td>0.073657</td>\n",
              "      <td>0.093595</td>\n",
              "      <td>0.074568</td>\n",
              "      <td>0.015097</td>\n",
              "      <td>-0.004287</td>\n",
              "      <td>-0.001987</td>\n",
              "    </tr>\n",
              "    <tr>\n",
              "      <th>Ease of Online booking</th>\n",
              "      <td>0.024568</td>\n",
              "      <td>0.065762</td>\n",
              "      <td>0.716820</td>\n",
              "      <td>0.438179</td>\n",
              "      <td>1.000000</td>\n",
              "      <td>0.457747</td>\n",
              "      <td>0.033064</td>\n",
              "      <td>0.405808</td>\n",
              "      <td>0.030200</td>\n",
              "      <td>0.045708</td>\n",
              "      <td>0.037738</td>\n",
              "      <td>0.105184</td>\n",
              "      <td>0.039010</td>\n",
              "      <td>0.009301</td>\n",
              "      <td>0.035261</td>\n",
              "      <td>0.016322</td>\n",
              "      <td>-0.009744</td>\n",
              "      <td>-0.007955</td>\n",
              "    </tr>\n",
              "    <tr>\n",
              "      <th>Gate location</th>\n",
              "      <td>-0.001396</td>\n",
              "      <td>0.004204</td>\n",
              "      <td>0.337559</td>\n",
              "      <td>0.445502</td>\n",
              "      <td>0.457747</td>\n",
              "      <td>1.000000</td>\n",
              "      <td>-0.000859</td>\n",
              "      <td>0.000663</td>\n",
              "      <td>0.002331</td>\n",
              "      <td>0.001801</td>\n",
              "      <td>-0.030787</td>\n",
              "      <td>-0.008186</td>\n",
              "      <td>0.000933</td>\n",
              "      <td>-0.036975</td>\n",
              "      <td>0.000741</td>\n",
              "      <td>-0.002761</td>\n",
              "      <td>0.004690</td>\n",
              "      <td>0.005622</td>\n",
              "    </tr>\n",
              "    <tr>\n",
              "      <th>Food and drink</th>\n",
              "      <td>0.020834</td>\n",
              "      <td>0.057414</td>\n",
              "      <td>0.133053</td>\n",
              "      <td>0.005048</td>\n",
              "      <td>0.033064</td>\n",
              "      <td>-0.000859</td>\n",
              "      <td>1.000000</td>\n",
              "      <td>0.233558</td>\n",
              "      <td>0.574923</td>\n",
              "      <td>0.624139</td>\n",
              "      <td>0.059554</td>\n",
              "      <td>0.032789</td>\n",
              "      <td>0.035144</td>\n",
              "      <td>0.084642</td>\n",
              "      <td>0.033400</td>\n",
              "      <td>0.657690</td>\n",
              "      <td>-0.032580</td>\n",
              "      <td>-0.029532</td>\n",
              "    </tr>\n",
              "    <tr>\n",
              "      <th>Online boarding</th>\n",
              "      <td>0.208919</td>\n",
              "      <td>0.216329</td>\n",
              "      <td>0.456428</td>\n",
              "      <td>0.069544</td>\n",
              "      <td>0.405808</td>\n",
              "      <td>0.000663</td>\n",
              "      <td>0.233558</td>\n",
              "      <td>1.000000</td>\n",
              "      <td>0.418222</td>\n",
              "      <td>0.284233</td>\n",
              "      <td>0.156759</td>\n",
              "      <td>0.122564</td>\n",
              "      <td>0.083574</td>\n",
              "      <td>0.201613</td>\n",
              "      <td>0.074228</td>\n",
              "      <td>0.328060</td>\n",
              "      <td>-0.023831</td>\n",
              "      <td>-0.020490</td>\n",
              "    </tr>\n",
              "    <tr>\n",
              "      <th>Seat comfort</th>\n",
              "      <td>0.159514</td>\n",
              "      <td>0.158617</td>\n",
              "      <td>0.120125</td>\n",
              "      <td>0.011039</td>\n",
              "      <td>0.030200</td>\n",
              "      <td>0.002331</td>\n",
              "      <td>0.574923</td>\n",
              "      <td>0.418222</td>\n",
              "      <td>1.000000</td>\n",
              "      <td>0.610177</td>\n",
              "      <td>0.130962</td>\n",
              "      <td>0.104274</td>\n",
              "      <td>0.074639</td>\n",
              "      <td>0.190202</td>\n",
              "      <td>0.068417</td>\n",
              "      <td>0.676994</td>\n",
              "      <td>-0.029703</td>\n",
              "      <td>-0.027152</td>\n",
              "    </tr>\n",
              "    <tr>\n",
              "      <th>Inflight entertainment</th>\n",
              "      <td>0.075221</td>\n",
              "      <td>0.129424</td>\n",
              "      <td>0.205673</td>\n",
              "      <td>-0.005021</td>\n",
              "      <td>0.045708</td>\n",
              "      <td>0.001801</td>\n",
              "      <td>0.624139</td>\n",
              "      <td>0.284233</td>\n",
              "      <td>0.610177</td>\n",
              "      <td>1.000000</td>\n",
              "      <td>0.418800</td>\n",
              "      <td>0.298355</td>\n",
              "      <td>0.377144</td>\n",
              "      <td>0.117905</td>\n",
              "      <td>0.403277</td>\n",
              "      <td>0.694027</td>\n",
              "      <td>-0.030872</td>\n",
              "      <td>-0.027633</td>\n",
              "    </tr>\n",
              "    <tr>\n",
              "      <th>On-board service</th>\n",
              "      <td>0.058371</td>\n",
              "      <td>0.110198</td>\n",
              "      <td>0.120613</td>\n",
              "      <td>0.067079</td>\n",
              "      <td>0.037738</td>\n",
              "      <td>-0.030787</td>\n",
              "      <td>0.059554</td>\n",
              "      <td>0.156759</td>\n",
              "      <td>0.130962</td>\n",
              "      <td>0.418800</td>\n",
              "      <td>1.000000</td>\n",
              "      <td>0.353420</td>\n",
              "      <td>0.518832</td>\n",
              "      <td>0.242669</td>\n",
              "      <td>0.550267</td>\n",
              "      <td>0.124248</td>\n",
              "      <td>-0.035316</td>\n",
              "      <td>-0.031276</td>\n",
              "    </tr>\n",
              "    <tr>\n",
              "      <th>Leg room service</th>\n",
              "      <td>0.042507</td>\n",
              "      <td>0.132303</td>\n",
              "      <td>0.158338</td>\n",
              "      <td>0.011074</td>\n",
              "      <td>0.105184</td>\n",
              "      <td>-0.008186</td>\n",
              "      <td>0.032789</td>\n",
              "      <td>0.122564</td>\n",
              "      <td>0.104274</td>\n",
              "      <td>0.298355</td>\n",
              "      <td>0.353420</td>\n",
              "      <td>1.000000</td>\n",
              "      <td>0.368279</td>\n",
              "      <td>0.151564</td>\n",
              "      <td>0.365783</td>\n",
              "      <td>0.097221</td>\n",
              "      <td>0.012532</td>\n",
              "      <td>0.014717</td>\n",
              "    </tr>\n",
              "    <tr>\n",
              "      <th>Baggage handling</th>\n",
              "      <td>-0.047916</td>\n",
              "      <td>0.062639</td>\n",
              "      <td>0.119624</td>\n",
              "      <td>0.073657</td>\n",
              "      <td>0.039010</td>\n",
              "      <td>0.000933</td>\n",
              "      <td>0.035144</td>\n",
              "      <td>0.083574</td>\n",
              "      <td>0.074639</td>\n",
              "      <td>0.377144</td>\n",
              "      <td>0.518832</td>\n",
              "      <td>0.368279</td>\n",
              "      <td>1.000000</td>\n",
              "      <td>0.231761</td>\n",
              "      <td>0.628735</td>\n",
              "      <td>0.097731</td>\n",
              "      <td>-0.006011</td>\n",
              "      <td>-0.002911</td>\n",
              "    </tr>\n",
              "    <tr>\n",
              "      <th>Checkin service</th>\n",
              "      <td>0.032107</td>\n",
              "      <td>0.071191</td>\n",
              "      <td>0.040306</td>\n",
              "      <td>0.093595</td>\n",
              "      <td>0.009301</td>\n",
              "      <td>-0.036975</td>\n",
              "      <td>0.084642</td>\n",
              "      <td>0.201613</td>\n",
              "      <td>0.190202</td>\n",
              "      <td>0.117905</td>\n",
              "      <td>0.242669</td>\n",
              "      <td>0.151564</td>\n",
              "      <td>0.231761</td>\n",
              "      <td>1.000000</td>\n",
              "      <td>0.235962</td>\n",
              "      <td>0.178548</td>\n",
              "      <td>-0.019798</td>\n",
              "      <td>-0.017359</td>\n",
              "    </tr>\n",
              "    <tr>\n",
              "      <th>Inflight service</th>\n",
              "      <td>-0.048074</td>\n",
              "      <td>0.055933</td>\n",
              "      <td>0.108901</td>\n",
              "      <td>0.074568</td>\n",
              "      <td>0.035261</td>\n",
              "      <td>0.000741</td>\n",
              "      <td>0.033400</td>\n",
              "      <td>0.074228</td>\n",
              "      <td>0.068417</td>\n",
              "      <td>0.403277</td>\n",
              "      <td>0.550267</td>\n",
              "      <td>0.365783</td>\n",
              "      <td>0.628735</td>\n",
              "      <td>0.235962</td>\n",
              "      <td>1.000000</td>\n",
              "      <td>0.089631</td>\n",
              "      <td>-0.057846</td>\n",
              "      <td>-0.053626</td>\n",
              "    </tr>\n",
              "    <tr>\n",
              "      <th>Cleanliness</th>\n",
              "      <td>0.052049</td>\n",
              "      <td>0.094402</td>\n",
              "      <td>0.130169</td>\n",
              "      <td>0.015097</td>\n",
              "      <td>0.016322</td>\n",
              "      <td>-0.002761</td>\n",
              "      <td>0.657690</td>\n",
              "      <td>0.328060</td>\n",
              "      <td>0.676994</td>\n",
              "      <td>0.694027</td>\n",
              "      <td>0.124248</td>\n",
              "      <td>0.097221</td>\n",
              "      <td>0.097731</td>\n",
              "      <td>0.178548</td>\n",
              "      <td>0.089631</td>\n",
              "      <td>1.000000</td>\n",
              "      <td>-0.016006</td>\n",
              "      <td>-0.013706</td>\n",
              "    </tr>\n",
              "    <tr>\n",
              "      <th>Arrival Delay in Hrs</th>\n",
              "      <td>-0.011905</td>\n",
              "      <td>-0.001576</td>\n",
              "      <td>-0.020017</td>\n",
              "      <td>-0.004287</td>\n",
              "      <td>-0.009744</td>\n",
              "      <td>0.004690</td>\n",
              "      <td>-0.032580</td>\n",
              "      <td>-0.023831</td>\n",
              "      <td>-0.029703</td>\n",
              "      <td>-0.030872</td>\n",
              "      <td>-0.035316</td>\n",
              "      <td>0.012532</td>\n",
              "      <td>-0.006011</td>\n",
              "      <td>-0.019798</td>\n",
              "      <td>-0.057846</td>\n",
              "      <td>-0.016006</td>\n",
              "      <td>1.000000</td>\n",
              "      <td>0.960109</td>\n",
              "    </tr>\n",
              "    <tr>\n",
              "      <th>Departure Delay in Hrs</th>\n",
              "      <td>-0.010723</td>\n",
              "      <td>0.003119</td>\n",
              "      <td>-0.017829</td>\n",
              "      <td>-0.001987</td>\n",
              "      <td>-0.007955</td>\n",
              "      <td>0.005622</td>\n",
              "      <td>-0.029532</td>\n",
              "      <td>-0.020490</td>\n",
              "      <td>-0.027152</td>\n",
              "      <td>-0.027633</td>\n",
              "      <td>-0.031276</td>\n",
              "      <td>0.014717</td>\n",
              "      <td>-0.002911</td>\n",
              "      <td>-0.017359</td>\n",
              "      <td>-0.053626</td>\n",
              "      <td>-0.013706</td>\n",
              "      <td>0.960109</td>\n",
              "      <td>1.000000</td>\n",
              "    </tr>\n",
              "  </tbody>\n",
              "</table>\n",
              "</div>\n",
              "      <button class=\"colab-df-convert\" onclick=\"convertToInteractive('df-c5410251-90df-4eb5-a07c-3732cd856546')\"\n",
              "              title=\"Convert this dataframe to an interactive table.\"\n",
              "              style=\"display:none;\">\n",
              "        \n",
              "  <svg xmlns=\"http://www.w3.org/2000/svg\" height=\"24px\"viewBox=\"0 0 24 24\"\n",
              "       width=\"24px\">\n",
              "    <path d=\"M0 0h24v24H0V0z\" fill=\"none\"/>\n",
              "    <path d=\"M18.56 5.44l.94 2.06.94-2.06 2.06-.94-2.06-.94-.94-2.06-.94 2.06-2.06.94zm-11 1L8.5 8.5l.94-2.06 2.06-.94-2.06-.94L8.5 2.5l-.94 2.06-2.06.94zm10 10l.94 2.06.94-2.06 2.06-.94-2.06-.94-.94-2.06-.94 2.06-2.06.94z\"/><path d=\"M17.41 7.96l-1.37-1.37c-.4-.4-.92-.59-1.43-.59-.52 0-1.04.2-1.43.59L10.3 9.45l-7.72 7.72c-.78.78-.78 2.05 0 2.83L4 21.41c.39.39.9.59 1.41.59.51 0 1.02-.2 1.41-.59l7.78-7.78 2.81-2.81c.8-.78.8-2.07 0-2.86zM5.41 20L4 18.59l7.72-7.72 1.47 1.35L5.41 20z\"/>\n",
              "  </svg>\n",
              "      </button>\n",
              "      \n",
              "  <style>\n",
              "    .colab-df-container {\n",
              "      display:flex;\n",
              "      flex-wrap:wrap;\n",
              "      gap: 12px;\n",
              "    }\n",
              "\n",
              "    .colab-df-convert {\n",
              "      background-color: #E8F0FE;\n",
              "      border: none;\n",
              "      border-radius: 50%;\n",
              "      cursor: pointer;\n",
              "      display: none;\n",
              "      fill: #1967D2;\n",
              "      height: 32px;\n",
              "      padding: 0 0 0 0;\n",
              "      width: 32px;\n",
              "    }\n",
              "\n",
              "    .colab-df-convert:hover {\n",
              "      background-color: #E2EBFA;\n",
              "      box-shadow: 0px 1px 2px rgba(60, 64, 67, 0.3), 0px 1px 3px 1px rgba(60, 64, 67, 0.15);\n",
              "      fill: #174EA6;\n",
              "    }\n",
              "\n",
              "    [theme=dark] .colab-df-convert {\n",
              "      background-color: #3B4455;\n",
              "      fill: #D2E3FC;\n",
              "    }\n",
              "\n",
              "    [theme=dark] .colab-df-convert:hover {\n",
              "      background-color: #434B5C;\n",
              "      box-shadow: 0px 1px 3px 1px rgba(0, 0, 0, 0.15);\n",
              "      filter: drop-shadow(0px 1px 2px rgba(0, 0, 0, 0.3));\n",
              "      fill: #FFFFFF;\n",
              "    }\n",
              "  </style>\n",
              "\n",
              "      <script>\n",
              "        const buttonEl =\n",
              "          document.querySelector('#df-c5410251-90df-4eb5-a07c-3732cd856546 button.colab-df-convert');\n",
              "        buttonEl.style.display =\n",
              "          google.colab.kernel.accessAllowed ? 'block' : 'none';\n",
              "\n",
              "        async function convertToInteractive(key) {\n",
              "          const element = document.querySelector('#df-c5410251-90df-4eb5-a07c-3732cd856546');\n",
              "          const dataTable =\n",
              "            await google.colab.kernel.invokeFunction('convertToInteractive',\n",
              "                                                     [key], {});\n",
              "          if (!dataTable) return;\n",
              "\n",
              "          const docLinkHtml = 'Like what you see? Visit the ' +\n",
              "            '<a target=\"_blank\" href=https://colab.research.google.com/notebooks/data_table.ipynb>data table notebook</a>'\n",
              "            + ' to learn more about interactive tables.';\n",
              "          element.innerHTML = '';\n",
              "          dataTable['output_type'] = 'display_data';\n",
              "          await google.colab.output.renderOutput(dataTable, element);\n",
              "          const docLink = document.createElement('div');\n",
              "          docLink.innerHTML = docLinkHtml;\n",
              "          element.appendChild(docLink);\n",
              "        }\n",
              "      </script>\n",
              "    </div>\n",
              "  </div>\n",
              "  "
            ]
          },
          "metadata": {},
          "execution_count": 146
        }
      ]
    },
    {
      "cell_type": "code",
      "source": [
        "fig = plt.figure(figsize = [15, 7])\n",
        "sns.heatmap(train.corr(), cmap='YlGnBu')"
      ],
      "metadata": {
        "colab": {
          "base_uri": "https://localhost:8080/",
          "height": 611
        },
        "id": "j2WRN5uNa_S_",
        "outputId": "8d9f549e-df2e-4aab-b943-d555f601093d"
      },
      "execution_count": 147,
      "outputs": [
        {
          "output_type": "execute_result",
          "data": {
            "text/plain": [
              "<matplotlib.axes._subplots.AxesSubplot at 0x7ff5c524c850>"
            ]
          },
          "metadata": {},
          "execution_count": 147
        },
        {
          "output_type": "display_data",
          "data": {
            "text/plain": [
              "<Figure size 1080x504 with 2 Axes>"
            ],
            "image/png": "[encoded data removed]"
          },
          "metadata": {
            "needs_background": "light"
          }
        }
      ]
    },
    {
      "cell_type": "code",
      "source": [
        "# sns.pairplot(train, hue ='satisfaction')"
      ],
      "metadata": {
        "id": "SfZGgDisroqp"
      },
      "execution_count": 148,
      "outputs": []
    },
    {
      "cell_type": "markdown",
      "source": [
        "**Observations:**\n",
        "\n",
        "- The missing values in **Arrival Delay in Minutes** column have been replaced with the median value since it is highly skewed data.\n",
        "\n",
        "- Created new columns:  **Arrival Delay in Hrs** and **Departure Delay in Hrs** measured in Hours using the columns: **Arrival Delay in Minutes** and **Departure Delay in Minutes** measured in minutes respectively.\n",
        "- Dropped existing columns (*Id, Arrival Delay in Minutes and Departure Delay in Minutes*) as they don't seem to contribute to the target column-**satisfaction**.\n",
        "\n",
        "- There is high correlation between variables- \n",
        " - **Cleanliness** with **(Food and drink, Seat comfort & Inflight entertainment)**\n",
        " - **Inflight service** with **(On-board service & Baggage handling)**\n",
        " - "
      ],
      "metadata": {
        "id": "rjGOGv1Uc2Ya"
      }
    },
    {
      "cell_type": "markdown",
      "metadata": {
        "id": "SGYcUN11R1zW"
      },
      "source": [
        "# *Post Profiling*"
      ]
    },
    {
      "cell_type": "markdown",
      "metadata": {
        "id": "6YtY2gScjteO"
      },
      "source": [
        "## Post Profiling Report\n",
        "\n",
        "- For **quick analysis** pandas profiling is very handy.\n",
        "\n",
        "- Generates profile reports for each column from a pandas DataFrame.\n",
        "\n",
        "- This will help analyse the impact of changes done during Data Preparation stage.\n"
      ]
    },
    {
      "cell_type": "code",
      "execution_count": 149,
      "metadata": {
        "id": "WdUB2SAqR6O0"
      },
      "outputs": [],
      "source": [
        "# profile = ProfileReport(df = train)\n",
        "# profile.to_file(output_file = 'Post Profiling Report.html')\n",
        "# print('Accomplished!')"
      ]
    },
    {
      "cell_type": "markdown",
      "metadata": {
        "id": "jpGK10R-R6_r"
      },
      "source": [
        "**Observations:**\n",
        "\n",
        "- There are **24 features** with **83123 unique observations** in the dataset.Total memory used is **14.6 MB**.\n",
        "\n",
        "- There are **No Duplicate** rows in this dataset.\n",
        "\n",
        "- There are **No Missing** values throughout the dataset.\n",
        "\n",
        "    - The missing values in **Arrival Delay in Minutes** column have been replaced with the median value since it is highly skewed data.\n",
        "\n",
        "    - Two columns: **Arrival Delay in Minutes** and **Departure Delay in Minutes** have been dropped after being converted into the columns: **Arrival Delay in Hrs** and **Departure Delay in Hrs** respectively since they both contain highly skewed data."
      ]
    },
    {
      "cell_type": "code",
      "source": [
        "def chi_square(x,y):\n",
        "  table = pd.crosstab(x,y)\n",
        "  stat, p, dof, expected = chi2_contingency(table)\n",
        "  if p < 0.05:\n",
        "    print('Accept the Alternate Hypothesis (Dependent)', round(p,5))\n",
        "  else:\n",
        "    print('Failed to Reject the null hypothesis (Independent)', round(p,5))\n",
        "  return table"
      ],
      "metadata": {
        "id": "zCMb-82MVLnQ"
      },
      "execution_count": 150,
      "outputs": []
    },
    {
      "cell_type": "code",
      "source": [
        "chi_square(train['Age'], train['satisfaction'])"
      ],
      "metadata": {
        "id": "wWq5hgPDYrDX",
        "colab": {
          "base_uri": "https://localhost:8080/",
          "height": 473
        },
        "outputId": "9f24b0d5-dacb-47b3-9647-60f0c0db930f"
      },
      "execution_count": 151,
      "outputs": [
        {
          "output_type": "stream",
          "name": "stdout",
          "text": [
            "Accept the Alternate Hypothesis (Dependent) 0.0\n"
          ]
        },
        {
          "output_type": "execute_result",
          "data": {
            "text/plain": [
              "satisfaction  neutral or dissatisfied  satisfied\n",
              "Age                                             \n",
              "7                                 414         43\n",
              "8                                 452         53\n",
              "9                                 468         80\n",
              "10                                488         73\n",
              "11                                465         90\n",
              "..                                ...        ...\n",
              "77                                 49         13\n",
              "78                                 16          9\n",
              "79                                 23         10\n",
              "80                                 50         11\n",
              "85                                 11          2\n",
              "\n",
              "[75 rows x 2 columns]"
            ],
            "text/html": [
              "\n",
              "  <div id=\"df-f71ba8af-48dc-43a9-a62c-01bd0501f6d8\">\n",
              "    <div class=\"colab-df-container\">\n",
              "      <div>\n",
              "<style scoped>\n",
              "    .dataframe tbody tr th:only-of-type {\n",
              "        vertical-align: middle;\n",
              "    }\n",
              "\n",
              "    .dataframe tbody tr th {\n",
              "        vertical-align: top;\n",
              "    }\n",
              "\n",
              "    .dataframe thead th {\n",
              "        text-align: right;\n",
              "    }\n",
              "</style>\n",
              "<table border=\"1\" class=\"dataframe\">\n",
              "  <thead>\n",
              "    <tr style=\"text-align: right;\">\n",
              "      <th>satisfaction</th>\n",
              "      <th>neutral or dissatisfied</th>\n",
              "      <th>satisfied</th>\n",
              "    </tr>\n",
              "    <tr>\n",
              "      <th>Age</th>\n",
              "      <th></th>\n",
              "      <th></th>\n",
              "    </tr>\n",
              "  </thead>\n",
              "  <tbody>\n",
              "    <tr>\n",
              "      <th>7</th>\n",
              "      <td>414</td>\n",
              "      <td>43</td>\n",
              "    </tr>\n",
              "    <tr>\n",
              "      <th>8</th>\n",
              "      <td>452</td>\n",
              "      <td>53</td>\n",
              "    </tr>\n",
              "    <tr>\n",
              "      <th>9</th>\n",
              "      <td>468</td>\n",
              "      <td>80</td>\n",
              "    </tr>\n",
              "    <tr>\n",
              "      <th>10</th>\n",
              "      <td>488</td>\n",
              "      <td>73</td>\n",
              "    </tr>\n",
              "    <tr>\n",
              "      <th>11</th>\n",
              "      <td>465</td>\n",
              "      <td>90</td>\n",
              "    </tr>\n",
              "    <tr>\n",
              "      <th>...</th>\n",
              "      <td>...</td>\n",
              "      <td>...</td>\n",
              "    </tr>\n",
              "    <tr>\n",
              "      <th>77</th>\n",
              "      <td>49</td>\n",
              "      <td>13</td>\n",
              "    </tr>\n",
              "    <tr>\n",
              "      <th>78</th>\n",
              "      <td>16</td>\n",
              "      <td>9</td>\n",
              "    </tr>\n",
              "    <tr>\n",
              "      <th>79</th>\n",
              "      <td>23</td>\n",
              "      <td>10</td>\n",
              "    </tr>\n",
              "    <tr>\n",
              "      <th>80</th>\n",
              "      <td>50</td>\n",
              "      <td>11</td>\n",
              "    </tr>\n",
              "    <tr>\n",
              "      <th>85</th>\n",
              "      <td>11</td>\n",
              "      <td>2</td>\n",
              "    </tr>\n",
              "  </tbody>\n",
              "</table>\n",
              "<p>75 rows × 2 columns</p>\n",
              "</div>\n",
              "      <button class=\"colab-df-convert\" onclick=\"convertToInteractive('df-f71ba8af-48dc-43a9-a62c-01bd0501f6d8')\"\n",
              "              title=\"Convert this dataframe to an interactive table.\"\n",
              "              style=\"display:none;\">\n",
              "        \n",
              "  <svg xmlns=\"http://www.w3.org/2000/svg\" height=\"24px\"viewBox=\"0 0 24 24\"\n",
              "       width=\"24px\">\n",
              "    <path d=\"M0 0h24v24H0V0z\" fill=\"none\"/>\n",
              "    <path d=\"M18.56 5.44l.94 2.06.94-2.06 2.06-.94-2.06-.94-.94-2.06-.94 2.06-2.06.94zm-11 1L8.5 8.5l.94-2.06 2.06-.94-2.06-.94L8.5 2.5l-.94 2.06-2.06.94zm10 10l.94 2.06.94-2.06 2.06-.94-2.06-.94-.94-2.06-.94 2.06-2.06.94z\"/><path d=\"M17.41 7.96l-1.37-1.37c-.4-.4-.92-.59-1.43-.59-.52 0-1.04.2-1.43.59L10.3 9.45l-7.72 7.72c-.78.78-.78 2.05 0 2.83L4 21.41c.39.39.9.59 1.41.59.51 0 1.02-.2 1.41-.59l7.78-7.78 2.81-2.81c.8-.78.8-2.07 0-2.86zM5.41 20L4 18.59l7.72-7.72 1.47 1.35L5.41 20z\"/>\n",
              "  </svg>\n",
              "      </button>\n",
              "      \n",
              "  <style>\n",
              "    .colab-df-container {\n",
              "      display:flex;\n",
              "      flex-wrap:wrap;\n",
              "      gap: 12px;\n",
              "    }\n",
              "\n",
              "    .colab-df-convert {\n",
              "      background-color: #E8F0FE;\n",
              "      border: none;\n",
              "      border-radius: 50%;\n",
              "      cursor: pointer;\n",
              "      display: none;\n",
              "      fill: #1967D2;\n",
              "      height: 32px;\n",
              "      padding: 0 0 0 0;\n",
              "      width: 32px;\n",
              "    }\n",
              "\n",
              "    .colab-df-convert:hover {\n",
              "      background-color: #E2EBFA;\n",
              "      box-shadow: 0px 1px 2px rgba(60, 64, 67, 0.3), 0px 1px 3px 1px rgba(60, 64, 67, 0.15);\n",
              "      fill: #174EA6;\n",
              "    }\n",
              "\n",
              "    [theme=dark] .colab-df-convert {\n",
              "      background-color: #3B4455;\n",
              "      fill: #D2E3FC;\n",
              "    }\n",
              "\n",
              "    [theme=dark] .colab-df-convert:hover {\n",
              "      background-color: #434B5C;\n",
              "      box-shadow: 0px 1px 3px 1px rgba(0, 0, 0, 0.15);\n",
              "      filter: drop-shadow(0px 1px 2px rgba(0, 0, 0, 0.3));\n",
              "      fill: #FFFFFF;\n",
              "    }\n",
              "  </style>\n",
              "\n",
              "      <script>\n",
              "        const buttonEl =\n",
              "          document.querySelector('#df-f71ba8af-48dc-43a9-a62c-01bd0501f6d8 button.colab-df-convert');\n",
              "        buttonEl.style.display =\n",
              "          google.colab.kernel.accessAllowed ? 'block' : 'none';\n",
              "\n",
              "        async function convertToInteractive(key) {\n",
              "          const element = document.querySelector('#df-f71ba8af-48dc-43a9-a62c-01bd0501f6d8');\n",
              "          const dataTable =\n",
              "            await google.colab.kernel.invokeFunction('convertToInteractive',\n",
              "                                                     [key], {});\n",
              "          if (!dataTable) return;\n",
              "\n",
              "          const docLinkHtml = 'Like what you see? Visit the ' +\n",
              "            '<a target=\"_blank\" href=https://colab.research.google.com/notebooks/data_table.ipynb>data table notebook</a>'\n",
              "            + ' to learn more about interactive tables.';\n",
              "          element.innerHTML = '';\n",
              "          dataTable['output_type'] = 'display_data';\n",
              "          await google.colab.output.renderOutput(dataTable, element);\n",
              "          const docLink = document.createElement('div');\n",
              "          docLink.innerHTML = docLinkHtml;\n",
              "          element.appendChild(docLink);\n",
              "        }\n",
              "      </script>\n",
              "    </div>\n",
              "  </div>\n",
              "  "
            ]
          },
          "metadata": {},
          "execution_count": 151
        }
      ]
    },
    {
      "cell_type": "code",
      "source": [
        "chi_square(train['Arrival Delay in Hrs'], train['satisfaction'])"
      ],
      "metadata": {
        "id": "PwLDzCCsY8O5",
        "colab": {
          "base_uri": "https://localhost:8080/",
          "height": 473
        },
        "outputId": "7e13c461-8bac-43cd-aa79-17ad331022a0"
      },
      "execution_count": 152,
      "outputs": [
        {
          "output_type": "stream",
          "name": "stdout",
          "text": [
            "Accept the Alternate Hypothesis (Dependent) 0.0\n"
          ]
        },
        {
          "output_type": "execute_result",
          "data": {
            "text/plain": [
              "satisfaction          neutral or dissatisfied  satisfied\n",
              "Arrival Delay in Hrs                                    \n",
              "0.00                                    24609      22195\n",
              "0.02                                      939        826\n",
              "0.03                                      879        761\n",
              "0.05                                      786        766\n",
              "0.07                                      781        769\n",
              "...                                       ...        ...\n",
              "15.40                                       1          0\n",
              "15.87                                       1          0\n",
              "16.85                                       0          1\n",
              "21.33                                       0          1\n",
              "26.40                                       1          0\n",
              "\n",
              "[429 rows x 2 columns]"
            ],
            "text/html": [
              "\n",
              "  <div id=\"df-f43f44d0-413b-4760-8cde-c8d0f3321a8a\">\n",
              "    <div class=\"colab-df-container\">\n",
              "      <div>\n",
              "<style scoped>\n",
              "    .dataframe tbody tr th:only-of-type {\n",
              "        vertical-align: middle;\n",
              "    }\n",
              "\n",
              "    .dataframe tbody tr th {\n",
              "        vertical-align: top;\n",
              "    }\n",
              "\n",
              "    .dataframe thead th {\n",
              "        text-align: right;\n",
              "    }\n",
              "</style>\n",
              "<table border=\"1\" class=\"dataframe\">\n",
              "  <thead>\n",
              "    <tr style=\"text-align: right;\">\n",
              "      <th>satisfaction</th>\n",
              "      <th>neutral or dissatisfied</th>\n",
              "      <th>satisfied</th>\n",
              "    </tr>\n",
              "    <tr>\n",
              "      <th>Arrival Delay in Hrs</th>\n",
              "      <th></th>\n",
              "      <th></th>\n",
              "    </tr>\n",
              "  </thead>\n",
              "  <tbody>\n",
              "    <tr>\n",
              "      <th>0.00</th>\n",
              "      <td>24609</td>\n",
              "      <td>22195</td>\n",
              "    </tr>\n",
              "    <tr>\n",
              "      <th>0.02</th>\n",
              "      <td>939</td>\n",
              "      <td>826</td>\n",
              "    </tr>\n",
              "    <tr>\n",
              "      <th>0.03</th>\n",
              "      <td>879</td>\n",
              "      <td>761</td>\n",
              "    </tr>\n",
              "    <tr>\n",
              "      <th>0.05</th>\n",
              "      <td>786</td>\n",
              "      <td>766</td>\n",
              "    </tr>\n",
              "    <tr>\n",
              "      <th>0.07</th>\n",
              "      <td>781</td>\n",
              "      <td>769</td>\n",
              "    </tr>\n",
              "    <tr>\n",
              "      <th>...</th>\n",
              "      <td>...</td>\n",
              "      <td>...</td>\n",
              "    </tr>\n",
              "    <tr>\n",
              "      <th>15.40</th>\n",
              "      <td>1</td>\n",
              "      <td>0</td>\n",
              "    </tr>\n",
              "    <tr>\n",
              "      <th>15.87</th>\n",
              "      <td>1</td>\n",
              "      <td>0</td>\n",
              "    </tr>\n",
              "    <tr>\n",
              "      <th>16.85</th>\n",
              "      <td>0</td>\n",
              "      <td>1</td>\n",
              "    </tr>\n",
              "    <tr>\n",
              "      <th>21.33</th>\n",
              "      <td>0</td>\n",
              "      <td>1</td>\n",
              "    </tr>\n",
              "    <tr>\n",
              "      <th>26.40</th>\n",
              "      <td>1</td>\n",
              "      <td>0</td>\n",
              "    </tr>\n",
              "  </tbody>\n",
              "</table>\n",
              "<p>429 rows × 2 columns</p>\n",
              "</div>\n",
              "      <button class=\"colab-df-convert\" onclick=\"convertToInteractive('df-f43f44d0-413b-4760-8cde-c8d0f3321a8a')\"\n",
              "              title=\"Convert this dataframe to an interactive table.\"\n",
              "              style=\"display:none;\">\n",
              "        \n",
              "  <svg xmlns=\"http://www.w3.org/2000/svg\" height=\"24px\"viewBox=\"0 0 24 24\"\n",
              "       width=\"24px\">\n",
              "    <path d=\"M0 0h24v24H0V0z\" fill=\"none\"/>\n",
              "    <path d=\"M18.56 5.44l.94 2.06.94-2.06 2.06-.94-2.06-.94-.94-2.06-.94 2.06-2.06.94zm-11 1L8.5 8.5l.94-2.06 2.06-.94-2.06-.94L8.5 2.5l-.94 2.06-2.06.94zm10 10l.94 2.06.94-2.06 2.06-.94-2.06-.94-.94-2.06-.94 2.06-2.06.94z\"/><path d=\"M17.41 7.96l-1.37-1.37c-.4-.4-.92-.59-1.43-.59-.52 0-1.04.2-1.43.59L10.3 9.45l-7.72 7.72c-.78.78-.78 2.05 0 2.83L4 21.41c.39.39.9.59 1.41.59.51 0 1.02-.2 1.41-.59l7.78-7.78 2.81-2.81c.8-.78.8-2.07 0-2.86zM5.41 20L4 18.59l7.72-7.72 1.47 1.35L5.41 20z\"/>\n",
              "  </svg>\n",
              "      </button>\n",
              "      \n",
              "  <style>\n",
              "    .colab-df-container {\n",
              "      display:flex;\n",
              "      flex-wrap:wrap;\n",
              "      gap: 12px;\n",
              "    }\n",
              "\n",
              "    .colab-df-convert {\n",
              "      background-color: #E8F0FE;\n",
              "      border: none;\n",
              "      border-radius: 50%;\n",
              "      cursor: pointer;\n",
              "      display: none;\n",
              "      fill: #1967D2;\n",
              "      height: 32px;\n",
              "      padding: 0 0 0 0;\n",
              "      width: 32px;\n",
              "    }\n",
              "\n",
              "    .colab-df-convert:hover {\n",
              "      background-color: #E2EBFA;\n",
              "      box-shadow: 0px 1px 2px rgba(60, 64, 67, 0.3), 0px 1px 3px 1px rgba(60, 64, 67, 0.15);\n",
              "      fill: #174EA6;\n",
              "    }\n",
              "\n",
              "    [theme=dark] .colab-df-convert {\n",
              "      background-color: #3B4455;\n",
              "      fill: #D2E3FC;\n",
              "    }\n",
              "\n",
              "    [theme=dark] .colab-df-convert:hover {\n",
              "      background-color: #434B5C;\n",
              "      box-shadow: 0px 1px 3px 1px rgba(0, 0, 0, 0.15);\n",
              "      filter: drop-shadow(0px 1px 2px rgba(0, 0, 0, 0.3));\n",
              "      fill: #FFFFFF;\n",
              "    }\n",
              "  </style>\n",
              "\n",
              "      <script>\n",
              "        const buttonEl =\n",
              "          document.querySelector('#df-f43f44d0-413b-4760-8cde-c8d0f3321a8a button.colab-df-convert');\n",
              "        buttonEl.style.display =\n",
              "          google.colab.kernel.accessAllowed ? 'block' : 'none';\n",
              "\n",
              "        async function convertToInteractive(key) {\n",
              "          const element = document.querySelector('#df-f43f44d0-413b-4760-8cde-c8d0f3321a8a');\n",
              "          const dataTable =\n",
              "            await google.colab.kernel.invokeFunction('convertToInteractive',\n",
              "                                                     [key], {});\n",
              "          if (!dataTable) return;\n",
              "\n",
              "          const docLinkHtml = 'Like what you see? Visit the ' +\n",
              "            '<a target=\"_blank\" href=https://colab.research.google.com/notebooks/data_table.ipynb>data table notebook</a>'\n",
              "            + ' to learn more about interactive tables.';\n",
              "          element.innerHTML = '';\n",
              "          dataTable['output_type'] = 'display_data';\n",
              "          await google.colab.output.renderOutput(dataTable, element);\n",
              "          const docLink = document.createElement('div');\n",
              "          docLink.innerHTML = docLinkHtml;\n",
              "          element.appendChild(docLink);\n",
              "        }\n",
              "      </script>\n",
              "    </div>\n",
              "  </div>\n",
              "  "
            ]
          },
          "metadata": {},
          "execution_count": 152
        }
      ]
    },
    {
      "cell_type": "code",
      "source": [
        "chi_square(train['Baggage handling'], train['satisfaction'])"
      ],
      "metadata": {
        "id": "50Pmp7DYZOFm",
        "colab": {
          "base_uri": "https://localhost:8080/",
          "height": 256
        },
        "outputId": "c8dcfcb7-dbfe-4e5c-b6bf-c750e2e0441e"
      },
      "execution_count": 153,
      "outputs": [
        {
          "output_type": "stream",
          "name": "stdout",
          "text": [
            "Accept the Alternate Hypothesis (Dependent) 0.0\n"
          ]
        },
        {
          "output_type": "execute_result",
          "data": {
            "text/plain": [
              "satisfaction      neutral or dissatisfied  satisfied\n",
              "Baggage handling                                    \n",
              "1                                    3970       1757\n",
              "2                                    6502       2709\n",
              "3                                   12607       3919\n",
              "4                                   15468      14459\n",
              "5                                    8457      13275"
            ],
            "text/html": [
              "\n",
              "  <div id=\"df-12b1bd74-ad8d-4145-805e-0615d2344c28\">\n",
              "    <div class=\"colab-df-container\">\n",
              "      <div>\n",
              "<style scoped>\n",
              "    .dataframe tbody tr th:only-of-type {\n",
              "        vertical-align: middle;\n",
              "    }\n",
              "\n",
              "    .dataframe tbody tr th {\n",
              "        vertical-align: top;\n",
              "    }\n",
              "\n",
              "    .dataframe thead th {\n",
              "        text-align: right;\n",
              "    }\n",
              "</style>\n",
              "<table border=\"1\" class=\"dataframe\">\n",
              "  <thead>\n",
              "    <tr style=\"text-align: right;\">\n",
              "      <th>satisfaction</th>\n",
              "      <th>neutral or dissatisfied</th>\n",
              "      <th>satisfied</th>\n",
              "    </tr>\n",
              "    <tr>\n",
              "      <th>Baggage handling</th>\n",
              "      <th></th>\n",
              "      <th></th>\n",
              "    </tr>\n",
              "  </thead>\n",
              "  <tbody>\n",
              "    <tr>\n",
              "      <th>1</th>\n",
              "      <td>3970</td>\n",
              "      <td>1757</td>\n",
              "    </tr>\n",
              "    <tr>\n",
              "      <th>2</th>\n",
              "      <td>6502</td>\n",
              "      <td>2709</td>\n",
              "    </tr>\n",
              "    <tr>\n",
              "      <th>3</th>\n",
              "      <td>12607</td>\n",
              "      <td>3919</td>\n",
              "    </tr>\n",
              "    <tr>\n",
              "      <th>4</th>\n",
              "      <td>15468</td>\n",
              "      <td>14459</td>\n",
              "    </tr>\n",
              "    <tr>\n",
              "      <th>5</th>\n",
              "      <td>8457</td>\n",
              "      <td>13275</td>\n",
              "    </tr>\n",
              "  </tbody>\n",
              "</table>\n",
              "</div>\n",
              "      <button class=\"colab-df-convert\" onclick=\"convertToInteractive('df-12b1bd74-ad8d-4145-805e-0615d2344c28')\"\n",
              "              title=\"Convert this dataframe to an interactive table.\"\n",
              "              style=\"display:none;\">\n",
              "        \n",
              "  <svg xmlns=\"http://www.w3.org/2000/svg\" height=\"24px\"viewBox=\"0 0 24 24\"\n",
              "       width=\"24px\">\n",
              "    <path d=\"M0 0h24v24H0V0z\" fill=\"none\"/>\n",
              "    <path d=\"M18.56 5.44l.94 2.06.94-2.06 2.06-.94-2.06-.94-.94-2.06-.94 2.06-2.06.94zm-11 1L8.5 8.5l.94-2.06 2.06-.94-2.06-.94L8.5 2.5l-.94 2.06-2.06.94zm10 10l.94 2.06.94-2.06 2.06-.94-2.06-.94-.94-2.06-.94 2.06-2.06.94z\"/><path d=\"M17.41 7.96l-1.37-1.37c-.4-.4-.92-.59-1.43-.59-.52 0-1.04.2-1.43.59L10.3 9.45l-7.72 7.72c-.78.78-.78 2.05 0 2.83L4 21.41c.39.39.9.59 1.41.59.51 0 1.02-.2 1.41-.59l7.78-7.78 2.81-2.81c.8-.78.8-2.07 0-2.86zM5.41 20L4 18.59l7.72-7.72 1.47 1.35L5.41 20z\"/>\n",
              "  </svg>\n",
              "      </button>\n",
              "      \n",
              "  <style>\n",
              "    .colab-df-container {\n",
              "      display:flex;\n",
              "      flex-wrap:wrap;\n",
              "      gap: 12px;\n",
              "    }\n",
              "\n",
              "    .colab-df-convert {\n",
              "      background-color: #E8F0FE;\n",
              "      border: none;\n",
              "      border-radius: 50%;\n",
              "      cursor: pointer;\n",
              "      display: none;\n",
              "      fill: #1967D2;\n",
              "      height: 32px;\n",
              "      padding: 0 0 0 0;\n",
              "      width: 32px;\n",
              "    }\n",
              "\n",
              "    .colab-df-convert:hover {\n",
              "      background-color: #E2EBFA;\n",
              "      box-shadow: 0px 1px 2px rgba(60, 64, 67, 0.3), 0px 1px 3px 1px rgba(60, 64, 67, 0.15);\n",
              "      fill: #174EA6;\n",
              "    }\n",
              "\n",
              "    [theme=dark] .colab-df-convert {\n",
              "      background-color: #3B4455;\n",
              "      fill: #D2E3FC;\n",
              "    }\n",
              "\n",
              "    [theme=dark] .colab-df-convert:hover {\n",
              "      background-color: #434B5C;\n",
              "      box-shadow: 0px 1px 3px 1px rgba(0, 0, 0, 0.15);\n",
              "      filter: drop-shadow(0px 1px 2px rgba(0, 0, 0, 0.3));\n",
              "      fill: #FFFFFF;\n",
              "    }\n",
              "  </style>\n",
              "\n",
              "      <script>\n",
              "        const buttonEl =\n",
              "          document.querySelector('#df-12b1bd74-ad8d-4145-805e-0615d2344c28 button.colab-df-convert');\n",
              "        buttonEl.style.display =\n",
              "          google.colab.kernel.accessAllowed ? 'block' : 'none';\n",
              "\n",
              "        async function convertToInteractive(key) {\n",
              "          const element = document.querySelector('#df-12b1bd74-ad8d-4145-805e-0615d2344c28');\n",
              "          const dataTable =\n",
              "            await google.colab.kernel.invokeFunction('convertToInteractive',\n",
              "                                                     [key], {});\n",
              "          if (!dataTable) return;\n",
              "\n",
              "          const docLinkHtml = 'Like what you see? Visit the ' +\n",
              "            '<a target=\"_blank\" href=https://colab.research.google.com/notebooks/data_table.ipynb>data table notebook</a>'\n",
              "            + ' to learn more about interactive tables.';\n",
              "          element.innerHTML = '';\n",
              "          dataTable['output_type'] = 'display_data';\n",
              "          await google.colab.output.renderOutput(dataTable, element);\n",
              "          const docLink = document.createElement('div');\n",
              "          docLink.innerHTML = docLinkHtml;\n",
              "          element.appendChild(docLink);\n",
              "        }\n",
              "      </script>\n",
              "    </div>\n",
              "  </div>\n",
              "  "
            ]
          },
          "metadata": {},
          "execution_count": 153
        }
      ]
    },
    {
      "cell_type": "code",
      "source": [
        "chi_square(train['Class'], train['satisfaction'])"
      ],
      "metadata": {
        "id": "gHo1VpDRZWkC",
        "colab": {
          "base_uri": "https://localhost:8080/",
          "height": 193
        },
        "outputId": "2afe8940-0ebd-4ecf-f08c-33f17bc9b569"
      },
      "execution_count": 154,
      "outputs": [
        {
          "output_type": "stream",
          "name": "stdout",
          "text": [
            "Accept the Alternate Hypothesis (Dependent) 0.0\n"
          ]
        },
        {
          "output_type": "execute_result",
          "data": {
            "text/plain": [
              "satisfaction  neutral or dissatisfied  satisfied\n",
              "Class                                           \n",
              "Business                        12093      27598\n",
              "Eco                             30431       7026\n",
              "Eco Plus                         4480       1495"
            ],
            "text/html": [
              "\n",
              "  <div id=\"df-9a29ca40-c23d-48fc-8152-44d60ef68221\">\n",
              "    <div class=\"colab-df-container\">\n",
              "      <div>\n",
              "<style scoped>\n",
              "    .dataframe tbody tr th:only-of-type {\n",
              "        vertical-align: middle;\n",
              "    }\n",
              "\n",
              "    .dataframe tbody tr th {\n",
              "        vertical-align: top;\n",
              "    }\n",
              "\n",
              "    .dataframe thead th {\n",
              "        text-align: right;\n",
              "    }\n",
              "</style>\n",
              "<table border=\"1\" class=\"dataframe\">\n",
              "  <thead>\n",
              "    <tr style=\"text-align: right;\">\n",
              "      <th>satisfaction</th>\n",
              "      <th>neutral or dissatisfied</th>\n",
              "      <th>satisfied</th>\n",
              "    </tr>\n",
              "    <tr>\n",
              "      <th>Class</th>\n",
              "      <th></th>\n",
              "      <th></th>\n",
              "    </tr>\n",
              "  </thead>\n",
              "  <tbody>\n",
              "    <tr>\n",
              "      <th>Business</th>\n",
              "      <td>12093</td>\n",
              "      <td>27598</td>\n",
              "    </tr>\n",
              "    <tr>\n",
              "      <th>Eco</th>\n",
              "      <td>30431</td>\n",
              "      <td>7026</td>\n",
              "    </tr>\n",
              "    <tr>\n",
              "      <th>Eco Plus</th>\n",
              "      <td>4480</td>\n",
              "      <td>1495</td>\n",
              "    </tr>\n",
              "  </tbody>\n",
              "</table>\n",
              "</div>\n",
              "      <button class=\"colab-df-convert\" onclick=\"convertToInteractive('df-9a29ca40-c23d-48fc-8152-44d60ef68221')\"\n",
              "              title=\"Convert this dataframe to an interactive table.\"\n",
              "              style=\"display:none;\">\n",
              "        \n",
              "  <svg xmlns=\"http://www.w3.org/2000/svg\" height=\"24px\"viewBox=\"0 0 24 24\"\n",
              "       width=\"24px\">\n",
              "    <path d=\"M0 0h24v24H0V0z\" fill=\"none\"/>\n",
              "    <path d=\"M18.56 5.44l.94 2.06.94-2.06 2.06-.94-2.06-.94-.94-2.06-.94 2.06-2.06.94zm-11 1L8.5 8.5l.94-2.06 2.06-.94-2.06-.94L8.5 2.5l-.94 2.06-2.06.94zm10 10l.94 2.06.94-2.06 2.06-.94-2.06-.94-.94-2.06-.94 2.06-2.06.94z\"/><path d=\"M17.41 7.96l-1.37-1.37c-.4-.4-.92-.59-1.43-.59-.52 0-1.04.2-1.43.59L10.3 9.45l-7.72 7.72c-.78.78-.78 2.05 0 2.83L4 21.41c.39.39.9.59 1.41.59.51 0 1.02-.2 1.41-.59l7.78-7.78 2.81-2.81c.8-.78.8-2.07 0-2.86zM5.41 20L4 18.59l7.72-7.72 1.47 1.35L5.41 20z\"/>\n",
              "  </svg>\n",
              "      </button>\n",
              "      \n",
              "  <style>\n",
              "    .colab-df-container {\n",
              "      display:flex;\n",
              "      flex-wrap:wrap;\n",
              "      gap: 12px;\n",
              "    }\n",
              "\n",
              "    .colab-df-convert {\n",
              "      background-color: #E8F0FE;\n",
              "      border: none;\n",
              "      border-radius: 50%;\n",
              "      cursor: pointer;\n",
              "      display: none;\n",
              "      fill: #1967D2;\n",
              "      height: 32px;\n",
              "      padding: 0 0 0 0;\n",
              "      width: 32px;\n",
              "    }\n",
              "\n",
              "    .colab-df-convert:hover {\n",
              "      background-color: #E2EBFA;\n",
              "      box-shadow: 0px 1px 2px rgba(60, 64, 67, 0.3), 0px 1px 3px 1px rgba(60, 64, 67, 0.15);\n",
              "      fill: #174EA6;\n",
              "    }\n",
              "\n",
              "    [theme=dark] .colab-df-convert {\n",
              "      background-color: #3B4455;\n",
              "      fill: #D2E3FC;\n",
              "    }\n",
              "\n",
              "    [theme=dark] .colab-df-convert:hover {\n",
              "      background-color: #434B5C;\n",
              "      box-shadow: 0px 1px 3px 1px rgba(0, 0, 0, 0.15);\n",
              "      filter: drop-shadow(0px 1px 2px rgba(0, 0, 0, 0.3));\n",
              "      fill: #FFFFFF;\n",
              "    }\n",
              "  </style>\n",
              "\n",
              "      <script>\n",
              "        const buttonEl =\n",
              "          document.querySelector('#df-9a29ca40-c23d-48fc-8152-44d60ef68221 button.colab-df-convert');\n",
              "        buttonEl.style.display =\n",
              "          google.colab.kernel.accessAllowed ? 'block' : 'none';\n",
              "\n",
              "        async function convertToInteractive(key) {\n",
              "          const element = document.querySelector('#df-9a29ca40-c23d-48fc-8152-44d60ef68221');\n",
              "          const dataTable =\n",
              "            await google.colab.kernel.invokeFunction('convertToInteractive',\n",
              "                                                     [key], {});\n",
              "          if (!dataTable) return;\n",
              "\n",
              "          const docLinkHtml = 'Like what you see? Visit the ' +\n",
              "            '<a target=\"_blank\" href=https://colab.research.google.com/notebooks/data_table.ipynb>data table notebook</a>'\n",
              "            + ' to learn more about interactive tables.';\n",
              "          element.innerHTML = '';\n",
              "          dataTable['output_type'] = 'display_data';\n",
              "          await google.colab.output.renderOutput(dataTable, element);\n",
              "          const docLink = document.createElement('div');\n",
              "          docLink.innerHTML = docLinkHtml;\n",
              "          element.appendChild(docLink);\n",
              "        }\n",
              "      </script>\n",
              "    </div>\n",
              "  </div>\n",
              "  "
            ]
          },
          "metadata": {},
          "execution_count": 154
        }
      ]
    },
    {
      "cell_type": "code",
      "source": [
        "chi_square(train['Customer Type'], train['satisfaction'])"
      ],
      "metadata": {
        "id": "DmQxbYY_ZfZU",
        "colab": {
          "base_uri": "https://localhost:8080/",
          "height": 162
        },
        "outputId": "749509a9-084a-4647-8841-3ca15330f256"
      },
      "execution_count": 155,
      "outputs": [
        {
          "output_type": "stream",
          "name": "stdout",
          "text": [
            "Accept the Alternate Hypothesis (Dependent) 0.0\n"
          ]
        },
        {
          "output_type": "execute_result",
          "data": {
            "text/plain": [
              "satisfaction       neutral or dissatisfied  satisfied\n",
              "Customer Type                                        \n",
              "Loyal Customer                       35435      32480\n",
              "disloyal Customer                    11569       3639"
            ],
            "text/html": [
              "\n",
              "  <div id=\"df-6020daf6-c5bc-4c6a-85cf-c69c88feb225\">\n",
              "    <div class=\"colab-df-container\">\n",
              "      <div>\n",
              "<style scoped>\n",
              "    .dataframe tbody tr th:only-of-type {\n",
              "        vertical-align: middle;\n",
              "    }\n",
              "\n",
              "    .dataframe tbody tr th {\n",
              "        vertical-align: top;\n",
              "    }\n",
              "\n",
              "    .dataframe thead th {\n",
              "        text-align: right;\n",
              "    }\n",
              "</style>\n",
              "<table border=\"1\" class=\"dataframe\">\n",
              "  <thead>\n",
              "    <tr style=\"text-align: right;\">\n",
              "      <th>satisfaction</th>\n",
              "      <th>neutral or dissatisfied</th>\n",
              "      <th>satisfied</th>\n",
              "    </tr>\n",
              "    <tr>\n",
              "      <th>Customer Type</th>\n",
              "      <th></th>\n",
              "      <th></th>\n",
              "    </tr>\n",
              "  </thead>\n",
              "  <tbody>\n",
              "    <tr>\n",
              "      <th>Loyal Customer</th>\n",
              "      <td>35435</td>\n",
              "      <td>32480</td>\n",
              "    </tr>\n",
              "    <tr>\n",
              "      <th>disloyal Customer</th>\n",
              "      <td>11569</td>\n",
              "      <td>3639</td>\n",
              "    </tr>\n",
              "  </tbody>\n",
              "</table>\n",
              "</div>\n",
              "      <button class=\"colab-df-convert\" onclick=\"convertToInteractive('df-6020daf6-c5bc-4c6a-85cf-c69c88feb225')\"\n",
              "              title=\"Convert this dataframe to an interactive table.\"\n",
              "              style=\"display:none;\">\n",
              "        \n",
              "  <svg xmlns=\"http://www.w3.org/2000/svg\" height=\"24px\"viewBox=\"0 0 24 24\"\n",
              "       width=\"24px\">\n",
              "    <path d=\"M0 0h24v24H0V0z\" fill=\"none\"/>\n",
              "    <path d=\"M18.56 5.44l.94 2.06.94-2.06 2.06-.94-2.06-.94-.94-2.06-.94 2.06-2.06.94zm-11 1L8.5 8.5l.94-2.06 2.06-.94-2.06-.94L8.5 2.5l-.94 2.06-2.06.94zm10 10l.94 2.06.94-2.06 2.06-.94-2.06-.94-.94-2.06-.94 2.06-2.06.94z\"/><path d=\"M17.41 7.96l-1.37-1.37c-.4-.4-.92-.59-1.43-.59-.52 0-1.04.2-1.43.59L10.3 9.45l-7.72 7.72c-.78.78-.78 2.05 0 2.83L4 21.41c.39.39.9.59 1.41.59.51 0 1.02-.2 1.41-.59l7.78-7.78 2.81-2.81c.8-.78.8-2.07 0-2.86zM5.41 20L4 18.59l7.72-7.72 1.47 1.35L5.41 20z\"/>\n",
              "  </svg>\n",
              "      </button>\n",
              "      \n",
              "  <style>\n",
              "    .colab-df-container {\n",
              "      display:flex;\n",
              "      flex-wrap:wrap;\n",
              "      gap: 12px;\n",
              "    }\n",
              "\n",
              "    .colab-df-convert {\n",
              "      background-color: #E8F0FE;\n",
              "      border: none;\n",
              "      border-radius: 50%;\n",
              "      cursor: pointer;\n",
              "      display: none;\n",
              "      fill: #1967D2;\n",
              "      height: 32px;\n",
              "      padding: 0 0 0 0;\n",
              "      width: 32px;\n",
              "    }\n",
              "\n",
              "    .colab-df-convert:hover {\n",
              "      background-color: #E2EBFA;\n",
              "      box-shadow: 0px 1px 2px rgba(60, 64, 67, 0.3), 0px 1px 3px 1px rgba(60, 64, 67, 0.15);\n",
              "      fill: #174EA6;\n",
              "    }\n",
              "\n",
              "    [theme=dark] .colab-df-convert {\n",
              "      background-color: #3B4455;\n",
              "      fill: #D2E3FC;\n",
              "    }\n",
              "\n",
              "    [theme=dark] .colab-df-convert:hover {\n",
              "      background-color: #434B5C;\n",
              "      box-shadow: 0px 1px 3px 1px rgba(0, 0, 0, 0.15);\n",
              "      filter: drop-shadow(0px 1px 2px rgba(0, 0, 0, 0.3));\n",
              "      fill: #FFFFFF;\n",
              "    }\n",
              "  </style>\n",
              "\n",
              "      <script>\n",
              "        const buttonEl =\n",
              "          document.querySelector('#df-6020daf6-c5bc-4c6a-85cf-c69c88feb225 button.colab-df-convert');\n",
              "        buttonEl.style.display =\n",
              "          google.colab.kernel.accessAllowed ? 'block' : 'none';\n",
              "\n",
              "        async function convertToInteractive(key) {\n",
              "          const element = document.querySelector('#df-6020daf6-c5bc-4c6a-85cf-c69c88feb225');\n",
              "          const dataTable =\n",
              "            await google.colab.kernel.invokeFunction('convertToInteractive',\n",
              "                                                     [key], {});\n",
              "          if (!dataTable) return;\n",
              "\n",
              "          const docLinkHtml = 'Like what you see? Visit the ' +\n",
              "            '<a target=\"_blank\" href=https://colab.research.google.com/notebooks/data_table.ipynb>data table notebook</a>'\n",
              "            + ' to learn more about interactive tables.';\n",
              "          element.innerHTML = '';\n",
              "          dataTable['output_type'] = 'display_data';\n",
              "          await google.colab.output.renderOutput(dataTable, element);\n",
              "          const docLink = document.createElement('div');\n",
              "          docLink.innerHTML = docLinkHtml;\n",
              "          element.appendChild(docLink);\n",
              "        }\n",
              "      </script>\n",
              "    </div>\n",
              "  </div>\n",
              "  "
            ]
          },
          "metadata": {},
          "execution_count": 155
        }
      ]
    },
    {
      "cell_type": "code",
      "source": [
        "chi_square(train['Ease of Online booking'], train['satisfaction'])"
      ],
      "metadata": {
        "id": "zy3pzMfLZlvv",
        "colab": {
          "base_uri": "https://localhost:8080/",
          "height": 287
        },
        "outputId": "50028b24-8508-49ba-e3bf-4a876bab8094"
      },
      "execution_count": 156,
      "outputs": [
        {
          "output_type": "stream",
          "name": "stdout",
          "text": [
            "Accept the Alternate Hypothesis (Dependent) 0.0\n"
          ]
        },
        {
          "output_type": "execute_result",
          "data": {
            "text/plain": [
              "satisfaction            neutral or dissatisfied  satisfied\n",
              "Ease of Online booking                                    \n",
              "0                                          1210       2394\n",
              "1                                          8784       5313\n",
              "2                                         13320       5818\n",
              "3                                         13487       6023\n",
              "4                                          7338       8316\n",
              "5                                          2865       8255"
            ],
            "text/html": [
              "\n",
              "  <div id=\"df-fb3013a0-8635-442b-b79c-8892c60af39d\">\n",
              "    <div class=\"colab-df-container\">\n",
              "      <div>\n",
              "<style scoped>\n",
              "    .dataframe tbody tr th:only-of-type {\n",
              "        vertical-align: middle;\n",
              "    }\n",
              "\n",
              "    .dataframe tbody tr th {\n",
              "        vertical-align: top;\n",
              "    }\n",
              "\n",
              "    .dataframe thead th {\n",
              "        text-align: right;\n",
              "    }\n",
              "</style>\n",
              "<table border=\"1\" class=\"dataframe\">\n",
              "  <thead>\n",
              "    <tr style=\"text-align: right;\">\n",
              "      <th>satisfaction</th>\n",
              "      <th>neutral or dissatisfied</th>\n",
              "      <th>satisfied</th>\n",
              "    </tr>\n",
              "    <tr>\n",
              "      <th>Ease of Online booking</th>\n",
              "      <th></th>\n",
              "      <th></th>\n",
              "    </tr>\n",
              "  </thead>\n",
              "  <tbody>\n",
              "    <tr>\n",
              "      <th>0</th>\n",
              "      <td>1210</td>\n",
              "      <td>2394</td>\n",
              "    </tr>\n",
              "    <tr>\n",
              "      <th>1</th>\n",
              "      <td>8784</td>\n",
              "      <td>5313</td>\n",
              "    </tr>\n",
              "    <tr>\n",
              "      <th>2</th>\n",
              "      <td>13320</td>\n",
              "      <td>5818</td>\n",
              "    </tr>\n",
              "    <tr>\n",
              "      <th>3</th>\n",
              "      <td>13487</td>\n",
              "      <td>6023</td>\n",
              "    </tr>\n",
              "    <tr>\n",
              "      <th>4</th>\n",
              "      <td>7338</td>\n",
              "      <td>8316</td>\n",
              "    </tr>\n",
              "    <tr>\n",
              "      <th>5</th>\n",
              "      <td>2865</td>\n",
              "      <td>8255</td>\n",
              "    </tr>\n",
              "  </tbody>\n",
              "</table>\n",
              "</div>\n",
              "      <button class=\"colab-df-convert\" onclick=\"convertToInteractive('df-fb3013a0-8635-442b-b79c-8892c60af39d')\"\n",
              "              title=\"Convert this dataframe to an interactive table.\"\n",
              "              style=\"display:none;\">\n",
              "        \n",
              "  <svg xmlns=\"http://www.w3.org/2000/svg\" height=\"24px\"viewBox=\"0 0 24 24\"\n",
              "       width=\"24px\">\n",
              "    <path d=\"M0 0h24v24H0V0z\" fill=\"none\"/>\n",
              "    <path d=\"M18.56 5.44l.94 2.06.94-2.06 2.06-.94-2.06-.94-.94-2.06-.94 2.06-2.06.94zm-11 1L8.5 8.5l.94-2.06 2.06-.94-2.06-.94L8.5 2.5l-.94 2.06-2.06.94zm10 10l.94 2.06.94-2.06 2.06-.94-2.06-.94-.94-2.06-.94 2.06-2.06.94z\"/><path d=\"M17.41 7.96l-1.37-1.37c-.4-.4-.92-.59-1.43-.59-.52 0-1.04.2-1.43.59L10.3 9.45l-7.72 7.72c-.78.78-.78 2.05 0 2.83L4 21.41c.39.39.9.59 1.41.59.51 0 1.02-.2 1.41-.59l7.78-7.78 2.81-2.81c.8-.78.8-2.07 0-2.86zM5.41 20L4 18.59l7.72-7.72 1.47 1.35L5.41 20z\"/>\n",
              "  </svg>\n",
              "      </button>\n",
              "      \n",
              "  <style>\n",
              "    .colab-df-container {\n",
              "      display:flex;\n",
              "      flex-wrap:wrap;\n",
              "      gap: 12px;\n",
              "    }\n",
              "\n",
              "    .colab-df-convert {\n",
              "      background-color: #E8F0FE;\n",
              "      border: none;\n",
              "      border-radius: 50%;\n",
              "      cursor: pointer;\n",
              "      display: none;\n",
              "      fill: #1967D2;\n",
              "      height: 32px;\n",
              "      padding: 0 0 0 0;\n",
              "      width: 32px;\n",
              "    }\n",
              "\n",
              "    .colab-df-convert:hover {\n",
              "      background-color: #E2EBFA;\n",
              "      box-shadow: 0px 1px 2px rgba(60, 64, 67, 0.3), 0px 1px 3px 1px rgba(60, 64, 67, 0.15);\n",
              "      fill: #174EA6;\n",
              "    }\n",
              "\n",
              "    [theme=dark] .colab-df-convert {\n",
              "      background-color: #3B4455;\n",
              "      fill: #D2E3FC;\n",
              "    }\n",
              "\n",
              "    [theme=dark] .colab-df-convert:hover {\n",
              "      background-color: #434B5C;\n",
              "      box-shadow: 0px 1px 3px 1px rgba(0, 0, 0, 0.15);\n",
              "      filter: drop-shadow(0px 1px 2px rgba(0, 0, 0, 0.3));\n",
              "      fill: #FFFFFF;\n",
              "    }\n",
              "  </style>\n",
              "\n",
              "      <script>\n",
              "        const buttonEl =\n",
              "          document.querySelector('#df-fb3013a0-8635-442b-b79c-8892c60af39d button.colab-df-convert');\n",
              "        buttonEl.style.display =\n",
              "          google.colab.kernel.accessAllowed ? 'block' : 'none';\n",
              "\n",
              "        async function convertToInteractive(key) {\n",
              "          const element = document.querySelector('#df-fb3013a0-8635-442b-b79c-8892c60af39d');\n",
              "          const dataTable =\n",
              "            await google.colab.kernel.invokeFunction('convertToInteractive',\n",
              "                                                     [key], {});\n",
              "          if (!dataTable) return;\n",
              "\n",
              "          const docLinkHtml = 'Like what you see? Visit the ' +\n",
              "            '<a target=\"_blank\" href=https://colab.research.google.com/notebooks/data_table.ipynb>data table notebook</a>'\n",
              "            + ' to learn more about interactive tables.';\n",
              "          element.innerHTML = '';\n",
              "          dataTable['output_type'] = 'display_data';\n",
              "          await google.colab.output.renderOutput(dataTable, element);\n",
              "          const docLink = document.createElement('div');\n",
              "          docLink.innerHTML = docLinkHtml;\n",
              "          element.appendChild(docLink);\n",
              "        }\n",
              "      </script>\n",
              "    </div>\n",
              "  </div>\n",
              "  "
            ]
          },
          "metadata": {},
          "execution_count": 156
        }
      ]
    },
    {
      "cell_type": "code",
      "source": [
        "chi_square(train['Gender'], train['satisfaction'])"
      ],
      "metadata": {
        "id": "UWEv-EFPZsDa",
        "colab": {
          "base_uri": "https://localhost:8080/",
          "height": 162
        },
        "outputId": "13b4ff1a-eae3-45f9-c840-6e2bdd4ed57a"
      },
      "execution_count": 157,
      "outputs": [
        {
          "output_type": "stream",
          "name": "stdout",
          "text": [
            "Accept the Alternate Hypothesis (Dependent) 0.00069\n"
          ]
        },
        {
          "output_type": "execute_result",
          "data": {
            "text/plain": [
              "satisfaction  neutral or dissatisfied  satisfied\n",
              "Gender                                          \n",
              "Female                          24059      18058\n",
              "Male                            22945      18061"
            ],
            "text/html": [
              "\n",
              "  <div id=\"df-bfcccb84-266f-4fe7-b0b8-b0d144896913\">\n",
              "    <div class=\"colab-df-container\">\n",
              "      <div>\n",
              "<style scoped>\n",
              "    .dataframe tbody tr th:only-of-type {\n",
              "        vertical-align: middle;\n",
              "    }\n",
              "\n",
              "    .dataframe tbody tr th {\n",
              "        vertical-align: top;\n",
              "    }\n",
              "\n",
              "    .dataframe thead th {\n",
              "        text-align: right;\n",
              "    }\n",
              "</style>\n",
              "<table border=\"1\" class=\"dataframe\">\n",
              "  <thead>\n",
              "    <tr style=\"text-align: right;\">\n",
              "      <th>satisfaction</th>\n",
              "      <th>neutral or dissatisfied</th>\n",
              "      <th>satisfied</th>\n",
              "    </tr>\n",
              "    <tr>\n",
              "      <th>Gender</th>\n",
              "      <th></th>\n",
              "      <th></th>\n",
              "    </tr>\n",
              "  </thead>\n",
              "  <tbody>\n",
              "    <tr>\n",
              "      <th>Female</th>\n",
              "      <td>24059</td>\n",
              "      <td>18058</td>\n",
              "    </tr>\n",
              "    <tr>\n",
              "      <th>Male</th>\n",
              "      <td>22945</td>\n",
              "      <td>18061</td>\n",
              "    </tr>\n",
              "  </tbody>\n",
              "</table>\n",
              "</div>\n",
              "      <button class=\"colab-df-convert\" onclick=\"convertToInteractive('df-bfcccb84-266f-4fe7-b0b8-b0d144896913')\"\n",
              "              title=\"Convert this dataframe to an interactive table.\"\n",
              "              style=\"display:none;\">\n",
              "        \n",
              "  <svg xmlns=\"http://www.w3.org/2000/svg\" height=\"24px\"viewBox=\"0 0 24 24\"\n",
              "       width=\"24px\">\n",
              "    <path d=\"M0 0h24v24H0V0z\" fill=\"none\"/>\n",
              "    <path d=\"M18.56 5.44l.94 2.06.94-2.06 2.06-.94-2.06-.94-.94-2.06-.94 2.06-2.06.94zm-11 1L8.5 8.5l.94-2.06 2.06-.94-2.06-.94L8.5 2.5l-.94 2.06-2.06.94zm10 10l.94 2.06.94-2.06 2.06-.94-2.06-.94-.94-2.06-.94 2.06-2.06.94z\"/><path d=\"M17.41 7.96l-1.37-1.37c-.4-.4-.92-.59-1.43-.59-.52 0-1.04.2-1.43.59L10.3 9.45l-7.72 7.72c-.78.78-.78 2.05 0 2.83L4 21.41c.39.39.9.59 1.41.59.51 0 1.02-.2 1.41-.59l7.78-7.78 2.81-2.81c.8-.78.8-2.07 0-2.86zM5.41 20L4 18.59l7.72-7.72 1.47 1.35L5.41 20z\"/>\n",
              "  </svg>\n",
              "      </button>\n",
              "      \n",
              "  <style>\n",
              "    .colab-df-container {\n",
              "      display:flex;\n",
              "      flex-wrap:wrap;\n",
              "      gap: 12px;\n",
              "    }\n",
              "\n",
              "    .colab-df-convert {\n",
              "      background-color: #E8F0FE;\n",
              "      border: none;\n",
              "      border-radius: 50%;\n",
              "      cursor: pointer;\n",
              "      display: none;\n",
              "      fill: #1967D2;\n",
              "      height: 32px;\n",
              "      padding: 0 0 0 0;\n",
              "      width: 32px;\n",
              "    }\n",
              "\n",
              "    .colab-df-convert:hover {\n",
              "      background-color: #E2EBFA;\n",
              "      box-shadow: 0px 1px 2px rgba(60, 64, 67, 0.3), 0px 1px 3px 1px rgba(60, 64, 67, 0.15);\n",
              "      fill: #174EA6;\n",
              "    }\n",
              "\n",
              "    [theme=dark] .colab-df-convert {\n",
              "      background-color: #3B4455;\n",
              "      fill: #D2E3FC;\n",
              "    }\n",
              "\n",
              "    [theme=dark] .colab-df-convert:hover {\n",
              "      background-color: #434B5C;\n",
              "      box-shadow: 0px 1px 3px 1px rgba(0, 0, 0, 0.15);\n",
              "      filter: drop-shadow(0px 1px 2px rgba(0, 0, 0, 0.3));\n",
              "      fill: #FFFFFF;\n",
              "    }\n",
              "  </style>\n",
              "\n",
              "      <script>\n",
              "        const buttonEl =\n",
              "          document.querySelector('#df-bfcccb84-266f-4fe7-b0b8-b0d144896913 button.colab-df-convert');\n",
              "        buttonEl.style.display =\n",
              "          google.colab.kernel.accessAllowed ? 'block' : 'none';\n",
              "\n",
              "        async function convertToInteractive(key) {\n",
              "          const element = document.querySelector('#df-bfcccb84-266f-4fe7-b0b8-b0d144896913');\n",
              "          const dataTable =\n",
              "            await google.colab.kernel.invokeFunction('convertToInteractive',\n",
              "                                                     [key], {});\n",
              "          if (!dataTable) return;\n",
              "\n",
              "          const docLinkHtml = 'Like what you see? Visit the ' +\n",
              "            '<a target=\"_blank\" href=https://colab.research.google.com/notebooks/data_table.ipynb>data table notebook</a>'\n",
              "            + ' to learn more about interactive tables.';\n",
              "          element.innerHTML = '';\n",
              "          dataTable['output_type'] = 'display_data';\n",
              "          await google.colab.output.renderOutput(dataTable, element);\n",
              "          const docLink = document.createElement('div');\n",
              "          docLink.innerHTML = docLinkHtml;\n",
              "          element.appendChild(docLink);\n",
              "        }\n",
              "      </script>\n",
              "    </div>\n",
              "  </div>\n",
              "  "
            ]
          },
          "metadata": {},
          "execution_count": 157
        }
      ]
    },
    {
      "cell_type": "code",
      "source": [
        "chi_square(train['Departure/Arrival time convenient'], train['satisfaction'])"
      ],
      "metadata": {
        "id": "T9NNsHqxZyN-",
        "colab": {
          "base_uri": "https://localhost:8080/",
          "height": 287
        },
        "outputId": "a91938f9-ad9a-4edd-ba5f-0df1ef5d1837"
      },
      "execution_count": 158,
      "outputs": [
        {
          "output_type": "stream",
          "name": "stdout",
          "text": [
            "Accept the Alternate Hypothesis (Dependent) 0.0\n"
          ]
        },
        {
          "output_type": "execute_result",
          "data": {
            "text/plain": [
              "satisfaction                       neutral or dissatisfied  satisfied\n",
              "Departure/Arrival time convenient                                    \n",
              "0                                                     2203       2034\n",
              "1                                                     6365       6093\n",
              "2                                                     7581       6070\n",
              "3                                                     8038       6318\n",
              "4                                                    12480       7908\n",
              "5                                                    10337       7696"
            ],
            "text/html": [
              "\n",
              "  <div id=\"df-c3c3b075-6032-46fe-8955-a83e5bc8bde1\">\n",
              "    <div class=\"colab-df-container\">\n",
              "      <div>\n",
              "<style scoped>\n",
              "    .dataframe tbody tr th:only-of-type {\n",
              "        vertical-align: middle;\n",
              "    }\n",
              "\n",
              "    .dataframe tbody tr th {\n",
              "        vertical-align: top;\n",
              "    }\n",
              "\n",
              "    .dataframe thead th {\n",
              "        text-align: right;\n",
              "    }\n",
              "</style>\n",
              "<table border=\"1\" class=\"dataframe\">\n",
              "  <thead>\n",
              "    <tr style=\"text-align: right;\">\n",
              "      <th>satisfaction</th>\n",
              "      <th>neutral or dissatisfied</th>\n",
              "      <th>satisfied</th>\n",
              "    </tr>\n",
              "    <tr>\n",
              "      <th>Departure/Arrival time convenient</th>\n",
              "      <th></th>\n",
              "      <th></th>\n",
              "    </tr>\n",
              "  </thead>\n",
              "  <tbody>\n",
              "    <tr>\n",
              "      <th>0</th>\n",
              "      <td>2203</td>\n",
              "      <td>2034</td>\n",
              "    </tr>\n",
              "    <tr>\n",
              "      <th>1</th>\n",
              "      <td>6365</td>\n",
              "      <td>6093</td>\n",
              "    </tr>\n",
              "    <tr>\n",
              "      <th>2</th>\n",
              "      <td>7581</td>\n",
              "      <td>6070</td>\n",
              "    </tr>\n",
              "    <tr>\n",
              "      <th>3</th>\n",
              "      <td>8038</td>\n",
              "      <td>6318</td>\n",
              "    </tr>\n",
              "    <tr>\n",
              "      <th>4</th>\n",
              "      <td>12480</td>\n",
              "      <td>7908</td>\n",
              "    </tr>\n",
              "    <tr>\n",
              "      <th>5</th>\n",
              "      <td>10337</td>\n",
              "      <td>7696</td>\n",
              "    </tr>\n",
              "  </tbody>\n",
              "</table>\n",
              "</div>\n",
              "      <button class=\"colab-df-convert\" onclick=\"convertToInteractive('df-c3c3b075-6032-46fe-8955-a83e5bc8bde1')\"\n",
              "              title=\"Convert this dataframe to an interactive table.\"\n",
              "              style=\"display:none;\">\n",
              "        \n",
              "  <svg xmlns=\"http://www.w3.org/2000/svg\" height=\"24px\"viewBox=\"0 0 24 24\"\n",
              "       width=\"24px\">\n",
              "    <path d=\"M0 0h24v24H0V0z\" fill=\"none\"/>\n",
              "    <path d=\"M18.56 5.44l.94 2.06.94-2.06 2.06-.94-2.06-.94-.94-2.06-.94 2.06-2.06.94zm-11 1L8.5 8.5l.94-2.06 2.06-.94-2.06-.94L8.5 2.5l-.94 2.06-2.06.94zm10 10l.94 2.06.94-2.06 2.06-.94-2.06-.94-.94-2.06-.94 2.06-2.06.94z\"/><path d=\"M17.41 7.96l-1.37-1.37c-.4-.4-.92-.59-1.43-.59-.52 0-1.04.2-1.43.59L10.3 9.45l-7.72 7.72c-.78.78-.78 2.05 0 2.83L4 21.41c.39.39.9.59 1.41.59.51 0 1.02-.2 1.41-.59l7.78-7.78 2.81-2.81c.8-.78.8-2.07 0-2.86zM5.41 20L4 18.59l7.72-7.72 1.47 1.35L5.41 20z\"/>\n",
              "  </svg>\n",
              "      </button>\n",
              "      \n",
              "  <style>\n",
              "    .colab-df-container {\n",
              "      display:flex;\n",
              "      flex-wrap:wrap;\n",
              "      gap: 12px;\n",
              "    }\n",
              "\n",
              "    .colab-df-convert {\n",
              "      background-color: #E8F0FE;\n",
              "      border: none;\n",
              "      border-radius: 50%;\n",
              "      cursor: pointer;\n",
              "      display: none;\n",
              "      fill: #1967D2;\n",
              "      height: 32px;\n",
              "      padding: 0 0 0 0;\n",
              "      width: 32px;\n",
              "    }\n",
              "\n",
              "    .colab-df-convert:hover {\n",
              "      background-color: #E2EBFA;\n",
              "      box-shadow: 0px 1px 2px rgba(60, 64, 67, 0.3), 0px 1px 3px 1px rgba(60, 64, 67, 0.15);\n",
              "      fill: #174EA6;\n",
              "    }\n",
              "\n",
              "    [theme=dark] .colab-df-convert {\n",
              "      background-color: #3B4455;\n",
              "      fill: #D2E3FC;\n",
              "    }\n",
              "\n",
              "    [theme=dark] .colab-df-convert:hover {\n",
              "      background-color: #434B5C;\n",
              "      box-shadow: 0px 1px 3px 1px rgba(0, 0, 0, 0.15);\n",
              "      filter: drop-shadow(0px 1px 2px rgba(0, 0, 0, 0.3));\n",
              "      fill: #FFFFFF;\n",
              "    }\n",
              "  </style>\n",
              "\n",
              "      <script>\n",
              "        const buttonEl =\n",
              "          document.querySelector('#df-c3c3b075-6032-46fe-8955-a83e5bc8bde1 button.colab-df-convert');\n",
              "        buttonEl.style.display =\n",
              "          google.colab.kernel.accessAllowed ? 'block' : 'none';\n",
              "\n",
              "        async function convertToInteractive(key) {\n",
              "          const element = document.querySelector('#df-c3c3b075-6032-46fe-8955-a83e5bc8bde1');\n",
              "          const dataTable =\n",
              "            await google.colab.kernel.invokeFunction('convertToInteractive',\n",
              "                                                     [key], {});\n",
              "          if (!dataTable) return;\n",
              "\n",
              "          const docLinkHtml = 'Like what you see? Visit the ' +\n",
              "            '<a target=\"_blank\" href=https://colab.research.google.com/notebooks/data_table.ipynb>data table notebook</a>'\n",
              "            + ' to learn more about interactive tables.';\n",
              "          element.innerHTML = '';\n",
              "          dataTable['output_type'] = 'display_data';\n",
              "          await google.colab.output.renderOutput(dataTable, element);\n",
              "          const docLink = document.createElement('div');\n",
              "          docLink.innerHTML = docLinkHtml;\n",
              "          element.appendChild(docLink);\n",
              "        }\n",
              "      </script>\n",
              "    </div>\n",
              "  </div>\n",
              "  "
            ]
          },
          "metadata": {},
          "execution_count": 158
        }
      ]
    },
    {
      "cell_type": "code",
      "source": [
        "chi_square(train['Type of Travel'], train['satisfaction'])"
      ],
      "metadata": {
        "id": "x0lbTRRBZ4TT",
        "colab": {
          "base_uri": "https://localhost:8080/",
          "height": 162
        },
        "outputId": "7bc65386-1068-4858-bd7a-c6dbda1dd4c3"
      },
      "execution_count": 159,
      "outputs": [
        {
          "output_type": "stream",
          "name": "stdout",
          "text": [
            "Accept the Alternate Hypothesis (Dependent) 0.0\n"
          ]
        },
        {
          "output_type": "execute_result",
          "data": {
            "text/plain": [
              "satisfaction     neutral or dissatisfied  satisfied\n",
              "Type of Travel                                     \n",
              "Business travel                    23839      33471\n",
              "Personal Travel                    23165       2648"
            ],
            "text/html": [
              "\n",
              "  <div id=\"df-132f6a90-50da-423c-82ea-dae42a778679\">\n",
              "    <div class=\"colab-df-container\">\n",
              "      <div>\n",
              "<style scoped>\n",
              "    .dataframe tbody tr th:only-of-type {\n",
              "        vertical-align: middle;\n",
              "    }\n",
              "\n",
              "    .dataframe tbody tr th {\n",
              "        vertical-align: top;\n",
              "    }\n",
              "\n",
              "    .dataframe thead th {\n",
              "        text-align: right;\n",
              "    }\n",
              "</style>\n",
              "<table border=\"1\" class=\"dataframe\">\n",
              "  <thead>\n",
              "    <tr style=\"text-align: right;\">\n",
              "      <th>satisfaction</th>\n",
              "      <th>neutral or dissatisfied</th>\n",
              "      <th>satisfied</th>\n",
              "    </tr>\n",
              "    <tr>\n",
              "      <th>Type of Travel</th>\n",
              "      <th></th>\n",
              "      <th></th>\n",
              "    </tr>\n",
              "  </thead>\n",
              "  <tbody>\n",
              "    <tr>\n",
              "      <th>Business travel</th>\n",
              "      <td>23839</td>\n",
              "      <td>33471</td>\n",
              "    </tr>\n",
              "    <tr>\n",
              "      <th>Personal Travel</th>\n",
              "      <td>23165</td>\n",
              "      <td>2648</td>\n",
              "    </tr>\n",
              "  </tbody>\n",
              "</table>\n",
              "</div>\n",
              "      <button class=\"colab-df-convert\" onclick=\"convertToInteractive('df-132f6a90-50da-423c-82ea-dae42a778679')\"\n",
              "              title=\"Convert this dataframe to an interactive table.\"\n",
              "              style=\"display:none;\">\n",
              "        \n",
              "  <svg xmlns=\"http://www.w3.org/2000/svg\" height=\"24px\"viewBox=\"0 0 24 24\"\n",
              "       width=\"24px\">\n",
              "    <path d=\"M0 0h24v24H0V0z\" fill=\"none\"/>\n",
              "    <path d=\"M18.56 5.44l.94 2.06.94-2.06 2.06-.94-2.06-.94-.94-2.06-.94 2.06-2.06.94zm-11 1L8.5 8.5l.94-2.06 2.06-.94-2.06-.94L8.5 2.5l-.94 2.06-2.06.94zm10 10l.94 2.06.94-2.06 2.06-.94-2.06-.94-.94-2.06-.94 2.06-2.06.94z\"/><path d=\"M17.41 7.96l-1.37-1.37c-.4-.4-.92-.59-1.43-.59-.52 0-1.04.2-1.43.59L10.3 9.45l-7.72 7.72c-.78.78-.78 2.05 0 2.83L4 21.41c.39.39.9.59 1.41.59.51 0 1.02-.2 1.41-.59l7.78-7.78 2.81-2.81c.8-.78.8-2.07 0-2.86zM5.41 20L4 18.59l7.72-7.72 1.47 1.35L5.41 20z\"/>\n",
              "  </svg>\n",
              "      </button>\n",
              "      \n",
              "  <style>\n",
              "    .colab-df-container {\n",
              "      display:flex;\n",
              "      flex-wrap:wrap;\n",
              "      gap: 12px;\n",
              "    }\n",
              "\n",
              "    .colab-df-convert {\n",
              "      background-color: #E8F0FE;\n",
              "      border: none;\n",
              "      border-radius: 50%;\n",
              "      cursor: pointer;\n",
              "      display: none;\n",
              "      fill: #1967D2;\n",
              "      height: 32px;\n",
              "      padding: 0 0 0 0;\n",
              "      width: 32px;\n",
              "    }\n",
              "\n",
              "    .colab-df-convert:hover {\n",
              "      background-color: #E2EBFA;\n",
              "      box-shadow: 0px 1px 2px rgba(60, 64, 67, 0.3), 0px 1px 3px 1px rgba(60, 64, 67, 0.15);\n",
              "      fill: #174EA6;\n",
              "    }\n",
              "\n",
              "    [theme=dark] .colab-df-convert {\n",
              "      background-color: #3B4455;\n",
              "      fill: #D2E3FC;\n",
              "    }\n",
              "\n",
              "    [theme=dark] .colab-df-convert:hover {\n",
              "      background-color: #434B5C;\n",
              "      box-shadow: 0px 1px 3px 1px rgba(0, 0, 0, 0.15);\n",
              "      filter: drop-shadow(0px 1px 2px rgba(0, 0, 0, 0.3));\n",
              "      fill: #FFFFFF;\n",
              "    }\n",
              "  </style>\n",
              "\n",
              "      <script>\n",
              "        const buttonEl =\n",
              "          document.querySelector('#df-132f6a90-50da-423c-82ea-dae42a778679 button.colab-df-convert');\n",
              "        buttonEl.style.display =\n",
              "          google.colab.kernel.accessAllowed ? 'block' : 'none';\n",
              "\n",
              "        async function convertToInteractive(key) {\n",
              "          const element = document.querySelector('#df-132f6a90-50da-423c-82ea-dae42a778679');\n",
              "          const dataTable =\n",
              "            await google.colab.kernel.invokeFunction('convertToInteractive',\n",
              "                                                     [key], {});\n",
              "          if (!dataTable) return;\n",
              "\n",
              "          const docLinkHtml = 'Like what you see? Visit the ' +\n",
              "            '<a target=\"_blank\" href=https://colab.research.google.com/notebooks/data_table.ipynb>data table notebook</a>'\n",
              "            + ' to learn more about interactive tables.';\n",
              "          element.innerHTML = '';\n",
              "          dataTable['output_type'] = 'display_data';\n",
              "          await google.colab.output.renderOutput(dataTable, element);\n",
              "          const docLink = document.createElement('div');\n",
              "          docLink.innerHTML = docLinkHtml;\n",
              "          element.appendChild(docLink);\n",
              "        }\n",
              "      </script>\n",
              "    </div>\n",
              "  </div>\n",
              "  "
            ]
          },
          "metadata": {},
          "execution_count": 159
        }
      ]
    },
    {
      "cell_type": "code",
      "source": [
        "chi_square(train['Departure Delay in Hrs'], train['satisfaction'])"
      ],
      "metadata": {
        "id": "8jgFefKWaAEg",
        "colab": {
          "base_uri": "https://localhost:8080/",
          "height": 473
        },
        "outputId": "531d7d42-5fc3-452e-d3d2-d071fda5d5fd"
      },
      "execution_count": 160,
      "outputs": [
        {
          "output_type": "stream",
          "name": "stdout",
          "text": [
            "Accept the Alternate Hypothesis (Dependent) 0.0\n"
          ]
        },
        {
          "output_type": "execute_result",
          "data": {
            "text/plain": [
              "satisfaction            neutral or dissatisfied  satisfied\n",
              "Departure Delay in Hrs                                    \n",
              "0.00                                      25425      21552\n",
              "0.02                                       1280       1060\n",
              "0.03                                        974        856\n",
              "0.05                                        912        689\n",
              "0.07                                        863        654\n",
              "...                                         ...        ...\n",
              "15.50                                         1          0\n",
              "15.55                                         0          1\n",
              "16.95                                         0          1\n",
              "21.75                                         0          1\n",
              "26.53                                         1          0\n",
              "\n",
              "[419 rows x 2 columns]"
            ],
            "text/html": [
              "\n",
              "  <div id=\"df-550fbf2b-19e9-404d-a00a-0b7f3efc8a85\">\n",
              "    <div class=\"colab-df-container\">\n",
              "      <div>\n",
              "<style scoped>\n",
              "    .dataframe tbody tr th:only-of-type {\n",
              "        vertical-align: middle;\n",
              "    }\n",
              "\n",
              "    .dataframe tbody tr th {\n",
              "        vertical-align: top;\n",
              "    }\n",
              "\n",
              "    .dataframe thead th {\n",
              "        text-align: right;\n",
              "    }\n",
              "</style>\n",
              "<table border=\"1\" class=\"dataframe\">\n",
              "  <thead>\n",
              "    <tr style=\"text-align: right;\">\n",
              "      <th>satisfaction</th>\n",
              "      <th>neutral or dissatisfied</th>\n",
              "      <th>satisfied</th>\n",
              "    </tr>\n",
              "    <tr>\n",
              "      <th>Departure Delay in Hrs</th>\n",
              "      <th></th>\n",
              "      <th></th>\n",
              "    </tr>\n",
              "  </thead>\n",
              "  <tbody>\n",
              "    <tr>\n",
              "      <th>0.00</th>\n",
              "      <td>25425</td>\n",
              "      <td>21552</td>\n",
              "    </tr>\n",
              "    <tr>\n",
              "      <th>0.02</th>\n",
              "      <td>1280</td>\n",
              "      <td>1060</td>\n",
              "    </tr>\n",
              "    <tr>\n",
              "      <th>0.03</th>\n",
              "      <td>974</td>\n",
              "      <td>856</td>\n",
              "    </tr>\n",
              "    <tr>\n",
              "      <th>0.05</th>\n",
              "      <td>912</td>\n",
              "      <td>689</td>\n",
              "    </tr>\n",
              "    <tr>\n",
              "      <th>0.07</th>\n",
              "      <td>863</td>\n",
              "      <td>654</td>\n",
              "    </tr>\n",
              "    <tr>\n",
              "      <th>...</th>\n",
              "      <td>...</td>\n",
              "      <td>...</td>\n",
              "    </tr>\n",
              "    <tr>\n",
              "      <th>15.50</th>\n",
              "      <td>1</td>\n",
              "      <td>0</td>\n",
              "    </tr>\n",
              "    <tr>\n",
              "      <th>15.55</th>\n",
              "      <td>0</td>\n",
              "      <td>1</td>\n",
              "    </tr>\n",
              "    <tr>\n",
              "      <th>16.95</th>\n",
              "      <td>0</td>\n",
              "      <td>1</td>\n",
              "    </tr>\n",
              "    <tr>\n",
              "      <th>21.75</th>\n",
              "      <td>0</td>\n",
              "      <td>1</td>\n",
              "    </tr>\n",
              "    <tr>\n",
              "      <th>26.53</th>\n",
              "      <td>1</td>\n",
              "      <td>0</td>\n",
              "    </tr>\n",
              "  </tbody>\n",
              "</table>\n",
              "<p>419 rows × 2 columns</p>\n",
              "</div>\n",
              "      <button class=\"colab-df-convert\" onclick=\"convertToInteractive('df-550fbf2b-19e9-404d-a00a-0b7f3efc8a85')\"\n",
              "              title=\"Convert this dataframe to an interactive table.\"\n",
              "              style=\"display:none;\">\n",
              "        \n",
              "  <svg xmlns=\"http://www.w3.org/2000/svg\" height=\"24px\"viewBox=\"0 0 24 24\"\n",
              "       width=\"24px\">\n",
              "    <path d=\"M0 0h24v24H0V0z\" fill=\"none\"/>\n",
              "    <path d=\"M18.56 5.44l.94 2.06.94-2.06 2.06-.94-2.06-.94-.94-2.06-.94 2.06-2.06.94zm-11 1L8.5 8.5l.94-2.06 2.06-.94-2.06-.94L8.5 2.5l-.94 2.06-2.06.94zm10 10l.94 2.06.94-2.06 2.06-.94-2.06-.94-.94-2.06-.94 2.06-2.06.94z\"/><path d=\"M17.41 7.96l-1.37-1.37c-.4-.4-.92-.59-1.43-.59-.52 0-1.04.2-1.43.59L10.3 9.45l-7.72 7.72c-.78.78-.78 2.05 0 2.83L4 21.41c.39.39.9.59 1.41.59.51 0 1.02-.2 1.41-.59l7.78-7.78 2.81-2.81c.8-.78.8-2.07 0-2.86zM5.41 20L4 18.59l7.72-7.72 1.47 1.35L5.41 20z\"/>\n",
              "  </svg>\n",
              "      </button>\n",
              "      \n",
              "  <style>\n",
              "    .colab-df-container {\n",
              "      display:flex;\n",
              "      flex-wrap:wrap;\n",
              "      gap: 12px;\n",
              "    }\n",
              "\n",
              "    .colab-df-convert {\n",
              "      background-color: #E8F0FE;\n",
              "      border: none;\n",
              "      border-radius: 50%;\n",
              "      cursor: pointer;\n",
              "      display: none;\n",
              "      fill: #1967D2;\n",
              "      height: 32px;\n",
              "      padding: 0 0 0 0;\n",
              "      width: 32px;\n",
              "    }\n",
              "\n",
              "    .colab-df-convert:hover {\n",
              "      background-color: #E2EBFA;\n",
              "      box-shadow: 0px 1px 2px rgba(60, 64, 67, 0.3), 0px 1px 3px 1px rgba(60, 64, 67, 0.15);\n",
              "      fill: #174EA6;\n",
              "    }\n",
              "\n",
              "    [theme=dark] .colab-df-convert {\n",
              "      background-color: #3B4455;\n",
              "      fill: #D2E3FC;\n",
              "    }\n",
              "\n",
              "    [theme=dark] .colab-df-convert:hover {\n",
              "      background-color: #434B5C;\n",
              "      box-shadow: 0px 1px 3px 1px rgba(0, 0, 0, 0.15);\n",
              "      filter: drop-shadow(0px 1px 2px rgba(0, 0, 0, 0.3));\n",
              "      fill: #FFFFFF;\n",
              "    }\n",
              "  </style>\n",
              "\n",
              "      <script>\n",
              "        const buttonEl =\n",
              "          document.querySelector('#df-550fbf2b-19e9-404d-a00a-0b7f3efc8a85 button.colab-df-convert');\n",
              "        buttonEl.style.display =\n",
              "          google.colab.kernel.accessAllowed ? 'block' : 'none';\n",
              "\n",
              "        async function convertToInteractive(key) {\n",
              "          const element = document.querySelector('#df-550fbf2b-19e9-404d-a00a-0b7f3efc8a85');\n",
              "          const dataTable =\n",
              "            await google.colab.kernel.invokeFunction('convertToInteractive',\n",
              "                                                     [key], {});\n",
              "          if (!dataTable) return;\n",
              "\n",
              "          const docLinkHtml = 'Like what you see? Visit the ' +\n",
              "            '<a target=\"_blank\" href=https://colab.research.google.com/notebooks/data_table.ipynb>data table notebook</a>'\n",
              "            + ' to learn more about interactive tables.';\n",
              "          element.innerHTML = '';\n",
              "          dataTable['output_type'] = 'display_data';\n",
              "          await google.colab.output.renderOutput(dataTable, element);\n",
              "          const docLink = document.createElement('div');\n",
              "          docLink.innerHTML = docLinkHtml;\n",
              "          element.appendChild(docLink);\n",
              "        }\n",
              "      </script>\n",
              "    </div>\n",
              "  </div>\n",
              "  "
            ]
          },
          "metadata": {},
          "execution_count": 160
        }
      ]
    },
    {
      "cell_type": "code",
      "source": [
        "chi_square(train['Cleanliness'], train['satisfaction'])"
      ],
      "metadata": {
        "id": "AOY6lP0naF9X",
        "colab": {
          "base_uri": "https://localhost:8080/",
          "height": 287
        },
        "outputId": "b7d301a5-fde8-4bb6-e9ff-6a960e19ecb9"
      },
      "execution_count": 161,
      "outputs": [
        {
          "output_type": "stream",
          "name": "stdout",
          "text": [
            "Accept the Alternate Hypothesis (Dependent) 0.0\n"
          ]
        },
        {
          "output_type": "execute_result",
          "data": {
            "text/plain": [
              "satisfaction  neutral or dissatisfied  satisfied\n",
              "Cleanliness                                     \n",
              "0                                   9          0\n",
              "1                                8517       2089\n",
              "2                               10107       2821\n",
              "3                               11136       8389\n",
              "4                               10057      11668\n",
              "5                                7178      11152"
            ],
            "text/html": [
              "\n",
              "  <div id=\"df-2a39e029-4eae-4228-8a1e-c80c7fcca2d0\">\n",
              "    <div class=\"colab-df-container\">\n",
              "      <div>\n",
              "<style scoped>\n",
              "    .dataframe tbody tr th:only-of-type {\n",
              "        vertical-align: middle;\n",
              "    }\n",
              "\n",
              "    .dataframe tbody tr th {\n",
              "        vertical-align: top;\n",
              "    }\n",
              "\n",
              "    .dataframe thead th {\n",
              "        text-align: right;\n",
              "    }\n",
              "</style>\n",
              "<table border=\"1\" class=\"dataframe\">\n",
              "  <thead>\n",
              "    <tr style=\"text-align: right;\">\n",
              "      <th>satisfaction</th>\n",
              "      <th>neutral or dissatisfied</th>\n",
              "      <th>satisfied</th>\n",
              "    </tr>\n",
              "    <tr>\n",
              "      <th>Cleanliness</th>\n",
              "      <th></th>\n",
              "      <th></th>\n",
              "    </tr>\n",
              "  </thead>\n",
              "  <tbody>\n",
              "    <tr>\n",
              "      <th>0</th>\n",
              "      <td>9</td>\n",
              "      <td>0</td>\n",
              "    </tr>\n",
              "    <tr>\n",
              "      <th>1</th>\n",
              "      <td>8517</td>\n",
              "      <td>2089</td>\n",
              "    </tr>\n",
              "    <tr>\n",
              "      <th>2</th>\n",
              "      <td>10107</td>\n",
              "      <td>2821</td>\n",
              "    </tr>\n",
              "    <tr>\n",
              "      <th>3</th>\n",
              "      <td>11136</td>\n",
              "      <td>8389</td>\n",
              "    </tr>\n",
              "    <tr>\n",
              "      <th>4</th>\n",
              "      <td>10057</td>\n",
              "      <td>11668</td>\n",
              "    </tr>\n",
              "    <tr>\n",
              "      <th>5</th>\n",
              "      <td>7178</td>\n",
              "      <td>11152</td>\n",
              "    </tr>\n",
              "  </tbody>\n",
              "</table>\n",
              "</div>\n",
              "      <button class=\"colab-df-convert\" onclick=\"convertToInteractive('df-2a39e029-4eae-4228-8a1e-c80c7fcca2d0')\"\n",
              "              title=\"Convert this dataframe to an interactive table.\"\n",
              "              style=\"display:none;\">\n",
              "        \n",
              "  <svg xmlns=\"http://www.w3.org/2000/svg\" height=\"24px\"viewBox=\"0 0 24 24\"\n",
              "       width=\"24px\">\n",
              "    <path d=\"M0 0h24v24H0V0z\" fill=\"none\"/>\n",
              "    <path d=\"M18.56 5.44l.94 2.06.94-2.06 2.06-.94-2.06-.94-.94-2.06-.94 2.06-2.06.94zm-11 1L8.5 8.5l.94-2.06 2.06-.94-2.06-.94L8.5 2.5l-.94 2.06-2.06.94zm10 10l.94 2.06.94-2.06 2.06-.94-2.06-.94-.94-2.06-.94 2.06-2.06.94z\"/><path d=\"M17.41 7.96l-1.37-1.37c-.4-.4-.92-.59-1.43-.59-.52 0-1.04.2-1.43.59L10.3 9.45l-7.72 7.72c-.78.78-.78 2.05 0 2.83L4 21.41c.39.39.9.59 1.41.59.51 0 1.02-.2 1.41-.59l7.78-7.78 2.81-2.81c.8-.78.8-2.07 0-2.86zM5.41 20L4 18.59l7.72-7.72 1.47 1.35L5.41 20z\"/>\n",
              "  </svg>\n",
              "      </button>\n",
              "      \n",
              "  <style>\n",
              "    .colab-df-container {\n",
              "      display:flex;\n",
              "      flex-wrap:wrap;\n",
              "      gap: 12px;\n",
              "    }\n",
              "\n",
              "    .colab-df-convert {\n",
              "      background-color: #E8F0FE;\n",
              "      border: none;\n",
              "      border-radius: 50%;\n",
              "      cursor: pointer;\n",
              "      display: none;\n",
              "      fill: #1967D2;\n",
              "      height: 32px;\n",
              "      padding: 0 0 0 0;\n",
              "      width: 32px;\n",
              "    }\n",
              "\n",
              "    .colab-df-convert:hover {\n",
              "      background-color: #E2EBFA;\n",
              "      box-shadow: 0px 1px 2px rgba(60, 64, 67, 0.3), 0px 1px 3px 1px rgba(60, 64, 67, 0.15);\n",
              "      fill: #174EA6;\n",
              "    }\n",
              "\n",
              "    [theme=dark] .colab-df-convert {\n",
              "      background-color: #3B4455;\n",
              "      fill: #D2E3FC;\n",
              "    }\n",
              "\n",
              "    [theme=dark] .colab-df-convert:hover {\n",
              "      background-color: #434B5C;\n",
              "      box-shadow: 0px 1px 3px 1px rgba(0, 0, 0, 0.15);\n",
              "      filter: drop-shadow(0px 1px 2px rgba(0, 0, 0, 0.3));\n",
              "      fill: #FFFFFF;\n",
              "    }\n",
              "  </style>\n",
              "\n",
              "      <script>\n",
              "        const buttonEl =\n",
              "          document.querySelector('#df-2a39e029-4eae-4228-8a1e-c80c7fcca2d0 button.colab-df-convert');\n",
              "        buttonEl.style.display =\n",
              "          google.colab.kernel.accessAllowed ? 'block' : 'none';\n",
              "\n",
              "        async function convertToInteractive(key) {\n",
              "          const element = document.querySelector('#df-2a39e029-4eae-4228-8a1e-c80c7fcca2d0');\n",
              "          const dataTable =\n",
              "            await google.colab.kernel.invokeFunction('convertToInteractive',\n",
              "                                                     [key], {});\n",
              "          if (!dataTable) return;\n",
              "\n",
              "          const docLinkHtml = 'Like what you see? Visit the ' +\n",
              "            '<a target=\"_blank\" href=https://colab.research.google.com/notebooks/data_table.ipynb>data table notebook</a>'\n",
              "            + ' to learn more about interactive tables.';\n",
              "          element.innerHTML = '';\n",
              "          dataTable['output_type'] = 'display_data';\n",
              "          await google.colab.output.renderOutput(dataTable, element);\n",
              "          const docLink = document.createElement('div');\n",
              "          docLink.innerHTML = docLinkHtml;\n",
              "          element.appendChild(docLink);\n",
              "        }\n",
              "      </script>\n",
              "    </div>\n",
              "  </div>\n",
              "  "
            ]
          },
          "metadata": {},
          "execution_count": 161
        }
      ]
    },
    {
      "cell_type": "code",
      "source": [
        "chi_square(train['Food and drink'], train['satisfaction'])"
      ],
      "metadata": {
        "id": "xO50jfxhaM5q",
        "colab": {
          "base_uri": "https://localhost:8080/",
          "height": 287
        },
        "outputId": "0d1561a4-0745-48c7-9b07-bfee1277feef"
      },
      "execution_count": 162,
      "outputs": [
        {
          "output_type": "stream",
          "name": "stdout",
          "text": [
            "Accept the Alternate Hypothesis (Dependent) 0.0\n"
          ]
        },
        {
          "output_type": "execute_result",
          "data": {
            "text/plain": [
              "satisfaction    neutral or dissatisfied  satisfied\n",
              "Food and drink                                    \n",
              "0                                    47         41\n",
              "1                                  8165       2053\n",
              "2                                 10753       6888\n",
              "3                                 10719       7019\n",
              "4                                  9230      10241\n",
              "5                                  8090       9877"
            ],
            "text/html": [
              "\n",
              "  <div id=\"df-c41a95cb-b87a-4581-a199-fd22aeefeb8d\">\n",
              "    <div class=\"colab-df-container\">\n",
              "      <div>\n",
              "<style scoped>\n",
              "    .dataframe tbody tr th:only-of-type {\n",
              "        vertical-align: middle;\n",
              "    }\n",
              "\n",
              "    .dataframe tbody tr th {\n",
              "        vertical-align: top;\n",
              "    }\n",
              "\n",
              "    .dataframe thead th {\n",
              "        text-align: right;\n",
              "    }\n",
              "</style>\n",
              "<table border=\"1\" class=\"dataframe\">\n",
              "  <thead>\n",
              "    <tr style=\"text-align: right;\">\n",
              "      <th>satisfaction</th>\n",
              "      <th>neutral or dissatisfied</th>\n",
              "      <th>satisfied</th>\n",
              "    </tr>\n",
              "    <tr>\n",
              "      <th>Food and drink</th>\n",
              "      <th></th>\n",
              "      <th></th>\n",
              "    </tr>\n",
              "  </thead>\n",
              "  <tbody>\n",
              "    <tr>\n",
              "      <th>0</th>\n",
              "      <td>47</td>\n",
              "      <td>41</td>\n",
              "    </tr>\n",
              "    <tr>\n",
              "      <th>1</th>\n",
              "      <td>8165</td>\n",
              "      <td>2053</td>\n",
              "    </tr>\n",
              "    <tr>\n",
              "      <th>2</th>\n",
              "      <td>10753</td>\n",
              "      <td>6888</td>\n",
              "    </tr>\n",
              "    <tr>\n",
              "      <th>3</th>\n",
              "      <td>10719</td>\n",
              "      <td>7019</td>\n",
              "    </tr>\n",
              "    <tr>\n",
              "      <th>4</th>\n",
              "      <td>9230</td>\n",
              "      <td>10241</td>\n",
              "    </tr>\n",
              "    <tr>\n",
              "      <th>5</th>\n",
              "      <td>8090</td>\n",
              "      <td>9877</td>\n",
              "    </tr>\n",
              "  </tbody>\n",
              "</table>\n",
              "</div>\n",
              "      <button class=\"colab-df-convert\" onclick=\"convertToInteractive('df-c41a95cb-b87a-4581-a199-fd22aeefeb8d')\"\n",
              "              title=\"Convert this dataframe to an interactive table.\"\n",
              "              style=\"display:none;\">\n",
              "        \n",
              "  <svg xmlns=\"http://www.w3.org/2000/svg\" height=\"24px\"viewBox=\"0 0 24 24\"\n",
              "       width=\"24px\">\n",
              "    <path d=\"M0 0h24v24H0V0z\" fill=\"none\"/>\n",
              "    <path d=\"M18.56 5.44l.94 2.06.94-2.06 2.06-.94-2.06-.94-.94-2.06-.94 2.06-2.06.94zm-11 1L8.5 8.5l.94-2.06 2.06-.94-2.06-.94L8.5 2.5l-.94 2.06-2.06.94zm10 10l.94 2.06.94-2.06 2.06-.94-2.06-.94-.94-2.06-.94 2.06-2.06.94z\"/><path d=\"M17.41 7.96l-1.37-1.37c-.4-.4-.92-.59-1.43-.59-.52 0-1.04.2-1.43.59L10.3 9.45l-7.72 7.72c-.78.78-.78 2.05 0 2.83L4 21.41c.39.39.9.59 1.41.59.51 0 1.02-.2 1.41-.59l7.78-7.78 2.81-2.81c.8-.78.8-2.07 0-2.86zM5.41 20L4 18.59l7.72-7.72 1.47 1.35L5.41 20z\"/>\n",
              "  </svg>\n",
              "      </button>\n",
              "      \n",
              "  <style>\n",
              "    .colab-df-container {\n",
              "      display:flex;\n",
              "      flex-wrap:wrap;\n",
              "      gap: 12px;\n",
              "    }\n",
              "\n",
              "    .colab-df-convert {\n",
              "      background-color: #E8F0FE;\n",
              "      border: none;\n",
              "      border-radius: 50%;\n",
              "      cursor: pointer;\n",
              "      display: none;\n",
              "      fill: #1967D2;\n",
              "      height: 32px;\n",
              "      padding: 0 0 0 0;\n",
              "      width: 32px;\n",
              "    }\n",
              "\n",
              "    .colab-df-convert:hover {\n",
              "      background-color: #E2EBFA;\n",
              "      box-shadow: 0px 1px 2px rgba(60, 64, 67, 0.3), 0px 1px 3px 1px rgba(60, 64, 67, 0.15);\n",
              "      fill: #174EA6;\n",
              "    }\n",
              "\n",
              "    [theme=dark] .colab-df-convert {\n",
              "      background-color: #3B4455;\n",
              "      fill: #D2E3FC;\n",
              "    }\n",
              "\n",
              "    [theme=dark] .colab-df-convert:hover {\n",
              "      background-color: #434B5C;\n",
              "      box-shadow: 0px 1px 3px 1px rgba(0, 0, 0, 0.15);\n",
              "      filter: drop-shadow(0px 1px 2px rgba(0, 0, 0, 0.3));\n",
              "      fill: #FFFFFF;\n",
              "    }\n",
              "  </style>\n",
              "\n",
              "      <script>\n",
              "        const buttonEl =\n",
              "          document.querySelector('#df-c41a95cb-b87a-4581-a199-fd22aeefeb8d button.colab-df-convert');\n",
              "        buttonEl.style.display =\n",
              "          google.colab.kernel.accessAllowed ? 'block' : 'none';\n",
              "\n",
              "        async function convertToInteractive(key) {\n",
              "          const element = document.querySelector('#df-c41a95cb-b87a-4581-a199-fd22aeefeb8d');\n",
              "          const dataTable =\n",
              "            await google.colab.kernel.invokeFunction('convertToInteractive',\n",
              "                                                     [key], {});\n",
              "          if (!dataTable) return;\n",
              "\n",
              "          const docLinkHtml = 'Like what you see? Visit the ' +\n",
              "            '<a target=\"_blank\" href=https://colab.research.google.com/notebooks/data_table.ipynb>data table notebook</a>'\n",
              "            + ' to learn more about interactive tables.';\n",
              "          element.innerHTML = '';\n",
              "          dataTable['output_type'] = 'display_data';\n",
              "          await google.colab.output.renderOutput(dataTable, element);\n",
              "          const docLink = document.createElement('div');\n",
              "          docLink.innerHTML = docLinkHtml;\n",
              "          element.appendChild(docLink);\n",
              "        }\n",
              "      </script>\n",
              "    </div>\n",
              "  </div>\n",
              "  "
            ]
          },
          "metadata": {},
          "execution_count": 162
        }
      ]
    },
    {
      "cell_type": "markdown",
      "metadata": {
        "id": "IT9s6zNGBe-F"
      },
      "source": [
        "# *Exploratory Data Analysis (EDA)*"
      ]
    },
    {
      "cell_type": "markdown",
      "metadata": {
        "id": "_NbiTFd6Qyu1"
      },
      "source": [
        "**Question 1: What is the frequency of Customer Satisfaction?**"
      ]
    },
    {
      "cell_type": "code",
      "execution_count": 163,
      "metadata": {
        "id": "CmJbC_8tQyqn",
        "colab": {
          "base_uri": "https://localhost:8080/"
        },
        "outputId": "6bc2119f-d4e0-4ef8-db31-1d26263d30bb"
      },
      "outputs": [
        {
          "output_type": "execute_result",
          "data": {
            "text/plain": [
              "neutral or dissatisfied    56.547526\n",
              "satisfied                  43.452474\n",
              "Name: satisfaction, dtype: float64"
            ]
          },
          "metadata": {},
          "execution_count": 163
        }
      ],
      "source": [
        "train['satisfaction'].value_counts()/train['satisfaction'].shape[0] *100"
      ]
    },
    {
      "cell_type": "code",
      "execution_count": 164,
      "metadata": {
        "id": "MZOuui45QymT",
        "colab": {
          "base_uri": "https://localhost:8080/",
          "height": 463
        },
        "outputId": "973baaa5-afe5-4441-a7ad-1f3f5374e2a1"
      },
      "outputs": [
        {
          "output_type": "display_data",
          "data": {
            "text/plain": [
              "<Figure size 648x504 with 1 Axes>"
            ],
            "image/png": "[encoded data removed]"
          },
          "metadata": {
            "needs_background": "light"
          }
        }
      ],
      "source": [
        "fig = plt.figure(figsize = [9, 7])\n",
        "sns.countplot(x = 'satisfaction', data = train)\n",
        "# plt.xticks(rotation=0, size=12)\n",
        "plt.xlabel(xlabel = 'Customer Satisfaction', size = 14)\n",
        "plt.ylabel(ylabel = 'No.of passengers', size = 14)\n",
        "plt.title(label = 'Frequency Distribution', size = 14)\n",
        "plt.show()"
      ]
    },
    {
      "cell_type": "markdown",
      "metadata": {
        "id": "pqCg71wLdgVj"
      },
      "source": [
        "**Observation:**\n",
        "\n",
        "- We can observe that there are lesser number of people (**43.4 %**) who are satisfied travelling by the airline."
      ]
    },
    {
      "cell_type": "markdown",
      "source": [
        "**Question 2: What is the ratio of the gender category of passengers?**"
      ],
      "metadata": {
        "id": "ie660dKgd5WE"
      }
    },
    {
      "cell_type": "code",
      "execution_count": 165,
      "metadata": {
        "id": "QPJHKoE-Qydy",
        "colab": {
          "base_uri": "https://localhost:8080/",
          "height": 248
        },
        "outputId": "0537fd31-8ec5-437e-91de-a75a7622a0bf"
      },
      "outputs": [
        {
          "output_type": "display_data",
          "data": {
            "text/plain": [
              "<Figure size 432x288 with 1 Axes>"
            ],
            "image/png": "[encoded data removed]"
          },
          "metadata": {}
        }
      ],
      "source": [
        "train['Gender'].value_counts().plot.pie( autopct = \"%.2f%%\", colors = ['orange', 'pink'])\n",
        "plt.show()"
      ]
    },
    {
      "cell_type": "markdown",
      "source": [
        "**Observation:**\n",
        "\n",
        "- We can observe that there are more **Female** (**50.67 %**) passengers than **Males** (**49.33%**)."
      ],
      "metadata": {
        "id": "DNPTho3SeMyn"
      }
    },
    {
      "cell_type": "markdown",
      "source": [
        "**Question 3: What is the main reason for travel by most of the passengers ? What is their experience?**"
      ],
      "metadata": {
        "id": "0qsGfD33eMkj"
      }
    },
    {
      "cell_type": "code",
      "execution_count": 166,
      "metadata": {
        "id": "ZkNfYbnYQyZ2",
        "colab": {
          "base_uri": "https://localhost:8080/",
          "height": 282
        },
        "outputId": "46fcb246-3fac-46f1-9340-b8e22f0a050b"
      },
      "outputs": [
        {
          "output_type": "display_data",
          "data": {
            "text/plain": [
              "<Figure size 432x288 with 1 Axes>"
            ],
            "image/png": "[encoded data removed]"
          },
          "metadata": {
            "needs_background": "light"
          }
        }
      ],
      "source": [
        "sns.countplot(x = 'Type of Travel', data = train, hue = 'satisfaction')\n",
        "plt.show()"
      ]
    },
    {
      "cell_type": "markdown",
      "source": [
        "**Observation:**\n",
        "\n",
        "> Following are the observations:-\n",
        "\n",
        "- We can observe that most of the passengers travelling for **Personal** reasons gave a **neutral or dissatisfied** feedback.\n",
        "- While most of the passengers travelling for **Business** purposes prefer to use this airline."
      ],
      "metadata": {
        "id": "MadD52NRfwU8"
      }
    },
    {
      "cell_type": "markdown",
      "source": [
        "**Question 4: What is the ratio of Loyal to Disloyal passengers?**"
      ],
      "metadata": {
        "id": "JbScu4Dl6Fz6"
      }
    },
    {
      "cell_type": "code",
      "execution_count": 167,
      "metadata": {
        "id": "3Xm-lgedQyWN",
        "colab": {
          "base_uri": "https://localhost:8080/",
          "height": 248
        },
        "outputId": "561973a6-de16-4485-f66d-5b9f11232a04"
      },
      "outputs": [
        {
          "output_type": "display_data",
          "data": {
            "text/plain": [
              "<Figure size 432x288 with 1 Axes>"
            ],
            "image/png": "[encoded data removed]"
          },
          "metadata": {}
        }
      ],
      "source": [
        "train['Customer Type'].value_counts().plot.pie( autopct = \"%.2f%%\", colors = ['lightgreen', 'yellow'])\n",
        "plt.show()"
      ]
    },
    {
      "cell_type": "markdown",
      "source": [
        "**Observation:**\n",
        "\n",
        "> We observe that we have more Loyal Customers (**81.7 %**) as compared to disloyal (**18.3 %**) ones.\n",
        "\n"
      ],
      "metadata": {
        "id": "TiRZixOa7QPL"
      }
    },
    {
      "cell_type": "markdown",
      "source": [
        "**Question 5: Which is the most preferred class by the passengers travelling based on the reason for travel ?**"
      ],
      "metadata": {
        "id": "E570f4bN8D7D"
      }
    },
    {
      "cell_type": "code",
      "execution_count": 168,
      "metadata": {
        "id": "ssnRFtSFQySX",
        "colab": {
          "base_uri": "https://localhost:8080/",
          "height": 297
        },
        "outputId": "d9ca5dea-bcf7-43a4-b424-2f4bbafe0ffd"
      },
      "outputs": [
        {
          "output_type": "execute_result",
          "data": {
            "text/plain": [
              "([0, 1], <a list of 2 Text major ticklabel objects>)"
            ]
          },
          "metadata": {},
          "execution_count": 168
        },
        {
          "output_type": "display_data",
          "data": {
            "text/plain": [
              "<Figure size 432x288 with 1 Axes>"
            ],
            "image/png": "[encoded data removed]"
          },
          "metadata": {
            "needs_background": "light"
          }
        }
      ],
      "source": [
        "sns.histplot(binwidth=0.5, x=\"Type of Travel\", hue=\"Class\", data= train, stat=\"percent\", multiple=\"dodge\")\n",
        "\n",
        " \n",
        "plt.xticks(rotation=0)"
      ]
    },
    {
      "cell_type": "markdown",
      "source": [
        "**Observation:**\n",
        "\n",
        "> We observe that the most of the passengers travelling for Personal reasons (**~ 25 %**) prefer to travel by **Eco class**.\n",
        "  \n",
        "> **Business class** is mainly preferred while travelling for Business purposes."
      ],
      "metadata": {
        "id": "UEDCDyGDB7jG"
      }
    },
    {
      "cell_type": "markdown",
      "source": [
        "**Question 6: How was the passenger's rating while booking online ?**"
      ],
      "metadata": {
        "id": "Krj8SYLfGONu"
      }
    },
    {
      "cell_type": "code",
      "source": [
        "sns.countplot(x= \"Type of Travel\", data = train)"
      ],
      "metadata": {
        "id": "ST4U8zfeDLvZ",
        "colab": {
          "base_uri": "https://localhost:8080/",
          "height": 301
        },
        "outputId": "75facaf3-0481-431f-e615-b34b71e1d853"
      },
      "execution_count": 169,
      "outputs": [
        {
          "output_type": "execute_result",
          "data": {
            "text/plain": [
              "<matplotlib.axes._subplots.AxesSubplot at 0x7ff5afdbda50>"
            ]
          },
          "metadata": {},
          "execution_count": 169
        },
        {
          "output_type": "display_data",
          "data": {
            "text/plain": [
              "<Figure size 432x288 with 1 Axes>"
            ],
            "image/png": "[encoded data removed]"
          },
          "metadata": {
            "needs_background": "light"
          }
        }
      ]
    },
    {
      "cell_type": "code",
      "execution_count": 170,
      "metadata": {
        "id": "1-ndeIRdQyKb",
        "colab": {
          "base_uri": "https://localhost:8080/",
          "height": 569
        },
        "outputId": "22457352-9d5d-4ece-c43f-9c64a53a338a"
      },
      "outputs": [
        {
          "output_type": "execute_result",
          "data": {
            "text/plain": [
              "<matplotlib.axes._subplots.AxesSubplot at 0x7ff5c6d0bb50>"
            ]
          },
          "metadata": {},
          "execution_count": 170
        },
        {
          "output_type": "display_data",
          "data": {
            "text/plain": [
              "<Figure size 648x648 with 1 Axes>"
            ],
            "image/png": "[encoded data removed]"
          },
          "metadata": {
            "needs_background": "light"
          }
        }
      ],
      "source": [
        "fig = plt.figure(figsize = [9, 9])\n",
        "sns.histplot(binwidth=0.5, x= \"Type of Travel\" , hue= \"Ease of Online booking\", data= train, stat=\"percent\", multiple=\"dodge\")"
      ]
    },
    {
      "cell_type": "markdown",
      "source": [
        "**Observation:**\n",
        "\n",
        "> There are more people travelling for Business purposes than for Personal reasons.\n",
        "\n",
        "> We observe that the most of the passengers travelling for Personal reasons have given a rating between **2-3 out of 5**.\n",
        "  \n",
        "> Most of the passengers travelling for Business purposes have given ratings between **2-4 out of 5**."
      ],
      "metadata": {
        "id": "AjxePB5qCU2V"
      }
    },
    {
      "cell_type": "markdown",
      "source": [
        "**Question 7: How was passenger's experience of inflight airline services based on the variable 'Class'?**"
      ],
      "metadata": {
        "id": "fJaTchdw1WQ6"
      }
    },
    {
      "cell_type": "code",
      "source": [
        "# Creating a custom figure size of 15 X 7 inches\n",
        "figure = plt.figure(figsize=[15, 15])\n",
        "\n",
        "###################################################\n",
        "# First Plot for Inflight wifi service vs Class\n",
        "###################################################\n",
        "plt.subplot(3,3, 1)\n",
        "\n",
        "sns.countplot(data=train,x='Inflight wifi service',hue= 'Class')\n",
        "plt.legend(loc='upper left')\n",
        "###################################################\n",
        "# Second Plot for Food and drink vs Class\n",
        "###################################################\n",
        "plt.subplot(3,3, 2)\n",
        "\n",
        "sns.countplot(data=train,x='Food and drink',hue='Class')\n",
        "\n",
        "###################################################\n",
        "# Third Plot for Seat comfort vs Class\n",
        "###################################################\n",
        "plt.subplot(3,3, 3)\n",
        "\n",
        "sns.countplot(data=train,x='Seat comfort',hue='Class')\n",
        "plt.legend(loc='upper left')\n",
        "\n",
        "###################################################\n",
        "# Fourth Plot for Inflight entertainment vs Class\n",
        "###################################################\n",
        "plt.subplot(3,3, 4)\n",
        "\n",
        "sns.countplot(data=train,x= 'Inflight entertainment',hue='Class')\n",
        "\n",
        "###################################################\n",
        "# Fifth Plot for Inflight service vs Class\n",
        "###################################################\n",
        "plt.subplot(3,3, 5)\n",
        "\n",
        "sns.countplot(data=train,x='Inflight service',hue='Class')\n",
        "plt.legend(loc='upper left')\n",
        "\n",
        "###################################################\n",
        "# Sixth Plot for Leg room service vs Class\n",
        "###################################################\n",
        "plt.subplot(3,3, 6)\n",
        "\n",
        "sns.countplot(data=train,x='Leg room service',hue='Class')\n",
        "\n",
        "###################################################\n",
        "# Seventh Plot for On-board service vs Class\n",
        "###################################################\n",
        "plt.subplot(3,3, 7)\n",
        "\n",
        "sns.countplot(data=train,x='On-board service',hue='Class')\n",
        "plt.legend(loc='upper left')\n",
        "\n",
        "####################################################\n",
        "# Eighth Plot for Cleanliness vs Class\n",
        "###################################################\n",
        "plt.subplot(3,3, 8)\n",
        "\n",
        "sns.countplot(data=train,x='Cleanliness',hue='Class')\n",
        "\n",
        "###################################################\n",
        "# Display the output by rendering visual on the screen\n",
        "\n",
        "plt.show()\n",
        "##################################################\n"
      ],
      "metadata": {
        "id": "jUd3BEMksC7w",
        "colab": {
          "base_uri": "https://localhost:8080/",
          "height": 877
        },
        "outputId": "041a3a64-fe17-4261-95f3-d7bb7d27a236"
      },
      "execution_count": 171,
      "outputs": [
        {
          "output_type": "display_data",
          "data": {
            "text/plain": [
              "<Figure size 1080x1080 with 8 Axes>"
            ],
            "image/png": "[encoded data removed]"
          },
          "metadata": {
            "needs_background": "light"
          }
        }
      ]
    },
    {
      "cell_type": "markdown",
      "source": [
        "**Observation:**\n",
        "\n",
        "> **Eco Class**: \n",
        "- *Inflight wifi service* ==> Maximum passengers gave ratings between **2-3**. \n",
        "- *Food and drink* ==> Maximum passengers gave ratings between **2-4**.\n",
        "- *Seat comfort* ==> Maximum passengers gave ratings between **3-5**.\n",
        "- *Inflight entertainment* ==> Maximum passengers gave ratings between **3-4**.\n",
        "- *Inflight service* ==> Maximum passengers gave ratings between **3-4**.\n",
        "- *Leg room service* ==> Maximum passengers gave ratings between **2-4**.\n",
        "- *On-board service* ==> Maximum passengers gave ratings between **3-4**.\n",
        "- *Cleanliness* ==> Maximum passengers gave ratings between **3-4**.\n",
        "\n",
        "\n",
        "> **Eco Plus Class**: \n",
        "- *Inflight wifi service* ==> Maximum passengers gave ratings between **2-3**. \n",
        "- *Food and drink* ==> Maximum passengers gave ratings between **2-5**.\n",
        "- *Seat comfort* ==> Maximum passengers gave ratings between **3-5**.\n",
        "- *Inflight entertainment* ==> Maximum passengers gave ratings between **3-5**.\n",
        "- *Inflight service* ==> Maximum passengers gave ratings between **3-4**.\n",
        "- *Leg room service* ==> Maximum passengers gave ratings between **2-4**.\n",
        "- *On-board service* ==> Maximum passengers gave ratings between **4-5**.\n",
        "- *Cleanliness* ==> Maximum passengers gave ratings between **3-5**.\n",
        "  \n",
        "\n",
        "> **Business Class**: \n",
        "- *Inflight wifi service* ==> Maximum passengers gave ratings between **2-3**. \n",
        "- *Food and drink* ==> Maximum passengers gave ratings between **4-5**.\n",
        "- *Seat comfort* ==> Maximum passengers gave ratings between **4-5**.\n",
        "- *Inflight entertainment* ==> Maximum passengers gave ratings between **4-5**.\n",
        "- *Inflight service* ==> Maximum passengers gave ratings between **4-5**.\n",
        "- *Leg room service* ==> Maximum passengers gave ratings between **4-5**.\n",
        "- *On-board service* ==> Maximum passengers gave ratings between **3-5**.\n",
        "- *Cleanliness* ==> Maximum passengers gave ratings between **3-5**.\n",
        "\n",
        "\n",
        "- We can see that the **Business class** passengers seem to be more satisfied as compared to those traveliing in **Eco or Eco Plus classes**. \n",
        "- The level of **Cleanliness** and **Inflight entertainment** is more in the **Eco Plus and Business Classes**."
      ],
      "metadata": {
        "id": "FgRJzbPkSQPP"
      }
    },
    {
      "cell_type": "markdown",
      "source": [
        "**Question 8: How many passengers experience of airline's ground handling services ?**"
      ],
      "metadata": {
        "id": "WAOOLM70SP-f"
      }
    },
    {
      "cell_type": "code",
      "source": [
        "# Creating a custom figure size of 20 X 17 inches\n",
        "figure = plt.figure(figsize=[20, 11])\n",
        "\n",
        "###################################################\n",
        "# First Plot for Departure/Arrival time convenient vs satisfaction\n",
        "###################################################\n",
        "plt.subplot(3,3, 1)\n",
        "\n",
        "sns.countplot(data=train,x='Departure/Arrival time convenient',hue= 'satisfaction')\n",
        "\n",
        "\n",
        "###################################################\n",
        "# Second Plot for Gate location vs satisfaction\n",
        "###################################################\n",
        "plt.subplot(3,3, 2)\n",
        "\n",
        "sns.countplot(data=train,x='Gate location',hue='satisfaction')\n",
        "\n",
        "###################################################\n",
        "# Third Plot for Online boarding vs satisfaction\n",
        "###################################################\n",
        "plt.subplot(3,3, 3)\n",
        "\n",
        "sns.countplot(data=train,x='Online boarding',hue='satisfaction')\n",
        "\n",
        "########################################################\n",
        "# Fourth Plot for Baggage handling vs satisfaction\n",
        "########################################################\n",
        "plt.subplot(3,3, 4)\n",
        "\n",
        "sns.countplot(data=train,x= 'Baggage handling',hue='satisfaction')\n",
        "\n",
        "###################################################\n",
        "# Fifth Plot for Checkin service vs satisfaction\n",
        "###################################################\n",
        "plt.subplot(3,3, 5)\n",
        "\n",
        "sns.countplot(data=train,x='Checkin service',hue='satisfaction')\n",
        "\n",
        "###################################################\n",
        "# Display the output by rendering visual on the screen\n",
        "\n",
        "plt.show()\n",
        "##################################################\n"
      ],
      "metadata": {
        "id": "iXRCM910sC2z",
        "colab": {
          "base_uri": "https://localhost:8080/",
          "height": 417
        },
        "outputId": "d61a8aa2-1719-44e1-87d7-f50abc0f6549"
      },
      "execution_count": 172,
      "outputs": [
        {
          "output_type": "display_data",
          "data": {
            "text/plain": [
              "<Figure size 1440x792 with 5 Axes>"
            ],
            "image/png": "[encoded data removed]"
          },
          "metadata": {
            "needs_background": "light"
          }
        }
      ]
    },
    {
      "cell_type": "markdown",
      "source": [
        "**Observation:**\n",
        "\n",
        "> *Departure/Arrival time convenient* ==> Maximum passengers gave neutral or dissatisfied feedback.\n",
        "\n",
        "> *Gate location* ==> Maximum passengers gave neutral or dissatisfied feedback.\n",
        "\n",
        "> *Online boarding* ==> It seems that some passengers faced some difficulty(**rating: 2-3 only**) during online boarding but most of them (**rating: 4-5**) were able to use it efficiently.\n",
        "\n",
        "> *Baggage handling* ==> Most of the passengers seem satisfied and have given high rating of **4-5**.\n",
        "\n",
        "> *Checkin service* ==> Most of the passengers gave neutral or dissatisfied feedback with a rating  between **3-4**.\n",
        "\n"
      ],
      "metadata": {
        "id": "9tNlJkQ_n3mC"
      }
    },
    {
      "cell_type": "markdown",
      "source": [
        "**Question 9: What was the effect of flight delays on the passenger's satisfaction ?**"
      ],
      "metadata": {
        "id": "T7aSbl4RE2LU"
      }
    },
    {
      "cell_type": "code",
      "source": [
        "print(\"Arrival Delay - Min value: \", train['Arrival Delay in Hrs'].min())\n",
        "print(\"Arrival Delay - Max value: \", train['Arrival Delay in Hrs'].max())\n",
        "print(\"Departure Delay - Min value: \", train['Departure Delay in Hrs'].min())\n",
        "print(\"Departure Delay - Max value: \", train['Departure Delay in Hrs'].max())"
      ],
      "metadata": {
        "id": "vqBdtzQvdzq1",
        "colab": {
          "base_uri": "https://localhost:8080/"
        },
        "outputId": "7b2e3bb9-41fd-448a-f03e-b6b64e432f0f"
      },
      "execution_count": 173,
      "outputs": [
        {
          "output_type": "stream",
          "name": "stdout",
          "text": [
            "Arrival Delay - Min value:  0.0\n",
            "Arrival Delay - Max value:  26.4\n",
            "Departure Delay - Min value:  0.0\n",
            "Departure Delay - Max value:  26.53\n"
          ]
        }
      ]
    },
    {
      "cell_type": "code",
      "source": [
        "t1 = train.copy()\n",
        "bin = np.arange(0,30,2)\n",
        "print(bin)\n",
        "\n",
        "label = ['0-2 Hrs','2-4 Hrs','4-6 Hrs','6-8 Hrs','8-10 Hrs','10-12 Hrs','12-14 Hrs','14-16 Hrs','16-18 Hrs','18-20 Hrs','20-22 Hrs','22-24 Hrs','24-26 Hrs', '26-28 Hrs']\n",
        "\n",
        "t1['Arrival Delay in Hrs'] = pd.cut(t1['Arrival Delay in Hrs'], bins = bin, labels = label, right=True)\n",
        "t1['Departure Delay in Hrs'] = pd.cut(t1['Departure Delay in Hrs'], bins = bin, labels = label, right=True)\n"
      ],
      "metadata": {
        "id": "MLguzbT_pIyL",
        "colab": {
          "base_uri": "https://localhost:8080/"
        },
        "outputId": "3395b335-f5ea-431c-9259-05a9bd9b3bbe"
      },
      "execution_count": 174,
      "outputs": [
        {
          "output_type": "stream",
          "name": "stdout",
          "text": [
            "[ 0  2  4  6  8 10 12 14 16 18 20 22 24 26 28]\n"
          ]
        }
      ]
    },
    {
      "cell_type": "code",
      "source": [
        "t1['Arrival Delay in Hrs'].value_counts().sort_index()"
      ],
      "metadata": {
        "id": "XkG7Xepfq_tO",
        "colab": {
          "base_uri": "https://localhost:8080/"
        },
        "outputId": "8d46ce53-aed8-4b7b-eda6-a6e0ac8c3228"
      },
      "execution_count": 175,
      "outputs": [
        {
          "output_type": "execute_result",
          "data": {
            "text/plain": [
              "0-2 Hrs      34256\n",
              "2-4 Hrs       1677\n",
              "4-6 Hrs        290\n",
              "6-8 Hrs         64\n",
              "8-10 Hrs        18\n",
              "10-12 Hrs        5\n",
              "12-14 Hrs        2\n",
              "14-16 Hrs        4\n",
              "16-18 Hrs        1\n",
              "18-20 Hrs        0\n",
              "20-22 Hrs        1\n",
              "22-24 Hrs        0\n",
              "24-26 Hrs        0\n",
              "26-28 Hrs        1\n",
              "Name: Arrival Delay in Hrs, dtype: int64"
            ]
          },
          "metadata": {},
          "execution_count": 175
        }
      ]
    },
    {
      "cell_type": "code",
      "source": [
        "t1['Departure Delay in Hrs'].value_counts().sort_index()\n"
      ],
      "metadata": {
        "id": "eekF70rTwMtJ",
        "colab": {
          "base_uri": "https://localhost:8080/"
        },
        "outputId": "8f286769-ee2c-4c13-cb26-6f40be2187f9"
      },
      "execution_count": 176,
      "outputs": [
        {
          "output_type": "execute_result",
          "data": {
            "text/plain": [
              "0-2 Hrs      34147\n",
              "2-4 Hrs       1635\n",
              "4-6 Hrs        269\n",
              "6-8 Hrs         66\n",
              "8-10 Hrs        16\n",
              "10-12 Hrs        2\n",
              "12-14 Hrs        3\n",
              "14-16 Hrs        5\n",
              "16-18 Hrs        1\n",
              "18-20 Hrs        0\n",
              "20-22 Hrs        1\n",
              "22-24 Hrs        0\n",
              "24-26 Hrs        0\n",
              "26-28 Hrs        1\n",
              "Name: Departure Delay in Hrs, dtype: int64"
            ]
          },
          "metadata": {},
          "execution_count": 176
        }
      ]
    },
    {
      "cell_type": "code",
      "source": [
        "figure = plt.figure(figsize=[15,7])\n",
        "sns.countplot(data=t1,x='Arrival Delay in Hrs',hue='satisfaction')\n",
        "plt.legend(title='Feedback', loc='upper right')"
      ],
      "metadata": {
        "id": "laTlDinE7svD",
        "colab": {
          "base_uri": "https://localhost:8080/",
          "height": 460
        },
        "outputId": "4f3e66cb-76de-40e9-95ba-cff6b7cc0f83"
      },
      "execution_count": 177,
      "outputs": [
        {
          "output_type": "execute_result",
          "data": {
            "text/plain": [
              "<matplotlib.legend.Legend at 0x7ff5af780c50>"
            ]
          },
          "metadata": {},
          "execution_count": 177
        },
        {
          "output_type": "display_data",
          "data": {
            "text/plain": [
              "<Figure size 1080x504 with 1 Axes>"
            ],
            "image/png": "[encoded data removed]"
          },
          "metadata": {
            "needs_background": "light"
          }
        }
      ]
    },
    {
      "cell_type": "code",
      "execution_count": 178,
      "metadata": {
        "id": "718XdzOoQyEg",
        "colab": {
          "base_uri": "https://localhost:8080/",
          "height": 474
        },
        "outputId": "b21c8a12-109d-4a9c-f837-86af12c94281"
      },
      "outputs": [
        {
          "output_type": "display_data",
          "data": {
            "text/plain": [
              "<Figure size 1080x504 with 1 Axes>"
            ],
            "image/png": "[encoded data removed]"
          },
          "metadata": {
            "needs_background": "light"
          }
        }
      ],
      "source": [
        "figure = plt.figure(figsize=[15,7])\n",
        "list1 = ['0-2 Hrs', '2-4 Hrs']\n",
        "sns.countplot(data=t1[~t1['Arrival Delay in Hrs'].isin(list1)],x='Arrival Delay in Hrs',hue='satisfaction')\n",
        "plt.xticks(rotation = 45)\n",
        "plt.legend(title='Feedback', loc='upper right')\n",
        "plt.show()\n",
        "# plt.xlim(0, 35000)"
      ]
    },
    {
      "cell_type": "code",
      "source": [
        "figure = plt.figure(figsize=[15,7])\n",
        "sns.countplot(data=t1,x='Departure Delay in Hrs',hue='satisfaction')\n",
        "plt.legend(title='Feedback', loc='upper right')\n",
        "# plt.xlim([])"
      ],
      "metadata": {
        "id": "IoM1ZS42GHkE",
        "colab": {
          "base_uri": "https://localhost:8080/",
          "height": 460
        },
        "outputId": "55e7612e-980d-4bc1-935c-d7f667f98512"
      },
      "execution_count": 179,
      "outputs": [
        {
          "output_type": "execute_result",
          "data": {
            "text/plain": [
              "<matplotlib.legend.Legend at 0x7ff5c6d6aa90>"
            ]
          },
          "metadata": {},
          "execution_count": 179
        },
        {
          "output_type": "display_data",
          "data": {
            "text/plain": [
              "<Figure size 1080x504 with 1 Axes>"
            ],
            "image/png": "[encoded data removed]"
          },
          "metadata": {
            "needs_background": "light"
          }
        }
      ]
    },
    {
      "cell_type": "code",
      "source": [
        "figure = plt.figure(figsize=[15,7])\n",
        "list1 = ['0-2 Hrs', '2-4 Hrs']\n",
        "sns.countplot(data=t1[~t1['Departure Delay in Hrs'].isin(list1)],x='Departure Delay in Hrs',hue='satisfaction')\n",
        "plt.legend(title='Feedback', loc='upper right')"
      ],
      "metadata": {
        "id": "QHc1HmE89Zen",
        "colab": {
          "base_uri": "https://localhost:8080/",
          "height": 460
        },
        "outputId": "c6555212-62d4-4eca-801f-1b53f94ea4c6"
      },
      "execution_count": 180,
      "outputs": [
        {
          "output_type": "execute_result",
          "data": {
            "text/plain": [
              "<matplotlib.legend.Legend at 0x7ff5afaa4ed0>"
            ]
          },
          "metadata": {},
          "execution_count": 180
        },
        {
          "output_type": "display_data",
          "data": {
            "text/plain": [
              "<Figure size 1080x504 with 1 Axes>"
            ],
            "image/png": "[encoded data removed]"
          },
          "metadata": {
            "needs_background": "light"
          }
        }
      ]
    },
    {
      "cell_type": "code",
      "source": [
        "t1[t1['Departure Delay in Hrs'] == '26-28 Hrs']"
      ],
      "metadata": {
        "id": "injTs1NgqLzD",
        "colab": {
          "base_uri": "https://localhost:8080/",
          "height": 226
        },
        "outputId": "70fbf938-68d3-45ca-ba06-cfd382e50383"
      },
      "execution_count": 181,
      "outputs": [
        {
          "output_type": "execute_result",
          "data": {
            "text/plain": [
              "       Gender   Customer Type  Age   Type of Travel Class  Flight Distance  \\\n",
              "52311  Female  Loyal Customer   47  Personal Travel   Eco             1120   \n",
              "\n",
              "       Inflight wifi service  Departure/Arrival time convenient  \\\n",
              "52311                      2                                  2   \n",
              "\n",
              "       Ease of Online booking  Gate location  ...  Inflight entertainment  \\\n",
              "52311                       2              3  ...                       2   \n",
              "\n",
              "       On-board service  Leg room service  Baggage handling  Checkin service  \\\n",
              "52311                 4                 4                 4                2   \n",
              "\n",
              "       Inflight service  Cleanliness             satisfaction  \\\n",
              "52311                 3            2  neutral or dissatisfied   \n",
              "\n",
              "       Arrival Delay in Hrs  Departure Delay in Hrs  \n",
              "52311             26-28 Hrs               26-28 Hrs  \n",
              "\n",
              "[1 rows x 23 columns]"
            ],
            "text/html": [
              "\n",
              "  <div id=\"df-c398b4f3-e4eb-4272-bb33-9195fde0c666\">\n",
              "    <div class=\"colab-df-container\">\n",
              "      <div>\n",
              "<style scoped>\n",
              "    .dataframe tbody tr th:only-of-type {\n",
              "        vertical-align: middle;\n",
              "    }\n",
              "\n",
              "    .dataframe tbody tr th {\n",
              "        vertical-align: top;\n",
              "    }\n",
              "\n",
              "    .dataframe thead th {\n",
              "        text-align: right;\n",
              "    }\n",
              "</style>\n",
              "<table border=\"1\" class=\"dataframe\">\n",
              "  <thead>\n",
              "    <tr style=\"text-align: right;\">\n",
              "      <th></th>\n",
              "      <th>Gender</th>\n",
              "      <th>Customer Type</th>\n",
              "      <th>Age</th>\n",
              "      <th>Type of Travel</th>\n",
              "      <th>Class</th>\n",
              "      <th>Flight Distance</th>\n",
              "      <th>Inflight wifi service</th>\n",
              "      <th>Departure/Arrival time convenient</th>\n",
              "      <th>Ease of Online booking</th>\n",
              "      <th>Gate location</th>\n",
              "      <th>...</th>\n",
              "      <th>Inflight entertainment</th>\n",
              "      <th>On-board service</th>\n",
              "      <th>Leg room service</th>\n",
              "      <th>Baggage handling</th>\n",
              "      <th>Checkin service</th>\n",
              "      <th>Inflight service</th>\n",
              "      <th>Cleanliness</th>\n",
              "      <th>satisfaction</th>\n",
              "      <th>Arrival Delay in Hrs</th>\n",
              "      <th>Departure Delay in Hrs</th>\n",
              "    </tr>\n",
              "  </thead>\n",
              "  <tbody>\n",
              "    <tr>\n",
              "      <th>52311</th>\n",
              "      <td>Female</td>\n",
              "      <td>Loyal Customer</td>\n",
              "      <td>47</td>\n",
              "      <td>Personal Travel</td>\n",
              "      <td>Eco</td>\n",
              "      <td>1120</td>\n",
              "      <td>2</td>\n",
              "      <td>2</td>\n",
              "      <td>2</td>\n",
              "      <td>3</td>\n",
              "      <td>...</td>\n",
              "      <td>2</td>\n",
              "      <td>4</td>\n",
              "      <td>4</td>\n",
              "      <td>4</td>\n",
              "      <td>2</td>\n",
              "      <td>3</td>\n",
              "      <td>2</td>\n",
              "      <td>neutral or dissatisfied</td>\n",
              "      <td>26-28 Hrs</td>\n",
              "      <td>26-28 Hrs</td>\n",
              "    </tr>\n",
              "  </tbody>\n",
              "</table>\n",
              "<p>1 rows × 23 columns</p>\n",
              "</div>\n",
              "      <button class=\"colab-df-convert\" onclick=\"convertToInteractive('df-c398b4f3-e4eb-4272-bb33-9195fde0c666')\"\n",
              "              title=\"Convert this dataframe to an interactive table.\"\n",
              "              style=\"display:none;\">\n",
              "        \n",
              "  <svg xmlns=\"http://www.w3.org/2000/svg\" height=\"24px\"viewBox=\"0 0 24 24\"\n",
              "       width=\"24px\">\n",
              "    <path d=\"M0 0h24v24H0V0z\" fill=\"none\"/>\n",
              "    <path d=\"M18.56 5.44l.94 2.06.94-2.06 2.06-.94-2.06-.94-.94-2.06-.94 2.06-2.06.94zm-11 1L8.5 8.5l.94-2.06 2.06-.94-2.06-.94L8.5 2.5l-.94 2.06-2.06.94zm10 10l.94 2.06.94-2.06 2.06-.94-2.06-.94-.94-2.06-.94 2.06-2.06.94z\"/><path d=\"M17.41 7.96l-1.37-1.37c-.4-.4-.92-.59-1.43-.59-.52 0-1.04.2-1.43.59L10.3 9.45l-7.72 7.72c-.78.78-.78 2.05 0 2.83L4 21.41c.39.39.9.59 1.41.59.51 0 1.02-.2 1.41-.59l7.78-7.78 2.81-2.81c.8-.78.8-2.07 0-2.86zM5.41 20L4 18.59l7.72-7.72 1.47 1.35L5.41 20z\"/>\n",
              "  </svg>\n",
              "      </button>\n",
              "      \n",
              "  <style>\n",
              "    .colab-df-container {\n",
              "      display:flex;\n",
              "      flex-wrap:wrap;\n",
              "      gap: 12px;\n",
              "    }\n",
              "\n",
              "    .colab-df-convert {\n",
              "      background-color: #E8F0FE;\n",
              "      border: none;\n",
              "      border-radius: 50%;\n",
              "      cursor: pointer;\n",
              "      display: none;\n",
              "      fill: #1967D2;\n",
              "      height: 32px;\n",
              "      padding: 0 0 0 0;\n",
              "      width: 32px;\n",
              "    }\n",
              "\n",
              "    .colab-df-convert:hover {\n",
              "      background-color: #E2EBFA;\n",
              "      box-shadow: 0px 1px 2px rgba(60, 64, 67, 0.3), 0px 1px 3px 1px rgba(60, 64, 67, 0.15);\n",
              "      fill: #174EA6;\n",
              "    }\n",
              "\n",
              "    [theme=dark] .colab-df-convert {\n",
              "      background-color: #3B4455;\n",
              "      fill: #D2E3FC;\n",
              "    }\n",
              "\n",
              "    [theme=dark] .colab-df-convert:hover {\n",
              "      background-color: #434B5C;\n",
              "      box-shadow: 0px 1px 3px 1px rgba(0, 0, 0, 0.15);\n",
              "      filter: drop-shadow(0px 1px 2px rgba(0, 0, 0, 0.3));\n",
              "      fill: #FFFFFF;\n",
              "    }\n",
              "  </style>\n",
              "\n",
              "      <script>\n",
              "        const buttonEl =\n",
              "          document.querySelector('#df-c398b4f3-e4eb-4272-bb33-9195fde0c666 button.colab-df-convert');\n",
              "        buttonEl.style.display =\n",
              "          google.colab.kernel.accessAllowed ? 'block' : 'none';\n",
              "\n",
              "        async function convertToInteractive(key) {\n",
              "          const element = document.querySelector('#df-c398b4f3-e4eb-4272-bb33-9195fde0c666');\n",
              "          const dataTable =\n",
              "            await google.colab.kernel.invokeFunction('convertToInteractive',\n",
              "                                                     [key], {});\n",
              "          if (!dataTable) return;\n",
              "\n",
              "          const docLinkHtml = 'Like what you see? Visit the ' +\n",
              "            '<a target=\"_blank\" href=https://colab.research.google.com/notebooks/data_table.ipynb>data table notebook</a>'\n",
              "            + ' to learn more about interactive tables.';\n",
              "          element.innerHTML = '';\n",
              "          dataTable['output_type'] = 'display_data';\n",
              "          await google.colab.output.renderOutput(dataTable, element);\n",
              "          const docLink = document.createElement('div');\n",
              "          docLink.innerHTML = docLinkHtml;\n",
              "          element.appendChild(docLink);\n",
              "        }\n",
              "      </script>\n",
              "    </div>\n",
              "  </div>\n",
              "  "
            ]
          },
          "metadata": {},
          "execution_count": 181
        }
      ]
    },
    {
      "cell_type": "code",
      "source": [
        "t1[t1['Arrival Delay in Hrs'] == '26-28 Hrs']"
      ],
      "metadata": {
        "id": "WksGGa7spbKG",
        "colab": {
          "base_uri": "https://localhost:8080/",
          "height": 226
        },
        "outputId": "2f1cec49-9c16-46fa-9906-bd93b99e33e6"
      },
      "execution_count": 182,
      "outputs": [
        {
          "output_type": "execute_result",
          "data": {
            "text/plain": [
              "       Gender   Customer Type  Age   Type of Travel Class  Flight Distance  \\\n",
              "52311  Female  Loyal Customer   47  Personal Travel   Eco             1120   \n",
              "\n",
              "       Inflight wifi service  Departure/Arrival time convenient  \\\n",
              "52311                      2                                  2   \n",
              "\n",
              "       Ease of Online booking  Gate location  ...  Inflight entertainment  \\\n",
              "52311                       2              3  ...                       2   \n",
              "\n",
              "       On-board service  Leg room service  Baggage handling  Checkin service  \\\n",
              "52311                 4                 4                 4                2   \n",
              "\n",
              "       Inflight service  Cleanliness             satisfaction  \\\n",
              "52311                 3            2  neutral or dissatisfied   \n",
              "\n",
              "       Arrival Delay in Hrs  Departure Delay in Hrs  \n",
              "52311             26-28 Hrs               26-28 Hrs  \n",
              "\n",
              "[1 rows x 23 columns]"
            ],
            "text/html": [
              "\n",
              "  <div id=\"df-878aa0ae-c14d-4e95-be19-0c5e4007a1a0\">\n",
              "    <div class=\"colab-df-container\">\n",
              "      <div>\n",
              "<style scoped>\n",
              "    .dataframe tbody tr th:only-of-type {\n",
              "        vertical-align: middle;\n",
              "    }\n",
              "\n",
              "    .dataframe tbody tr th {\n",
              "        vertical-align: top;\n",
              "    }\n",
              "\n",
              "    .dataframe thead th {\n",
              "        text-align: right;\n",
              "    }\n",
              "</style>\n",
              "<table border=\"1\" class=\"dataframe\">\n",
              "  <thead>\n",
              "    <tr style=\"text-align: right;\">\n",
              "      <th></th>\n",
              "      <th>Gender</th>\n",
              "      <th>Customer Type</th>\n",
              "      <th>Age</th>\n",
              "      <th>Type of Travel</th>\n",
              "      <th>Class</th>\n",
              "      <th>Flight Distance</th>\n",
              "      <th>Inflight wifi service</th>\n",
              "      <th>Departure/Arrival time convenient</th>\n",
              "      <th>Ease of Online booking</th>\n",
              "      <th>Gate location</th>\n",
              "      <th>...</th>\n",
              "      <th>Inflight entertainment</th>\n",
              "      <th>On-board service</th>\n",
              "      <th>Leg room service</th>\n",
              "      <th>Baggage handling</th>\n",
              "      <th>Checkin service</th>\n",
              "      <th>Inflight service</th>\n",
              "      <th>Cleanliness</th>\n",
              "      <th>satisfaction</th>\n",
              "      <th>Arrival Delay in Hrs</th>\n",
              "      <th>Departure Delay in Hrs</th>\n",
              "    </tr>\n",
              "  </thead>\n",
              "  <tbody>\n",
              "    <tr>\n",
              "      <th>52311</th>\n",
              "      <td>Female</td>\n",
              "      <td>Loyal Customer</td>\n",
              "      <td>47</td>\n",
              "      <td>Personal Travel</td>\n",
              "      <td>Eco</td>\n",
              "      <td>1120</td>\n",
              "      <td>2</td>\n",
              "      <td>2</td>\n",
              "      <td>2</td>\n",
              "      <td>3</td>\n",
              "      <td>...</td>\n",
              "      <td>2</td>\n",
              "      <td>4</td>\n",
              "      <td>4</td>\n",
              "      <td>4</td>\n",
              "      <td>2</td>\n",
              "      <td>3</td>\n",
              "      <td>2</td>\n",
              "      <td>neutral or dissatisfied</td>\n",
              "      <td>26-28 Hrs</td>\n",
              "      <td>26-28 Hrs</td>\n",
              "    </tr>\n",
              "  </tbody>\n",
              "</table>\n",
              "<p>1 rows × 23 columns</p>\n",
              "</div>\n",
              "      <button class=\"colab-df-convert\" onclick=\"convertToInteractive('df-878aa0ae-c14d-4e95-be19-0c5e4007a1a0')\"\n",
              "              title=\"Convert this dataframe to an interactive table.\"\n",
              "              style=\"display:none;\">\n",
              "        \n",
              "  <svg xmlns=\"http://www.w3.org/2000/svg\" height=\"24px\"viewBox=\"0 0 24 24\"\n",
              "       width=\"24px\">\n",
              "    <path d=\"M0 0h24v24H0V0z\" fill=\"none\"/>\n",
              "    <path d=\"M18.56 5.44l.94 2.06.94-2.06 2.06-.94-2.06-.94-.94-2.06-.94 2.06-2.06.94zm-11 1L8.5 8.5l.94-2.06 2.06-.94-2.06-.94L8.5 2.5l-.94 2.06-2.06.94zm10 10l.94 2.06.94-2.06 2.06-.94-2.06-.94-.94-2.06-.94 2.06-2.06.94z\"/><path d=\"M17.41 7.96l-1.37-1.37c-.4-.4-.92-.59-1.43-.59-.52 0-1.04.2-1.43.59L10.3 9.45l-7.72 7.72c-.78.78-.78 2.05 0 2.83L4 21.41c.39.39.9.59 1.41.59.51 0 1.02-.2 1.41-.59l7.78-7.78 2.81-2.81c.8-.78.8-2.07 0-2.86zM5.41 20L4 18.59l7.72-7.72 1.47 1.35L5.41 20z\"/>\n",
              "  </svg>\n",
              "      </button>\n",
              "      \n",
              "  <style>\n",
              "    .colab-df-container {\n",
              "      display:flex;\n",
              "      flex-wrap:wrap;\n",
              "      gap: 12px;\n",
              "    }\n",
              "\n",
              "    .colab-df-convert {\n",
              "      background-color: #E8F0FE;\n",
              "      border: none;\n",
              "      border-radius: 50%;\n",
              "      cursor: pointer;\n",
              "      display: none;\n",
              "      fill: #1967D2;\n",
              "      height: 32px;\n",
              "      padding: 0 0 0 0;\n",
              "      width: 32px;\n",
              "    }\n",
              "\n",
              "    .colab-df-convert:hover {\n",
              "      background-color: #E2EBFA;\n",
              "      box-shadow: 0px 1px 2px rgba(60, 64, 67, 0.3), 0px 1px 3px 1px rgba(60, 64, 67, 0.15);\n",
              "      fill: #174EA6;\n",
              "    }\n",
              "\n",
              "    [theme=dark] .colab-df-convert {\n",
              "      background-color: #3B4455;\n",
              "      fill: #D2E3FC;\n",
              "    }\n",
              "\n",
              "    [theme=dark] .colab-df-convert:hover {\n",
              "      background-color: #434B5C;\n",
              "      box-shadow: 0px 1px 3px 1px rgba(0, 0, 0, 0.15);\n",
              "      filter: drop-shadow(0px 1px 2px rgba(0, 0, 0, 0.3));\n",
              "      fill: #FFFFFF;\n",
              "    }\n",
              "  </style>\n",
              "\n",
              "      <script>\n",
              "        const buttonEl =\n",
              "          document.querySelector('#df-878aa0ae-c14d-4e95-be19-0c5e4007a1a0 button.colab-df-convert');\n",
              "        buttonEl.style.display =\n",
              "          google.colab.kernel.accessAllowed ? 'block' : 'none';\n",
              "\n",
              "        async function convertToInteractive(key) {\n",
              "          const element = document.querySelector('#df-878aa0ae-c14d-4e95-be19-0c5e4007a1a0');\n",
              "          const dataTable =\n",
              "            await google.colab.kernel.invokeFunction('convertToInteractive',\n",
              "                                                     [key], {});\n",
              "          if (!dataTable) return;\n",
              "\n",
              "          const docLinkHtml = 'Like what you see? Visit the ' +\n",
              "            '<a target=\"_blank\" href=https://colab.research.google.com/notebooks/data_table.ipynb>data table notebook</a>'\n",
              "            + ' to learn more about interactive tables.';\n",
              "          element.innerHTML = '';\n",
              "          dataTable['output_type'] = 'display_data';\n",
              "          await google.colab.output.renderOutput(dataTable, element);\n",
              "          const docLink = document.createElement('div');\n",
              "          docLink.innerHTML = docLinkHtml;\n",
              "          element.appendChild(docLink);\n",
              "        }\n",
              "      </script>\n",
              "    </div>\n",
              "  </div>\n",
              "  "
            ]
          },
          "metadata": {},
          "execution_count": 182
        }
      ]
    },
    {
      "cell_type": "markdown",
      "source": [
        "**Observation:**\n",
        "\n",
        "> We observe that **satisfaction** level decreases with the increase in the flight delay during both **Arrival** and **Departure** time.\n",
        "\n",
        "> It is also found that there are very few cases where the flights have been  delayed for more than **6-8 hours**.\n",
        "\n",
        "> There was only one such worst case where the flight got resheduled to the next day. Due to which the **Female** passenger who was also a Loyal customer has given bad ratings for this airline.\n",
        "\n",
        "\n"
      ],
      "metadata": {
        "id": "21ntLH_egdHz"
      }
    },
    {
      "cell_type": "markdown",
      "source": [
        "**Question 10: What was the relationship between Flight Distance and Type of Travel ?**"
      ],
      "metadata": {
        "id": "Ax9qpufUPdNw"
      }
    },
    {
      "cell_type": "code",
      "source": [
        "t2 = train.copy()\n",
        "\n",
        "bin = np.arange(30, 5200, 150)\n",
        "print(bin)\n",
        "t2['Flight Distance'] = pd.cut(t2['Flight Distance'], bins = bin, include_lowest = True)"
      ],
      "metadata": {
        "id": "h4kVG8u9WqBR",
        "colab": {
          "base_uri": "https://localhost:8080/"
        },
        "outputId": "1fb722cb-7744-4021-efa3-c6fea51e2012"
      },
      "execution_count": 183,
      "outputs": [
        {
          "output_type": "stream",
          "name": "stdout",
          "text": [
            "[  30  180  330  480  630  780  930 1080 1230 1380 1530 1680 1830 1980\n",
            " 2130 2280 2430 2580 2730 2880 3030 3180 3330 3480 3630 3780 3930 4080\n",
            " 4230 4380 4530 4680 4830 4980 5130]\n"
          ]
        }
      ]
    },
    {
      "cell_type": "code",
      "source": [
        "t2['Flight Distance'].value_counts(dropna = False).sort_index()"
      ],
      "metadata": {
        "id": "pTcqyTguU8p2",
        "colab": {
          "base_uri": "https://localhost:8080/"
        },
        "outputId": "ca9e4d7a-a49c-40ef-d94e-140377c00925"
      },
      "execution_count": 184,
      "outputs": [
        {
          "output_type": "execute_result",
          "data": {
            "text/plain": [
              "(29.999, 180.0]      4263\n",
              "(180.0, 330.0]      10338\n",
              "(330.0, 480.0]      10269\n",
              "(480.0, 630.0]       8363\n",
              "(630.0, 780.0]       6246\n",
              "(780.0, 930.0]       5647\n",
              "(930.0, 1080.0]      5755\n",
              "(1080.0, 1230.0]     3283\n",
              "(1230.0, 1380.0]     1784\n",
              "(1380.0, 1530.0]     2590\n",
              "(1530.0, 1680.0]     2839\n",
              "(1680.0, 1830.0]     2361\n",
              "(1830.0, 1980.0]     1950\n",
              "(1980.0, 2130.0]     1545\n",
              "(2130.0, 2280.0]     1784\n",
              "(2280.0, 2430.0]     1854\n",
              "(2430.0, 2580.0]     2105\n",
              "(2580.0, 2730.0]     1665\n",
              "(2730.0, 2880.0]     1014\n",
              "(2880.0, 3030.0]      974\n",
              "(3030.0, 3180.0]     1008\n",
              "(3180.0, 3330.0]      939\n",
              "(3330.0, 3480.0]      987\n",
              "(3480.0, 3630.0]      995\n",
              "(3630.0, 3780.0]     1017\n",
              "(3780.0, 3930.0]     1046\n",
              "(3930.0, 4080.0]      455\n",
              "(4080.0, 4230.0]        0\n",
              "(4230.0, 4380.0]       15\n",
              "(4380.0, 4530.0]        8\n",
              "(4530.0, 4680.0]        0\n",
              "(4680.0, 4830.0]        4\n",
              "(4830.0, 4980.0]       11\n",
              "(4980.0, 5130.0]        9\n",
              "Name: Flight Distance, dtype: int64"
            ]
          },
          "metadata": {},
          "execution_count": 184
        }
      ]
    },
    {
      "cell_type": "code",
      "source": [
        "figure = plt.figure(figsize=[15,7])\n",
        "sns.countplot(data=t2,x= 'Flight Distance',hue='Type of Travel')\n",
        "plt.xticks(rotation = 45)\n",
        "plt.legend(loc='upper right')\n",
        "plt.show()"
      ],
      "metadata": {
        "id": "P0f4jPiGPd1N",
        "colab": {
          "base_uri": "https://localhost:8080/",
          "height": 499
        },
        "outputId": "b22e6ab7-4dfd-47f9-abe8-4abea2c9bb62"
      },
      "execution_count": 185,
      "outputs": [
        {
          "output_type": "display_data",
          "data": {
            "text/plain": [
              "<Figure size 1080x504 with 1 Axes>"
            ],
            "image/png": "[encoded data removed]"
          },
          "metadata": {
            "needs_background": "light"
          }
        }
      ]
    },
    {
      "cell_type": "markdown",
      "metadata": {
        "id": "f9l7DIYrToZV"
      },
      "source": [
        "**Observation:**\n",
        "\n",
        "> We observe that passengers travelling for **Personal reasons,** mostly travel between **31 km to 930 km**.\n",
        "\n",
        "> Only those travelling for **Business purposes**, travel for very long distances for eg. **4983 km (Max value for variable- 'Flight Distance' ).**\n",
        "\n"
      ]
    },
    {
      "cell_type": "markdown",
      "metadata": {
        "id": "zr_cR2Cbxhvv"
      },
      "source": [
        "# Data Transformation\n",
        "  *Transformation of both Train and Test data.*\n"
      ]
    },
    {
      "cell_type": "code",
      "execution_count": 186,
      "metadata": {
        "id": "d_qqBmIbQ6jK"
      },
      "outputs": [],
      "source": [
        "from sklearn.preprocessing import StandardScaler\n",
        "\n",
        "num_cols = test.select_dtypes(exclude = object)\n",
        "# define standard scaler\n",
        "scaler = StandardScaler()\n",
        "# transform data\n",
        "test[num_cols.columns] = scaler.fit_transform(num_cols)\n",
        "\n",
        "num_cols1 = train.select_dtypes(exclude = object)\n",
        "# define standard scaler\n",
        "# scaler = StandardScaler()\n",
        "# transform data\n",
        "train[num_cols1.columns] = scaler.fit_transform(num_cols1)\n",
        "# print(scaled)\n",
        "# test_df.skew()"
      ]
    },
    {
      "cell_type": "code",
      "execution_count": 187,
      "metadata": {
        "id": "LnfxS7C7kx5Y",
        "colab": {
          "base_uri": "https://localhost:8080/",
          "height": 868
        },
        "outputId": "3749d892-20e2-4936-be80-8b21067e6a1a"
      },
      "outputs": [
        {
          "output_type": "execute_result",
          "data": {
            "text/plain": [
              "                                        Age  Flight Distance  \\\n",
              "Age                                1.000000         0.096859   \n",
              "Flight Distance                    0.096859         1.000000   \n",
              "Inflight wifi service              0.025464         0.002865   \n",
              "Departure/Arrival time convenient  0.038863        -0.013591   \n",
              "Ease of Online booking             0.025931         0.065540   \n",
              "Gate location                     -0.001028         0.007160   \n",
              "Food and drink                     0.031748         0.055237   \n",
              "Online boarding                    0.209112         0.208922   \n",
              "Seat comfort                       0.163419         0.152125   \n",
              "Inflight entertainment             0.081442         0.125930   \n",
              "On-board service                   0.054551         0.106810   \n",
              "Leg room service                   0.033000         0.140368   \n",
              "Baggage handling                  -0.045930         0.065322   \n",
              "Checkin service                    0.049005         0.080569   \n",
              "Inflight service                  -0.054658         0.063892   \n",
              "Cleanliness                        0.060014         0.087993   \n",
              "Arrival Delay in Hrs              -0.012924        -0.005939   \n",
              "Departure Delay in Hrs            -0.007982        -0.001634   \n",
              "\n",
              "                                   Inflight wifi service  \\\n",
              "Age                                             0.025464   \n",
              "Flight Distance                                 0.002865   \n",
              "Inflight wifi service                           1.000000   \n",
              "Departure/Arrival time convenient               0.335815   \n",
              "Ease of Online booking                          0.711992   \n",
              "Gate location                                   0.330913   \n",
              "Food and drink                                  0.141366   \n",
              "Online boarding                                 0.459127   \n",
              "Seat comfort                                    0.132751   \n",
              "Inflight entertainment                          0.223864   \n",
              "On-board service                                0.125038   \n",
              "Leg room service                                0.169020   \n",
              "Baggage handling                                0.126053   \n",
              "Checkin service                                 0.054676   \n",
              "Inflight service                                0.116494   \n",
              "Cleanliness                                     0.142807   \n",
              "Arrival Delay in Hrs                           -0.015107   \n",
              "Departure Delay in Hrs                         -0.015648   \n",
              "\n",
              "                                   Departure/Arrival time convenient  \\\n",
              "Age                                                         0.038863   \n",
              "Flight Distance                                            -0.013591   \n",
              "Inflight wifi service                                       0.335815   \n",
              "Departure/Arrival time convenient                           1.000000   \n",
              "Ease of Online booking                                      0.432040   \n",
              "Gate location                                               0.441730   \n",
              "Food and drink                                              0.004273   \n",
              "Online boarding                                             0.072401   \n",
              "Seat comfort                                                0.012504   \n",
              "Inflight entertainment                                     -0.004316   \n",
              "On-board service                                            0.076101   \n",
              "Leg room service                                            0.017891   \n",
              "Baggage handling                                            0.065968   \n",
              "Checkin service                                             0.092213   \n",
              "Inflight service                                            0.068271   \n",
              "Cleanliness                                                 0.010942   \n",
              "Arrival Delay in Hrs                                        0.012299   \n",
              "Departure Delay in Hrs                                      0.012972   \n",
              "\n",
              "                                   Ease of Online booking  Gate location  \\\n",
              "Age                                              0.025931      -0.001028   \n",
              "Flight Distance                                  0.065540       0.007160   \n",
              "Inflight wifi service                            0.711992       0.330913   \n",
              "Departure/Arrival time convenient                0.432040       0.441730   \n",
              "Ease of Online booking                           1.000000       0.462349   \n",
              "Gate location                                    0.462349       1.000000   \n",
              "Food and drink                                   0.027078      -0.002411   \n",
              "Online boarding                                  0.397080       0.005800   \n",
              "Seat comfort                                     0.029291       0.008990   \n",
              "Inflight entertainment                           0.052386       0.010323   \n",
              "On-board service                                 0.043246      -0.018702   \n",
              "Leg room service                                 0.117278       0.003345   \n",
              "Baggage handling                                 0.037795       0.007781   \n",
              "Checkin service                                  0.018261      -0.029280   \n",
              "Inflight service                                 0.035347       0.005372   \n",
              "Cleanliness                                      0.015628      -0.008223   \n",
              "Arrival Delay in Hrs                            -0.000953       0.007110   \n",
              "Departure Delay in Hrs                          -0.000153       0.004866   \n",
              "\n",
              "                                   Food and drink  Online boarding  \\\n",
              "Age                                      0.031748         0.209112   \n",
              "Flight Distance                          0.055237         0.208922   \n",
              "Inflight wifi service                    0.141366         0.459127   \n",
              "Departure/Arrival time convenient        0.004273         0.072401   \n",
              "Ease of Online booking                   0.027078         0.397080   \n",
              "Gate location                           -0.002411         0.005800   \n",
              "Food and drink                           1.000000         0.238075   \n",
              "Online boarding                          0.238075         1.000000   \n",
              "Seat comfort                             0.573049         0.428145   \n",
              "Inflight entertainment                   0.615968         0.288326   \n",
              "On-board service                         0.057103         0.150135   \n",
              "Leg room service                         0.031327         0.129481   \n",
              "Baggage handling                         0.033069         0.082046   \n",
              "Checkin service                          0.097807         0.215807   \n",
              "Inflight service                         0.036219         0.075857   \n",
              "Cleanliness                              0.657993         0.345409   \n",
              "Arrival Delay in Hrs                    -0.031918        -0.014124   \n",
              "Departure Delay in Hrs                  -0.031362        -0.012986   \n",
              "\n",
              "                                   Seat comfort  Inflight entertainment  \\\n",
              "Age                                    0.163419                0.081442   \n",
              "Flight Distance                        0.152125                0.125930   \n",
              "Inflight wifi service                  0.132751                0.223864   \n",
              "Departure/Arrival time convenient      0.012504               -0.004316   \n",
              "Ease of Online booking                 0.029291                0.052386   \n",
              "Gate location                          0.008990                0.010323   \n",
              "Food and drink                         0.573049                0.615968   \n",
              "Online boarding                        0.428145                0.288326   \n",
              "Seat comfort                           1.000000                0.612165   \n",
              "Inflight entertainment                 0.612165                1.000000   \n",
              "On-board service                       0.135946                0.425516   \n",
              "Leg room service                       0.110634                0.304994   \n",
              "Baggage handling                       0.074059                0.382341   \n",
              "Checkin service                        0.198300                0.132444   \n",
              "Inflight service                       0.072242                0.410964   \n",
              "Cleanliness                            0.684670                0.682892   \n",
              "Arrival Delay in Hrs                  -0.029729               -0.029371   \n",
              "Departure Delay in Hrs                -0.030642               -0.026679   \n",
              "\n",
              "                                   On-board service  Leg room service  \\\n",
              "Age                                        0.054551          0.033000   \n",
              "Flight Distance                            0.106810          0.140368   \n",
              "Inflight wifi service                      0.125038          0.169020   \n",
              "Departure/Arrival time convenient          0.076101          0.017891   \n",
              "Ease of Online booking                     0.043246          0.117278   \n",
              "Gate location                             -0.018702          0.003345   \n",
              "Food and drink                             0.057103          0.031327   \n",
              "Online boarding                            0.150135          0.129481   \n",
              "Seat comfort                               0.135946          0.110634   \n",
              "Inflight entertainment                     0.425516          0.304994   \n",
              "On-board service                           1.000000          0.363710   \n",
              "Leg room service                           0.363710          1.000000   \n",
              "Baggage handling                           0.520325          0.374525   \n",
              "Checkin service                            0.248837          0.159364   \n",
              "Inflight service                           0.552825          0.379954   \n",
              "Cleanliness                                0.119044          0.092979   \n",
              "Arrival Delay in Hrs                      -0.034209          0.009528   \n",
              "Departure Delay in Hrs                    -0.032632          0.012969   \n",
              "\n",
              "                                   Baggage handling  Checkin service  \\\n",
              "Age                                       -0.045930         0.049005   \n",
              "Flight Distance                            0.065322         0.080569   \n",
              "Inflight wifi service                      0.126053         0.054676   \n",
              "Departure/Arrival time convenient          0.065968         0.092213   \n",
              "Ease of Online booking                     0.037795         0.018261   \n",
              "Gate location                              0.007781        -0.029280   \n",
              "Food and drink                             0.033069         0.097807   \n",
              "Online boarding                            0.082046         0.215807   \n",
              "Seat comfort                               0.074059         0.198300   \n",
              "Inflight entertainment                     0.382341         0.132444   \n",
              "On-board service                           0.520325         0.248837   \n",
              "Leg room service                           0.374525         0.159364   \n",
              "Baggage handling                           1.000000         0.238417   \n",
              "Checkin service                            0.238417         1.000000   \n",
              "Inflight service                           0.627836         0.241947   \n",
              "Cleanliness                                0.087928         0.183544   \n",
              "Arrival Delay in Hrs                      -0.018357        -0.022214   \n",
              "Departure Delay in Hrs                    -0.015807        -0.022563   \n",
              "\n",
              "                                   Inflight service  Cleanliness  \\\n",
              "Age                                       -0.054658     0.060014   \n",
              "Flight Distance                            0.063892     0.087993   \n",
              "Inflight wifi service                      0.116494     0.142807   \n",
              "Departure/Arrival time convenient          0.068271     0.010942   \n",
              "Ease of Online booking                     0.035347     0.015628   \n",
              "Gate location                              0.005372    -0.008223   \n",
              "Food and drink                             0.036219     0.657993   \n",
              "Online boarding                            0.075857     0.345409   \n",
              "Seat comfort                               0.072242     0.684670   \n",
              "Inflight entertainment                     0.410964     0.682892   \n",
              "On-board service                           0.552825     0.119044   \n",
              "Leg room service                           0.379954     0.092979   \n",
              "Baggage handling                           0.627836     0.087928   \n",
              "Checkin service                            0.241947     0.183544   \n",
              "Inflight service                           1.000000     0.085195   \n",
              "Cleanliness                                0.085195     1.000000   \n",
              "Arrival Delay in Hrs                      -0.063222    -0.014520   \n",
              "Departure Delay in Hrs                    -0.059255    -0.015379   \n",
              "\n",
              "                                   Arrival Delay in Hrs  \\\n",
              "Age                                           -0.012924   \n",
              "Flight Distance                               -0.005939   \n",
              "Inflight wifi service                         -0.015107   \n",
              "Departure/Arrival time convenient              0.012299   \n",
              "Ease of Online booking                        -0.000953   \n",
              "Gate location                                  0.007110   \n",
              "Food and drink                                -0.031918   \n",
              "Online boarding                               -0.014124   \n",
              "Seat comfort                                  -0.029729   \n",
              "Inflight entertainment                        -0.029371   \n",
              "On-board service                              -0.034209   \n",
              "Leg room service                               0.009528   \n",
              "Baggage handling                              -0.018357   \n",
              "Checkin service                               -0.022214   \n",
              "Inflight service                              -0.063222   \n",
              "Cleanliness                                   -0.014520   \n",
              "Arrival Delay in Hrs                           1.000000   \n",
              "Departure Delay in Hrs                         0.960855   \n",
              "\n",
              "                                   Departure Delay in Hrs  \n",
              "Age                                             -0.007982  \n",
              "Flight Distance                                 -0.001634  \n",
              "Inflight wifi service                           -0.015648  \n",
              "Departure/Arrival time convenient                0.012972  \n",
              "Ease of Online booking                          -0.000153  \n",
              "Gate location                                    0.004866  \n",
              "Food and drink                                  -0.031362  \n",
              "Online boarding                                 -0.012986  \n",
              "Seat comfort                                    -0.030642  \n",
              "Inflight entertainment                          -0.026679  \n",
              "On-board service                                -0.032632  \n",
              "Leg room service                                 0.012969  \n",
              "Baggage handling                                -0.015807  \n",
              "Checkin service                                 -0.022563  \n",
              "Inflight service                                -0.059255  \n",
              "Cleanliness                                     -0.015379  \n",
              "Arrival Delay in Hrs                             0.960855  \n",
              "Departure Delay in Hrs                           1.000000  "
            ],
            "text/html": [
              "\n",
              "  <div id=\"df-844a8081-eba3-4332-8760-fafe6a80538a\">\n",
              "    <div class=\"colab-df-container\">\n",
              "      <div>\n",
              "<style scoped>\n",
              "    .dataframe tbody tr th:only-of-type {\n",
              "        vertical-align: middle;\n",
              "    }\n",
              "\n",
              "    .dataframe tbody tr th {\n",
              "        vertical-align: top;\n",
              "    }\n",
              "\n",
              "    .dataframe thead th {\n",
              "        text-align: right;\n",
              "    }\n",
              "</style>\n",
              "<table border=\"1\" class=\"dataframe\">\n",
              "  <thead>\n",
              "    <tr style=\"text-align: right;\">\n",
              "      <th></th>\n",
              "      <th>Age</th>\n",
              "      <th>Flight Distance</th>\n",
              "      <th>Inflight wifi service</th>\n",
              "      <th>Departure/Arrival time convenient</th>\n",
              "      <th>Ease of Online booking</th>\n",
              "      <th>Gate location</th>\n",
              "      <th>Food and drink</th>\n",
              "      <th>Online boarding</th>\n",
              "      <th>Seat comfort</th>\n",
              "      <th>Inflight entertainment</th>\n",
              "      <th>On-board service</th>\n",
              "      <th>Leg room service</th>\n",
              "      <th>Baggage handling</th>\n",
              "      <th>Checkin service</th>\n",
              "      <th>Inflight service</th>\n",
              "      <th>Cleanliness</th>\n",
              "      <th>Arrival Delay in Hrs</th>\n",
              "      <th>Departure Delay in Hrs</th>\n",
              "    </tr>\n",
              "  </thead>\n",
              "  <tbody>\n",
              "    <tr>\n",
              "      <th>Age</th>\n",
              "      <td>1.000000</td>\n",
              "      <td>0.096859</td>\n",
              "      <td>0.025464</td>\n",
              "      <td>0.038863</td>\n",
              "      <td>0.025931</td>\n",
              "      <td>-0.001028</td>\n",
              "      <td>0.031748</td>\n",
              "      <td>0.209112</td>\n",
              "      <td>0.163419</td>\n",
              "      <td>0.081442</td>\n",
              "      <td>0.054551</td>\n",
              "      <td>0.033000</td>\n",
              "      <td>-0.045930</td>\n",
              "      <td>0.049005</td>\n",
              "      <td>-0.054658</td>\n",
              "      <td>0.060014</td>\n",
              "      <td>-0.012924</td>\n",
              "      <td>-0.007982</td>\n",
              "    </tr>\n",
              "    <tr>\n",
              "      <th>Flight Distance</th>\n",
              "      <td>0.096859</td>\n",
              "      <td>1.000000</td>\n",
              "      <td>0.002865</td>\n",
              "      <td>-0.013591</td>\n",
              "      <td>0.065540</td>\n",
              "      <td>0.007160</td>\n",
              "      <td>0.055237</td>\n",
              "      <td>0.208922</td>\n",
              "      <td>0.152125</td>\n",
              "      <td>0.125930</td>\n",
              "      <td>0.106810</td>\n",
              "      <td>0.140368</td>\n",
              "      <td>0.065322</td>\n",
              "      <td>0.080569</td>\n",
              "      <td>0.063892</td>\n",
              "      <td>0.087993</td>\n",
              "      <td>-0.005939</td>\n",
              "      <td>-0.001634</td>\n",
              "    </tr>\n",
              "    <tr>\n",
              "      <th>Inflight wifi service</th>\n",
              "      <td>0.025464</td>\n",
              "      <td>0.002865</td>\n",
              "      <td>1.000000</td>\n",
              "      <td>0.335815</td>\n",
              "      <td>0.711992</td>\n",
              "      <td>0.330913</td>\n",
              "      <td>0.141366</td>\n",
              "      <td>0.459127</td>\n",
              "      <td>0.132751</td>\n",
              "      <td>0.223864</td>\n",
              "      <td>0.125038</td>\n",
              "      <td>0.169020</td>\n",
              "      <td>0.126053</td>\n",
              "      <td>0.054676</td>\n",
              "      <td>0.116494</td>\n",
              "      <td>0.142807</td>\n",
              "      <td>-0.015107</td>\n",
              "      <td>-0.015648</td>\n",
              "    </tr>\n",
              "    <tr>\n",
              "      <th>Departure/Arrival time convenient</th>\n",
              "      <td>0.038863</td>\n",
              "      <td>-0.013591</td>\n",
              "      <td>0.335815</td>\n",
              "      <td>1.000000</td>\n",
              "      <td>0.432040</td>\n",
              "      <td>0.441730</td>\n",
              "      <td>0.004273</td>\n",
              "      <td>0.072401</td>\n",
              "      <td>0.012504</td>\n",
              "      <td>-0.004316</td>\n",
              "      <td>0.076101</td>\n",
              "      <td>0.017891</td>\n",
              "      <td>0.065968</td>\n",
              "      <td>0.092213</td>\n",
              "      <td>0.068271</td>\n",
              "      <td>0.010942</td>\n",
              "      <td>0.012299</td>\n",
              "      <td>0.012972</td>\n",
              "    </tr>\n",
              "    <tr>\n",
              "      <th>Ease of Online booking</th>\n",
              "      <td>0.025931</td>\n",
              "      <td>0.065540</td>\n",
              "      <td>0.711992</td>\n",
              "      <td>0.432040</td>\n",
              "      <td>1.000000</td>\n",
              "      <td>0.462349</td>\n",
              "      <td>0.027078</td>\n",
              "      <td>0.397080</td>\n",
              "      <td>0.029291</td>\n",
              "      <td>0.052386</td>\n",
              "      <td>0.043246</td>\n",
              "      <td>0.117278</td>\n",
              "      <td>0.037795</td>\n",
              "      <td>0.018261</td>\n",
              "      <td>0.035347</td>\n",
              "      <td>0.015628</td>\n",
              "      <td>-0.000953</td>\n",
              "      <td>-0.000153</td>\n",
              "    </tr>\n",
              "    <tr>\n",
              "      <th>Gate location</th>\n",
              "      <td>-0.001028</td>\n",
              "      <td>0.007160</td>\n",
              "      <td>0.330913</td>\n",
              "      <td>0.441730</td>\n",
              "      <td>0.462349</td>\n",
              "      <td>1.000000</td>\n",
              "      <td>-0.002411</td>\n",
              "      <td>0.005800</td>\n",
              "      <td>0.008990</td>\n",
              "      <td>0.010323</td>\n",
              "      <td>-0.018702</td>\n",
              "      <td>0.003345</td>\n",
              "      <td>0.007781</td>\n",
              "      <td>-0.029280</td>\n",
              "      <td>0.005372</td>\n",
              "      <td>-0.008223</td>\n",
              "      <td>0.007110</td>\n",
              "      <td>0.004866</td>\n",
              "    </tr>\n",
              "    <tr>\n",
              "      <th>Food and drink</th>\n",
              "      <td>0.031748</td>\n",
              "      <td>0.055237</td>\n",
              "      <td>0.141366</td>\n",
              "      <td>0.004273</td>\n",
              "      <td>0.027078</td>\n",
              "      <td>-0.002411</td>\n",
              "      <td>1.000000</td>\n",
              "      <td>0.238075</td>\n",
              "      <td>0.573049</td>\n",
              "      <td>0.615968</td>\n",
              "      <td>0.057103</td>\n",
              "      <td>0.031327</td>\n",
              "      <td>0.033069</td>\n",
              "      <td>0.097807</td>\n",
              "      <td>0.036219</td>\n",
              "      <td>0.657993</td>\n",
              "      <td>-0.031918</td>\n",
              "      <td>-0.031362</td>\n",
              "    </tr>\n",
              "    <tr>\n",
              "      <th>Online boarding</th>\n",
              "      <td>0.209112</td>\n",
              "      <td>0.208922</td>\n",
              "      <td>0.459127</td>\n",
              "      <td>0.072401</td>\n",
              "      <td>0.397080</td>\n",
              "      <td>0.005800</td>\n",
              "      <td>0.238075</td>\n",
              "      <td>1.000000</td>\n",
              "      <td>0.428145</td>\n",
              "      <td>0.288326</td>\n",
              "      <td>0.150135</td>\n",
              "      <td>0.129481</td>\n",
              "      <td>0.082046</td>\n",
              "      <td>0.215807</td>\n",
              "      <td>0.075857</td>\n",
              "      <td>0.345409</td>\n",
              "      <td>-0.014124</td>\n",
              "      <td>-0.012986</td>\n",
              "    </tr>\n",
              "    <tr>\n",
              "      <th>Seat comfort</th>\n",
              "      <td>0.163419</td>\n",
              "      <td>0.152125</td>\n",
              "      <td>0.132751</td>\n",
              "      <td>0.012504</td>\n",
              "      <td>0.029291</td>\n",
              "      <td>0.008990</td>\n",
              "      <td>0.573049</td>\n",
              "      <td>0.428145</td>\n",
              "      <td>1.000000</td>\n",
              "      <td>0.612165</td>\n",
              "      <td>0.135946</td>\n",
              "      <td>0.110634</td>\n",
              "      <td>0.074059</td>\n",
              "      <td>0.198300</td>\n",
              "      <td>0.072242</td>\n",
              "      <td>0.684670</td>\n",
              "      <td>-0.029729</td>\n",
              "      <td>-0.030642</td>\n",
              "    </tr>\n",
              "    <tr>\n",
              "      <th>Inflight entertainment</th>\n",
              "      <td>0.081442</td>\n",
              "      <td>0.125930</td>\n",
              "      <td>0.223864</td>\n",
              "      <td>-0.004316</td>\n",
              "      <td>0.052386</td>\n",
              "      <td>0.010323</td>\n",
              "      <td>0.615968</td>\n",
              "      <td>0.288326</td>\n",
              "      <td>0.612165</td>\n",
              "      <td>1.000000</td>\n",
              "      <td>0.425516</td>\n",
              "      <td>0.304994</td>\n",
              "      <td>0.382341</td>\n",
              "      <td>0.132444</td>\n",
              "      <td>0.410964</td>\n",
              "      <td>0.682892</td>\n",
              "      <td>-0.029371</td>\n",
              "      <td>-0.026679</td>\n",
              "    </tr>\n",
              "    <tr>\n",
              "      <th>On-board service</th>\n",
              "      <td>0.054551</td>\n",
              "      <td>0.106810</td>\n",
              "      <td>0.125038</td>\n",
              "      <td>0.076101</td>\n",
              "      <td>0.043246</td>\n",
              "      <td>-0.018702</td>\n",
              "      <td>0.057103</td>\n",
              "      <td>0.150135</td>\n",
              "      <td>0.135946</td>\n",
              "      <td>0.425516</td>\n",
              "      <td>1.000000</td>\n",
              "      <td>0.363710</td>\n",
              "      <td>0.520325</td>\n",
              "      <td>0.248837</td>\n",
              "      <td>0.552825</td>\n",
              "      <td>0.119044</td>\n",
              "      <td>-0.034209</td>\n",
              "      <td>-0.032632</td>\n",
              "    </tr>\n",
              "    <tr>\n",
              "      <th>Leg room service</th>\n",
              "      <td>0.033000</td>\n",
              "      <td>0.140368</td>\n",
              "      <td>0.169020</td>\n",
              "      <td>0.017891</td>\n",
              "      <td>0.117278</td>\n",
              "      <td>0.003345</td>\n",
              "      <td>0.031327</td>\n",
              "      <td>0.129481</td>\n",
              "      <td>0.110634</td>\n",
              "      <td>0.304994</td>\n",
              "      <td>0.363710</td>\n",
              "      <td>1.000000</td>\n",
              "      <td>0.374525</td>\n",
              "      <td>0.159364</td>\n",
              "      <td>0.379954</td>\n",
              "      <td>0.092979</td>\n",
              "      <td>0.009528</td>\n",
              "      <td>0.012969</td>\n",
              "    </tr>\n",
              "    <tr>\n",
              "      <th>Baggage handling</th>\n",
              "      <td>-0.045930</td>\n",
              "      <td>0.065322</td>\n",
              "      <td>0.126053</td>\n",
              "      <td>0.065968</td>\n",
              "      <td>0.037795</td>\n",
              "      <td>0.007781</td>\n",
              "      <td>0.033069</td>\n",
              "      <td>0.082046</td>\n",
              "      <td>0.074059</td>\n",
              "      <td>0.382341</td>\n",
              "      <td>0.520325</td>\n",
              "      <td>0.374525</td>\n",
              "      <td>1.000000</td>\n",
              "      <td>0.238417</td>\n",
              "      <td>0.627836</td>\n",
              "      <td>0.087928</td>\n",
              "      <td>-0.018357</td>\n",
              "      <td>-0.015807</td>\n",
              "    </tr>\n",
              "    <tr>\n",
              "      <th>Checkin service</th>\n",
              "      <td>0.049005</td>\n",
              "      <td>0.080569</td>\n",
              "      <td>0.054676</td>\n",
              "      <td>0.092213</td>\n",
              "      <td>0.018261</td>\n",
              "      <td>-0.029280</td>\n",
              "      <td>0.097807</td>\n",
              "      <td>0.215807</td>\n",
              "      <td>0.198300</td>\n",
              "      <td>0.132444</td>\n",
              "      <td>0.248837</td>\n",
              "      <td>0.159364</td>\n",
              "      <td>0.238417</td>\n",
              "      <td>1.000000</td>\n",
              "      <td>0.241947</td>\n",
              "      <td>0.183544</td>\n",
              "      <td>-0.022214</td>\n",
              "      <td>-0.022563</td>\n",
              "    </tr>\n",
              "    <tr>\n",
              "      <th>Inflight service</th>\n",
              "      <td>-0.054658</td>\n",
              "      <td>0.063892</td>\n",
              "      <td>0.116494</td>\n",
              "      <td>0.068271</td>\n",
              "      <td>0.035347</td>\n",
              "      <td>0.005372</td>\n",
              "      <td>0.036219</td>\n",
              "      <td>0.075857</td>\n",
              "      <td>0.072242</td>\n",
              "      <td>0.410964</td>\n",
              "      <td>0.552825</td>\n",
              "      <td>0.379954</td>\n",
              "      <td>0.627836</td>\n",
              "      <td>0.241947</td>\n",
              "      <td>1.000000</td>\n",
              "      <td>0.085195</td>\n",
              "      <td>-0.063222</td>\n",
              "      <td>-0.059255</td>\n",
              "    </tr>\n",
              "    <tr>\n",
              "      <th>Cleanliness</th>\n",
              "      <td>0.060014</td>\n",
              "      <td>0.087993</td>\n",
              "      <td>0.142807</td>\n",
              "      <td>0.010942</td>\n",
              "      <td>0.015628</td>\n",
              "      <td>-0.008223</td>\n",
              "      <td>0.657993</td>\n",
              "      <td>0.345409</td>\n",
              "      <td>0.684670</td>\n",
              "      <td>0.682892</td>\n",
              "      <td>0.119044</td>\n",
              "      <td>0.092979</td>\n",
              "      <td>0.087928</td>\n",
              "      <td>0.183544</td>\n",
              "      <td>0.085195</td>\n",
              "      <td>1.000000</td>\n",
              "      <td>-0.014520</td>\n",
              "      <td>-0.015379</td>\n",
              "    </tr>\n",
              "    <tr>\n",
              "      <th>Arrival Delay in Hrs</th>\n",
              "      <td>-0.012924</td>\n",
              "      <td>-0.005939</td>\n",
              "      <td>-0.015107</td>\n",
              "      <td>0.012299</td>\n",
              "      <td>-0.000953</td>\n",
              "      <td>0.007110</td>\n",
              "      <td>-0.031918</td>\n",
              "      <td>-0.014124</td>\n",
              "      <td>-0.029729</td>\n",
              "      <td>-0.029371</td>\n",
              "      <td>-0.034209</td>\n",
              "      <td>0.009528</td>\n",
              "      <td>-0.018357</td>\n",
              "      <td>-0.022214</td>\n",
              "      <td>-0.063222</td>\n",
              "      <td>-0.014520</td>\n",
              "      <td>1.000000</td>\n",
              "      <td>0.960855</td>\n",
              "    </tr>\n",
              "    <tr>\n",
              "      <th>Departure Delay in Hrs</th>\n",
              "      <td>-0.007982</td>\n",
              "      <td>-0.001634</td>\n",
              "      <td>-0.015648</td>\n",
              "      <td>0.012972</td>\n",
              "      <td>-0.000153</td>\n",
              "      <td>0.004866</td>\n",
              "      <td>-0.031362</td>\n",
              "      <td>-0.012986</td>\n",
              "      <td>-0.030642</td>\n",
              "      <td>-0.026679</td>\n",
              "      <td>-0.032632</td>\n",
              "      <td>0.012969</td>\n",
              "      <td>-0.015807</td>\n",
              "      <td>-0.022563</td>\n",
              "      <td>-0.059255</td>\n",
              "      <td>-0.015379</td>\n",
              "      <td>0.960855</td>\n",
              "      <td>1.000000</td>\n",
              "    </tr>\n",
              "  </tbody>\n",
              "</table>\n",
              "</div>\n",
              "      <button class=\"colab-df-convert\" onclick=\"convertToInteractive('df-844a8081-eba3-4332-8760-fafe6a80538a')\"\n",
              "              title=\"Convert this dataframe to an interactive table.\"\n",
              "              style=\"display:none;\">\n",
              "        \n",
              "  <svg xmlns=\"http://www.w3.org/2000/svg\" height=\"24px\"viewBox=\"0 0 24 24\"\n",
              "       width=\"24px\">\n",
              "    <path d=\"M0 0h24v24H0V0z\" fill=\"none\"/>\n",
              "    <path d=\"M18.56 5.44l.94 2.06.94-2.06 2.06-.94-2.06-.94-.94-2.06-.94 2.06-2.06.94zm-11 1L8.5 8.5l.94-2.06 2.06-.94-2.06-.94L8.5 2.5l-.94 2.06-2.06.94zm10 10l.94 2.06.94-2.06 2.06-.94-2.06-.94-.94-2.06-.94 2.06-2.06.94z\"/><path d=\"M17.41 7.96l-1.37-1.37c-.4-.4-.92-.59-1.43-.59-.52 0-1.04.2-1.43.59L10.3 9.45l-7.72 7.72c-.78.78-.78 2.05 0 2.83L4 21.41c.39.39.9.59 1.41.59.51 0 1.02-.2 1.41-.59l7.78-7.78 2.81-2.81c.8-.78.8-2.07 0-2.86zM5.41 20L4 18.59l7.72-7.72 1.47 1.35L5.41 20z\"/>\n",
              "  </svg>\n",
              "      </button>\n",
              "      \n",
              "  <style>\n",
              "    .colab-df-container {\n",
              "      display:flex;\n",
              "      flex-wrap:wrap;\n",
              "      gap: 12px;\n",
              "    }\n",
              "\n",
              "    .colab-df-convert {\n",
              "      background-color: #E8F0FE;\n",
              "      border: none;\n",
              "      border-radius: 50%;\n",
              "      cursor: pointer;\n",
              "      display: none;\n",
              "      fill: #1967D2;\n",
              "      height: 32px;\n",
              "      padding: 0 0 0 0;\n",
              "      width: 32px;\n",
              "    }\n",
              "\n",
              "    .colab-df-convert:hover {\n",
              "      background-color: #E2EBFA;\n",
              "      box-shadow: 0px 1px 2px rgba(60, 64, 67, 0.3), 0px 1px 3px 1px rgba(60, 64, 67, 0.15);\n",
              "      fill: #174EA6;\n",
              "    }\n",
              "\n",
              "    [theme=dark] .colab-df-convert {\n",
              "      background-color: #3B4455;\n",
              "      fill: #D2E3FC;\n",
              "    }\n",
              "\n",
              "    [theme=dark] .colab-df-convert:hover {\n",
              "      background-color: #434B5C;\n",
              "      box-shadow: 0px 1px 3px 1px rgba(0, 0, 0, 0.15);\n",
              "      filter: drop-shadow(0px 1px 2px rgba(0, 0, 0, 0.3));\n",
              "      fill: #FFFFFF;\n",
              "    }\n",
              "  </style>\n",
              "\n",
              "      <script>\n",
              "        const buttonEl =\n",
              "          document.querySelector('#df-844a8081-eba3-4332-8760-fafe6a80538a button.colab-df-convert');\n",
              "        buttonEl.style.display =\n",
              "          google.colab.kernel.accessAllowed ? 'block' : 'none';\n",
              "\n",
              "        async function convertToInteractive(key) {\n",
              "          const element = document.querySelector('#df-844a8081-eba3-4332-8760-fafe6a80538a');\n",
              "          const dataTable =\n",
              "            await google.colab.kernel.invokeFunction('convertToInteractive',\n",
              "                                                     [key], {});\n",
              "          if (!dataTable) return;\n",
              "\n",
              "          const docLinkHtml = 'Like what you see? Visit the ' +\n",
              "            '<a target=\"_blank\" href=https://colab.research.google.com/notebooks/data_table.ipynb>data table notebook</a>'\n",
              "            + ' to learn more about interactive tables.';\n",
              "          element.innerHTML = '';\n",
              "          dataTable['output_type'] = 'display_data';\n",
              "          await google.colab.output.renderOutput(dataTable, element);\n",
              "          const docLink = document.createElement('div');\n",
              "          docLink.innerHTML = docLinkHtml;\n",
              "          element.appendChild(docLink);\n",
              "        }\n",
              "      </script>\n",
              "    </div>\n",
              "  </div>\n",
              "  "
            ]
          },
          "metadata": {},
          "execution_count": 187
        }
      ],
      "source": [
        "test.corr()"
      ]
    },
    {
      "cell_type": "code",
      "execution_count": 188,
      "metadata": {
        "id": "zoctj4tU6BHv",
        "colab": {
          "base_uri": "https://localhost:8080/",
          "height": 868
        },
        "outputId": "cd6642b2-029f-4de9-a1c3-c30a36d89661"
      },
      "outputs": [
        {
          "output_type": "execute_result",
          "data": {
            "text/plain": [
              "                                        Age  Flight Distance  \\\n",
              "Age                                1.000000         0.100124   \n",
              "Flight Distance                    0.100124         1.000000   \n",
              "Inflight wifi service              0.015985         0.008168   \n",
              "Departure/Arrival time convenient  0.037954        -0.021642   \n",
              "Ease of Online booking             0.024568         0.065762   \n",
              "Gate location                     -0.001396         0.004204   \n",
              "Food and drink                     0.020834         0.057414   \n",
              "Online boarding                    0.208919         0.216329   \n",
              "Seat comfort                       0.159514         0.158617   \n",
              "Inflight entertainment             0.075221         0.129424   \n",
              "On-board service                   0.058371         0.110198   \n",
              "Leg room service                   0.042507         0.132303   \n",
              "Baggage handling                  -0.047916         0.062639   \n",
              "Checkin service                    0.032107         0.071191   \n",
              "Inflight service                  -0.048074         0.055933   \n",
              "Cleanliness                        0.052049         0.094402   \n",
              "Arrival Delay in Hrs              -0.011905        -0.001576   \n",
              "Departure Delay in Hrs            -0.010723         0.003119   \n",
              "\n",
              "                                   Inflight wifi service  \\\n",
              "Age                                             0.015985   \n",
              "Flight Distance                                 0.008168   \n",
              "Inflight wifi service                           1.000000   \n",
              "Departure/Arrival time convenient               0.345815   \n",
              "Ease of Online booking                          0.716820   \n",
              "Gate location                                   0.337559   \n",
              "Food and drink                                  0.133053   \n",
              "Online boarding                                 0.456428   \n",
              "Seat comfort                                    0.120125   \n",
              "Inflight entertainment                          0.205673   \n",
              "On-board service                                0.120613   \n",
              "Leg room service                                0.158338   \n",
              "Baggage handling                                0.119624   \n",
              "Checkin service                                 0.040306   \n",
              "Inflight service                                0.108901   \n",
              "Cleanliness                                     0.130169   \n",
              "Arrival Delay in Hrs                           -0.020017   \n",
              "Departure Delay in Hrs                         -0.017829   \n",
              "\n",
              "                                   Departure/Arrival time convenient  \\\n",
              "Age                                                         0.037954   \n",
              "Flight Distance                                            -0.021642   \n",
              "Inflight wifi service                                       0.345815   \n",
              "Departure/Arrival time convenient                           1.000000   \n",
              "Ease of Online booking                                      0.438179   \n",
              "Gate location                                               0.445502   \n",
              "Food and drink                                              0.005048   \n",
              "Online boarding                                             0.069544   \n",
              "Seat comfort                                                0.011039   \n",
              "Inflight entertainment                                     -0.005021   \n",
              "On-board service                                            0.067079   \n",
              "Leg room service                                            0.011074   \n",
              "Baggage handling                                            0.073657   \n",
              "Checkin service                                             0.093595   \n",
              "Inflight service                                            0.074568   \n",
              "Cleanliness                                                 0.015097   \n",
              "Arrival Delay in Hrs                                       -0.004287   \n",
              "Departure Delay in Hrs                                     -0.001987   \n",
              "\n",
              "                                   Ease of Online booking  Gate location  \\\n",
              "Age                                              0.024568      -0.001396   \n",
              "Flight Distance                                  0.065762       0.004204   \n",
              "Inflight wifi service                            0.716820       0.337559   \n",
              "Departure/Arrival time convenient                0.438179       0.445502   \n",
              "Ease of Online booking                           1.000000       0.457747   \n",
              "Gate location                                    0.457747       1.000000   \n",
              "Food and drink                                   0.033064      -0.000859   \n",
              "Online boarding                                  0.405808       0.000663   \n",
              "Seat comfort                                     0.030200       0.002331   \n",
              "Inflight entertainment                           0.045708       0.001801   \n",
              "On-board service                                 0.037738      -0.030787   \n",
              "Leg room service                                 0.105184      -0.008186   \n",
              "Baggage handling                                 0.039010       0.000933   \n",
              "Checkin service                                  0.009301      -0.036975   \n",
              "Inflight service                                 0.035261       0.000741   \n",
              "Cleanliness                                      0.016322      -0.002761   \n",
              "Arrival Delay in Hrs                            -0.009744       0.004690   \n",
              "Departure Delay in Hrs                          -0.007955       0.005622   \n",
              "\n",
              "                                   Food and drink  Online boarding  \\\n",
              "Age                                      0.020834         0.208919   \n",
              "Flight Distance                          0.057414         0.216329   \n",
              "Inflight wifi service                    0.133053         0.456428   \n",
              "Departure/Arrival time convenient        0.005048         0.069544   \n",
              "Ease of Online booking                   0.033064         0.405808   \n",
              "Gate location                           -0.000859         0.000663   \n",
              "Food and drink                           1.000000         0.233558   \n",
              "Online boarding                          0.233558         1.000000   \n",
              "Seat comfort                             0.574923         0.418222   \n",
              "Inflight entertainment                   0.624139         0.284233   \n",
              "On-board service                         0.059554         0.156759   \n",
              "Leg room service                         0.032789         0.122564   \n",
              "Baggage handling                         0.035144         0.083574   \n",
              "Checkin service                          0.084642         0.201613   \n",
              "Inflight service                         0.033400         0.074228   \n",
              "Cleanliness                              0.657690         0.328060   \n",
              "Arrival Delay in Hrs                    -0.032580        -0.023831   \n",
              "Departure Delay in Hrs                  -0.029532        -0.020490   \n",
              "\n",
              "                                   Seat comfort  Inflight entertainment  \\\n",
              "Age                                    0.159514                0.075221   \n",
              "Flight Distance                        0.158617                0.129424   \n",
              "Inflight wifi service                  0.120125                0.205673   \n",
              "Departure/Arrival time convenient      0.011039               -0.005021   \n",
              "Ease of Online booking                 0.030200                0.045708   \n",
              "Gate location                          0.002331                0.001801   \n",
              "Food and drink                         0.574923                0.624139   \n",
              "Online boarding                        0.418222                0.284233   \n",
              "Seat comfort                           1.000000                0.610177   \n",
              "Inflight entertainment                 0.610177                1.000000   \n",
              "On-board service                       0.130962                0.418800   \n",
              "Leg room service                       0.104274                0.298355   \n",
              "Baggage handling                       0.074639                0.377144   \n",
              "Checkin service                        0.190202                0.117905   \n",
              "Inflight service                       0.068417                0.403277   \n",
              "Cleanliness                            0.676994                0.694027   \n",
              "Arrival Delay in Hrs                  -0.029703               -0.030872   \n",
              "Departure Delay in Hrs                -0.027152               -0.027633   \n",
              "\n",
              "                                   On-board service  Leg room service  \\\n",
              "Age                                        0.058371          0.042507   \n",
              "Flight Distance                            0.110198          0.132303   \n",
              "Inflight wifi service                      0.120613          0.158338   \n",
              "Departure/Arrival time convenient          0.067079          0.011074   \n",
              "Ease of Online booking                     0.037738          0.105184   \n",
              "Gate location                             -0.030787         -0.008186   \n",
              "Food and drink                             0.059554          0.032789   \n",
              "Online boarding                            0.156759          0.122564   \n",
              "Seat comfort                               0.130962          0.104274   \n",
              "Inflight entertainment                     0.418800          0.298355   \n",
              "On-board service                           1.000000          0.353420   \n",
              "Leg room service                           0.353420          1.000000   \n",
              "Baggage handling                           0.518832          0.368279   \n",
              "Checkin service                            0.242669          0.151564   \n",
              "Inflight service                           0.550267          0.365783   \n",
              "Cleanliness                                0.124248          0.097221   \n",
              "Arrival Delay in Hrs                      -0.035316          0.012532   \n",
              "Departure Delay in Hrs                    -0.031276          0.014717   \n",
              "\n",
              "                                   Baggage handling  Checkin service  \\\n",
              "Age                                       -0.047916         0.032107   \n",
              "Flight Distance                            0.062639         0.071191   \n",
              "Inflight wifi service                      0.119624         0.040306   \n",
              "Departure/Arrival time convenient          0.073657         0.093595   \n",
              "Ease of Online booking                     0.039010         0.009301   \n",
              "Gate location                              0.000933        -0.036975   \n",
              "Food and drink                             0.035144         0.084642   \n",
              "Online boarding                            0.083574         0.201613   \n",
              "Seat comfort                               0.074639         0.190202   \n",
              "Inflight entertainment                     0.377144         0.117905   \n",
              "On-board service                           0.518832         0.242669   \n",
              "Leg room service                           0.368279         0.151564   \n",
              "Baggage handling                           1.000000         0.231761   \n",
              "Checkin service                            0.231761         1.000000   \n",
              "Inflight service                           0.628735         0.235962   \n",
              "Cleanliness                                0.097731         0.178548   \n",
              "Arrival Delay in Hrs                      -0.006011        -0.019798   \n",
              "Departure Delay in Hrs                    -0.002911        -0.017359   \n",
              "\n",
              "                                   Inflight service  Cleanliness  \\\n",
              "Age                                       -0.048074     0.052049   \n",
              "Flight Distance                            0.055933     0.094402   \n",
              "Inflight wifi service                      0.108901     0.130169   \n",
              "Departure/Arrival time convenient          0.074568     0.015097   \n",
              "Ease of Online booking                     0.035261     0.016322   \n",
              "Gate location                              0.000741    -0.002761   \n",
              "Food and drink                             0.033400     0.657690   \n",
              "Online boarding                            0.074228     0.328060   \n",
              "Seat comfort                               0.068417     0.676994   \n",
              "Inflight entertainment                     0.403277     0.694027   \n",
              "On-board service                           0.550267     0.124248   \n",
              "Leg room service                           0.365783     0.097221   \n",
              "Baggage handling                           0.628735     0.097731   \n",
              "Checkin service                            0.235962     0.178548   \n",
              "Inflight service                           1.000000     0.089631   \n",
              "Cleanliness                                0.089631     1.000000   \n",
              "Arrival Delay in Hrs                      -0.057846    -0.016006   \n",
              "Departure Delay in Hrs                    -0.053626    -0.013706   \n",
              "\n",
              "                                   Arrival Delay in Hrs  \\\n",
              "Age                                           -0.011905   \n",
              "Flight Distance                               -0.001576   \n",
              "Inflight wifi service                         -0.020017   \n",
              "Departure/Arrival time convenient             -0.004287   \n",
              "Ease of Online booking                        -0.009744   \n",
              "Gate location                                  0.004690   \n",
              "Food and drink                                -0.032580   \n",
              "Online boarding                               -0.023831   \n",
              "Seat comfort                                  -0.029703   \n",
              "Inflight entertainment                        -0.030872   \n",
              "On-board service                              -0.035316   \n",
              "Leg room service                               0.012532   \n",
              "Baggage handling                              -0.006011   \n",
              "Checkin service                               -0.019798   \n",
              "Inflight service                              -0.057846   \n",
              "Cleanliness                                   -0.016006   \n",
              "Arrival Delay in Hrs                           1.000000   \n",
              "Departure Delay in Hrs                         0.960109   \n",
              "\n",
              "                                   Departure Delay in Hrs  \n",
              "Age                                             -0.010723  \n",
              "Flight Distance                                  0.003119  \n",
              "Inflight wifi service                           -0.017829  \n",
              "Departure/Arrival time convenient               -0.001987  \n",
              "Ease of Online booking                          -0.007955  \n",
              "Gate location                                    0.005622  \n",
              "Food and drink                                  -0.029532  \n",
              "Online boarding                                 -0.020490  \n",
              "Seat comfort                                    -0.027152  \n",
              "Inflight entertainment                          -0.027633  \n",
              "On-board service                                -0.031276  \n",
              "Leg room service                                 0.014717  \n",
              "Baggage handling                                -0.002911  \n",
              "Checkin service                                 -0.017359  \n",
              "Inflight service                                -0.053626  \n",
              "Cleanliness                                     -0.013706  \n",
              "Arrival Delay in Hrs                             0.960109  \n",
              "Departure Delay in Hrs                           1.000000  "
            ],
            "text/html": [
              "\n",
              "  <div id=\"df-95574eb0-b5f5-42c3-8315-13cf46f46a45\">\n",
              "    <div class=\"colab-df-container\">\n",
              "      <div>\n",
              "<style scoped>\n",
              "    .dataframe tbody tr th:only-of-type {\n",
              "        vertical-align: middle;\n",
              "    }\n",
              "\n",
              "    .dataframe tbody tr th {\n",
              "        vertical-align: top;\n",
              "    }\n",
              "\n",
              "    .dataframe thead th {\n",
              "        text-align: right;\n",
              "    }\n",
              "</style>\n",
              "<table border=\"1\" class=\"dataframe\">\n",
              "  <thead>\n",
              "    <tr style=\"text-align: right;\">\n",
              "      <th></th>\n",
              "      <th>Age</th>\n",
              "      <th>Flight Distance</th>\n",
              "      <th>Inflight wifi service</th>\n",
              "      <th>Departure/Arrival time convenient</th>\n",
              "      <th>Ease of Online booking</th>\n",
              "      <th>Gate location</th>\n",
              "      <th>Food and drink</th>\n",
              "      <th>Online boarding</th>\n",
              "      <th>Seat comfort</th>\n",
              "      <th>Inflight entertainment</th>\n",
              "      <th>On-board service</th>\n",
              "      <th>Leg room service</th>\n",
              "      <th>Baggage handling</th>\n",
              "      <th>Checkin service</th>\n",
              "      <th>Inflight service</th>\n",
              "      <th>Cleanliness</th>\n",
              "      <th>Arrival Delay in Hrs</th>\n",
              "      <th>Departure Delay in Hrs</th>\n",
              "    </tr>\n",
              "  </thead>\n",
              "  <tbody>\n",
              "    <tr>\n",
              "      <th>Age</th>\n",
              "      <td>1.000000</td>\n",
              "      <td>0.100124</td>\n",
              "      <td>0.015985</td>\n",
              "      <td>0.037954</td>\n",
              "      <td>0.024568</td>\n",
              "      <td>-0.001396</td>\n",
              "      <td>0.020834</td>\n",
              "      <td>0.208919</td>\n",
              "      <td>0.159514</td>\n",
              "      <td>0.075221</td>\n",
              "      <td>0.058371</td>\n",
              "      <td>0.042507</td>\n",
              "      <td>-0.047916</td>\n",
              "      <td>0.032107</td>\n",
              "      <td>-0.048074</td>\n",
              "      <td>0.052049</td>\n",
              "      <td>-0.011905</td>\n",
              "      <td>-0.010723</td>\n",
              "    </tr>\n",
              "    <tr>\n",
              "      <th>Flight Distance</th>\n",
              "      <td>0.100124</td>\n",
              "      <td>1.000000</td>\n",
              "      <td>0.008168</td>\n",
              "      <td>-0.021642</td>\n",
              "      <td>0.065762</td>\n",
              "      <td>0.004204</td>\n",
              "      <td>0.057414</td>\n",
              "      <td>0.216329</td>\n",
              "      <td>0.158617</td>\n",
              "      <td>0.129424</td>\n",
              "      <td>0.110198</td>\n",
              "      <td>0.132303</td>\n",
              "      <td>0.062639</td>\n",
              "      <td>0.071191</td>\n",
              "      <td>0.055933</td>\n",
              "      <td>0.094402</td>\n",
              "      <td>-0.001576</td>\n",
              "      <td>0.003119</td>\n",
              "    </tr>\n",
              "    <tr>\n",
              "      <th>Inflight wifi service</th>\n",
              "      <td>0.015985</td>\n",
              "      <td>0.008168</td>\n",
              "      <td>1.000000</td>\n",
              "      <td>0.345815</td>\n",
              "      <td>0.716820</td>\n",
              "      <td>0.337559</td>\n",
              "      <td>0.133053</td>\n",
              "      <td>0.456428</td>\n",
              "      <td>0.120125</td>\n",
              "      <td>0.205673</td>\n",
              "      <td>0.120613</td>\n",
              "      <td>0.158338</td>\n",
              "      <td>0.119624</td>\n",
              "      <td>0.040306</td>\n",
              "      <td>0.108901</td>\n",
              "      <td>0.130169</td>\n",
              "      <td>-0.020017</td>\n",
              "      <td>-0.017829</td>\n",
              "    </tr>\n",
              "    <tr>\n",
              "      <th>Departure/Arrival time convenient</th>\n",
              "      <td>0.037954</td>\n",
              "      <td>-0.021642</td>\n",
              "      <td>0.345815</td>\n",
              "      <td>1.000000</td>\n",
              "      <td>0.438179</td>\n",
              "      <td>0.445502</td>\n",
              "      <td>0.005048</td>\n",
              "      <td>0.069544</td>\n",
              "      <td>0.011039</td>\n",
              "      <td>-0.005021</td>\n",
              "      <td>0.067079</td>\n",
              "      <td>0.011074</td>\n",
              "      <td>0.073657</td>\n",
              "      <td>0.093595</td>\n",
              "      <td>0.074568</td>\n",
              "      <td>0.015097</td>\n",
              "      <td>-0.004287</td>\n",
              "      <td>-0.001987</td>\n",
              "    </tr>\n",
              "    <tr>\n",
              "      <th>Ease of Online booking</th>\n",
              "      <td>0.024568</td>\n",
              "      <td>0.065762</td>\n",
              "      <td>0.716820</td>\n",
              "      <td>0.438179</td>\n",
              "      <td>1.000000</td>\n",
              "      <td>0.457747</td>\n",
              "      <td>0.033064</td>\n",
              "      <td>0.405808</td>\n",
              "      <td>0.030200</td>\n",
              "      <td>0.045708</td>\n",
              "      <td>0.037738</td>\n",
              "      <td>0.105184</td>\n",
              "      <td>0.039010</td>\n",
              "      <td>0.009301</td>\n",
              "      <td>0.035261</td>\n",
              "      <td>0.016322</td>\n",
              "      <td>-0.009744</td>\n",
              "      <td>-0.007955</td>\n",
              "    </tr>\n",
              "    <tr>\n",
              "      <th>Gate location</th>\n",
              "      <td>-0.001396</td>\n",
              "      <td>0.004204</td>\n",
              "      <td>0.337559</td>\n",
              "      <td>0.445502</td>\n",
              "      <td>0.457747</td>\n",
              "      <td>1.000000</td>\n",
              "      <td>-0.000859</td>\n",
              "      <td>0.000663</td>\n",
              "      <td>0.002331</td>\n",
              "      <td>0.001801</td>\n",
              "      <td>-0.030787</td>\n",
              "      <td>-0.008186</td>\n",
              "      <td>0.000933</td>\n",
              "      <td>-0.036975</td>\n",
              "      <td>0.000741</td>\n",
              "      <td>-0.002761</td>\n",
              "      <td>0.004690</td>\n",
              "      <td>0.005622</td>\n",
              "    </tr>\n",
              "    <tr>\n",
              "      <th>Food and drink</th>\n",
              "      <td>0.020834</td>\n",
              "      <td>0.057414</td>\n",
              "      <td>0.133053</td>\n",
              "      <td>0.005048</td>\n",
              "      <td>0.033064</td>\n",
              "      <td>-0.000859</td>\n",
              "      <td>1.000000</td>\n",
              "      <td>0.233558</td>\n",
              "      <td>0.574923</td>\n",
              "      <td>0.624139</td>\n",
              "      <td>0.059554</td>\n",
              "      <td>0.032789</td>\n",
              "      <td>0.035144</td>\n",
              "      <td>0.084642</td>\n",
              "      <td>0.033400</td>\n",
              "      <td>0.657690</td>\n",
              "      <td>-0.032580</td>\n",
              "      <td>-0.029532</td>\n",
              "    </tr>\n",
              "    <tr>\n",
              "      <th>Online boarding</th>\n",
              "      <td>0.208919</td>\n",
              "      <td>0.216329</td>\n",
              "      <td>0.456428</td>\n",
              "      <td>0.069544</td>\n",
              "      <td>0.405808</td>\n",
              "      <td>0.000663</td>\n",
              "      <td>0.233558</td>\n",
              "      <td>1.000000</td>\n",
              "      <td>0.418222</td>\n",
              "      <td>0.284233</td>\n",
              "      <td>0.156759</td>\n",
              "      <td>0.122564</td>\n",
              "      <td>0.083574</td>\n",
              "      <td>0.201613</td>\n",
              "      <td>0.074228</td>\n",
              "      <td>0.328060</td>\n",
              "      <td>-0.023831</td>\n",
              "      <td>-0.020490</td>\n",
              "    </tr>\n",
              "    <tr>\n",
              "      <th>Seat comfort</th>\n",
              "      <td>0.159514</td>\n",
              "      <td>0.158617</td>\n",
              "      <td>0.120125</td>\n",
              "      <td>0.011039</td>\n",
              "      <td>0.030200</td>\n",
              "      <td>0.002331</td>\n",
              "      <td>0.574923</td>\n",
              "      <td>0.418222</td>\n",
              "      <td>1.000000</td>\n",
              "      <td>0.610177</td>\n",
              "      <td>0.130962</td>\n",
              "      <td>0.104274</td>\n",
              "      <td>0.074639</td>\n",
              "      <td>0.190202</td>\n",
              "      <td>0.068417</td>\n",
              "      <td>0.676994</td>\n",
              "      <td>-0.029703</td>\n",
              "      <td>-0.027152</td>\n",
              "    </tr>\n",
              "    <tr>\n",
              "      <th>Inflight entertainment</th>\n",
              "      <td>0.075221</td>\n",
              "      <td>0.129424</td>\n",
              "      <td>0.205673</td>\n",
              "      <td>-0.005021</td>\n",
              "      <td>0.045708</td>\n",
              "      <td>0.001801</td>\n",
              "      <td>0.624139</td>\n",
              "      <td>0.284233</td>\n",
              "      <td>0.610177</td>\n",
              "      <td>1.000000</td>\n",
              "      <td>0.418800</td>\n",
              "      <td>0.298355</td>\n",
              "      <td>0.377144</td>\n",
              "      <td>0.117905</td>\n",
              "      <td>0.403277</td>\n",
              "      <td>0.694027</td>\n",
              "      <td>-0.030872</td>\n",
              "      <td>-0.027633</td>\n",
              "    </tr>\n",
              "    <tr>\n",
              "      <th>On-board service</th>\n",
              "      <td>0.058371</td>\n",
              "      <td>0.110198</td>\n",
              "      <td>0.120613</td>\n",
              "      <td>0.067079</td>\n",
              "      <td>0.037738</td>\n",
              "      <td>-0.030787</td>\n",
              "      <td>0.059554</td>\n",
              "      <td>0.156759</td>\n",
              "      <td>0.130962</td>\n",
              "      <td>0.418800</td>\n",
              "      <td>1.000000</td>\n",
              "      <td>0.353420</td>\n",
              "      <td>0.518832</td>\n",
              "      <td>0.242669</td>\n",
              "      <td>0.550267</td>\n",
              "      <td>0.124248</td>\n",
              "      <td>-0.035316</td>\n",
              "      <td>-0.031276</td>\n",
              "    </tr>\n",
              "    <tr>\n",
              "      <th>Leg room service</th>\n",
              "      <td>0.042507</td>\n",
              "      <td>0.132303</td>\n",
              "      <td>0.158338</td>\n",
              "      <td>0.011074</td>\n",
              "      <td>0.105184</td>\n",
              "      <td>-0.008186</td>\n",
              "      <td>0.032789</td>\n",
              "      <td>0.122564</td>\n",
              "      <td>0.104274</td>\n",
              "      <td>0.298355</td>\n",
              "      <td>0.353420</td>\n",
              "      <td>1.000000</td>\n",
              "      <td>0.368279</td>\n",
              "      <td>0.151564</td>\n",
              "      <td>0.365783</td>\n",
              "      <td>0.097221</td>\n",
              "      <td>0.012532</td>\n",
              "      <td>0.014717</td>\n",
              "    </tr>\n",
              "    <tr>\n",
              "      <th>Baggage handling</th>\n",
              "      <td>-0.047916</td>\n",
              "      <td>0.062639</td>\n",
              "      <td>0.119624</td>\n",
              "      <td>0.073657</td>\n",
              "      <td>0.039010</td>\n",
              "      <td>0.000933</td>\n",
              "      <td>0.035144</td>\n",
              "      <td>0.083574</td>\n",
              "      <td>0.074639</td>\n",
              "      <td>0.377144</td>\n",
              "      <td>0.518832</td>\n",
              "      <td>0.368279</td>\n",
              "      <td>1.000000</td>\n",
              "      <td>0.231761</td>\n",
              "      <td>0.628735</td>\n",
              "      <td>0.097731</td>\n",
              "      <td>-0.006011</td>\n",
              "      <td>-0.002911</td>\n",
              "    </tr>\n",
              "    <tr>\n",
              "      <th>Checkin service</th>\n",
              "      <td>0.032107</td>\n",
              "      <td>0.071191</td>\n",
              "      <td>0.040306</td>\n",
              "      <td>0.093595</td>\n",
              "      <td>0.009301</td>\n",
              "      <td>-0.036975</td>\n",
              "      <td>0.084642</td>\n",
              "      <td>0.201613</td>\n",
              "      <td>0.190202</td>\n",
              "      <td>0.117905</td>\n",
              "      <td>0.242669</td>\n",
              "      <td>0.151564</td>\n",
              "      <td>0.231761</td>\n",
              "      <td>1.000000</td>\n",
              "      <td>0.235962</td>\n",
              "      <td>0.178548</td>\n",
              "      <td>-0.019798</td>\n",
              "      <td>-0.017359</td>\n",
              "    </tr>\n",
              "    <tr>\n",
              "      <th>Inflight service</th>\n",
              "      <td>-0.048074</td>\n",
              "      <td>0.055933</td>\n",
              "      <td>0.108901</td>\n",
              "      <td>0.074568</td>\n",
              "      <td>0.035261</td>\n",
              "      <td>0.000741</td>\n",
              "      <td>0.033400</td>\n",
              "      <td>0.074228</td>\n",
              "      <td>0.068417</td>\n",
              "      <td>0.403277</td>\n",
              "      <td>0.550267</td>\n",
              "      <td>0.365783</td>\n",
              "      <td>0.628735</td>\n",
              "      <td>0.235962</td>\n",
              "      <td>1.000000</td>\n",
              "      <td>0.089631</td>\n",
              "      <td>-0.057846</td>\n",
              "      <td>-0.053626</td>\n",
              "    </tr>\n",
              "    <tr>\n",
              "      <th>Cleanliness</th>\n",
              "      <td>0.052049</td>\n",
              "      <td>0.094402</td>\n",
              "      <td>0.130169</td>\n",
              "      <td>0.015097</td>\n",
              "      <td>0.016322</td>\n",
              "      <td>-0.002761</td>\n",
              "      <td>0.657690</td>\n",
              "      <td>0.328060</td>\n",
              "      <td>0.676994</td>\n",
              "      <td>0.694027</td>\n",
              "      <td>0.124248</td>\n",
              "      <td>0.097221</td>\n",
              "      <td>0.097731</td>\n",
              "      <td>0.178548</td>\n",
              "      <td>0.089631</td>\n",
              "      <td>1.000000</td>\n",
              "      <td>-0.016006</td>\n",
              "      <td>-0.013706</td>\n",
              "    </tr>\n",
              "    <tr>\n",
              "      <th>Arrival Delay in Hrs</th>\n",
              "      <td>-0.011905</td>\n",
              "      <td>-0.001576</td>\n",
              "      <td>-0.020017</td>\n",
              "      <td>-0.004287</td>\n",
              "      <td>-0.009744</td>\n",
              "      <td>0.004690</td>\n",
              "      <td>-0.032580</td>\n",
              "      <td>-0.023831</td>\n",
              "      <td>-0.029703</td>\n",
              "      <td>-0.030872</td>\n",
              "      <td>-0.035316</td>\n",
              "      <td>0.012532</td>\n",
              "      <td>-0.006011</td>\n",
              "      <td>-0.019798</td>\n",
              "      <td>-0.057846</td>\n",
              "      <td>-0.016006</td>\n",
              "      <td>1.000000</td>\n",
              "      <td>0.960109</td>\n",
              "    </tr>\n",
              "    <tr>\n",
              "      <th>Departure Delay in Hrs</th>\n",
              "      <td>-0.010723</td>\n",
              "      <td>0.003119</td>\n",
              "      <td>-0.017829</td>\n",
              "      <td>-0.001987</td>\n",
              "      <td>-0.007955</td>\n",
              "      <td>0.005622</td>\n",
              "      <td>-0.029532</td>\n",
              "      <td>-0.020490</td>\n",
              "      <td>-0.027152</td>\n",
              "      <td>-0.027633</td>\n",
              "      <td>-0.031276</td>\n",
              "      <td>0.014717</td>\n",
              "      <td>-0.002911</td>\n",
              "      <td>-0.017359</td>\n",
              "      <td>-0.053626</td>\n",
              "      <td>-0.013706</td>\n",
              "      <td>0.960109</td>\n",
              "      <td>1.000000</td>\n",
              "    </tr>\n",
              "  </tbody>\n",
              "</table>\n",
              "</div>\n",
              "      <button class=\"colab-df-convert\" onclick=\"convertToInteractive('df-95574eb0-b5f5-42c3-8315-13cf46f46a45')\"\n",
              "              title=\"Convert this dataframe to an interactive table.\"\n",
              "              style=\"display:none;\">\n",
              "        \n",
              "  <svg xmlns=\"http://www.w3.org/2000/svg\" height=\"24px\"viewBox=\"0 0 24 24\"\n",
              "       width=\"24px\">\n",
              "    <path d=\"M0 0h24v24H0V0z\" fill=\"none\"/>\n",
              "    <path d=\"M18.56 5.44l.94 2.06.94-2.06 2.06-.94-2.06-.94-.94-2.06-.94 2.06-2.06.94zm-11 1L8.5 8.5l.94-2.06 2.06-.94-2.06-.94L8.5 2.5l-.94 2.06-2.06.94zm10 10l.94 2.06.94-2.06 2.06-.94-2.06-.94-.94-2.06-.94 2.06-2.06.94z\"/><path d=\"M17.41 7.96l-1.37-1.37c-.4-.4-.92-.59-1.43-.59-.52 0-1.04.2-1.43.59L10.3 9.45l-7.72 7.72c-.78.78-.78 2.05 0 2.83L4 21.41c.39.39.9.59 1.41.59.51 0 1.02-.2 1.41-.59l7.78-7.78 2.81-2.81c.8-.78.8-2.07 0-2.86zM5.41 20L4 18.59l7.72-7.72 1.47 1.35L5.41 20z\"/>\n",
              "  </svg>\n",
              "      </button>\n",
              "      \n",
              "  <style>\n",
              "    .colab-df-container {\n",
              "      display:flex;\n",
              "      flex-wrap:wrap;\n",
              "      gap: 12px;\n",
              "    }\n",
              "\n",
              "    .colab-df-convert {\n",
              "      background-color: #E8F0FE;\n",
              "      border: none;\n",
              "      border-radius: 50%;\n",
              "      cursor: pointer;\n",
              "      display: none;\n",
              "      fill: #1967D2;\n",
              "      height: 32px;\n",
              "      padding: 0 0 0 0;\n",
              "      width: 32px;\n",
              "    }\n",
              "\n",
              "    .colab-df-convert:hover {\n",
              "      background-color: #E2EBFA;\n",
              "      box-shadow: 0px 1px 2px rgba(60, 64, 67, 0.3), 0px 1px 3px 1px rgba(60, 64, 67, 0.15);\n",
              "      fill: #174EA6;\n",
              "    }\n",
              "\n",
              "    [theme=dark] .colab-df-convert {\n",
              "      background-color: #3B4455;\n",
              "      fill: #D2E3FC;\n",
              "    }\n",
              "\n",
              "    [theme=dark] .colab-df-convert:hover {\n",
              "      background-color: #434B5C;\n",
              "      box-shadow: 0px 1px 3px 1px rgba(0, 0, 0, 0.15);\n",
              "      filter: drop-shadow(0px 1px 2px rgba(0, 0, 0, 0.3));\n",
              "      fill: #FFFFFF;\n",
              "    }\n",
              "  </style>\n",
              "\n",
              "      <script>\n",
              "        const buttonEl =\n",
              "          document.querySelector('#df-95574eb0-b5f5-42c3-8315-13cf46f46a45 button.colab-df-convert');\n",
              "        buttonEl.style.display =\n",
              "          google.colab.kernel.accessAllowed ? 'block' : 'none';\n",
              "\n",
              "        async function convertToInteractive(key) {\n",
              "          const element = document.querySelector('#df-95574eb0-b5f5-42c3-8315-13cf46f46a45');\n",
              "          const dataTable =\n",
              "            await google.colab.kernel.invokeFunction('convertToInteractive',\n",
              "                                                     [key], {});\n",
              "          if (!dataTable) return;\n",
              "\n",
              "          const docLinkHtml = 'Like what you see? Visit the ' +\n",
              "            '<a target=\"_blank\" href=https://colab.research.google.com/notebooks/data_table.ipynb>data table notebook</a>'\n",
              "            + ' to learn more about interactive tables.';\n",
              "          element.innerHTML = '';\n",
              "          dataTable['output_type'] = 'display_data';\n",
              "          await google.colab.output.renderOutput(dataTable, element);\n",
              "          const docLink = document.createElement('div');\n",
              "          docLink.innerHTML = docLinkHtml;\n",
              "          element.appendChild(docLink);\n",
              "        }\n",
              "      </script>\n",
              "    </div>\n",
              "  </div>\n",
              "  "
            ]
          },
          "metadata": {},
          "execution_count": 188
        }
      ],
      "source": [
        "train.corr()"
      ]
    },
    {
      "cell_type": "code",
      "execution_count": 189,
      "metadata": {
        "id": "mtgOFM5CGodG",
        "colab": {
          "base_uri": "https://localhost:8080/"
        },
        "outputId": "ff9d1253-7c9a-4ce9-d9ef-601fee154cf6"
      },
      "outputs": [
        {
          "output_type": "execute_result",
          "data": {
            "text/plain": [
              "neutral or dissatisfied    47004\n",
              "satisfied                  36119\n",
              "Name: satisfaction, dtype: int64"
            ]
          },
          "metadata": {},
          "execution_count": 189
        }
      ],
      "source": [
        "train['satisfaction'].value_counts()"
      ]
    },
    {
      "cell_type": "code",
      "execution_count": 190,
      "metadata": {
        "id": "pQjOIgDZoJKa",
        "colab": {
          "base_uri": "https://localhost:8080/"
        },
        "outputId": "ff842be8-f2b6-4a50-ec01-0b5bc5b9554d"
      },
      "outputs": [
        {
          "output_type": "execute_result",
          "data": {
            "text/plain": [
              "Index(['Gender', 'Customer Type', 'Type of Travel', 'Class'], dtype='object')"
            ]
          },
          "metadata": {},
          "execution_count": 190
        }
      ],
      "source": [
        "test.select_dtypes(include = object).columns"
      ]
    },
    {
      "cell_type": "code",
      "execution_count": 191,
      "metadata": {
        "id": "sGF714g-Q6vG",
        "colab": {
          "base_uri": "https://localhost:8080/"
        },
        "outputId": "ab69557d-ccfd-4426-e609-457de8a04059"
      },
      "outputs": [
        {
          "output_type": "stream",
          "name": "stdout",
          "text": [
            "       Gender      Customer Type   Type of Travel     Class\n",
            "0        Male     Loyal Customer  Business travel       Eco\n",
            "1      Female     Loyal Customer  Business travel  Business\n",
            "2      Female     Loyal Customer  Personal Travel  Eco Plus\n",
            "3        Male  disloyal Customer  Business travel       Eco\n",
            "4        Male     Loyal Customer  Personal Travel  Business\n",
            "...       ...                ...              ...       ...\n",
            "20776    Male  disloyal Customer  Business travel       Eco\n",
            "20777    Male  disloyal Customer  Business travel  Business\n",
            "20778  Female     Loyal Customer  Business travel  Business\n",
            "20779    Male     Loyal Customer  Business travel       Eco\n",
            "20780  Female     Loyal Customer  Business travel  Business\n",
            "\n",
            "[20781 rows x 4 columns]\n",
            "       Gender      Customer Type   Type of Travel     Class  \\\n",
            "0      Female     Loyal Customer  Personal Travel       Eco   \n",
            "1      Female     Loyal Customer  Business travel       Eco   \n",
            "2        Male  disloyal Customer  Business travel       Eco   \n",
            "3      Female     Loyal Customer  Business travel  Business   \n",
            "4      Female  disloyal Customer  Business travel       Eco   \n",
            "...       ...                ...              ...       ...   \n",
            "83118  Female     Loyal Customer  Business travel  Business   \n",
            "83119  Female     Loyal Customer  Personal Travel       Eco   \n",
            "83120    Male     Loyal Customer  Business travel  Business   \n",
            "83121  Female  disloyal Customer  Business travel  Business   \n",
            "83122  Female     Loyal Customer  Business travel  Business   \n",
            "\n",
            "                  satisfaction  \n",
            "0      neutral or dissatisfied  \n",
            "1      neutral or dissatisfied  \n",
            "2                    satisfied  \n",
            "3                    satisfied  \n",
            "4                    satisfied  \n",
            "...                        ...  \n",
            "83118                satisfied  \n",
            "83119  neutral or dissatisfied  \n",
            "83120  neutral or dissatisfied  \n",
            "83121  neutral or dissatisfied  \n",
            "83122                satisfied  \n",
            "\n",
            "[83123 rows x 5 columns]\n"
          ]
        }
      ],
      "source": [
        "from sklearn.preprocessing import LabelEncoder\n",
        "\n",
        "le = LabelEncoder()\n",
        "\n",
        "Cat_cols = test.select_dtypes(include = object).columns\n",
        "print(test[Cat_cols])\n",
        "\n",
        "for i in Cat_cols:\n",
        "  test[i] = le.fit_transform(test[i])\n",
        "\n",
        "\n",
        "Cat_cols1 = train.select_dtypes(include = object).columns\n",
        "print(train[Cat_cols1])\n",
        "\n",
        "for i in Cat_cols1:\n",
        "  train[i] = le.fit_transform(train[i])\n"
      ]
    },
    {
      "cell_type": "code",
      "execution_count": 192,
      "metadata": {
        "id": "xom6dh2tJHeh",
        "colab": {
          "base_uri": "https://localhost:8080/",
          "height": 770
        },
        "outputId": "1bf15974-6936-48ea-d341-6c7305ce0e1c"
      },
      "outputs": [
        {
          "output_type": "execute_result",
          "data": {
            "text/plain": [
              "                                     count          mean       std       min  \\\n",
              "Gender                             83123.0  4.933171e-01  0.499958  0.000000   \n",
              "Customer Type                      83123.0  1.829578e-01  0.386634  0.000000   \n",
              "Age                                83123.0 -1.463860e-17  1.000006 -2.142543   \n",
              "Type of Travel                     83123.0  3.105398e-01  0.462717  0.000000   \n",
              "Class                              83123.0  5.943842e-01  0.620370  0.000000   \n",
              "Flight Distance                    83123.0  9.531118e-18  1.000006 -1.161273   \n",
              "Inflight wifi service              83123.0  1.307857e-16  1.000006 -2.054641   \n",
              "Departure/Arrival time convenient  83123.0 -2.581523e-17  1.000006 -2.005450   \n",
              "Ease of Online booking             83123.0 -1.468562e-16  1.000006 -1.967388   \n",
              "Gate location                      83123.0 -1.758342e-16  1.000006 -2.328323   \n",
              "Food and drink                     83123.0 -7.351356e-18  1.000006 -2.409132   \n",
              "Online boarding                    83123.0 -1.242037e-16  1.000006 -2.407913   \n",
              "Seat comfort                       83123.0  1.274093e-16  1.000006 -2.611519   \n",
              "Inflight entertainment             83123.0 -1.049064e-16  1.000006 -2.525012   \n",
              "On-board service                   83123.0  9.691395e-17  1.000006 -2.627515   \n",
              "Leg room service                   83123.0  5.205786e-17  1.000006 -2.551787   \n",
              "Baggage handling                   83123.0  3.068764e-17  1.000006 -2.234509   \n",
              "Checkin service                    83123.0  1.658329e-17  1.000006 -2.615712   \n",
              "Inflight service                   83123.0  1.676280e-16  1.000006 -3.105540   \n",
              "Cleanliness                        83123.0 -1.795099e-17  1.000006 -2.505687   \n",
              "satisfaction                       83123.0  4.345247e-01  0.495697  0.000000   \n",
              "Arrival Delay in Hrs               83123.0 -1.872031e-17  1.000006 -0.390871   \n",
              "Departure Delay in Hrs             83123.0  3.932121e-17  1.000006 -0.386199   \n",
              "\n",
              "                                        25%       50%       75%        max  \n",
              "Gender                             0.000000  0.000000  1.000000   1.000000  \n",
              "Customer Type                      0.000000  0.000000  0.000000   1.000000  \n",
              "Age                               -0.817987  0.042975  0.771481   3.023226  \n",
              "Type of Travel                     0.000000  0.000000  1.000000   1.000000  \n",
              "Class                              0.000000  1.000000  1.000000   2.000000  \n",
              "Flight Distance                   -0.778751 -0.347161  0.554070   3.797501  \n",
              "Inflight wifi service             -0.550816  0.201097  0.953009   1.704922  \n",
              "Departure/Arrival time convenient -0.695669 -0.040779  0.614111   1.269001  \n",
              "Ease of Online booking            -0.539875  0.173882  0.887638   1.601395  \n",
              "Gate location                     -0.764671  0.017156  0.798982   1.580809  \n",
              "Food and drink                    -0.905908 -0.154296  0.597317   1.348929  \n",
              "Online boarding                   -0.927415 -0.187166  0.553083   1.293332  \n",
              "Seat comfort                      -1.094424  0.422671  1.181218   1.181218  \n",
              "Inflight entertainment            -1.023366  0.478280  0.478280   1.229103  \n",
              "On-board service                  -1.074443  0.478629  0.478629   1.255165  \n",
              "Leg room service                  -1.028972  0.493844  0.493844   1.255251  \n",
              "Baggage handling                  -0.538045  0.310187  1.158420   1.158420  \n",
              "Checkin service                   -0.243682 -0.243682  0.546995   1.337672  \n",
              "Inflight service                  -0.548744  0.303521  1.155787   1.155787  \n",
              "Cleanliness                       -0.983099 -0.221804  0.539490   1.300785  \n",
              "satisfaction                       0.000000  0.000000  1.000000   1.000000  \n",
              "Arrival Delay in Hrs              -0.390871 -0.390871 -0.047345  40.832252  \n",
              "Departure Delay in Hrs            -0.386199 -0.386199 -0.071306  41.384409  "
            ],
            "text/html": [
              "\n",
              "  <div id=\"df-aa6ab6c9-c59e-4a38-ac56-57711b400ae6\">\n",
              "    <div class=\"colab-df-container\">\n",
              "      <div>\n",
              "<style scoped>\n",
              "    .dataframe tbody tr th:only-of-type {\n",
              "        vertical-align: middle;\n",
              "    }\n",
              "\n",
              "    .dataframe tbody tr th {\n",
              "        vertical-align: top;\n",
              "    }\n",
              "\n",
              "    .dataframe thead th {\n",
              "        text-align: right;\n",
              "    }\n",
              "</style>\n",
              "<table border=\"1\" class=\"dataframe\">\n",
              "  <thead>\n",
              "    <tr style=\"text-align: right;\">\n",
              "      <th></th>\n",
              "      <th>count</th>\n",
              "      <th>mean</th>\n",
              "      <th>std</th>\n",
              "      <th>min</th>\n",
              "      <th>25%</th>\n",
              "      <th>50%</th>\n",
              "      <th>75%</th>\n",
              "      <th>max</th>\n",
              "    </tr>\n",
              "  </thead>\n",
              "  <tbody>\n",
              "    <tr>\n",
              "      <th>Gender</th>\n",
              "      <td>83123.0</td>\n",
              "      <td>4.933171e-01</td>\n",
              "      <td>0.499958</td>\n",
              "      <td>0.000000</td>\n",
              "      <td>0.000000</td>\n",
              "      <td>0.000000</td>\n",
              "      <td>1.000000</td>\n",
              "      <td>1.000000</td>\n",
              "    </tr>\n",
              "    <tr>\n",
              "      <th>Customer Type</th>\n",
              "      <td>83123.0</td>\n",
              "      <td>1.829578e-01</td>\n",
              "      <td>0.386634</td>\n",
              "      <td>0.000000</td>\n",
              "      <td>0.000000</td>\n",
              "      <td>0.000000</td>\n",
              "      <td>0.000000</td>\n",
              "      <td>1.000000</td>\n",
              "    </tr>\n",
              "    <tr>\n",
              "      <th>Age</th>\n",
              "      <td>83123.0</td>\n",
              "      <td>-1.463860e-17</td>\n",
              "      <td>1.000006</td>\n",
              "      <td>-2.142543</td>\n",
              "      <td>-0.817987</td>\n",
              "      <td>0.042975</td>\n",
              "      <td>0.771481</td>\n",
              "      <td>3.023226</td>\n",
              "    </tr>\n",
              "    <tr>\n",
              "      <th>Type of Travel</th>\n",
              "      <td>83123.0</td>\n",
              "      <td>3.105398e-01</td>\n",
              "      <td>0.462717</td>\n",
              "      <td>0.000000</td>\n",
              "      <td>0.000000</td>\n",
              "      <td>0.000000</td>\n",
              "      <td>1.000000</td>\n",
              "      <td>1.000000</td>\n",
              "    </tr>\n",
              "    <tr>\n",
              "      <th>Class</th>\n",
              "      <td>83123.0</td>\n",
              "      <td>5.943842e-01</td>\n",
              "      <td>0.620370</td>\n",
              "      <td>0.000000</td>\n",
              "      <td>0.000000</td>\n",
              "      <td>1.000000</td>\n",
              "      <td>1.000000</td>\n",
              "      <td>2.000000</td>\n",
              "    </tr>\n",
              "    <tr>\n",
              "      <th>Flight Distance</th>\n",
              "      <td>83123.0</td>\n",
              "      <td>9.531118e-18</td>\n",
              "      <td>1.000006</td>\n",
              "      <td>-1.161273</td>\n",
              "      <td>-0.778751</td>\n",
              "      <td>-0.347161</td>\n",
              "      <td>0.554070</td>\n",
              "      <td>3.797501</td>\n",
              "    </tr>\n",
              "    <tr>\n",
              "      <th>Inflight wifi service</th>\n",
              "      <td>83123.0</td>\n",
              "      <td>1.307857e-16</td>\n",
              "      <td>1.000006</td>\n",
              "      <td>-2.054641</td>\n",
              "      <td>-0.550816</td>\n",
              "      <td>0.201097</td>\n",
              "      <td>0.953009</td>\n",
              "      <td>1.704922</td>\n",
              "    </tr>\n",
              "    <tr>\n",
              "      <th>Departure/Arrival time convenient</th>\n",
              "      <td>83123.0</td>\n",
              "      <td>-2.581523e-17</td>\n",
              "      <td>1.000006</td>\n",
              "      <td>-2.005450</td>\n",
              "      <td>-0.695669</td>\n",
              "      <td>-0.040779</td>\n",
              "      <td>0.614111</td>\n",
              "      <td>1.269001</td>\n",
              "    </tr>\n",
              "    <tr>\n",
              "      <th>Ease of Online booking</th>\n",
              "      <td>83123.0</td>\n",
              "      <td>-1.468562e-16</td>\n",
              "      <td>1.000006</td>\n",
              "      <td>-1.967388</td>\n",
              "      <td>-0.539875</td>\n",
              "      <td>0.173882</td>\n",
              "      <td>0.887638</td>\n",
              "      <td>1.601395</td>\n",
              "    </tr>\n",
              "    <tr>\n",
              "      <th>Gate location</th>\n",
              "      <td>83123.0</td>\n",
              "      <td>-1.758342e-16</td>\n",
              "      <td>1.000006</td>\n",
              "      <td>-2.328323</td>\n",
              "      <td>-0.764671</td>\n",
              "      <td>0.017156</td>\n",
              "      <td>0.798982</td>\n",
              "      <td>1.580809</td>\n",
              "    </tr>\n",
              "    <tr>\n",
              "      <th>Food and drink</th>\n",
              "      <td>83123.0</td>\n",
              "      <td>-7.351356e-18</td>\n",
              "      <td>1.000006</td>\n",
              "      <td>-2.409132</td>\n",
              "      <td>-0.905908</td>\n",
              "      <td>-0.154296</td>\n",
              "      <td>0.597317</td>\n",
              "      <td>1.348929</td>\n",
              "    </tr>\n",
              "    <tr>\n",
              "      <th>Online boarding</th>\n",
              "      <td>83123.0</td>\n",
              "      <td>-1.242037e-16</td>\n",
              "      <td>1.000006</td>\n",
              "      <td>-2.407913</td>\n",
              "      <td>-0.927415</td>\n",
              "      <td>-0.187166</td>\n",
              "      <td>0.553083</td>\n",
              "      <td>1.293332</td>\n",
              "    </tr>\n",
              "    <tr>\n",
              "      <th>Seat comfort</th>\n",
              "      <td>83123.0</td>\n",
              "      <td>1.274093e-16</td>\n",
              "      <td>1.000006</td>\n",
              "      <td>-2.611519</td>\n",
              "      <td>-1.094424</td>\n",
              "      <td>0.422671</td>\n",
              "      <td>1.181218</td>\n",
              "      <td>1.181218</td>\n",
              "    </tr>\n",
              "    <tr>\n",
              "      <th>Inflight entertainment</th>\n",
              "      <td>83123.0</td>\n",
              "      <td>-1.049064e-16</td>\n",
              "      <td>1.000006</td>\n",
              "      <td>-2.525012</td>\n",
              "      <td>-1.023366</td>\n",
              "      <td>0.478280</td>\n",
              "      <td>0.478280</td>\n",
              "      <td>1.229103</td>\n",
              "    </tr>\n",
              "    <tr>\n",
              "      <th>On-board service</th>\n",
              "      <td>83123.0</td>\n",
              "      <td>9.691395e-17</td>\n",
              "      <td>1.000006</td>\n",
              "      <td>-2.627515</td>\n",
              "      <td>-1.074443</td>\n",
              "      <td>0.478629</td>\n",
              "      <td>0.478629</td>\n",
              "      <td>1.255165</td>\n",
              "    </tr>\n",
              "    <tr>\n",
              "      <th>Leg room service</th>\n",
              "      <td>83123.0</td>\n",
              "      <td>5.205786e-17</td>\n",
              "      <td>1.000006</td>\n",
              "      <td>-2.551787</td>\n",
              "      <td>-1.028972</td>\n",
              "      <td>0.493844</td>\n",
              "      <td>0.493844</td>\n",
              "      <td>1.255251</td>\n",
              "    </tr>\n",
              "    <tr>\n",
              "      <th>Baggage handling</th>\n",
              "      <td>83123.0</td>\n",
              "      <td>3.068764e-17</td>\n",
              "      <td>1.000006</td>\n",
              "      <td>-2.234509</td>\n",
              "      <td>-0.538045</td>\n",
              "      <td>0.310187</td>\n",
              "      <td>1.158420</td>\n",
              "      <td>1.158420</td>\n",
              "    </tr>\n",
              "    <tr>\n",
              "      <th>Checkin service</th>\n",
              "      <td>83123.0</td>\n",
              "      <td>1.658329e-17</td>\n",
              "      <td>1.000006</td>\n",
              "      <td>-2.615712</td>\n",
              "      <td>-0.243682</td>\n",
              "      <td>-0.243682</td>\n",
              "      <td>0.546995</td>\n",
              "      <td>1.337672</td>\n",
              "    </tr>\n",
              "    <tr>\n",
              "      <th>Inflight service</th>\n",
              "      <td>83123.0</td>\n",
              "      <td>1.676280e-16</td>\n",
              "      <td>1.000006</td>\n",
              "      <td>-3.105540</td>\n",
              "      <td>-0.548744</td>\n",
              "      <td>0.303521</td>\n",
              "      <td>1.155787</td>\n",
              "      <td>1.155787</td>\n",
              "    </tr>\n",
              "    <tr>\n",
              "      <th>Cleanliness</th>\n",
              "      <td>83123.0</td>\n",
              "      <td>-1.795099e-17</td>\n",
              "      <td>1.000006</td>\n",
              "      <td>-2.505687</td>\n",
              "      <td>-0.983099</td>\n",
              "      <td>-0.221804</td>\n",
              "      <td>0.539490</td>\n",
              "      <td>1.300785</td>\n",
              "    </tr>\n",
              "    <tr>\n",
              "      <th>satisfaction</th>\n",
              "      <td>83123.0</td>\n",
              "      <td>4.345247e-01</td>\n",
              "      <td>0.495697</td>\n",
              "      <td>0.000000</td>\n",
              "      <td>0.000000</td>\n",
              "      <td>0.000000</td>\n",
              "      <td>1.000000</td>\n",
              "      <td>1.000000</td>\n",
              "    </tr>\n",
              "    <tr>\n",
              "      <th>Arrival Delay in Hrs</th>\n",
              "      <td>83123.0</td>\n",
              "      <td>-1.872031e-17</td>\n",
              "      <td>1.000006</td>\n",
              "      <td>-0.390871</td>\n",
              "      <td>-0.390871</td>\n",
              "      <td>-0.390871</td>\n",
              "      <td>-0.047345</td>\n",
              "      <td>40.832252</td>\n",
              "    </tr>\n",
              "    <tr>\n",
              "      <th>Departure Delay in Hrs</th>\n",
              "      <td>83123.0</td>\n",
              "      <td>3.932121e-17</td>\n",
              "      <td>1.000006</td>\n",
              "      <td>-0.386199</td>\n",
              "      <td>-0.386199</td>\n",
              "      <td>-0.386199</td>\n",
              "      <td>-0.071306</td>\n",
              "      <td>41.384409</td>\n",
              "    </tr>\n",
              "  </tbody>\n",
              "</table>\n",
              "</div>\n",
              "      <button class=\"colab-df-convert\" onclick=\"convertToInteractive('df-aa6ab6c9-c59e-4a38-ac56-57711b400ae6')\"\n",
              "              title=\"Convert this dataframe to an interactive table.\"\n",
              "              style=\"display:none;\">\n",
              "        \n",
              "  <svg xmlns=\"http://www.w3.org/2000/svg\" height=\"24px\"viewBox=\"0 0 24 24\"\n",
              "       width=\"24px\">\n",
              "    <path d=\"M0 0h24v24H0V0z\" fill=\"none\"/>\n",
              "    <path d=\"M18.56 5.44l.94 2.06.94-2.06 2.06-.94-2.06-.94-.94-2.06-.94 2.06-2.06.94zm-11 1L8.5 8.5l.94-2.06 2.06-.94-2.06-.94L8.5 2.5l-.94 2.06-2.06.94zm10 10l.94 2.06.94-2.06 2.06-.94-2.06-.94-.94-2.06-.94 2.06-2.06.94z\"/><path d=\"M17.41 7.96l-1.37-1.37c-.4-.4-.92-.59-1.43-.59-.52 0-1.04.2-1.43.59L10.3 9.45l-7.72 7.72c-.78.78-.78 2.05 0 2.83L4 21.41c.39.39.9.59 1.41.59.51 0 1.02-.2 1.41-.59l7.78-7.78 2.81-2.81c.8-.78.8-2.07 0-2.86zM5.41 20L4 18.59l7.72-7.72 1.47 1.35L5.41 20z\"/>\n",
              "  </svg>\n",
              "      </button>\n",
              "      \n",
              "  <style>\n",
              "    .colab-df-container {\n",
              "      display:flex;\n",
              "      flex-wrap:wrap;\n",
              "      gap: 12px;\n",
              "    }\n",
              "\n",
              "    .colab-df-convert {\n",
              "      background-color: #E8F0FE;\n",
              "      border: none;\n",
              "      border-radius: 50%;\n",
              "      cursor: pointer;\n",
              "      display: none;\n",
              "      fill: #1967D2;\n",
              "      height: 32px;\n",
              "      padding: 0 0 0 0;\n",
              "      width: 32px;\n",
              "    }\n",
              "\n",
              "    .colab-df-convert:hover {\n",
              "      background-color: #E2EBFA;\n",
              "      box-shadow: 0px 1px 2px rgba(60, 64, 67, 0.3), 0px 1px 3px 1px rgba(60, 64, 67, 0.15);\n",
              "      fill: #174EA6;\n",
              "    }\n",
              "\n",
              "    [theme=dark] .colab-df-convert {\n",
              "      background-color: #3B4455;\n",
              "      fill: #D2E3FC;\n",
              "    }\n",
              "\n",
              "    [theme=dark] .colab-df-convert:hover {\n",
              "      background-color: #434B5C;\n",
              "      box-shadow: 0px 1px 3px 1px rgba(0, 0, 0, 0.15);\n",
              "      filter: drop-shadow(0px 1px 2px rgba(0, 0, 0, 0.3));\n",
              "      fill: #FFFFFF;\n",
              "    }\n",
              "  </style>\n",
              "\n",
              "      <script>\n",
              "        const buttonEl =\n",
              "          document.querySelector('#df-aa6ab6c9-c59e-4a38-ac56-57711b400ae6 button.colab-df-convert');\n",
              "        buttonEl.style.display =\n",
              "          google.colab.kernel.accessAllowed ? 'block' : 'none';\n",
              "\n",
              "        async function convertToInteractive(key) {\n",
              "          const element = document.querySelector('#df-aa6ab6c9-c59e-4a38-ac56-57711b400ae6');\n",
              "          const dataTable =\n",
              "            await google.colab.kernel.invokeFunction('convertToInteractive',\n",
              "                                                     [key], {});\n",
              "          if (!dataTable) return;\n",
              "\n",
              "          const docLinkHtml = 'Like what you see? Visit the ' +\n",
              "            '<a target=\"_blank\" href=https://colab.research.google.com/notebooks/data_table.ipynb>data table notebook</a>'\n",
              "            + ' to learn more about interactive tables.';\n",
              "          element.innerHTML = '';\n",
              "          dataTable['output_type'] = 'display_data';\n",
              "          await google.colab.output.renderOutput(dataTable, element);\n",
              "          const docLink = document.createElement('div');\n",
              "          docLink.innerHTML = docLinkHtml;\n",
              "          element.appendChild(docLink);\n",
              "        }\n",
              "      </script>\n",
              "    </div>\n",
              "  </div>\n",
              "  "
            ]
          },
          "metadata": {},
          "execution_count": 192
        }
      ],
      "source": [
        "train.describe().T"
      ]
    },
    {
      "cell_type": "code",
      "execution_count": 193,
      "metadata": {
        "id": "Zmz4TZzrGV8C",
        "colab": {
          "base_uri": "https://localhost:8080/"
        },
        "outputId": "61a1e178-606f-464a-896e-7f22ca64c2e4"
      },
      "outputs": [
        {
          "output_type": "execute_result",
          "data": {
            "text/plain": [
              "0    47004\n",
              "1    36119\n",
              "Name: satisfaction, dtype: int64"
            ]
          },
          "metadata": {},
          "execution_count": 193
        }
      ],
      "source": [
        "train['satisfaction'].value_counts()"
      ]
    },
    {
      "cell_type": "code",
      "execution_count": 194,
      "metadata": {
        "id": "knauC29lw20S",
        "colab": {
          "base_uri": "https://localhost:8080/"
        },
        "outputId": "e36a27b0-0816-4860-da64-c65b38d28f4d"
      },
      "outputs": [
        {
          "output_type": "execute_result",
          "data": {
            "text/plain": [
              "Index(['Gender', 'Customer Type', 'Age', 'Type of Travel', 'Class',\n",
              "       'Flight Distance', 'Inflight wifi service',\n",
              "       'Departure/Arrival time convenient', 'Ease of Online booking',\n",
              "       'Gate location', 'Food and drink', 'Online boarding', 'Seat comfort',\n",
              "       'Inflight entertainment', 'On-board service', 'Leg room service',\n",
              "       'Baggage handling', 'Checkin service', 'Inflight service',\n",
              "       'Cleanliness', 'Arrival Delay in Hrs', 'Departure Delay in Hrs'],\n",
              "      dtype='object')"
            ]
          },
          "metadata": {},
          "execution_count": 194
        }
      ],
      "source": [
        "test.select_dtypes(exclude = object).columns"
      ]
    },
    {
      "cell_type": "code",
      "execution_count": 195,
      "metadata": {
        "id": "27N1eH8Z6A3H",
        "colab": {
          "base_uri": "https://localhost:8080/"
        },
        "outputId": "97c6c269-d187-40ed-8bff-f3b51564ece5"
      },
      "outputs": [
        {
          "output_type": "execute_result",
          "data": {
            "text/plain": [
              "0    47004\n",
              "1    36119\n",
              "Name: satisfaction, dtype: int64"
            ]
          },
          "metadata": {},
          "execution_count": 195
        }
      ],
      "source": [
        "train['satisfaction'].value_counts()"
      ]
    },
    {
      "cell_type": "code",
      "execution_count": 196,
      "metadata": {
        "id": "s4txTiN-6Ayy",
        "colab": {
          "base_uri": "https://localhost:8080/"
        },
        "outputId": "c03a8552-eaac-4b0b-82a5-3e27236e9a68"
      },
      "outputs": [
        {
          "output_type": "execute_result",
          "data": {
            "text/plain": [
              "0    10610\n",
              "1    10171\n",
              "Name: Gender, dtype: int64"
            ]
          },
          "metadata": {},
          "execution_count": 196
        }
      ],
      "source": [
        "test['Gender'].value_counts()"
      ]
    },
    {
      "cell_type": "code",
      "execution_count": 197,
      "metadata": {
        "id": "0Kk20fsp6Auj",
        "colab": {
          "base_uri": "https://localhost:8080/"
        },
        "outputId": "68dd535d-0fea-4486-bb0a-919bcf596f41"
      },
      "outputs": [
        {
          "output_type": "execute_result",
          "data": {
            "text/plain": [
              "0    42117\n",
              "1    41006\n",
              "Name: Gender, dtype: int64"
            ]
          },
          "metadata": {},
          "execution_count": 197
        }
      ],
      "source": [
        "train['Gender'].value_counts(dropna = False)"
      ]
    },
    {
      "cell_type": "markdown",
      "metadata": {
        "id": "qSbBomLzRR7L"
      },
      "source": [
        "# *Model Evaluation*"
      ]
    },
    {
      "cell_type": "markdown",
      "metadata": {
        "id": "3G8x-BiRyHL9"
      },
      "source": [
        "## **Splitting the data into train and test dataset.**"
      ]
    },
    {
      "cell_type": "code",
      "execution_count": 198,
      "metadata": {
        "id": "5hfOzAUK6AmE"
      },
      "outputs": [],
      "source": [
        "X = train.drop(['satisfaction'], axis = 1)\n",
        "Y = train['satisfaction']"
      ]
    },
    {
      "cell_type": "code",
      "execution_count": 199,
      "metadata": {
        "id": "tIVOznuR6AiD"
      },
      "outputs": [],
      "source": [
        "x_train, x_test, y_train, y_test = train_test_split(X,Y, test_size = 0.2, random_state = 123)"
      ]
    },
    {
      "cell_type": "code",
      "execution_count": 200,
      "metadata": {
        "id": "8LBjP6R-6Adp",
        "colab": {
          "base_uri": "https://localhost:8080/"
        },
        "outputId": "7dca072e-c141-426e-aad7-45e746a0a580"
      },
      "outputs": [
        {
          "output_type": "stream",
          "name": "stdout",
          "text": [
            "(66498, 22)\n",
            "(16625, 22)\n",
            "(66498,)\n",
            "(16625,)\n"
          ]
        }
      ],
      "source": [
        "print(x_train.shape)\n",
        "print(x_test.shape)\n",
        "print(y_train.shape)\n",
        "print(y_test.shape)"
      ]
    },
    {
      "cell_type": "markdown",
      "metadata": {
        "id": "fjW7efTdzJt6"
      },
      "source": [
        "## **Creating function for model evaluation**"
      ]
    },
    {
      "cell_type": "code",
      "execution_count": 201,
      "metadata": {
        "id": "WAUF2fVwzOII"
      },
      "outputs": [],
      "source": [
        "def model_eval(actual, predicted):\n",
        "  acc_score = accuracy_score(actual, predicted)\n",
        "  cm_matrix = confusion_matrix(actual, predicted)\n",
        "  clas_rep = classification_report(actual, predicted)\n",
        "  print('Accuracy of the model is : ', round(acc_score,2))\n",
        "  print(cm_matrix)\n",
        "  print(clas_rep)"
      ]
    },
    {
      "cell_type": "markdown",
      "metadata": {
        "id": "ONaG6NTozD4x"
      },
      "source": [
        "# *Model Evaluation before PCA implementation*"
      ]
    },
    {
      "cell_type": "markdown",
      "metadata": {
        "id": "Pit7wJz2zAqf"
      },
      "source": [
        "## **Application of Random Forest Classification**"
      ]
    },
    {
      "cell_type": "code",
      "execution_count": 202,
      "metadata": {
        "id": "_KmG8ym5zAUb",
        "colab": {
          "base_uri": "https://localhost:8080/"
        },
        "outputId": "f4a32095-a250-4414-eaba-3f86d8b27fd4"
      },
      "outputs": [
        {
          "output_type": "stream",
          "name": "stderr",
          "text": [
            "[Parallel(n_jobs=1)]: Using backend SequentialBackend with 1 concurrent workers.\n",
            "[Parallel(n_jobs=1)]: Done 800 out of 800 | elapsed:  1.2min finished\n",
            "[Parallel(n_jobs=1)]: Using backend SequentialBackend with 1 concurrent workers.\n",
            "[Parallel(n_jobs=1)]: Done 800 out of 800 | elapsed:   11.4s finished\n",
            "[Parallel(n_jobs=1)]: Using backend SequentialBackend with 1 concurrent workers.\n",
            "[Parallel(n_jobs=1)]: Done 800 out of 800 | elapsed:    3.0s finished\n"
          ]
        }
      ],
      "source": [
        "rf = RandomForestClassifier(n_estimators = 800,verbose = 1, random_state = 123)\n",
        "rf.fit(x_train, y_train)\n",
        "preds_train = rf.predict(x_train)\n",
        "preds_test = rf.predict(x_test)"
      ]
    },
    {
      "cell_type": "code",
      "execution_count": 203,
      "metadata": {
        "id": "MJAWvZg26AZI",
        "colab": {
          "base_uri": "https://localhost:8080/"
        },
        "outputId": "2aa00109-3344-4886-a6d4-67a4b2418144"
      },
      "outputs": [
        {
          "output_type": "stream",
          "name": "stdout",
          "text": [
            "Accuracy of the model is :  1.0\n",
            "[[37622     0]\n",
            " [    0 28876]]\n",
            "              precision    recall  f1-score   support\n",
            "\n",
            "           0       1.00      1.00      1.00     37622\n",
            "           1       1.00      1.00      1.00     28876\n",
            "\n",
            "    accuracy                           1.00     66498\n",
            "   macro avg       1.00      1.00      1.00     66498\n",
            "weighted avg       1.00      1.00      1.00     66498\n",
            "\n"
          ]
        }
      ],
      "source": [
        "model_eval(y_train, preds_train)"
      ]
    },
    {
      "cell_type": "code",
      "execution_count": 204,
      "metadata": {
        "id": "E9wQ5pS1kx1q",
        "colab": {
          "base_uri": "https://localhost:8080/"
        },
        "outputId": "06078765-4db2-4566-ce39-21d9b0afd165"
      },
      "outputs": [
        {
          "output_type": "stream",
          "name": "stdout",
          "text": [
            "Accuracy of the model is :  0.96\n",
            "[[9174  208]\n",
            " [ 446 6797]]\n",
            "              precision    recall  f1-score   support\n",
            "\n",
            "           0       0.95      0.98      0.97      9382\n",
            "           1       0.97      0.94      0.95      7243\n",
            "\n",
            "    accuracy                           0.96     16625\n",
            "   macro avg       0.96      0.96      0.96     16625\n",
            "weighted avg       0.96      0.96      0.96     16625\n",
            "\n"
          ]
        }
      ],
      "source": [
        "model_eval(y_test, preds_test)"
      ]
    },
    {
      "cell_type": "markdown",
      "metadata": {
        "id": "OuEOQQSd11gr"
      },
      "source": [
        "## **Decision Tree Classifier Implementation**"
      ]
    },
    {
      "cell_type": "code",
      "execution_count": 205,
      "metadata": {
        "id": "Y4YvKEW712Oz"
      },
      "outputs": [],
      "source": [
        "dtree = DecisionTreeClassifier(max_depth = 3,min_samples_split = 3, random_state =123)\n",
        "dtree.fit(x_train, y_train)\n",
        "pred_dtr_train = dtree.predict(x_train)\n",
        "pred_dtr_test = dtree.predict(x_test)"
      ]
    },
    {
      "cell_type": "code",
      "execution_count": 206,
      "metadata": {
        "id": "M6p6anhI12ii",
        "colab": {
          "base_uri": "https://localhost:8080/"
        },
        "outputId": "b05d91bf-edaf-43cc-8d9c-7a3d16c4a6a4"
      },
      "outputs": [
        {
          "output_type": "stream",
          "name": "stdout",
          "text": [
            "Accuracy of the model is :  0.88\n",
            "[[32621  5001]\n",
            " [ 2673 26203]]\n",
            "              precision    recall  f1-score   support\n",
            "\n",
            "           0       0.92      0.87      0.89     37622\n",
            "           1       0.84      0.91      0.87     28876\n",
            "\n",
            "    accuracy                           0.88     66498\n",
            "   macro avg       0.88      0.89      0.88     66498\n",
            "weighted avg       0.89      0.88      0.88     66498\n",
            "\n"
          ]
        }
      ],
      "source": [
        "model_eval(y_train,pred_dtr_train)"
      ]
    },
    {
      "cell_type": "code",
      "execution_count": 207,
      "metadata": {
        "id": "08tn2mjD12Z1",
        "colab": {
          "base_uri": "https://localhost:8080/"
        },
        "outputId": "94bd3875-1686-43c9-f446-be705d6a2c4b"
      },
      "outputs": [
        {
          "output_type": "stream",
          "name": "stdout",
          "text": [
            "Accuracy of the model is :  0.89\n",
            "[[8174 1208]\n",
            " [ 683 6560]]\n",
            "              precision    recall  f1-score   support\n",
            "\n",
            "           0       0.92      0.87      0.90      9382\n",
            "           1       0.84      0.91      0.87      7243\n",
            "\n",
            "    accuracy                           0.89     16625\n",
            "   macro avg       0.88      0.89      0.89     16625\n",
            "weighted avg       0.89      0.89      0.89     16625\n",
            "\n"
          ]
        }
      ],
      "source": [
        "model_eval(y_test,pred_dtr_test)"
      ]
    },
    {
      "cell_type": "markdown",
      "metadata": {
        "id": "mTFrzsPHz-d0"
      },
      "source": [
        "## **Logistic Regression Implementation**"
      ]
    },
    {
      "cell_type": "code",
      "execution_count": 208,
      "metadata": {
        "id": "VDGx5mS7kxxb"
      },
      "outputs": [],
      "source": [
        "logreg = LogisticRegression(max_iter = 800)\n",
        "logreg.fit(x_train,y_train)\n",
        "predlog_ytrain = logreg.predict(x_train)\n",
        "predlog_ytest =  logreg.predict(x_test)"
      ]
    },
    {
      "cell_type": "code",
      "execution_count": 209,
      "metadata": {
        "id": "_Py65TDykxtC",
        "colab": {
          "base_uri": "https://localhost:8080/"
        },
        "outputId": "be00e9af-aebb-4bd0-fd9d-997506a871cc"
      },
      "outputs": [
        {
          "output_type": "stream",
          "name": "stdout",
          "text": [
            "Accuracy of the model is :  0.87\n",
            "[[34085  3537]\n",
            " [ 4790 24086]]\n",
            "              precision    recall  f1-score   support\n",
            "\n",
            "           0       0.88      0.91      0.89     37622\n",
            "           1       0.87      0.83      0.85     28876\n",
            "\n",
            "    accuracy                           0.87     66498\n",
            "   macro avg       0.87      0.87      0.87     66498\n",
            "weighted avg       0.87      0.87      0.87     66498\n",
            "\n"
          ]
        }
      ],
      "source": [
        "model_eval(y_train, predlog_ytrain)"
      ]
    },
    {
      "cell_type": "code",
      "execution_count": 210,
      "metadata": {
        "id": "QZ32cAAXkxo3",
        "colab": {
          "base_uri": "https://localhost:8080/"
        },
        "outputId": "9bda60e5-1271-4ad7-fea8-fb8577113138"
      },
      "outputs": [
        {
          "output_type": "stream",
          "name": "stdout",
          "text": [
            "Accuracy of the model is :  0.88\n",
            "[[8484  898]\n",
            " [1149 6094]]\n",
            "              precision    recall  f1-score   support\n",
            "\n",
            "           0       0.88      0.90      0.89      9382\n",
            "           1       0.87      0.84      0.86      7243\n",
            "\n",
            "    accuracy                           0.88     16625\n",
            "   macro avg       0.88      0.87      0.87     16625\n",
            "weighted avg       0.88      0.88      0.88     16625\n",
            "\n"
          ]
        }
      ],
      "source": [
        "model_eval(y_test, predlog_ytest)"
      ]
    },
    {
      "cell_type": "markdown",
      "metadata": {
        "id": "jCv3XTrR8rGA"
      },
      "source": [
        "## **Naive Bayes Theorem**"
      ]
    },
    {
      "cell_type": "code",
      "execution_count": 211,
      "metadata": {
        "id": "n__h7fL98rlG",
        "colab": {
          "base_uri": "https://localhost:8080/"
        },
        "outputId": "6d1b069f-0bad-48cc-908b-ca54e2b7094b"
      },
      "outputs": [
        {
          "output_type": "execute_result",
          "data": {
            "text/plain": [
              "GaussianNB()"
            ]
          },
          "metadata": {},
          "execution_count": 211
        }
      ],
      "source": [
        "nb = GaussianNB()\n",
        "nb.fit(x_train, y_train)"
      ]
    },
    {
      "cell_type": "code",
      "execution_count": 212,
      "metadata": {
        "id": "8BQV7qZ58s8T"
      },
      "outputs": [],
      "source": [
        "pred_train_nb = nb. predict(x_train)\n",
        "pred_test_nb = nb. predict(x_test)"
      ]
    },
    {
      "cell_type": "code",
      "execution_count": 213,
      "metadata": {
        "id": "hWrg4S7B8sjV",
        "colab": {
          "base_uri": "https://localhost:8080/"
        },
        "outputId": "81f58654-faef-4edf-e3e4-115e35b9d0bf"
      },
      "outputs": [
        {
          "output_type": "stream",
          "name": "stdout",
          "text": [
            "Accuracy of the model is :  0.86\n",
            "[[33831  3791]\n",
            " [ 5293 23583]]\n",
            "              precision    recall  f1-score   support\n",
            "\n",
            "           0       0.86      0.90      0.88     37622\n",
            "           1       0.86      0.82      0.84     28876\n",
            "\n",
            "    accuracy                           0.86     66498\n",
            "   macro avg       0.86      0.86      0.86     66498\n",
            "weighted avg       0.86      0.86      0.86     66498\n",
            "\n"
          ]
        }
      ],
      "source": [
        "model_eval(y_train, pred_train_nb)"
      ]
    },
    {
      "cell_type": "code",
      "execution_count": 214,
      "metadata": {
        "id": "zanTLg8e8sWC",
        "colab": {
          "base_uri": "https://localhost:8080/"
        },
        "outputId": "2336dfb1-427c-4ed3-e46b-6d6069869ee6"
      },
      "outputs": [
        {
          "output_type": "stream",
          "name": "stdout",
          "text": [
            "Accuracy of the model is :  0.87\n",
            "[[8480  902]\n",
            " [1284 5959]]\n",
            "              precision    recall  f1-score   support\n",
            "\n",
            "           0       0.87      0.90      0.89      9382\n",
            "           1       0.87      0.82      0.85      7243\n",
            "\n",
            "    accuracy                           0.87     16625\n",
            "   macro avg       0.87      0.86      0.87     16625\n",
            "weighted avg       0.87      0.87      0.87     16625\n",
            "\n"
          ]
        }
      ],
      "source": [
        "model_eval(y_test, pred_test_nb)"
      ]
    },
    {
      "cell_type": "markdown",
      "source": [
        "## **XGBoost Classifier**"
      ],
      "metadata": {
        "id": "juhFFQpAUBKh"
      }
    },
    {
      "cell_type": "code",
      "source": [
        "from xgboost import XGBClassifier\n",
        "\n",
        "xgb = XGBClassifier(random_state =123)"
      ],
      "metadata": {
        "id": "N1gyBhdJUBKi"
      },
      "execution_count": 215,
      "outputs": []
    },
    {
      "cell_type": "code",
      "source": [
        "xgb.fit(x_train,y_train)\n",
        "XGB_ytrain = xgb.predict(x_train)\n",
        "XGB_ytest =  xgb.predict(x_test)"
      ],
      "metadata": {
        "id": "dElGpgLxUBKj"
      },
      "execution_count": 216,
      "outputs": []
    },
    {
      "cell_type": "code",
      "source": [
        "model_eval(y_train,XGB_ytrain )"
      ],
      "metadata": {
        "colab": {
          "base_uri": "https://localhost:8080/"
        },
        "outputId": "6bfcf430-47b4-4720-94ea-c57118857c57",
        "id": "AV8z9V4eUBKk"
      },
      "execution_count": 217,
      "outputs": [
        {
          "output_type": "stream",
          "name": "stdout",
          "text": [
            "Accuracy of the model is :  0.94\n",
            "[[36041  1581]\n",
            " [ 2313 26563]]\n",
            "              precision    recall  f1-score   support\n",
            "\n",
            "           0       0.94      0.96      0.95     37622\n",
            "           1       0.94      0.92      0.93     28876\n",
            "\n",
            "    accuracy                           0.94     66498\n",
            "   macro avg       0.94      0.94      0.94     66498\n",
            "weighted avg       0.94      0.94      0.94     66498\n",
            "\n"
          ]
        }
      ]
    },
    {
      "cell_type": "code",
      "source": [
        "model_eval(y_test,XGB_ytest )"
      ],
      "metadata": {
        "colab": {
          "base_uri": "https://localhost:8080/"
        },
        "id": "24SIqWr3UPGB",
        "outputId": "6a917b5f-b8b5-4d28-bd2d-09994f3d7574"
      },
      "execution_count": 218,
      "outputs": [
        {
          "output_type": "stream",
          "name": "stdout",
          "text": [
            "Accuracy of the model is :  0.94\n",
            "[[8995  387]\n",
            " [ 590 6653]]\n",
            "              precision    recall  f1-score   support\n",
            "\n",
            "           0       0.94      0.96      0.95      9382\n",
            "           1       0.95      0.92      0.93      7243\n",
            "\n",
            "    accuracy                           0.94     16625\n",
            "   macro avg       0.94      0.94      0.94     16625\n",
            "weighted avg       0.94      0.94      0.94     16625\n",
            "\n"
          ]
        }
      ]
    },
    {
      "cell_type": "markdown",
      "source": [
        "## **CatBoostClassifier**"
      ],
      "metadata": {
        "id": "PoLkSp3ym3zc"
      }
    },
    {
      "cell_type": "code",
      "source": [
        "!pip3 install catboost\n",
        "from catboost import Pool, CatBoostClassifier"
      ],
      "metadata": {
        "colab": {
          "base_uri": "https://localhost:8080/"
        },
        "id": "eZNewLZlaa_9",
        "outputId": "b241d547-0fbe-4436-f436-c15f8b5daf5e"
      },
      "execution_count": 219,
      "outputs": [
        {
          "output_type": "stream",
          "name": "stdout",
          "text": [
            "Looking in indexes: https://pypi.org/simple, https://us-python.pkg.dev/colab-wheels/public/simple/\n",
            "Requirement already satisfied: catboost in /usr/local/lib/python3.7/dist-packages (1.0.6)\n",
            "Requirement already satisfied: six in /usr/local/lib/python3.7/dist-packages (from catboost) (1.15.0)\n",
            "Requirement already satisfied: scipy in /usr/local/lib/python3.7/dist-packages (from catboost) (1.7.3)\n",
            "Requirement already satisfied: plotly in /usr/local/lib/python3.7/dist-packages (from catboost) (5.5.0)\n",
            "Requirement already satisfied: numpy>=1.16.0 in /usr/local/lib/python3.7/dist-packages (from catboost) (1.21.6)\n",
            "Requirement already satisfied: matplotlib in /usr/local/lib/python3.7/dist-packages (from catboost) (3.2.2)\n",
            "Requirement already satisfied: graphviz in /usr/local/lib/python3.7/dist-packages (from catboost) (0.10.1)\n",
            "Requirement already satisfied: pandas>=0.24.0 in /usr/local/lib/python3.7/dist-packages (from catboost) (1.3.5)\n",
            "Requirement already satisfied: pytz>=2017.3 in /usr/local/lib/python3.7/dist-packages (from pandas>=0.24.0->catboost) (2022.1)\n",
            "Requirement already satisfied: python-dateutil>=2.7.3 in /usr/local/lib/python3.7/dist-packages (from pandas>=0.24.0->catboost) (2.8.2)\n",
            "Requirement already satisfied: kiwisolver>=1.0.1 in /usr/local/lib/python3.7/dist-packages (from matplotlib->catboost) (1.4.4)\n",
            "Requirement already satisfied: cycler>=0.10 in /usr/local/lib/python3.7/dist-packages (from matplotlib->catboost) (0.11.0)\n",
            "Requirement already satisfied: pyparsing!=2.0.4,!=2.1.2,!=2.1.6,>=2.0.1 in /usr/local/lib/python3.7/dist-packages (from matplotlib->catboost) (3.0.9)\n",
            "Requirement already satisfied: typing-extensions in /usr/local/lib/python3.7/dist-packages (from kiwisolver>=1.0.1->matplotlib->catboost) (4.1.1)\n",
            "Requirement already satisfied: tenacity>=6.2.0 in /usr/local/lib/python3.7/dist-packages (from plotly->catboost) (8.0.1)\n"
          ]
        }
      ]
    },
    {
      "cell_type": "code",
      "source": [
        " cat = CatBoostClassifier(iterations = 2, learning_rate = 0.1)\n",
        "\n",
        " cat.fit(x_train,y_train)\n",
        " Cat_ytrain = cat.predict(x_train)\n",
        " Cat_ytest =  cat.predict(x_test) "
      ],
      "metadata": {
        "colab": {
          "base_uri": "https://localhost:8080/"
        },
        "id": "KMIW4imacFEP",
        "outputId": "4fbdbfa1-3eee-4079-fe13-9fa7efa33141"
      },
      "execution_count": 220,
      "outputs": [
        {
          "output_type": "stream",
          "name": "stdout",
          "text": [
            "0:\tlearn: 0.5635168\ttotal: 20.5ms\tremaining: 20.5ms\n",
            "1:\tlearn: 0.4724879\ttotal: 41.1ms\tremaining: 0us\n"
          ]
        }
      ]
    },
    {
      "cell_type": "code",
      "source": [
        "print('CatBoost model is fitted: ' + str(cat.is_fitted()))\n",
        "print('CatBoost model parameters:')\n",
        "print(cat.get_params())"
      ],
      "metadata": {
        "colab": {
          "base_uri": "https://localhost:8080/"
        },
        "id": "gYm1t_x-cE2P",
        "outputId": "75006c8a-72e7-427d-b5c5-c90f59c6c22b"
      },
      "execution_count": 221,
      "outputs": [
        {
          "output_type": "stream",
          "name": "stdout",
          "text": [
            "CatBoost model is fitted: True\n",
            "CatBoost model parameters:\n",
            "{'iterations': 2, 'learning_rate': 0.1}\n"
          ]
        }
      ]
    },
    {
      "cell_type": "code",
      "source": [
        "model_eval(y_train,Cat_ytrain )"
      ],
      "metadata": {
        "colab": {
          "base_uri": "https://localhost:8080/"
        },
        "id": "_zYfLXYLmskk",
        "outputId": "ab928c17-756a-4043-ec91-a994dc26e0d0"
      },
      "execution_count": 222,
      "outputs": [
        {
          "output_type": "stream",
          "name": "stdout",
          "text": [
            "Accuracy of the model is :  0.91\n",
            "[[34556  3066]\n",
            " [ 3081 25795]]\n",
            "              precision    recall  f1-score   support\n",
            "\n",
            "           0       0.92      0.92      0.92     37622\n",
            "           1       0.89      0.89      0.89     28876\n",
            "\n",
            "    accuracy                           0.91     66498\n",
            "   macro avg       0.91      0.91      0.91     66498\n",
            "weighted avg       0.91      0.91      0.91     66498\n",
            "\n"
          ]
        }
      ]
    },
    {
      "cell_type": "code",
      "source": [
        "model_eval(y_test,Cat_ytest )"
      ],
      "metadata": {
        "colab": {
          "base_uri": "https://localhost:8080/"
        },
        "id": "iMzf6xDkmpqS",
        "outputId": "765190a1-881c-40b4-e6c5-aa6fdd464aa9"
      },
      "execution_count": 223,
      "outputs": [
        {
          "output_type": "stream",
          "name": "stdout",
          "text": [
            "Accuracy of the model is :  0.91\n",
            "[[8668  714]\n",
            " [ 759 6484]]\n",
            "              precision    recall  f1-score   support\n",
            "\n",
            "           0       0.92      0.92      0.92      9382\n",
            "           1       0.90      0.90      0.90      7243\n",
            "\n",
            "    accuracy                           0.91     16625\n",
            "   macro avg       0.91      0.91      0.91     16625\n",
            "weighted avg       0.91      0.91      0.91     16625\n",
            "\n"
          ]
        }
      ]
    },
    {
      "cell_type": "markdown",
      "source": [
        "## **LGBM Classifier**"
      ],
      "metadata": {
        "id": "zkuDEf2Z3Au1"
      }
    },
    {
      "cell_type": "code",
      "source": [
        "import lightgbm as lgb\n",
        "\n",
        "lb = lgb.LGBMClassifier()\n",
        "lb.fit(x_train, y_train)"
      ],
      "metadata": {
        "colab": {
          "base_uri": "https://localhost:8080/"
        },
        "id": "iBxQu76Q3G_W",
        "outputId": "9c09dfbd-b2ad-49a7-ddad-2127097ad049"
      },
      "execution_count": 261,
      "outputs": [
        {
          "output_type": "execute_result",
          "data": {
            "text/plain": [
              "LGBMClassifier()"
            ]
          },
          "metadata": {},
          "execution_count": 261
        }
      ]
    },
    {
      "cell_type": "code",
      "source": [
        "LG_ytrain = lb.predict(x_train)\n",
        "LG_ytest =  lb.predict(x_test) "
      ],
      "metadata": {
        "id": "5zJQocOF3G6Y"
      },
      "execution_count": 262,
      "outputs": []
    },
    {
      "cell_type": "code",
      "source": [
        "model_eval(y_train,LG_ytrain )"
      ],
      "metadata": {
        "colab": {
          "base_uri": "https://localhost:8080/"
        },
        "id": "GoXupLBd3G1C",
        "outputId": "0159e121-80e6-4043-c24e-008528c26aab"
      },
      "execution_count": 263,
      "outputs": [
        {
          "output_type": "stream",
          "name": "stdout",
          "text": [
            "Accuracy of the model is :  0.97\n",
            "[[37012   610]\n",
            " [ 1577 27299]]\n",
            "              precision    recall  f1-score   support\n",
            "\n",
            "           0       0.96      0.98      0.97     37622\n",
            "           1       0.98      0.95      0.96     28876\n",
            "\n",
            "    accuracy                           0.97     66498\n",
            "   macro avg       0.97      0.96      0.97     66498\n",
            "weighted avg       0.97      0.97      0.97     66498\n",
            "\n"
          ]
        }
      ]
    },
    {
      "cell_type": "code",
      "source": [
        "model_eval(y_test,LG_ytest )"
      ],
      "metadata": {
        "colab": {
          "base_uri": "https://localhost:8080/"
        },
        "id": "Qa_omXFx3GwU",
        "outputId": "da7ef55a-0f8d-469f-f831-cb2df0849c9a"
      },
      "execution_count": 264,
      "outputs": [
        {
          "output_type": "stream",
          "name": "stdout",
          "text": [
            "Accuracy of the model is :  0.96\n",
            "[[9209  173]\n",
            " [ 419 6824]]\n",
            "              precision    recall  f1-score   support\n",
            "\n",
            "           0       0.96      0.98      0.97      9382\n",
            "           1       0.98      0.94      0.96      7243\n",
            "\n",
            "    accuracy                           0.96     16625\n",
            "   macro avg       0.97      0.96      0.96     16625\n",
            "weighted avg       0.96      0.96      0.96     16625\n",
            "\n"
          ]
        }
      ]
    },
    {
      "cell_type": "markdown",
      "metadata": {
        "id": "gLZzx5rf2L2c"
      },
      "source": [
        "# *Model Evaluation after PCA implementation*"
      ]
    },
    {
      "cell_type": "markdown",
      "metadata": {
        "id": "zhu1iFYi2vkr"
      },
      "source": [
        "## **Principal Component Analysis (PCA) Implementation**"
      ]
    },
    {
      "cell_type": "code",
      "execution_count": 224,
      "metadata": {
        "id": "V00S7wXqkxk9",
        "colab": {
          "base_uri": "https://localhost:8080/"
        },
        "outputId": "76d3b583-dc9e-42e7-85a2-8f71554115dc"
      },
      "outputs": [
        {
          "output_type": "execute_result",
          "data": {
            "text/plain": [
              "PCA(n_components=22)"
            ]
          },
          "metadata": {},
          "execution_count": 224
        }
      ],
      "source": [
        "from sklearn.decomposition import PCA\n",
        "\n",
        "pc = PCA(n_components= len(X.columns))\n",
        "pc.fit(x_train)"
      ]
    },
    {
      "cell_type": "code",
      "execution_count": 225,
      "metadata": {
        "id": "aTeyw8wM1AXl",
        "colab": {
          "base_uri": "https://localhost:8080/"
        },
        "outputId": "d325e8f6-f1fb-4649-ff25-8bcb0875df89"
      },
      "outputs": [
        {
          "output_type": "execute_result",
          "data": {
            "text/plain": [
              "array([0.20539663, 0.12511126, 0.11521324, 0.10110858, 0.07045053,\n",
              "       0.05230664, 0.04963481, 0.04834802, 0.0367793 , 0.03001261,\n",
              "       0.02530843, 0.02370856, 0.0193798 , 0.01761598, 0.01559226,\n",
              "       0.01533161, 0.0130397 , 0.01225038, 0.00983989, 0.00771068,\n",
              "       0.00374494, 0.00211616])"
            ]
          },
          "metadata": {},
          "execution_count": 225
        }
      ],
      "source": [
        "pc.explained_variance_ratio_"
      ]
    },
    {
      "cell_type": "code",
      "execution_count": 226,
      "metadata": {
        "id": "G6pJpyKx1AUL",
        "colab": {
          "base_uri": "https://localhost:8080/"
        },
        "outputId": "686665e6-2c7e-40a4-8853-b632d8cd4b80"
      },
      "outputs": [
        {
          "output_type": "execute_result",
          "data": {
            "text/plain": [
              "array([0.21, 0.34, 0.46, 0.56, 0.63, 0.68, 0.73, 0.78, 0.82, 0.85, 0.88,\n",
              "       0.9 , 0.92, 0.94, 0.96, 0.98, 0.99, 1.  , 1.01, 1.02, 1.02, 1.02])"
            ]
          },
          "metadata": {},
          "execution_count": 226
        }
      ],
      "source": [
        "var = np.cumsum(np.round(pc.explained_variance_ratio_, 2))\n",
        "var"
      ]
    },
    {
      "cell_type": "code",
      "execution_count": 227,
      "metadata": {
        "id": "VqBddAtG1ANq",
        "colab": {
          "base_uri": "https://localhost:8080/",
          "height": 295
        },
        "outputId": "749c603a-39b5-4213-b8de-439a2f1d467d"
      },
      "outputs": [
        {
          "output_type": "display_data",
          "data": {
            "text/plain": [
              "<Figure size 432x288 with 1 Axes>"
            ],
            "image/png": "[encoded data removed]"
          },
          "metadata": {
            "needs_background": "light"
          }
        }
      ],
      "source": [
        "plt.ylabel('% of variance explained')\n",
        "plt.xlabel('# of Principal components')\n",
        "plt.title('Explanation of PCA')\n",
        "plt.ylim(min(var),1)\n",
        "plt.style.context('seaborn-whitegrid')\n",
        "plt.plot(var)\n",
        "plt.show()"
      ]
    },
    {
      "cell_type": "code",
      "execution_count": 228,
      "metadata": {
        "id": "Y--5csF41AIn"
      },
      "outputs": [],
      "source": [
        "x_train_pca = pc.fit_transform(x_train)\n",
        "x_test_pca = pc.fit_transform(x_test)"
      ]
    },
    {
      "cell_type": "markdown",
      "metadata": {
        "id": "kDkGT1Fr6GPG"
      },
      "source": [
        "## **Random Forest with Transformed Variables**"
      ]
    },
    {
      "cell_type": "code",
      "execution_count": 229,
      "metadata": {
        "id": "w1csfl0f1AEx"
      },
      "outputs": [],
      "source": [
        "rf_pca = RandomForestClassifier(n_estimators= 200,random_state = 123)\n",
        "rf_pca.fit(x_train_pca, y_train)\n",
        "preds_train_pca = rf_pca.predict(x_train_pca)\n",
        "preds_test_pca = rf_pca.predict(x_test_pca)"
      ]
    },
    {
      "cell_type": "code",
      "execution_count": 230,
      "metadata": {
        "id": "Fj8qm4Mh0__r",
        "colab": {
          "base_uri": "https://localhost:8080/"
        },
        "outputId": "9ca43779-f606-46d5-b94a-39ce77d48ab2"
      },
      "outputs": [
        {
          "output_type": "stream",
          "name": "stdout",
          "text": [
            "Accuracy of the model is :  1.0\n",
            "[[37622     0]\n",
            " [    0 28876]]\n",
            "              precision    recall  f1-score   support\n",
            "\n",
            "           0       1.00      1.00      1.00     37622\n",
            "           1       1.00      1.00      1.00     28876\n",
            "\n",
            "    accuracy                           1.00     66498\n",
            "   macro avg       1.00      1.00      1.00     66498\n",
            "weighted avg       1.00      1.00      1.00     66498\n",
            "\n"
          ]
        }
      ],
      "source": [
        "model_eval(y_train, preds_train_pca)"
      ]
    },
    {
      "cell_type": "code",
      "execution_count": 231,
      "metadata": {
        "id": "BuP8iqKi0_7W",
        "colab": {
          "base_uri": "https://localhost:8080/"
        },
        "outputId": "7ffc1f63-f745-487a-ca6c-e1b768aca7f4"
      },
      "outputs": [
        {
          "output_type": "stream",
          "name": "stdout",
          "text": [
            "Accuracy of the model is :  0.9\n",
            "[[8883  499]\n",
            " [1136 6107]]\n",
            "              precision    recall  f1-score   support\n",
            "\n",
            "           0       0.89      0.95      0.92      9382\n",
            "           1       0.92      0.84      0.88      7243\n",
            "\n",
            "    accuracy                           0.90     16625\n",
            "   macro avg       0.91      0.89      0.90     16625\n",
            "weighted avg       0.90      0.90      0.90     16625\n",
            "\n"
          ]
        }
      ],
      "source": [
        "model_eval(y_test, preds_test_pca)"
      ]
    },
    {
      "cell_type": "markdown",
      "metadata": {
        "id": "J96rWEKz-LmA"
      },
      "source": [
        "## **Decision Tree Classifier with Transformed Variables**"
      ]
    },
    {
      "cell_type": "code",
      "execution_count": 232,
      "metadata": {
        "id": "whh8UKW7-JjZ"
      },
      "outputs": [],
      "source": [
        "dtree1 = DecisionTreeClassifier(max_depth = 3,min_samples_split = 3, random_state =123)\n",
        "dtree1.fit(x_train_pca, y_train)\n",
        "pred1_dtr_train = dtree1.predict(x_train_pca)\n",
        "pred1_dtr_test = dtree1.predict(x_test_pca)"
      ]
    },
    {
      "cell_type": "code",
      "execution_count": 233,
      "metadata": {
        "id": "3nmmz2QP-Jdv",
        "colab": {
          "base_uri": "https://localhost:8080/"
        },
        "outputId": "4ca19b86-e571-4b4f-8dbd-0f289b85e52d"
      },
      "outputs": [
        {
          "output_type": "stream",
          "name": "stdout",
          "text": [
            "Accuracy of the model is :  0.84\n",
            "[[36269  1353]\n",
            " [ 9088 19788]]\n",
            "              precision    recall  f1-score   support\n",
            "\n",
            "           0       0.80      0.96      0.87     37622\n",
            "           1       0.94      0.69      0.79     28876\n",
            "\n",
            "    accuracy                           0.84     66498\n",
            "   macro avg       0.87      0.82      0.83     66498\n",
            "weighted avg       0.86      0.84      0.84     66498\n",
            "\n"
          ]
        }
      ],
      "source": [
        "model_eval(y_train, pred1_dtr_train)"
      ]
    },
    {
      "cell_type": "code",
      "execution_count": 234,
      "metadata": {
        "id": "SVTPxpWnA-Q3",
        "colab": {
          "base_uri": "https://localhost:8080/"
        },
        "outputId": "2ecc3e36-7022-4ffb-d79e-c6517af76849"
      },
      "outputs": [
        {
          "output_type": "stream",
          "name": "stdout",
          "text": [
            "Accuracy of the model is :  0.85\n",
            "[[9076  306]\n",
            " [2234 5009]]\n",
            "              precision    recall  f1-score   support\n",
            "\n",
            "           0       0.80      0.97      0.88      9382\n",
            "           1       0.94      0.69      0.80      7243\n",
            "\n",
            "    accuracy                           0.85     16625\n",
            "   macro avg       0.87      0.83      0.84     16625\n",
            "weighted avg       0.86      0.85      0.84     16625\n",
            "\n"
          ]
        }
      ],
      "source": [
        "model_eval(y_test, pred1_dtr_test)"
      ]
    },
    {
      "cell_type": "markdown",
      "metadata": {
        "id": "6Y9fk60wA-73"
      },
      "source": [
        "## **Logistic Regression with Transformed Variables**"
      ]
    },
    {
      "cell_type": "code",
      "execution_count": 235,
      "metadata": {
        "id": "i4QUo0tA-Hfp"
      },
      "outputs": [],
      "source": [
        "logreg = LogisticRegression(max_iter = 800)\n",
        "logreg.fit(x_train_pca,y_train)\n",
        "predlog1_ytrain = logreg.predict(x_train_pca)\n",
        "predlog1_ytest =  logreg.predict(x_test_pca)"
      ]
    },
    {
      "cell_type": "code",
      "execution_count": 236,
      "metadata": {
        "id": "1jeznhhx-HTe",
        "colab": {
          "base_uri": "https://localhost:8080/"
        },
        "outputId": "866db51b-bacd-4497-9491-d37f116ba7d7"
      },
      "outputs": [
        {
          "output_type": "stream",
          "name": "stdout",
          "text": [
            "Accuracy of the model is :  0.87\n",
            "[[34085  3537]\n",
            " [ 4791 24085]]\n",
            "              precision    recall  f1-score   support\n",
            "\n",
            "           0       0.88      0.91      0.89     37622\n",
            "           1       0.87      0.83      0.85     28876\n",
            "\n",
            "    accuracy                           0.87     66498\n",
            "   macro avg       0.87      0.87      0.87     66498\n",
            "weighted avg       0.87      0.87      0.87     66498\n",
            "\n"
          ]
        }
      ],
      "source": [
        "model_eval(y_train, predlog1_ytrain)"
      ]
    },
    {
      "cell_type": "code",
      "execution_count": 237,
      "metadata": {
        "id": "rl4ieHCT-HDa",
        "colab": {
          "base_uri": "https://localhost:8080/"
        },
        "outputId": "a7bffcd7-9871-4e24-a42a-9e81d992ba98"
      },
      "outputs": [
        {
          "output_type": "stream",
          "name": "stdout",
          "text": [
            "Accuracy of the model is :  0.85\n",
            "[[8067 1315]\n",
            " [1209 6034]]\n",
            "              precision    recall  f1-score   support\n",
            "\n",
            "           0       0.87      0.86      0.86      9382\n",
            "           1       0.82      0.83      0.83      7243\n",
            "\n",
            "    accuracy                           0.85     16625\n",
            "   macro avg       0.85      0.85      0.85     16625\n",
            "weighted avg       0.85      0.85      0.85     16625\n",
            "\n"
          ]
        }
      ],
      "source": [
        "model_eval(y_test, predlog1_ytest)"
      ]
    },
    {
      "cell_type": "markdown",
      "metadata": {
        "id": "RI-Bz4E39Nsb"
      },
      "source": [
        "## **Naive Bayes with Transformed Variables**"
      ]
    },
    {
      "cell_type": "code",
      "execution_count": 238,
      "metadata": {
        "id": "X-JBWd777R4c",
        "colab": {
          "base_uri": "https://localhost:8080/"
        },
        "outputId": "106c8bea-be44-4915-ad30-6f6783b8adff"
      },
      "outputs": [
        {
          "output_type": "execute_result",
          "data": {
            "text/plain": [
              "GaussianNB()"
            ]
          },
          "metadata": {},
          "execution_count": 238
        }
      ],
      "source": [
        "nb_new = GaussianNB()\n",
        "nb_new.fit(x_train_pca, y_train)"
      ]
    },
    {
      "cell_type": "code",
      "execution_count": 239,
      "metadata": {
        "id": "VOrUdX9y7Ryh"
      },
      "outputs": [],
      "source": [
        "pred1_train_nb = nb_new.predict(x_train_pca)\n",
        "pred1_test_nb = nb_new.predict(x_test_pca)"
      ]
    },
    {
      "cell_type": "code",
      "execution_count": 240,
      "metadata": {
        "id": "vVW-ASvR7Rt2",
        "colab": {
          "base_uri": "https://localhost:8080/"
        },
        "outputId": "1d36488d-2f94-4a26-f265-fb6e082a0e89"
      },
      "outputs": [
        {
          "output_type": "stream",
          "name": "stdout",
          "text": [
            "Accuracy of the model is :  0.83\n",
            "[[32753  4869]\n",
            " [ 6593 22283]]\n",
            "              precision    recall  f1-score   support\n",
            "\n",
            "           0       0.83      0.87      0.85     37622\n",
            "           1       0.82      0.77      0.80     28876\n",
            "\n",
            "    accuracy                           0.83     66498\n",
            "   macro avg       0.83      0.82      0.82     66498\n",
            "weighted avg       0.83      0.83      0.83     66498\n",
            "\n"
          ]
        }
      ],
      "source": [
        "model_eval(y_train, pred1_train_nb)"
      ]
    },
    {
      "cell_type": "code",
      "execution_count": 241,
      "metadata": {
        "id": "w8Y0JtWK7Rps",
        "colab": {
          "base_uri": "https://localhost:8080/"
        },
        "outputId": "9b7e93e3-b7c9-47f4-f2d8-7cb9bf24b3a1"
      },
      "outputs": [
        {
          "output_type": "stream",
          "name": "stdout",
          "text": [
            "Accuracy of the model is :  0.83\n",
            "[[8064 1318]\n",
            " [1590 5653]]\n",
            "              precision    recall  f1-score   support\n",
            "\n",
            "           0       0.84      0.86      0.85      9382\n",
            "           1       0.81      0.78      0.80      7243\n",
            "\n",
            "    accuracy                           0.83     16625\n",
            "   macro avg       0.82      0.82      0.82     16625\n",
            "weighted avg       0.82      0.83      0.82     16625\n",
            "\n"
          ]
        }
      ],
      "source": [
        "model_eval(y_test, pred1_test_nb)"
      ]
    },
    {
      "cell_type": "markdown",
      "source": [
        "## **XGBoost Classifier with Transformed Variables**"
      ],
      "metadata": {
        "id": "tzcpfOhyTZiJ"
      }
    },
    {
      "cell_type": "code",
      "source": [
        "from xgboost import XGBClassifier\n",
        "\n",
        "xgb1 = XGBClassifier(random_state =123)"
      ],
      "metadata": {
        "id": "icbeySd_TV0b"
      },
      "execution_count": 273,
      "outputs": []
    },
    {
      "cell_type": "code",
      "source": [
        "xgb1.fit(x_train_pca,y_train)\n",
        "XGB1_ytrain = xgb1.predict(x_train_pca)\n",
        "XGB1_ytest =  xgb1.predict(x_test_pca)"
      ],
      "metadata": {
        "id": "rGn-8CB8TV0e"
      },
      "execution_count": 274,
      "outputs": []
    },
    {
      "cell_type": "code",
      "source": [
        "model_eval(y_train,XGB1_ytrain )"
      ],
      "metadata": {
        "colab": {
          "base_uri": "https://localhost:8080/"
        },
        "outputId": "2a181fa5-b77b-4d9b-827c-ddfd33cf944b",
        "id": "X17CJmwmTV0f"
      },
      "execution_count": 275,
      "outputs": [
        {
          "output_type": "stream",
          "name": "stdout",
          "text": [
            "Accuracy of the model is :  0.91\n",
            "[[35810  1812]\n",
            " [ 4181 24695]]\n",
            "              precision    recall  f1-score   support\n",
            "\n",
            "           0       0.90      0.95      0.92     37622\n",
            "           1       0.93      0.86      0.89     28876\n",
            "\n",
            "    accuracy                           0.91     66498\n",
            "   macro avg       0.91      0.90      0.91     66498\n",
            "weighted avg       0.91      0.91      0.91     66498\n",
            "\n"
          ]
        }
      ]
    },
    {
      "cell_type": "code",
      "source": [
        "model_eval(y_test,XGB1_ytest )"
      ],
      "metadata": {
        "colab": {
          "base_uri": "https://localhost:8080/"
        },
        "outputId": "f752f8dd-fe35-4886-ddf0-6bdc7fab71ac",
        "id": "LpxDBVx0TV0g"
      },
      "execution_count": 276,
      "outputs": [
        {
          "output_type": "stream",
          "name": "stdout",
          "text": [
            "Accuracy of the model is :  0.9\n",
            "[[8859  523]\n",
            " [1158 6085]]\n",
            "              precision    recall  f1-score   support\n",
            "\n",
            "           0       0.88      0.94      0.91      9382\n",
            "           1       0.92      0.84      0.88      7243\n",
            "\n",
            "    accuracy                           0.90     16625\n",
            "   macro avg       0.90      0.89      0.90     16625\n",
            "weighted avg       0.90      0.90      0.90     16625\n",
            "\n"
          ]
        }
      ]
    },
    {
      "cell_type": "markdown",
      "source": [
        "## **CatBoost Classifier with Transformed Variables**"
      ],
      "metadata": {
        "id": "t0rkTbRbnA06"
      }
    },
    {
      "cell_type": "code",
      "source": [
        " cat1 = CatBoostClassifier(iterations = 2, learning_rate = 0.1)\n",
        "\n",
        " cat1.fit(x_train_pca,y_train)\n",
        " Cat1_ytrain = cat1.predict(x_train_pca)\n",
        " Cat1_ytest =  cat1.predict(x_test_pca) "
      ],
      "metadata": {
        "colab": {
          "base_uri": "https://localhost:8080/"
        },
        "outputId": "3611b236-01d8-44f5-857b-dd98c846b966",
        "id": "pcv0CxLgnM5b"
      },
      "execution_count": 277,
      "outputs": [
        {
          "output_type": "stream",
          "name": "stdout",
          "text": [
            "0:\tlearn: 0.6158471\ttotal: 27.7ms\tremaining: 27.7ms\n",
            "1:\tlearn: 0.5513333\ttotal: 53.4ms\tremaining: 0us\n"
          ]
        }
      ]
    },
    {
      "cell_type": "code",
      "source": [
        "print('CatBoost model is fitted: ' + str(cat1.is_fitted()))\n",
        "print('CatBoost model parameters:')\n",
        "print(cat1.get_params())"
      ],
      "metadata": {
        "colab": {
          "base_uri": "https://localhost:8080/"
        },
        "outputId": "cbf115c6-a85e-4cd8-f549-29039af49acc",
        "id": "S4QZi-Z1nM5d"
      },
      "execution_count": 278,
      "outputs": [
        {
          "output_type": "stream",
          "name": "stdout",
          "text": [
            "CatBoost model is fitted: True\n",
            "CatBoost model parameters:\n",
            "{'iterations': 2, 'learning_rate': 0.1}\n"
          ]
        }
      ]
    },
    {
      "cell_type": "code",
      "source": [
        "model_eval(y_train,Cat1_ytrain )"
      ],
      "metadata": {
        "colab": {
          "base_uri": "https://localhost:8080/"
        },
        "outputId": "b9c0cf87-2edf-474d-fb72-af5299ee0ed7",
        "id": "mipviPOPnM5e"
      },
      "execution_count": 279,
      "outputs": [
        {
          "output_type": "stream",
          "name": "stdout",
          "text": [
            "Accuracy of the model is :  0.86\n",
            "[[34760  2862]\n",
            " [ 6433 22443]]\n",
            "              precision    recall  f1-score   support\n",
            "\n",
            "           0       0.84      0.92      0.88     37622\n",
            "           1       0.89      0.78      0.83     28876\n",
            "\n",
            "    accuracy                           0.86     66498\n",
            "   macro avg       0.87      0.85      0.86     66498\n",
            "weighted avg       0.86      0.86      0.86     66498\n",
            "\n"
          ]
        }
      ]
    },
    {
      "cell_type": "code",
      "source": [
        "model_eval(y_test,Cat1_ytest )"
      ],
      "metadata": {
        "colab": {
          "base_uri": "https://localhost:8080/"
        },
        "outputId": "dd6c2a4e-a0f6-43c6-b814-f5236ccf2506",
        "id": "HXc3v0KZnM5e"
      },
      "execution_count": 280,
      "outputs": [
        {
          "output_type": "stream",
          "name": "stdout",
          "text": [
            "Accuracy of the model is :  0.86\n",
            "[[8669  713]\n",
            " [1578 5665]]\n",
            "              precision    recall  f1-score   support\n",
            "\n",
            "           0       0.85      0.92      0.88      9382\n",
            "           1       0.89      0.78      0.83      7243\n",
            "\n",
            "    accuracy                           0.86     16625\n",
            "   macro avg       0.87      0.85      0.86     16625\n",
            "weighted avg       0.86      0.86      0.86     16625\n",
            "\n"
          ]
        }
      ]
    },
    {
      "cell_type": "code",
      "source": [
        ""
      ],
      "metadata": {
        "id": "Y4Ptewqi30YI"
      },
      "execution_count": null,
      "outputs": []
    },
    {
      "cell_type": "markdown",
      "source": [
        "## **LGBM Classifier with Transformed Variables**"
      ],
      "metadata": {
        "id": "nmu9NBWs30yk"
      }
    },
    {
      "cell_type": "code",
      "source": [
        "lb1 = lgb.LGBMClassifier()\n",
        "lb1.fit(x_train_pca, y_train)"
      ],
      "metadata": {
        "colab": {
          "base_uri": "https://localhost:8080/"
        },
        "outputId": "3add53c8-bed4-4cef-82ed-881b50b8f29f",
        "id": "vuocdNv830yl"
      },
      "execution_count": 265,
      "outputs": [
        {
          "output_type": "execute_result",
          "data": {
            "text/plain": [
              "LGBMClassifier()"
            ]
          },
          "metadata": {},
          "execution_count": 265
        }
      ]
    },
    {
      "cell_type": "code",
      "source": [
        "LG1_ytrain = lb1.predict(x_train_pca)\n",
        "LG1_ytest =  lb1.predict(x_test_pca) "
      ],
      "metadata": {
        "id": "_zl89Hkz30yl"
      },
      "execution_count": 266,
      "outputs": []
    },
    {
      "cell_type": "code",
      "source": [
        "model_eval(y_train,LG1_ytrain )"
      ],
      "metadata": {
        "colab": {
          "base_uri": "https://localhost:8080/"
        },
        "outputId": "7557d358-8875-4c06-d745-0cefcf02f1d2",
        "id": "TwTuBKXZ30ym"
      },
      "execution_count": 267,
      "outputs": [
        {
          "output_type": "stream",
          "name": "stdout",
          "text": [
            "Accuracy of the model is :  0.95\n",
            "[[36479  1143]\n",
            " [ 2219 26657]]\n",
            "              precision    recall  f1-score   support\n",
            "\n",
            "           0       0.94      0.97      0.96     37622\n",
            "           1       0.96      0.92      0.94     28876\n",
            "\n",
            "    accuracy                           0.95     66498\n",
            "   macro avg       0.95      0.95      0.95     66498\n",
            "weighted avg       0.95      0.95      0.95     66498\n",
            "\n"
          ]
        }
      ]
    },
    {
      "cell_type": "code",
      "source": [
        "model_eval(y_test,LG1_ytest )"
      ],
      "metadata": {
        "colab": {
          "base_uri": "https://localhost:8080/"
        },
        "outputId": "5e10ac8e-e76b-43a8-a537-f1f832a445ab",
        "id": "2Suo9jK530yn"
      },
      "execution_count": 268,
      "outputs": [
        {
          "output_type": "stream",
          "name": "stdout",
          "text": [
            "Accuracy of the model is :  0.9\n",
            "[[8677  705]\n",
            " [ 906 6337]]\n",
            "              precision    recall  f1-score   support\n",
            "\n",
            "           0       0.91      0.92      0.92      9382\n",
            "           1       0.90      0.87      0.89      7243\n",
            "\n",
            "    accuracy                           0.90     16625\n",
            "   macro avg       0.90      0.90      0.90     16625\n",
            "weighted avg       0.90      0.90      0.90     16625\n",
            "\n"
          ]
        }
      ]
    },
    {
      "cell_type": "markdown",
      "source": [
        "# *Model Evaluation after Feature Selection Implementation*"
      ],
      "metadata": {
        "id": "yPSEdfBk2wrU"
      }
    },
    {
      "cell_type": "code",
      "source": [
        "from sklearn.feature_selection import SelectFromModel"
      ],
      "metadata": {
        "id": "0fhQgvHc2xU0"
      },
      "execution_count": 250,
      "outputs": []
    },
    {
      "cell_type": "code",
      "source": [
        "sel = SelectFromModel(RandomForestClassifier(n_estimators = 200, random_state = 123))"
      ],
      "metadata": {
        "id": "jjNB03Kn2yF8"
      },
      "execution_count": 251,
      "outputs": []
    },
    {
      "cell_type": "code",
      "source": [
        "sel.fit(X,Y)"
      ],
      "metadata": {
        "id": "PIVWfv4A2x5-",
        "colab": {
          "base_uri": "https://localhost:8080/"
        },
        "outputId": "28a08ed5-eb0d-42de-9ffc-f32814121f9e"
      },
      "execution_count": 252,
      "outputs": [
        {
          "output_type": "execute_result",
          "data": {
            "text/plain": [
              "SelectFromModel(estimator=RandomForestClassifier(n_estimators=200,\n",
              "                                                 random_state=123))"
            ]
          },
          "metadata": {},
          "execution_count": 252
        }
      ]
    },
    {
      "cell_type": "code",
      "source": [
        "sel.get_support()"
      ],
      "metadata": {
        "id": "qjHge45fUvQq",
        "colab": {
          "base_uri": "https://localhost:8080/"
        },
        "outputId": "d974544b-8def-48f2-b77e-09eb844b2cc1"
      },
      "execution_count": 253,
      "outputs": [
        {
          "output_type": "execute_result",
          "data": {
            "text/plain": [
              "array([False, False, False,  True,  True, False,  True, False, False,\n",
              "       False, False,  True,  True,  True, False, False, False, False,\n",
              "       False, False, False, False])"
            ]
          },
          "metadata": {},
          "execution_count": 253
        }
      ]
    },
    {
      "cell_type": "code",
      "source": [
        "sel_feat = X.columns[(sel.get_support())].to_list()\n",
        "sel_feat"
      ],
      "metadata": {
        "id": "AeNaljMiT-NI",
        "colab": {
          "base_uri": "https://localhost:8080/"
        },
        "outputId": "78d7afae-dc52-4be5-8cbf-1fdb7ea3bb26"
      },
      "execution_count": 254,
      "outputs": [
        {
          "output_type": "execute_result",
          "data": {
            "text/plain": [
              "['Type of Travel',\n",
              " 'Class',\n",
              " 'Inflight wifi service',\n",
              " 'Online boarding',\n",
              " 'Seat comfort',\n",
              " 'Inflight entertainment']"
            ]
          },
          "metadata": {},
          "execution_count": 254
        }
      ]
    },
    {
      "cell_type": "code",
      "source": [
        "y_sel = train['satisfaction']\n",
        "x_sel = train[sel_feat]"
      ],
      "metadata": {
        "id": "BchB6kUSVGoj"
      },
      "execution_count": 255,
      "outputs": []
    },
    {
      "cell_type": "code",
      "source": [
        "x_train_sel, x_test_sel, y_train_sel, y_test_sel = train_test_split(x_sel,y_sel, test_size = 0.2, random_state = 123)"
      ],
      "metadata": {
        "id": "sQlNQLNMVGiG"
      },
      "execution_count": 256,
      "outputs": []
    },
    {
      "cell_type": "code",
      "source": [
        "print(x_train_sel.shape)\n",
        "print(x_test_sel.shape)\n",
        "print(y_train_sel.shape)\n",
        "print(y_test_sel.shape)"
      ],
      "metadata": {
        "id": "hZ_wpzl3Vwjr",
        "colab": {
          "base_uri": "https://localhost:8080/"
        },
        "outputId": "50ea5db8-111f-4caf-e0ea-8df43d5dd0fa"
      },
      "execution_count": 126,
      "outputs": [
        {
          "output_type": "stream",
          "name": "stdout",
          "text": [
            "(66498, 6)\n",
            "(16625, 6)\n",
            "(66498,)\n",
            "(16625,)\n"
          ]
        }
      ]
    },
    {
      "cell_type": "markdown",
      "source": [
        "## **Random Forest with Feature Selection**"
      ],
      "metadata": {
        "id": "sewC-xOHW3ah"
      }
    },
    {
      "cell_type": "code",
      "source": [
        "rf_FS = RandomForestClassifier(n_estimators= 200,random_state = 123)\n",
        "rf_FS.fit(x_train_sel, y_train_sel)\n",
        "preds_train_FS = rf_FS.predict(x_train_sel)\n",
        "preds_test_FS = rf_FS.predict(x_test_sel)"
      ],
      "metadata": {
        "id": "T7cbb-1KVwRR"
      },
      "execution_count": 127,
      "outputs": []
    },
    {
      "cell_type": "code",
      "source": [
        "model_eval(y_train_sel, preds_train_FS)"
      ],
      "metadata": {
        "id": "QZt1cuZMXKWM",
        "colab": {
          "base_uri": "https://localhost:8080/"
        },
        "outputId": "aa75db46-019a-4aad-c22c-b53d421fa59e"
      },
      "execution_count": 128,
      "outputs": [
        {
          "output_type": "stream",
          "name": "stdout",
          "text": [
            "Accuracy of the model is :  0.93\n",
            "[[35686  1936]\n",
            " [ 2393 26483]]\n",
            "              precision    recall  f1-score   support\n",
            "\n",
            "           0       0.94      0.95      0.94     37622\n",
            "           1       0.93      0.92      0.92     28876\n",
            "\n",
            "    accuracy                           0.93     66498\n",
            "   macro avg       0.93      0.93      0.93     66498\n",
            "weighted avg       0.93      0.93      0.93     66498\n",
            "\n"
          ]
        }
      ]
    },
    {
      "cell_type": "code",
      "source": [
        "model_eval(y_test_sel, preds_test_FS)"
      ],
      "metadata": {
        "id": "JzvZmFGHXKRq",
        "colab": {
          "base_uri": "https://localhost:8080/"
        },
        "outputId": "cf75de7f-f339-4992-aa32-d10c9fd0cd1c"
      },
      "execution_count": 129,
      "outputs": [
        {
          "output_type": "stream",
          "name": "stdout",
          "text": [
            "Accuracy of the model is :  0.93\n",
            "[[8907  475]\n",
            " [ 621 6622]]\n",
            "              precision    recall  f1-score   support\n",
            "\n",
            "           0       0.93      0.95      0.94      9382\n",
            "           1       0.93      0.91      0.92      7243\n",
            "\n",
            "    accuracy                           0.93     16625\n",
            "   macro avg       0.93      0.93      0.93     16625\n",
            "weighted avg       0.93      0.93      0.93     16625\n",
            "\n"
          ]
        }
      ]
    },
    {
      "cell_type": "markdown",
      "source": [
        "## **Decision Tree with Feature Selection**"
      ],
      "metadata": {
        "id": "tZ2Pysd9YOrO"
      }
    },
    {
      "cell_type": "code",
      "source": [
        "dtree2 = DecisionTreeClassifier(max_depth = 3,min_samples_split = 3, random_state =123)\n",
        "dtree2.fit(x_train_sel, y_train_sel)\n",
        "pred2_dtr_train = dtree2.predict(x_train_sel)\n",
        "pred2_dtr_test = dtree2.predict(x_test_sel)"
      ],
      "metadata": {
        "id": "KTfllb1KXKNP"
      },
      "execution_count": 130,
      "outputs": []
    },
    {
      "cell_type": "code",
      "source": [
        "model_eval(y_train_sel, pred2_dtr_train )"
      ],
      "metadata": {
        "id": "OuV2GNDgXKI6",
        "colab": {
          "base_uri": "https://localhost:8080/"
        },
        "outputId": "0040791b-7f29-4d58-eae9-4f6b8667695d"
      },
      "execution_count": 131,
      "outputs": [
        {
          "output_type": "stream",
          "name": "stdout",
          "text": [
            "Accuracy of the model is :  0.88\n",
            "[[32621  5001]\n",
            " [ 2673 26203]]\n",
            "              precision    recall  f1-score   support\n",
            "\n",
            "           0       0.92      0.87      0.89     37622\n",
            "           1       0.84      0.91      0.87     28876\n",
            "\n",
            "    accuracy                           0.88     66498\n",
            "   macro avg       0.88      0.89      0.88     66498\n",
            "weighted avg       0.89      0.88      0.88     66498\n",
            "\n"
          ]
        }
      ]
    },
    {
      "cell_type": "code",
      "source": [
        "model_eval(pred2_dtr_test, y_test_sel)"
      ],
      "metadata": {
        "id": "Hh2NasHlYxBq",
        "colab": {
          "base_uri": "https://localhost:8080/"
        },
        "outputId": "f8de4670-2b26-45fe-d487-004bbcbafeb1"
      },
      "execution_count": 132,
      "outputs": [
        {
          "output_type": "stream",
          "name": "stdout",
          "text": [
            "Accuracy of the model is :  0.89\n",
            "[[8174  683]\n",
            " [1208 6560]]\n",
            "              precision    recall  f1-score   support\n",
            "\n",
            "           0       0.87      0.92      0.90      8857\n",
            "           1       0.91      0.84      0.87      7768\n",
            "\n",
            "    accuracy                           0.89     16625\n",
            "   macro avg       0.89      0.88      0.89     16625\n",
            "weighted avg       0.89      0.89      0.89     16625\n",
            "\n"
          ]
        }
      ]
    },
    {
      "cell_type": "markdown",
      "source": [
        "## **Logistic Regression with Feature Selection**"
      ],
      "metadata": {
        "id": "5D1oouNbY4Ob"
      }
    },
    {
      "cell_type": "code",
      "source": [
        "logreg_FS = LogisticRegression(max_iter = 800)\n",
        "logreg_FS.fit(x_train_sel,y_train_sel)\n",
        "predlog2_ytrain = logreg_FS.predict(x_train_sel)\n",
        "predlog2_ytest =  logreg_FS.predict(x_test_sel)"
      ],
      "metadata": {
        "id": "l46_TKpnY4uF"
      },
      "execution_count": 133,
      "outputs": []
    },
    {
      "cell_type": "code",
      "source": [
        "model_eval(predlog2_ytrain, y_train_sel)"
      ],
      "metadata": {
        "id": "oOlldg9bY500",
        "colab": {
          "base_uri": "https://localhost:8080/"
        },
        "outputId": "27b7ff47-a265-4f36-e0f5-c4c4ec5c83ef"
      },
      "execution_count": 134,
      "outputs": [
        {
          "output_type": "stream",
          "name": "stdout",
          "text": [
            "Accuracy of the model is :  0.84\n",
            "[[32138  5379]\n",
            " [ 5484 23497]]\n",
            "              precision    recall  f1-score   support\n",
            "\n",
            "           0       0.85      0.86      0.86     37517\n",
            "           1       0.81      0.81      0.81     28981\n",
            "\n",
            "    accuracy                           0.84     66498\n",
            "   macro avg       0.83      0.83      0.83     66498\n",
            "weighted avg       0.84      0.84      0.84     66498\n",
            "\n"
          ]
        }
      ]
    },
    {
      "cell_type": "code",
      "source": [
        "model_eval(predlog2_ytest, y_test_sel)"
      ],
      "metadata": {
        "id": "4-gTfAyDY5vM",
        "colab": {
          "base_uri": "https://localhost:8080/"
        },
        "outputId": "fb061316-342e-4f2f-da77-68cb70962a5e"
      },
      "execution_count": 135,
      "outputs": [
        {
          "output_type": "stream",
          "name": "stdout",
          "text": [
            "Accuracy of the model is :  0.84\n",
            "[[8013 1317]\n",
            " [1369 5926]]\n",
            "              precision    recall  f1-score   support\n",
            "\n",
            "           0       0.85      0.86      0.86      9330\n",
            "           1       0.82      0.81      0.82      7295\n",
            "\n",
            "    accuracy                           0.84     16625\n",
            "   macro avg       0.84      0.84      0.84     16625\n",
            "weighted avg       0.84      0.84      0.84     16625\n",
            "\n"
          ]
        }
      ]
    },
    {
      "cell_type": "markdown",
      "source": [
        "## **Naive Bayes with Feature Selection**"
      ],
      "metadata": {
        "id": "xtqtuuB3ZmOE"
      }
    },
    {
      "cell_type": "code",
      "source": [
        "nb_FS = GaussianNB()\n",
        "nb_FS.fit(x_train_sel, y_train_sel)"
      ],
      "metadata": {
        "id": "c41vINkeZmsv",
        "colab": {
          "base_uri": "https://localhost:8080/"
        },
        "outputId": "61cd3eea-e25c-4384-c35c-c365224fe20c"
      },
      "execution_count": 136,
      "outputs": [
        {
          "output_type": "execute_result",
          "data": {
            "text/plain": [
              "GaussianNB()"
            ]
          },
          "metadata": {},
          "execution_count": 136
        }
      ]
    },
    {
      "cell_type": "code",
      "source": [
        "pred2_train_nb = nb_FS.predict(x_train_sel)\n",
        "pred2_test_nb = nb_FS.predict(x_test_sel)"
      ],
      "metadata": {
        "id": "gAbFFp-pZnlg"
      },
      "execution_count": 137,
      "outputs": []
    },
    {
      "cell_type": "code",
      "source": [
        "model_eval(y_train_sel,pred2_train_nb )"
      ],
      "metadata": {
        "id": "HCSLf31BZnUM",
        "colab": {
          "base_uri": "https://localhost:8080/"
        },
        "outputId": "3e4adb58-0275-4340-8f45-753466da5117"
      },
      "execution_count": 138,
      "outputs": [
        {
          "output_type": "stream",
          "name": "stdout",
          "text": [
            "Accuracy of the model is :  0.84\n",
            "[[31400  6222]\n",
            " [ 4500 24376]]\n",
            "              precision    recall  f1-score   support\n",
            "\n",
            "           0       0.87      0.83      0.85     37622\n",
            "           1       0.80      0.84      0.82     28876\n",
            "\n",
            "    accuracy                           0.84     66498\n",
            "   macro avg       0.84      0.84      0.84     66498\n",
            "weighted avg       0.84      0.84      0.84     66498\n",
            "\n"
          ]
        }
      ]
    },
    {
      "cell_type": "code",
      "source": [
        "model_eval(y_test_sel,pred2_test_nb )"
      ],
      "metadata": {
        "id": "yZ_3bLLec3DC",
        "colab": {
          "base_uri": "https://localhost:8080/"
        },
        "outputId": "8be6145f-28c6-4438-b4f6-b45b7bdb7981"
      },
      "execution_count": 139,
      "outputs": [
        {
          "output_type": "stream",
          "name": "stdout",
          "text": [
            "Accuracy of the model is :  0.84\n",
            "[[7814 1568]\n",
            " [1117 6126]]\n",
            "              precision    recall  f1-score   support\n",
            "\n",
            "           0       0.87      0.83      0.85      9382\n",
            "           1       0.80      0.85      0.82      7243\n",
            "\n",
            "    accuracy                           0.84     16625\n",
            "   macro avg       0.84      0.84      0.84     16625\n",
            "weighted avg       0.84      0.84      0.84     16625\n",
            "\n"
          ]
        }
      ]
    },
    {
      "cell_type": "markdown",
      "source": [
        "## **XGBoost Classifier with Feature Selection**"
      ],
      "metadata": {
        "id": "i6sKladOEQRQ"
      }
    },
    {
      "cell_type": "code",
      "source": [
        "from xgboost import XGBClassifier\n",
        "\n",
        "xgb2 = XGBClassifier(random_state =123)"
      ],
      "metadata": {
        "id": "WMn323W9-0Qt"
      },
      "execution_count": 281,
      "outputs": []
    },
    {
      "cell_type": "code",
      "source": [
        "xgb2.fit(x_train_sel,y_train_sel)\n",
        "XGB2_ytrain = xgb2.predict(x_train_sel)\n",
        "XGB2_ytest =  xgb2.predict(x_test_sel)"
      ],
      "metadata": {
        "id": "kdPz0zTu_VvS"
      },
      "execution_count": 282,
      "outputs": []
    },
    {
      "cell_type": "code",
      "source": [
        "model_eval(y_train_sel,XGB2_ytrain )"
      ],
      "metadata": {
        "id": "pIzAZPQ4_S1z",
        "colab": {
          "base_uri": "https://localhost:8080/"
        },
        "outputId": "6beb5d56-9cbe-4b0b-dc20-c0bf4f232c87"
      },
      "execution_count": 283,
      "outputs": [
        {
          "output_type": "stream",
          "name": "stdout",
          "text": [
            "Accuracy of the model is :  0.92\n",
            "[[35092  2530]\n",
            " [ 2941 25935]]\n",
            "              precision    recall  f1-score   support\n",
            "\n",
            "           0       0.92      0.93      0.93     37622\n",
            "           1       0.91      0.90      0.90     28876\n",
            "\n",
            "    accuracy                           0.92     66498\n",
            "   macro avg       0.92      0.92      0.92     66498\n",
            "weighted avg       0.92      0.92      0.92     66498\n",
            "\n"
          ]
        }
      ]
    },
    {
      "cell_type": "code",
      "source": [
        "model_eval(y_test_sel,XGB2_ytest )"
      ],
      "metadata": {
        "id": "9tcbupfc_S11",
        "colab": {
          "base_uri": "https://localhost:8080/"
        },
        "outputId": "07b9e558-c57a-49b4-be2f-c66de1b30345"
      },
      "execution_count": 284,
      "outputs": [
        {
          "output_type": "stream",
          "name": "stdout",
          "text": [
            "Accuracy of the model is :  0.92\n",
            "[[8770  612]\n",
            " [ 751 6492]]\n",
            "              precision    recall  f1-score   support\n",
            "\n",
            "           0       0.92      0.93      0.93      9382\n",
            "           1       0.91      0.90      0.90      7243\n",
            "\n",
            "    accuracy                           0.92     16625\n",
            "   macro avg       0.92      0.92      0.92     16625\n",
            "weighted avg       0.92      0.92      0.92     16625\n",
            "\n"
          ]
        }
      ]
    },
    {
      "cell_type": "markdown",
      "source": [
        "## **CatBoost Classifier with Feature Selection**"
      ],
      "metadata": {
        "id": "7oDSEPgTo_Si"
      }
    },
    {
      "cell_type": "code",
      "source": [
        " cat2 = CatBoostClassifier(iterations = 2, learning_rate = 0.1)\n",
        "\n",
        " cat2.fit(x_train_sel,y_train_sel)\n",
        " Cat2_ytrain = cat2.predict(x_train_sel)\n",
        " Cat2_ytest =  cat2.predict(x_test_sel) "
      ],
      "metadata": {
        "colab": {
          "base_uri": "https://localhost:8080/"
        },
        "outputId": "6417318b-4537-41f6-af09-ef8e4e6b72e7",
        "id": "gGehr_PSo_Sj"
      },
      "execution_count": 285,
      "outputs": [
        {
          "output_type": "stream",
          "name": "stdout",
          "text": [
            "0:\tlearn: 0.6269875\ttotal: 9.25ms\tremaining: 9.25ms\n",
            "1:\tlearn: 0.5723730\ttotal: 18.3ms\tremaining: 0us\n"
          ]
        }
      ]
    },
    {
      "cell_type": "code",
      "source": [
        "print('CatBoost model is fitted: ' + str(cat2.is_fitted()))\n",
        "print('CatBoost model parameters:')\n",
        "print(cat2.get_params())"
      ],
      "metadata": {
        "colab": {
          "base_uri": "https://localhost:8080/"
        },
        "outputId": "3a18bbf2-dd3a-42aa-c9b4-c6a61a13d5e0",
        "id": "Rb4_FpiMo_Sl"
      },
      "execution_count": 286,
      "outputs": [
        {
          "output_type": "stream",
          "name": "stdout",
          "text": [
            "CatBoost model is fitted: True\n",
            "CatBoost model parameters:\n",
            "{'iterations': 2, 'learning_rate': 0.1}\n"
          ]
        }
      ]
    },
    {
      "cell_type": "code",
      "source": [
        "model_eval(y_train_sel,Cat2_ytrain )"
      ],
      "metadata": {
        "colab": {
          "base_uri": "https://localhost:8080/"
        },
        "outputId": "21a0dac8-f624-479c-acc7-465335780d98",
        "id": "GSHjY2Vio_Sl"
      },
      "execution_count": 287,
      "outputs": [
        {
          "output_type": "stream",
          "name": "stdout",
          "text": [
            "Accuracy of the model is :  0.9\n",
            "[[34320  3302]\n",
            " [ 3629 25247]]\n",
            "              precision    recall  f1-score   support\n",
            "\n",
            "           0       0.90      0.91      0.91     37622\n",
            "           1       0.88      0.87      0.88     28876\n",
            "\n",
            "    accuracy                           0.90     66498\n",
            "   macro avg       0.89      0.89      0.89     66498\n",
            "weighted avg       0.90      0.90      0.90     66498\n",
            "\n"
          ]
        }
      ]
    },
    {
      "cell_type": "code",
      "source": [
        "model_eval(y_test_sel,Cat2_ytest )"
      ],
      "metadata": {
        "colab": {
          "base_uri": "https://localhost:8080/"
        },
        "outputId": "c084f011-9bcf-461d-9543-a03895445b6f",
        "id": "ZsGpQRe-o_Sm"
      },
      "execution_count": 288,
      "outputs": [
        {
          "output_type": "stream",
          "name": "stdout",
          "text": [
            "Accuracy of the model is :  0.9\n",
            "[[8604  778]\n",
            " [ 924 6319]]\n",
            "              precision    recall  f1-score   support\n",
            "\n",
            "           0       0.90      0.92      0.91      9382\n",
            "           1       0.89      0.87      0.88      7243\n",
            "\n",
            "    accuracy                           0.90     16625\n",
            "   macro avg       0.90      0.89      0.90     16625\n",
            "weighted avg       0.90      0.90      0.90     16625\n",
            "\n"
          ]
        }
      ]
    },
    {
      "cell_type": "markdown",
      "source": [
        "## **LGBM Classifier with Feature Selection**"
      ],
      "metadata": {
        "id": "jy6bXYPX4QOX"
      }
    },
    {
      "cell_type": "code",
      "source": [
        "lb2 = lgb.LGBMClassifier()\n",
        "lb2.fit(x_train_sel,y_train_sel)"
      ],
      "metadata": {
        "colab": {
          "base_uri": "https://localhost:8080/"
        },
        "outputId": "e84edfaa-eac7-4f66-f435-8badbec8a3fe",
        "id": "kkMhAznC4QOZ"
      },
      "execution_count": 269,
      "outputs": [
        {
          "output_type": "execute_result",
          "data": {
            "text/plain": [
              "LGBMClassifier()"
            ]
          },
          "metadata": {},
          "execution_count": 269
        }
      ]
    },
    {
      "cell_type": "code",
      "source": [
        "LG2_ytrain = lb2.predict(x_train_sel)\n",
        "LG2_ytest =  lb2.predict(x_test_sel) "
      ],
      "metadata": {
        "id": "dGw3AgJC4QOa"
      },
      "execution_count": 270,
      "outputs": []
    },
    {
      "cell_type": "code",
      "source": [
        "model_eval(y_train_sel,LG2_ytrain )"
      ],
      "metadata": {
        "colab": {
          "base_uri": "https://localhost:8080/"
        },
        "outputId": "59c8c848-8021-477c-c0d1-9b700cbc419b",
        "id": "g4US3X5T4QOb"
      },
      "execution_count": 271,
      "outputs": [
        {
          "output_type": "stream",
          "name": "stdout",
          "text": [
            "Accuracy of the model is :  0.93\n",
            "[[35528  2094]\n",
            " [ 2461 26415]]\n",
            "              precision    recall  f1-score   support\n",
            "\n",
            "           0       0.94      0.94      0.94     37622\n",
            "           1       0.93      0.91      0.92     28876\n",
            "\n",
            "    accuracy                           0.93     66498\n",
            "   macro avg       0.93      0.93      0.93     66498\n",
            "weighted avg       0.93      0.93      0.93     66498\n",
            "\n"
          ]
        }
      ]
    },
    {
      "cell_type": "code",
      "source": [
        "model_eval(y_test_sel,LG2_ytest )"
      ],
      "metadata": {
        "colab": {
          "base_uri": "https://localhost:8080/"
        },
        "outputId": "b976ca9c-2c3b-4db2-bab2-3a574dc3f1ef",
        "id": "56-n8DNF4QOb"
      },
      "execution_count": 272,
      "outputs": [
        {
          "output_type": "stream",
          "name": "stdout",
          "text": [
            "Accuracy of the model is :  0.93\n",
            "[[8878  504]\n",
            " [ 607 6636]]\n",
            "              precision    recall  f1-score   support\n",
            "\n",
            "           0       0.94      0.95      0.94      9382\n",
            "           1       0.93      0.92      0.92      7243\n",
            "\n",
            "    accuracy                           0.93     16625\n",
            "   macro avg       0.93      0.93      0.93     16625\n",
            "weighted avg       0.93      0.93      0.93     16625\n",
            "\n"
          ]
        }
      ]
    },
    {
      "cell_type": "markdown",
      "source": [
        "===================================================="
      ],
      "metadata": {
        "id": "eGZmPGPW-gEa"
      }
    },
    {
      "cell_type": "markdown",
      "metadata": {
        "id": "fljsZw-rPbCb"
      },
      "source": [
        "## **Apply the Training Model to Test Dataset**"
      ]
    },
    {
      "cell_type": "markdown",
      "source": [
        "### **Random Forest Classifier**"
      ],
      "metadata": {
        "id": "2lg575xR-G74"
      }
    },
    {
      "cell_type": "code",
      "execution_count": 144,
      "metadata": {
        "id": "q0ctw1KZ7RlM"
      },
      "outputs": [],
      "source": [
        "testDF = test.copy()"
      ]
    },
    {
      "cell_type": "code",
      "execution_count": 145,
      "metadata": {
        "id": "BXSYSBo57Rg0",
        "colab": {
          "base_uri": "https://localhost:8080/"
        },
        "outputId": "950be64b-f0a2-460a-82cf-f048403d4f86"
      },
      "outputs": [
        {
          "output_type": "stream",
          "name": "stderr",
          "text": [
            "[Parallel(n_jobs=1)]: Using backend SequentialBackend with 1 concurrent workers.\n",
            "[Parallel(n_jobs=1)]: Done 800 out of 800 | elapsed:    3.7s finished\n"
          ]
        },
        {
          "output_type": "execute_result",
          "data": {
            "text/plain": [
              "array([1, 0, 0, ..., 1, 0, 1])"
            ]
          },
          "metadata": {},
          "execution_count": 145
        }
      ],
      "source": [
        "ypred = rf.predict(testDF)\n",
        "ypred"
      ]
    },
    {
      "cell_type": "code",
      "execution_count": 146,
      "metadata": {
        "id": "Y2fm9jc9Pbuz",
        "colab": {
          "base_uri": "https://localhost:8080/"
        },
        "outputId": "895d2047-25e5-4014-e839-0db16fa71cda"
      },
      "outputs": [
        {
          "output_type": "execute_result",
          "data": {
            "text/plain": [
              "20781"
            ]
          },
          "metadata": {},
          "execution_count": 146
        }
      ],
      "source": [
        "ypred.shape[0]"
      ]
    },
    {
      "cell_type": "code",
      "execution_count": 147,
      "metadata": {
        "id": "e1E8jkz4PcXS",
        "colab": {
          "base_uri": "https://localhost:8080/",
          "height": 206
        },
        "outputId": "9ed5dedc-1826-407e-d22b-75c95c524bee"
      },
      "outputs": [
        {
          "output_type": "execute_result",
          "data": {
            "text/plain": [
              "      Id             satisfaction\n",
              "0  23509                satisfied\n",
              "1  31011  neutral or dissatisfied\n",
              "2  29345  neutral or dissatisfied\n",
              "3  50242  neutral or dissatisfied\n",
              "4  22244  neutral or dissatisfied"
            ],
            "text/html": [
              "\n",
              "  <div id=\"df-8d758638-9231-45b3-b871-684ac8efe94a\">\n",
              "    <div class=\"colab-df-container\">\n",
              "      <div>\n",
              "<style scoped>\n",
              "    .dataframe tbody tr th:only-of-type {\n",
              "        vertical-align: middle;\n",
              "    }\n",
              "\n",
              "    .dataframe tbody tr th {\n",
              "        vertical-align: top;\n",
              "    }\n",
              "\n",
              "    .dataframe thead th {\n",
              "        text-align: right;\n",
              "    }\n",
              "</style>\n",
              "<table border=\"1\" class=\"dataframe\">\n",
              "  <thead>\n",
              "    <tr style=\"text-align: right;\">\n",
              "      <th></th>\n",
              "      <th>Id</th>\n",
              "      <th>satisfaction</th>\n",
              "    </tr>\n",
              "  </thead>\n",
              "  <tbody>\n",
              "    <tr>\n",
              "      <th>0</th>\n",
              "      <td>23509</td>\n",
              "      <td>satisfied</td>\n",
              "    </tr>\n",
              "    <tr>\n",
              "      <th>1</th>\n",
              "      <td>31011</td>\n",
              "      <td>neutral or dissatisfied</td>\n",
              "    </tr>\n",
              "    <tr>\n",
              "      <th>2</th>\n",
              "      <td>29345</td>\n",
              "      <td>neutral or dissatisfied</td>\n",
              "    </tr>\n",
              "    <tr>\n",
              "      <th>3</th>\n",
              "      <td>50242</td>\n",
              "      <td>neutral or dissatisfied</td>\n",
              "    </tr>\n",
              "    <tr>\n",
              "      <th>4</th>\n",
              "      <td>22244</td>\n",
              "      <td>neutral or dissatisfied</td>\n",
              "    </tr>\n",
              "  </tbody>\n",
              "</table>\n",
              "</div>\n",
              "      <button class=\"colab-df-convert\" onclick=\"convertToInteractive('df-8d758638-9231-45b3-b871-684ac8efe94a')\"\n",
              "              title=\"Convert this dataframe to an interactive table.\"\n",
              "              style=\"display:none;\">\n",
              "        \n",
              "  <svg xmlns=\"http://www.w3.org/2000/svg\" height=\"24px\"viewBox=\"0 0 24 24\"\n",
              "       width=\"24px\">\n",
              "    <path d=\"M0 0h24v24H0V0z\" fill=\"none\"/>\n",
              "    <path d=\"M18.56 5.44l.94 2.06.94-2.06 2.06-.94-2.06-.94-.94-2.06-.94 2.06-2.06.94zm-11 1L8.5 8.5l.94-2.06 2.06-.94-2.06-.94L8.5 2.5l-.94 2.06-2.06.94zm10 10l.94 2.06.94-2.06 2.06-.94-2.06-.94-.94-2.06-.94 2.06-2.06.94z\"/><path d=\"M17.41 7.96l-1.37-1.37c-.4-.4-.92-.59-1.43-.59-.52 0-1.04.2-1.43.59L10.3 9.45l-7.72 7.72c-.78.78-.78 2.05 0 2.83L4 21.41c.39.39.9.59 1.41.59.51 0 1.02-.2 1.41-.59l7.78-7.78 2.81-2.81c.8-.78.8-2.07 0-2.86zM5.41 20L4 18.59l7.72-7.72 1.47 1.35L5.41 20z\"/>\n",
              "  </svg>\n",
              "      </button>\n",
              "      \n",
              "  <style>\n",
              "    .colab-df-container {\n",
              "      display:flex;\n",
              "      flex-wrap:wrap;\n",
              "      gap: 12px;\n",
              "    }\n",
              "\n",
              "    .colab-df-convert {\n",
              "      background-color: #E8F0FE;\n",
              "      border: none;\n",
              "      border-radius: 50%;\n",
              "      cursor: pointer;\n",
              "      display: none;\n",
              "      fill: #1967D2;\n",
              "      height: 32px;\n",
              "      padding: 0 0 0 0;\n",
              "      width: 32px;\n",
              "    }\n",
              "\n",
              "    .colab-df-convert:hover {\n",
              "      background-color: #E2EBFA;\n",
              "      box-shadow: 0px 1px 2px rgba(60, 64, 67, 0.3), 0px 1px 3px 1px rgba(60, 64, 67, 0.15);\n",
              "      fill: #174EA6;\n",
              "    }\n",
              "\n",
              "    [theme=dark] .colab-df-convert {\n",
              "      background-color: #3B4455;\n",
              "      fill: #D2E3FC;\n",
              "    }\n",
              "\n",
              "    [theme=dark] .colab-df-convert:hover {\n",
              "      background-color: #434B5C;\n",
              "      box-shadow: 0px 1px 3px 1px rgba(0, 0, 0, 0.15);\n",
              "      filter: drop-shadow(0px 1px 2px rgba(0, 0, 0, 0.3));\n",
              "      fill: #FFFFFF;\n",
              "    }\n",
              "  </style>\n",
              "\n",
              "      <script>\n",
              "        const buttonEl =\n",
              "          document.querySelector('#df-8d758638-9231-45b3-b871-684ac8efe94a button.colab-df-convert');\n",
              "        buttonEl.style.display =\n",
              "          google.colab.kernel.accessAllowed ? 'block' : 'none';\n",
              "\n",
              "        async function convertToInteractive(key) {\n",
              "          const element = document.querySelector('#df-8d758638-9231-45b3-b871-684ac8efe94a');\n",
              "          const dataTable =\n",
              "            await google.colab.kernel.invokeFunction('convertToInteractive',\n",
              "                                                     [key], {});\n",
              "          if (!dataTable) return;\n",
              "\n",
              "          const docLinkHtml = 'Like what you see? Visit the ' +\n",
              "            '<a target=\"_blank\" href=https://colab.research.google.com/notebooks/data_table.ipynb>data table notebook</a>'\n",
              "            + ' to learn more about interactive tables.';\n",
              "          element.innerHTML = '';\n",
              "          dataTable['output_type'] = 'display_data';\n",
              "          await google.colab.output.renderOutput(dataTable, element);\n",
              "          const docLink = document.createElement('div');\n",
              "          docLink.innerHTML = docLinkHtml;\n",
              "          element.appendChild(docLink);\n",
              "        }\n",
              "      </script>\n",
              "    </div>\n",
              "  </div>\n",
              "  "
            ]
          },
          "metadata": {},
          "execution_count": 147
        }
      ],
      "source": [
        "smpl_Col = [\"Id\", \"satisfaction\"]\n",
        "sample = pd.read_csv(filepath_or_buffer = 'https://raw.githubusercontent.com/sm24abr/Data_Repo/main/AirCustSatisfaction/sample_submission.csv', names = smpl_Col, header = None)\n",
        "prd = pd.DataFrame(data = ypred, columns = [\"satisfaction\"])\n",
        "prd = prd.replace({'satisfaction': {0 : 'neutral or dissatisfied',1 :'satisfied'}})\n",
        "sample\n",
        "finaldf = pd.concat([sample['Id'],prd],axis = 1)\n",
        "finaldf.head()\n",
        "# # prd\n",
        "finaldf.to_csv('submission1.csv',header = None, index = False)\n",
        "finaldf.head()"
      ]
    },
    {
      "cell_type": "markdown",
      "source": [
        "### **LGBM Classifier**"
      ],
      "metadata": {
        "id": "FgpTcg-I93Fj"
      }
    },
    {
      "cell_type": "code",
      "execution_count": 289,
      "metadata": {
        "id": "QbZYld4d91Da"
      },
      "outputs": [],
      "source": [
        "testDF = test.copy()"
      ]
    },
    {
      "cell_type": "code",
      "execution_count": 290,
      "metadata": {
        "colab": {
          "base_uri": "https://localhost:8080/"
        },
        "outputId": "9ffaa4a0-1489-4f9b-bb4b-4d831edff96a",
        "id": "nTjAbeco91Db"
      },
      "outputs": [
        {
          "output_type": "execute_result",
          "data": {
            "text/plain": [
              "array([1, 0, 0, ..., 1, 0, 1])"
            ]
          },
          "metadata": {},
          "execution_count": 290
        }
      ],
      "source": [
        "ypred1 = lb.predict(testDF)\n",
        "ypred1"
      ]
    },
    {
      "cell_type": "code",
      "execution_count": 291,
      "metadata": {
        "colab": {
          "base_uri": "https://localhost:8080/"
        },
        "outputId": "53865485-b893-42e2-d061-3b99a32fc029",
        "id": "tPb4AaaY91Dc"
      },
      "outputs": [
        {
          "output_type": "execute_result",
          "data": {
            "text/plain": [
              "20781"
            ]
          },
          "metadata": {},
          "execution_count": 291
        }
      ],
      "source": [
        "ypred1.shape[0]"
      ]
    },
    {
      "cell_type": "code",
      "execution_count": 292,
      "metadata": {
        "colab": {
          "base_uri": "https://localhost:8080/",
          "height": 206
        },
        "outputId": "acc2a24a-9965-47cd-97dc-a18b279012ff",
        "id": "A0HiWWAa91Dd"
      },
      "outputs": [
        {
          "output_type": "execute_result",
          "data": {
            "text/plain": [
              "      Id             satisfaction\n",
              "0  23509                satisfied\n",
              "1  31011  neutral or dissatisfied\n",
              "2  29345  neutral or dissatisfied\n",
              "3  50242  neutral or dissatisfied\n",
              "4  22244  neutral or dissatisfied"
            ],
            "text/html": [
              "\n",
              "  <div id=\"df-e3eb8c27-a766-4be1-bba5-a52ad9a08b51\">\n",
              "    <div class=\"colab-df-container\">\n",
              "      <div>\n",
              "<style scoped>\n",
              "    .dataframe tbody tr th:only-of-type {\n",
              "        vertical-align: middle;\n",
              "    }\n",
              "\n",
              "    .dataframe tbody tr th {\n",
              "        vertical-align: top;\n",
              "    }\n",
              "\n",
              "    .dataframe thead th {\n",
              "        text-align: right;\n",
              "    }\n",
              "</style>\n",
              "<table border=\"1\" class=\"dataframe\">\n",
              "  <thead>\n",
              "    <tr style=\"text-align: right;\">\n",
              "      <th></th>\n",
              "      <th>Id</th>\n",
              "      <th>satisfaction</th>\n",
              "    </tr>\n",
              "  </thead>\n",
              "  <tbody>\n",
              "    <tr>\n",
              "      <th>0</th>\n",
              "      <td>23509</td>\n",
              "      <td>satisfied</td>\n",
              "    </tr>\n",
              "    <tr>\n",
              "      <th>1</th>\n",
              "      <td>31011</td>\n",
              "      <td>neutral or dissatisfied</td>\n",
              "    </tr>\n",
              "    <tr>\n",
              "      <th>2</th>\n",
              "      <td>29345</td>\n",
              "      <td>neutral or dissatisfied</td>\n",
              "    </tr>\n",
              "    <tr>\n",
              "      <th>3</th>\n",
              "      <td>50242</td>\n",
              "      <td>neutral or dissatisfied</td>\n",
              "    </tr>\n",
              "    <tr>\n",
              "      <th>4</th>\n",
              "      <td>22244</td>\n",
              "      <td>neutral or dissatisfied</td>\n",
              "    </tr>\n",
              "  </tbody>\n",
              "</table>\n",
              "</div>\n",
              "      <button class=\"colab-df-convert\" onclick=\"convertToInteractive('df-e3eb8c27-a766-4be1-bba5-a52ad9a08b51')\"\n",
              "              title=\"Convert this dataframe to an interactive table.\"\n",
              "              style=\"display:none;\">\n",
              "        \n",
              "  <svg xmlns=\"http://www.w3.org/2000/svg\" height=\"24px\"viewBox=\"0 0 24 24\"\n",
              "       width=\"24px\">\n",
              "    <path d=\"M0 0h24v24H0V0z\" fill=\"none\"/>\n",
              "    <path d=\"M18.56 5.44l.94 2.06.94-2.06 2.06-.94-2.06-.94-.94-2.06-.94 2.06-2.06.94zm-11 1L8.5 8.5l.94-2.06 2.06-.94-2.06-.94L8.5 2.5l-.94 2.06-2.06.94zm10 10l.94 2.06.94-2.06 2.06-.94-2.06-.94-.94-2.06-.94 2.06-2.06.94z\"/><path d=\"M17.41 7.96l-1.37-1.37c-.4-.4-.92-.59-1.43-.59-.52 0-1.04.2-1.43.59L10.3 9.45l-7.72 7.72c-.78.78-.78 2.05 0 2.83L4 21.41c.39.39.9.59 1.41.59.51 0 1.02-.2 1.41-.59l7.78-7.78 2.81-2.81c.8-.78.8-2.07 0-2.86zM5.41 20L4 18.59l7.72-7.72 1.47 1.35L5.41 20z\"/>\n",
              "  </svg>\n",
              "      </button>\n",
              "      \n",
              "  <style>\n",
              "    .colab-df-container {\n",
              "      display:flex;\n",
              "      flex-wrap:wrap;\n",
              "      gap: 12px;\n",
              "    }\n",
              "\n",
              "    .colab-df-convert {\n",
              "      background-color: #E8F0FE;\n",
              "      border: none;\n",
              "      border-radius: 50%;\n",
              "      cursor: pointer;\n",
              "      display: none;\n",
              "      fill: #1967D2;\n",
              "      height: 32px;\n",
              "      padding: 0 0 0 0;\n",
              "      width: 32px;\n",
              "    }\n",
              "\n",
              "    .colab-df-convert:hover {\n",
              "      background-color: #E2EBFA;\n",
              "      box-shadow: 0px 1px 2px rgba(60, 64, 67, 0.3), 0px 1px 3px 1px rgba(60, 64, 67, 0.15);\n",
              "      fill: #174EA6;\n",
              "    }\n",
              "\n",
              "    [theme=dark] .colab-df-convert {\n",
              "      background-color: #3B4455;\n",
              "      fill: #D2E3FC;\n",
              "    }\n",
              "\n",
              "    [theme=dark] .colab-df-convert:hover {\n",
              "      background-color: #434B5C;\n",
              "      box-shadow: 0px 1px 3px 1px rgba(0, 0, 0, 0.15);\n",
              "      filter: drop-shadow(0px 1px 2px rgba(0, 0, 0, 0.3));\n",
              "      fill: #FFFFFF;\n",
              "    }\n",
              "  </style>\n",
              "\n",
              "      <script>\n",
              "        const buttonEl =\n",
              "          document.querySelector('#df-e3eb8c27-a766-4be1-bba5-a52ad9a08b51 button.colab-df-convert');\n",
              "        buttonEl.style.display =\n",
              "          google.colab.kernel.accessAllowed ? 'block' : 'none';\n",
              "\n",
              "        async function convertToInteractive(key) {\n",
              "          const element = document.querySelector('#df-e3eb8c27-a766-4be1-bba5-a52ad9a08b51');\n",
              "          const dataTable =\n",
              "            await google.colab.kernel.invokeFunction('convertToInteractive',\n",
              "                                                     [key], {});\n",
              "          if (!dataTable) return;\n",
              "\n",
              "          const docLinkHtml = 'Like what you see? Visit the ' +\n",
              "            '<a target=\"_blank\" href=https://colab.research.google.com/notebooks/data_table.ipynb>data table notebook</a>'\n",
              "            + ' to learn more about interactive tables.';\n",
              "          element.innerHTML = '';\n",
              "          dataTable['output_type'] = 'display_data';\n",
              "          await google.colab.output.renderOutput(dataTable, element);\n",
              "          const docLink = document.createElement('div');\n",
              "          docLink.innerHTML = docLinkHtml;\n",
              "          element.appendChild(docLink);\n",
              "        }\n",
              "      </script>\n",
              "    </div>\n",
              "  </div>\n",
              "  "
            ]
          },
          "metadata": {},
          "execution_count": 292
        }
      ],
      "source": [
        "smpl_Col = [\"Id\", \"satisfaction\"]\n",
        "sample = pd.read_csv(filepath_or_buffer = 'https://raw.githubusercontent.com/sm24abr/Data_Repo/main/AirCustSatisfaction/sample_submission.csv', names = smpl_Col, header = None)\n",
        "prd = pd.DataFrame(data = ypred1, columns = [\"satisfaction\"])\n",
        "prd = prd.replace({'satisfaction': {0 : 'neutral or dissatisfied',1 :'satisfied'}})\n",
        "sample\n",
        "finaldf = pd.concat([sample['Id'],prd],axis = 1)\n",
        "finaldf.head()\n",
        "# # prd\n",
        "finaldf.to_csv('submission.csv',header = None, index = False)\n",
        "finaldf.head()"
      ]
    },
    {
      "cell_type": "markdown",
      "source": [
        "# *Conclusion*:\n",
        "\n",
        "- I studied briefly about the data, its characteristics and its distribution.​\n",
        "\n",
        "- Explored some questions on factors affecting Customer satisfaction.​\n",
        "\n",
        "- Performed indepth analysis about which features to retain and which to discard.​\n",
        "\n",
        "- We performed model training.​ Tried applying PCA to these models for improvement but found that Random Forest Model and LGBM Model  performed best even without PCA implementation. \n",
        "\n",
        "- We observed metrics for our prediction. \n",
        "-- The Accuracy score for Random Forest Classifier came out to be **0.96** for test dataset and **1.00** for train dataset.\n",
        "-- The Accuracy score for LGBM Classifier came out to be **0.96** for test dataset and **0.97** for train dataset.\n",
        "​\n",
        "- This model now can help us analyse how to improve the customer's satisfaction and help them choose the airline for their next trip."
      ],
      "metadata": {
        "id": "FNw26ifpNMEq"
      }
    },
    {
      "cell_type": "markdown",
      "source": [
        "# Actionable Insights\n",
        "\n",
        "-\tI recommend that airlines should focus on improving the Inflight Wi-Fi Service experience. For instance, airlines could develop better software to allow easier access to Inflight Wi-Fi, or lower the cost to access inflight Wi-Fi such that more economy class customers can enjoy the service. \n",
        "-\tThey should consider improving Leg room and Online boarding service for economy class customers as well.\n",
        "-\tIn addition, airlines should also focus on Ease of Online Booking, as passengers prioritize on ease and convenience in their travel. \n",
        "- Better facilities should be offered to families travelling with children.\n",
        "- Attractive gifts and freebies should be offered to the passengers as takeaway. This would help them feel more welcome and at ease during their journey.\n",
        "-\tEfforts should be made for reducing the flight delays for better customer experience.\n",
        "-\tAll these points taken together will help increase the probability of the customer’s return to the airline for travel\n"
      ],
      "metadata": {
        "id": "4CqxkrnwT-wa"
      }
    }
  ],
  "metadata": {
    "colab": {
      "collapsed_sections": [
        "4GHI4ZRYSKQi",
        "xEaB4spYSJ5m",
        "TeGwOFS8SMBx",
        "uDIlKbOTdgVD",
        "fdk5CXDjdgVM"
      ],
      "name": "NB_AirlineCustSatisPred.ipynb",
      "provenance": [],
      "toc_visible": true
    },
    "kernelspec": {
      "display_name": "Python 3",
      "language": "python",
      "name": "python3"
    },
    "language_info": {
      "codemirror_mode": {
        "name": "ipython",
        "version": 3
      },
      "file_extension": ".py",
      "mimetype": "text/x-python",
      "name": "python",
      "nbconvert_exporter": "python",
      "pygments_lexer": "ipython3",
      "version": "3.8.8"
    }
  },
  "nbformat": 4,
  "nbformat_minor": 0
}