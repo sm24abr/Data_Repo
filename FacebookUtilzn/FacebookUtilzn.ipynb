{
 "cells": [
  {
   "cell_type": "markdown",
   "metadata": {
    "colab_type": "text",
    "id": "9ku0h8OsoHJz"
   },
   "source": [
    "<p align=\"center\"><img src=\"https://github.com/insaid2018/Term-1/blob/master/Images/INSAID_Full%20Logo.png?raw=true\" width=\"260\" height=\"110\" /></p>"
   ]
  },
  {
   "cell_type": "markdown",
   "metadata": {
    "colab_type": "text",
    "id": "NWvRwRdGoK5Y"
   },
   "source": [
    "---\n",
    "# **Table of Contents**\n",
    "---\n",
    "\n",
    "**1.** [**Introduction**](#Section1)<br>\n",
    "**2.** [**Problem Statement**](#Section2)<br>\n",
    "**3.** [**Installing & Importing Libraries**](#Section3)<br>\n",
    "  - **3.1** [**Installing Libraries**](#Section31)\n",
    "  - **3.2** [**Upgrading Libraries**](#Section32)\n",
    "  - **3.3** [**Importing Libraries**](#Section33)\n",
    "\n",
    "**4.** [**Data Acquisition & Description**](#Section4)<br>\n",
    "  - **4.1** [**Data Description**](#Section41)\n",
    "  - **4.2** [**Data Information**](#Section42)\n",
    "\n",
    "**5.** [**Data Pre-Profiling**](#Section5)<br>\n",
    "  - **5.1** [**Pre Profiling Report**](#Section51)\n",
    "**6.** [**Data Cleaning**](#Section6)<br>\n",
    "  - **6.1** [**Handling Missing Data**](#Section61)\n",
    "  - **6.2** [**Handling inconsistent data**](#Section62)\n",
    "**7.** [**Data Post-Profiling**](#Section7)<br>\n",
    "**8.** [**Exploratory Data Analysis**](#Section8)<br>\n",
    "**9.** [**Summarization**](#Section9)<br>\n",
    "  - **9.1** [**Conclusion**](#Section91)<br>\n",
    "  - **9.2** [**Actionable Insights**](#Section92)<br>\n",
    "---"
   ]
  },
  {
   "cell_type": "markdown",
   "metadata": {
    "colab_type": "text",
    "id": "iACv_4iIoaLi"
   },
   "source": [
    "---\n",
    "<a name = Section1></a>\n",
    "# **1. Introduction**\n",
    "---\n",
    "\n",
    "A decade ago, it was very difficult to find and connect with people that you once knew in high school or college, even with the power of the web. With the evolution of the social networking platforms such as **Facebook, Twitter, LinkedIn, and Instagram**, it has attracted the attention of millions of users, many of whom have integrated these sites into their daily practices. \n",
    "\n",
    "**Meta** is the new name for Mark Zuckerberg’s business empire - a company that now extends beyond social media apps and into the design and manufacture of new technologies. While the parent company is now no longer known as **Facebook**, the **Facebook** name will live on in the form of the social media app.\n",
    "\n",
    "The attraction towards such sites comes with its’ pros and cons.\n",
    "\n",
    " **Pros:**\n",
    "   - These sites are making it much easier for people to find one another and reconnect, even after decades of being apart. They are a great way to see what is happening in the lives of friends and family, and to meet new people who have similar interests and thoughts to yours.\n",
    "   - People can share photos, videos, articles on various media and can express their views more freely. They’re more confident about being noticed online than being in the physical world.\n",
    "    \n",
    " **Cons:**\n",
    "   - Social networking sites put pressure on its users to exhibit their lives as happier and different than the rest. This may lead to stress and anxiety especially among youth.\n",
    "   - Cyber bullying and threats from strangers have increased.\n",
    "   - Many are now preferring virtual communication over real conversations.\n"
   ]
  },
  {
   "cell_type": "markdown",
   "metadata": {
    "colab_type": "text",
    "id": "sOGJAM3AoePy"
   },
   "source": [
    "---\n",
    "<a name = Section2></a>\n",
    "# **2. Problem Statement**\n",
    "---\n",
    "\n",
    "  - Most of the time social applications fail to stay up to date, resulting in great loss to the company.\n",
    "  \n",
    "  - Facebook, Inc. is an American social media conglomerate corporation, founded on February, 2004 by Mark Zuckerberg.\n",
    "\n",
    "  - Unlike any other incorporation, Facebook has become quite popular in the past few years, more specifically since 2005.\n",
    "\n",
    "  - People from all age groups are connected with each other through facebook.\n",
    "\n",
    "  - However, there are certain differences in the way of using it, let's say sending friend requests, sending likes, comments etc.\n",
    "\n",
    "<p align=\"center\"><img src=\"https://chi2016.acm.org/wp/wp-content/uploads/2016/02/Facebook-06-2015-Blue.png\"></p>\n",
    "\n",
    "  - Let's say XYZ company wants to study the Facebook users in order to analyze their likes and dislikes, and identify the pattern out of it.\n",
    "  \n",
    "  - Maybe this hidden pattern could end up improving their application and the user experience.\n",
    "  \n",
    "  - This result will help the company to utilize these patterns in the next set of iteration development.\n",
    "\n",
    "  - To tackle this problem they hired a genius team of data scientists. Let's say you are the data scientist they have approached.\n"
   ]
  },
  {
   "cell_type": "markdown",
   "metadata": {
    "colab_type": "text",
    "id": "yzSAH3m9pLWi"
   },
   "source": [
    "---\n",
    "<a id = Section3></a>\n",
    "# **3. Installing & Importing Libraries**\n",
    "---\n",
    "\n",
    "- This section is emphasised on installing and importing the necessary libraries that will be required."
   ]
  },
  {
   "cell_type": "markdown",
   "metadata": {
    "colab_type": "text",
    "id": "M0y7joFPpOuQ"
   },
   "source": [
    "<a id = Section31></a>\n",
    "### **Installing Libraries**"
   ]
  },
  {
   "cell_type": "code",
   "execution_count": null,
   "metadata": {
    "colab": {},
    "colab_type": "code",
    "id": "S3pqantTnmxX"
   },
   "outputs": [],
   "source": [
    "!pip install -q datascience                                         # Package that is required by pandas profiling\n",
    "!pip install -q pandas-profiling                                    # Library to generate basic statistics about data\n",
    "# To install more libraries insert your code here.."
   ]
  },
  {
   "cell_type": "markdown",
   "metadata": {
    "colab_type": "text",
    "id": "pYQrkcl4pe8J"
   },
   "source": [
    "<a id = Section32></a>\n",
    "### **Upgrading Libraries**\n",
    "\n",
    "- **After upgrading** the libraries, you need to **restart the runtime** to make the libraries in sync.\n",
    "\n",
    "- Make sure not to execute the cell under Installing Libraries and Upgrading Libraries again after restarting the runtime."
   ]
  },
  {
   "cell_type": "code",
   "execution_count": null,
   "metadata": {
    "colab": {},
    "colab_type": "code",
    "id": "dmiiVvd-phhY"
   },
   "outputs": [],
   "source": [
    "!pip install -q --upgrade pandas-profiling                          # Upgrading pandas profiling to the latest version"
   ]
  },
  {
   "cell_type": "markdown",
   "metadata": {
    "colab_type": "text",
    "id": "PbyRyjDhpoJj"
   },
   "source": [
    "<a id = Section33></a>\n",
    "### **Importing Libraries**\n"
   ]
  },
  {
   "cell_type": "code",
   "execution_count": 2,
   "metadata": {
    "colab": {},
    "colab_type": "code",
    "id": "5RapekFlpptb"
   },
   "outputs": [],
   "source": [
    "#-------------------------------------------------------------------------------------------------------------------------------\n",
    "import pandas as pd                                                 # Importing package pandas (For Panel Data Analysis)\n",
    "from pandas_profiling import ProfileReport                          # Import Pandas Profiling (To generate Univariate Analysis)\n",
    "#-------------------------------------------------------------------------------------------------------------------------------\n",
    "import numpy as np                                                  # Importing package numpys (For Numerical Python)\n",
    "#-------------------------------------------------------------------------------------------------------------------------------\n",
    "import matplotlib.pyplot as plt                                     # Importing pyplot interface to use matplotlib\n",
    "import seaborn as sns                                               # Importing seaborn library for interactive visualization\n",
    "%matplotlib inline\n",
    "#-------------------------------------------------------------------------------------------------------------------------------\n",
    "import scipy as sp                                                  # Importing library for scientific calculations\n",
    "#-------------------------------------------------------------------------------------------------------------------------------"
   ]
  },
  {
   "cell_type": "markdown",
   "metadata": {
    "colab_type": "text",
    "id": "ys9Qb4OlpzvZ"
   },
   "source": [
    "---\n",
    "<a name = Section4></a>\n",
    "# **4. Data Acquisition & Description**\n",
    "---\n",
    "\n",
    "- This dataset consists of information about the Facebook users, their interests and activities like sending friend requests, sending likes, comments etc…\n",
    "\n",
    "|Id|Feature|Description|\n",
    "|:--|:--|:--|\n",
    "|01| userid                 | A numeric value uniquely identifying the user.|\n",
    "|02| age                    | Age of the user in years.|\n",
    "|03| dob_day                | Day part of the user's date of birth.|\n",
    "|04| dob_year               | Year part of the user's date of birth.| \n",
    "|05| dob_month              | Month part of the user's date of birth.|\n",
    "|06| gender                 | Gender of the user.| \n",
    "|07| tenure                 | Number of days since the user has been on FB.|\n",
    "|08| friend_count           | Number of friends the user has.|\n",
    "|09| friendships_initiated  | Number of friendships initiated by the user.|\n",
    "|10| likes                  | Total number of posts liked by the user.|\n",
    "|11| likes_received         | Total Number of likes received by user's posts.|\n",
    "|12| mobile_likes           | Number of posts liked by the user through mobile app.|\n",
    "|13| mobile_likes_received  | Number of likes received by user through mobile app.|\n",
    "|14| www_likes              | Number of posts liked by the user through web.|\n",
    "|15| www_likes_received     | Number of likes received by user  through web.| \n"
   ]
  },
  {
   "cell_type": "code",
   "execution_count": 3,
   "metadata": {
    "colab": {
     "base_uri": "https://localhost:8080/",
     "height": 241
    },
    "colab_type": "code",
    "executionInfo": {
     "elapsed": 2545,
     "status": "ok",
     "timestamp": 1600335417318,
     "user": {
      "displayName": "Mukesh Kumar",
      "photoUrl": "",
      "userId": "01238672520445611335"
     },
     "user_tz": -330
    },
    "id": "aXPrewndpw1T",
    "outputId": "ac37750c-ec12-473e-c6ad-7dc76cb76176"
   },
   "outputs": [
    {
     "name": "stdout",
     "output_type": "stream",
     "text": [
      "Data Shape: (99003, 15)\n"
     ]
    },
    {
     "data": {
      "text/html": [
       "<div>\n",
       "<style scoped>\n",
       "    .dataframe tbody tr th:only-of-type {\n",
       "        vertical-align: middle;\n",
       "    }\n",
       "\n",
       "    .dataframe tbody tr th {\n",
       "        vertical-align: top;\n",
       "    }\n",
       "\n",
       "    .dataframe thead th {\n",
       "        text-align: right;\n",
       "    }\n",
       "</style>\n",
       "<table border=\"1\" class=\"dataframe\">\n",
       "  <thead>\n",
       "    <tr style=\"text-align: right;\">\n",
       "      <th></th>\n",
       "      <th>userid</th>\n",
       "      <th>age</th>\n",
       "      <th>dob_day</th>\n",
       "      <th>dob_year</th>\n",
       "      <th>dob_month</th>\n",
       "      <th>gender</th>\n",
       "      <th>tenure</th>\n",
       "      <th>friend_count</th>\n",
       "      <th>friendships_initiated</th>\n",
       "      <th>likes</th>\n",
       "      <th>likes_received</th>\n",
       "      <th>mobile_likes</th>\n",
       "      <th>mobile_likes_received</th>\n",
       "      <th>www_likes</th>\n",
       "      <th>www_likes_received</th>\n",
       "    </tr>\n",
       "  </thead>\n",
       "  <tbody>\n",
       "    <tr>\n",
       "      <th>0</th>\n",
       "      <td>2094382</td>\n",
       "      <td>14</td>\n",
       "      <td>19</td>\n",
       "      <td>1999</td>\n",
       "      <td>11</td>\n",
       "      <td>male</td>\n",
       "      <td>266.0</td>\n",
       "      <td>0</td>\n",
       "      <td>0</td>\n",
       "      <td>0</td>\n",
       "      <td>0</td>\n",
       "      <td>0</td>\n",
       "      <td>0</td>\n",
       "      <td>0</td>\n",
       "      <td>0</td>\n",
       "    </tr>\n",
       "    <tr>\n",
       "      <th>1</th>\n",
       "      <td>1192601</td>\n",
       "      <td>14</td>\n",
       "      <td>2</td>\n",
       "      <td>1999</td>\n",
       "      <td>11</td>\n",
       "      <td>female</td>\n",
       "      <td>6.0</td>\n",
       "      <td>0</td>\n",
       "      <td>0</td>\n",
       "      <td>0</td>\n",
       "      <td>0</td>\n",
       "      <td>0</td>\n",
       "      <td>0</td>\n",
       "      <td>0</td>\n",
       "      <td>0</td>\n",
       "    </tr>\n",
       "    <tr>\n",
       "      <th>2</th>\n",
       "      <td>2083884</td>\n",
       "      <td>14</td>\n",
       "      <td>16</td>\n",
       "      <td>1999</td>\n",
       "      <td>11</td>\n",
       "      <td>male</td>\n",
       "      <td>13.0</td>\n",
       "      <td>0</td>\n",
       "      <td>0</td>\n",
       "      <td>0</td>\n",
       "      <td>0</td>\n",
       "      <td>0</td>\n",
       "      <td>0</td>\n",
       "      <td>0</td>\n",
       "      <td>0</td>\n",
       "    </tr>\n",
       "    <tr>\n",
       "      <th>3</th>\n",
       "      <td>1203168</td>\n",
       "      <td>14</td>\n",
       "      <td>25</td>\n",
       "      <td>1999</td>\n",
       "      <td>12</td>\n",
       "      <td>female</td>\n",
       "      <td>93.0</td>\n",
       "      <td>0</td>\n",
       "      <td>0</td>\n",
       "      <td>0</td>\n",
       "      <td>0</td>\n",
       "      <td>0</td>\n",
       "      <td>0</td>\n",
       "      <td>0</td>\n",
       "      <td>0</td>\n",
       "    </tr>\n",
       "    <tr>\n",
       "      <th>4</th>\n",
       "      <td>1733186</td>\n",
       "      <td>14</td>\n",
       "      <td>4</td>\n",
       "      <td>1999</td>\n",
       "      <td>12</td>\n",
       "      <td>male</td>\n",
       "      <td>82.0</td>\n",
       "      <td>0</td>\n",
       "      <td>0</td>\n",
       "      <td>0</td>\n",
       "      <td>0</td>\n",
       "      <td>0</td>\n",
       "      <td>0</td>\n",
       "      <td>0</td>\n",
       "      <td>0</td>\n",
       "    </tr>\n",
       "  </tbody>\n",
       "</table>\n",
       "</div>"
      ],
      "text/plain": [
       "    userid  age  dob_day  dob_year  dob_month  gender  tenure  friend_count  \\\n",
       "0  2094382   14       19      1999         11    male   266.0             0   \n",
       "1  1192601   14        2      1999         11  female     6.0             0   \n",
       "2  2083884   14       16      1999         11    male    13.0             0   \n",
       "3  1203168   14       25      1999         12  female    93.0             0   \n",
       "4  1733186   14        4      1999         12    male    82.0             0   \n",
       "\n",
       "   friendships_initiated  likes  likes_received  mobile_likes  \\\n",
       "0                      0      0               0             0   \n",
       "1                      0      0               0             0   \n",
       "2                      0      0               0             0   \n",
       "3                      0      0               0             0   \n",
       "4                      0      0               0             0   \n",
       "\n",
       "   mobile_likes_received  www_likes  www_likes_received  \n",
       "0                      0          0                   0  \n",
       "1                      0          0                   0  \n",
       "2                      0          0                   0  \n",
       "3                      0          0                   0  \n",
       "4                      0          0                   0  "
      ]
     },
     "execution_count": 3,
     "metadata": {},
     "output_type": "execute_result"
    }
   ],
   "source": [
    "fbk_dat = pd.read_csv(filepath_or_buffer = 'https://raw.githubusercontent.com/insaid2018/Term-1/master/Data/Projects/facebook_data.csv')\n",
    "print('Data Shape:', fbk_dat.shape)\n",
    "fbk_dat.head()"
   ]
  },
  {
   "cell_type": "markdown",
   "metadata": {
    "colab_type": "text",
    "id": "FfkdFrL_qMPn"
   },
   "source": [
    "<a name = Section41></a>\n",
    "### **Data Description**\n",
    "\n",
    "- In this section we will get **information about the data** and see some Observations."
   ]
  },
  {
   "cell_type": "code",
   "execution_count": 4,
   "metadata": {},
   "outputs": [
    {
     "data": {
      "text/html": [
       "<div>\n",
       "<style scoped>\n",
       "    .dataframe tbody tr th:only-of-type {\n",
       "        vertical-align: middle;\n",
       "    }\n",
       "\n",
       "    .dataframe tbody tr th {\n",
       "        vertical-align: top;\n",
       "    }\n",
       "\n",
       "    .dataframe thead th {\n",
       "        text-align: right;\n",
       "    }\n",
       "</style>\n",
       "<table border=\"1\" class=\"dataframe\">\n",
       "  <thead>\n",
       "    <tr style=\"text-align: right;\">\n",
       "      <th></th>\n",
       "      <th>userid</th>\n",
       "      <th>age</th>\n",
       "      <th>dob_day</th>\n",
       "      <th>dob_year</th>\n",
       "      <th>dob_month</th>\n",
       "      <th>gender</th>\n",
       "      <th>tenure</th>\n",
       "      <th>friend_count</th>\n",
       "      <th>friendships_initiated</th>\n",
       "      <th>likes</th>\n",
       "      <th>likes_received</th>\n",
       "      <th>mobile_likes</th>\n",
       "      <th>mobile_likes_received</th>\n",
       "      <th>www_likes</th>\n",
       "      <th>www_likes_received</th>\n",
       "    </tr>\n",
       "  </thead>\n",
       "  <tbody>\n",
       "    <tr>\n",
       "      <th>count</th>\n",
       "      <td>9.900300e+04</td>\n",
       "      <td>99003.000000</td>\n",
       "      <td>99003.000000</td>\n",
       "      <td>99003.000000</td>\n",
       "      <td>99003.000000</td>\n",
       "      <td>98828</td>\n",
       "      <td>99001.000000</td>\n",
       "      <td>99003.000000</td>\n",
       "      <td>99003.000000</td>\n",
       "      <td>99003.000000</td>\n",
       "      <td>99003.000000</td>\n",
       "      <td>99003.000000</td>\n",
       "      <td>99003.000000</td>\n",
       "      <td>99003.000000</td>\n",
       "      <td>99003.000000</td>\n",
       "    </tr>\n",
       "    <tr>\n",
       "      <th>unique</th>\n",
       "      <td>NaN</td>\n",
       "      <td>NaN</td>\n",
       "      <td>NaN</td>\n",
       "      <td>NaN</td>\n",
       "      <td>NaN</td>\n",
       "      <td>2</td>\n",
       "      <td>NaN</td>\n",
       "      <td>NaN</td>\n",
       "      <td>NaN</td>\n",
       "      <td>NaN</td>\n",
       "      <td>NaN</td>\n",
       "      <td>NaN</td>\n",
       "      <td>NaN</td>\n",
       "      <td>NaN</td>\n",
       "      <td>NaN</td>\n",
       "    </tr>\n",
       "    <tr>\n",
       "      <th>top</th>\n",
       "      <td>NaN</td>\n",
       "      <td>NaN</td>\n",
       "      <td>NaN</td>\n",
       "      <td>NaN</td>\n",
       "      <td>NaN</td>\n",
       "      <td>male</td>\n",
       "      <td>NaN</td>\n",
       "      <td>NaN</td>\n",
       "      <td>NaN</td>\n",
       "      <td>NaN</td>\n",
       "      <td>NaN</td>\n",
       "      <td>NaN</td>\n",
       "      <td>NaN</td>\n",
       "      <td>NaN</td>\n",
       "      <td>NaN</td>\n",
       "    </tr>\n",
       "    <tr>\n",
       "      <th>freq</th>\n",
       "      <td>NaN</td>\n",
       "      <td>NaN</td>\n",
       "      <td>NaN</td>\n",
       "      <td>NaN</td>\n",
       "      <td>NaN</td>\n",
       "      <td>58574</td>\n",
       "      <td>NaN</td>\n",
       "      <td>NaN</td>\n",
       "      <td>NaN</td>\n",
       "      <td>NaN</td>\n",
       "      <td>NaN</td>\n",
       "      <td>NaN</td>\n",
       "      <td>NaN</td>\n",
       "      <td>NaN</td>\n",
       "      <td>NaN</td>\n",
       "    </tr>\n",
       "    <tr>\n",
       "      <th>mean</th>\n",
       "      <td>1.597045e+06</td>\n",
       "      <td>37.280224</td>\n",
       "      <td>14.530408</td>\n",
       "      <td>1975.719776</td>\n",
       "      <td>6.283365</td>\n",
       "      <td>NaN</td>\n",
       "      <td>537.887375</td>\n",
       "      <td>196.350787</td>\n",
       "      <td>107.452471</td>\n",
       "      <td>156.078785</td>\n",
       "      <td>142.689363</td>\n",
       "      <td>106.116300</td>\n",
       "      <td>84.120491</td>\n",
       "      <td>49.962425</td>\n",
       "      <td>58.568831</td>\n",
       "    </tr>\n",
       "    <tr>\n",
       "      <th>std</th>\n",
       "      <td>3.440592e+05</td>\n",
       "      <td>22.589748</td>\n",
       "      <td>9.015606</td>\n",
       "      <td>22.589748</td>\n",
       "      <td>3.529672</td>\n",
       "      <td>NaN</td>\n",
       "      <td>457.649874</td>\n",
       "      <td>387.304229</td>\n",
       "      <td>188.786951</td>\n",
       "      <td>572.280681</td>\n",
       "      <td>1387.919613</td>\n",
       "      <td>445.252985</td>\n",
       "      <td>839.889444</td>\n",
       "      <td>285.560152</td>\n",
       "      <td>601.416348</td>\n",
       "    </tr>\n",
       "    <tr>\n",
       "      <th>min</th>\n",
       "      <td>1.000008e+06</td>\n",
       "      <td>13.000000</td>\n",
       "      <td>1.000000</td>\n",
       "      <td>1900.000000</td>\n",
       "      <td>1.000000</td>\n",
       "      <td>NaN</td>\n",
       "      <td>0.000000</td>\n",
       "      <td>0.000000</td>\n",
       "      <td>0.000000</td>\n",
       "      <td>0.000000</td>\n",
       "      <td>0.000000</td>\n",
       "      <td>0.000000</td>\n",
       "      <td>0.000000</td>\n",
       "      <td>0.000000</td>\n",
       "      <td>0.000000</td>\n",
       "    </tr>\n",
       "    <tr>\n",
       "      <th>25%</th>\n",
       "      <td>1.298806e+06</td>\n",
       "      <td>20.000000</td>\n",
       "      <td>7.000000</td>\n",
       "      <td>1963.000000</td>\n",
       "      <td>3.000000</td>\n",
       "      <td>NaN</td>\n",
       "      <td>226.000000</td>\n",
       "      <td>31.000000</td>\n",
       "      <td>17.000000</td>\n",
       "      <td>1.000000</td>\n",
       "      <td>1.000000</td>\n",
       "      <td>0.000000</td>\n",
       "      <td>0.000000</td>\n",
       "      <td>0.000000</td>\n",
       "      <td>0.000000</td>\n",
       "    </tr>\n",
       "    <tr>\n",
       "      <th>50%</th>\n",
       "      <td>1.596148e+06</td>\n",
       "      <td>28.000000</td>\n",
       "      <td>14.000000</td>\n",
       "      <td>1985.000000</td>\n",
       "      <td>6.000000</td>\n",
       "      <td>NaN</td>\n",
       "      <td>412.000000</td>\n",
       "      <td>82.000000</td>\n",
       "      <td>46.000000</td>\n",
       "      <td>11.000000</td>\n",
       "      <td>8.000000</td>\n",
       "      <td>4.000000</td>\n",
       "      <td>4.000000</td>\n",
       "      <td>0.000000</td>\n",
       "      <td>2.000000</td>\n",
       "    </tr>\n",
       "    <tr>\n",
       "      <th>75%</th>\n",
       "      <td>1.895744e+06</td>\n",
       "      <td>50.000000</td>\n",
       "      <td>22.000000</td>\n",
       "      <td>1993.000000</td>\n",
       "      <td>9.000000</td>\n",
       "      <td>NaN</td>\n",
       "      <td>675.000000</td>\n",
       "      <td>206.000000</td>\n",
       "      <td>117.000000</td>\n",
       "      <td>81.000000</td>\n",
       "      <td>59.000000</td>\n",
       "      <td>46.000000</td>\n",
       "      <td>33.000000</td>\n",
       "      <td>7.000000</td>\n",
       "      <td>20.000000</td>\n",
       "    </tr>\n",
       "    <tr>\n",
       "      <th>max</th>\n",
       "      <td>2.193542e+06</td>\n",
       "      <td>113.000000</td>\n",
       "      <td>31.000000</td>\n",
       "      <td>2000.000000</td>\n",
       "      <td>12.000000</td>\n",
       "      <td>NaN</td>\n",
       "      <td>3139.000000</td>\n",
       "      <td>4923.000000</td>\n",
       "      <td>4144.000000</td>\n",
       "      <td>25111.000000</td>\n",
       "      <td>261197.000000</td>\n",
       "      <td>25111.000000</td>\n",
       "      <td>138561.000000</td>\n",
       "      <td>14865.000000</td>\n",
       "      <td>129953.000000</td>\n",
       "    </tr>\n",
       "  </tbody>\n",
       "</table>\n",
       "</div>"
      ],
      "text/plain": [
       "              userid           age       dob_day      dob_year     dob_month  \\\n",
       "count   9.900300e+04  99003.000000  99003.000000  99003.000000  99003.000000   \n",
       "unique           NaN           NaN           NaN           NaN           NaN   \n",
       "top              NaN           NaN           NaN           NaN           NaN   \n",
       "freq             NaN           NaN           NaN           NaN           NaN   \n",
       "mean    1.597045e+06     37.280224     14.530408   1975.719776      6.283365   \n",
       "std     3.440592e+05     22.589748      9.015606     22.589748      3.529672   \n",
       "min     1.000008e+06     13.000000      1.000000   1900.000000      1.000000   \n",
       "25%     1.298806e+06     20.000000      7.000000   1963.000000      3.000000   \n",
       "50%     1.596148e+06     28.000000     14.000000   1985.000000      6.000000   \n",
       "75%     1.895744e+06     50.000000     22.000000   1993.000000      9.000000   \n",
       "max     2.193542e+06    113.000000     31.000000   2000.000000     12.000000   \n",
       "\n",
       "       gender        tenure  friend_count  friendships_initiated  \\\n",
       "count   98828  99001.000000  99003.000000           99003.000000   \n",
       "unique      2           NaN           NaN                    NaN   \n",
       "top      male           NaN           NaN                    NaN   \n",
       "freq    58574           NaN           NaN                    NaN   \n",
       "mean      NaN    537.887375    196.350787             107.452471   \n",
       "std       NaN    457.649874    387.304229             188.786951   \n",
       "min       NaN      0.000000      0.000000               0.000000   \n",
       "25%       NaN    226.000000     31.000000              17.000000   \n",
       "50%       NaN    412.000000     82.000000              46.000000   \n",
       "75%       NaN    675.000000    206.000000             117.000000   \n",
       "max       NaN   3139.000000   4923.000000            4144.000000   \n",
       "\n",
       "               likes  likes_received  mobile_likes  mobile_likes_received  \\\n",
       "count   99003.000000    99003.000000  99003.000000           99003.000000   \n",
       "unique           NaN             NaN           NaN                    NaN   \n",
       "top              NaN             NaN           NaN                    NaN   \n",
       "freq             NaN             NaN           NaN                    NaN   \n",
       "mean      156.078785      142.689363    106.116300              84.120491   \n",
       "std       572.280681     1387.919613    445.252985             839.889444   \n",
       "min         0.000000        0.000000      0.000000               0.000000   \n",
       "25%         1.000000        1.000000      0.000000               0.000000   \n",
       "50%        11.000000        8.000000      4.000000               4.000000   \n",
       "75%        81.000000       59.000000     46.000000              33.000000   \n",
       "max     25111.000000   261197.000000  25111.000000          138561.000000   \n",
       "\n",
       "           www_likes  www_likes_received  \n",
       "count   99003.000000        99003.000000  \n",
       "unique           NaN                 NaN  \n",
       "top              NaN                 NaN  \n",
       "freq             NaN                 NaN  \n",
       "mean       49.962425           58.568831  \n",
       "std       285.560152          601.416348  \n",
       "min         0.000000            0.000000  \n",
       "25%         0.000000            0.000000  \n",
       "50%         0.000000            2.000000  \n",
       "75%         7.000000           20.000000  \n",
       "max     14865.000000       129953.000000  "
      ]
     },
     "execution_count": 4,
     "metadata": {},
     "output_type": "execute_result"
    }
   ],
   "source": [
    "fbk_dat.describe(include = 'all')"
   ]
  },
  {
   "cell_type": "code",
   "execution_count": 5,
   "metadata": {},
   "outputs": [
    {
     "data": {
      "text/plain": [
       "Int64Index([2013], dtype='int64')"
      ]
     },
     "execution_count": 5,
     "metadata": {},
     "output_type": "execute_result"
    }
   ],
   "source": [
    "t_fb1 = fbk_dat.copy()\n",
    "t_fb1['cur_year'] = t_fb1['age'] + t_fb1['dob_year'] \n",
    "t_fb1['cur_year'].value_counts(dropna = False).index"
   ]
  },
  {
   "cell_type": "markdown",
   "metadata": {},
   "source": [
    "**Observations**\n",
    "- This dataset is obtained from a survey in **2013** [test column : **'cur_year'**]. It has a total of **99003 entries with 15 columns**. Total memory usage : **11.3 MB**.\n",
    "\n",
    "- The range of the age of the Facebook users mentioned in the **‘age’** columns is **(13, 113)** [ as per Facebook, the permissible age for creating an account       should be 13 years and above ]. Average age of the users in the dataset is **37 years**.\n",
    "\n",
    "- The no. of Male users ( with frequency count of 58574 ) is more than any other category mentioned under the **‘gender’** column.\n",
    "\n",
    "- **'userid'** feature is an **identifier** so we won't be making any statistical observations for it. \n",
    "\n",
    "- **Missing values**:\n",
    "    - (A) **Column:** **\"gender\"** = 175 => Here we know **Facebook** gives user the freedom to designate who can see the gender on one's profile. Hence            we cannot drop these values but they can be replaced as **‘Not Specified’** category.\n",
    "    - (B) **Column:** **\"tenure\"** =   2 => Here the count of missing value is too low as compared to the total count. Hence these values can be                 replaced with the **median value**, which is not affected by any outliers."
   ]
  },
  {
   "cell_type": "markdown",
   "metadata": {
    "colab_type": "text",
    "id": "lM-hljKpqXsp"
   },
   "source": [
    "<a name = Section42></a>\n",
    "### **Data Information**"
   ]
  },
  {
   "cell_type": "markdown",
   "metadata": {
    "colab": {},
    "colab_type": "code",
    "id": "aPYZy6voqXc4"
   },
   "source": [
    "- In this section we will **see the information about the types of features**."
   ]
  },
  {
   "cell_type": "code",
   "execution_count": 6,
   "metadata": {},
   "outputs": [
    {
     "name": "stdout",
     "output_type": "stream",
     "text": [
      "<class 'pandas.core.frame.DataFrame'>\n",
      "RangeIndex: 99003 entries, 0 to 99002\n",
      "Data columns (total 15 columns):\n",
      " #   Column                 Non-Null Count  Dtype  \n",
      "---  ------                 --------------  -----  \n",
      " 0   userid                 99003 non-null  int64  \n",
      " 1   age                    99003 non-null  int64  \n",
      " 2   dob_day                99003 non-null  int64  \n",
      " 3   dob_year               99003 non-null  int64  \n",
      " 4   dob_month              99003 non-null  int64  \n",
      " 5   gender                 98828 non-null  object \n",
      " 6   tenure                 99001 non-null  float64\n",
      " 7   friend_count           99003 non-null  int64  \n",
      " 8   friendships_initiated  99003 non-null  int64  \n",
      " 9   likes                  99003 non-null  int64  \n",
      " 10  likes_received         99003 non-null  int64  \n",
      " 11  mobile_likes           99003 non-null  int64  \n",
      " 12  mobile_likes_received  99003 non-null  int64  \n",
      " 13  www_likes              99003 non-null  int64  \n",
      " 14  www_likes_received     99003 non-null  int64  \n",
      "dtypes: float64(1), int64(13), object(1)\n",
      "memory usage: 11.3+ MB\n"
     ]
    }
   ],
   "source": [
    "fbk_dat.info()"
   ]
  },
  {
   "cell_type": "markdown",
   "metadata": {},
   "source": [
    "**Observations:**\n",
    "\n",
    "- There are **15 features** with **99003 Observations**.\n",
    "\n",
    "- **Columns:**  **\"userid\"**, **\"age\"**, **\"dob_day\"**, **\"dob_year\"**, **\"dob_month\"**, **\"friend_count\"**, **\"friendships_initiated\"**, **\"likes\"**, **\"likes_received\"**, **\"mobile_likes\"**, **\"mobile_likes_received\"**, **\"www_likes\"** and **\"www_likes_received\"** is of **int64** datatype.\n",
    "\n",
    "- **Column:** **\"tenure\"** is of **float64** datatype. \n",
    " \n",
    "- **Column:** **\"gender\"** is of **object** datatype.\n",
    "\n",
    "- We will have to make more sense of columns: **\"age\"** and **\"tenure\"** by exploring them further."
   ]
  },
  {
   "cell_type": "markdown",
   "metadata": {
    "colab_type": "text",
    "id": "efZ8svauqc55"
   },
   "source": [
    "---\n",
    "<a name = Section5></a>\n",
    "# **5. Data Pre-Profiling**\n",
    "---"
   ]
  },
  {
   "cell_type": "markdown",
   "metadata": {},
   "source": [
    "<a name = Section51></a>\n",
    "### **5.1 Pre Profiling Report**\n",
    "\n",
    "- For **quick analysis** pandas profiling is very handy.\n",
    "\n",
    "- Generates profile reports from a pandas DataFrame.\n",
    "\n",
    "- For each column **statistics** are presented in an interactive HTML report."
   ]
  },
  {
   "cell_type": "code",
   "execution_count": 46,
   "metadata": {
    "colab": {},
    "colab_type": "code",
    "id": "VEHxAq8Zqcgo"
   },
   "outputs": [
    {
     "data": {
      "application/vnd.jupyter.widget-view+json": {
       "model_id": "f6efff355e1241bab889b85cc7af65fb",
       "version_major": 2,
       "version_minor": 0
      },
      "text/plain": [
       "Summarize dataset:   0%|          | 0/5 [00:00<?, ?it/s]"
      ]
     },
     "metadata": {},
     "output_type": "display_data"
    },
    {
     "data": {
      "application/vnd.jupyter.widget-view+json": {
       "model_id": "2dc45b9391a14744bcf0a58da0d8e0e3",
       "version_major": 2,
       "version_minor": 0
      },
      "text/plain": [
       "Generate report structure:   0%|          | 0/1 [00:00<?, ?it/s]"
      ]
     },
     "metadata": {},
     "output_type": "display_data"
    },
    {
     "data": {
      "application/vnd.jupyter.widget-view+json": {
       "model_id": "d5b60d512ec04bae953e32d4540152cb",
       "version_major": 2,
       "version_minor": 0
      },
      "text/plain": [
       "Render HTML:   0%|          | 0/1 [00:00<?, ?it/s]"
      ]
     },
     "metadata": {},
     "output_type": "display_data"
    },
    {
     "data": {
      "application/vnd.jupyter.widget-view+json": {
       "model_id": "cdcc997158b54df3af7f23d0af9acd81",
       "version_major": 2,
       "version_minor": 0
      },
      "text/plain": [
       "Export report to file:   0%|          | 0/1 [00:00<?, ?it/s]"
      ]
     },
     "metadata": {},
     "output_type": "display_data"
    },
    {
     "name": "stdout",
     "output_type": "stream",
     "text": [
      "Accomplished!\n"
     ]
    }
   ],
   "source": [
    "profile = ProfileReport(df = fbk_dat)\n",
    "profile.to_file(output_file = 'Pre Profiling Report.html')\n",
    "print('Accomplished!')"
   ]
  },
  {
   "cell_type": "markdown",
   "metadata": {},
   "source": [
    "**Observations:**\n",
    "\n",
    "- There are **15 features** with **99003 unique observations** in the dataset.Total memory used is **11.3 MB**.\n",
    "\n",
    "- Dataset has **no duplicate rows**.\n",
    "\n",
    "- **177 (< 0.1%) cells** have **missing** values.\n",
    "\n",
    "- Most of the missing values are from the **'gender'** feature ( = 175 values or 0.2% ) and the rest belong to the **'tenure'** feature ( = 2 values or < 0.1% ).\n",
    "\n",
    "- The **male** users are higher followed by **female** users. The remaining 175 values are missing which needs processing.\n",
    "\n",
    "- Column **'friend_count'** has **high correlation** with **'likes_received'** and **'friendships_initiated'**.\n"
   ]
  },
  {
   "cell_type": "markdown",
   "metadata": {
    "colab_type": "text",
    "id": "YMvtK0X-qoe6"
   },
   "source": [
    "---\n",
    "<a name = Section6></a>\n",
    "# **6. Data Pre-Processing**\n",
    "---\n",
    "\n",
    "- This section is emphasised on performing data manipulation over unstructured data for further processing and analysis.\n"
   ]
  },
  {
   "cell_type": "markdown",
   "metadata": {
    "colab": {},
    "colab_type": "code",
    "id": "FxzbSzWDqytZ"
   },
   "source": [
    "<a name = Section61></a>\n",
    "### **6.1 Handling Missing Data**"
   ]
  },
  {
   "cell_type": "code",
   "execution_count": 7,
   "metadata": {},
   "outputs": [],
   "source": [
    "# Creating a copy of the original dataset for further analysis.\n",
    "test_fbk = fbk_dat.copy()"
   ]
  },
  {
   "cell_type": "markdown",
   "metadata": {},
   "source": [
    "**(A)** *Corrections to be done in the **'gender'** column.*"
   ]
  },
  {
   "cell_type": "code",
   "execution_count": 8,
   "metadata": {},
   "outputs": [
    {
     "data": {
      "text/plain": [
       "male      58574\n",
       "female    40254\n",
       "NaN         175\n",
       "Name: gender, dtype: int64"
      ]
     },
     "execution_count": 8,
     "metadata": {},
     "output_type": "execute_result"
    }
   ],
   "source": [
    "\n",
    "# The argument (dropna = False) considers all the missing value counts as well. \n",
    "test_fbk['gender'].value_counts(dropna = False)"
   ]
  },
  {
   "cell_type": "code",
   "execution_count": 9,
   "metadata": {},
   "outputs": [],
   "source": [
    "# Correction: For handling the missing 175 values we are replacing it with value: 'Not Specified'. These values cannot be dropped as informed earlier.\n",
    "test_fbk['gender'].fillna('Not Specified', inplace = True)"
   ]
  },
  {
   "cell_type": "code",
   "execution_count": 10,
   "metadata": {},
   "outputs": [
    {
     "data": {
      "text/plain": [
       "Index(['male', 'female', 'Not Specified'], dtype='object')"
      ]
     },
     "execution_count": 10,
     "metadata": {},
     "output_type": "execute_result"
    }
   ],
   "source": [
    "test_fbk['gender'].value_counts(dropna = False).index"
   ]
  },
  {
   "cell_type": "code",
   "execution_count": 11,
   "metadata": {},
   "outputs": [
    {
     "data": {
      "text/plain": [
       "male             58574\n",
       "female           40254\n",
       "Not Specified      175\n",
       "Name: gender, dtype: int64"
      ]
     },
     "execution_count": 11,
     "metadata": {},
     "output_type": "execute_result"
    }
   ],
   "source": [
    "test_fbk['gender'].value_counts(dropna = False)"
   ]
  },
  {
   "cell_type": "markdown",
   "metadata": {},
   "source": [
    "**(B)** *Corrections to be done in the **'tenure'** column.*"
   ]
  },
  {
   "cell_type": "code",
   "execution_count": 16,
   "metadata": {},
   "outputs": [],
   "source": [
    "# Corrections: "
   ]
  },
  {
   "cell_type": "code",
   "execution_count": 12,
   "metadata": {},
   "outputs": [
    {
     "data": {
      "text/plain": [
       "False    99003\n",
       "Name: tenure, dtype: int64"
      ]
     },
     "execution_count": 12,
     "metadata": {},
     "output_type": "execute_result"
    }
   ],
   "source": [
    "# 1) The 2 missing values under 'tenure' column should be replaced with median or 50% value.\n",
    "test_fbk['tenure'].fillna(test_fbk['tenure'].describe()['50%'], inplace = True)\n",
    "\n",
    "test_fbk['tenure'].isna().value_counts()"
   ]
  },
  {
   "cell_type": "code",
   "execution_count": null,
   "metadata": {},
   "outputs": [],
   "source": [
    "# 2) For verifying the dtype of all values in the 'tenure' column.\n",
    "test_fbk['tenure'].value_counts(dropna = False).index.to_list()"
   ]
  },
  {
   "cell_type": "code",
   "execution_count": null,
   "metadata": {},
   "outputs": [],
   "source": [
    "# The data type of  values under 'tenure' column should be changed from 'float64' to 'int64' as it only has int64 values. \n",
    "test_fbk['tenure'] = test_fbk['tenure'].astype(np.int64)\n",
    "test_fbk['tenure'].value_counts(dropna = False).index.to_list()"
   ]
  },
  {
   "cell_type": "markdown",
   "metadata": {},
   "source": [
    "**Important NOTES :** \n",
    "- The **datatype or dtype** of the column **'tenure'** had to be converted to **int64** since it did not have any **float64** values.\n",
    "- The **datatype conversion** could only be implemented after handling all the **missing** or **NaN values** in the **'tenure'** column. Otherwise the datatype conversion would give the following warning: **ValueError :** *Cannot convert non-finite values (NA or inf) to integer*. "
   ]
  },
  {
   "cell_type": "markdown",
   "metadata": {},
   "source": [
    "<a name = Section62></a>\n",
    "### **6.2 Handling inconsistent data**"
   ]
  },
  {
   "cell_type": "code",
   "execution_count": 15,
   "metadata": {},
   "outputs": [
    {
     "data": {
      "text/plain": [
       "False    99003\n",
       "dtype: int64"
      ]
     },
     "execution_count": 15,
     "metadata": {},
     "output_type": "execute_result"
    }
   ],
   "source": [
    "# Checking the count of duplicate values in the dataset\n",
    "test_fbk.duplicated().value_counts()"
   ]
  },
  {
   "cell_type": "code",
   "execution_count": 57,
   "metadata": {},
   "outputs": [
    {
     "data": {
      "text/plain": [
       "male             58574\n",
       "female           40254\n",
       "Not Specified      175\n",
       "Name: gender, dtype: int64"
      ]
     },
     "execution_count": 57,
     "metadata": {},
     "output_type": "execute_result"
    }
   ],
   "source": [
    "test_fbk['gender'].value_counts(dropna = False)"
   ]
  },
  {
   "cell_type": "code",
   "execution_count": 21,
   "metadata": {},
   "outputs": [
    {
     "data": {
      "text/plain": [
       "3"
      ]
     },
     "execution_count": 21,
     "metadata": {},
     "output_type": "execute_result"
    }
   ],
   "source": [
    "test_fbk['gender'].value_counts().nunique()"
   ]
  },
  {
   "cell_type": "code",
   "execution_count": 18,
   "metadata": {},
   "outputs": [
    {
     "data": {
      "text/html": [
       "<div>\n",
       "<style scoped>\n",
       "    .dataframe tbody tr th:only-of-type {\n",
       "        vertical-align: middle;\n",
       "    }\n",
       "\n",
       "    .dataframe tbody tr th {\n",
       "        vertical-align: top;\n",
       "    }\n",
       "\n",
       "    .dataframe thead th {\n",
       "        text-align: right;\n",
       "    }\n",
       "</style>\n",
       "<table border=\"1\" class=\"dataframe\">\n",
       "  <thead>\n",
       "    <tr style=\"text-align: right;\">\n",
       "      <th></th>\n",
       "      <th>userid</th>\n",
       "      <th>age</th>\n",
       "      <th>dob_day</th>\n",
       "      <th>dob_year</th>\n",
       "      <th>dob_month</th>\n",
       "      <th>gender</th>\n",
       "      <th>tenure</th>\n",
       "      <th>friend_count</th>\n",
       "      <th>friendships_initiated</th>\n",
       "      <th>likes</th>\n",
       "      <th>likes_received</th>\n",
       "      <th>mobile_likes</th>\n",
       "      <th>mobile_likes_received</th>\n",
       "      <th>www_likes</th>\n",
       "      <th>www_likes_received</th>\n",
       "    </tr>\n",
       "  </thead>\n",
       "  <tbody>\n",
       "    <tr>\n",
       "      <th>count</th>\n",
       "      <td>9.900300e+04</td>\n",
       "      <td>99003.000000</td>\n",
       "      <td>99003.000000</td>\n",
       "      <td>99003.000000</td>\n",
       "      <td>99003.000000</td>\n",
       "      <td>99003</td>\n",
       "      <td>99003.000000</td>\n",
       "      <td>99003.000000</td>\n",
       "      <td>99003.000000</td>\n",
       "      <td>99003.000000</td>\n",
       "      <td>99003.000000</td>\n",
       "      <td>99003.000000</td>\n",
       "      <td>99003.000000</td>\n",
       "      <td>99003.000000</td>\n",
       "      <td>99003.000000</td>\n",
       "    </tr>\n",
       "    <tr>\n",
       "      <th>unique</th>\n",
       "      <td>NaN</td>\n",
       "      <td>NaN</td>\n",
       "      <td>NaN</td>\n",
       "      <td>NaN</td>\n",
       "      <td>NaN</td>\n",
       "      <td>3</td>\n",
       "      <td>NaN</td>\n",
       "      <td>NaN</td>\n",
       "      <td>NaN</td>\n",
       "      <td>NaN</td>\n",
       "      <td>NaN</td>\n",
       "      <td>NaN</td>\n",
       "      <td>NaN</td>\n",
       "      <td>NaN</td>\n",
       "      <td>NaN</td>\n",
       "    </tr>\n",
       "    <tr>\n",
       "      <th>top</th>\n",
       "      <td>NaN</td>\n",
       "      <td>NaN</td>\n",
       "      <td>NaN</td>\n",
       "      <td>NaN</td>\n",
       "      <td>NaN</td>\n",
       "      <td>male</td>\n",
       "      <td>NaN</td>\n",
       "      <td>NaN</td>\n",
       "      <td>NaN</td>\n",
       "      <td>NaN</td>\n",
       "      <td>NaN</td>\n",
       "      <td>NaN</td>\n",
       "      <td>NaN</td>\n",
       "      <td>NaN</td>\n",
       "      <td>NaN</td>\n",
       "    </tr>\n",
       "    <tr>\n",
       "      <th>freq</th>\n",
       "      <td>NaN</td>\n",
       "      <td>NaN</td>\n",
       "      <td>NaN</td>\n",
       "      <td>NaN</td>\n",
       "      <td>NaN</td>\n",
       "      <td>58574</td>\n",
       "      <td>NaN</td>\n",
       "      <td>NaN</td>\n",
       "      <td>NaN</td>\n",
       "      <td>NaN</td>\n",
       "      <td>NaN</td>\n",
       "      <td>NaN</td>\n",
       "      <td>NaN</td>\n",
       "      <td>NaN</td>\n",
       "      <td>NaN</td>\n",
       "    </tr>\n",
       "    <tr>\n",
       "      <th>mean</th>\n",
       "      <td>1.597045e+06</td>\n",
       "      <td>37.280224</td>\n",
       "      <td>14.530408</td>\n",
       "      <td>1975.719776</td>\n",
       "      <td>6.283365</td>\n",
       "      <td>NaN</td>\n",
       "      <td>537.884832</td>\n",
       "      <td>196.350787</td>\n",
       "      <td>107.452471</td>\n",
       "      <td>156.078785</td>\n",
       "      <td>142.689363</td>\n",
       "      <td>106.116300</td>\n",
       "      <td>84.120491</td>\n",
       "      <td>49.962425</td>\n",
       "      <td>58.568831</td>\n",
       "    </tr>\n",
       "    <tr>\n",
       "      <th>std</th>\n",
       "      <td>3.440592e+05</td>\n",
       "      <td>22.589748</td>\n",
       "      <td>9.015606</td>\n",
       "      <td>22.589748</td>\n",
       "      <td>3.529672</td>\n",
       "      <td>NaN</td>\n",
       "      <td>457.645601</td>\n",
       "      <td>387.304229</td>\n",
       "      <td>188.786951</td>\n",
       "      <td>572.280681</td>\n",
       "      <td>1387.919613</td>\n",
       "      <td>445.252985</td>\n",
       "      <td>839.889444</td>\n",
       "      <td>285.560152</td>\n",
       "      <td>601.416348</td>\n",
       "    </tr>\n",
       "    <tr>\n",
       "      <th>min</th>\n",
       "      <td>1.000008e+06</td>\n",
       "      <td>13.000000</td>\n",
       "      <td>1.000000</td>\n",
       "      <td>1900.000000</td>\n",
       "      <td>1.000000</td>\n",
       "      <td>NaN</td>\n",
       "      <td>0.000000</td>\n",
       "      <td>0.000000</td>\n",
       "      <td>0.000000</td>\n",
       "      <td>0.000000</td>\n",
       "      <td>0.000000</td>\n",
       "      <td>0.000000</td>\n",
       "      <td>0.000000</td>\n",
       "      <td>0.000000</td>\n",
       "      <td>0.000000</td>\n",
       "    </tr>\n",
       "    <tr>\n",
       "      <th>25%</th>\n",
       "      <td>1.298806e+06</td>\n",
       "      <td>20.000000</td>\n",
       "      <td>7.000000</td>\n",
       "      <td>1963.000000</td>\n",
       "      <td>3.000000</td>\n",
       "      <td>NaN</td>\n",
       "      <td>226.000000</td>\n",
       "      <td>31.000000</td>\n",
       "      <td>17.000000</td>\n",
       "      <td>1.000000</td>\n",
       "      <td>1.000000</td>\n",
       "      <td>0.000000</td>\n",
       "      <td>0.000000</td>\n",
       "      <td>0.000000</td>\n",
       "      <td>0.000000</td>\n",
       "    </tr>\n",
       "    <tr>\n",
       "      <th>50%</th>\n",
       "      <td>1.596148e+06</td>\n",
       "      <td>28.000000</td>\n",
       "      <td>14.000000</td>\n",
       "      <td>1985.000000</td>\n",
       "      <td>6.000000</td>\n",
       "      <td>NaN</td>\n",
       "      <td>412.000000</td>\n",
       "      <td>82.000000</td>\n",
       "      <td>46.000000</td>\n",
       "      <td>11.000000</td>\n",
       "      <td>8.000000</td>\n",
       "      <td>4.000000</td>\n",
       "      <td>4.000000</td>\n",
       "      <td>0.000000</td>\n",
       "      <td>2.000000</td>\n",
       "    </tr>\n",
       "    <tr>\n",
       "      <th>75%</th>\n",
       "      <td>1.895744e+06</td>\n",
       "      <td>50.000000</td>\n",
       "      <td>22.000000</td>\n",
       "      <td>1993.000000</td>\n",
       "      <td>9.000000</td>\n",
       "      <td>NaN</td>\n",
       "      <td>675.000000</td>\n",
       "      <td>206.000000</td>\n",
       "      <td>117.000000</td>\n",
       "      <td>81.000000</td>\n",
       "      <td>59.000000</td>\n",
       "      <td>46.000000</td>\n",
       "      <td>33.000000</td>\n",
       "      <td>7.000000</td>\n",
       "      <td>20.000000</td>\n",
       "    </tr>\n",
       "    <tr>\n",
       "      <th>max</th>\n",
       "      <td>2.193542e+06</td>\n",
       "      <td>113.000000</td>\n",
       "      <td>31.000000</td>\n",
       "      <td>2000.000000</td>\n",
       "      <td>12.000000</td>\n",
       "      <td>NaN</td>\n",
       "      <td>3139.000000</td>\n",
       "      <td>4923.000000</td>\n",
       "      <td>4144.000000</td>\n",
       "      <td>25111.000000</td>\n",
       "      <td>261197.000000</td>\n",
       "      <td>25111.000000</td>\n",
       "      <td>138561.000000</td>\n",
       "      <td>14865.000000</td>\n",
       "      <td>129953.000000</td>\n",
       "    </tr>\n",
       "  </tbody>\n",
       "</table>\n",
       "</div>"
      ],
      "text/plain": [
       "              userid           age       dob_day      dob_year     dob_month  \\\n",
       "count   9.900300e+04  99003.000000  99003.000000  99003.000000  99003.000000   \n",
       "unique           NaN           NaN           NaN           NaN           NaN   \n",
       "top              NaN           NaN           NaN           NaN           NaN   \n",
       "freq             NaN           NaN           NaN           NaN           NaN   \n",
       "mean    1.597045e+06     37.280224     14.530408   1975.719776      6.283365   \n",
       "std     3.440592e+05     22.589748      9.015606     22.589748      3.529672   \n",
       "min     1.000008e+06     13.000000      1.000000   1900.000000      1.000000   \n",
       "25%     1.298806e+06     20.000000      7.000000   1963.000000      3.000000   \n",
       "50%     1.596148e+06     28.000000     14.000000   1985.000000      6.000000   \n",
       "75%     1.895744e+06     50.000000     22.000000   1993.000000      9.000000   \n",
       "max     2.193542e+06    113.000000     31.000000   2000.000000     12.000000   \n",
       "\n",
       "       gender        tenure  friend_count  friendships_initiated  \\\n",
       "count   99003  99003.000000  99003.000000           99003.000000   \n",
       "unique      3           NaN           NaN                    NaN   \n",
       "top      male           NaN           NaN                    NaN   \n",
       "freq    58574           NaN           NaN                    NaN   \n",
       "mean      NaN    537.884832    196.350787             107.452471   \n",
       "std       NaN    457.645601    387.304229             188.786951   \n",
       "min       NaN      0.000000      0.000000               0.000000   \n",
       "25%       NaN    226.000000     31.000000              17.000000   \n",
       "50%       NaN    412.000000     82.000000              46.000000   \n",
       "75%       NaN    675.000000    206.000000             117.000000   \n",
       "max       NaN   3139.000000   4923.000000            4144.000000   \n",
       "\n",
       "               likes  likes_received  mobile_likes  mobile_likes_received  \\\n",
       "count   99003.000000    99003.000000  99003.000000           99003.000000   \n",
       "unique           NaN             NaN           NaN                    NaN   \n",
       "top              NaN             NaN           NaN                    NaN   \n",
       "freq             NaN             NaN           NaN                    NaN   \n",
       "mean      156.078785      142.689363    106.116300              84.120491   \n",
       "std       572.280681     1387.919613    445.252985             839.889444   \n",
       "min         0.000000        0.000000      0.000000               0.000000   \n",
       "25%         1.000000        1.000000      0.000000               0.000000   \n",
       "50%        11.000000        8.000000      4.000000               4.000000   \n",
       "75%        81.000000       59.000000     46.000000              33.000000   \n",
       "max     25111.000000   261197.000000  25111.000000          138561.000000   \n",
       "\n",
       "           www_likes  www_likes_received  \n",
       "count   99003.000000        99003.000000  \n",
       "unique           NaN                 NaN  \n",
       "top              NaN                 NaN  \n",
       "freq             NaN                 NaN  \n",
       "mean       49.962425           58.568831  \n",
       "std       285.560152          601.416348  \n",
       "min         0.000000            0.000000  \n",
       "25%         0.000000            0.000000  \n",
       "50%         0.000000            2.000000  \n",
       "75%         7.000000           20.000000  \n",
       "max     14865.000000       129953.000000  "
      ]
     },
     "execution_count": 18,
     "metadata": {},
     "output_type": "execute_result"
    }
   ],
   "source": [
    "test_fbk.describe(include ='all')"
   ]
  },
  {
   "cell_type": "markdown",
   "metadata": {},
   "source": [
    "**Observations** : \n",
    " - Most of the values in all columns are within acceptable ranges. Hence **No incorrect values** and **outliers** exist in this dataset.\n",
    " - Dataset has no typing errors or duplicate values. There are only **3** categories under column:**'gender'** namely: **'male','female'** and **'Not Specified'**."
   ]
  },
  {
   "cell_type": "markdown",
   "metadata": {
    "colab_type": "text",
    "id": "amsQwri2q1_J"
   },
   "source": [
    "---\n",
    "<a name = Section7></a>\n",
    "# **7. Data Post-Profiling**\n",
    "---"
   ]
  },
  {
   "cell_type": "markdown",
   "metadata": {},
   "source": [
    "Here the data post **Data Cleaning/Pre-Processing phase** is verified. on the copy of the original data - **\"test_fbk\"**. "
   ]
  },
  {
   "cell_type": "markdown",
   "metadata": {},
   "source": [
    "**(A) Data Information**"
   ]
  },
  {
   "cell_type": "code",
   "execution_count": 38,
   "metadata": {},
   "outputs": [
    {
     "name": "stdout",
     "output_type": "stream",
     "text": [
      "<class 'pandas.core.frame.DataFrame'>\n",
      "RangeIndex: 99003 entries, 0 to 99002\n",
      "Data columns (total 15 columns):\n",
      " #   Column                 Non-Null Count  Dtype \n",
      "---  ------                 --------------  ----- \n",
      " 0   userid                 99003 non-null  int64 \n",
      " 1   age                    99003 non-null  int64 \n",
      " 2   dob_day                99003 non-null  int64 \n",
      " 3   dob_year               99003 non-null  int64 \n",
      " 4   dob_month              99003 non-null  int64 \n",
      " 5   gender                 99003 non-null  object\n",
      " 6   tenure                 99003 non-null  int64 \n",
      " 7   friend_count           99003 non-null  int64 \n",
      " 8   friendships_initiated  99003 non-null  int64 \n",
      " 9   likes                  99003 non-null  int64 \n",
      " 10  likes_received         99003 non-null  int64 \n",
      " 11  mobile_likes           99003 non-null  int64 \n",
      " 12  mobile_likes_received  99003 non-null  int64 \n",
      " 13  www_likes              99003 non-null  int64 \n",
      " 14  www_likes_received     99003 non-null  int64 \n",
      "dtypes: int64(14), object(1)\n",
      "memory usage: 11.3+ MB\n"
     ]
    }
   ],
   "source": [
    "test_fbk.info()"
   ]
  },
  {
   "cell_type": "markdown",
   "metadata": {},
   "source": [
    "**(B) Duplicate Values Check**"
   ]
  },
  {
   "cell_type": "code",
   "execution_count": 29,
   "metadata": {},
   "outputs": [
    {
     "name": "stdout",
     "output_type": "stream",
     "text": [
      "Does the Dataset contain Duplicate Rows? False\n"
     ]
    }
   ],
   "source": [
    "print('Does the Dataset contain Duplicate Rows?', test_fbk.duplicated().any())"
   ]
  },
  {
   "cell_type": "markdown",
   "metadata": {},
   "source": [
    "**(C) Missing Value Check**"
   ]
  },
  {
   "cell_type": "code",
   "execution_count": 41,
   "metadata": {},
   "outputs": [
    {
     "name": "stdout",
     "output_type": "stream",
     "text": [
      "Q1. Does the Column: gender have any missing values ? Ans:0\n"
     ]
    }
   ],
   "source": [
    "print(\"Q1. Does the Column: gender have any missing values ? Ans:{}\".format(test_fbk['gender'].isna().sum()))"
   ]
  },
  {
   "cell_type": "code",
   "execution_count": 42,
   "metadata": {},
   "outputs": [
    {
     "data": {
      "text/plain": [
       "male             58574\n",
       "female           40254\n",
       "Not Specified      175\n",
       "Name: gender, dtype: int64"
      ]
     },
     "execution_count": 42,
     "metadata": {},
     "output_type": "execute_result"
    }
   ],
   "source": [
    "test_fbk['gender'].value_counts(dropna = False)"
   ]
  },
  {
   "cell_type": "code",
   "execution_count": 40,
   "metadata": {},
   "outputs": [
    {
     "name": "stdout",
     "output_type": "stream",
     "text": [
      "Q2. Does the Column: tenure have any missing values ? Ans:0\n"
     ]
    }
   ],
   "source": [
    "print(\"Q2. Does the Column: tenure have any missing values ? Ans:{}\".format(test_fbk['tenure'].isna().sum()))"
   ]
  },
  {
   "cell_type": "markdown",
   "metadata": {},
   "source": [
    "**(D) Checking datatype conversion ('float64' to 'int64' datatype) for column: tenure.** "
   ]
  },
  {
   "cell_type": "code",
   "execution_count": 33,
   "metadata": {},
   "outputs": [
    {
     "name": "stdout",
     "output_type": "stream",
     "text": [
      "What is the datatype for column: tenure? Ans:int64\n"
     ]
    }
   ],
   "source": [
    "print(\"What is the datatype for column: tenure? Ans:{}\".format(test_fbk['tenure'].dtype))"
   ]
  },
  {
   "cell_type": "markdown",
   "metadata": {},
   "source": [
    "**Observations:**\n",
    "\n",
    "- There are **15 features** with **99003 unique observations** in the dataset.Total memory used is **11.3 MB**.\n",
    "\n",
    "- There are **No Duplicate** rows in this dataset.\n",
    "\n",
    "- There are **No Missing** values throughout the dataset.\n",
    "\n",
    "    - The missing values in **gender** column have been replaced with **Not Specified** category.\n",
    "\n",
    "    - All missing values of the **tenure** column have been updated. It's datatype has been changed to **int64** in the Data Pre-Processing phase.  "
   ]
  },
  {
   "cell_type": "markdown",
   "metadata": {
    "colab_type": "text",
    "id": "taDvvLa9q-5p"
   },
   "source": [
    "---\n",
    "<a name = Section8></a>\n",
    "# **8. Exploratory Data Analysis**\n",
    "---\n",
    "\n",
    "- This section is emphasised on asking the right questions and perform analysis using the data.\n"
   ]
  },
  {
   "cell_type": "markdown",
   "metadata": {
    "colab": {},
    "colab_type": "code",
    "id": "fwWa_FPerGCB"
   },
   "source": [
    "**Q1.** *Who is the most popular user in the dataset?*"
   ]
  },
  {
   "cell_type": "markdown",
   "metadata": {},
   "source": [
    "*Here we are trying to study about the most popular user in the dataset.*"
   ]
  },
  {
   "cell_type": "code",
   "execution_count": 60,
   "metadata": {},
   "outputs": [
    {
     "data": {
      "text/html": [
       "<div>\n",
       "<style scoped>\n",
       "    .dataframe tbody tr th:only-of-type {\n",
       "        vertical-align: middle;\n",
       "    }\n",
       "\n",
       "    .dataframe tbody tr th {\n",
       "        vertical-align: top;\n",
       "    }\n",
       "\n",
       "    .dataframe thead th {\n",
       "        text-align: right;\n",
       "    }\n",
       "</style>\n",
       "<table border=\"1\" class=\"dataframe\">\n",
       "  <thead>\n",
       "    <tr style=\"text-align: right;\">\n",
       "      <th></th>\n",
       "      <th>userid</th>\n",
       "      <th>age</th>\n",
       "      <th>dob_day</th>\n",
       "      <th>dob_year</th>\n",
       "      <th>dob_month</th>\n",
       "      <th>gender</th>\n",
       "      <th>tenure</th>\n",
       "      <th>friend_count</th>\n",
       "      <th>friendships_initiated</th>\n",
       "      <th>likes</th>\n",
       "      <th>likes_received</th>\n",
       "      <th>mobile_likes</th>\n",
       "      <th>mobile_likes_received</th>\n",
       "      <th>www_likes</th>\n",
       "      <th>www_likes_received</th>\n",
       "    </tr>\n",
       "  </thead>\n",
       "  <tbody>\n",
       "    <tr>\n",
       "      <th>94906</th>\n",
       "      <td>1674584</td>\n",
       "      <td>17</td>\n",
       "      <td>14</td>\n",
       "      <td>1996</td>\n",
       "      <td>8</td>\n",
       "      <td>female</td>\n",
       "      <td>401</td>\n",
       "      <td>818</td>\n",
       "      <td>395</td>\n",
       "      <td>1016</td>\n",
       "      <td>261197</td>\n",
       "      <td>659</td>\n",
       "      <td>131244</td>\n",
       "      <td>357</td>\n",
       "      <td>129953</td>\n",
       "    </tr>\n",
       "  </tbody>\n",
       "</table>\n",
       "</div>"
      ],
      "text/plain": [
       "        userid  age  dob_day  dob_year  dob_month  gender  tenure  \\\n",
       "94906  1674584   17       14      1996          8  female     401   \n",
       "\n",
       "       friend_count  friendships_initiated  likes  likes_received  \\\n",
       "94906           818                    395   1016          261197   \n",
       "\n",
       "       mobile_likes  mobile_likes_received  www_likes  www_likes_received  \n",
       "94906           659                 131244        357              129953  "
      ]
     },
     "execution_count": 60,
     "metadata": {},
     "output_type": "execute_result"
    }
   ],
   "source": [
    "test_fbk[test_fbk['likes_received'] == test_fbk['likes_received'].describe()['max']]"
   ]
  },
  {
   "cell_type": "code",
   "execution_count": 61,
   "metadata": {},
   "outputs": [
    {
     "data": {
      "text/html": [
       "<div>\n",
       "<style scoped>\n",
       "    .dataframe tbody tr th:only-of-type {\n",
       "        vertical-align: middle;\n",
       "    }\n",
       "\n",
       "    .dataframe tbody tr th {\n",
       "        vertical-align: top;\n",
       "    }\n",
       "\n",
       "    .dataframe thead th {\n",
       "        text-align: right;\n",
       "    }\n",
       "</style>\n",
       "<table border=\"1\" class=\"dataframe\">\n",
       "  <thead>\n",
       "    <tr style=\"text-align: right;\">\n",
       "      <th></th>\n",
       "      <th>userid</th>\n",
       "      <th>age</th>\n",
       "      <th>dob_day</th>\n",
       "      <th>dob_year</th>\n",
       "      <th>dob_month</th>\n",
       "      <th>gender</th>\n",
       "      <th>tenure</th>\n",
       "      <th>friend_count</th>\n",
       "      <th>friendships_initiated</th>\n",
       "      <th>likes</th>\n",
       "      <th>likes_received</th>\n",
       "      <th>mobile_likes</th>\n",
       "      <th>mobile_likes_received</th>\n",
       "      <th>www_likes</th>\n",
       "      <th>www_likes_received</th>\n",
       "    </tr>\n",
       "  </thead>\n",
       "  <tbody>\n",
       "    <tr>\n",
       "      <th>98159</th>\n",
       "      <td>2090699</td>\n",
       "      <td>103</td>\n",
       "      <td>1</td>\n",
       "      <td>1910</td>\n",
       "      <td>10</td>\n",
       "      <td>female</td>\n",
       "      <td>783</td>\n",
       "      <td>4923</td>\n",
       "      <td>96</td>\n",
       "      <td>26</td>\n",
       "      <td>80</td>\n",
       "      <td>26</td>\n",
       "      <td>71</td>\n",
       "      <td>0</td>\n",
       "      <td>9</td>\n",
       "    </tr>\n",
       "  </tbody>\n",
       "</table>\n",
       "</div>"
      ],
      "text/plain": [
       "        userid  age  dob_day  dob_year  dob_month  gender  tenure  \\\n",
       "98159  2090699  103        1      1910         10  female     783   \n",
       "\n",
       "       friend_count  friendships_initiated  likes  likes_received  \\\n",
       "98159          4923                     96     26              80   \n",
       "\n",
       "       mobile_likes  mobile_likes_received  www_likes  www_likes_received  \n",
       "98159            26                     71          0                   9  "
      ]
     },
     "execution_count": 61,
     "metadata": {},
     "output_type": "execute_result"
    }
   ],
   "source": [
    "test_fbk[test_fbk['friend_count'] == test_fbk['friend_count'].describe()['max']]"
   ]
  },
  {
   "cell_type": "markdown",
   "metadata": {},
   "source": [
    "**Observations** : \n",
    "   - We found that the female teenager aged 17 years [user ID: **1674584**] is the most popular user in the dataset. She has received maximum no.of likes for her posts since she joined Facebook somewhere around 2012. She only has 818 friends on Facebook. \n",
    "   \n",
    "   - While observing the female senior citizen aged 103 years [user ID: **2090699**], we find that even though she has the maximum friend count of 4923 on Facebook, she has received only 80 likes since she has joined Facebook somewhere around 2011. This shows that she is not as popular as the teenager with user ID:**1674584**."
   ]
  },
  {
   "cell_type": "markdown",
   "metadata": {},
   "source": [
    "**Q2.** *Which gender category is maximum in terms of ratio?*"
   ]
  },
  {
   "cell_type": "markdown",
   "metadata": {},
   "source": [
    "*A pie plot is being utilised to represent the gender categories in terms of ratio.*"
   ]
  },
  {
   "cell_type": "code",
   "execution_count": 62,
   "metadata": {},
   "outputs": [
    {
     "data": {
      "text/plain": [
       "<AxesSubplot:ylabel='gender'>"
      ]
     },
     "execution_count": 62,
     "metadata": {},
     "output_type": "execute_result"
    },
    {
     "data": {
      "image/png": "[encoded data removed]",
      "text/plain": [
       "<Figure size 432x288 with 1 Axes>"
      ]
     },
     "metadata": {},
     "output_type": "display_data"
    }
   ],
   "source": [
    "test_fbk['gender'].value_counts().plot.pie( autopct = \"%.2f%%\", colors = ['orange', 'pink'])"
   ]
  },
  {
   "cell_type": "markdown",
   "metadata": {},
   "source": [
    "**Observations** : \n",
    "    - Maximum number of the Facebook users are **Males** who constitute **59.16 %** of the total."
   ]
  },
  {
   "cell_type": "markdown",
   "metadata": {},
   "source": [
    "**Q3.** *To which age group do most of the Facebook users belong to in this dataset?*"
   ]
  },
  {
   "cell_type": "markdown",
   "metadata": {},
   "source": [
    "*Since the user's **age** is a continuous variable, it would be wise to divide their ages into groups so that it can be used further analysis.*"
   ]
  },
  {
   "cell_type": "code",
   "execution_count": 63,
   "metadata": {},
   "outputs": [
    {
     "data": {
      "text/plain": [
       "count    99003.000000\n",
       "mean        37.280224\n",
       "std         22.589748\n",
       "min         13.000000\n",
       "25%         20.000000\n",
       "50%         28.000000\n",
       "75%         50.000000\n",
       "max        113.000000\n",
       "Name: age, dtype: float64"
      ]
     },
     "execution_count": 63,
     "metadata": {},
     "output_type": "execute_result"
    }
   ],
   "source": [
    "test_fbk['age'].describe()"
   ]
  },
  {
   "cell_type": "code",
   "execution_count": 64,
   "metadata": {},
   "outputs": [],
   "source": [
    "# Creating new column 'AgeGroup' to represent the values in 'age' column in range format.\n",
    "# Grouping the values in the 'age' column min = 13 and max = 113.\n",
    "\n",
    "bin1 = np.arange(10,130,10)\n",
    "\n",
    "label1 = ['10-20','21-30','31-40','41-50','51-60','61-70','71-80','81-90','91-100','101-110','111-120']\n",
    "test_fbk['AgeGroup'] = pd.cut(test_fbk['age'], bins = bin1, labels = label1, include_lowest=True)"
   ]
  },
  {
   "cell_type": "code",
   "execution_count": 65,
   "metadata": {},
   "outputs": [
    {
     "data": {
      "text/plain": [
       "21-30      28646\n",
       "10-20      24752\n",
       "31-40      12491\n",
       "51-60       9319\n",
       "41-50       8968\n",
       "61-70       6855\n",
       "101-110     3449\n",
       "71-80       2249\n",
       "91-100      1219\n",
       "81-90        817\n",
       "111-120      238\n",
       "Name: AgeGroup, dtype: int64"
      ]
     },
     "execution_count": 65,
     "metadata": {},
     "output_type": "execute_result"
    }
   ],
   "source": [
    "# Checking for missing values or 'NaN' in the column 'AgeGroup'\n",
    "test_fbk['AgeGroup'].value_counts(dropna = False)"
   ]
  },
  {
   "cell_type": "code",
   "execution_count": 67,
   "metadata": {},
   "outputs": [
    {
     "data": {
      "image/png": "[encoded data removed]",
      "text/plain": [
       "<Figure size 432x288 with 1 Axes>"
      ]
     },
     "metadata": {
      "needs_background": "light"
     },
     "output_type": "display_data"
    }
   ],
   "source": [
    "# test_fbk['AgeGroup'].value_counts()\n",
    "test_fbk['AgeGroup'].value_counts().plot.bar(color = 'lightgreen')\n",
    "\n",
    "plt.xticks(rotation = 45)\n",
    "\n",
    "plt.xlabel(xlabel='AgeGroup', size=14)\n",
    "\n",
    "plt.ylabel(ylabel='Count', size=14)\n",
    "\n",
    "plt.grid(b=True)"
   ]
  },
  {
   "cell_type": "code",
   "execution_count": 69,
   "metadata": {},
   "outputs": [
    {
     "data": {
      "text/plain": [
       "21-30      28.93\n",
       "10-20      25.00\n",
       "31-40      12.62\n",
       "51-60       9.41\n",
       "41-50       9.06\n",
       "61-70       6.92\n",
       "101-110     3.48\n",
       "71-80       2.27\n",
       "91-100      1.23\n",
       "81-90       0.83\n",
       "111-120     0.24\n",
       "Name: AgeGroup, dtype: float64"
      ]
     },
     "execution_count": 69,
     "metadata": {},
     "output_type": "execute_result"
    }
   ],
   "source": [
    "round(test_fbk['AgeGroup'].value_counts()/test_fbk['AgeGroup'].shape[0]*100, 2)"
   ]
  },
  {
   "cell_type": "markdown",
   "metadata": {},
   "source": [
    "**Observations** : \n",
    "   - Maximum number of the Facebook users lie in the age range of **21- 30 years** with frequency count of **30699** or **28.93%**.\n",
    "   - There were no missing values in the new column **AgeGroup**."
   ]
  },
  {
   "cell_type": "markdown",
   "metadata": {},
   "source": [
    "**Q4.** *How long have most of the users been using Facebook in terms of years?*"
   ]
  },
  {
   "cell_type": "markdown",
   "metadata": {},
   "source": [
    "*While trying to divide the **tenure** column (which consists of values in **no. of days**) by 365 to convert into **no. of years**, it was resulting in output **zero** which in our case is unacceptable.* \n",
    "*Hence decided to divide the **tenure** column into **9 year groups** namely: (0-1),(1-2),(2-3),(3-4),(4-5),(5-6),(6-7),(7-8),(8-9) since the (min, max) of tenure column is (0, 3139).*"
   ]
  },
  {
   "cell_type": "code",
   "execution_count": 70,
   "metadata": {},
   "outputs": [],
   "source": [
    "# Creating new column 'Fc_Years' to represent the values in 'tenure' column (in days) to years.\n",
    "# Grouping the values in the 'tenure' column min: 0 and max: 3139.\n",
    "\n",
    "bins = np.arange(0, 3650, 365)\n",
    "labels = ['0-1 year', '1-2 year', '2-3 year', '3-4 year','4-5 year','5-6 year','6-7 year','7-8 year','8-9 year']\n",
    "test_fbk['Fc_Years'] = pd.cut(test_fbk['tenure'], bins = bins, labels = labels )"
   ]
  },
  {
   "cell_type": "code",
   "execution_count": 71,
   "metadata": {},
   "outputs": [
    {
     "data": {
      "text/plain": [
       "0-1 year    43588\n",
       "1-2 year    33368\n",
       "2-3 year     9860\n",
       "3-4 year     5448\n",
       "4-5 year     4557\n",
       "5-6 year     1507\n",
       "6-7 year      581\n",
       "NaN            70\n",
       "7-8 year       15\n",
       "8-9 year        9\n",
       "Name: Fc_Years, dtype: int64"
      ]
     },
     "execution_count": 71,
     "metadata": {},
     "output_type": "execute_result"
    }
   ],
   "source": [
    "# Checking for missing values or 'NaN' in the column 'Fc_Years'\n",
    "test_fbk['Fc_Years'].value_counts(dropna = False)"
   ]
  },
  {
   "cell_type": "markdown",
   "metadata": {},
   "source": [
    "**Correction :** For handling the 70 missing values under the categorical column **Fc_Years**, we will replace with the **mode value**.\n",
    "[ *70 missing values is attributed to 70 zero values in the corresponding **tenure** column* ]."
   ]
  },
  {
   "cell_type": "code",
   "execution_count": 72,
   "metadata": {},
   "outputs": [],
   "source": [
    "test_fbk['Fc_Years'].fillna(test_fbk['Fc_Years'].mode()[0], inplace = True)"
   ]
  },
  {
   "cell_type": "code",
   "execution_count": 73,
   "metadata": {},
   "outputs": [
    {
     "data": {
      "text/plain": [
       "0-1 year    44.10\n",
       "1-2 year    33.70\n",
       "2-3 year     9.96\n",
       "3-4 year     5.50\n",
       "4-5 year     4.60\n",
       "5-6 year     1.52\n",
       "6-7 year     0.59\n",
       "7-8 year     0.02\n",
       "8-9 year     0.01\n",
       "Name: Fc_Years, dtype: float64"
      ]
     },
     "execution_count": 73,
     "metadata": {},
     "output_type": "execute_result"
    }
   ],
   "source": [
    "# Percentage of all categories under 'Fc_Years'\n",
    "round((100*test_fbk['Fc_Years'].value_counts()/test_fbk['Fc_Years'].shape[0]),2)"
   ]
  },
  {
   "cell_type": "code",
   "execution_count": 74,
   "metadata": {},
   "outputs": [
    {
     "data": {
      "image/png": "[encoded data removed]",
      "text/plain": [
       "<Figure size 432x288 with 1 Axes>"
      ]
     },
     "metadata": {
      "needs_background": "light"
     },
     "output_type": "display_data"
    }
   ],
   "source": [
    "test_fbk['Fc_Years'].value_counts().plot.bar(color = 'maroon')\n",
    "\n",
    "plt.xticks(rotation = 45)\n",
    "\n",
    "plt.xlabel(xlabel='Facebook Years', size=14)\n",
    "\n",
    "plt.ylabel(ylabel='Count', size=14)\n",
    "\n",
    "plt.grid(b=True)"
   ]
  },
  {
   "cell_type": "markdown",
   "metadata": {},
   "source": [
    "**Observations** : \n",
    "    - Most of the users have been using Facebook for period of **\"0-1 year\"**. That shows many users have just recently joined Facebook. "
   ]
  },
  {
   "cell_type": "markdown",
   "metadata": {},
   "source": [
    "**Q5.** *Which gender category is most **Active** on Facebook?*"
   ]
  },
  {
   "cell_type": "markdown",
   "metadata": {},
   "source": [
    "*Here I am trying to plot the average of 4 columns: **friend_count,friendships_initiated, likes and likes_received** with respect to the column: **gender**. This is because an **Active** user can be considered as one who has more friends, sends more friend requests, posts most likes and receives likes for his/her posts.*"
   ]
  },
  {
   "cell_type": "code",
   "execution_count": 75,
   "metadata": {},
   "outputs": [
    {
     "data": {
      "text/plain": [
       "gender\n",
       "Not Specified    184.411429\n",
       "female           241.969941\n",
       "male             165.035459\n",
       "Name: friend_count, dtype: float64"
      ]
     },
     "execution_count": 75,
     "metadata": {},
     "output_type": "execute_result"
    }
   ],
   "source": [
    "grp1 = test_fbk.groupby('gender')['friend_count'].mean()\n",
    "grp1"
   ]
  },
  {
   "cell_type": "code",
   "execution_count": 76,
   "metadata": {},
   "outputs": [
    {
     "data": {
      "text/plain": [
       "gender\n",
       "Not Specified     92.571429\n",
       "female           113.899091\n",
       "male             103.066600\n",
       "Name: friendships_initiated, dtype: float64"
      ]
     },
     "execution_count": 76,
     "metadata": {},
     "output_type": "execute_result"
    }
   ],
   "source": [
    "grp2 = test_fbk.groupby('gender')['friendships_initiated'].mean()\n",
    "grp2"
   ]
  },
  {
   "cell_type": "code",
   "execution_count": 77,
   "metadata": {},
   "outputs": [
    {
     "data": {
      "text/plain": [
       "gender\n",
       "Not Specified    138.508571\n",
       "female           260.051324\n",
       "male              84.677895\n",
       "Name: likes, dtype: float64"
      ]
     },
     "execution_count": 77,
     "metadata": {},
     "output_type": "execute_result"
    }
   ],
   "source": [
    "grp3 = test_fbk.groupby('gender')['likes'].mean()\n",
    "grp3"
   ]
  },
  {
   "cell_type": "code",
   "execution_count": 78,
   "metadata": {},
   "outputs": [
    {
     "data": {
      "text/plain": [
       "gender\n",
       "Not Specified    157.382857\n",
       "female           251.435435\n",
       "male              67.911548\n",
       "Name: likes_received, dtype: float64"
      ]
     },
     "execution_count": 78,
     "metadata": {},
     "output_type": "execute_result"
    }
   ],
   "source": [
    "grp4 = test_fbk.groupby('gender')['likes_received'].mean()\n",
    "grp4"
   ]
  },
  {
   "cell_type": "code",
   "execution_count": 79,
   "metadata": {},
   "outputs": [
    {
     "data": {
      "image/png": "[encoded data removed]",
      "text/plain": [
       "<Figure size 1080x504 with 4 Axes>"
      ]
     },
     "metadata": {
      "needs_background": "light"
     },
     "output_type": "display_data"
    }
   ],
   "source": [
    "# Creating a custom figure size of 15 X 7 inches\n",
    "figure = plt.figure(figsize=[15, 7])\n",
    "\n",
    "###################################################\n",
    "# First Plot for gender vs friend_count\n",
    "###################################################\n",
    "plt.subplot(2, 2, 1)\n",
    "\n",
    "plt.bar(x=grp1.index, height=grp1.values, width = 0.3, color = 'forestgreen' )\n",
    "\n",
    "plt.xlabel(xlabel='Gender', size=14)\n",
    "\n",
    "plt.ylabel(ylabel='Friend Count', size=14)\n",
    "\n",
    "plt.grid(b=True)\n",
    "\n",
    "###################################################\n",
    "# Second Plot for gender vs friendships_initiated\n",
    "###################################################\n",
    "plt.subplot(2, 2, 2)\n",
    "\n",
    "plt.bar(x=grp2.index, height=grp2.values, width = 0.3, color = 'red' )\n",
    "\n",
    "plt.xlabel(xlabel='Gender', size=14)\n",
    "\n",
    "plt.ylabel(ylabel='Friendships Initiated', size=14)\n",
    "\n",
    "plt.grid(b=True)\n",
    "\n",
    "###################################################\n",
    "# Third Plot for gender vs likes\n",
    "###################################################\n",
    "plt.subplot(2, 2, 3)\n",
    "\n",
    "plt.bar(x=grp3.index, height=grp3.values, width = 0.3, color = 'yellow' )\n",
    "\n",
    "plt.xlabel(xlabel='Gender', size=14)\n",
    "\n",
    "plt.ylabel(ylabel='Likes done', size=14)\n",
    "\n",
    "plt.grid(b=True)\n",
    "\n",
    "###################################################\n",
    "# Fourth Plot for gender vs likes_received\n",
    "###################################################\n",
    "plt.subplot(2, 2, 4)\n",
    "\n",
    "plt.bar(x=grp4.index, height=grp4.values, width = 0.3, color = 'purple' )\n",
    "\n",
    "plt.xlabel(xlabel='Gender', size=14)\n",
    "\n",
    "plt.ylabel(ylabel='Likes Received', size=14)\n",
    "\n",
    "plt.grid(b=True)\n",
    "\n",
    "###################################################\n",
    "# Display the output by rendering visual on the screen\n",
    "plt.show()\n",
    "###################################################"
   ]
  },
  {
   "cell_type": "markdown",
   "metadata": {},
   "source": [
    "**Observations** : \n",
    "\n",
    " - Most of the **female users** are more **active Facebook users** as compared to the **male users**, who have comparatively more accounts."
   ]
  },
  {
   "cell_type": "markdown",
   "metadata": {},
   "source": [
    "**Q6.** *Which age group is most **Active** on Facebook?*"
   ]
  },
  {
   "cell_type": "markdown",
   "metadata": {},
   "source": [
    "*Here I am trying to plot the average of 4 columns: **friend_count,friendships_initiated, likes and likes_received** with respect to the column: **AgeGroup**. This is because an **Active** user can be considered as one who has more friends, sends more friend requests, posts most likes and receives likes for his/her posts.*"
   ]
  },
  {
   "cell_type": "code",
   "execution_count": 80,
   "metadata": {},
   "outputs": [
    {
     "data": {
      "text/plain": [
       "AgeGroup\n",
       "10-20      321.773109\n",
       "21-30      168.868708\n",
       "31-40      106.185253\n",
       "41-50      104.987846\n",
       "51-60      108.618092\n",
       "61-70      134.019840\n",
       "71-80      125.646954\n",
       "81-90      279.952264\n",
       "91-100     377.880230\n",
       "101-110    401.848072\n",
       "111-120    338.890756\n",
       "Name: friend_count, dtype: float64"
      ]
     },
     "execution_count": 80,
     "metadata": {},
     "output_type": "execute_result"
    }
   ],
   "source": [
    "grp1 = test_fbk.groupby('AgeGroup')['friend_count'].mean()\n",
    "grp1"
   ]
  },
  {
   "cell_type": "code",
   "execution_count": 81,
   "metadata": {},
   "outputs": [
    {
     "data": {
      "text/plain": [
       "AgeGroup\n",
       "10-20      172.228224\n",
       "21-30       99.957202\n",
       "31-40       62.526299\n",
       "41-50       59.129126\n",
       "51-60       59.920592\n",
       "61-70       69.158133\n",
       "71-80       59.459760\n",
       "81-90      129.337821\n",
       "91-100     181.087777\n",
       "101-110    194.318643\n",
       "111-120    158.151261\n",
       "Name: friendships_initiated, dtype: float64"
      ]
     },
     "execution_count": 81,
     "metadata": {},
     "output_type": "execute_result"
    }
   ],
   "source": [
    "grp2 = test_fbk.groupby('AgeGroup')['friendships_initiated'].mean()\n",
    "grp2"
   ]
  },
  {
   "cell_type": "code",
   "execution_count": 82,
   "metadata": {},
   "outputs": [
    {
     "data": {
      "text/plain": [
       "AgeGroup\n",
       "10-20      210.960084\n",
       "21-30      123.487817\n",
       "31-40      120.246417\n",
       "41-50      151.839095\n",
       "51-60      167.702865\n",
       "61-70      164.320788\n",
       "71-80      122.707426\n",
       "81-90      131.745410\n",
       "91-100     172.450369\n",
       "101-110    149.868078\n",
       "111-120    123.957983\n",
       "Name: likes, dtype: float64"
      ]
     },
     "execution_count": 82,
     "metadata": {},
     "output_type": "execute_result"
    }
   ],
   "source": [
    "grp3 = test_fbk.groupby('AgeGroup')['likes'].mean()\n",
    "grp3"
   ]
  },
  {
   "cell_type": "code",
   "execution_count": 83,
   "metadata": {},
   "outputs": [
    {
     "data": {
      "text/plain": [
       "AgeGroup\n",
       "10-20      246.877464\n",
       "21-30      117.392620\n",
       "31-40       93.171083\n",
       "41-50      108.745651\n",
       "51-60      102.175877\n",
       "61-70       97.277462\n",
       "71-80       72.996888\n",
       "81-90      102.237454\n",
       "91-100     129.997539\n",
       "101-110    135.044361\n",
       "111-120     97.298319\n",
       "Name: likes_received, dtype: float64"
      ]
     },
     "execution_count": 83,
     "metadata": {},
     "output_type": "execute_result"
    }
   ],
   "source": [
    "grp4 = test_fbk.groupby('AgeGroup')['likes_received'].mean()\n",
    "grp4"
   ]
  },
  {
   "cell_type": "code",
   "execution_count": 84,
   "metadata": {},
   "outputs": [
    {
     "data": {
      "image/png": "[encoded data removed]",
      "text/plain": [
       "<Figure size 1080x720 with 4 Axes>"
      ]
     },
     "metadata": {
      "needs_background": "light"
     },
     "output_type": "display_data"
    }
   ],
   "source": [
    "# Creating a custom figure size of 15 X 10 inches\n",
    "figure = plt.figure(figsize=[15, 10])\n",
    "\n",
    "###################################################\n",
    "# First Plot for AgeGroup vs Friend Count\n",
    "###################################################\n",
    "\n",
    "plt.subplot(2, 2, 1)\n",
    "plt.bar(x=grp1.index, height=grp1.values, width = 0.3, color = 'red' )\n",
    "\n",
    "plt.xticks(rotation=45, size=12)\n",
    "\n",
    "# Labelling x-axis with a custom label and size of 14\n",
    "plt.xlabel(xlabel='AgeGroup', size=14)\n",
    "\n",
    "# Labelling y-axis with a custom label and size of 14\n",
    "plt.ylabel(ylabel='Friend Count', size=14)\n",
    "\n",
    "# Enabling grid for better precision view\n",
    "plt.grid(b=True)\n",
    "\n",
    "###################################################\n",
    "# Second Plot for AgeGroup vs Friendships Initiated\n",
    "###################################################\n",
    "\n",
    "plt.subplot(2, 2, 2)\n",
    "\n",
    "plt.bar(x=grp2.index, height=grp2.values, width = 0.3 , color = 'yellow')\n",
    "\n",
    "plt.xticks(rotation=45, size=12)\n",
    "\n",
    "# Labelling x-axis with a custom label and size of 14\n",
    "plt.xlabel(xlabel='AgeGroup', size=14)\n",
    "\n",
    "# Labelling y-axis with a custom label and size of 14\n",
    "plt.ylabel(ylabel='Friendships Initiated', size=14)\n",
    "\n",
    "# Enabling grid for better precision view\n",
    "plt.grid(b=True)\n",
    "\n",
    "###################################################\n",
    "# Third Plot for AgeGroup vs Likes done\n",
    "###################################################\n",
    "\n",
    "plt.subplot(2, 2, 3)\n",
    "\n",
    "plt.bar(x=grp3.index, height=grp3.values, width = 0.3, color = 'lightgreen' )\n",
    "\n",
    "plt.xticks(rotation=45, size=12)\n",
    "\n",
    "# Labelling x-axis with a custom label and size of 14\n",
    "plt.xlabel(xlabel='AgeGroup', size=14)\n",
    "\n",
    "# Labelling y-axis with a custom label and size of 14\n",
    "plt.ylabel(ylabel='Likes done', size=14)\n",
    "\n",
    "# Enabling grid for better precision view\n",
    "plt.grid(b=True)\n",
    "\n",
    "###################################################\n",
    "# Fourth Plot for AgeGroup vs Likes Received\n",
    "###################################################\n",
    "\n",
    "plt.subplot(2, 2, 4)\n",
    "\n",
    "plt.bar(x=grp4.index, height=grp4.values, width = 0.3, color = 'blue' )\n",
    "\n",
    "plt.xticks(rotation=45, size=12)\n",
    "\n",
    "# Labelling x-axis with a custom label and size of 14\n",
    "plt.xlabel(xlabel='AgeGroup', size=14)\n",
    "\n",
    "# Labelling y-axis with a custom label and size of 14\n",
    "plt.ylabel(ylabel='Likes Received', size=14)\n",
    "\n",
    "# Enabling grid for better precision view\n",
    "plt.grid(b=True)\n",
    "\n",
    "# Display the output by rendering visual on the screen\n",
    "plt.show()"
   ]
  },
  {
   "cell_type": "markdown",
   "metadata": {},
   "source": [
    "**Observations** : \n",
    "\n",
    " - Most of the **active Facebook users** belong to age group of **13-20 years**. This is because the maximum permissible age for creating Facebook account is 13 years and above. This dataset also complies with this rule, as it has minimum value of **13 years** under **'age'** column. "
   ]
  },
  {
   "cell_type": "markdown",
   "metadata": {},
   "source": [
    "**Q7.** *How many users have Facebook accounts but still have been **Inactive** till 2013?*"
   ]
  },
  {
   "cell_type": "markdown",
   "metadata": {},
   "source": [
    "*As per the dataset user can be considered as **Inactive** if they have no friends, never initiated friend requests, never posted any likes or received any likes/ comments. Here I have extracted some columns for this analyis.*"
   ]
  },
  {
   "cell_type": "code",
   "execution_count": 85,
   "metadata": {},
   "outputs": [
    {
     "data": {
      "text/plain": [
       "1664"
      ]
     },
     "execution_count": 85,
     "metadata": {},
     "output_type": "execute_result"
    }
   ],
   "source": [
    "# We can find inactive users if they satisfy the following conditions: friend_count = 0, friendships_initiated = 0,likes_received = 0 and likes = 0\n",
    "t_fb3 = test_fbk[['gender','friend_count','friendships_initiated', 'likes','likes_received','AgeGroup','Fc_Years']]\n",
    "\n",
    "t_fb3[(t_fb3['friend_count'] == 0) & (t_fb3['friendships_initiated'] == 0) & (t_fb3['likes'] == 0) & (t_fb3['likes_received'] == 0)].shape[0]"
   ]
  },
  {
   "cell_type": "code",
   "execution_count": 87,
   "metadata": {},
   "outputs": [
    {
     "data": {
      "text/plain": [
       "1.68"
      ]
     },
     "execution_count": 87,
     "metadata": {},
     "output_type": "execute_result"
    }
   ],
   "source": [
    "# Percentage of Inactive Users with respect to the complete dataset.\n",
    "round(t_fb3[(t_fb3['friend_count'] == 0) & (t_fb3['friendships_initiated'] == 0) & (t_fb3['likes'] == 0) & (t_fb3['likes_received'] == 0)].shape[0]/t_fb3.shape[0]* 100, 2)"
   ]
  },
  {
   "cell_type": "code",
   "execution_count": 88,
   "metadata": {},
   "outputs": [
    {
     "data": {
      "image/png": "[encoded data removed]",
      "text/plain": [
       "<Figure size 1080x504 with 1 Axes>"
      ]
     },
     "metadata": {
      "needs_background": "light"
     },
     "output_type": "display_data"
    }
   ],
   "source": [
    "# Creating a custom figure size of 15 X 7 inches\n",
    "figure = plt.figure(figsize=[15, 7])\n",
    "\n",
    "t_fb3[(t_fb3['friend_count'] == 0) & (t_fb3['friendships_initiated'] == 0) & (t_fb3['likes'] == 0) & (t_fb3['likes_received'] == 0)]['AgeGroup'].value_counts().plot.bar(color = 'purple')\n",
    "\n",
    "plt.xticks(rotation=45, size=12)\n",
    "\n",
    "# Labelling x-axis with a custom label and size of 14\n",
    "plt.xlabel(xlabel='AgeGroup', size=14)\n",
    "\n",
    "# Labelling y-axis with a custom label and size of 14\n",
    "plt.ylabel(ylabel='Inactive Users', size=14)\n",
    "\n",
    "# Enabling grid for better precision view\n",
    "plt.grid(b=True)"
   ]
  },
  {
   "cell_type": "code",
   "execution_count": 90,
   "metadata": {},
   "outputs": [
    {
     "data": {
      "image/png": "[encoded data removed]",
      "text/plain": [
       "<Figure size 1080x504 with 1 Axes>"
      ]
     },
     "metadata": {
      "needs_background": "light"
     },
     "output_type": "display_data"
    }
   ],
   "source": [
    "# Creating a custom figure size of 15 X 7 inches\n",
    "figure = plt.figure(figsize=[15, 7])\n",
    "\n",
    "t_fb3[(t_fb3['friend_count'] == 0) & (t_fb3['friendships_initiated'] == 0) & (t_fb3['likes'] == 0) & (t_fb3['likes_received'] == 0)]['Fc_Years'].value_counts().plot.bar(color = 'green')\n",
    "\n",
    "plt.xticks(rotation=45, size=12)\n",
    "\n",
    "# Labelling x-axis with a custom label and size of 14\n",
    "plt.xlabel(xlabel='Facebook Years', size=14)\n",
    "\n",
    "# Labelling y-axis with a custom label and size of 14\n",
    "plt.ylabel(ylabel='Inactive Users', size=14)\n",
    "\n",
    "# Enabling grid for better precision view\n",
    "plt.grid(b=True)\n"
   ]
  },
  {
   "cell_type": "code",
   "execution_count": 91,
   "metadata": {},
   "outputs": [
    {
     "data": {
      "image/png": "[encoded data removed]",
      "text/plain": [
       "<Figure size 432x288 with 1 Axes>"
      ]
     },
     "metadata": {},
     "output_type": "display_data"
    }
   ],
   "source": [
    "t_fb3[(t_fb3['friend_count'] == 0) & (t_fb3['friendships_initiated'] == 0) & (t_fb3['likes'] == 0) & (t_fb3['likes_received'] == 0)]['gender'].value_counts().plot.pie(autopct = \"%.2f%%\", colors = ['red', 'pink'])\n",
    "\n",
    "plt.xticks(rotation=None, size=12)\n",
    "\n",
    "# Labelling x-axis with a custom label and size of 14\n",
    "plt.xlabel(xlabel='Facebook Years', size=14)\n",
    "\n",
    "# Labelling y-axis with a custom label and size of 14\n",
    "plt.ylabel(ylabel='Inactive Users', size=14)\n",
    "\n",
    "# Enabling grid for better precision view\n",
    "plt.grid(b=True)\n"
   ]
  },
  {
   "cell_type": "markdown",
   "metadata": {},
   "source": [
    "**Observations** : \n",
    "\n",
    " - The number of the **Inactive Facebook Users** is **1664** *(approximately **1.7 % of the total**)*. \n",
    " - As per the above data we find there are more number of **Males** as compared to any of gender categories.\n",
    " - Most of the users are in the age group of **21-30 years** who have been **inactive** till 2013.\n",
    " - Most of these **Inactive** users have either recently joined **Facebook** **OR** having been using **Facebook** since **2012**."
   ]
  },
  {
   "cell_type": "markdown",
   "metadata": {},
   "source": [
    "**Q8.** *Which mode is more popular - **\"Facebook website\"** OR **\"Facebook Mobile App\"** among the users?*"
   ]
  },
  {
   "cell_type": "markdown",
   "metadata": {},
   "source": [
    "*Here we trying to figure out the most prefered Facebook version among its users based on the gender category.*"
   ]
  },
  {
   "cell_type": "code",
   "execution_count": 92,
   "metadata": {},
   "outputs": [
    {
     "data": {
      "text/plain": [
       "gender\n",
       "Not Specified     89.417143\n",
       "female           172.912928\n",
       "male              60.261328\n",
       "Name: mobile_likes, dtype: float64"
      ]
     },
     "execution_count": 92,
     "metadata": {},
     "output_type": "execute_result"
    }
   ],
   "source": [
    "test_fbk.groupby(by=['gender'])['mobile_likes'].mean()"
   ]
  },
  {
   "cell_type": "code",
   "execution_count": 93,
   "metadata": {},
   "outputs": [
    {
     "data": {
      "text/plain": [
       "gender\n",
       "Not Specified     85.880000\n",
       "female           147.100884\n",
       "male              40.833015\n",
       "Name: mobile_likes_received, dtype: float64"
      ]
     },
     "execution_count": 93,
     "metadata": {},
     "output_type": "execute_result"
    }
   ],
   "source": [
    "test_fbk.groupby(by=['gender'])['mobile_likes_received'].mean()"
   ]
  },
  {
   "cell_type": "code",
   "execution_count": 94,
   "metadata": {},
   "outputs": [
    {
     "data": {
      "text/plain": [
       "gender\n",
       "Not Specified     71.502857\n",
       "female           104.334451\n",
       "male              27.078533\n",
       "Name: www_likes_received, dtype: float64"
      ]
     },
     "execution_count": 94,
     "metadata": {},
     "output_type": "execute_result"
    }
   ],
   "source": [
    "test_fbk.groupby(by=['gender'])['www_likes_received'].mean()"
   ]
  },
  {
   "cell_type": "code",
   "execution_count": 95,
   "metadata": {},
   "outputs": [
    {
     "data": {
      "text/plain": [
       "gender\n",
       "Not Specified    49.085714\n",
       "female           87.138297\n",
       "male             24.416550\n",
       "Name: www_likes, dtype: float64"
      ]
     },
     "execution_count": 95,
     "metadata": {},
     "output_type": "execute_result"
    }
   ],
   "source": [
    "test_fbk.groupby(by=['gender'])['www_likes'].mean()"
   ]
  },
  {
   "cell_type": "code",
   "execution_count": 96,
   "metadata": {},
   "outputs": [
    {
     "data": {
      "image/png": "[encoded data removed]",
      "text/plain": [
       "<Figure size 864x504 with 1 Axes>"
      ]
     },
     "metadata": {
      "needs_background": "light"
     },
     "output_type": "display_data"
    }
   ],
   "source": [
    "# Creating a custom figure size of 15 X 7 inches\n",
    "figure = plt.figure(figsize=[12, 7])\n",
    "\n",
    "# Using magic of pandas area() function for plotting stack area plot\n",
    "test_fbk.groupby(by=['gender'])['mobile_likes'].mean().plot.area(color='#347593')\n",
    "test_fbk.groupby(by=['gender'])['mobile_likes_received'].mean().plot.area(color='lightgreen')\n",
    "\n",
    "test_fbk.groupby(by=['gender'])['www_likes_received'].mean().plot.area(color='yellow')\n",
    "test_fbk.groupby(by=['gender'])['www_likes'].mean().plot.area(color='red')\n",
    "\n",
    "# Changing x-ticks ranging from 0 to 25000 with step size of 1500 and label size of 12\n",
    "# plt.xticks(ticks=np.arange(0, 25000, 1500), size=12)\n",
    "\n",
    "# Labelling x-axis with a custom label and size of 14\n",
    "plt.xlabel(xlabel='Gender', size=14)\n",
    "\n",
    "# Labelling y-axis with a custom label and size of 14\n",
    "plt.ylabel(ylabel='Facebook Likes Received', size=14)\n",
    "\n",
    "# Labelling title with a custom label and size of 14\n",
    "plt.title(label='Facebook Likes per Gender', size=16)\n",
    "\n",
    "# Setting up legend for the fat types\n",
    "plt.legend(labels=('Fc_Mob_App','Fc_Mob_Apps_rcvd','Fc_WWW_rcvd','Fc_WWW'), fontsize=12)\n",
    "\n",
    "# Enabling grid for better precision view\n",
    "plt.grid(b=True)\n",
    "\n",
    "# Display the output by rendering visual on the screen\n",
    "plt.show()"
   ]
  },
  {
   "cell_type": "markdown",
   "metadata": {},
   "source": [
    "**Observations** : \n",
    "\n",
    " - Most of the users have been using the **\"Facebook Mobile App\"** for all activities like sending and receiving likes as compared to **\"Facebook Website\"**.\n",
    " \n",
    " - In the above graph we can see that there are more number of **female users**."
   ]
  },
  {
   "cell_type": "markdown",
   "metadata": {},
   "source": [
    "**Q9.** *What is the behaviour of the users with gender category as **Not Specified**?*"
   ]
  },
  {
   "cell_type": "markdown",
   "metadata": {},
   "source": [
    "*Here we trying to study about users who don't feel comfortable in making their identity public and how they are utilising Facebook to stay connected within their private groups.*"
   ]
  },
  {
   "cell_type": "code",
   "execution_count": 97,
   "metadata": {},
   "outputs": [
    {
     "data": {
      "text/plain": [
       "<AxesSubplot:ylabel='Fc_Years'>"
      ]
     },
     "execution_count": 97,
     "metadata": {},
     "output_type": "execute_result"
    },
    {
     "data": {
      "image/png": "[encoded data removed]",
      "text/plain": [
       "<Figure size 1080x504 with 1 Axes>"
      ]
     },
     "metadata": {},
     "output_type": "display_data"
    }
   ],
   "source": [
    "# Creating a custom figure size of 15 X 7 inches\n",
    "figure = plt.figure(figsize=[15, 7])\n",
    "\n",
    "t_fb4 = pd.DataFrame(test_fbk[test_fbk['gender'] == 'Not Specified'])\n",
    "\n",
    "t_fb4['Fc_Years'].value_counts().plot.pie(autopct = \"%.2f%%\")\n"
   ]
  },
  {
   "cell_type": "code",
   "execution_count": 98,
   "metadata": {},
   "outputs": [
    {
     "data": {
      "text/plain": [
       "<AxesSubplot:ylabel='AgeGroup'>"
      ]
     },
     "execution_count": 98,
     "metadata": {},
     "output_type": "execute_result"
    },
    {
     "data": {
      "image/png": "[encoded data removed]",
      "text/plain": [
       "<Figure size 1080x504 with 1 Axes>"
      ]
     },
     "metadata": {},
     "output_type": "display_data"
    }
   ],
   "source": [
    "# Creating a custom figure size of 15 X 7 inches\n",
    "figure = plt.figure(figsize=[15, 7])\n",
    "\n",
    "t_fb4['AgeGroup'].value_counts().plot.pie(autopct = \"%.2f%%\")\n",
    "# t_fb4['AgeGroup'].value_counts()"
   ]
  },
  {
   "cell_type": "code",
   "execution_count": 99,
   "metadata": {},
   "outputs": [
    {
     "data": {
      "text/plain": [
       "<AxesSubplot:xlabel='AgeGroup'>"
      ]
     },
     "execution_count": 99,
     "metadata": {},
     "output_type": "execute_result"
    },
    {
     "data": {
      "text/plain": [
       "<Figure size 1080x504 with 0 Axes>"
      ]
     },
     "metadata": {},
     "output_type": "display_data"
    },
    {
     "data": {
      "image/png": "[encoded data removed]",
      "text/plain": [
       "<Figure size 720x288 with 1 Axes>"
      ]
     },
     "metadata": {
      "needs_background": "light"
     },
     "output_type": "display_data"
    }
   ],
   "source": [
    "# Creating a custom figure size of 15 X 7 inches\n",
    "figure = plt.figure(figsize=[15,7])\n",
    "\n",
    "t_fb4.groupby('AgeGroup')[['friend_count', 'friendships_initiated']].mean().round(2).plot.bar(figsize=(10, 4),color = ['lightgreen','purple'])"
   ]
  },
  {
   "cell_type": "code",
   "execution_count": 100,
   "metadata": {},
   "outputs": [
    {
     "data": {
      "text/plain": [
       "<AxesSubplot:xlabel='AgeGroup'>"
      ]
     },
     "execution_count": 100,
     "metadata": {},
     "output_type": "execute_result"
    },
    {
     "data": {
      "image/png": "[encoded data removed]",
      "text/plain": [
       "<Figure size 720x288 with 1 Axes>"
      ]
     },
     "metadata": {
      "needs_background": "light"
     },
     "output_type": "display_data"
    }
   ],
   "source": [
    "t_fb4.groupby('AgeGroup')[['likes_received','likes']].mean().round(2).plot.bar(figsize=(10,4),color = ['red','pink'])"
   ]
  },
  {
   "cell_type": "markdown",
   "metadata": {},
   "source": [
    "**Observations** : \n",
    "\n",
    " - Most of the users with **Not Specified** gender category are senior citizens [ **101-110 years** ].\n",
    " \n",
    " - Maximum users in this category have been using Facebook since **2006 or 2007**.\n",
    " \n",
    " - Most of the **Active** users lie in the age groups of **31-40 years**."
   ]
  },
  {
   "cell_type": "markdown",
   "metadata": {},
   "source": [
    "**Q10.** *What is the behaviour of the users who have been using Facebook for longest period?*"
   ]
  },
  {
   "cell_type": "markdown",
   "metadata": {},
   "source": [
    "*Here we trying to study about users who have been associated with Facebook for the longest period or **Fc_Years** = **8-9 years**.*"
   ]
  },
  {
   "cell_type": "code",
   "execution_count": 101,
   "metadata": {},
   "outputs": [
    {
     "data": {
      "text/plain": [
       "female    6\n",
       "male      3\n",
       "Name: gender, dtype: int64"
      ]
     },
     "execution_count": 101,
     "metadata": {},
     "output_type": "execute_result"
    }
   ],
   "source": [
    "t_fb5 = pd.DataFrame(test_fbk[test_fbk['Fc_Years'] == '8-9 year'])\n",
    "\n",
    "t_fb5.shape[0]\n",
    "\n",
    "t_fb5['AgeGroup'].value_counts()\n",
    "t_fb5['gender'].value_counts()"
   ]
  },
  {
   "cell_type": "code",
   "execution_count": 102,
   "metadata": {},
   "outputs": [
    {
     "data": {
      "text/plain": [
       "<AxesSubplot:xlabel='AgeGroup'>"
      ]
     },
     "execution_count": 102,
     "metadata": {},
     "output_type": "execute_result"
    },
    {
     "data": {
      "text/plain": [
       "<Figure size 1080x504 with 0 Axes>"
      ]
     },
     "metadata": {},
     "output_type": "display_data"
    },
    {
     "data": {
      "image/png": "[encoded data removed]",
      "text/plain": [
       "<Figure size 720x360 with 1 Axes>"
      ]
     },
     "metadata": {
      "needs_background": "light"
     },
     "output_type": "display_data"
    }
   ],
   "source": [
    "# Creating a custom figure size of 15 X 7 inches\n",
    "figure = plt.figure(figsize=[15, 7])\n",
    "\n",
    "t_fb5.groupby('AgeGroup')[['friend_count', 'friendships_initiated']].mean().round(2).plot.bar(figsize=(10,5), color = ['purple', 'orange'])"
   ]
  },
  {
   "cell_type": "code",
   "execution_count": 103,
   "metadata": {},
   "outputs": [
    {
     "data": {
      "text/plain": [
       "<AxesSubplot:xlabel='AgeGroup'>"
      ]
     },
     "execution_count": 103,
     "metadata": {},
     "output_type": "execute_result"
    },
    {
     "data": {
      "text/plain": [
       "<Figure size 1080x504 with 0 Axes>"
      ]
     },
     "metadata": {},
     "output_type": "display_data"
    },
    {
     "data": {
      "image/png": "[encoded data removed]",
      "text/plain": [
       "<Figure size 720x360 with 1 Axes>"
      ]
     },
     "metadata": {
      "needs_background": "light"
     },
     "output_type": "display_data"
    }
   ],
   "source": [
    "# Creating a custom figure size of 15 X 7 inches\n",
    "figure = plt.figure(figsize=[15, 7])\n",
    "\n",
    "t_fb5.groupby('AgeGroup')[['likes_received','likes']].mean().round(2).plot.bar(figsize=(10,5),color = ['brown', 'skyblue'])"
   ]
  },
  {
   "cell_type": "code",
   "execution_count": 105,
   "metadata": {},
   "outputs": [
    {
     "data": {
      "image/png": "[encoded data removed]",
      "text/plain": [
       "<Figure size 432x288 with 1 Axes>"
      ]
     },
     "metadata": {},
     "output_type": "display_data"
    }
   ],
   "source": [
    "t_fb5['gender'].value_counts().plot.pie( autopct = \"%.1f%%\", colors = ['violet', 'orange'])\n",
    "plt.title(\"Gender ratio for longest Fc_Years\") \n",
    "plt.show()"
   ]
  },
  {
   "cell_type": "code",
   "execution_count": 106,
   "metadata": {},
   "outputs": [
    {
     "data": {
      "text/html": [
       "<div>\n",
       "<style scoped>\n",
       "    .dataframe tbody tr th:only-of-type {\n",
       "        vertical-align: middle;\n",
       "    }\n",
       "\n",
       "    .dataframe tbody tr th {\n",
       "        vertical-align: top;\n",
       "    }\n",
       "\n",
       "    .dataframe thead th {\n",
       "        text-align: right;\n",
       "    }\n",
       "</style>\n",
       "<table border=\"1\" class=\"dataframe\">\n",
       "  <thead>\n",
       "    <tr style=\"text-align: right;\">\n",
       "      <th></th>\n",
       "      <th>userid</th>\n",
       "      <th>age</th>\n",
       "      <th>dob_day</th>\n",
       "      <th>dob_year</th>\n",
       "      <th>dob_month</th>\n",
       "      <th>gender</th>\n",
       "      <th>tenure</th>\n",
       "      <th>friend_count</th>\n",
       "      <th>friendships_initiated</th>\n",
       "      <th>likes</th>\n",
       "      <th>likes_received</th>\n",
       "      <th>mobile_likes</th>\n",
       "      <th>mobile_likes_received</th>\n",
       "      <th>www_likes</th>\n",
       "      <th>www_likes_received</th>\n",
       "      <th>AgeGroup</th>\n",
       "      <th>Fc_Years</th>\n",
       "    </tr>\n",
       "  </thead>\n",
       "  <tbody>\n",
       "    <tr>\n",
       "      <th>98689</th>\n",
       "      <td>2111567</td>\n",
       "      <td>103</td>\n",
       "      <td>22</td>\n",
       "      <td>1910</td>\n",
       "      <td>5</td>\n",
       "      <td>female</td>\n",
       "      <td>3128</td>\n",
       "      <td>4658</td>\n",
       "      <td>972</td>\n",
       "      <td>929</td>\n",
       "      <td>2756</td>\n",
       "      <td>929</td>\n",
       "      <td>1193</td>\n",
       "      <td>0</td>\n",
       "      <td>1563</td>\n",
       "      <td>101-110</td>\n",
       "      <td>8-9 year</td>\n",
       "    </tr>\n",
       "  </tbody>\n",
       "</table>\n",
       "</div>"
      ],
      "text/plain": [
       "        userid  age  dob_day  dob_year  dob_month  gender  tenure  \\\n",
       "98689  2111567  103       22      1910          5  female    3128   \n",
       "\n",
       "       friend_count  friendships_initiated  likes  likes_received  \\\n",
       "98689          4658                    972    929            2756   \n",
       "\n",
       "       mobile_likes  mobile_likes_received  www_likes  www_likes_received  \\\n",
       "98689           929                   1193          0                1563   \n",
       "\n",
       "      AgeGroup  Fc_Years  \n",
       "98689  101-110  8-9 year  "
      ]
     },
     "execution_count": 106,
     "metadata": {},
     "output_type": "execute_result"
    }
   ],
   "source": [
    "t_fb5[t_fb5['likes_received'] == t_fb5['likes_received'].describe()['max']]"
   ]
  },
  {
   "cell_type": "markdown",
   "metadata": {},
   "source": [
    "**Observations** : \n",
    "\n",
    " - There are a total of only **9 users** who have been associated with Facebook since **2004-2005**.\n",
    " \n",
    " - Most of the users are senior citizens in age range **91-113 years**. \n",
    " \n",
    " - There are more **female users** (Count = 6) as compared to **male users** (Count = 3).\n",
    "  \n",
    " - The most popular among them is a female user aged 103 years (UserId: **2111567**) who has received the maximum no. of likes (**2756**) for her posts/comments."
   ]
  },
  {
   "cell_type": "markdown",
   "metadata": {},
   "source": [
    "---\n",
    "<a name = Section9></a>\n",
    "# **9. Summarization**\n",
    "---"
   ]
  },
  {
   "cell_type": "markdown",
   "metadata": {
    "colab_type": "text",
    "id": "wducAS9QrPfZ"
   },
   "source": [
    "<a name = Section91></a>\n",
    "### **9.1 Conclusion**\n",
    "\n",
    "- This survey has been conducted in the year **2013**. It has helped us to analyze the popularity of the social network site - **Facebook**.\n",
    "\n",
    "- Many users have either recently joined Facebook or have been using it since **2012**.\n",
    "\n",
    "- Maximum number of the Facebook users lie in the age range of **21- 30 years** approximately **28.9%**.\n",
    "\n",
    "- As per the above data we find there are more number of **Male** accounts as compared to any of gender categories. But it has been found that they constitute majority of inactive users.\n",
    "\n",
    "- Active users are in the age range of **13 to 20 years** and are mostly **Females**.\n",
    "    Most popular user in the dataset is a **Female** aged **17 years** (User Id: **1674584** ). \n",
    "    \n",
    "- Senior citizens aged **91 years and above** have had a long association with Facebook since **2004-2005**.\n",
    "\n",
    "- Maximum users prefer using **\"Facebook Mobile App\"** to **\"Facebook Website\"** in this dataset.\n",
    "    - According to a recent survey comparing **Facebook app vs web**, the Facebook application was found to be the best in terms of energy consumption, with an overall score of 14.06 mAh to 26.33 mAh, i.e. 39% less battery consumption compared to its web version.\n",
    "  "
   ]
  },
  {
   "cell_type": "markdown",
   "metadata": {
    "colab_type": "text",
    "id": "z3MtiiACrVJq"
   },
   "source": [
    "<a name = Section92></a>\n",
    "### **9.2 Actionable Insights**\n",
    "\n",
    "- There should be some kind of control to check **fake Facebook accounts**. It's well known that scammers use fake Facebook accounts to connect with users and their friends to scrape personal information in an effort to steal identities. Fake account owners also reach out to anyone who's accepted their friend request to try and scam them out of money.  \n",
    "\n",
    "- **More number of Facebook friends** does not guarantee any popularity. A study shows that such people feel highly insecure hence they send friend requests to unknown users or fall into the trap of fake groups. So **Facebook** wants to make sure that people only add **“real”** friends to their account, and the restriction is on the high end of the number of friends that any one person could reasonably have.\n",
    "\n",
    "- We created a **\"Not Specified\"** gender category to incorporate all those users who feel comfortable to engage only within their private groups. **Facebook** has recently introduced **more than 58 new gender options** going beyond the \"Male\" and \"Female\" categories, to attract new users of all age groups and expand their community.\n",
    "\n",
    "- **Facebook** has implemented the following new features to be at par with its competitors:-\n",
    "    - **Facebook’s 360-degree photo format** was allegedly derived from **YouTube**\n",
    "    - **Facebook Stories** was apparently inspired by Social Media Platform **Snapchat**\n",
    "    - Its most recent feature **Reels** is from its sister platform **Instagram**, which is seemingly a Short-form Video Platform, **TikTok’s** clone.\n",
    " \n",
    "- This platform should become more user friendly especially for the **senior citizen users**, who may find it hard to stay up to date with the emerging technologies. Though they are few in number, but would still contribute as they would like to make memories by staying connected using Facebook.\n",
    "\n",
    "- The **Male users** seem to be keeping a low profile as compared to other users. Some steps should be taken in order to understand their likes and dislikes and provide them with more options to stay connected. \n",
    "  "
   ]
  }
 ],
 "metadata": {
  "colab": {
   "authorship_tag": "ABX9TyPYnAdiY7Enody0No4RXYaD",
   "collapsed_sections": [],
   "name": "Analysis on Facebook Utilization.ipynb",
   "provenance": []
  },
  "kernelspec": {
   "display_name": "Python 3",
   "language": "python",
   "name": "python3"
  },
  "language_info": {
   "codemirror_mode": {
    "name": "ipython",
    "version": 3
   },
   "file_extension": ".py",
   "mimetype": "text/x-python",
   "name": "python",
   "nbconvert_exporter": "python",
   "pygments_lexer": "ipython3",
   "version": "3.8.8"
  }
 },
 "nbformat": 4,
 "nbformat_minor": 4
}
