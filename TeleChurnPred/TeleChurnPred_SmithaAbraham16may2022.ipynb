{
 "cells": [
  {
   "cell_type": "markdown",
   "id": "291a5fbd-162a-44b1-9cd8-2c014ce7abde",
   "metadata": {},
   "source": [
    "# Introduction"
   ]
  },
  {
   "cell_type": "markdown",
   "id": "3fa31458-7871-4ec7-94ad-fcbc435288a8",
   "metadata": {},
   "source": [
    "## **WeConnect**\n",
    "-----------------------\n",
    "### Company Introduction\n",
    "--------------------------\n",
    "Your client for this project is a Telecom Service Provider.\n",
    "- The company has started facing high churn rate due to rapid development in technology and the emerging new competitors in the market.\n",
    "- The objective is to use the model to take further actions for preventing customers to churn.\n",
    "- They will have to offer something to their customers so they stick around, example - a promo, discount, loyalty program etc.\n",
    "\n",
    "### Current Scenario\n",
    "- Till now they have been using traditional ways which now have become a problem to handle due to human interventions.\n",
    "- They have a detailed history of their customers and are looking for an automated solution to identify the likeliness of customer churning from using their services.\n",
    "\n",
    "----------------------------"
   ]
  },
  {
   "cell_type": "markdown",
   "id": "d7dc2537-4b5c-4961-b653-51ec49546ab0",
   "metadata": {},
   "source": [
    "# Problem Statement\n",
    "\n",
    "The company suffers from the following problems:\n",
    "\n",
    "- Due to the boom in the telecom industry with 4G technology, it has become a pain in the neck for the company to retain their customers.\n",
    "- They are in the middle of setting up more cell sites on the 4G network to improve their 4G services.\n",
    "- It is plausible for customers to choose 4G services over 3G services due to benefits of cost, speed, latency etc.\n",
    "\n",
    "In return, they have decided to find a more optimal way and hired a team of data scientists to solve this problem.\n",
    "\n",
    "Your Role\n",
    "--------\n",
    "- You are given datasets of past customers and their status (Churn: Yes or No).\n",
    "- Your task is to build a classification model using the dataset.\n",
    "- Because there was no machine learning model for this problem in the company, you don’t have a quantifiable win condition. You need to build the best possible model.\n",
    "---------------------------"
   ]
  },
  {
   "cell_type": "markdown",
   "id": "54afd978-d4ce-47d7-932e-566be4f0723f",
   "metadata": {},
   "source": [
    "# Importing All Libraries"
   ]
  },
  {
   "cell_type": "code",
   "execution_count": 2,
   "id": "596055ac-2cd8-4484-897d-18c05a2544ff",
   "metadata": {},
   "outputs": [],
   "source": [
    "import numpy as np                                                  # Importing package numpys (For Numerical Python)\n",
    "import pandas as pd                                                 # Importing for panel data analysis\n",
    "from pandas_profiling import ProfileReport                          # Import Pandas Profiling (To generate Univariate Analysis) \n",
    "#-------------------------------------------------------------------------------------------------------------------------------\n",
    "import matplotlib.pyplot as plt                                     # Importing pyplot interface using matplotlib\n",
    "import seaborn as sns                                               # Importin seaborm library for interactive visualization\n",
    "%matplotlib inline\n",
    "#-------------------------------------------------------------------------------------------------------------------------------\n",
    "from sklearn.model_selection import train_test_split                # To split the data in training and testing part     \n",
    "from sklearn.linear_model import LogisticRegression\n",
    "from sklearn.metrics import accuracy_score                          # For calculating the accuracy for the model\n",
    "from sklearn.metrics import precision_score                         # For calculating the Precision of the model\n",
    "from sklearn.metrics import recall_score                            # For calculating the recall of the model\n",
    "from sklearn.metrics import precision_recall_curve                  # For precision and recall metric estimation\n",
    "from sklearn.metrics import confusion_matrix                        # For verifying model performance using confusion matrix\n",
    "from sklearn.metrics import f1_score                                # For Checking the F1-Score of our model  \n",
    "from sklearn.metrics import roc_curve                               # For Roc-Auc metric estimation\n",
    "from sklearn.preprocessing import LabelEncoder\n",
    "#-------------------------------------------------------------------------------------------------------------------------------\n",
    "import warnings                                                     # Importing warning to disable runtime warnings\n",
    "warnings.filterwarnings(\"ignore\")  "
   ]
  },
  {
   "cell_type": "markdown",
   "id": "ae84e92d-a905-42dd-834f-1da1f67f2f65",
   "metadata": {},
   "source": [
    "# Dataset Feature Description\n",
    "The Dataset contains the following columns:\n",
    "\n",
    "|Column Name|Description|\n",
    "| ------------- |:-------------                                               :| \n",
    "|CustomerID|Passenger Identity|\n",
    "|Gender|Whether the customer is a male or a female|\n",
    "|SeniorCitizen|Whether the customer is a senior citizen or not (1, 0)|\n",
    "|Partner|Whether the customer has a partner or not (Yes, No)|\n",
    "|Dependents|Whether the customer has dependents or not (Yes, No)|\n",
    "|Tenure|Number of months the customer has stayed with the company|\n",
    "|PhoneService|Whether the customer has a phone service or not (Yes, No)|\n",
    "|MultipleLines|Whether the customer has multiple lines or not (Yes, No, No phone service)|\n",
    "|InternetService|Customer’s internet service provider (DSL, Fiber optic, No)|\n",
    "|OnlineSecurity|Whether the customer has online security or not (Yes, No, No internet service)|\n",
    "|OnlineBackup|Whether the customer has online backup or not (Yes, No, No internet service)|\n",
    "|DeviceProtection|Whether the customer has device protection or not (Yes, No, No internet service)|\n",
    "|TechSupport|Whether the customer has tech support or not (Yes, No, No internet service)|\n",
    "|StreamingTV|Whether the customer has streaming TV or not (Yes, No, No internet service)|\n",
    "|StreamingMovies|Whether the customer has streaming movies or not (Yes, No, No internet service)|\n",
    "|Contract|The contract term of the customer (Month-to-month, One year, Two year)|\n",
    "|PaperlessBilling|Whether the customer has paperless billing or not (Yes, No)|\n",
    "|PaymentMethod|The customer’s payment method (Electronic check, Mailed check, Bank transfer (automatic), Credit card (automatic))|\n",
    "|MonthlyCharges|The amount charged to the customer monthly|\n",
    "|TotalCharges|The total amount charged to the customer|\n",
    "|Churn|Whether the customer churned or not (Yes or No)|"
   ]
  },
  {
   "cell_type": "markdown",
   "id": "63d06eb9-499a-4a98-9a65-26bdaf04247c",
   "metadata": {},
   "source": [
    "# **Load all the input files.**"
   ]
  },
  {
   "cell_type": "code",
   "execution_count": 3,
   "id": "e63ee514-ae23-45cb-bd3b-a1dd82540f0e",
   "metadata": {},
   "outputs": [],
   "source": [
    "train_df = pd.read_csv(filepath_or_buffer = 'https://raw.githubusercontent.com/sm24abr/Data_Repo/main/TeleChurnPred/Churn_train.csv' )\n",
    "test_df = pd.read_csv(filepath_or_buffer = 'https://raw.githubusercontent.com/sm24abr/Data_Repo/main/TeleChurnPred/Churn_test.csv')\n"
   ]
  },
  {
   "cell_type": "code",
   "execution_count": 208,
   "id": "534e8c5e-0db6-4a8e-b453-737be97ca747",
   "metadata": {},
   "outputs": [
    {
     "data": {
      "text/html": [
       "<div>\n",
       "<style scoped>\n",
       "    .dataframe tbody tr th:only-of-type {\n",
       "        vertical-align: middle;\n",
       "    }\n",
       "\n",
       "    .dataframe tbody tr th {\n",
       "        vertical-align: top;\n",
       "    }\n",
       "\n",
       "    .dataframe thead th {\n",
       "        text-align: right;\n",
       "    }\n",
       "</style>\n",
       "<table border=\"1\" class=\"dataframe\">\n",
       "  <thead>\n",
       "    <tr style=\"text-align: right;\">\n",
       "      <th></th>\n",
       "      <th>customerID</th>\n",
       "      <th>gender</th>\n",
       "      <th>SeniorCitizen</th>\n",
       "      <th>Partner</th>\n",
       "      <th>Dependents</th>\n",
       "      <th>tenure</th>\n",
       "      <th>PhoneService</th>\n",
       "      <th>MultipleLines</th>\n",
       "      <th>InternetService</th>\n",
       "      <th>OnlineSecurity</th>\n",
       "      <th>...</th>\n",
       "      <th>DeviceProtection</th>\n",
       "      <th>TechSupport</th>\n",
       "      <th>StreamingTV</th>\n",
       "      <th>StreamingMovies</th>\n",
       "      <th>Contract</th>\n",
       "      <th>PaperlessBilling</th>\n",
       "      <th>PaymentMethod</th>\n",
       "      <th>MonthlyCharges</th>\n",
       "      <th>TotalCharges</th>\n",
       "      <th>Churn</th>\n",
       "    </tr>\n",
       "  </thead>\n",
       "  <tbody>\n",
       "    <tr>\n",
       "      <th>0</th>\n",
       "      <td>5442-PPTJY</td>\n",
       "      <td>Male</td>\n",
       "      <td>0</td>\n",
       "      <td>Yes</td>\n",
       "      <td>Yes</td>\n",
       "      <td>12</td>\n",
       "      <td>Yes</td>\n",
       "      <td>No</td>\n",
       "      <td>No</td>\n",
       "      <td>No internet service</td>\n",
       "      <td>...</td>\n",
       "      <td>No internet service</td>\n",
       "      <td>No internet service</td>\n",
       "      <td>No internet service</td>\n",
       "      <td>No internet service</td>\n",
       "      <td>Two year</td>\n",
       "      <td>No</td>\n",
       "      <td>Mailed check</td>\n",
       "      <td>19.70</td>\n",
       "      <td>258.35</td>\n",
       "      <td>No</td>\n",
       "    </tr>\n",
       "    <tr>\n",
       "      <th>1</th>\n",
       "      <td>6261-RCVNS</td>\n",
       "      <td>Female</td>\n",
       "      <td>0</td>\n",
       "      <td>No</td>\n",
       "      <td>No</td>\n",
       "      <td>42</td>\n",
       "      <td>Yes</td>\n",
       "      <td>No</td>\n",
       "      <td>DSL</td>\n",
       "      <td>Yes</td>\n",
       "      <td>...</td>\n",
       "      <td>Yes</td>\n",
       "      <td>Yes</td>\n",
       "      <td>No</td>\n",
       "      <td>Yes</td>\n",
       "      <td>One year</td>\n",
       "      <td>No</td>\n",
       "      <td>Credit card (automatic)</td>\n",
       "      <td>73.90</td>\n",
       "      <td>3160.55</td>\n",
       "      <td>Yes</td>\n",
       "    </tr>\n",
       "    <tr>\n",
       "      <th>2</th>\n",
       "      <td>2176-OSJUV</td>\n",
       "      <td>Male</td>\n",
       "      <td>0</td>\n",
       "      <td>Yes</td>\n",
       "      <td>No</td>\n",
       "      <td>71</td>\n",
       "      <td>Yes</td>\n",
       "      <td>Yes</td>\n",
       "      <td>DSL</td>\n",
       "      <td>Yes</td>\n",
       "      <td>...</td>\n",
       "      <td>No</td>\n",
       "      <td>Yes</td>\n",
       "      <td>No</td>\n",
       "      <td>No</td>\n",
       "      <td>Two year</td>\n",
       "      <td>No</td>\n",
       "      <td>Bank transfer (automatic)</td>\n",
       "      <td>65.15</td>\n",
       "      <td>4681.75</td>\n",
       "      <td>No</td>\n",
       "    </tr>\n",
       "    <tr>\n",
       "      <th>3</th>\n",
       "      <td>6161-ERDGD</td>\n",
       "      <td>Male</td>\n",
       "      <td>0</td>\n",
       "      <td>Yes</td>\n",
       "      <td>Yes</td>\n",
       "      <td>71</td>\n",
       "      <td>Yes</td>\n",
       "      <td>Yes</td>\n",
       "      <td>DSL</td>\n",
       "      <td>Yes</td>\n",
       "      <td>...</td>\n",
       "      <td>Yes</td>\n",
       "      <td>Yes</td>\n",
       "      <td>Yes</td>\n",
       "      <td>Yes</td>\n",
       "      <td>One year</td>\n",
       "      <td>No</td>\n",
       "      <td>Electronic check</td>\n",
       "      <td>85.45</td>\n",
       "      <td>6300.85</td>\n",
       "      <td>No</td>\n",
       "    </tr>\n",
       "    <tr>\n",
       "      <th>4</th>\n",
       "      <td>2364-UFROM</td>\n",
       "      <td>Male</td>\n",
       "      <td>0</td>\n",
       "      <td>No</td>\n",
       "      <td>No</td>\n",
       "      <td>30</td>\n",
       "      <td>Yes</td>\n",
       "      <td>No</td>\n",
       "      <td>DSL</td>\n",
       "      <td>Yes</td>\n",
       "      <td>...</td>\n",
       "      <td>No</td>\n",
       "      <td>Yes</td>\n",
       "      <td>Yes</td>\n",
       "      <td>No</td>\n",
       "      <td>One year</td>\n",
       "      <td>No</td>\n",
       "      <td>Electronic check</td>\n",
       "      <td>70.40</td>\n",
       "      <td>2044.75</td>\n",
       "      <td>No</td>\n",
       "    </tr>\n",
       "  </tbody>\n",
       "</table>\n",
       "<p>5 rows × 21 columns</p>\n",
       "</div>"
      ],
      "text/plain": [
       "   customerID  gender  SeniorCitizen Partner Dependents  tenure PhoneService  \\\n",
       "0  5442-PPTJY    Male              0     Yes        Yes      12          Yes   \n",
       "1  6261-RCVNS  Female              0      No         No      42          Yes   \n",
       "2  2176-OSJUV    Male              0     Yes         No      71          Yes   \n",
       "3  6161-ERDGD    Male              0     Yes        Yes      71          Yes   \n",
       "4  2364-UFROM    Male              0      No         No      30          Yes   \n",
       "\n",
       "  MultipleLines InternetService       OnlineSecurity  ...  \\\n",
       "0            No              No  No internet service  ...   \n",
       "1            No             DSL                  Yes  ...   \n",
       "2           Yes             DSL                  Yes  ...   \n",
       "3           Yes             DSL                  Yes  ...   \n",
       "4            No             DSL                  Yes  ...   \n",
       "\n",
       "      DeviceProtection          TechSupport          StreamingTV  \\\n",
       "0  No internet service  No internet service  No internet service   \n",
       "1                  Yes                  Yes                   No   \n",
       "2                   No                  Yes                   No   \n",
       "3                  Yes                  Yes                  Yes   \n",
       "4                   No                  Yes                  Yes   \n",
       "\n",
       "       StreamingMovies  Contract PaperlessBilling              PaymentMethod  \\\n",
       "0  No internet service  Two year               No               Mailed check   \n",
       "1                  Yes  One year               No    Credit card (automatic)   \n",
       "2                   No  Two year               No  Bank transfer (automatic)   \n",
       "3                  Yes  One year               No           Electronic check   \n",
       "4                   No  One year               No           Electronic check   \n",
       "\n",
       "  MonthlyCharges  TotalCharges Churn  \n",
       "0          19.70        258.35    No  \n",
       "1          73.90       3160.55   Yes  \n",
       "2          65.15       4681.75    No  \n",
       "3          85.45       6300.85    No  \n",
       "4          70.40       2044.75    No  \n",
       "\n",
       "[5 rows x 21 columns]"
      ]
     },
     "execution_count": 208,
     "metadata": {},
     "output_type": "execute_result"
    }
   ],
   "source": [
    "train_df.head()"
   ]
  },
  {
   "cell_type": "code",
   "execution_count": 209,
   "id": "c91cc17c-5a8a-484d-9c8c-aa8652b0b286",
   "metadata": {},
   "outputs": [
    {
     "data": {
      "text/html": [
       "<div>\n",
       "<style scoped>\n",
       "    .dataframe tbody tr th:only-of-type {\n",
       "        vertical-align: middle;\n",
       "    }\n",
       "\n",
       "    .dataframe tbody tr th {\n",
       "        vertical-align: top;\n",
       "    }\n",
       "\n",
       "    .dataframe thead th {\n",
       "        text-align: right;\n",
       "    }\n",
       "</style>\n",
       "<table border=\"1\" class=\"dataframe\">\n",
       "  <thead>\n",
       "    <tr style=\"text-align: right;\">\n",
       "      <th></th>\n",
       "      <th>customerID</th>\n",
       "      <th>gender</th>\n",
       "      <th>SeniorCitizen</th>\n",
       "      <th>Partner</th>\n",
       "      <th>Dependents</th>\n",
       "      <th>tenure</th>\n",
       "      <th>PhoneService</th>\n",
       "      <th>MultipleLines</th>\n",
       "      <th>InternetService</th>\n",
       "      <th>OnlineSecurity</th>\n",
       "      <th>OnlineBackup</th>\n",
       "      <th>DeviceProtection</th>\n",
       "      <th>TechSupport</th>\n",
       "      <th>StreamingTV</th>\n",
       "      <th>StreamingMovies</th>\n",
       "      <th>Contract</th>\n",
       "      <th>PaperlessBilling</th>\n",
       "      <th>PaymentMethod</th>\n",
       "      <th>MonthlyCharges</th>\n",
       "      <th>TotalCharges</th>\n",
       "    </tr>\n",
       "  </thead>\n",
       "  <tbody>\n",
       "    <tr>\n",
       "      <th>0</th>\n",
       "      <td>8879-ZKJOF</td>\n",
       "      <td>Female</td>\n",
       "      <td>0</td>\n",
       "      <td>No</td>\n",
       "      <td>No</td>\n",
       "      <td>41</td>\n",
       "      <td>Yes</td>\n",
       "      <td>No</td>\n",
       "      <td>DSL</td>\n",
       "      <td>Yes</td>\n",
       "      <td>No</td>\n",
       "      <td>Yes</td>\n",
       "      <td>Yes</td>\n",
       "      <td>Yes</td>\n",
       "      <td>Yes</td>\n",
       "      <td>One year</td>\n",
       "      <td>Yes</td>\n",
       "      <td>Bank transfer (automatic)</td>\n",
       "      <td>79.85</td>\n",
       "      <td>3320.75</td>\n",
       "    </tr>\n",
       "    <tr>\n",
       "      <th>1</th>\n",
       "      <td>0201-MIBOL</td>\n",
       "      <td>Female</td>\n",
       "      <td>1</td>\n",
       "      <td>No</td>\n",
       "      <td>No</td>\n",
       "      <td>66</td>\n",
       "      <td>Yes</td>\n",
       "      <td>Yes</td>\n",
       "      <td>Fiber optic</td>\n",
       "      <td>Yes</td>\n",
       "      <td>No</td>\n",
       "      <td>No</td>\n",
       "      <td>No</td>\n",
       "      <td>Yes</td>\n",
       "      <td>Yes</td>\n",
       "      <td>Two year</td>\n",
       "      <td>Yes</td>\n",
       "      <td>Bank transfer (automatic)</td>\n",
       "      <td>102.40</td>\n",
       "      <td>6471.85</td>\n",
       "    </tr>\n",
       "    <tr>\n",
       "      <th>2</th>\n",
       "      <td>1600-DILPE</td>\n",
       "      <td>Female</td>\n",
       "      <td>0</td>\n",
       "      <td>No</td>\n",
       "      <td>No</td>\n",
       "      <td>12</td>\n",
       "      <td>Yes</td>\n",
       "      <td>No</td>\n",
       "      <td>DSL</td>\n",
       "      <td>No</td>\n",
       "      <td>No</td>\n",
       "      <td>No</td>\n",
       "      <td>No</td>\n",
       "      <td>No</td>\n",
       "      <td>No</td>\n",
       "      <td>Month-to-month</td>\n",
       "      <td>Yes</td>\n",
       "      <td>Bank transfer (automatic)</td>\n",
       "      <td>45.00</td>\n",
       "      <td>524.35</td>\n",
       "    </tr>\n",
       "    <tr>\n",
       "      <th>3</th>\n",
       "      <td>8601-QACRS</td>\n",
       "      <td>Female</td>\n",
       "      <td>0</td>\n",
       "      <td>No</td>\n",
       "      <td>No</td>\n",
       "      <td>5</td>\n",
       "      <td>Yes</td>\n",
       "      <td>Yes</td>\n",
       "      <td>DSL</td>\n",
       "      <td>No</td>\n",
       "      <td>No</td>\n",
       "      <td>No</td>\n",
       "      <td>No</td>\n",
       "      <td>No</td>\n",
       "      <td>No</td>\n",
       "      <td>Month-to-month</td>\n",
       "      <td>Yes</td>\n",
       "      <td>Mailed check</td>\n",
       "      <td>50.60</td>\n",
       "      <td>249.95</td>\n",
       "    </tr>\n",
       "    <tr>\n",
       "      <th>4</th>\n",
       "      <td>7919-ZODZZ</td>\n",
       "      <td>Female</td>\n",
       "      <td>0</td>\n",
       "      <td>Yes</td>\n",
       "      <td>Yes</td>\n",
       "      <td>10</td>\n",
       "      <td>Yes</td>\n",
       "      <td>No</td>\n",
       "      <td>DSL</td>\n",
       "      <td>No</td>\n",
       "      <td>Yes</td>\n",
       "      <td>Yes</td>\n",
       "      <td>No</td>\n",
       "      <td>No</td>\n",
       "      <td>Yes</td>\n",
       "      <td>One year</td>\n",
       "      <td>Yes</td>\n",
       "      <td>Mailed check</td>\n",
       "      <td>65.90</td>\n",
       "      <td>660.05</td>\n",
       "    </tr>\n",
       "  </tbody>\n",
       "</table>\n",
       "</div>"
      ],
      "text/plain": [
       "   customerID  gender  SeniorCitizen Partner Dependents  tenure PhoneService  \\\n",
       "0  8879-ZKJOF  Female              0      No         No      41          Yes   \n",
       "1  0201-MIBOL  Female              1      No         No      66          Yes   \n",
       "2  1600-DILPE  Female              0      No         No      12          Yes   \n",
       "3  8601-QACRS  Female              0      No         No       5          Yes   \n",
       "4  7919-ZODZZ  Female              0     Yes        Yes      10          Yes   \n",
       "\n",
       "  MultipleLines InternetService OnlineSecurity OnlineBackup DeviceProtection  \\\n",
       "0            No             DSL            Yes           No              Yes   \n",
       "1           Yes     Fiber optic            Yes           No               No   \n",
       "2            No             DSL             No           No               No   \n",
       "3           Yes             DSL             No           No               No   \n",
       "4            No             DSL             No          Yes              Yes   \n",
       "\n",
       "  TechSupport StreamingTV StreamingMovies        Contract PaperlessBilling  \\\n",
       "0         Yes         Yes             Yes        One year              Yes   \n",
       "1          No         Yes             Yes        Two year              Yes   \n",
       "2          No          No              No  Month-to-month              Yes   \n",
       "3          No          No              No  Month-to-month              Yes   \n",
       "4          No          No             Yes        One year              Yes   \n",
       "\n",
       "               PaymentMethod  MonthlyCharges TotalCharges  \n",
       "0  Bank transfer (automatic)           79.85      3320.75  \n",
       "1  Bank transfer (automatic)          102.40      6471.85  \n",
       "2  Bank transfer (automatic)           45.00       524.35  \n",
       "3               Mailed check           50.60       249.95  \n",
       "4               Mailed check           65.90       660.05  "
      ]
     },
     "execution_count": 209,
     "metadata": {},
     "output_type": "execute_result"
    }
   ],
   "source": [
    "test_df.head()"
   ]
  },
  {
   "cell_type": "markdown",
   "id": "5bad47c3-b394-44b5-b8b7-a45ecbe60484",
   "metadata": {},
   "source": [
    "# **Data Description**\n",
    "\n",
    "- In this section we will get **description** and **statistics** about the data."
   ]
  },
  {
   "cell_type": "code",
   "execution_count": 6,
   "id": "9cb219da-adc7-45b6-a4cc-254f3620e0f8",
   "metadata": {},
   "outputs": [
    {
     "data": {
      "text/html": [
       "<div>\n",
       "<style scoped>\n",
       "    .dataframe tbody tr th:only-of-type {\n",
       "        vertical-align: middle;\n",
       "    }\n",
       "\n",
       "    .dataframe tbody tr th {\n",
       "        vertical-align: top;\n",
       "    }\n",
       "\n",
       "    .dataframe thead th {\n",
       "        text-align: right;\n",
       "    }\n",
       "</style>\n",
       "<table border=\"1\" class=\"dataframe\">\n",
       "  <thead>\n",
       "    <tr style=\"text-align: right;\">\n",
       "      <th></th>\n",
       "      <th>SeniorCitizen</th>\n",
       "      <th>tenure</th>\n",
       "      <th>MonthlyCharges</th>\n",
       "    </tr>\n",
       "  </thead>\n",
       "  <tbody>\n",
       "    <tr>\n",
       "      <th>count</th>\n",
       "      <td>5634.000000</td>\n",
       "      <td>5634.000000</td>\n",
       "      <td>5634.000000</td>\n",
       "    </tr>\n",
       "    <tr>\n",
       "      <th>mean</th>\n",
       "      <td>0.161874</td>\n",
       "      <td>32.277955</td>\n",
       "      <td>64.779127</td>\n",
       "    </tr>\n",
       "    <tr>\n",
       "      <th>std</th>\n",
       "      <td>0.368368</td>\n",
       "      <td>24.555211</td>\n",
       "      <td>30.104993</td>\n",
       "    </tr>\n",
       "    <tr>\n",
       "      <th>min</th>\n",
       "      <td>0.000000</td>\n",
       "      <td>0.000000</td>\n",
       "      <td>18.250000</td>\n",
       "    </tr>\n",
       "    <tr>\n",
       "      <th>25%</th>\n",
       "      <td>0.000000</td>\n",
       "      <td>9.000000</td>\n",
       "      <td>35.400000</td>\n",
       "    </tr>\n",
       "    <tr>\n",
       "      <th>50%</th>\n",
       "      <td>0.000000</td>\n",
       "      <td>29.000000</td>\n",
       "      <td>70.375000</td>\n",
       "    </tr>\n",
       "    <tr>\n",
       "      <th>75%</th>\n",
       "      <td>0.000000</td>\n",
       "      <td>55.000000</td>\n",
       "      <td>89.850000</td>\n",
       "    </tr>\n",
       "    <tr>\n",
       "      <th>max</th>\n",
       "      <td>1.000000</td>\n",
       "      <td>72.000000</td>\n",
       "      <td>118.650000</td>\n",
       "    </tr>\n",
       "  </tbody>\n",
       "</table>\n",
       "</div>"
      ],
      "text/plain": [
       "       SeniorCitizen       tenure  MonthlyCharges\n",
       "count    5634.000000  5634.000000     5634.000000\n",
       "mean        0.161874    32.277955       64.779127\n",
       "std         0.368368    24.555211       30.104993\n",
       "min         0.000000     0.000000       18.250000\n",
       "25%         0.000000     9.000000       35.400000\n",
       "50%         0.000000    29.000000       70.375000\n",
       "75%         0.000000    55.000000       89.850000\n",
       "max         1.000000    72.000000      118.650000"
      ]
     },
     "execution_count": 6,
     "metadata": {},
     "output_type": "execute_result"
    }
   ],
   "source": [
    "train_df.describe()"
   ]
  },
  {
   "cell_type": "code",
   "execution_count": 210,
   "id": "59950b6c-6428-4a1b-bcae-d0af4ed29ddd",
   "metadata": {},
   "outputs": [
    {
     "data": {
      "text/html": [
       "<div>\n",
       "<style scoped>\n",
       "    .dataframe tbody tr th:only-of-type {\n",
       "        vertical-align: middle;\n",
       "    }\n",
       "\n",
       "    .dataframe tbody tr th {\n",
       "        vertical-align: top;\n",
       "    }\n",
       "\n",
       "    .dataframe thead th {\n",
       "        text-align: right;\n",
       "    }\n",
       "</style>\n",
       "<table border=\"1\" class=\"dataframe\">\n",
       "  <thead>\n",
       "    <tr style=\"text-align: right;\">\n",
       "      <th></th>\n",
       "      <th>SeniorCitizen</th>\n",
       "      <th>tenure</th>\n",
       "      <th>MonthlyCharges</th>\n",
       "    </tr>\n",
       "  </thead>\n",
       "  <tbody>\n",
       "    <tr>\n",
       "      <th>count</th>\n",
       "      <td>1409.000000</td>\n",
       "      <td>1409.000000</td>\n",
       "      <td>1409.000000</td>\n",
       "    </tr>\n",
       "    <tr>\n",
       "      <th>mean</th>\n",
       "      <td>0.163236</td>\n",
       "      <td>32.743790</td>\n",
       "      <td>64.691980</td>\n",
       "    </tr>\n",
       "    <tr>\n",
       "      <th>std</th>\n",
       "      <td>0.369712</td>\n",
       "      <td>24.581736</td>\n",
       "      <td>30.040784</td>\n",
       "    </tr>\n",
       "    <tr>\n",
       "      <th>min</th>\n",
       "      <td>0.000000</td>\n",
       "      <td>0.000000</td>\n",
       "      <td>18.700000</td>\n",
       "    </tr>\n",
       "    <tr>\n",
       "      <th>25%</th>\n",
       "      <td>0.000000</td>\n",
       "      <td>9.000000</td>\n",
       "      <td>36.850000</td>\n",
       "    </tr>\n",
       "    <tr>\n",
       "      <th>50%</th>\n",
       "      <td>0.000000</td>\n",
       "      <td>29.000000</td>\n",
       "      <td>70.150000</td>\n",
       "    </tr>\n",
       "    <tr>\n",
       "      <th>75%</th>\n",
       "      <td>0.000000</td>\n",
       "      <td>56.000000</td>\n",
       "      <td>89.850000</td>\n",
       "    </tr>\n",
       "    <tr>\n",
       "      <th>max</th>\n",
       "      <td>1.000000</td>\n",
       "      <td>72.000000</td>\n",
       "      <td>118.750000</td>\n",
       "    </tr>\n",
       "  </tbody>\n",
       "</table>\n",
       "</div>"
      ],
      "text/plain": [
       "       SeniorCitizen       tenure  MonthlyCharges\n",
       "count    1409.000000  1409.000000     1409.000000\n",
       "mean        0.163236    32.743790       64.691980\n",
       "std         0.369712    24.581736       30.040784\n",
       "min         0.000000     0.000000       18.700000\n",
       "25%         0.000000     9.000000       36.850000\n",
       "50%         0.000000    29.000000       70.150000\n",
       "75%         0.000000    56.000000       89.850000\n",
       "max         1.000000    72.000000      118.750000"
      ]
     },
     "execution_count": 210,
     "metadata": {},
     "output_type": "execute_result"
    }
   ],
   "source": [
    "test_df.describe()"
   ]
  },
  {
   "cell_type": "markdown",
   "id": "da96a2cf-8b53-4de6-b497-9b5c1cc9e6c9",
   "metadata": {},
   "source": [
    "**Observations**:\n",
    "----------------\n",
    "> **Train Dataset**\n",
    "   - The **tenure**'column data is right skewed data. Most of the customers have stayed with the company for an average 32.27 months and max 72 months.\n",
    "   - The **MonthlyCharges** column data is left skewed data. The average monthly charge is around $64.7. \n",
    "     \n",
    "> **Test Dataset**\n",
    "   - The **tenure**'column data is right skewed data. Most of the customers have stayed with the company for an average 32.74 months and max 72 months.\n",
    "   - The **MonthlyCharges** column data is left skewed data. The average monthly charge is around $64.69. \n",
    "              \n"
   ]
  },
  {
   "cell_type": "markdown",
   "id": "1bb647c2-7af5-4401-b44a-3df6a7976715",
   "metadata": {},
   "source": [
    "#  **Data Information**\n",
    "\n",
    "- In this section, we will get information about the data and see some observations."
   ]
  },
  {
   "cell_type": "code",
   "execution_count": 76,
   "id": "e1f43410-5c40-4319-9fcb-58d44292e714",
   "metadata": {},
   "outputs": [
    {
     "name": "stdout",
     "output_type": "stream",
     "text": [
      "<class 'pandas.core.frame.DataFrame'>\n",
      "RangeIndex: 5634 entries, 0 to 5633\n",
      "Data columns (total 21 columns):\n",
      " #   Column            Non-Null Count  Dtype  \n",
      "---  ------            --------------  -----  \n",
      " 0   customerID        5634 non-null   object \n",
      " 1   gender            5634 non-null   object \n",
      " 2   SeniorCitizen     5634 non-null   int64  \n",
      " 3   Partner           5634 non-null   object \n",
      " 4   Dependents        5634 non-null   object \n",
      " 5   tenure            5634 non-null   int64  \n",
      " 6   PhoneService      5634 non-null   object \n",
      " 7   MultipleLines     5634 non-null   object \n",
      " 8   InternetService   5634 non-null   object \n",
      " 9   OnlineSecurity    5634 non-null   object \n",
      " 10  OnlineBackup      5634 non-null   object \n",
      " 11  DeviceProtection  5634 non-null   object \n",
      " 12  TechSupport       5634 non-null   object \n",
      " 13  StreamingTV       5634 non-null   object \n",
      " 14  StreamingMovies   5634 non-null   object \n",
      " 15  Contract          5634 non-null   object \n",
      " 16  PaperlessBilling  5634 non-null   object \n",
      " 17  PaymentMethod     5634 non-null   object \n",
      " 18  MonthlyCharges    5634 non-null   float64\n",
      " 19  TotalCharges      5634 non-null   object \n",
      " 20  Churn             5634 non-null   object \n",
      "dtypes: float64(1), int64(2), object(18)\n",
      "memory usage: 924.5+ KB\n"
     ]
    }
   ],
   "source": [
    "train_df.info()"
   ]
  },
  {
   "cell_type": "code",
   "execution_count": 75,
   "id": "41b31e55-13b5-4fdd-ab6e-cdc52771da23",
   "metadata": {},
   "outputs": [
    {
     "name": "stdout",
     "output_type": "stream",
     "text": [
      "<class 'pandas.core.frame.DataFrame'>\n",
      "RangeIndex: 1409 entries, 0 to 1408\n",
      "Data columns (total 20 columns):\n",
      " #   Column            Non-Null Count  Dtype  \n",
      "---  ------            --------------  -----  \n",
      " 0   customerID        1409 non-null   object \n",
      " 1   gender            1409 non-null   object \n",
      " 2   SeniorCitizen     1409 non-null   int64  \n",
      " 3   Partner           1409 non-null   object \n",
      " 4   Dependents        1409 non-null   object \n",
      " 5   tenure            1409 non-null   int64  \n",
      " 6   PhoneService      1409 non-null   object \n",
      " 7   MultipleLines     1409 non-null   object \n",
      " 8   InternetService   1409 non-null   object \n",
      " 9   OnlineSecurity    1409 non-null   object \n",
      " 10  OnlineBackup      1409 non-null   object \n",
      " 11  DeviceProtection  1409 non-null   object \n",
      " 12  TechSupport       1409 non-null   object \n",
      " 13  StreamingTV       1409 non-null   object \n",
      " 14  StreamingMovies   1409 non-null   object \n",
      " 15  Contract          1409 non-null   object \n",
      " 16  PaperlessBilling  1409 non-null   object \n",
      " 17  PaymentMethod     1409 non-null   object \n",
      " 18  MonthlyCharges    1409 non-null   float64\n",
      " 19  TotalCharges      1409 non-null   object \n",
      "dtypes: float64(1), int64(2), object(17)\n",
      "memory usage: 220.3+ KB\n"
     ]
    }
   ],
   "source": [
    "test_df.info()"
   ]
  },
  {
   "cell_type": "markdown",
   "id": "9f76b2be-e3ce-4017-95c6-28630a77ea28",
   "metadata": {},
   "source": [
    "**Observations:**\n",
    "\n",
    "> **Train Dataset**\n",
    "     - The train_df dataset has total **21 features** : **1 float64** datatype feature(*MonthlyCharges*), **18 object** datatype features (*customerID, gender, Partner, Dependents, PhoneService, MultipleLines, InternetService, OnlineSecurity, OnlineBackup, DeviceProtection, TechSupport, StreamingTV, StreamingMovies, Contract,PaperlessBilling, PaymentMethod, TotalCharges and Churn*)  and only **1 int64** datatype feature(*tenure*).\n",
    "\n",
    "> **Test Dataset**\n",
    "     - The **test_df** dataset has total **20 features** : **1 float64** datatype feature(*MonthlyCharges*), **17 object** datatype features (*customerID, gender, Partner, Dependents, PhoneService, MultipleLines, InternetService, OnlineSecurity, OnlineBackup, DeviceProtection, TechSupport, StreamingTV, StreamingMovies, Contract,PaperlessBilling, PaymentMethod and TotalCharges*)  and only **1 int64** datatype feature(*tenure*). \n",
    "\n",
    "- There are **No Null** values present in all the columns for both datasets.\n",
    "\n",
    "- Each feature seems to have correct data type, except for the column - **TotalCharges** in both datasets. It should be converted into '**float64**' type. Needs to be checked for further issues.                        \n",
    "\n",
    "- We have to perform label encoding for the categorical variables for performing the **Logistic Regresssion**. "
   ]
  },
  {
   "cell_type": "markdown",
   "id": "26d1bdc0-c54b-452f-91a5-7bd64e0536cb",
   "metadata": {},
   "source": [
    "# **Data Pre-Profiling**"
   ]
  },
  {
   "cell_type": "markdown",
   "id": "37b5c412-b0a6-4467-b17e-291dd5942032",
   "metadata": {},
   "source": [
    "## Pre Profiling Report\n",
    "\n",
    "- For **quick analysis** pandas profiling is very handy.\n",
    "\n",
    "- Generates profile reports from a pandas DataFrame.\n",
    "\n",
    "- For each column **statistics** are presented in an interactive HTML report."
   ]
  },
  {
   "cell_type": "code",
   "execution_count": 9,
   "id": "ab746c77-835b-4dd1-a8db-1f6e61e4de4a",
   "metadata": {},
   "outputs": [
    {
     "data": {
      "application/vnd.jupyter.widget-view+json": {
       "model_id": "7eea69acc843408fbc69e7d9bb2fda9a",
       "version_major": 2,
       "version_minor": 0
      },
      "text/plain": [
       "Summarize dataset:   0%|          | 0/5 [00:00<?, ?it/s]"
      ]
     },
     "metadata": {},
     "output_type": "display_data"
    },
    {
     "data": {
      "application/vnd.jupyter.widget-view+json": {
       "model_id": "6228c3b29e764ebdb9fe439769c0f206",
       "version_major": 2,
       "version_minor": 0
      },
      "text/plain": [
       "Generate report structure:   0%|          | 0/1 [00:00<?, ?it/s]"
      ]
     },
     "metadata": {},
     "output_type": "display_data"
    },
    {
     "data": {
      "application/vnd.jupyter.widget-view+json": {
       "model_id": "e999eb4b79344e4794c4cde28bf1af81",
       "version_major": 2,
       "version_minor": 0
      },
      "text/plain": [
       "Render HTML:   0%|          | 0/1 [00:00<?, ?it/s]"
      ]
     },
     "metadata": {},
     "output_type": "display_data"
    },
    {
     "data": {
      "application/vnd.jupyter.widget-view+json": {
       "model_id": "66d12badc33649e4b7d633e0fb38d204",
       "version_major": 2,
       "version_minor": 0
      },
      "text/plain": [
       "Export report to file:   0%|          | 0/1 [00:00<?, ?it/s]"
      ]
     },
     "metadata": {},
     "output_type": "display_data"
    },
    {
     "name": "stdout",
     "output_type": "stream",
     "text": [
      "Accomplished!\n"
     ]
    }
   ],
   "source": [
    "profile = ProfileReport(df = train_df)\n",
    "profile.to_file(output_file = 'Pre Profiling Report.html')\n",
    "print('Accomplished!')"
   ]
  },
  {
   "cell_type": "markdown",
   "id": "a537f4a2-7181-45d0-bb51-80b9644c1282",
   "metadata": {},
   "source": [
    "**Observations:**\n",
    "\n",
    "- There are **21 features** with **99003 unique observations** in the dataset.Total memory used is **924.5+ KB**.\n",
    "\n",
    "- Dataset has **No duplicate rows**.\n",
    "\n",
    "- Dataset has **No missing** values.\n",
    "\n",
    "- The number of **male** and **female** users are almost same. \n",
    "\n",
    "- Most preferred payment method is via **Electronic check**.\n",
    "\n",
    "- Column **MonthlyCharges** has high correlation with column: **TotalCharges**."
   ]
  },
  {
   "cell_type": "markdown",
   "id": "a05eab36-f269-4b42-8dba-1c64a90c2dcb",
   "metadata": {},
   "source": [
    "# **Data Preparation**"
   ]
  },
  {
   "cell_type": "markdown",
   "id": "1115bef1-1cf2-446c-89ef-17fd7699d275",
   "metadata": {},
   "source": [
    " ## Inconsistent Values\n",
    " > For column  **TotalCharges**"
   ]
  },
  {
   "cell_type": "markdown",
   "id": "87605ccf-b9c8-43c8-87f6-b9875688a20a",
   "metadata": {},
   "source": [
    "> **Training Dataset:** Converting the datatype from **'object' to'float64'** for the column-**TotalCharges** in **train_df**."
   ]
  },
  {
   "cell_type": "code",
   "execution_count": 211,
   "id": "6bc70f04-389f-45ac-a2c8-0cfbfb7ac010",
   "metadata": {},
   "outputs": [
    {
     "ename": "ValueError",
     "evalue": "could not convert string to float: ''",
     "output_type": "error",
     "traceback": [
      "\u001b[1;31m---------------------------------------------------------------------------\u001b[0m",
      "\u001b[1;31mValueError\u001b[0m                                Traceback (most recent call last)",
      "\u001b[1;32m<ipython-input-211-0986e04b1db9>\u001b[0m in \u001b[0;36m<module>\u001b[1;34m\u001b[0m\n\u001b[0;32m      1\u001b[0m \u001b[1;31m# For column - **TotalCharges** - ValueError: could not convert string to float: ''. Need to inspect for empty data and data with spaces - single ('') and double ('  ').\u001b[0m\u001b[1;33m\u001b[0m\u001b[1;33m\u001b[0m\u001b[1;33m\u001b[0m\u001b[0m\n\u001b[1;32m----> 2\u001b[1;33m \u001b[0mtrain_df\u001b[0m\u001b[1;33m[\u001b[0m\u001b[1;34m'TotalCharges'\u001b[0m\u001b[1;33m]\u001b[0m \u001b[1;33m=\u001b[0m \u001b[0mtrain_df\u001b[0m\u001b[1;33m[\u001b[0m\u001b[1;34m'TotalCharges'\u001b[0m\u001b[1;33m]\u001b[0m\u001b[1;33m.\u001b[0m\u001b[0mastype\u001b[0m\u001b[1;33m(\u001b[0m\u001b[0mnp\u001b[0m\u001b[1;33m.\u001b[0m\u001b[0mfloat64\u001b[0m\u001b[1;33m)\u001b[0m\u001b[1;33m\u001b[0m\u001b[1;33m\u001b[0m\u001b[0m\n\u001b[0m",
      "\u001b[1;32m~\\anaconda3\\lib\\site-packages\\pandas\\core\\generic.py\u001b[0m in \u001b[0;36mastype\u001b[1;34m(self, dtype, copy, errors)\u001b[0m\n\u001b[0;32m   5875\u001b[0m         \u001b[1;32melse\u001b[0m\u001b[1;33m:\u001b[0m\u001b[1;33m\u001b[0m\u001b[1;33m\u001b[0m\u001b[0m\n\u001b[0;32m   5876\u001b[0m             \u001b[1;31m# else, only a single dtype is given\u001b[0m\u001b[1;33m\u001b[0m\u001b[1;33m\u001b[0m\u001b[1;33m\u001b[0m\u001b[0m\n\u001b[1;32m-> 5877\u001b[1;33m             \u001b[0mnew_data\u001b[0m \u001b[1;33m=\u001b[0m \u001b[0mself\u001b[0m\u001b[1;33m.\u001b[0m\u001b[0m_mgr\u001b[0m\u001b[1;33m.\u001b[0m\u001b[0mastype\u001b[0m\u001b[1;33m(\u001b[0m\u001b[0mdtype\u001b[0m\u001b[1;33m=\u001b[0m\u001b[0mdtype\u001b[0m\u001b[1;33m,\u001b[0m \u001b[0mcopy\u001b[0m\u001b[1;33m=\u001b[0m\u001b[0mcopy\u001b[0m\u001b[1;33m,\u001b[0m \u001b[0merrors\u001b[0m\u001b[1;33m=\u001b[0m\u001b[0merrors\u001b[0m\u001b[1;33m)\u001b[0m\u001b[1;33m\u001b[0m\u001b[1;33m\u001b[0m\u001b[0m\n\u001b[0m\u001b[0;32m   5878\u001b[0m             \u001b[1;32mreturn\u001b[0m \u001b[0mself\u001b[0m\u001b[1;33m.\u001b[0m\u001b[0m_constructor\u001b[0m\u001b[1;33m(\u001b[0m\u001b[0mnew_data\u001b[0m\u001b[1;33m)\u001b[0m\u001b[1;33m.\u001b[0m\u001b[0m__finalize__\u001b[0m\u001b[1;33m(\u001b[0m\u001b[0mself\u001b[0m\u001b[1;33m,\u001b[0m \u001b[0mmethod\u001b[0m\u001b[1;33m=\u001b[0m\u001b[1;34m\"astype\"\u001b[0m\u001b[1;33m)\u001b[0m\u001b[1;33m\u001b[0m\u001b[1;33m\u001b[0m\u001b[0m\n\u001b[0;32m   5879\u001b[0m \u001b[1;33m\u001b[0m\u001b[0m\n",
      "\u001b[1;32m~\\anaconda3\\lib\\site-packages\\pandas\\core\\internals\\managers.py\u001b[0m in \u001b[0;36mastype\u001b[1;34m(self, dtype, copy, errors)\u001b[0m\n\u001b[0;32m    629\u001b[0m         \u001b[0mself\u001b[0m\u001b[1;33m,\u001b[0m \u001b[0mdtype\u001b[0m\u001b[1;33m,\u001b[0m \u001b[0mcopy\u001b[0m\u001b[1;33m:\u001b[0m \u001b[0mbool\u001b[0m \u001b[1;33m=\u001b[0m \u001b[1;32mFalse\u001b[0m\u001b[1;33m,\u001b[0m \u001b[0merrors\u001b[0m\u001b[1;33m:\u001b[0m \u001b[0mstr\u001b[0m \u001b[1;33m=\u001b[0m \u001b[1;34m\"raise\"\u001b[0m\u001b[1;33m\u001b[0m\u001b[1;33m\u001b[0m\u001b[0m\n\u001b[0;32m    630\u001b[0m     ) -> \"BlockManager\":\n\u001b[1;32m--> 631\u001b[1;33m         \u001b[1;32mreturn\u001b[0m \u001b[0mself\u001b[0m\u001b[1;33m.\u001b[0m\u001b[0mapply\u001b[0m\u001b[1;33m(\u001b[0m\u001b[1;34m\"astype\"\u001b[0m\u001b[1;33m,\u001b[0m \u001b[0mdtype\u001b[0m\u001b[1;33m=\u001b[0m\u001b[0mdtype\u001b[0m\u001b[1;33m,\u001b[0m \u001b[0mcopy\u001b[0m\u001b[1;33m=\u001b[0m\u001b[0mcopy\u001b[0m\u001b[1;33m,\u001b[0m \u001b[0merrors\u001b[0m\u001b[1;33m=\u001b[0m\u001b[0merrors\u001b[0m\u001b[1;33m)\u001b[0m\u001b[1;33m\u001b[0m\u001b[1;33m\u001b[0m\u001b[0m\n\u001b[0m\u001b[0;32m    632\u001b[0m \u001b[1;33m\u001b[0m\u001b[0m\n\u001b[0;32m    633\u001b[0m     def convert(\n",
      "\u001b[1;32m~\\anaconda3\\lib\\site-packages\\pandas\\core\\internals\\managers.py\u001b[0m in \u001b[0;36mapply\u001b[1;34m(self, f, align_keys, ignore_failures, **kwargs)\u001b[0m\n\u001b[0;32m    425\u001b[0m                     \u001b[0mapplied\u001b[0m \u001b[1;33m=\u001b[0m \u001b[0mb\u001b[0m\u001b[1;33m.\u001b[0m\u001b[0mapply\u001b[0m\u001b[1;33m(\u001b[0m\u001b[0mf\u001b[0m\u001b[1;33m,\u001b[0m \u001b[1;33m**\u001b[0m\u001b[0mkwargs\u001b[0m\u001b[1;33m)\u001b[0m\u001b[1;33m\u001b[0m\u001b[1;33m\u001b[0m\u001b[0m\n\u001b[0;32m    426\u001b[0m                 \u001b[1;32melse\u001b[0m\u001b[1;33m:\u001b[0m\u001b[1;33m\u001b[0m\u001b[1;33m\u001b[0m\u001b[0m\n\u001b[1;32m--> 427\u001b[1;33m                     \u001b[0mapplied\u001b[0m \u001b[1;33m=\u001b[0m \u001b[0mgetattr\u001b[0m\u001b[1;33m(\u001b[0m\u001b[0mb\u001b[0m\u001b[1;33m,\u001b[0m \u001b[0mf\u001b[0m\u001b[1;33m)\u001b[0m\u001b[1;33m(\u001b[0m\u001b[1;33m**\u001b[0m\u001b[0mkwargs\u001b[0m\u001b[1;33m)\u001b[0m\u001b[1;33m\u001b[0m\u001b[1;33m\u001b[0m\u001b[0m\n\u001b[0m\u001b[0;32m    428\u001b[0m             \u001b[1;32mexcept\u001b[0m \u001b[1;33m(\u001b[0m\u001b[0mTypeError\u001b[0m\u001b[1;33m,\u001b[0m \u001b[0mNotImplementedError\u001b[0m\u001b[1;33m)\u001b[0m\u001b[1;33m:\u001b[0m\u001b[1;33m\u001b[0m\u001b[1;33m\u001b[0m\u001b[0m\n\u001b[0;32m    429\u001b[0m                 \u001b[1;32mif\u001b[0m \u001b[1;32mnot\u001b[0m \u001b[0mignore_failures\u001b[0m\u001b[1;33m:\u001b[0m\u001b[1;33m\u001b[0m\u001b[1;33m\u001b[0m\u001b[0m\n",
      "\u001b[1;32m~\\anaconda3\\lib\\site-packages\\pandas\\core\\internals\\blocks.py\u001b[0m in \u001b[0;36mastype\u001b[1;34m(self, dtype, copy, errors)\u001b[0m\n\u001b[0;32m    671\u001b[0m             \u001b[0mvals1d\u001b[0m \u001b[1;33m=\u001b[0m \u001b[0mvalues\u001b[0m\u001b[1;33m.\u001b[0m\u001b[0mravel\u001b[0m\u001b[1;33m(\u001b[0m\u001b[1;33m)\u001b[0m\u001b[1;33m\u001b[0m\u001b[1;33m\u001b[0m\u001b[0m\n\u001b[0;32m    672\u001b[0m             \u001b[1;32mtry\u001b[0m\u001b[1;33m:\u001b[0m\u001b[1;33m\u001b[0m\u001b[1;33m\u001b[0m\u001b[0m\n\u001b[1;32m--> 673\u001b[1;33m                 \u001b[0mvalues\u001b[0m \u001b[1;33m=\u001b[0m \u001b[0mastype_nansafe\u001b[0m\u001b[1;33m(\u001b[0m\u001b[0mvals1d\u001b[0m\u001b[1;33m,\u001b[0m \u001b[0mdtype\u001b[0m\u001b[1;33m,\u001b[0m \u001b[0mcopy\u001b[0m\u001b[1;33m=\u001b[0m\u001b[1;32mTrue\u001b[0m\u001b[1;33m)\u001b[0m\u001b[1;33m\u001b[0m\u001b[1;33m\u001b[0m\u001b[0m\n\u001b[0m\u001b[0;32m    674\u001b[0m             \u001b[1;32mexcept\u001b[0m \u001b[1;33m(\u001b[0m\u001b[0mValueError\u001b[0m\u001b[1;33m,\u001b[0m \u001b[0mTypeError\u001b[0m\u001b[1;33m)\u001b[0m\u001b[1;33m:\u001b[0m\u001b[1;33m\u001b[0m\u001b[1;33m\u001b[0m\u001b[0m\n\u001b[0;32m    675\u001b[0m                 \u001b[1;31m# e.g. astype_nansafe can fail on object-dtype of strings\u001b[0m\u001b[1;33m\u001b[0m\u001b[1;33m\u001b[0m\u001b[1;33m\u001b[0m\u001b[0m\n",
      "\u001b[1;32m~\\anaconda3\\lib\\site-packages\\pandas\\core\\dtypes\\cast.py\u001b[0m in \u001b[0;36mastype_nansafe\u001b[1;34m(arr, dtype, copy, skipna)\u001b[0m\n\u001b[0;32m   1095\u001b[0m     \u001b[1;32mif\u001b[0m \u001b[0mcopy\u001b[0m \u001b[1;32mor\u001b[0m \u001b[0mis_object_dtype\u001b[0m\u001b[1;33m(\u001b[0m\u001b[0marr\u001b[0m\u001b[1;33m)\u001b[0m \u001b[1;32mor\u001b[0m \u001b[0mis_object_dtype\u001b[0m\u001b[1;33m(\u001b[0m\u001b[0mdtype\u001b[0m\u001b[1;33m)\u001b[0m\u001b[1;33m:\u001b[0m\u001b[1;33m\u001b[0m\u001b[1;33m\u001b[0m\u001b[0m\n\u001b[0;32m   1096\u001b[0m         \u001b[1;31m# Explicit copy, or required since NumPy can't view from / to object.\u001b[0m\u001b[1;33m\u001b[0m\u001b[1;33m\u001b[0m\u001b[1;33m\u001b[0m\u001b[0m\n\u001b[1;32m-> 1097\u001b[1;33m         \u001b[1;32mreturn\u001b[0m \u001b[0marr\u001b[0m\u001b[1;33m.\u001b[0m\u001b[0mastype\u001b[0m\u001b[1;33m(\u001b[0m\u001b[0mdtype\u001b[0m\u001b[1;33m,\u001b[0m \u001b[0mcopy\u001b[0m\u001b[1;33m=\u001b[0m\u001b[1;32mTrue\u001b[0m\u001b[1;33m)\u001b[0m\u001b[1;33m\u001b[0m\u001b[1;33m\u001b[0m\u001b[0m\n\u001b[0m\u001b[0;32m   1098\u001b[0m \u001b[1;33m\u001b[0m\u001b[0m\n\u001b[0;32m   1099\u001b[0m     \u001b[1;32mreturn\u001b[0m \u001b[0marr\u001b[0m\u001b[1;33m.\u001b[0m\u001b[0mview\u001b[0m\u001b[1;33m(\u001b[0m\u001b[0mdtype\u001b[0m\u001b[1;33m)\u001b[0m\u001b[1;33m\u001b[0m\u001b[1;33m\u001b[0m\u001b[0m\n",
      "\u001b[1;31mValueError\u001b[0m: could not convert string to float: ''"
     ]
    }
   ],
   "source": [
    "# For column - **TotalCharges** - ValueError: could not convert string to float: ''. Need to inspect for empty data and data with spaces - single ('') and double ('  ').\n",
    "train_df['TotalCharges'] = train_df['TotalCharges'].astype(np.float64)"
   ]
  },
  {
   "cell_type": "code",
   "execution_count": 92,
   "id": "ab9c6cd6-9127-4b3d-b669-20d03ce78efb",
   "metadata": {},
   "outputs": [
    {
     "data": {
      "text/plain": [
       "False"
      ]
     },
     "execution_count": 92,
     "metadata": {},
     "output_type": "execute_result"
    }
   ],
   "source": [
    "# Checking for empty columns in Train dataset - No empty columns were found.\n",
    "train_df.empty"
   ]
  },
  {
   "cell_type": "code",
   "execution_count": 212,
   "id": "ad042ed8-2864-4e49-af8b-73d53b33adee",
   "metadata": {},
   "outputs": [
    {
     "data": {
      "text/plain": [
       "customerID          0\n",
       "gender              0\n",
       "SeniorCitizen       0\n",
       "Partner             0\n",
       "Dependents          0\n",
       "tenure              0\n",
       "PhoneService        0\n",
       "MultipleLines       0\n",
       "InternetService     0\n",
       "OnlineSecurity      0\n",
       "OnlineBackup        0\n",
       "DeviceProtection    0\n",
       "TechSupport         0\n",
       "StreamingTV         0\n",
       "StreamingMovies     0\n",
       "Contract            0\n",
       "PaperlessBilling    0\n",
       "PaymentMethod       0\n",
       "MonthlyCharges      0\n",
       "TotalCharges        8\n",
       "Churn               0\n",
       "dtype: int64"
      ]
     },
     "execution_count": 212,
     "metadata": {},
     "output_type": "execute_result"
    }
   ],
   "source": [
    "# train_df = train_df.replace('', np.nan)  - No single spaces were present\n",
    "train_df = train_df.replace(' ', np.nan)   # checked for double spaces ' '\n",
    "train_df.isna().sum()"
   ]
  },
  {
   "cell_type": "markdown",
   "id": "f1b45544-8d5a-433a-aa44-4cabc5004b38",
   "metadata": {},
   "source": [
    "**Observation:** \n",
    "    The dtype correction from 'object' to 'float64' for column 'TotalCharges' was giving ValueError despite the fact that there were no NaN values in it. \n",
    "    Hence checked for spaces- single ('') and double ('  ') by replacing with NaN values and found that there were 8 double spaces found in train dataset."
   ]
  },
  {
   "cell_type": "markdown",
   "id": "294f5848-afe3-47c0-a657-47ac548fae03",
   "metadata": {},
   "source": [
    "> **Testing Dataset:** -Converting the datatype from **'object' to'float64'** for the column-**TotalCharges** in **test_df**."
   ]
  },
  {
   "cell_type": "code",
   "execution_count": 213,
   "id": "3361798a-b206-496e-ad8d-0beaf1c9b830",
   "metadata": {},
   "outputs": [
    {
     "ename": "ValueError",
     "evalue": "could not convert string to float: ''",
     "output_type": "error",
     "traceback": [
      "\u001b[1;31m---------------------------------------------------------------------------\u001b[0m",
      "\u001b[1;31mValueError\u001b[0m                                Traceback (most recent call last)",
      "\u001b[1;32m<ipython-input-213-6f0f7371ebc9>\u001b[0m in \u001b[0;36m<module>\u001b[1;34m\u001b[0m\n\u001b[0;32m      1\u001b[0m \u001b[1;31m# For column - **TotalCharges** - ValueError: could not convert string to float: ''. Need to inspect for empty data and data with spaces - single ('') and double ('  ').\u001b[0m\u001b[1;33m\u001b[0m\u001b[1;33m\u001b[0m\u001b[1;33m\u001b[0m\u001b[0m\n\u001b[1;32m----> 2\u001b[1;33m \u001b[0mtest_df\u001b[0m\u001b[1;33m[\u001b[0m\u001b[1;34m'TotalCharges'\u001b[0m\u001b[1;33m]\u001b[0m \u001b[1;33m=\u001b[0m \u001b[0mtest_df\u001b[0m\u001b[1;33m[\u001b[0m\u001b[1;34m'TotalCharges'\u001b[0m\u001b[1;33m]\u001b[0m\u001b[1;33m.\u001b[0m\u001b[0mastype\u001b[0m\u001b[1;33m(\u001b[0m\u001b[0mnp\u001b[0m\u001b[1;33m.\u001b[0m\u001b[0mfloat64\u001b[0m\u001b[1;33m)\u001b[0m\u001b[1;33m\u001b[0m\u001b[1;33m\u001b[0m\u001b[0m\n\u001b[0m",
      "\u001b[1;32m~\\anaconda3\\lib\\site-packages\\pandas\\core\\generic.py\u001b[0m in \u001b[0;36mastype\u001b[1;34m(self, dtype, copy, errors)\u001b[0m\n\u001b[0;32m   5875\u001b[0m         \u001b[1;32melse\u001b[0m\u001b[1;33m:\u001b[0m\u001b[1;33m\u001b[0m\u001b[1;33m\u001b[0m\u001b[0m\n\u001b[0;32m   5876\u001b[0m             \u001b[1;31m# else, only a single dtype is given\u001b[0m\u001b[1;33m\u001b[0m\u001b[1;33m\u001b[0m\u001b[1;33m\u001b[0m\u001b[0m\n\u001b[1;32m-> 5877\u001b[1;33m             \u001b[0mnew_data\u001b[0m \u001b[1;33m=\u001b[0m \u001b[0mself\u001b[0m\u001b[1;33m.\u001b[0m\u001b[0m_mgr\u001b[0m\u001b[1;33m.\u001b[0m\u001b[0mastype\u001b[0m\u001b[1;33m(\u001b[0m\u001b[0mdtype\u001b[0m\u001b[1;33m=\u001b[0m\u001b[0mdtype\u001b[0m\u001b[1;33m,\u001b[0m \u001b[0mcopy\u001b[0m\u001b[1;33m=\u001b[0m\u001b[0mcopy\u001b[0m\u001b[1;33m,\u001b[0m \u001b[0merrors\u001b[0m\u001b[1;33m=\u001b[0m\u001b[0merrors\u001b[0m\u001b[1;33m)\u001b[0m\u001b[1;33m\u001b[0m\u001b[1;33m\u001b[0m\u001b[0m\n\u001b[0m\u001b[0;32m   5878\u001b[0m             \u001b[1;32mreturn\u001b[0m \u001b[0mself\u001b[0m\u001b[1;33m.\u001b[0m\u001b[0m_constructor\u001b[0m\u001b[1;33m(\u001b[0m\u001b[0mnew_data\u001b[0m\u001b[1;33m)\u001b[0m\u001b[1;33m.\u001b[0m\u001b[0m__finalize__\u001b[0m\u001b[1;33m(\u001b[0m\u001b[0mself\u001b[0m\u001b[1;33m,\u001b[0m \u001b[0mmethod\u001b[0m\u001b[1;33m=\u001b[0m\u001b[1;34m\"astype\"\u001b[0m\u001b[1;33m)\u001b[0m\u001b[1;33m\u001b[0m\u001b[1;33m\u001b[0m\u001b[0m\n\u001b[0;32m   5879\u001b[0m \u001b[1;33m\u001b[0m\u001b[0m\n",
      "\u001b[1;32m~\\anaconda3\\lib\\site-packages\\pandas\\core\\internals\\managers.py\u001b[0m in \u001b[0;36mastype\u001b[1;34m(self, dtype, copy, errors)\u001b[0m\n\u001b[0;32m    629\u001b[0m         \u001b[0mself\u001b[0m\u001b[1;33m,\u001b[0m \u001b[0mdtype\u001b[0m\u001b[1;33m,\u001b[0m \u001b[0mcopy\u001b[0m\u001b[1;33m:\u001b[0m \u001b[0mbool\u001b[0m \u001b[1;33m=\u001b[0m \u001b[1;32mFalse\u001b[0m\u001b[1;33m,\u001b[0m \u001b[0merrors\u001b[0m\u001b[1;33m:\u001b[0m \u001b[0mstr\u001b[0m \u001b[1;33m=\u001b[0m \u001b[1;34m\"raise\"\u001b[0m\u001b[1;33m\u001b[0m\u001b[1;33m\u001b[0m\u001b[0m\n\u001b[0;32m    630\u001b[0m     ) -> \"BlockManager\":\n\u001b[1;32m--> 631\u001b[1;33m         \u001b[1;32mreturn\u001b[0m \u001b[0mself\u001b[0m\u001b[1;33m.\u001b[0m\u001b[0mapply\u001b[0m\u001b[1;33m(\u001b[0m\u001b[1;34m\"astype\"\u001b[0m\u001b[1;33m,\u001b[0m \u001b[0mdtype\u001b[0m\u001b[1;33m=\u001b[0m\u001b[0mdtype\u001b[0m\u001b[1;33m,\u001b[0m \u001b[0mcopy\u001b[0m\u001b[1;33m=\u001b[0m\u001b[0mcopy\u001b[0m\u001b[1;33m,\u001b[0m \u001b[0merrors\u001b[0m\u001b[1;33m=\u001b[0m\u001b[0merrors\u001b[0m\u001b[1;33m)\u001b[0m\u001b[1;33m\u001b[0m\u001b[1;33m\u001b[0m\u001b[0m\n\u001b[0m\u001b[0;32m    632\u001b[0m \u001b[1;33m\u001b[0m\u001b[0m\n\u001b[0;32m    633\u001b[0m     def convert(\n",
      "\u001b[1;32m~\\anaconda3\\lib\\site-packages\\pandas\\core\\internals\\managers.py\u001b[0m in \u001b[0;36mapply\u001b[1;34m(self, f, align_keys, ignore_failures, **kwargs)\u001b[0m\n\u001b[0;32m    425\u001b[0m                     \u001b[0mapplied\u001b[0m \u001b[1;33m=\u001b[0m \u001b[0mb\u001b[0m\u001b[1;33m.\u001b[0m\u001b[0mapply\u001b[0m\u001b[1;33m(\u001b[0m\u001b[0mf\u001b[0m\u001b[1;33m,\u001b[0m \u001b[1;33m**\u001b[0m\u001b[0mkwargs\u001b[0m\u001b[1;33m)\u001b[0m\u001b[1;33m\u001b[0m\u001b[1;33m\u001b[0m\u001b[0m\n\u001b[0;32m    426\u001b[0m                 \u001b[1;32melse\u001b[0m\u001b[1;33m:\u001b[0m\u001b[1;33m\u001b[0m\u001b[1;33m\u001b[0m\u001b[0m\n\u001b[1;32m--> 427\u001b[1;33m                     \u001b[0mapplied\u001b[0m \u001b[1;33m=\u001b[0m \u001b[0mgetattr\u001b[0m\u001b[1;33m(\u001b[0m\u001b[0mb\u001b[0m\u001b[1;33m,\u001b[0m \u001b[0mf\u001b[0m\u001b[1;33m)\u001b[0m\u001b[1;33m(\u001b[0m\u001b[1;33m**\u001b[0m\u001b[0mkwargs\u001b[0m\u001b[1;33m)\u001b[0m\u001b[1;33m\u001b[0m\u001b[1;33m\u001b[0m\u001b[0m\n\u001b[0m\u001b[0;32m    428\u001b[0m             \u001b[1;32mexcept\u001b[0m \u001b[1;33m(\u001b[0m\u001b[0mTypeError\u001b[0m\u001b[1;33m,\u001b[0m \u001b[0mNotImplementedError\u001b[0m\u001b[1;33m)\u001b[0m\u001b[1;33m:\u001b[0m\u001b[1;33m\u001b[0m\u001b[1;33m\u001b[0m\u001b[0m\n\u001b[0;32m    429\u001b[0m                 \u001b[1;32mif\u001b[0m \u001b[1;32mnot\u001b[0m \u001b[0mignore_failures\u001b[0m\u001b[1;33m:\u001b[0m\u001b[1;33m\u001b[0m\u001b[1;33m\u001b[0m\u001b[0m\n",
      "\u001b[1;32m~\\anaconda3\\lib\\site-packages\\pandas\\core\\internals\\blocks.py\u001b[0m in \u001b[0;36mastype\u001b[1;34m(self, dtype, copy, errors)\u001b[0m\n\u001b[0;32m    671\u001b[0m             \u001b[0mvals1d\u001b[0m \u001b[1;33m=\u001b[0m \u001b[0mvalues\u001b[0m\u001b[1;33m.\u001b[0m\u001b[0mravel\u001b[0m\u001b[1;33m(\u001b[0m\u001b[1;33m)\u001b[0m\u001b[1;33m\u001b[0m\u001b[1;33m\u001b[0m\u001b[0m\n\u001b[0;32m    672\u001b[0m             \u001b[1;32mtry\u001b[0m\u001b[1;33m:\u001b[0m\u001b[1;33m\u001b[0m\u001b[1;33m\u001b[0m\u001b[0m\n\u001b[1;32m--> 673\u001b[1;33m                 \u001b[0mvalues\u001b[0m \u001b[1;33m=\u001b[0m \u001b[0mastype_nansafe\u001b[0m\u001b[1;33m(\u001b[0m\u001b[0mvals1d\u001b[0m\u001b[1;33m,\u001b[0m \u001b[0mdtype\u001b[0m\u001b[1;33m,\u001b[0m \u001b[0mcopy\u001b[0m\u001b[1;33m=\u001b[0m\u001b[1;32mTrue\u001b[0m\u001b[1;33m)\u001b[0m\u001b[1;33m\u001b[0m\u001b[1;33m\u001b[0m\u001b[0m\n\u001b[0m\u001b[0;32m    674\u001b[0m             \u001b[1;32mexcept\u001b[0m \u001b[1;33m(\u001b[0m\u001b[0mValueError\u001b[0m\u001b[1;33m,\u001b[0m \u001b[0mTypeError\u001b[0m\u001b[1;33m)\u001b[0m\u001b[1;33m:\u001b[0m\u001b[1;33m\u001b[0m\u001b[1;33m\u001b[0m\u001b[0m\n\u001b[0;32m    675\u001b[0m                 \u001b[1;31m# e.g. astype_nansafe can fail on object-dtype of strings\u001b[0m\u001b[1;33m\u001b[0m\u001b[1;33m\u001b[0m\u001b[1;33m\u001b[0m\u001b[0m\n",
      "\u001b[1;32m~\\anaconda3\\lib\\site-packages\\pandas\\core\\dtypes\\cast.py\u001b[0m in \u001b[0;36mastype_nansafe\u001b[1;34m(arr, dtype, copy, skipna)\u001b[0m\n\u001b[0;32m   1095\u001b[0m     \u001b[1;32mif\u001b[0m \u001b[0mcopy\u001b[0m \u001b[1;32mor\u001b[0m \u001b[0mis_object_dtype\u001b[0m\u001b[1;33m(\u001b[0m\u001b[0marr\u001b[0m\u001b[1;33m)\u001b[0m \u001b[1;32mor\u001b[0m \u001b[0mis_object_dtype\u001b[0m\u001b[1;33m(\u001b[0m\u001b[0mdtype\u001b[0m\u001b[1;33m)\u001b[0m\u001b[1;33m:\u001b[0m\u001b[1;33m\u001b[0m\u001b[1;33m\u001b[0m\u001b[0m\n\u001b[0;32m   1096\u001b[0m         \u001b[1;31m# Explicit copy, or required since NumPy can't view from / to object.\u001b[0m\u001b[1;33m\u001b[0m\u001b[1;33m\u001b[0m\u001b[1;33m\u001b[0m\u001b[0m\n\u001b[1;32m-> 1097\u001b[1;33m         \u001b[1;32mreturn\u001b[0m \u001b[0marr\u001b[0m\u001b[1;33m.\u001b[0m\u001b[0mastype\u001b[0m\u001b[1;33m(\u001b[0m\u001b[0mdtype\u001b[0m\u001b[1;33m,\u001b[0m \u001b[0mcopy\u001b[0m\u001b[1;33m=\u001b[0m\u001b[1;32mTrue\u001b[0m\u001b[1;33m)\u001b[0m\u001b[1;33m\u001b[0m\u001b[1;33m\u001b[0m\u001b[0m\n\u001b[0m\u001b[0;32m   1098\u001b[0m \u001b[1;33m\u001b[0m\u001b[0m\n\u001b[0;32m   1099\u001b[0m     \u001b[1;32mreturn\u001b[0m \u001b[0marr\u001b[0m\u001b[1;33m.\u001b[0m\u001b[0mview\u001b[0m\u001b[1;33m(\u001b[0m\u001b[0mdtype\u001b[0m\u001b[1;33m)\u001b[0m\u001b[1;33m\u001b[0m\u001b[1;33m\u001b[0m\u001b[0m\n",
      "\u001b[1;31mValueError\u001b[0m: could not convert string to float: ''"
     ]
    }
   ],
   "source": [
    "# For column - **TotalCharges** - ValueError: could not convert string to float: ''. Need to inspect for empty data and data with spaces - single ('') and double ('  ').\n",
    "test_df['TotalCharges'] = test_df['TotalCharges'].astype(np.float64)"
   ]
  },
  {
   "cell_type": "code",
   "execution_count": 81,
   "id": "dde3ff58-a1a4-46a9-ad53-3709713f2c6f",
   "metadata": {},
   "outputs": [
    {
     "data": {
      "text/plain": [
       "False"
      ]
     },
     "execution_count": 81,
     "metadata": {},
     "output_type": "execute_result"
    }
   ],
   "source": [
    "# Checking for empty columns in Test dataset - No empty columns were found.\n",
    "test_df.empty"
   ]
  },
  {
   "cell_type": "code",
   "execution_count": 214,
   "id": "b280a27f-04a7-4e28-8cc3-a82cb2c9a91a",
   "metadata": {},
   "outputs": [
    {
     "data": {
      "text/plain": [
       "customerID          0\n",
       "gender              0\n",
       "SeniorCitizen       0\n",
       "Partner             0\n",
       "Dependents          0\n",
       "tenure              0\n",
       "PhoneService        0\n",
       "MultipleLines       0\n",
       "InternetService     0\n",
       "OnlineSecurity      0\n",
       "OnlineBackup        0\n",
       "DeviceProtection    0\n",
       "TechSupport         0\n",
       "StreamingTV         0\n",
       "StreamingMovies     0\n",
       "Contract            0\n",
       "PaperlessBilling    0\n",
       "PaymentMethod       0\n",
       "MonthlyCharges      0\n",
       "TotalCharges        3\n",
       "dtype: int64"
      ]
     },
     "execution_count": 214,
     "metadata": {},
     "output_type": "execute_result"
    }
   ],
   "source": [
    "# test_df = test_df.replace('', np.nan)   - No single spaces were present\n",
    "test_df = test_df.replace(' ', np.nan)    # checked for double spaces ' '\n",
    "test_df.isna().sum()"
   ]
  },
  {
   "cell_type": "markdown",
   "id": "ea18556d-bb5a-4378-8d1e-209b17c874b5",
   "metadata": {},
   "source": [
    "**Observation:** \n",
    "    The dtype correction from 'object' to 'float64' for column 'TotalCharges' was giving ValueError despite the fact that there were no NaN values in it. Hence checked for spaces- single ('') and double ('  ') by replacing with NaN values and found that there were 3 double spaces found in test dataset."
   ]
  },
  {
   "cell_type": "markdown",
   "id": "be443e2b-6aa1-4435-85f5-1ac081865dbf",
   "metadata": {},
   "source": [
    "> **Training Dataset:** Now converting the datatype from **'object' to'float64'** for the column-**TotalCharges** in **train_df** after correction for **ValueError**."
   ]
  },
  {
   "cell_type": "code",
   "execution_count": 215,
   "id": "672ae6b1-50df-4941-8b31-218abe3652d7",
   "metadata": {},
   "outputs": [
    {
     "name": "stdout",
     "output_type": "stream",
     "text": [
      "<class 'pandas.core.frame.DataFrame'>\n",
      "RangeIndex: 5634 entries, 0 to 5633\n",
      "Data columns (total 21 columns):\n",
      " #   Column            Non-Null Count  Dtype  \n",
      "---  ------            --------------  -----  \n",
      " 0   customerID        5634 non-null   object \n",
      " 1   gender            5634 non-null   object \n",
      " 2   SeniorCitizen     5634 non-null   int64  \n",
      " 3   Partner           5634 non-null   object \n",
      " 4   Dependents        5634 non-null   object \n",
      " 5   tenure            5634 non-null   int64  \n",
      " 6   PhoneService      5634 non-null   object \n",
      " 7   MultipleLines     5634 non-null   object \n",
      " 8   InternetService   5634 non-null   object \n",
      " 9   OnlineSecurity    5634 non-null   object \n",
      " 10  OnlineBackup      5634 non-null   object \n",
      " 11  DeviceProtection  5634 non-null   object \n",
      " 12  TechSupport       5634 non-null   object \n",
      " 13  StreamingTV       5634 non-null   object \n",
      " 14  StreamingMovies   5634 non-null   object \n",
      " 15  Contract          5634 non-null   object \n",
      " 16  PaperlessBilling  5634 non-null   object \n",
      " 17  PaymentMethod     5634 non-null   object \n",
      " 18  MonthlyCharges    5634 non-null   float64\n",
      " 19  TotalCharges      5626 non-null   float64\n",
      " 20  Churn             5634 non-null   object \n",
      "dtypes: float64(2), int64(2), object(17)\n",
      "memory usage: 924.5+ KB\n"
     ]
    }
   ],
   "source": [
    "train_df.describe()\n",
    "# train_df.info()\n",
    "train_df['TotalCharges'] = train_df['TotalCharges'].astype(np.float64)\n",
    "train_df.info()\n",
    "# train_df['TotalCharges'].dtype"
   ]
  },
  {
   "cell_type": "code",
   "execution_count": 216,
   "id": "d32fcdd7-f1e0-40eb-b58e-c8a3b794f28b",
   "metadata": {},
   "outputs": [
    {
     "data": {
      "text/html": [
       "<div>\n",
       "<style scoped>\n",
       "    .dataframe tbody tr th:only-of-type {\n",
       "        vertical-align: middle;\n",
       "    }\n",
       "\n",
       "    .dataframe tbody tr th {\n",
       "        vertical-align: top;\n",
       "    }\n",
       "\n",
       "    .dataframe thead th {\n",
       "        text-align: right;\n",
       "    }\n",
       "</style>\n",
       "<table border=\"1\" class=\"dataframe\">\n",
       "  <thead>\n",
       "    <tr style=\"text-align: right;\">\n",
       "      <th></th>\n",
       "      <th>SeniorCitizen</th>\n",
       "      <th>tenure</th>\n",
       "      <th>MonthlyCharges</th>\n",
       "      <th>TotalCharges</th>\n",
       "    </tr>\n",
       "  </thead>\n",
       "  <tbody>\n",
       "    <tr>\n",
       "      <th>count</th>\n",
       "      <td>5634.000000</td>\n",
       "      <td>5634.000000</td>\n",
       "      <td>5634.000000</td>\n",
       "      <td>5626.000000</td>\n",
       "    </tr>\n",
       "    <tr>\n",
       "      <th>mean</th>\n",
       "      <td>0.161874</td>\n",
       "      <td>32.277955</td>\n",
       "      <td>64.779127</td>\n",
       "      <td>2280.662380</td>\n",
       "    </tr>\n",
       "    <tr>\n",
       "      <th>std</th>\n",
       "      <td>0.368368</td>\n",
       "      <td>24.555211</td>\n",
       "      <td>30.104993</td>\n",
       "      <td>2266.394623</td>\n",
       "    </tr>\n",
       "    <tr>\n",
       "      <th>min</th>\n",
       "      <td>0.000000</td>\n",
       "      <td>0.000000</td>\n",
       "      <td>18.250000</td>\n",
       "      <td>18.800000</td>\n",
       "    </tr>\n",
       "    <tr>\n",
       "      <th>25%</th>\n",
       "      <td>0.000000</td>\n",
       "      <td>9.000000</td>\n",
       "      <td>35.400000</td>\n",
       "      <td>391.900000</td>\n",
       "    </tr>\n",
       "    <tr>\n",
       "      <th>50%</th>\n",
       "      <td>0.000000</td>\n",
       "      <td>29.000000</td>\n",
       "      <td>70.375000</td>\n",
       "      <td>1394.800000</td>\n",
       "    </tr>\n",
       "    <tr>\n",
       "      <th>75%</th>\n",
       "      <td>0.000000</td>\n",
       "      <td>55.000000</td>\n",
       "      <td>89.850000</td>\n",
       "      <td>3794.487500</td>\n",
       "    </tr>\n",
       "    <tr>\n",
       "      <th>max</th>\n",
       "      <td>1.000000</td>\n",
       "      <td>72.000000</td>\n",
       "      <td>118.650000</td>\n",
       "      <td>8684.800000</td>\n",
       "    </tr>\n",
       "  </tbody>\n",
       "</table>\n",
       "</div>"
      ],
      "text/plain": [
       "       SeniorCitizen       tenure  MonthlyCharges  TotalCharges\n",
       "count    5634.000000  5634.000000     5634.000000   5626.000000\n",
       "mean        0.161874    32.277955       64.779127   2280.662380\n",
       "std         0.368368    24.555211       30.104993   2266.394623\n",
       "min         0.000000     0.000000       18.250000     18.800000\n",
       "25%         0.000000     9.000000       35.400000    391.900000\n",
       "50%         0.000000    29.000000       70.375000   1394.800000\n",
       "75%         0.000000    55.000000       89.850000   3794.487500\n",
       "max         1.000000    72.000000      118.650000   8684.800000"
      ]
     },
     "execution_count": 216,
     "metadata": {},
     "output_type": "execute_result"
    }
   ],
   "source": [
    "train_df.describe()"
   ]
  },
  {
   "cell_type": "markdown",
   "id": "12f4eb90-3d8f-4a9f-94d6-34a68ed2e86a",
   "metadata": {},
   "source": [
    "> **Testing Dataset:** Now converting the datatype from **'object' to'float64'** for the column-**TotalCharges** in **test_df** after correction for **ValueError**."
   ]
  },
  {
   "cell_type": "code",
   "execution_count": 217,
   "id": "cfcadce5-2e6a-4e9f-bd49-da5a457530f6",
   "metadata": {},
   "outputs": [
    {
     "name": "stdout",
     "output_type": "stream",
     "text": [
      "<class 'pandas.core.frame.DataFrame'>\n",
      "RangeIndex: 1409 entries, 0 to 1408\n",
      "Data columns (total 20 columns):\n",
      " #   Column            Non-Null Count  Dtype  \n",
      "---  ------            --------------  -----  \n",
      " 0   customerID        1409 non-null   object \n",
      " 1   gender            1409 non-null   object \n",
      " 2   SeniorCitizen     1409 non-null   int64  \n",
      " 3   Partner           1409 non-null   object \n",
      " 4   Dependents        1409 non-null   object \n",
      " 5   tenure            1409 non-null   int64  \n",
      " 6   PhoneService      1409 non-null   object \n",
      " 7   MultipleLines     1409 non-null   object \n",
      " 8   InternetService   1409 non-null   object \n",
      " 9   OnlineSecurity    1409 non-null   object \n",
      " 10  OnlineBackup      1409 non-null   object \n",
      " 11  DeviceProtection  1409 non-null   object \n",
      " 12  TechSupport       1409 non-null   object \n",
      " 13  StreamingTV       1409 non-null   object \n",
      " 14  StreamingMovies   1409 non-null   object \n",
      " 15  Contract          1409 non-null   object \n",
      " 16  PaperlessBilling  1409 non-null   object \n",
      " 17  PaymentMethod     1409 non-null   object \n",
      " 18  MonthlyCharges    1409 non-null   float64\n",
      " 19  TotalCharges      1406 non-null   float64\n",
      "dtypes: float64(2), int64(2), object(16)\n",
      "memory usage: 220.3+ KB\n"
     ]
    }
   ],
   "source": [
    "test_df.describe()\n",
    "# train_df.info()\n",
    "test_df['TotalCharges'] = test_df['TotalCharges'].astype(np.float64)\n",
    "test_df.info()"
   ]
  },
  {
   "cell_type": "code",
   "execution_count": 218,
   "id": "230d3ef0-6b79-419a-82b7-caaa92b4bc08",
   "metadata": {},
   "outputs": [
    {
     "data": {
      "text/html": [
       "<div>\n",
       "<style scoped>\n",
       "    .dataframe tbody tr th:only-of-type {\n",
       "        vertical-align: middle;\n",
       "    }\n",
       "\n",
       "    .dataframe tbody tr th {\n",
       "        vertical-align: top;\n",
       "    }\n",
       "\n",
       "    .dataframe thead th {\n",
       "        text-align: right;\n",
       "    }\n",
       "</style>\n",
       "<table border=\"1\" class=\"dataframe\">\n",
       "  <thead>\n",
       "    <tr style=\"text-align: right;\">\n",
       "      <th></th>\n",
       "      <th>SeniorCitizen</th>\n",
       "      <th>tenure</th>\n",
       "      <th>MonthlyCharges</th>\n",
       "      <th>TotalCharges</th>\n",
       "    </tr>\n",
       "  </thead>\n",
       "  <tbody>\n",
       "    <tr>\n",
       "      <th>count</th>\n",
       "      <td>1409.000000</td>\n",
       "      <td>1409.000000</td>\n",
       "      <td>1409.000000</td>\n",
       "      <td>1406.000000</td>\n",
       "    </tr>\n",
       "    <tr>\n",
       "      <th>mean</th>\n",
       "      <td>0.163236</td>\n",
       "      <td>32.743790</td>\n",
       "      <td>64.691980</td>\n",
       "      <td>2293.856437</td>\n",
       "    </tr>\n",
       "    <tr>\n",
       "      <th>std</th>\n",
       "      <td>0.369712</td>\n",
       "      <td>24.581736</td>\n",
       "      <td>30.040784</td>\n",
       "      <td>2269.054321</td>\n",
       "    </tr>\n",
       "    <tr>\n",
       "      <th>min</th>\n",
       "      <td>0.000000</td>\n",
       "      <td>0.000000</td>\n",
       "      <td>18.700000</td>\n",
       "      <td>19.200000</td>\n",
       "    </tr>\n",
       "    <tr>\n",
       "      <th>25%</th>\n",
       "      <td>0.000000</td>\n",
       "      <td>9.000000</td>\n",
       "      <td>36.850000</td>\n",
       "      <td>423.687500</td>\n",
       "    </tr>\n",
       "    <tr>\n",
       "      <th>50%</th>\n",
       "      <td>0.000000</td>\n",
       "      <td>29.000000</td>\n",
       "      <td>70.150000</td>\n",
       "      <td>1413.550000</td>\n",
       "    </tr>\n",
       "    <tr>\n",
       "      <th>75%</th>\n",
       "      <td>0.000000</td>\n",
       "      <td>56.000000</td>\n",
       "      <td>89.850000</td>\n",
       "      <td>3791.875000</td>\n",
       "    </tr>\n",
       "    <tr>\n",
       "      <th>max</th>\n",
       "      <td>1.000000</td>\n",
       "      <td>72.000000</td>\n",
       "      <td>118.750000</td>\n",
       "      <td>8672.450000</td>\n",
       "    </tr>\n",
       "  </tbody>\n",
       "</table>\n",
       "</div>"
      ],
      "text/plain": [
       "       SeniorCitizen       tenure  MonthlyCharges  TotalCharges\n",
       "count    1409.000000  1409.000000     1409.000000   1406.000000\n",
       "mean        0.163236    32.743790       64.691980   2293.856437\n",
       "std         0.369712    24.581736       30.040784   2269.054321\n",
       "min         0.000000     0.000000       18.700000     19.200000\n",
       "25%         0.000000     9.000000       36.850000    423.687500\n",
       "50%         0.000000    29.000000       70.150000   1413.550000\n",
       "75%         0.000000    56.000000       89.850000   3791.875000\n",
       "max         1.000000    72.000000      118.750000   8672.450000"
      ]
     },
     "execution_count": 218,
     "metadata": {},
     "output_type": "execute_result"
    }
   ],
   "source": [
    "test_df.describe()"
   ]
  },
  {
   "cell_type": "markdown",
   "id": "2eaea956-bf1c-4b9a-b3ff-30f5513b26da",
   "metadata": {},
   "source": [
    " ## Redundant Values"
   ]
  },
  {
   "cell_type": "code",
   "execution_count": 86,
   "id": "d3d7a7ad-a7d2-45a2-9a56-ba2c9c5b9ce4",
   "metadata": {},
   "outputs": [
    {
     "data": {
      "text/plain": [
       "False    5634\n",
       "dtype: int64"
      ]
     },
     "execution_count": 86,
     "metadata": {},
     "output_type": "execute_result"
    }
   ],
   "source": [
    "train_df.duplicated().value_counts()"
   ]
  },
  {
   "cell_type": "code",
   "execution_count": 219,
   "id": "2fb13b5f-185b-4dc2-92b5-100bdd068d5b",
   "metadata": {},
   "outputs": [
    {
     "data": {
      "text/plain": [
       "False    1409\n",
       "dtype: int64"
      ]
     },
     "execution_count": 219,
     "metadata": {},
     "output_type": "execute_result"
    }
   ],
   "source": [
    "test_df.duplicated().value_counts()"
   ]
  },
  {
   "cell_type": "markdown",
   "id": "feb9f09d-5dbe-4b6b-a1e9-50abf5c3fafc",
   "metadata": {},
   "source": [
    " ## Missing values"
   ]
  },
  {
   "cell_type": "markdown",
   "id": "14b0a617-ea36-4247-b00b-816625d6a9d6",
   "metadata": {},
   "source": [
    "> **Training Dataset**"
   ]
  },
  {
   "cell_type": "code",
   "execution_count": 220,
   "id": "cc34cf2c-9e3f-47d1-8a2e-f6c62a7340c0",
   "metadata": {},
   "outputs": [
    {
     "data": {
      "text/plain": [
       "customerID          0\n",
       "gender              0\n",
       "SeniorCitizen       0\n",
       "Partner             0\n",
       "Dependents          0\n",
       "tenure              0\n",
       "PhoneService        0\n",
       "MultipleLines       0\n",
       "InternetService     0\n",
       "OnlineSecurity      0\n",
       "OnlineBackup        0\n",
       "DeviceProtection    0\n",
       "TechSupport         0\n",
       "StreamingTV         0\n",
       "StreamingMovies     0\n",
       "Contract            0\n",
       "PaperlessBilling    0\n",
       "PaymentMethod       0\n",
       "MonthlyCharges      0\n",
       "TotalCharges        8\n",
       "Churn               0\n",
       "dtype: int64"
      ]
     },
     "execution_count": 220,
     "metadata": {},
     "output_type": "execute_result"
    }
   ],
   "source": [
    "train_df.isnull().sum()"
   ]
  },
  {
   "cell_type": "code",
   "execution_count": 221,
   "id": "bede2884-0524-4797-b6a2-1582223cf433",
   "metadata": {},
   "outputs": [],
   "source": [
    "train_df['TotalCharges'].fillna(train_df['TotalCharges'].mean(),inplace = True)"
   ]
  },
  {
   "cell_type": "code",
   "execution_count": 222,
   "id": "e2cc8e6d-f768-416a-b904-e401d096c50d",
   "metadata": {},
   "outputs": [
    {
     "data": {
      "text/plain": [
       "customerID          0\n",
       "gender              0\n",
       "SeniorCitizen       0\n",
       "Partner             0\n",
       "Dependents          0\n",
       "tenure              0\n",
       "PhoneService        0\n",
       "MultipleLines       0\n",
       "InternetService     0\n",
       "OnlineSecurity      0\n",
       "OnlineBackup        0\n",
       "DeviceProtection    0\n",
       "TechSupport         0\n",
       "StreamingTV         0\n",
       "StreamingMovies     0\n",
       "Contract            0\n",
       "PaperlessBilling    0\n",
       "PaymentMethod       0\n",
       "MonthlyCharges      0\n",
       "TotalCharges        0\n",
       "Churn               0\n",
       "dtype: int64"
      ]
     },
     "execution_count": 222,
     "metadata": {},
     "output_type": "execute_result"
    }
   ],
   "source": [
    "train_df.isnull().sum()"
   ]
  },
  {
   "cell_type": "markdown",
   "id": "0010643d-6508-4796-b0c4-628b64b67419",
   "metadata": {},
   "source": [
    "> **Testing Dataset**"
   ]
  },
  {
   "cell_type": "code",
   "execution_count": 223,
   "id": "a4d8dfd4-9bd3-464b-a411-8e6018ff53ea",
   "metadata": {},
   "outputs": [
    {
     "data": {
      "text/plain": [
       "customerID          0\n",
       "gender              0\n",
       "SeniorCitizen       0\n",
       "Partner             0\n",
       "Dependents          0\n",
       "tenure              0\n",
       "PhoneService        0\n",
       "MultipleLines       0\n",
       "InternetService     0\n",
       "OnlineSecurity      0\n",
       "OnlineBackup        0\n",
       "DeviceProtection    0\n",
       "TechSupport         0\n",
       "StreamingTV         0\n",
       "StreamingMovies     0\n",
       "Contract            0\n",
       "PaperlessBilling    0\n",
       "PaymentMethod       0\n",
       "MonthlyCharges      0\n",
       "TotalCharges        3\n",
       "dtype: int64"
      ]
     },
     "execution_count": 223,
     "metadata": {},
     "output_type": "execute_result"
    }
   ],
   "source": [
    "test_df.isnull().sum()"
   ]
  },
  {
   "cell_type": "code",
   "execution_count": 224,
   "id": "2c00e84b-9c3b-466b-9f01-5b7af3f938dd",
   "metadata": {},
   "outputs": [],
   "source": [
    "test_df['TotalCharges'].fillna(test_df['TotalCharges'].mean(),inplace = True)"
   ]
  },
  {
   "cell_type": "code",
   "execution_count": 225,
   "id": "ef9208c3-8ff1-4b49-bf27-c91c55630391",
   "metadata": {},
   "outputs": [
    {
     "data": {
      "text/plain": [
       "customerID          0\n",
       "gender              0\n",
       "SeniorCitizen       0\n",
       "Partner             0\n",
       "Dependents          0\n",
       "tenure              0\n",
       "PhoneService        0\n",
       "MultipleLines       0\n",
       "InternetService     0\n",
       "OnlineSecurity      0\n",
       "OnlineBackup        0\n",
       "DeviceProtection    0\n",
       "TechSupport         0\n",
       "StreamingTV         0\n",
       "StreamingMovies     0\n",
       "Contract            0\n",
       "PaperlessBilling    0\n",
       "PaymentMethod       0\n",
       "MonthlyCharges      0\n",
       "TotalCharges        0\n",
       "dtype: int64"
      ]
     },
     "execution_count": 225,
     "metadata": {},
     "output_type": "execute_result"
    }
   ],
   "source": [
    "test_df.isnull().sum()"
   ]
  },
  {
   "cell_type": "markdown",
   "id": "d6aa48cf-3185-45a9-90ed-8e2dac6249d4",
   "metadata": {},
   "source": [
    "**Observations:** \n",
    "------------------\n",
    "> Train Dataset: - The **8** missing values in the column - **MonthlyCharges** were replaced with the **mean** value for that specific column.\n",
    " \n",
    "> Test Dataset:  - The **3** missing values in the column - **MonthlyCharges** were replaced with the **mean** value for that specific column.\n",
    "\n",
    "- The datatype from **'object' to'float64'** for the column-**TotalCharges** has been successfully done for both datasets. ValueError was occuring due to the double spaces existing in the column-**TotalCharges** which have been replaced finally with the respective mean values in datasets."
   ]
  },
  {
   "cell_type": "markdown",
   "id": "1758d036-bd61-476e-915e-dbf9b1e2854c",
   "metadata": {},
   "source": [
    "# **Feature Engineering**"
   ]
  },
  {
   "cell_type": "markdown",
   "id": "35cafc57-689b-49e8-a4c6-3be7711a0768",
   "metadata": {},
   "source": [
    "> **Training Dataset:** - For the **train_df** dataset the following features are having redundant options - **('No phone service' and 'No internet service')** hence reducing the total no. of categories for each of these features to  just 2 categories **(Yes, No)**."
   ]
  },
  {
   "cell_type": "code",
   "execution_count": 226,
   "id": "79d34ff5-86ad-4d68-85cd-86a3f5583524",
   "metadata": {},
   "outputs": [],
   "source": [
    "train_df['MultipleLines'] = train_df['MultipleLines'].replace('No phone service','No')\n",
    "train_df['OnlineSecurity'] = train_df['OnlineSecurity'].replace('No internet service','No')\n",
    "train_df['OnlineBackup'] = train_df['OnlineBackup'].replace('No internet service','No')\n",
    "train_df['DeviceProtection'] = train_df['DeviceProtection'].replace('No internet service','No')\n",
    "train_df['TechSupport'] = train_df['TechSupport'].replace('No internet service','No')\n",
    "train_df['StreamingTV'] = train_df['StreamingTV'].replace('No internet service','No')\n",
    "train_df['StreamingMovies'] = train_df['StreamingMovies'].replace('No internet service','No')"
   ]
  },
  {
   "cell_type": "code",
   "execution_count": 227,
   "id": "11ba3563-5469-4aa3-8cd5-9e363b798e6c",
   "metadata": {},
   "outputs": [
    {
     "data": {
      "text/html": [
       "<div>\n",
       "<style scoped>\n",
       "    .dataframe tbody tr th:only-of-type {\n",
       "        vertical-align: middle;\n",
       "    }\n",
       "\n",
       "    .dataframe tbody tr th {\n",
       "        vertical-align: top;\n",
       "    }\n",
       "\n",
       "    .dataframe thead th {\n",
       "        text-align: right;\n",
       "    }\n",
       "</style>\n",
       "<table border=\"1\" class=\"dataframe\">\n",
       "  <thead>\n",
       "    <tr style=\"text-align: right;\">\n",
       "      <th></th>\n",
       "      <th>customerID</th>\n",
       "      <th>gender</th>\n",
       "      <th>Partner</th>\n",
       "      <th>Dependents</th>\n",
       "      <th>PhoneService</th>\n",
       "      <th>MultipleLines</th>\n",
       "      <th>InternetService</th>\n",
       "      <th>OnlineSecurity</th>\n",
       "      <th>OnlineBackup</th>\n",
       "      <th>DeviceProtection</th>\n",
       "      <th>TechSupport</th>\n",
       "      <th>StreamingTV</th>\n",
       "      <th>StreamingMovies</th>\n",
       "      <th>Contract</th>\n",
       "      <th>PaperlessBilling</th>\n",
       "      <th>PaymentMethod</th>\n",
       "      <th>Churn</th>\n",
       "    </tr>\n",
       "  </thead>\n",
       "  <tbody>\n",
       "    <tr>\n",
       "      <th>count</th>\n",
       "      <td>5634</td>\n",
       "      <td>5634</td>\n",
       "      <td>5634</td>\n",
       "      <td>5634</td>\n",
       "      <td>5634</td>\n",
       "      <td>5634</td>\n",
       "      <td>5634</td>\n",
       "      <td>5634</td>\n",
       "      <td>5634</td>\n",
       "      <td>5634</td>\n",
       "      <td>5634</td>\n",
       "      <td>5634</td>\n",
       "      <td>5634</td>\n",
       "      <td>5634</td>\n",
       "      <td>5634</td>\n",
       "      <td>5634</td>\n",
       "      <td>5634</td>\n",
       "    </tr>\n",
       "    <tr>\n",
       "      <th>unique</th>\n",
       "      <td>5634</td>\n",
       "      <td>2</td>\n",
       "      <td>2</td>\n",
       "      <td>2</td>\n",
       "      <td>2</td>\n",
       "      <td>2</td>\n",
       "      <td>3</td>\n",
       "      <td>2</td>\n",
       "      <td>2</td>\n",
       "      <td>2</td>\n",
       "      <td>2</td>\n",
       "      <td>2</td>\n",
       "      <td>2</td>\n",
       "      <td>3</td>\n",
       "      <td>2</td>\n",
       "      <td>4</td>\n",
       "      <td>2</td>\n",
       "    </tr>\n",
       "    <tr>\n",
       "      <th>top</th>\n",
       "      <td>7954-MLBUN</td>\n",
       "      <td>Male</td>\n",
       "      <td>No</td>\n",
       "      <td>No</td>\n",
       "      <td>Yes</td>\n",
       "      <td>No</td>\n",
       "      <td>Fiber optic</td>\n",
       "      <td>No</td>\n",
       "      <td>No</td>\n",
       "      <td>No</td>\n",
       "      <td>No</td>\n",
       "      <td>No</td>\n",
       "      <td>No</td>\n",
       "      <td>Month-to-month</td>\n",
       "      <td>Yes</td>\n",
       "      <td>Electronic check</td>\n",
       "      <td>No</td>\n",
       "    </tr>\n",
       "    <tr>\n",
       "      <th>freq</th>\n",
       "      <td>1</td>\n",
       "      <td>2838</td>\n",
       "      <td>2932</td>\n",
       "      <td>3968</td>\n",
       "      <td>5087</td>\n",
       "      <td>3247</td>\n",
       "      <td>2479</td>\n",
       "      <td>4022</td>\n",
       "      <td>3719</td>\n",
       "      <td>3694</td>\n",
       "      <td>4002</td>\n",
       "      <td>3467</td>\n",
       "      <td>3434</td>\n",
       "      <td>3104</td>\n",
       "      <td>3321</td>\n",
       "      <td>1893</td>\n",
       "      <td>4113</td>\n",
       "    </tr>\n",
       "  </tbody>\n",
       "</table>\n",
       "</div>"
      ],
      "text/plain": [
       "        customerID gender Partner Dependents PhoneService MultipleLines  \\\n",
       "count         5634   5634    5634       5634         5634          5634   \n",
       "unique        5634      2       2          2            2             2   \n",
       "top     7954-MLBUN   Male      No         No          Yes            No   \n",
       "freq             1   2838    2932       3968         5087          3247   \n",
       "\n",
       "       InternetService OnlineSecurity OnlineBackup DeviceProtection  \\\n",
       "count             5634           5634         5634             5634   \n",
       "unique               3              2            2                2   \n",
       "top        Fiber optic             No           No               No   \n",
       "freq              2479           4022         3719             3694   \n",
       "\n",
       "       TechSupport StreamingTV StreamingMovies        Contract  \\\n",
       "count         5634        5634            5634            5634   \n",
       "unique           2           2               2               3   \n",
       "top             No          No              No  Month-to-month   \n",
       "freq          4002        3467            3434            3104   \n",
       "\n",
       "       PaperlessBilling     PaymentMethod Churn  \n",
       "count              5634              5634  5634  \n",
       "unique                2                 4     2  \n",
       "top                 Yes  Electronic check    No  \n",
       "freq               3321              1893  4113  "
      ]
     },
     "execution_count": 227,
     "metadata": {},
     "output_type": "execute_result"
    }
   ],
   "source": [
    "train_df.describe(include = 'O')"
   ]
  },
  {
   "cell_type": "markdown",
   "id": "4813ebc2-c3c6-4f7f-8c41-79faf6a358d3",
   "metadata": {},
   "source": [
    "> **Testing Dataset** - For the **test_df** dataset the following features are having redundant options - **('No phone service' and 'No internet service')** hence reducing the total no. of categories for each of these features to  just 2 categories **(Yes, No)**."
   ]
  },
  {
   "cell_type": "code",
   "execution_count": 228,
   "id": "2bab121a-ed81-46b6-9293-599aa4dfb0e1",
   "metadata": {},
   "outputs": [],
   "source": [
    "test_df['MultipleLines'] = test_df['MultipleLines'].replace('No phone service','No')\n",
    "test_df['OnlineSecurity'] = test_df['OnlineSecurity'].replace('No internet service','No')\n",
    "test_df['OnlineBackup'] = test_df['OnlineBackup'].replace('No internet service','No')\n",
    "test_df['DeviceProtection'] = test_df['DeviceProtection'].replace('No internet service','No')\n",
    "test_df['TechSupport'] = test_df['TechSupport'].replace('No internet service','No')\n",
    "test_df['StreamingTV'] = test_df['StreamingTV'].replace('No internet service','No')\n",
    "test_df['StreamingMovies'] = test_df['StreamingMovies'].replace('No internet service','No')"
   ]
  },
  {
   "cell_type": "code",
   "execution_count": 229,
   "id": "e599bbaa-130c-43fb-a014-1c1fd994588c",
   "metadata": {},
   "outputs": [
    {
     "data": {
      "text/html": [
       "<div>\n",
       "<style scoped>\n",
       "    .dataframe tbody tr th:only-of-type {\n",
       "        vertical-align: middle;\n",
       "    }\n",
       "\n",
       "    .dataframe tbody tr th {\n",
       "        vertical-align: top;\n",
       "    }\n",
       "\n",
       "    .dataframe thead th {\n",
       "        text-align: right;\n",
       "    }\n",
       "</style>\n",
       "<table border=\"1\" class=\"dataframe\">\n",
       "  <thead>\n",
       "    <tr style=\"text-align: right;\">\n",
       "      <th></th>\n",
       "      <th>customerID</th>\n",
       "      <th>gender</th>\n",
       "      <th>Partner</th>\n",
       "      <th>Dependents</th>\n",
       "      <th>PhoneService</th>\n",
       "      <th>MultipleLines</th>\n",
       "      <th>InternetService</th>\n",
       "      <th>OnlineSecurity</th>\n",
       "      <th>OnlineBackup</th>\n",
       "      <th>DeviceProtection</th>\n",
       "      <th>TechSupport</th>\n",
       "      <th>StreamingTV</th>\n",
       "      <th>StreamingMovies</th>\n",
       "      <th>Contract</th>\n",
       "      <th>PaperlessBilling</th>\n",
       "      <th>PaymentMethod</th>\n",
       "    </tr>\n",
       "  </thead>\n",
       "  <tbody>\n",
       "    <tr>\n",
       "      <th>count</th>\n",
       "      <td>1409</td>\n",
       "      <td>1409</td>\n",
       "      <td>1409</td>\n",
       "      <td>1409</td>\n",
       "      <td>1409</td>\n",
       "      <td>1409</td>\n",
       "      <td>1409</td>\n",
       "      <td>1409</td>\n",
       "      <td>1409</td>\n",
       "      <td>1409</td>\n",
       "      <td>1409</td>\n",
       "      <td>1409</td>\n",
       "      <td>1409</td>\n",
       "      <td>1409</td>\n",
       "      <td>1409</td>\n",
       "      <td>1409</td>\n",
       "    </tr>\n",
       "    <tr>\n",
       "      <th>unique</th>\n",
       "      <td>1409</td>\n",
       "      <td>2</td>\n",
       "      <td>2</td>\n",
       "      <td>2</td>\n",
       "      <td>2</td>\n",
       "      <td>2</td>\n",
       "      <td>3</td>\n",
       "      <td>2</td>\n",
       "      <td>2</td>\n",
       "      <td>2</td>\n",
       "      <td>2</td>\n",
       "      <td>2</td>\n",
       "      <td>2</td>\n",
       "      <td>3</td>\n",
       "      <td>2</td>\n",
       "      <td>4</td>\n",
       "    </tr>\n",
       "    <tr>\n",
       "      <th>top</th>\n",
       "      <td>8285-ABVLB</td>\n",
       "      <td>Male</td>\n",
       "      <td>No</td>\n",
       "      <td>No</td>\n",
       "      <td>Yes</td>\n",
       "      <td>No</td>\n",
       "      <td>Fiber optic</td>\n",
       "      <td>No</td>\n",
       "      <td>No</td>\n",
       "      <td>No</td>\n",
       "      <td>No</td>\n",
       "      <td>No</td>\n",
       "      <td>No</td>\n",
       "      <td>Month-to-month</td>\n",
       "      <td>Yes</td>\n",
       "      <td>Electronic check</td>\n",
       "    </tr>\n",
       "    <tr>\n",
       "      <th>freq</th>\n",
       "      <td>1</td>\n",
       "      <td>717</td>\n",
       "      <td>709</td>\n",
       "      <td>965</td>\n",
       "      <td>1274</td>\n",
       "      <td>825</td>\n",
       "      <td>617</td>\n",
       "      <td>1002</td>\n",
       "      <td>895</td>\n",
       "      <td>927</td>\n",
       "      <td>997</td>\n",
       "      <td>869</td>\n",
       "      <td>877</td>\n",
       "      <td>771</td>\n",
       "      <td>850</td>\n",
       "      <td>472</td>\n",
       "    </tr>\n",
       "  </tbody>\n",
       "</table>\n",
       "</div>"
      ],
      "text/plain": [
       "        customerID gender Partner Dependents PhoneService MultipleLines  \\\n",
       "count         1409   1409    1409       1409         1409          1409   \n",
       "unique        1409      2       2          2            2             2   \n",
       "top     8285-ABVLB   Male      No         No          Yes            No   \n",
       "freq             1    717     709        965         1274           825   \n",
       "\n",
       "       InternetService OnlineSecurity OnlineBackup DeviceProtection  \\\n",
       "count             1409           1409         1409             1409   \n",
       "unique               3              2            2                2   \n",
       "top        Fiber optic             No           No               No   \n",
       "freq               617           1002          895              927   \n",
       "\n",
       "       TechSupport StreamingTV StreamingMovies        Contract  \\\n",
       "count         1409        1409            1409            1409   \n",
       "unique           2           2               2               3   \n",
       "top             No          No              No  Month-to-month   \n",
       "freq           997         869             877             771   \n",
       "\n",
       "       PaperlessBilling     PaymentMethod  \n",
       "count              1409              1409  \n",
       "unique                2                 4  \n",
       "top                 Yes  Electronic check  \n",
       "freq                850               472  "
      ]
     },
     "execution_count": 229,
     "metadata": {},
     "output_type": "execute_result"
    }
   ],
   "source": [
    "test_df.describe(include = 'O')"
   ]
  },
  {
   "cell_type": "markdown",
   "id": "8cd8726f-092c-4e5a-93b1-a56eecdc4e91",
   "metadata": {},
   "source": [
    "> **Train Dataset**   \n",
    "   - The values in **tenure** column have floating values in months hence we will use **Feature Engineering** to convert these values in the year ranges.\n",
    "   - Range of column- **tenure** ==> Min = 0 , Max = 72. \n",
    "   - Also need tp convert its datatype from **'int64' to 'str'**."
   ]
  },
  {
   "cell_type": "code",
   "execution_count": 230,
   "id": "dfb3396f-3cd0-4fd0-868c-769fe2adc998",
   "metadata": {},
   "outputs": [],
   "source": [
    "bins = np.arange(0, 76, 12)\n",
    "labels = ['0-1 year', '1-2 year', '2-3 year', '3-4 year','4-5 year','5-6 year']\n",
    "train_df['tenure'] = pd.cut(train_df['tenure'], bins = bins, labels = labels )"
   ]
  },
  {
   "cell_type": "code",
   "execution_count": 231,
   "id": "53d49ae1-199e-46f0-9ecb-74526773edf4",
   "metadata": {},
   "outputs": [
    {
     "data": {
      "text/plain": [
       "0       0-1 year\n",
       "1       3-4 year\n",
       "2       5-6 year\n",
       "3       5-6 year\n",
       "4       2-3 year\n",
       "          ...   \n",
       "5629    0-1 year\n",
       "5630    4-5 year\n",
       "5631    2-3 year\n",
       "5632    0-1 year\n",
       "5633    1-2 year\n",
       "Name: tenure, Length: 5634, dtype: category\n",
       "Categories (6, object): ['0-1 year' < '1-2 year' < '2-3 year' < '3-4 year' < '4-5 year' < '5-6 year']"
      ]
     },
     "execution_count": 231,
     "metadata": {},
     "output_type": "execute_result"
    }
   ],
   "source": [
    "train_df['tenure']"
   ]
  },
  {
   "cell_type": "code",
   "execution_count": 233,
   "id": "ab0c36ad-e29f-4f08-a4be-5521326a7c41",
   "metadata": {},
   "outputs": [],
   "source": [
    "# Need to convert the dtype from 'int64' to 'str'. \n",
    "train_df['tenure'] = train_df['tenure'].astype(np.object)"
   ]
  },
  {
   "cell_type": "markdown",
   "id": "bed36e5c-f363-4813-a2bd-2c5b80854115",
   "metadata": {},
   "source": [
    "> **Test Dataset**   \n",
    "   - The values in **tenure** column have floating values in months hence we will use **Feature Engineering** to convert these values in the year ranges.\n",
    "   - Range of column- **tenure** ==> Min = 0 , Max = 72.\n",
    "   - Also need tp convert its datatype from **'int64' to 'str'**."
   ]
  },
  {
   "cell_type": "code",
   "execution_count": 234,
   "id": "d09952e6-f4fd-470d-81ac-8d7bc34a52c6",
   "metadata": {},
   "outputs": [],
   "source": [
    "bins = np.arange(0, 76, 12)\n",
    "labels = ['0-1 year', '1-2 year', '2-3 year', '3-4 year','4-5 year','5-6 year']\n",
    "test_df['tenure'] = pd.cut(test_df['tenure'], bins = bins, labels = labels )"
   ]
  },
  {
   "cell_type": "code",
   "execution_count": 235,
   "id": "40cd522d-8275-46b5-99ad-14cb3152f403",
   "metadata": {},
   "outputs": [
    {
     "data": {
      "text/plain": [
       "0       3-4 year\n",
       "1       5-6 year\n",
       "2       0-1 year\n",
       "3       0-1 year\n",
       "4       0-1 year\n",
       "          ...   \n",
       "1404    2-3 year\n",
       "1405    1-2 year\n",
       "1406    5-6 year\n",
       "1407    5-6 year\n",
       "1408    1-2 year\n",
       "Name: tenure, Length: 1409, dtype: category\n",
       "Categories (6, object): ['0-1 year' < '1-2 year' < '2-3 year' < '3-4 year' < '4-5 year' < '5-6 year']"
      ]
     },
     "execution_count": 235,
     "metadata": {},
     "output_type": "execute_result"
    }
   ],
   "source": [
    "test_df['tenure']"
   ]
  },
  {
   "cell_type": "code",
   "execution_count": 236,
   "id": "8527933b-ffbb-4733-bbe7-b7ec2efea8af",
   "metadata": {},
   "outputs": [],
   "source": [
    "# Need to convert the dtype from 'int64' to 'str'. \n",
    "test_df['tenure'] = test_df['tenure'].astype(np.object)"
   ]
  },
  {
   "cell_type": "code",
   "execution_count": 237,
   "id": "7e35d154-4fce-4037-8481-61d00821a973",
   "metadata": {},
   "outputs": [
    {
     "name": "stdout",
     "output_type": "stream",
     "text": [
      "<class 'pandas.core.frame.DataFrame'>\n",
      "RangeIndex: 5634 entries, 0 to 5633\n",
      "Data columns (total 21 columns):\n",
      " #   Column            Non-Null Count  Dtype  \n",
      "---  ------            --------------  -----  \n",
      " 0   customerID        5634 non-null   object \n",
      " 1   gender            5634 non-null   object \n",
      " 2   SeniorCitizen     5634 non-null   int64  \n",
      " 3   Partner           5634 non-null   object \n",
      " 4   Dependents        5634 non-null   object \n",
      " 5   tenure            5626 non-null   object \n",
      " 6   PhoneService      5634 non-null   object \n",
      " 7   MultipleLines     5634 non-null   object \n",
      " 8   InternetService   5634 non-null   object \n",
      " 9   OnlineSecurity    5634 non-null   object \n",
      " 10  OnlineBackup      5634 non-null   object \n",
      " 11  DeviceProtection  5634 non-null   object \n",
      " 12  TechSupport       5634 non-null   object \n",
      " 13  StreamingTV       5634 non-null   object \n",
      " 14  StreamingMovies   5634 non-null   object \n",
      " 15  Contract          5634 non-null   object \n",
      " 16  PaperlessBilling  5634 non-null   object \n",
      " 17  PaymentMethod     5634 non-null   object \n",
      " 18  MonthlyCharges    5634 non-null   float64\n",
      " 19  TotalCharges      5634 non-null   float64\n",
      " 20  Churn             5634 non-null   object \n",
      "dtypes: float64(2), int64(1), object(18)\n",
      "memory usage: 924.5+ KB\n",
      "<class 'pandas.core.frame.DataFrame'>\n",
      "RangeIndex: 1409 entries, 0 to 1408\n",
      "Data columns (total 20 columns):\n",
      " #   Column            Non-Null Count  Dtype  \n",
      "---  ------            --------------  -----  \n",
      " 0   customerID        1409 non-null   object \n",
      " 1   gender            1409 non-null   object \n",
      " 2   SeniorCitizen     1409 non-null   int64  \n",
      " 3   Partner           1409 non-null   object \n",
      " 4   Dependents        1409 non-null   object \n",
      " 5   tenure            1406 non-null   object \n",
      " 6   PhoneService      1409 non-null   object \n",
      " 7   MultipleLines     1409 non-null   object \n",
      " 8   InternetService   1409 non-null   object \n",
      " 9   OnlineSecurity    1409 non-null   object \n",
      " 10  OnlineBackup      1409 non-null   object \n",
      " 11  DeviceProtection  1409 non-null   object \n",
      " 12  TechSupport       1409 non-null   object \n",
      " 13  StreamingTV       1409 non-null   object \n",
      " 14  StreamingMovies   1409 non-null   object \n",
      " 15  Contract          1409 non-null   object \n",
      " 16  PaperlessBilling  1409 non-null   object \n",
      " 17  PaymentMethod     1409 non-null   object \n",
      " 18  MonthlyCharges    1409 non-null   float64\n",
      " 19  TotalCharges      1409 non-null   float64\n",
      "dtypes: float64(2), int64(1), object(17)\n",
      "memory usage: 220.3+ KB\n"
     ]
    }
   ],
   "source": [
    "train_df.info()\n",
    "test_df.info()"
   ]
  },
  {
   "cell_type": "code",
   "execution_count": 238,
   "id": "49778e06-22c7-4b44-bf6a-8f6305fd6174",
   "metadata": {},
   "outputs": [
    {
     "data": {
      "text/html": [
       "<div>\n",
       "<style scoped>\n",
       "    .dataframe tbody tr th:only-of-type {\n",
       "        vertical-align: middle;\n",
       "    }\n",
       "\n",
       "    .dataframe tbody tr th {\n",
       "        vertical-align: top;\n",
       "    }\n",
       "\n",
       "    .dataframe thead th {\n",
       "        text-align: right;\n",
       "    }\n",
       "</style>\n",
       "<table border=\"1\" class=\"dataframe\">\n",
       "  <thead>\n",
       "    <tr style=\"text-align: right;\">\n",
       "      <th></th>\n",
       "      <th>SeniorCitizen</th>\n",
       "      <th>MonthlyCharges</th>\n",
       "      <th>TotalCharges</th>\n",
       "    </tr>\n",
       "  </thead>\n",
       "  <tbody>\n",
       "    <tr>\n",
       "      <th>SeniorCitizen</th>\n",
       "      <td>1.000000</td>\n",
       "      <td>0.225234</td>\n",
       "      <td>0.109910</td>\n",
       "    </tr>\n",
       "    <tr>\n",
       "      <th>MonthlyCharges</th>\n",
       "      <td>0.225234</td>\n",
       "      <td>1.000000</td>\n",
       "      <td>0.650337</td>\n",
       "    </tr>\n",
       "    <tr>\n",
       "      <th>TotalCharges</th>\n",
       "      <td>0.109910</td>\n",
       "      <td>0.650337</td>\n",
       "      <td>1.000000</td>\n",
       "    </tr>\n",
       "  </tbody>\n",
       "</table>\n",
       "</div>"
      ],
      "text/plain": [
       "                SeniorCitizen  MonthlyCharges  TotalCharges\n",
       "SeniorCitizen        1.000000        0.225234      0.109910\n",
       "MonthlyCharges       0.225234        1.000000      0.650337\n",
       "TotalCharges         0.109910        0.650337      1.000000"
      ]
     },
     "execution_count": 238,
     "metadata": {},
     "output_type": "execute_result"
    }
   ],
   "source": [
    "train_df.corr()"
   ]
  },
  {
   "cell_type": "code",
   "execution_count": 239,
   "id": "ecd1bb14-f38e-4337-ab15-6de196ca4128",
   "metadata": {},
   "outputs": [
    {
     "data": {
      "text/plain": [
       "SeniorCitizen     1.836455\n",
       "MonthlyCharges   -0.223487\n",
       "TotalCharges      0.955299\n",
       "dtype: float64"
      ]
     },
     "execution_count": 239,
     "metadata": {},
     "output_type": "execute_result"
    }
   ],
   "source": [
    "train_df.skew()"
   ]
  },
  {
   "cell_type": "code",
   "execution_count": 240,
   "id": "179d9b93-24ca-4f46-8391-4964f3ce76a7",
   "metadata": {},
   "outputs": [
    {
     "data": {
      "text/html": [
       "<div>\n",
       "<style scoped>\n",
       "    .dataframe tbody tr th:only-of-type {\n",
       "        vertical-align: middle;\n",
       "    }\n",
       "\n",
       "    .dataframe tbody tr th {\n",
       "        vertical-align: top;\n",
       "    }\n",
       "\n",
       "    .dataframe thead th {\n",
       "        text-align: right;\n",
       "    }\n",
       "</style>\n",
       "<table border=\"1\" class=\"dataframe\">\n",
       "  <thead>\n",
       "    <tr style=\"text-align: right;\">\n",
       "      <th></th>\n",
       "      <th>SeniorCitizen</th>\n",
       "      <th>MonthlyCharges</th>\n",
       "      <th>TotalCharges</th>\n",
       "    </tr>\n",
       "  </thead>\n",
       "  <tbody>\n",
       "    <tr>\n",
       "      <th>SeniorCitizen</th>\n",
       "      <td>1.000000</td>\n",
       "      <td>0.199972</td>\n",
       "      <td>0.072447</td>\n",
       "    </tr>\n",
       "    <tr>\n",
       "      <th>MonthlyCharges</th>\n",
       "      <td>0.199972</td>\n",
       "      <td>1.000000</td>\n",
       "      <td>0.651015</td>\n",
       "    </tr>\n",
       "    <tr>\n",
       "      <th>TotalCharges</th>\n",
       "      <td>0.072447</td>\n",
       "      <td>0.651015</td>\n",
       "      <td>1.000000</td>\n",
       "    </tr>\n",
       "  </tbody>\n",
       "</table>\n",
       "</div>"
      ],
      "text/plain": [
       "                SeniorCitizen  MonthlyCharges  TotalCharges\n",
       "SeniorCitizen        1.000000        0.199972      0.072447\n",
       "MonthlyCharges       0.199972        1.000000      0.651015\n",
       "TotalCharges         0.072447        0.651015      1.000000"
      ]
     },
     "execution_count": 240,
     "metadata": {},
     "output_type": "execute_result"
    }
   ],
   "source": [
    "test_df.corr()"
   ]
  },
  {
   "cell_type": "code",
   "execution_count": 241,
   "id": "4bab862d-515c-4a16-8232-a066cb55d1a0",
   "metadata": {},
   "outputs": [
    {
     "data": {
      "text/plain": [
       "SeniorCitizen     1.824350\n",
       "MonthlyCharges   -0.208853\n",
       "TotalCharges      0.991778\n",
       "dtype: float64"
      ]
     },
     "execution_count": 241,
     "metadata": {},
     "output_type": "execute_result"
    }
   ],
   "source": [
    "test_df.skew()"
   ]
  },
  {
   "cell_type": "code",
   "execution_count": 242,
   "id": "456b6f6e-6336-4387-848f-962b52f57e63",
   "metadata": {},
   "outputs": [
    {
     "data": {
      "text/plain": [
       "<seaborn.axisgrid.PairGrid at 0x16c3ed90>"
      ]
     },
     "execution_count": 242,
     "metadata": {},
     "output_type": "execute_result"
    },
    {
     "data": {
      "image/png": "[encoded data removed]",
      "text/plain": [
       "<Figure size 540x540 with 12 Axes>"
      ]
     },
     "metadata": {
      "needs_background": "light"
     },
     "output_type": "display_data"
    }
   ],
   "source": [
    "sns.pairplot(train_df)"
   ]
  },
  {
   "cell_type": "code",
   "execution_count": 243,
   "id": "319f760e-8ac3-46fb-a770-733bb9cce581",
   "metadata": {},
   "outputs": [
    {
     "data": {
      "text/plain": [
       "<AxesSubplot:>"
      ]
     },
     "execution_count": 243,
     "metadata": {},
     "output_type": "execute_result"
    },
    {
     "data": {
      "image/png": "[encoded data removed]",
      "text/plain": [
       "<Figure size 1080x504 with 2 Axes>"
      ]
     },
     "metadata": {
      "needs_background": "light"
     },
     "output_type": "display_data"
    }
   ],
   "source": [
    "figure = plt.figure(figsize=[15, 7])\n",
    "sns.heatmap(train_df.corr(), annot = True, cmap=\"YlGnBu\")"
   ]
  },
  {
   "cell_type": "code",
   "execution_count": null,
   "id": "7a963c4c-42ae-4c72-97d6-f953d87e89e8",
   "metadata": {},
   "outputs": [],
   "source": []
  },
  {
   "cell_type": "markdown",
   "id": "44baa827-b53f-46c0-944a-08ae8a3c8f83",
   "metadata": {},
   "source": [
    "**Observations:**\n",
    "> For both Train and Test Datasets:\n",
    "\n",
    " - There is positive correlation between the **TotalCharges** with **MonthlyCharges** columns.\n",
    " - There is low positive correlation between the **MonthlyCharges**  and **SeniorCitizen** column. Higher the monthly subscription charges are less preferred by Senior Citizens..\n",
    " - It is highly skewed data for column - **SeniorCitizen** hence needs to be scaled using Standard Scaler menthod."
   ]
  },
  {
   "cell_type": "markdown",
   "id": "3ad8f26f-485c-4d7f-a301-d71b0e516885",
   "metadata": {},
   "source": [
    "# Exploratory Data Analysis"
   ]
  },
  {
   "cell_type": "markdown",
   "id": "74a931c4-91cd-4afe-98c7-58b42de4fbb6",
   "metadata": {},
   "source": [
    "**Question 1: What is the frequency of Customer Churn?**"
   ]
  },
  {
   "cell_type": "code",
   "execution_count": 244,
   "id": "ff76d52c-4861-4a9a-92cd-011644774c84",
   "metadata": {},
   "outputs": [
    {
     "data": {
      "text/plain": [
       "No     4113\n",
       "Yes    1521\n",
       "Name: Churn, dtype: int64"
      ]
     },
     "execution_count": 244,
     "metadata": {},
     "output_type": "execute_result"
    }
   ],
   "source": [
    "train_df['Churn'].value_counts()"
   ]
  },
  {
   "cell_type": "code",
   "execution_count": 122,
   "id": "ba86a976-a973-443b-bcbb-37668c565a2a",
   "metadata": {},
   "outputs": [
    {
     "data": {
      "text/plain": [
       "No     73.003195\n",
       "Yes    26.996805\n",
       "Name: Churn, dtype: float64"
      ]
     },
     "execution_count": 122,
     "metadata": {},
     "output_type": "execute_result"
    }
   ],
   "source": [
    "train_df['Churn'].value_counts()/train_df['Churn'].shape[0] *100"
   ]
  },
  {
   "cell_type": "code",
   "execution_count": 245,
   "id": "5fc326f3-c9d3-43a9-a7fb-bfcdf13d452c",
   "metadata": {},
   "outputs": [
    {
     "data": {
      "text/plain": [
       "Text(0.5, 1.0, 'Frequency Distribution')"
      ]
     },
     "execution_count": 245,
     "metadata": {},
     "output_type": "execute_result"
    },
    {
     "data": {
      "image/png": "[encoded data removed]",
      "text/plain": [
       "<Figure size 648x504 with 1 Axes>"
      ]
     },
     "metadata": {
      "needs_background": "light"
     },
     "output_type": "display_data"
    }
   ],
   "source": [
    "fig = plt.figure(figsize = [9, 7])\n",
    "train_df['Churn'].value_counts().plot.bar(color='#1B9E77')\n",
    "plt.xticks(rotation=0, size=12)\n",
    "plt.xlabel(xlabel = 'Churn', size = 14)\n",
    "plt.ylabel(ylabel = 'Frequency', size = 14)\n",
    "plt.title(label = 'Frequency Distribution', size = 14)"
   ]
  },
  {
   "cell_type": "markdown",
   "id": "748ebf4d-337d-4db9-95eb-b46a6e6b2541",
   "metadata": {},
   "source": [
    "**Observation:**\n",
    "\n",
    "- We can observe that there are lesser number of people (**26.9 %**) that **Churned** from the company.\n"
   ]
  },
  {
   "cell_type": "markdown",
   "id": "9a5f3ec5-59c2-4ecc-88ca-2fd7bb14cc3e",
   "metadata": {},
   "source": [
    "**Question 2: What is the ratio of the gender category of Customers?**"
   ]
  },
  {
   "cell_type": "code",
   "execution_count": 246,
   "id": "6aacf1e0-977a-4c88-963c-96c5c9bf9df1",
   "metadata": {},
   "outputs": [
    {
     "data": {
      "text/plain": [
       "<AxesSubplot:ylabel='gender'>"
      ]
     },
     "execution_count": 246,
     "metadata": {},
     "output_type": "execute_result"
    },
    {
     "data": {
      "image/png": "[encoded data removed]",
      "text/plain": [
       "<Figure size 432x288 with 1 Axes>"
      ]
     },
     "metadata": {},
     "output_type": "display_data"
    }
   ],
   "source": [
    "train_df['gender'].value_counts().plot.pie( autopct = \"%.2f%%\", colors = ['orange', 'pink'])"
   ]
  },
  {
   "cell_type": "markdown",
   "id": "f64e81bd-2c8a-41e1-b3e0-9eef0eca5403",
   "metadata": {},
   "source": [
    "**Observation:**\n",
    "\n",
    "- We can observe that there is a clear balance between males customers (**50.37 %**) and female customers (**49.63 %**) using the company service."
   ]
  },
  {
   "cell_type": "markdown",
   "id": "1a6cac1c-b2c5-4fdf-83dc-ee6d2251de98",
   "metadata": {},
   "source": [
    "**Question 3: What is the relation between Customer Churn and gender?**"
   ]
  },
  {
   "cell_type": "code",
   "execution_count": 247,
   "id": "3804fbe8-1731-4a5d-9977-432b1e4ea626",
   "metadata": {},
   "outputs": [
    {
     "data": {
      "text/plain": [
       "<AxesSubplot:xlabel='gender', ylabel='count'>"
      ]
     },
     "execution_count": 247,
     "metadata": {},
     "output_type": "execute_result"
    },
    {
     "data": {
      "image/png": "[encoded data removed]",
      "text/plain": [
       "<Figure size 432x288 with 1 Axes>"
      ]
     },
     "metadata": {
      "needs_background": "light"
     },
     "output_type": "display_data"
    }
   ],
   "source": [
    "sns.countplot(data=train_df,x='gender',hue='Churn')"
   ]
  },
  {
   "cell_type": "markdown",
   "id": "865f884e-8237-455a-bc6f-81c3dbef00fb",
   "metadata": {},
   "source": [
    "**Observation:**\n",
    " - We can observe that there is not much difference in churn rate based on gender."
   ]
  },
  {
   "cell_type": "markdown",
   "id": "86650d8e-054b-48f7-9cd5-2a9bd55f4e7d",
   "metadata": {},
   "source": [
    "**Question 4: What is the relation between Customer Churn and Senior Citizen?**"
   ]
  },
  {
   "cell_type": "code",
   "execution_count": 248,
   "id": "c03aef85-2649-4c06-ac0c-5ddaf801c054",
   "metadata": {},
   "outputs": [
    {
     "data": {
      "text/plain": [
       "<AxesSubplot:xlabel='SeniorCitizen', ylabel='count'>"
      ]
     },
     "execution_count": 248,
     "metadata": {},
     "output_type": "execute_result"
    },
    {
     "data": {
      "image/png": "[encoded data removed]",
      "text/plain": [
       "<Figure size 432x288 with 1 Axes>"
      ]
     },
     "metadata": {
      "needs_background": "light"
     },
     "output_type": "display_data"
    }
   ],
   "source": [
    "sns.countplot(data=train_df,x='SeniorCitizen',hue='Churn', palette = ['skyblue','green'])"
   ]
  },
  {
   "cell_type": "markdown",
   "id": "d26a0585-494d-410c-9776-014b812ba430",
   "metadata": {},
   "source": [
    "**Observation:**\n",
    " - We can observe that there are not many Senior Citizens using the company service. Their Churn rate is also insignificant"
   ]
  },
  {
   "cell_type": "markdown",
   "id": "625dffa5-5eb7-409b-83ab-2df1037fd702",
   "metadata": {},
   "source": [
    "**Question 5: What is the relation between Customer Churn and tenure?**"
   ]
  },
  {
   "cell_type": "code",
   "execution_count": 249,
   "id": "63ab998b-0c45-4e4f-ae3c-9229c62ac736",
   "metadata": {},
   "outputs": [
    {
     "data": {
      "text/plain": [
       "<AxesSubplot:xlabel='tenure', ylabel='count'>"
      ]
     },
     "execution_count": 249,
     "metadata": {},
     "output_type": "execute_result"
    },
    {
     "data": {
      "image/png": "[encoded data removed]",
      "text/plain": [
       "<Figure size 432x288 with 1 Axes>"
      ]
     },
     "metadata": {
      "needs_background": "light"
     },
     "output_type": "display_data"
    }
   ],
   "source": [
    "sns.countplot(data=train_df,x='tenure',hue='Churn', palette = ['skyblue','orange'])"
   ]
  },
  {
   "cell_type": "markdown",
   "id": "897344f6-d4ab-4386-864c-0b0f6aa59872",
   "metadata": {},
   "source": [
    "**Observations:**\n",
    "  - Customers who had just started using the company services or have been using it for at least **1 year** (**0-1 year**) are the ones who have churned the most out of all **tenure** categories.\n",
    "  - On the other hand, there are customers who have not churned and have been associated with the company for a period of **5-6 years**."
   ]
  },
  {
   "cell_type": "markdown",
   "id": "1e6f1ec0-7974-410f-ab3c-3e2658a31dcb",
   "metadata": {},
   "source": [
    "**\"Question 6: How does Customer's Partner affect the Churn rate?\"**"
   ]
  },
  {
   "cell_type": "code",
   "execution_count": 250,
   "id": "dfac2be6-27d4-4250-a996-3e14953222a2",
   "metadata": {},
   "outputs": [
    {
     "data": {
      "text/plain": [
       "<AxesSubplot:xlabel='Partner', ylabel='count'>"
      ]
     },
     "execution_count": 250,
     "metadata": {},
     "output_type": "execute_result"
    },
    {
     "data": {
      "image/png": "[encoded data removed]",
      "text/plain": [
       "<Figure size 432x288 with 1 Axes>"
      ]
     },
     "metadata": {
      "needs_background": "light"
     },
     "output_type": "display_data"
    }
   ],
   "source": [
    "sns.countplot(data=train_df,x='Partner',hue='Churn', palette = ['lightgreen','yellow'])"
   ]
  },
  {
   "cell_type": "markdown",
   "id": "9ba346cd-4d8f-4861-8403-c1a4623f7795",
   "metadata": {},
   "source": [
    "**Observations:**\n",
    "  - Proportion of Churn rate is low in case of customer having **Partner**. Hence the column - **Partner** affects Churn rate. "
   ]
  },
  {
   "cell_type": "markdown",
   "id": "786debdf-05b1-4bd7-ba66-0ac4b311975c",
   "metadata": {},
   "source": [
    "**\"Question 7: How does Customer's Dependents affect the Churn rate?\"**"
   ]
  },
  {
   "cell_type": "code",
   "execution_count": 251,
   "id": "7b78322e-3862-4d1c-ac4d-69ccabf0887d",
   "metadata": {},
   "outputs": [
    {
     "data": {
      "text/plain": [
       "<AxesSubplot:xlabel='Dependents', ylabel='count'>"
      ]
     },
     "execution_count": 251,
     "metadata": {},
     "output_type": "execute_result"
    },
    {
     "data": {
      "image/png": "[encoded data removed]",
      "text/plain": [
       "<Figure size 432x288 with 1 Axes>"
      ]
     },
     "metadata": {
      "needs_background": "light"
     },
     "output_type": "display_data"
    }
   ],
   "source": [
    "sns.countplot(data=train_df,x='Dependents',hue='Churn', palette = ['red','grey'])"
   ]
  },
  {
   "cell_type": "code",
   "execution_count": null,
   "id": "7b166700-f9fe-4bed-ac19-c96a6915131d",
   "metadata": {},
   "outputs": [],
   "source": [
    "# **Observations:**\n",
    "  - Proportion of Churn rate is low in case of customer having **Dependents**. Hence the column - **Dependents** affects Churn rate. "
   ]
  },
  {
   "cell_type": "markdown",
   "id": "0ade502e-45e0-447e-a24e-cb1b170be857",
   "metadata": {},
   "source": [
    "**\"Question 8: How does customer having Phone Service or not affect the Churn rate?\"**"
   ]
  },
  {
   "cell_type": "code",
   "execution_count": 252,
   "id": "0eeef6dc-1c91-4c43-aeb2-a662dd99d67f",
   "metadata": {},
   "outputs": [
    {
     "data": {
      "text/plain": [
       "<AxesSubplot:xlabel='PhoneService', ylabel='count'>"
      ]
     },
     "execution_count": 252,
     "metadata": {},
     "output_type": "execute_result"
    },
    {
     "data": {
      "image/png": "[encoded data removed]",
      "text/plain": [
       "<Figure size 432x288 with 1 Axes>"
      ]
     },
     "metadata": {
      "needs_background": "light"
     },
     "output_type": "display_data"
    }
   ],
   "source": [
    "sns.countplot(data=train_df,x='PhoneService',hue='Churn')"
   ]
  },
  {
   "cell_type": "markdown",
   "id": "f37097b0-c929-4889-9732-eda943a798d7",
   "metadata": {},
   "source": [
    "**Observations:**\n",
    "  - We find that there are very few customers who don't have Phone service.\n",
    "  - This factor does not have much impact on customer Churn."
   ]
  },
  {
   "cell_type": "markdown",
   "id": "16847286-49e2-4221-b649-2bcff26fa53d",
   "metadata": {},
   "source": [
    "**\"Question 9: How does customer having Internet Service or not affect the Churn rate?\"**"
   ]
  },
  {
   "cell_type": "code",
   "execution_count": 253,
   "id": "00905d7a-131e-4cd7-a022-6d360ff40c40",
   "metadata": {},
   "outputs": [
    {
     "data": {
      "text/plain": [
       "<AxesSubplot:xlabel='InternetService', ylabel='count'>"
      ]
     },
     "execution_count": 253,
     "metadata": {},
     "output_type": "execute_result"
    },
    {
     "data": {
      "image/png": "[encoded data removed]",
      "text/plain": [
       "<Figure size 432x288 with 1 Axes>"
      ]
     },
     "metadata": {
      "needs_background": "light"
     },
     "output_type": "display_data"
    }
   ],
   "source": [
    "# Let's find the indidividual count of the types of Internet Service used by customer.\n",
    "sns.countplot(data=train_df,x='InternetService')"
   ]
  },
  {
   "cell_type": "code",
   "execution_count": 254,
   "id": "b84554d3-9969-4dcc-bd87-53b0a893d655",
   "metadata": {},
   "outputs": [
    {
     "data": {
      "text/plain": [
       "<AxesSubplot:xlabel='InternetService', ylabel='count'>"
      ]
     },
     "execution_count": 254,
     "metadata": {},
     "output_type": "execute_result"
    },
    {
     "data": {
      "image/png": "[encoded data removed]",
      "text/plain": [
       "<Figure size 432x288 with 1 Axes>"
      ]
     },
     "metadata": {
      "needs_background": "light"
     },
     "output_type": "display_data"
    }
   ],
   "source": [
    "sns.countplot(data=train_df,x='InternetService',hue='Churn', palette = ['orange','green'])"
   ]
  },
  {
   "cell_type": "markdown",
   "id": "fdca02e2-fff1-43ac-9628-18fd681fd0b9",
   "metadata": {},
   "source": [
    "**Observations:**\n",
    "  - Most of the customers have been using **Fiber Optic** internet service as compared to other options. But we also find that the Churn is maximum for **Fiber Optic** users.\n",
    "  - Customers using the **DSL** internet service have been using company services the most by not churning.\n",
    "  - Thus Internet Service has impact on Churn."
   ]
  },
  {
   "cell_type": "markdown",
   "id": "e21cca2c-8329-4a3f-a0bd-539588962573",
   "metadata": {},
   "source": [
    "**\"Question 10: How do the company services options provided to customer affect the Churn rate?\"**"
   ]
  },
  {
   "cell_type": "markdown",
   "id": "90241ff6-7bdc-4794-9ae3-61015a7f1fdd",
   "metadata": {},
   "source": [
    " - Here we are going to test the impact of the following services-**OnlineSecurity, OnlineBackup, DeviceProtection, TechSupport, StreamingTV and StreamingMovies**."
   ]
  },
  {
   "cell_type": "code",
   "execution_count": 255,
   "id": "55c93a8a-1f9b-42c3-9bcc-ecac49291d9f",
   "metadata": {},
   "outputs": [
    {
     "data": {
      "image/png": "[encoded data removed]",
      "text/plain": [
       "<Figure size 1080x504 with 6 Axes>"
      ]
     },
     "metadata": {
      "needs_background": "light"
     },
     "output_type": "display_data"
    }
   ],
   "source": [
    "# Creating a custom figure size of 15 X 7 inches\n",
    "figure = plt.figure(figsize=[15, 7])\n",
    "\n",
    "###################################################\n",
    "# First Plot for OnlineSecurity vs Churn\n",
    "###################################################\n",
    "plt.subplot(2,3, 1)\n",
    "\n",
    "sns.countplot(data=train_df,x='OnlineSecurity',hue='Churn')\n",
    "\n",
    "###################################################\n",
    "# Second Plot for OnlineBackup vs Churn\n",
    "###################################################\n",
    "plt.subplot(2,3, 2)\n",
    "\n",
    "sns.countplot(data=train_df,x='OnlineBackup',hue='Churn')\n",
    "\n",
    "###################################################\n",
    "# Third Plot for DeviceProtection vs Churn\n",
    "###################################################\n",
    "plt.subplot(2,3, 3)\n",
    "\n",
    "sns.countplot(data=train_df,x='DeviceProtection',hue='Churn')\n",
    "\n",
    "###################################################\n",
    "# Fourth Plot for TechSupport vs Churn\n",
    "###################################################\n",
    "plt.subplot(2,3, 4)\n",
    "\n",
    "sns.countplot(data=train_df,x='TechSupport',hue='Churn', palette = ['skyblue','red'])\n",
    "\n",
    "###################################################\n",
    "# Fifth Plot for StreamingTV vs Churn\n",
    "###################################################\n",
    "plt.subplot(2,3, 5)\n",
    "\n",
    "sns.countplot(data=train_df,x='StreamingTV',hue='Churn', palette = ['skyblue','red'])\n",
    "\n",
    "###################################################\n",
    "# Sixth Plot for StreamingMovies vs Churn\n",
    "###################################################\n",
    "plt.subplot(2,3, 6)\n",
    "\n",
    "sns.countplot(data=train_df,x='StreamingMovies',hue='Churn', palette = ['skyblue','red'])\n",
    "\n",
    "###################################################\n",
    "# Display the output by rendering visual on the screen\n",
    "\n",
    "plt.show()\n",
    "##################################################\n"
   ]
  },
  {
   "cell_type": "markdown",
   "id": "3e8dcc28-c7d8-4166-938f-bc74a49bd87d",
   "metadata": {},
   "source": [
    "**Observations:**\n",
    "\n",
    "> **Row 1:**\n",
    "  - **Column 1 : OnlineSecurity**   - Proportion of Churn is **high** for customers with **No Online Security**.\n",
    "  - **Column 2 : OnlineBackup**     - Proportion of Churn is **high** for customers with **No Online Backup**.\n",
    "  - **Column 3 : DeviceProtection** - Proportion of Churn is **high** for customers with **No Device Protection**.\n",
    " \n",
    "> **Row 2:**\n",
    "  - **Column 1 : TechSupport**      - Proportion of Churn is **high** for customers with **No Technical Support**.\n",
    "  - **Column 2 : StreamingTV**      - Proportion of Churn is almost same for customers with or without **StreamingTV** service.\n",
    "  - **Column 3 : StreamingMovies**  - Proportion of Churn is almost same for customers with or without **StreamingMovies** service."
   ]
  },
  {
   "cell_type": "markdown",
   "id": "d1d76321-a486-4c71-8bbb-1e309939777f",
   "metadata": {},
   "source": [
    "**\"Question 11: How does the company contract with customer affect the Churn rate?\"**"
   ]
  },
  {
   "cell_type": "code",
   "execution_count": 256,
   "id": "edaeb3d1-2a09-453d-8563-1cc4de68c9f9",
   "metadata": {},
   "outputs": [
    {
     "data": {
      "text/plain": [
       "<AxesSubplot:xlabel='Contract', ylabel='count'>"
      ]
     },
     "execution_count": 256,
     "metadata": {},
     "output_type": "execute_result"
    },
    {
     "data": {
      "image/png": "[encoded data removed]",
      "text/plain": [
       "<Figure size 432x288 with 1 Axes>"
      ]
     },
     "metadata": {
      "needs_background": "light"
     },
     "output_type": "display_data"
    }
   ],
   "source": [
    "# Let's observe the types of the contract issued by the company to the customers.\n",
    "sns.countplot(data=train_df,x='Contract')"
   ]
  },
  {
   "cell_type": "code",
   "execution_count": 257,
   "id": "420ce58d-1e5d-4a84-9a78-3a21767bedb9",
   "metadata": {},
   "outputs": [
    {
     "data": {
      "text/plain": [
       "<AxesSubplot:xlabel='Contract', ylabel='count'>"
      ]
     },
     "execution_count": 257,
     "metadata": {},
     "output_type": "execute_result"
    },
    {
     "data": {
      "image/png": "[encoded data removed]",
      "text/plain": [
       "<Figure size 432x288 with 1 Axes>"
      ]
     },
     "metadata": {
      "needs_background": "light"
     },
     "output_type": "display_data"
    }
   ],
   "source": [
    "sns.countplot(data=train_df,x='Contract',hue='Churn')"
   ]
  },
  {
   "cell_type": "markdown",
   "id": "a2542b21-44e8-496a-9efc-7ee63e3842c9",
   "metadata": {},
   "source": [
    "**Observations:**\n",
    "  - Maximum customers have opted for **Month-to-month** contract with the company. But it is also found that the churn rate is **high** for these customers.\n",
    "  - Customers opting for **Two year** contract with company have shown the least Churn rate.\n",
    "  - Thus **Contract** has impact on Churn."
   ]
  },
  {
   "cell_type": "markdown",
   "id": "10304f9a-fe84-4950-bd48-ee2e3324f919",
   "metadata": {},
   "source": [
    "**\"Question 12: How are the PaymentMethod and PaperlessBilling related ?\"**"
   ]
  },
  {
   "cell_type": "code",
   "execution_count": 258,
   "id": "594c7343-fb4a-4b63-b64a-9dc2578fa7cc",
   "metadata": {},
   "outputs": [
    {
     "data": {
      "text/plain": [
       "(array([0, 1, 2, 3]),\n",
       " [Text(0, 0, 'Mailed check'),\n",
       "  Text(1, 0, 'Credit card (automatic)'),\n",
       "  Text(2, 0, 'Bank transfer (automatic)'),\n",
       "  Text(3, 0, 'Electronic check')])"
      ]
     },
     "execution_count": 258,
     "metadata": {},
     "output_type": "execute_result"
    },
    {
     "data": {
      "image/png": "[encoded data removed]",
      "text/plain": [
       "<Figure size 432x288 with 1 Axes>"
      ]
     },
     "metadata": {
      "needs_background": "light"
     },
     "output_type": "display_data"
    }
   ],
   "source": [
    "sns.countplot(data=train_df,x='PaymentMethod')\n",
    "plt.xticks(rotation=45, size=12)"
   ]
  },
  {
   "cell_type": "code",
   "execution_count": 260,
   "id": "d5d0b314-64b8-4912-9344-0b9373db9c4c",
   "metadata": {},
   "outputs": [
    {
     "data": {
      "text/plain": [
       "<AxesSubplot:xlabel='PaperlessBilling', ylabel='count'>"
      ]
     },
     "execution_count": 260,
     "metadata": {},
     "output_type": "execute_result"
    },
    {
     "data": {
      "image/png": "[encoded data removed]",
      "text/plain": [
       "<Figure size 432x288 with 1 Axes>"
      ]
     },
     "metadata": {
      "needs_background": "light"
     },
     "output_type": "display_data"
    }
   ],
   "source": [
    "sns.countplot(data=train_df,x='PaperlessBilling')"
   ]
  },
  {
   "cell_type": "code",
   "execution_count": 261,
   "id": "cc14154e-802a-4234-92f2-8520c4171a1f",
   "metadata": {},
   "outputs": [
    {
     "data": {
      "text/plain": [
       "(array([0, 1, 2, 3]),\n",
       " [Text(0, 0, 'Mailed check'),\n",
       "  Text(1, 0, 'Credit card (automatic)'),\n",
       "  Text(2, 0, 'Bank transfer (automatic)'),\n",
       "  Text(3, 0, 'Electronic check')])"
      ]
     },
     "execution_count": 261,
     "metadata": {},
     "output_type": "execute_result"
    },
    {
     "data": {
      "image/png": "[encoded data removed]",
      "text/plain": [
       "<Figure size 432x288 with 1 Axes>"
      ]
     },
     "metadata": {
      "needs_background": "light"
     },
     "output_type": "display_data"
    }
   ],
   "source": [
    "sns.countplot(data=train_df,x='PaymentMethod',hue='PaperlessBilling')\n",
    "plt.xticks(rotation=45, size=12)"
   ]
  },
  {
   "cell_type": "markdown",
   "id": "1b27fd4c-7402-4592-9343-acf0ce2eb746",
   "metadata": {},
   "source": [
    "**Observations:**\n",
    "  - Maximum customers have opted for **Electronic Check** as payment method with the company. Most of them have opted for **Paperless Billing** facility too.\n",
    "  - Customers opting for **Mailed check** do not prefer **Paperless Billing** as it may not be required.\n"
   ]
  },
  {
   "cell_type": "markdown",
   "id": "30672ed2-7556-46ec-9f00-1e1a5b2e788d",
   "metadata": {},
   "source": [
    "**\"Question 13: How does the Monthly Charges affect the Churn rate?\"** "
   ]
  },
  {
   "cell_type": "code",
   "execution_count": 263,
   "id": "dc1ebc59-448d-4238-9eb9-7ae68ecd5160",
   "metadata": {},
   "outputs": [
    {
     "data": {
      "text/plain": [
       "<seaborn.axisgrid.FacetGrid at 0x29c3d670>"
      ]
     },
     "execution_count": 263,
     "metadata": {},
     "output_type": "execute_result"
    },
    {
     "data": {
      "text/plain": [
       "<Figure size 720x648 with 0 Axes>"
      ]
     },
     "metadata": {},
     "output_type": "display_data"
    },
    {
     "data": {
      "image/png": "[encoded data removed]",
      "text/plain": [
       "<Figure size 412x360 with 1 Axes>"
      ]
     },
     "metadata": {
      "needs_background": "light"
     },
     "output_type": "display_data"
    }
   ],
   "source": [
    "# Creating a custom figure size of 15 X 7 inches\n",
    "figure = plt.figure(figsize=[10, 9])\n",
    "\n",
    "sns.displot(train_df, x = \"MonthlyCharges\", hue = \"Churn\", binwidth=18, multiple=\"dodge\")"
   ]
  },
  {
   "cell_type": "markdown",
   "id": "89ff3ff9-220b-4ca3-b5f6-7748f93ec8ee",
   "metadata": {},
   "source": [
    "**Observations:**\n",
    "  - We can observe that as the **Monthly Charges** increased from 20 there has been a rise in the Churn rate.\n",
    "  - Thus **MonthlyCharges** has a huge impact on Churn."
   ]
  },
  {
   "cell_type": "markdown",
   "id": "5a3b207f-cdba-44a0-a41e-028344ccf3aa",
   "metadata": {},
   "source": [
    "**\"Question 14: How does the TotalCharges affect the Churn rate?\"** "
   ]
  },
  {
   "cell_type": "code",
   "execution_count": 264,
   "id": "7151185b-b546-484a-971d-211e81dd594d",
   "metadata": {},
   "outputs": [
    {
     "data": {
      "text/plain": [
       "<seaborn.axisgrid.FacetGrid at 0x298c16d0>"
      ]
     },
     "execution_count": 264,
     "metadata": {},
     "output_type": "execute_result"
    },
    {
     "data": {
      "text/plain": [
       "<Figure size 720x864 with 0 Axes>"
      ]
     },
     "metadata": {},
     "output_type": "display_data"
    },
    {
     "data": {
      "image/png": "[encoded data removed]",
      "text/plain": [
       "<Figure size 412x360 with 1 Axes>"
      ]
     },
     "metadata": {
      "needs_background": "light"
     },
     "output_type": "display_data"
    }
   ],
   "source": [
    "# Creating a custom figure size of 15 X 7 inches\n",
    "figure = plt.figure(figsize=[10, 12])\n",
    "\n",
    "sns.displot(train_df, x = \"TotalCharges\", hue = \"Churn\", bins=10, multiple=\"dodge\")"
   ]
  },
  {
   "cell_type": "markdown",
   "id": "cfae4d03-855b-49ee-8fb1-0aa5aade6726",
   "metadata": {},
   "source": [
    "**Observations:**\n",
    "  - Customers having churn rate have usually lower annual charges. \n",
    "  - This shows that our data is imbalanced."
   ]
  },
  {
   "cell_type": "code",
   "execution_count": null,
   "id": "c81680a3-8c64-4bf3-bfca-f88606d17ba7",
   "metadata": {},
   "outputs": [],
   "source": []
  },
  {
   "cell_type": "markdown",
   "id": "cc7af6bf-11e6-428c-a05f-ddb7e51cf469",
   "metadata": {},
   "source": [
    "## **Data Transformation**\n",
    "\n",
    "- The **numerical** features of the dataset are being normalised using Standard Scaler.\n",
    "- The **categorical** features of the dataset are being label encoded for preparing for Regression."
   ]
  },
  {
   "cell_type": "markdown",
   "id": "82a5e7e1-4ca9-4a01-bb31-b710e656b73f",
   "metadata": {},
   "source": [
    "> Train Dataset"
   ]
  },
  {
   "cell_type": "code",
   "execution_count": 265,
   "id": "b8702652-b425-4da0-9c4f-d288a3f2c7a3",
   "metadata": {},
   "outputs": [
    {
     "data": {
      "text/plain": [
       "SeniorCitizen     1.836455\n",
       "MonthlyCharges   -0.223487\n",
       "TotalCharges      0.955299\n",
       "dtype: float64"
      ]
     },
     "execution_count": 265,
     "metadata": {},
     "output_type": "execute_result"
    }
   ],
   "source": [
    "from sklearn.preprocessing import StandardScaler\n",
    "\n",
    "\n",
    "num_cols = train_df.select_dtypes(exclude = np.object)\n",
    "# define standard scaler\n",
    "scaler = StandardScaler()\n",
    "# transform data\n",
    "train_df[num_cols.columns] = scaler.fit_transform(num_cols)\n",
    "# print(scaled)\n",
    "train_df.skew()"
   ]
  },
  {
   "cell_type": "code",
   "execution_count": 266,
   "id": "551e83b8-377a-4101-8580-b9713043cd6e",
   "metadata": {},
   "outputs": [],
   "source": [
    "le = LabelEncoder()\n",
    "\n",
    "Cat_cols = train_df.select_dtypes(include = np.object)\n",
    "Cat_cols\n",
    "\n",
    "for i in Cat_cols.columns:\n",
    "  train_df[i] = le.fit_transform(train_df[i])"
   ]
  },
  {
   "cell_type": "code",
   "execution_count": 267,
   "id": "69b554ec-ef50-47d1-8f47-fd712bd74eb0",
   "metadata": {},
   "outputs": [
    {
     "data": {
      "text/plain": [
       "0    4113\n",
       "1    1521\n",
       "Name: Churn, dtype: int64"
      ]
     },
     "execution_count": 267,
     "metadata": {},
     "output_type": "execute_result"
    }
   ],
   "source": [
    "train_df['Churn'].value_counts()"
   ]
  },
  {
   "cell_type": "markdown",
   "id": "bf643984-6147-4bb0-8b8f-eb082f346557",
   "metadata": {},
   "source": [
    "> Test Dataset"
   ]
  },
  {
   "cell_type": "code",
   "execution_count": 268,
   "id": "1c3217b4-0136-492c-a929-60e83f7b9788",
   "metadata": {},
   "outputs": [
    {
     "data": {
      "text/plain": [
       "SeniorCitizen     1.824350\n",
       "MonthlyCharges   -0.208853\n",
       "TotalCharges      0.991778\n",
       "dtype: float64"
      ]
     },
     "execution_count": 268,
     "metadata": {},
     "output_type": "execute_result"
    }
   ],
   "source": [
    "from sklearn.preprocessing import StandardScaler\n",
    "\n",
    "\n",
    "num_cols = test_df.select_dtypes(exclude = np.object)\n",
    "# define standard scaler\n",
    "scaler = StandardScaler()\n",
    "# transform data\n",
    "test_df[num_cols.columns] = scaler.fit_transform(num_cols)\n",
    "# print(scaled)\n",
    "test_df.skew()"
   ]
  },
  {
   "cell_type": "code",
   "execution_count": 269,
   "id": "f0f1884d-4b3b-4414-8a49-a6519c9078c4",
   "metadata": {},
   "outputs": [],
   "source": [
    "le = LabelEncoder()\n",
    "\n",
    "Cat_cols = test_df.select_dtypes(include = np.object)\n",
    "Cat_cols\n",
    "\n",
    "for i in Cat_cols.columns:\n",
    "  test_df[i] = le.fit_transform(test_df[i])"
   ]
  },
  {
   "cell_type": "code",
   "execution_count": 270,
   "id": "acb0b442-5b5f-4feb-bbc9-f6bd05b1f738",
   "metadata": {},
   "outputs": [
    {
     "data": {
      "text/plain": [
       "0    965\n",
       "1    444\n",
       "Name: Dependents, dtype: int64"
      ]
     },
     "execution_count": 270,
     "metadata": {},
     "output_type": "execute_result"
    }
   ],
   "source": [
    "test_df['Dependents'].value_counts()"
   ]
  },
  {
   "cell_type": "markdown",
   "id": "baebea2f-6c8f-4a8f-a6d6-8c395894657f",
   "metadata": {},
   "source": [
    "# **Evaluating the Model**"
   ]
  },
  {
   "cell_type": "markdown",
   "id": "a5ab080a-eacd-4333-9cf5-2c6c85dd1bc7",
   "metadata": {},
   "source": [
    "> Evaluating the model for the **train_df** dataset"
   ]
  },
  {
   "cell_type": "code",
   "execution_count": 271,
   "id": "607883af-c12e-4179-891c-2d0ddf4e76be",
   "metadata": {},
   "outputs": [],
   "source": [
    "X = train_df.drop(['Churn'],axis =1)\n",
    "Y = train_df['Churn']"
   ]
  },
  {
   "cell_type": "code",
   "execution_count": 272,
   "id": "2f6eff4f-e875-4a77-96f1-c3f374bddf46",
   "metadata": {},
   "outputs": [
    {
     "name": "stdout",
     "output_type": "stream",
     "text": [
      "Training Data Shape: (4507, 20) (4507,)\n",
      "Testing Data Shape: (1127, 20) (1127,)\n"
     ]
    }
   ],
   "source": [
    "X_train, X_test, y_train, y_test = train_test_split(X, Y, test_size = 0.2, random_state = 42)\n",
    "\n",
    "print('Training Data Shape:', X_train.shape, y_train.shape)\n",
    "print('Testing Data Shape:', X_test.shape, y_test.shape)"
   ]
  },
  {
   "cell_type": "markdown",
   "id": "3e4b1639-ec9f-463d-90be-d4ca38d75b19",
   "metadata": {},
   "source": [
    "## Logistic Regression - Baseline Model"
   ]
  },
  {
   "cell_type": "code",
   "execution_count": 273,
   "id": "74d6b787-1eda-4065-9ae9-66bd43f5914e",
   "metadata": {},
   "outputs": [
    {
     "data": {
      "text/plain": [
       "LogisticRegression()"
      ]
     },
     "execution_count": 273,
     "metadata": {},
     "output_type": "execute_result"
    }
   ],
   "source": [
    "logreg = LogisticRegression()\n",
    "logreg.fit(X_train,y_train)"
   ]
  },
  {
   "cell_type": "markdown",
   "id": "cfcb180e-3ac5-4c22-af9a-42f2561c159d",
   "metadata": {},
   "source": [
    "## Using Trained Model for Prediction"
   ]
  },
  {
   "cell_type": "code",
   "execution_count": 274,
   "id": "eb320cd6-f4e6-423d-87e3-67bb49b9e633",
   "metadata": {},
   "outputs": [],
   "source": [
    "ytrain_pred = logreg.predict(X_train)"
   ]
  },
  {
   "cell_type": "markdown",
   "id": "e3bac572-6bfa-437e-856f-ac40a06deb99",
   "metadata": {},
   "source": [
    "## Checking Confusion Matrix"
   ]
  },
  {
   "cell_type": "code",
   "execution_count": 282,
   "id": "ad6f1f23-b85c-49a7-b8f7-ae5dc0155b9a",
   "metadata": {},
   "outputs": [
    {
     "name": "stdout",
     "output_type": "stream",
     "text": [
      "                    Predicted Not Churned  Predicted Churned\n",
      "Actual Not Churned                   2948                337\n",
      "Actual Churned                        592                630\n"
     ]
    }
   ],
   "source": [
    "cnf_M = pd.DataFrame(confusion_matrix(y_train, ytrain_pred))\n",
    "cnf_M.index = ['Actual Not Churned','Actual Churned']\n",
    "cnf_M.columns = ['Predicted Not Churned','Predicted Churned']\n",
    "print(cnf_M)"
   ]
  },
  {
   "cell_type": "code",
   "execution_count": 283,
   "id": "daec76f7-1893-49e9-b44f-05172101b8dc",
   "metadata": {},
   "outputs": [
    {
     "name": "stdout",
     "output_type": "stream",
     "text": [
      "Accuracy score for train data is: 0.7938761925893055\n"
     ]
    }
   ],
   "source": [
    "print('Accuracy score for train data is:', accuracy_score(y_train, ytrain_pred))"
   ]
  },
  {
   "cell_type": "markdown",
   "id": "f372bd79-c7fa-4649-9adf-268c8635ed9d",
   "metadata": {},
   "source": [
    "## Applying the Train Model to the Test Dataset"
   ]
  },
  {
   "cell_type": "code",
   "execution_count": 277,
   "id": "7bdfb184-3456-40cf-910f-8a51ae93f467",
   "metadata": {},
   "outputs": [
    {
     "data": {
      "text/plain": [
       "array([0, 0, 0, ..., 0, 0, 1])"
      ]
     },
     "execution_count": 277,
     "metadata": {},
     "output_type": "execute_result"
    }
   ],
   "source": [
    "ypred = logreg.predict(test_df)\n",
    "ypred"
   ]
  },
  {
   "cell_type": "code",
   "execution_count": 278,
   "id": "6fcceb9f-0998-45c0-8494-2171f7a12a03",
   "metadata": {},
   "outputs": [
    {
     "data": {
      "text/plain": [
       "1409"
      ]
     },
     "execution_count": 278,
     "metadata": {},
     "output_type": "execute_result"
    }
   ],
   "source": [
    "ypred.shape[0]"
   ]
  },
  {
   "cell_type": "code",
   "execution_count": 279,
   "id": "cb182a1e-5828-4a59-945c-3e8dd31c8915",
   "metadata": {},
   "outputs": [
    {
     "data": {
      "text/html": [
       "<div>\n",
       "<style scoped>\n",
       "    .dataframe tbody tr th:only-of-type {\n",
       "        vertical-align: middle;\n",
       "    }\n",
       "\n",
       "    .dataframe tbody tr th {\n",
       "        vertical-align: top;\n",
       "    }\n",
       "\n",
       "    .dataframe thead th {\n",
       "        text-align: right;\n",
       "    }\n",
       "</style>\n",
       "<table border=\"1\" class=\"dataframe\">\n",
       "  <thead>\n",
       "    <tr style=\"text-align: right;\">\n",
       "      <th></th>\n",
       "      <th>ID</th>\n",
       "      <th>ChurnPred</th>\n",
       "    </tr>\n",
       "  </thead>\n",
       "  <tbody>\n",
       "    <tr>\n",
       "      <th>0</th>\n",
       "      <td>8879-ZKJOF</td>\n",
       "      <td>No</td>\n",
       "    </tr>\n",
       "    <tr>\n",
       "      <th>1</th>\n",
       "      <td>0201-MIBOL</td>\n",
       "      <td>No</td>\n",
       "    </tr>\n",
       "    <tr>\n",
       "      <th>2</th>\n",
       "      <td>1600-DILPE</td>\n",
       "      <td>No</td>\n",
       "    </tr>\n",
       "    <tr>\n",
       "      <th>3</th>\n",
       "      <td>8601-QACRS</td>\n",
       "      <td>Yes</td>\n",
       "    </tr>\n",
       "    <tr>\n",
       "      <th>4</th>\n",
       "      <td>7919-ZODZZ</td>\n",
       "      <td>No</td>\n",
       "    </tr>\n",
       "  </tbody>\n",
       "</table>\n",
       "</div>"
      ],
      "text/plain": [
       "           ID ChurnPred\n",
       "0  8879-ZKJOF        No\n",
       "1  0201-MIBOL        No\n",
       "2  1600-DILPE        No\n",
       "3  8601-QACRS       Yes\n",
       "4  7919-ZODZZ        No"
      ]
     },
     "execution_count": 279,
     "metadata": {},
     "output_type": "execute_result"
    }
   ],
   "source": [
    "smpl_Col = [\"ID\", \"Churn\"]\n",
    "sample = pd.read_csv(filepath_or_buffer = 'https://raw.githubusercontent.com/sm24abr/Data_Repo/main/TeleChurnPred/sample_submission.csv', names = smpl_Col, header = None)\n",
    "prd = pd.DataFrame(data = ypred)\n",
    "prd.columns = [\"ChurnPred\"]\n",
    "prd = prd.replace(0, 'No').replace(1,'Yes')\n",
    "sample\n",
    "finaldf = pd.concat([sample['ID'],prd],axis = 1)\n",
    "finaldf.head()\n",
    "# # prd\n",
    "finaldf.to_csv('submission.csv',header = None, index = False)\n",
    "finaldf.head()"
   ]
  },
  {
   "cell_type": "markdown",
   "id": "6b4d4d90-87fd-41d8-a235-8d74c7ae4c3f",
   "metadata": {},
   "source": [
    "# Conclusion:\n",
    "- We **studied in breifly about the data**, its **characteristics** and its **distribution**.\n",
    "​\n",
    "- We **explored** some **questions related** to Customer Churn and not Churn.\n",
    "​\n",
    "- We **investigated in depth about the features** which to **retain** and which to **discard**.\n",
    "​\n",
    "- We **performed model training**.\n",
    "​\n",
    "- We **observed metrics for our prediction**. The Accuracy score came out to be **0.79**.\n",
    "​\n",
    "- This **model** now can **help us** in **identifying** which customers Churned and not Churned."
   ]
  }
 ],
 "metadata": {
  "kernelspec": {
   "display_name": "Python 3",
   "language": "python",
   "name": "python3"
  },
  "language_info": {
   "codemirror_mode": {
    "name": "ipython",
    "version": 3
   },
   "file_extension": ".py",
   "mimetype": "text/x-python",
   "name": "python",
   "nbconvert_exporter": "python",
   "pygments_lexer": "ipython3",
   "version": "3.8.8"
  }
 },
 "nbformat": 4,
 "nbformat_minor": 5
}
